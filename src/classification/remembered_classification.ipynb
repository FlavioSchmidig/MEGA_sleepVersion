{
 "cells": [
  {
   "cell_type": "code",
   "execution_count": 1,
   "metadata": {
    "collapsed": true,
    "ExecuteTime": {
     "end_time": "2023-07-30T16:34:18.430456300Z",
     "start_time": "2023-07-30T16:34:18.262333900Z"
    }
   },
   "outputs": [],
   "source": [
    "import pandas as pd\n",
    "from matplotlib import pyplot as plt\n",
    "import numpy as np\n",
    "from sklearn.decomposition import PCA\n",
    "import os\n",
    "from src import config"
   ]
  },
  {
   "cell_type": "code",
   "execution_count": 2,
   "outputs": [],
   "source": [
    "features_df = pd.read_pickle(os.path.join(config.classification_resource_dir, \"remembered_features_df.pkl\"))\n",
    "labels_df = pd.read_pickle(os.path.join(config.classification_resource_dir, \"remembered_labels_df.pkl\"))"
   ],
   "metadata": {
    "collapsed": false,
    "ExecuteTime": {
     "end_time": "2023-07-30T16:34:18.446925100Z",
     "start_time": "2023-07-30T16:34:18.431453100Z"
    }
   }
  },
  {
   "cell_type": "code",
   "execution_count": 3,
   "outputs": [],
   "source": [
    "# Remove all the features that are not contains 'DVA' in their name\n",
    "features_df = features_df.loc[:, ~features_df.columns.str.contains('Post')]"
   ],
   "metadata": {
    "collapsed": false,
    "ExecuteTime": {
     "end_time": "2023-07-30T16:34:18.476564800Z",
     "start_time": "2023-07-30T16:34:18.448923Z"
    }
   }
  },
  {
   "cell_type": "code",
   "execution_count": 4,
   "outputs": [
    {
     "data": {
      "text/plain": "   Gaze_Counts_In_RoI_Pre  Gaze_Counts_Out_RoI_Pre  Gaze_In_out_RoI_Ratio_Pre  \\\n0                   362.0                   2846.0                   0.127196   \n1                     0.0                   3152.0                   0.000000   \n2                     2.0                   4483.0                   0.000446   \n3                   315.0                   1532.0                   0.205614   \n4                    46.0                   5305.0                   0.008671   \n\n   Gaze_Re_Entries_To_RoI_Count_Pre  Gaze_Re_Entries_To_RoI_Rate_Pre  \\\n0                               1.0                         0.151906   \n1                               0.0                         0.000000   \n2                               1.0                         0.110607   \n3                               3.0                         0.778413   \n4                               5.0                         0.449738   \n\n   Fixations_Counts_In_RoI_Pre  Fixations_Counts_Out_RoI_Pre  \\\n0                          2.0                          19.0   \n1                          0.0                          24.0   \n2                          0.0                          35.0   \n3                          3.0                          11.0   \n4                          0.0                          38.0   \n\n   Fixations_In_out_RoI_Ratio_Pre  Fixations_Re_Entries_To_RoI_Count_Pre  \\\n0                        0.105263                                    1.0   \n1                        0.000000                                    0.0   \n2                        0.000000                                    0.0   \n3                        0.272727                                    3.0   \n4                        0.000000                                    0.0   \n\n   Fixations_Re_Entries_To_RoI_Rate_Pre  ...  DVA_Min_Gaze_Pre  \\\n0                              0.151906  ...          1.913310   \n1                              0.000000  ...          4.869337   \n2                              0.000000  ...          8.500427   \n3                              0.778413  ...          3.685488   \n4                              0.000000  ...          2.423086   \n\n   DVA_Sem_Gaze_Pre  DVA_AUC_Gaze_Pre  DVA_Mean_Fixations_Pre  \\\n0          0.074887      38533.936397               12.057026   \n1          0.076843      62401.639611               19.537556   \n2          0.078080      89362.852438               19.794390   \n3          0.151934      24273.412186               12.700200   \n4          0.027103      53351.891042                9.843929   \n\n   DVA_Median_Fixations_Pre  DVA_Std_Fixations_Pre  DVA_Max_Fixations_Pre  \\\n0                 11.984912               4.129754              18.892626   \n1                 20.318455               4.455147              24.529186   \n2                 19.715767               5.647210              32.227261   \n3                 12.919455               6.805681              31.443375   \n4                  9.456629               1.984475              14.161600   \n\n   DVA_Min_Fixations_Pre  DVA_Sem_Fixations_Pre  DVA_AUC_Fixations_Pre  \n0               2.158016               0.901186             253.197545  \n1               5.800678               0.909403             468.901337  \n2               8.632164               0.954553             692.803662  \n3               4.121637               1.818895             177.802803  \n4               6.530041               0.321924             374.069321  \n\n[5 rows x 73 columns]",
      "text/html": "<div>\n<style scoped>\n    .dataframe tbody tr th:only-of-type {\n        vertical-align: middle;\n    }\n\n    .dataframe tbody tr th {\n        vertical-align: top;\n    }\n\n    .dataframe thead th {\n        text-align: right;\n    }\n</style>\n<table border=\"1\" class=\"dataframe\">\n  <thead>\n    <tr style=\"text-align: right;\">\n      <th></th>\n      <th>Gaze_Counts_In_RoI_Pre</th>\n      <th>Gaze_Counts_Out_RoI_Pre</th>\n      <th>Gaze_In_out_RoI_Ratio_Pre</th>\n      <th>Gaze_Re_Entries_To_RoI_Count_Pre</th>\n      <th>Gaze_Re_Entries_To_RoI_Rate_Pre</th>\n      <th>Fixations_Counts_In_RoI_Pre</th>\n      <th>Fixations_Counts_Out_RoI_Pre</th>\n      <th>Fixations_In_out_RoI_Ratio_Pre</th>\n      <th>Fixations_Re_Entries_To_RoI_Count_Pre</th>\n      <th>Fixations_Re_Entries_To_RoI_Rate_Pre</th>\n      <th>...</th>\n      <th>DVA_Min_Gaze_Pre</th>\n      <th>DVA_Sem_Gaze_Pre</th>\n      <th>DVA_AUC_Gaze_Pre</th>\n      <th>DVA_Mean_Fixations_Pre</th>\n      <th>DVA_Median_Fixations_Pre</th>\n      <th>DVA_Std_Fixations_Pre</th>\n      <th>DVA_Max_Fixations_Pre</th>\n      <th>DVA_Min_Fixations_Pre</th>\n      <th>DVA_Sem_Fixations_Pre</th>\n      <th>DVA_AUC_Fixations_Pre</th>\n    </tr>\n  </thead>\n  <tbody>\n    <tr>\n      <th>0</th>\n      <td>362.0</td>\n      <td>2846.0</td>\n      <td>0.127196</td>\n      <td>1.0</td>\n      <td>0.151906</td>\n      <td>2.0</td>\n      <td>19.0</td>\n      <td>0.105263</td>\n      <td>1.0</td>\n      <td>0.151906</td>\n      <td>...</td>\n      <td>1.913310</td>\n      <td>0.074887</td>\n      <td>38533.936397</td>\n      <td>12.057026</td>\n      <td>11.984912</td>\n      <td>4.129754</td>\n      <td>18.892626</td>\n      <td>2.158016</td>\n      <td>0.901186</td>\n      <td>253.197545</td>\n    </tr>\n    <tr>\n      <th>1</th>\n      <td>0.0</td>\n      <td>3152.0</td>\n      <td>0.000000</td>\n      <td>0.0</td>\n      <td>0.000000</td>\n      <td>0.0</td>\n      <td>24.0</td>\n      <td>0.000000</td>\n      <td>0.0</td>\n      <td>0.000000</td>\n      <td>...</td>\n      <td>4.869337</td>\n      <td>0.076843</td>\n      <td>62401.639611</td>\n      <td>19.537556</td>\n      <td>20.318455</td>\n      <td>4.455147</td>\n      <td>24.529186</td>\n      <td>5.800678</td>\n      <td>0.909403</td>\n      <td>468.901337</td>\n    </tr>\n    <tr>\n      <th>2</th>\n      <td>2.0</td>\n      <td>4483.0</td>\n      <td>0.000446</td>\n      <td>1.0</td>\n      <td>0.110607</td>\n      <td>0.0</td>\n      <td>35.0</td>\n      <td>0.000000</td>\n      <td>0.0</td>\n      <td>0.000000</td>\n      <td>...</td>\n      <td>8.500427</td>\n      <td>0.078080</td>\n      <td>89362.852438</td>\n      <td>19.794390</td>\n      <td>19.715767</td>\n      <td>5.647210</td>\n      <td>32.227261</td>\n      <td>8.632164</td>\n      <td>0.954553</td>\n      <td>692.803662</td>\n    </tr>\n    <tr>\n      <th>3</th>\n      <td>315.0</td>\n      <td>1532.0</td>\n      <td>0.205614</td>\n      <td>3.0</td>\n      <td>0.778413</td>\n      <td>3.0</td>\n      <td>11.0</td>\n      <td>0.272727</td>\n      <td>3.0</td>\n      <td>0.778413</td>\n      <td>...</td>\n      <td>3.685488</td>\n      <td>0.151934</td>\n      <td>24273.412186</td>\n      <td>12.700200</td>\n      <td>12.919455</td>\n      <td>6.805681</td>\n      <td>31.443375</td>\n      <td>4.121637</td>\n      <td>1.818895</td>\n      <td>177.802803</td>\n    </tr>\n    <tr>\n      <th>4</th>\n      <td>46.0</td>\n      <td>5305.0</td>\n      <td>0.008671</td>\n      <td>5.0</td>\n      <td>0.449738</td>\n      <td>0.0</td>\n      <td>38.0</td>\n      <td>0.000000</td>\n      <td>0.0</td>\n      <td>0.000000</td>\n      <td>...</td>\n      <td>2.423086</td>\n      <td>0.027103</td>\n      <td>53351.891042</td>\n      <td>9.843929</td>\n      <td>9.456629</td>\n      <td>1.984475</td>\n      <td>14.161600</td>\n      <td>6.530041</td>\n      <td>0.321924</td>\n      <td>374.069321</td>\n    </tr>\n  </tbody>\n</table>\n<p>5 rows × 73 columns</p>\n</div>"
     },
     "execution_count": 4,
     "metadata": {},
     "output_type": "execute_result"
    }
   ],
   "source": [
    "features_df.head()"
   ],
   "metadata": {
    "collapsed": false,
    "ExecuteTime": {
     "end_time": "2023-07-30T16:34:18.496023900Z",
     "start_time": "2023-07-30T16:34:18.465392800Z"
    }
   }
  },
  {
   "cell_type": "code",
   "execution_count": 5,
   "outputs": [
    {
     "name": "stdout",
     "output_type": "stream",
     "text": [
      "<class 'pandas.core.frame.DataFrame'>\n",
      "RangeIndex: 5232 entries, 0 to 5231\n",
      "Data columns (total 73 columns):\n",
      " #   Column                                        Non-Null Count  Dtype  \n",
      "---  ------                                        --------------  -----  \n",
      " 0   Gaze_Counts_In_RoI_Pre                        5101 non-null   float64\n",
      " 1   Gaze_Counts_Out_RoI_Pre                       5101 non-null   float64\n",
      " 2   Gaze_In_out_RoI_Ratio_Pre                     5101 non-null   float64\n",
      " 3   Gaze_Re_Entries_To_RoI_Count_Pre              5101 non-null   float64\n",
      " 4   Gaze_Re_Entries_To_RoI_Rate_Pre               5101 non-null   float64\n",
      " 5   Fixations_Counts_In_RoI_Pre                   5101 non-null   float64\n",
      " 6   Fixations_Counts_Out_RoI_Pre                  5101 non-null   float64\n",
      " 7   Fixations_In_out_RoI_Ratio_Pre                5101 non-null   float64\n",
      " 8   Fixations_Re_Entries_To_RoI_Count_Pre         5101 non-null   float64\n",
      " 9   Fixations_Re_Entries_To_RoI_Rate_Pre          5101 non-null   float64\n",
      " 10  onset_Fixations_First_In_RoI_Pre              4539 non-null   float64\n",
      " 11  Duration_Fixations_First_In_RoI_Pre           4539 non-null   float64\n",
      " 12  onset_Mean_Fixations_In_RoI_Pre               4539 non-null   float64\n",
      " 13  onset_Median_Fixations_In_RoI_Pre             4539 non-null   float64\n",
      " 14  onset_Std_Fixations_In_RoI_Pre                4539 non-null   float64\n",
      " 15  onset_Max_Fixations_In_RoI_Pre                4539 non-null   float64\n",
      " 16  Duration_Max_Fixations_In_RoI_Pre             4539 non-null   float64\n",
      " 17  onset_Min_Fixations_In_RoI_Pre                4539 non-null   float64\n",
      " 18  Duration_Min_Fixations_In_RoI_Pre             4539 non-null   float64\n",
      " 19  onset_Sem_Fixations_In_RoI_Pre                4539 non-null   float64\n",
      " 20  onset_AUC_Fixations_In_RoI_Pre                4539 non-null   float64\n",
      " 21  Pupil radius_Fixations_First_Diff_Pre         4211 non-null   float64\n",
      " 22  Pupil radius_Fixations_ReEntry_Mean_Diff_Pre  4211 non-null   float64\n",
      " 23  Saccades_Start_Counts_In_RoI_Pre              5101 non-null   float64\n",
      " 24  Saccades_Start_Counts_Out_RoI_Pre             5101 non-null   float64\n",
      " 25  Saccades_Start_In_out_RoI_Ratio_Pre           5101 non-null   float64\n",
      " 26  Saccades_End_Counts_In_RoI_Pre                5101 non-null   float64\n",
      " 27  Saccades_End_Counts_Out_RoI_Pre               5101 non-null   float64\n",
      " 28  Saccades_End_In_out_RoI_Ratio_Pre             5101 non-null   float64\n",
      " 29  last_onset_Saccades_End_First_In_RoI_Pre      4607 non-null   float64\n",
      " 30  Duration_Saccades_End_First_In_RoI_Pre        4607 non-null   float64\n",
      " 31  vis_angle_Saccades_End_First_In_RoI_Pre       4607 non-null   float64\n",
      " 32  peak_velocity_Saccades_End_First_In_RoI_Pre   4607 non-null   float64\n",
      " 33  onset_Mean_Saccades_Start_In_RoI_Pre          4457 non-null   float64\n",
      " 34  onset_Median_Saccades_Start_In_RoI_Pre        4457 non-null   float64\n",
      " 35  onset_Std_Saccades_Start_In_RoI_Pre           4457 non-null   float64\n",
      " 36  onset_Max_Saccades_Start_In_RoI_Pre           4457 non-null   float64\n",
      " 37  Duration_Max_Saccades_Start_In_RoI_Pre        4457 non-null   float64\n",
      " 38  vis_angle_Max_Saccades_Start_In_RoI_Pre       4457 non-null   float64\n",
      " 39  peak_velocity_Max_Saccades_Start_In_RoI_Pre   4457 non-null   float64\n",
      " 40  onset_Min_Saccades_Start_In_RoI_Pre           4457 non-null   float64\n",
      " 41  Duration_Min_Saccades_Start_In_RoI_Pre        4457 non-null   float64\n",
      " 42  vis_angle_Min_Saccades_Start_In_RoI_Pre       4457 non-null   float64\n",
      " 43  peak_velocity_Min_Saccades_Start_In_RoI_Pre   4457 non-null   float64\n",
      " 44  onset_Sem_Saccades_Start_In_RoI_Pre           4457 non-null   float64\n",
      " 45  onset_AUC_Saccades_Start_In_RoI_Pre           4457 non-null   float64\n",
      " 46  last_onset_Mean_Saccades_End_In_RoI_Pre       4607 non-null   float64\n",
      " 47  last_onset_Median_Saccades_End_In_RoI_Pre     4607 non-null   float64\n",
      " 48  last_onset_Std_Saccades_End_In_RoI_Pre        4607 non-null   float64\n",
      " 49  last_onset_Max_Saccades_End_In_RoI_Pre        4607 non-null   float64\n",
      " 50  Duration_Max_Saccades_End_In_RoI_Pre          4607 non-null   float64\n",
      " 51  vis_angle_Max_Saccades_End_In_RoI_Pre         4607 non-null   float64\n",
      " 52  peak_velocity_Max_Saccades_End_In_RoI_Pre     4607 non-null   float64\n",
      " 53  last_onset_Min_Saccades_End_In_RoI_Pre        4607 non-null   float64\n",
      " 54  Duration_Min_Saccades_End_In_RoI_Pre          4607 non-null   float64\n",
      " 55  vis_angle_Min_Saccades_End_In_RoI_Pre         4607 non-null   float64\n",
      " 56  peak_velocity_Min_Saccades_End_In_RoI_Pre     4607 non-null   float64\n",
      " 57  last_onset_Sem_Saccades_End_In_RoI_Pre        4607 non-null   float64\n",
      " 58  last_onset_AUC_Saccades_End_In_RoI_Pre        4607 non-null   float64\n",
      " 59  DVA_Mean_Gaze_Pre                             5099 non-null   float64\n",
      " 60  DVA_Median_Gaze_Pre                           5099 non-null   float64\n",
      " 61  DVA_Std_Gaze_Pre                              5099 non-null   float64\n",
      " 62  DVA_Max_Gaze_Pre                              5099 non-null   float64\n",
      " 63  DVA_Min_Gaze_Pre                              5099 non-null   float64\n",
      " 64  DVA_Sem_Gaze_Pre                              5099 non-null   float64\n",
      " 65  DVA_AUC_Gaze_Pre                              5099 non-null   float64\n",
      " 66  DVA_Mean_Fixations_Pre                        5099 non-null   float64\n",
      " 67  DVA_Median_Fixations_Pre                      5099 non-null   float64\n",
      " 68  DVA_Std_Fixations_Pre                         5093 non-null   float64\n",
      " 69  DVA_Max_Fixations_Pre                         5099 non-null   float64\n",
      " 70  DVA_Min_Fixations_Pre                         5099 non-null   float64\n",
      " 71  DVA_Sem_Fixations_Pre                         5093 non-null   float64\n",
      " 72  DVA_AUC_Fixations_Pre                         5099 non-null   float64\n",
      "dtypes: float64(73)\n",
      "memory usage: 2.9 MB\n"
     ]
    }
   ],
   "source": [
    "features_df.info()"
   ],
   "metadata": {
    "collapsed": false,
    "ExecuteTime": {
     "end_time": "2023-07-30T16:34:18.534449600Z",
     "start_time": "2023-07-30T16:34:18.495026700Z"
    }
   }
  },
  {
   "cell_type": "markdown",
   "source": [],
   "metadata": {
    "collapsed": false
   }
  },
  {
   "cell_type": "code",
   "execution_count": 6,
   "outputs": [
    {
     "data": {
      "text/plain": "           Session\nseries_id         \n0                0\n1                0\n2                1\n3                1\n4                1",
      "text/html": "<div>\n<style scoped>\n    .dataframe tbody tr th:only-of-type {\n        vertical-align: middle;\n    }\n\n    .dataframe tbody tr th {\n        vertical-align: top;\n    }\n\n    .dataframe thead th {\n        text-align: right;\n    }\n</style>\n<table border=\"1\" class=\"dataframe\">\n  <thead>\n    <tr style=\"text-align: right;\">\n      <th></th>\n      <th>Session</th>\n    </tr>\n    <tr>\n      <th>series_id</th>\n      <th></th>\n    </tr>\n  </thead>\n  <tbody>\n    <tr>\n      <th>0</th>\n      <td>0</td>\n    </tr>\n    <tr>\n      <th>1</th>\n      <td>0</td>\n    </tr>\n    <tr>\n      <th>2</th>\n      <td>1</td>\n    </tr>\n    <tr>\n      <th>3</th>\n      <td>1</td>\n    </tr>\n    <tr>\n      <th>4</th>\n      <td>1</td>\n    </tr>\n  </tbody>\n</table>\n</div>"
     },
     "execution_count": 6,
     "metadata": {},
     "output_type": "execute_result"
    }
   ],
   "source": [
    "labels_df.head()"
   ],
   "metadata": {
    "collapsed": false,
    "ExecuteTime": {
     "end_time": "2023-07-30T16:34:18.554421300Z",
     "start_time": "2023-07-30T16:34:18.513982700Z"
    }
   }
  },
  {
   "cell_type": "code",
   "execution_count": 7,
   "outputs": [
    {
     "name": "stdout",
     "output_type": "stream",
     "text": [
      "<class 'pandas.core.frame.DataFrame'>\n",
      "Int64Index: 5232 entries, 0 to 5231\n",
      "Data columns (total 1 columns):\n",
      " #   Column   Non-Null Count  Dtype\n",
      "---  ------   --------------  -----\n",
      " 0   Session  5232 non-null   int32\n",
      "dtypes: int32(1)\n",
      "memory usage: 61.3 KB\n"
     ]
    }
   ],
   "source": [
    "labels_df.info()"
   ],
   "metadata": {
    "collapsed": false,
    "ExecuteTime": {
     "end_time": "2023-07-30T16:34:18.602815600Z",
     "start_time": "2023-07-30T16:34:18.529464100Z"
    }
   }
  },
  {
   "cell_type": "markdown",
   "source": [
    "Data Cleaning"
   ],
   "metadata": {
    "collapsed": false
   }
  },
  {
   "cell_type": "markdown",
   "source": [
    "how many missing values are there in each column? show the top 10"
   ],
   "metadata": {
    "collapsed": false
   }
  },
  {
   "cell_type": "code",
   "execution_count": 8,
   "outputs": [
    {
     "data": {
      "text/plain": "Pupil radius_Fixations_First_Diff_Pre           1021\nPupil radius_Fixations_ReEntry_Mean_Diff_Pre    1021\nonset_Max_Saccades_Start_In_RoI_Pre              775\nonset_Median_Saccades_Start_In_RoI_Pre           775\nonset_Mean_Saccades_Start_In_RoI_Pre             775\nDuration_Max_Saccades_Start_In_RoI_Pre           775\nvis_angle_Max_Saccades_Start_In_RoI_Pre          775\npeak_velocity_Max_Saccades_Start_In_RoI_Pre      775\nonset_Min_Saccades_Start_In_RoI_Pre              775\nDuration_Min_Saccades_Start_In_RoI_Pre           775\ndtype: int64"
     },
     "execution_count": 8,
     "metadata": {},
     "output_type": "execute_result"
    }
   ],
   "source": [
    "features_df.isna().sum(axis=0).sort_values(ascending=False).head(10)"
   ],
   "metadata": {
    "collapsed": false,
    "ExecuteTime": {
     "end_time": "2023-07-30T16:34:18.642747900Z",
     "start_time": "2023-07-30T16:34:18.542944800Z"
    }
   }
  },
  {
   "cell_type": "markdown",
   "source": [
    "Remove columns with more than 30% missing values"
   ],
   "metadata": {
    "collapsed": false
   }
  },
  {
   "cell_type": "code",
   "execution_count": 9,
   "outputs": [],
   "source": [
    "features_df = features_df.loc[:, features_df.isna().sum(axis=0) < 0.3 * features_df.shape[0]]"
   ],
   "metadata": {
    "collapsed": false,
    "ExecuteTime": {
     "end_time": "2023-07-30T16:34:18.680165100Z",
     "start_time": "2023-07-30T16:34:18.556418Z"
    }
   }
  },
  {
   "cell_type": "code",
   "execution_count": 10,
   "outputs": [
    {
     "data": {
      "text/plain": "Pupil radius_Fixations_First_Diff_Pre           1021\nPupil radius_Fixations_ReEntry_Mean_Diff_Pre    1021\nonset_Max_Saccades_Start_In_RoI_Pre              775\nonset_Median_Saccades_Start_In_RoI_Pre           775\nonset_Mean_Saccades_Start_In_RoI_Pre             775\nDuration_Max_Saccades_Start_In_RoI_Pre           775\nvis_angle_Max_Saccades_Start_In_RoI_Pre          775\npeak_velocity_Max_Saccades_Start_In_RoI_Pre      775\nonset_Min_Saccades_Start_In_RoI_Pre              775\nDuration_Min_Saccades_Start_In_RoI_Pre           775\ndtype: int64"
     },
     "execution_count": 10,
     "metadata": {},
     "output_type": "execute_result"
    }
   ],
   "source": [
    "features_df.isna().sum(axis=0).sort_values(ascending=False).head(10)"
   ],
   "metadata": {
    "collapsed": false,
    "ExecuteTime": {
     "end_time": "2023-07-30T16:34:18.680165100Z",
     "start_time": "2023-07-30T16:34:18.572381200Z"
    }
   }
  },
  {
   "cell_type": "markdown",
   "source": [
    "how many missing values are there in each row? show the top 10"
   ],
   "metadata": {
    "collapsed": false
   }
  },
  {
   "cell_type": "code",
   "execution_count": 11,
   "outputs": [
    {
     "data": {
      "text/plain": "224     73\n490     73\n3627    73\n4714    73\n437     73\n3694    73\n1310    73\n1664    73\n1182    73\n4780    73\ndtype: int64"
     },
     "execution_count": 11,
     "metadata": {},
     "output_type": "execute_result"
    }
   ],
   "source": [
    "features_df.isna().sum(axis=1).sort_values(ascending=False).head(10)"
   ],
   "metadata": {
    "collapsed": false,
    "ExecuteTime": {
     "end_time": "2023-07-30T16:34:18.680165100Z",
     "start_time": "2023-07-30T16:34:18.587851900Z"
    }
   }
  },
  {
   "cell_type": "markdown",
   "source": [
    "Remove rows with more than 30% missing values"
   ],
   "metadata": {
    "collapsed": false
   }
  },
  {
   "cell_type": "code",
   "execution_count": 12,
   "outputs": [],
   "source": [
    "features_df = features_df.loc[features_df.isna().sum(axis=1) < 0.3 * features_df.shape[1], :]\n",
    "# remove the corresponding rows from y_train\n",
    "labels_df = labels_df.loc[labels_df.index.isin(features_df.index)]"
   ],
   "metadata": {
    "collapsed": false,
    "ExecuteTime": {
     "end_time": "2023-07-30T16:34:18.697138500Z",
     "start_time": "2023-07-30T16:34:18.603813400Z"
    }
   }
  },
  {
   "cell_type": "code",
   "execution_count": 13,
   "outputs": [
    {
     "data": {
      "text/plain": "2928    19\n2863    19\n4064    19\n3450    19\n3250    19\n2291    19\n2391    19\n1527    19\n4130    19\n1795    17\ndtype: int64"
     },
     "execution_count": 13,
     "metadata": {},
     "output_type": "execute_result"
    }
   ],
   "source": [
    "features_df.isna().sum(axis=1).sort_values(ascending=False).head(10)"
   ],
   "metadata": {
    "collapsed": false,
    "ExecuteTime": {
     "end_time": "2023-07-30T16:34:18.697138500Z",
     "start_time": "2023-07-30T16:34:18.618288Z"
    }
   }
  },
  {
   "cell_type": "markdown",
   "source": [],
   "metadata": {
    "collapsed": false
   }
  },
  {
   "cell_type": "markdown",
   "source": [
    "Train/Test Split (before any preprocessing is done)"
   ],
   "metadata": {
    "collapsed": false
   }
  },
  {
   "cell_type": "code",
   "execution_count": 14,
   "outputs": [
    {
     "name": "stdout",
     "output_type": "stream",
     "text": [
      "['no_nap_YD1' 'animation_AJ31' 'animation_KR13' 'animation_BB30'\n",
      " 'animation_BG97' 'animation_KL89' 'animation_WE10' 'no_nap_IH1'\n",
      " 'no_nap_AM2' 'no_nap_RG9' 'animation_RS30' 'no_nap_TC9' 'animation_MN01'\n",
      " 'no_nap_SZ9' 'animation_GN10' 'no_nap_LG3' 'animation_NN81' 'no_nap_AI5'\n",
      " 'animation_NY90' 'no_nap_AM1' 'no_nap_KS0' 'no_nap_GA2' 'no_nap_VH3'\n",
      " 'no_nap_AL5' 'no_nap_AM5' 'animation_BO03' 'no_nap_RA0' 'animation_PS08'\n",
      " 'animation_DK47' 'no_nap_OR1' 'no_nap_NT6' 'no_nap_SS1' 'no_nap_AN5'\n",
      " 'no_nap_MM81' 'no_nap_RJ0' 'no_nap_YS4' 'animation_MN37' 'no_nap_YP2'\n",
      " 'no_nap_DM4' 'animation_KM28' 'animation_SM28' 'animation_FY25'\n",
      " 'no_nap_NM9' 'animation_RY20' 'animation_ZN05' 'animation_CR06'\n",
      " 'animation_AI09' 'no_nap_BK3' 'animation_AM45' 'no_nap_SK7' 'no_nap_DF3'\n",
      " 'no_nap_LK3' 'animation_RN85' 'animation_BH27' 'animation_GE44'\n",
      " 'no_nap_MG1' 'animation_HM02' 'no_nap_DD2' 'animation_ZW57'\n",
      " 'animation_AS20']\n",
      "['animation_MA40' 'no_nap_LS1' 'animation_TA01' 'animation_PM15'\n",
      " 'animation_HR58' 'no_nap_AH3' 'animation_HB81']\n"
     ]
    }
   ],
   "source": [
    "series_id_df = pd.read_pickle(os.path.join(config.classification_resource_dir, \"remembered_series_id_df.pkl\"))\n",
    "\n",
    "# Create a list of unique subject IDs\n",
    "subject_ids = series_id_df[config.SUBJECT].unique()\n",
    "\n",
    "# Shuffle the list of subject IDs randomly\n",
    "random = np.random\n",
    "random.seed(1)\n",
    "random.shuffle(subject_ids)\n",
    "\n",
    "# Split the list of subject IDs into two parts\n",
    "train_subject_ids = subject_ids[:int(len(subject_ids)*0.9)]\n",
    "print(train_subject_ids)\n",
    "test_subject_ids = subject_ids[int(len(subject_ids)*0.9):]\n",
    "print(test_subject_ids)\n",
    "\n",
    "# Subset the data based on the split list of subject IDs\n",
    "train_data = series_id_df[series_id_df[config.SUBJECT].isin(train_subject_ids)]\n",
    "test_data = series_id_df[series_id_df[config.SUBJECT].isin(test_subject_ids)]\n",
    "\n",
    "X_train = features_df[features_df.index.isin(train_data.index)]\n",
    "X_test = features_df[features_df.index.isin(test_data.index)]\n",
    "y_train = labels_df[labels_df.index.isin(train_data.index)]\n",
    "y_test = labels_df[labels_df.index.isin(test_data.index)]"
   ],
   "metadata": {
    "collapsed": false,
    "ExecuteTime": {
     "end_time": "2023-07-30T16:34:18.699128700Z",
     "start_time": "2023-07-30T16:34:18.637749500Z"
    }
   }
  },
  {
   "cell_type": "code",
   "execution_count": 15,
   "outputs": [],
   "source": [
    "# from sklearn.model_selection import train_test_split\n",
    "#\n",
    "# X_train, X_test, y_train, y_test = train_test_split(features_df,\n",
    "#                                                     labels_df,\n",
    "#                                                     random_state=420,\n",
    "#                                                     test_size=0.2)"
   ],
   "metadata": {
    "collapsed": false,
    "ExecuteTime": {
     "end_time": "2023-07-30T16:34:18.725559900Z",
     "start_time": "2023-07-30T16:34:18.651233300Z"
    }
   }
  },
  {
   "cell_type": "code",
   "execution_count": 16,
   "outputs": [
    {
     "data": {
      "text/plain": "   Gaze_Counts_In_RoI_Pre  Gaze_Counts_Out_RoI_Pre  Gaze_In_out_RoI_Ratio_Pre  \\\n2                     2.0                   4483.0                   0.000446   \n3                   315.0                   1532.0                   0.205614   \n4                    46.0                   5305.0                   0.008671   \n7                     2.0                   2457.0                   0.000814   \n8                     0.0                   2605.0                   0.000000   \n\n   Gaze_Re_Entries_To_RoI_Count_Pre  Gaze_Re_Entries_To_RoI_Rate_Pre  \\\n2                               1.0                         0.110607   \n3                               3.0                         0.778413   \n4                               5.0                         0.449738   \n7                               1.0                         0.181818   \n8                               0.0                         0.000000   \n\n   Fixations_Counts_In_RoI_Pre  Fixations_Counts_Out_RoI_Pre  \\\n2                          0.0                          35.0   \n3                          3.0                          11.0   \n4                          0.0                          38.0   \n7                          0.0                          14.0   \n8                          0.0                          21.0   \n\n   Fixations_In_out_RoI_Ratio_Pre  Fixations_Re_Entries_To_RoI_Count_Pre  \\\n2                        0.000000                                    0.0   \n3                        0.272727                                    3.0   \n4                        0.000000                                    0.0   \n7                        0.000000                                    0.0   \n8                        0.000000                                    0.0   \n\n   Fixations_Re_Entries_To_RoI_Rate_Pre  ...  DVA_Min_Gaze_Pre  \\\n2                              0.000000  ...          8.500427   \n3                              0.778413  ...          3.685488   \n4                              0.000000  ...          2.423086   \n7                              0.000000  ...         10.169280   \n8                              0.000000  ...          7.003062   \n\n   DVA_Sem_Gaze_Pre  DVA_AUC_Gaze_Pre  DVA_Mean_Fixations_Pre  \\\n2          0.078080      89362.852438               19.794390   \n3          0.151934      24273.412186               12.700200   \n4          0.027103      53351.891042                9.843929   \n7          0.162665      58929.038685               21.276224   \n8          0.112606      46076.539195               17.859609   \n\n   DVA_Median_Fixations_Pre  DVA_Std_Fixations_Pre  DVA_Max_Fixations_Pre  \\\n2                 19.715767               5.647210              32.227261   \n3                 12.919455               6.805681              31.443375   \n4                  9.456629               1.984475              14.161600   \n7                 19.538693               8.127455              32.915241   \n8                 17.663242               5.616025              26.175268   \n\n   DVA_Min_Fixations_Pre  DVA_Sem_Fixations_Pre  DVA_AUC_Fixations_Pre  \n2               8.632164               0.954553             692.803662  \n3               4.121637               1.818895             177.802803  \n4               6.530041               0.321924             374.069321  \n7              10.145712               2.172154             297.867142  \n8               7.667596               1.225517             375.051783  \n\n[5 rows x 73 columns]",
      "text/html": "<div>\n<style scoped>\n    .dataframe tbody tr th:only-of-type {\n        vertical-align: middle;\n    }\n\n    .dataframe tbody tr th {\n        vertical-align: top;\n    }\n\n    .dataframe thead th {\n        text-align: right;\n    }\n</style>\n<table border=\"1\" class=\"dataframe\">\n  <thead>\n    <tr style=\"text-align: right;\">\n      <th></th>\n      <th>Gaze_Counts_In_RoI_Pre</th>\n      <th>Gaze_Counts_Out_RoI_Pre</th>\n      <th>Gaze_In_out_RoI_Ratio_Pre</th>\n      <th>Gaze_Re_Entries_To_RoI_Count_Pre</th>\n      <th>Gaze_Re_Entries_To_RoI_Rate_Pre</th>\n      <th>Fixations_Counts_In_RoI_Pre</th>\n      <th>Fixations_Counts_Out_RoI_Pre</th>\n      <th>Fixations_In_out_RoI_Ratio_Pre</th>\n      <th>Fixations_Re_Entries_To_RoI_Count_Pre</th>\n      <th>Fixations_Re_Entries_To_RoI_Rate_Pre</th>\n      <th>...</th>\n      <th>DVA_Min_Gaze_Pre</th>\n      <th>DVA_Sem_Gaze_Pre</th>\n      <th>DVA_AUC_Gaze_Pre</th>\n      <th>DVA_Mean_Fixations_Pre</th>\n      <th>DVA_Median_Fixations_Pre</th>\n      <th>DVA_Std_Fixations_Pre</th>\n      <th>DVA_Max_Fixations_Pre</th>\n      <th>DVA_Min_Fixations_Pre</th>\n      <th>DVA_Sem_Fixations_Pre</th>\n      <th>DVA_AUC_Fixations_Pre</th>\n    </tr>\n  </thead>\n  <tbody>\n    <tr>\n      <th>2</th>\n      <td>2.0</td>\n      <td>4483.0</td>\n      <td>0.000446</td>\n      <td>1.0</td>\n      <td>0.110607</td>\n      <td>0.0</td>\n      <td>35.0</td>\n      <td>0.000000</td>\n      <td>0.0</td>\n      <td>0.000000</td>\n      <td>...</td>\n      <td>8.500427</td>\n      <td>0.078080</td>\n      <td>89362.852438</td>\n      <td>19.794390</td>\n      <td>19.715767</td>\n      <td>5.647210</td>\n      <td>32.227261</td>\n      <td>8.632164</td>\n      <td>0.954553</td>\n      <td>692.803662</td>\n    </tr>\n    <tr>\n      <th>3</th>\n      <td>315.0</td>\n      <td>1532.0</td>\n      <td>0.205614</td>\n      <td>3.0</td>\n      <td>0.778413</td>\n      <td>3.0</td>\n      <td>11.0</td>\n      <td>0.272727</td>\n      <td>3.0</td>\n      <td>0.778413</td>\n      <td>...</td>\n      <td>3.685488</td>\n      <td>0.151934</td>\n      <td>24273.412186</td>\n      <td>12.700200</td>\n      <td>12.919455</td>\n      <td>6.805681</td>\n      <td>31.443375</td>\n      <td>4.121637</td>\n      <td>1.818895</td>\n      <td>177.802803</td>\n    </tr>\n    <tr>\n      <th>4</th>\n      <td>46.0</td>\n      <td>5305.0</td>\n      <td>0.008671</td>\n      <td>5.0</td>\n      <td>0.449738</td>\n      <td>0.0</td>\n      <td>38.0</td>\n      <td>0.000000</td>\n      <td>0.0</td>\n      <td>0.000000</td>\n      <td>...</td>\n      <td>2.423086</td>\n      <td>0.027103</td>\n      <td>53351.891042</td>\n      <td>9.843929</td>\n      <td>9.456629</td>\n      <td>1.984475</td>\n      <td>14.161600</td>\n      <td>6.530041</td>\n      <td>0.321924</td>\n      <td>374.069321</td>\n    </tr>\n    <tr>\n      <th>7</th>\n      <td>2.0</td>\n      <td>2457.0</td>\n      <td>0.000814</td>\n      <td>1.0</td>\n      <td>0.181818</td>\n      <td>0.0</td>\n      <td>14.0</td>\n      <td>0.000000</td>\n      <td>0.0</td>\n      <td>0.000000</td>\n      <td>...</td>\n      <td>10.169280</td>\n      <td>0.162665</td>\n      <td>58929.038685</td>\n      <td>21.276224</td>\n      <td>19.538693</td>\n      <td>8.127455</td>\n      <td>32.915241</td>\n      <td>10.145712</td>\n      <td>2.172154</td>\n      <td>297.867142</td>\n    </tr>\n    <tr>\n      <th>8</th>\n      <td>0.0</td>\n      <td>2605.0</td>\n      <td>0.000000</td>\n      <td>0.0</td>\n      <td>0.000000</td>\n      <td>0.0</td>\n      <td>21.0</td>\n      <td>0.000000</td>\n      <td>0.0</td>\n      <td>0.000000</td>\n      <td>...</td>\n      <td>7.003062</td>\n      <td>0.112606</td>\n      <td>46076.539195</td>\n      <td>17.859609</td>\n      <td>17.663242</td>\n      <td>5.616025</td>\n      <td>26.175268</td>\n      <td>7.667596</td>\n      <td>1.225517</td>\n      <td>375.051783</td>\n    </tr>\n  </tbody>\n</table>\n<p>5 rows × 73 columns</p>\n</div>"
     },
     "execution_count": 16,
     "metadata": {},
     "output_type": "execute_result"
    }
   ],
   "source": [
    "X_train.head()"
   ],
   "metadata": {
    "collapsed": false,
    "ExecuteTime": {
     "end_time": "2023-07-30T16:34:18.752507100Z",
     "start_time": "2023-07-30T16:34:18.676170100Z"
    }
   }
  },
  {
   "cell_type": "markdown",
   "source": [
    "Fill missing values with the mean of the column"
   ],
   "metadata": {
    "collapsed": false
   }
  },
  {
   "cell_type": "code",
   "execution_count": 17,
   "outputs": [],
   "source": [
    "X_train = X_train.fillna(X_train.mean()) # fill missing values with the mean of the column or zero ? features_df.mean()\n",
    "X_test = X_test.fillna(X_train.mean())\n",
    "#\n",
    "# X_train = X_train.fillna(0) # fill missing values with the mean of the column or zero ? features_df.mean()\n",
    "# X_test = X_test.fillna(0)"
   ],
   "metadata": {
    "collapsed": false,
    "ExecuteTime": {
     "end_time": "2023-07-30T16:34:18.874273600Z",
     "start_time": "2023-07-30T16:34:18.681164Z"
    }
   }
  },
  {
   "cell_type": "markdown",
   "source": [
    "Balancing the dataset"
   ],
   "metadata": {
    "collapsed": false
   }
  },
  {
   "cell_type": "code",
   "execution_count": 18,
   "outputs": [
    {
     "data": {
      "text/plain": "Session\n1          2045\n0          1949\ndtype: int64"
     },
     "execution_count": 18,
     "metadata": {},
     "output_type": "execute_result"
    }
   ],
   "source": [
    "y_train.value_counts()"
   ],
   "metadata": {
    "collapsed": false,
    "ExecuteTime": {
     "end_time": "2023-07-30T16:34:18.878262900Z",
     "start_time": "2023-07-30T16:34:18.744529300Z"
    }
   }
  },
  {
   "cell_type": "markdown",
   "source": [
    "Scaling"
   ],
   "metadata": {
    "collapsed": false
   }
  },
  {
   "cell_type": "code",
   "execution_count": 19,
   "outputs": [],
   "source": [
    "from sklearn.preprocessing import StandardScaler\n",
    "\n",
    "# Create separate StandardScaler instances\n",
    "scaler_x = StandardScaler()\n",
    "# scaler_y = StandardScaler()\n",
    "\n",
    "# Fit on Training Data (!)\n",
    "scaler_x.fit(X_train.values)\n",
    "# scaler_y.fit(y_train.values.reshape(-1, 1))\n",
    "\n",
    "# Transform both training and testing data\n",
    "X_train_scaled = scaler_x.transform(X_train.values)\n",
    "X_test_scaled = scaler_x.transform(X_test.values)\n",
    "y_train = y_train.values.reshape(-1, 1).flatten()\n",
    "y_test = y_test.values.reshape(-1, 1).flatten()\n",
    "\n",
    "X_train_scaled = pd.DataFrame(X_train_scaled, columns=X_train.columns)\n",
    "X_test_scaled = pd.DataFrame(X_test_scaled, columns=X_test.columns)"
   ],
   "metadata": {
    "collapsed": false,
    "ExecuteTime": {
     "end_time": "2023-07-30T16:34:18.878262900Z",
     "start_time": "2023-07-30T16:34:18.759493Z"
    }
   }
  },
  {
   "cell_type": "markdown",
   "source": [
    "PCA"
   ],
   "metadata": {
    "collapsed": false
   }
  },
  {
   "cell_type": "code",
   "execution_count": 20,
   "outputs": [
    {
     "data": {
      "text/plain": "<Figure size 432x288 with 1 Axes>",
      "image/png": "[encoded data removed]"
     },
     "metadata": {
      "needs_background": "light"
     },
     "output_type": "display_data"
    }
   ],
   "source": [
    "pca = PCA(n_components=0.95).fit(X_train_scaled)\n",
    "plt.plot(np.cumsum(pca.explained_variance_ratio_))\n",
    "plt.xlabel('number of components')\n",
    "plt.ylabel('cumulative explained variance');"
   ],
   "metadata": {
    "collapsed": false,
    "ExecuteTime": {
     "end_time": "2023-07-30T16:34:19.124511100Z",
     "start_time": "2023-07-30T16:34:18.774968400Z"
    }
   }
  },
  {
   "cell_type": "code",
   "execution_count": 21,
   "outputs": [],
   "source": [
    "X_train_pca = pca.transform(X_train_scaled)\n",
    "X_test_pca = pca.transform(X_test_scaled)"
   ],
   "metadata": {
    "collapsed": false,
    "ExecuteTime": {
     "end_time": "2023-07-30T16:34:19.155447800Z",
     "start_time": "2023-07-30T16:34:18.912690600Z"
    }
   }
  },
  {
   "cell_type": "code",
   "execution_count": 22,
   "outputs": [
    {
     "data": {
      "text/plain": "array([[-6.68327635,  1.55754163, -3.40906043, ...,  0.22034793,\n         0.41162833, -0.14881751],\n       [ 0.24189111, -0.06089119,  1.60495915, ...,  0.95427832,\n         0.66006529, -0.42070061],\n       [-2.11382734,  0.62165238, -0.05257825, ...,  1.80168801,\n        -0.12777273,  1.30155888],\n       ...,\n       [ 1.54359993, -0.4576221 , -0.23085867, ...,  0.14772547,\n        -0.62550778, -0.13233961],\n       [-6.2433176 , -0.319411  , -2.77624557, ...,  0.59966684,\n         0.12064081,  0.13655111],\n       [-4.69599809, -3.37424728,  0.36055907, ..., -0.62704721,\n         0.3826508 , -0.47221866]])"
     },
     "execution_count": 22,
     "metadata": {},
     "output_type": "execute_result"
    }
   ],
   "source": [
    "X_train_pca"
   ],
   "metadata": {
    "collapsed": false,
    "ExecuteTime": {
     "end_time": "2023-07-30T16:34:19.169415500Z",
     "start_time": "2023-07-30T16:34:18.929169100Z"
    }
   }
  },
  {
   "cell_type": "markdown",
   "source": [
    "LDA"
   ],
   "metadata": {
    "collapsed": false
   }
  },
  {
   "cell_type": "code",
   "execution_count": 23,
   "outputs": [],
   "source": [
    "from sklearn.discriminant_analysis import LinearDiscriminantAnalysis\n",
    "\n",
    "lda = LinearDiscriminantAnalysis(n_components=1)\n",
    "X_train_lda = lda.fit_transform(X_train_scaled, y_train)\n",
    "X_test_lda = lda.transform(X_test_scaled)"
   ],
   "metadata": {
    "collapsed": false,
    "ExecuteTime": {
     "end_time": "2023-07-30T16:34:19.211334200Z",
     "start_time": "2023-07-30T16:34:18.944635Z"
    }
   }
  },
  {
   "cell_type": "code",
   "execution_count": 24,
   "outputs": [
    {
     "data": {
      "text/plain": "<Figure size 432x288 with 1 Axes>",
      "image/png": "[encoded data removed]"
     },
     "metadata": {
      "needs_background": "light"
     },
     "output_type": "display_data"
    }
   ],
   "source": [
    "# Create a scatter plot of the transformed data\n",
    "plt.scatter(X_train_lda, np.zeros(len(X_train_lda)), c=y_train, cmap='rainbow', alpha=0.7, edgecolors='b')\n",
    "plt.xlabel('LD1')\n",
    "plt.title('LDA Scatter Plot')\n",
    "plt.show()"
   ],
   "metadata": {
    "collapsed": false,
    "ExecuteTime": {
     "end_time": "2023-07-30T16:34:19.277721100Z",
     "start_time": "2023-07-30T16:34:19.030703300Z"
    }
   }
  },
  {
   "cell_type": "code",
   "execution_count": 25,
   "outputs": [],
   "source": [
    "X_train_preprocessed = X_train_scaled\n",
    "X_test_preprocessed = X_test_scaled"
   ],
   "metadata": {
    "collapsed": false,
    "ExecuteTime": {
     "end_time": "2023-07-30T16:34:19.277721100Z",
     "start_time": "2023-07-30T16:34:19.221306900Z"
    }
   }
  },
  {
   "cell_type": "markdown",
   "source": [
    "Classification models"
   ],
   "metadata": {
    "collapsed": false
   }
  },
  {
   "cell_type": "code",
   "execution_count": 26,
   "outputs": [],
   "source": [
    "from sklearn.metrics import accuracy_score, precision_score, recall_score, f1_score, roc_auc_score\n",
    "from sklearn.metrics import confusion_matrix\n",
    "import seaborn as sns\n",
    "\n",
    "def evaluate_model(model_name, y_true, y_pred):\n",
    "    # Evaluate the model using various metrics\n",
    "    accuracy = accuracy_score(y_test, y_pred)\n",
    "    precision = precision_score(y_test, y_pred)\n",
    "    recall = recall_score(y_test, y_pred)\n",
    "    f1 = f1_score(y_test, y_pred)\n",
    "    roc_auc = roc_auc_score(y_test, y_pred)\n",
    "\n",
    "    print(model_name)\n",
    "    # Print the evaluation metrics\n",
    "    print(\"Accuracy:\", round(accuracy, 2))\n",
    "    print(\"Precision:\", round(precision, 2))\n",
    "    print(\"Recall:\", round(recall, 2))\n",
    "    print(\"F1-score:\", round(f1, 2))\n",
    "    print(\"ROC-AUC score:\", round(roc_auc, 2))\n",
    "\n",
    "    # Compute the confusion matrix\n",
    "    confusion_mat = confusion_matrix(y_true, y_pred)\n",
    "\n",
    "    # Create a heatmap visualization of the confusion matrix\n",
    "    fig, ax = plt.subplots(figsize=(8, 8))\n",
    "    sns.heatmap(confusion_mat, annot=True, cmap=\"Blues\", fmt=\"d\", ax=ax)\n",
    "\n",
    "    # Set the axis labels and title\n",
    "    ax.set_xlabel(\"Predicted Labels\")\n",
    "    ax.set_ylabel(\"True Labels\")\n",
    "    ax.set_title(\"Confusion Matrix\")\n",
    "\n",
    "    # Show the plot\n",
    "    plt.show()"
   ],
   "metadata": {
    "collapsed": false,
    "ExecuteTime": {
     "end_time": "2023-07-30T16:34:19.277721100Z",
     "start_time": "2023-07-30T16:34:19.238774500Z"
    }
   }
  },
  {
   "cell_type": "code",
   "execution_count": 27,
   "outputs": [],
   "source": [
    "from sklearn.model_selection import GridSearchCV"
   ],
   "metadata": {
    "collapsed": false,
    "ExecuteTime": {
     "end_time": "2023-07-30T16:34:19.278718500Z",
     "start_time": "2023-07-30T16:34:19.250264Z"
    }
   }
  },
  {
   "cell_type": "markdown",
   "source": [
    "Logistic Regression model"
   ],
   "metadata": {
    "collapsed": false
   }
  },
  {
   "cell_type": "code",
   "execution_count": 28,
   "outputs": [
    {
     "name": "stderr",
     "output_type": "stream",
     "text": [
      "C:\\Users\\user\\anaconda3\\lib\\site-packages\\sklearn\\linear_model\\_sag.py:350: ConvergenceWarning: The max_iter was reached which means the coef_ did not converge\n",
      "  warnings.warn(\n",
      "C:\\Users\\user\\anaconda3\\lib\\site-packages\\sklearn\\linear_model\\_sag.py:350: ConvergenceWarning: The max_iter was reached which means the coef_ did not converge\n",
      "  warnings.warn(\n",
      "C:\\Users\\user\\anaconda3\\lib\\site-packages\\sklearn\\linear_model\\_sag.py:350: ConvergenceWarning: The max_iter was reached which means the coef_ did not converge\n",
      "  warnings.warn(\n",
      "C:\\Users\\user\\anaconda3\\lib\\site-packages\\sklearn\\linear_model\\_sag.py:350: ConvergenceWarning: The max_iter was reached which means the coef_ did not converge\n",
      "  warnings.warn(\n",
      "C:\\Users\\user\\anaconda3\\lib\\site-packages\\sklearn\\linear_model\\_sag.py:350: ConvergenceWarning: The max_iter was reached which means the coef_ did not converge\n",
      "  warnings.warn(\n",
      "C:\\Users\\user\\anaconda3\\lib\\site-packages\\sklearn\\linear_model\\_sag.py:350: ConvergenceWarning: The max_iter was reached which means the coef_ did not converge\n",
      "  warnings.warn(\n",
      "C:\\Users\\user\\anaconda3\\lib\\site-packages\\sklearn\\linear_model\\_sag.py:350: ConvergenceWarning: The max_iter was reached which means the coef_ did not converge\n",
      "  warnings.warn(\n",
      "C:\\Users\\user\\anaconda3\\lib\\site-packages\\sklearn\\linear_model\\_sag.py:350: ConvergenceWarning: The max_iter was reached which means the coef_ did not converge\n",
      "  warnings.warn(\n",
      "C:\\Users\\user\\anaconda3\\lib\\site-packages\\sklearn\\linear_model\\_sag.py:350: ConvergenceWarning: The max_iter was reached which means the coef_ did not converge\n",
      "  warnings.warn(\n",
      "C:\\Users\\user\\anaconda3\\lib\\site-packages\\sklearn\\linear_model\\_sag.py:350: ConvergenceWarning: The max_iter was reached which means the coef_ did not converge\n",
      "  warnings.warn(\n",
      "C:\\Users\\user\\anaconda3\\lib\\site-packages\\sklearn\\linear_model\\_sag.py:350: ConvergenceWarning: The max_iter was reached which means the coef_ did not converge\n",
      "  warnings.warn(\n",
      "C:\\Users\\user\\anaconda3\\lib\\site-packages\\sklearn\\linear_model\\_sag.py:350: ConvergenceWarning: The max_iter was reached which means the coef_ did not converge\n",
      "  warnings.warn(\n",
      "C:\\Users\\user\\anaconda3\\lib\\site-packages\\sklearn\\linear_model\\_sag.py:350: ConvergenceWarning: The max_iter was reached which means the coef_ did not converge\n",
      "  warnings.warn(\n",
      "C:\\Users\\user\\anaconda3\\lib\\site-packages\\sklearn\\linear_model\\_sag.py:350: ConvergenceWarning: The max_iter was reached which means the coef_ did not converge\n",
      "  warnings.warn(\n",
      "C:\\Users\\user\\anaconda3\\lib\\site-packages\\sklearn\\linear_model\\_sag.py:350: ConvergenceWarning: The max_iter was reached which means the coef_ did not converge\n",
      "  warnings.warn(\n",
      "C:\\Users\\user\\anaconda3\\lib\\site-packages\\sklearn\\linear_model\\_sag.py:350: ConvergenceWarning: The max_iter was reached which means the coef_ did not converge\n",
      "  warnings.warn(\n",
      "C:\\Users\\user\\anaconda3\\lib\\site-packages\\sklearn\\linear_model\\_sag.py:350: ConvergenceWarning: The max_iter was reached which means the coef_ did not converge\n",
      "  warnings.warn(\n",
      "C:\\Users\\user\\anaconda3\\lib\\site-packages\\sklearn\\linear_model\\_sag.py:350: ConvergenceWarning: The max_iter was reached which means the coef_ did not converge\n",
      "  warnings.warn(\n",
      "C:\\Users\\user\\anaconda3\\lib\\site-packages\\sklearn\\linear_model\\_sag.py:350: ConvergenceWarning: The max_iter was reached which means the coef_ did not converge\n",
      "  warnings.warn(\n",
      "C:\\Users\\user\\anaconda3\\lib\\site-packages\\sklearn\\linear_model\\_sag.py:350: ConvergenceWarning: The max_iter was reached which means the coef_ did not converge\n",
      "  warnings.warn(\n",
      "C:\\Users\\user\\anaconda3\\lib\\site-packages\\sklearn\\linear_model\\_sag.py:350: ConvergenceWarning: The max_iter was reached which means the coef_ did not converge\n",
      "  warnings.warn(\n",
      "C:\\Users\\user\\anaconda3\\lib\\site-packages\\sklearn\\linear_model\\_sag.py:350: ConvergenceWarning: The max_iter was reached which means the coef_ did not converge\n",
      "  warnings.warn(\n",
      "C:\\Users\\user\\anaconda3\\lib\\site-packages\\sklearn\\linear_model\\_sag.py:350: ConvergenceWarning: The max_iter was reached which means the coef_ did not converge\n",
      "  warnings.warn(\n",
      "C:\\Users\\user\\anaconda3\\lib\\site-packages\\sklearn\\linear_model\\_sag.py:350: ConvergenceWarning: The max_iter was reached which means the coef_ did not converge\n",
      "  warnings.warn(\n",
      "C:\\Users\\user\\anaconda3\\lib\\site-packages\\sklearn\\linear_model\\_sag.py:350: ConvergenceWarning: The max_iter was reached which means the coef_ did not converge\n",
      "  warnings.warn(\n",
      "C:\\Users\\user\\anaconda3\\lib\\site-packages\\sklearn\\linear_model\\_sag.py:350: ConvergenceWarning: The max_iter was reached which means the coef_ did not converge\n",
      "  warnings.warn(\n",
      "C:\\Users\\user\\anaconda3\\lib\\site-packages\\sklearn\\linear_model\\_sag.py:350: ConvergenceWarning: The max_iter was reached which means the coef_ did not converge\n",
      "  warnings.warn(\n",
      "C:\\Users\\user\\anaconda3\\lib\\site-packages\\sklearn\\linear_model\\_sag.py:350: ConvergenceWarning: The max_iter was reached which means the coef_ did not converge\n",
      "  warnings.warn(\n",
      "C:\\Users\\user\\anaconda3\\lib\\site-packages\\sklearn\\linear_model\\_sag.py:350: ConvergenceWarning: The max_iter was reached which means the coef_ did not converge\n",
      "  warnings.warn(\n",
      "C:\\Users\\user\\anaconda3\\lib\\site-packages\\sklearn\\linear_model\\_sag.py:350: ConvergenceWarning: The max_iter was reached which means the coef_ did not converge\n",
      "  warnings.warn(\n",
      "C:\\Users\\user\\anaconda3\\lib\\site-packages\\sklearn\\linear_model\\_sag.py:350: ConvergenceWarning: The max_iter was reached which means the coef_ did not converge\n",
      "  warnings.warn(\n",
      "C:\\Users\\user\\anaconda3\\lib\\site-packages\\sklearn\\linear_model\\_sag.py:350: ConvergenceWarning: The max_iter was reached which means the coef_ did not converge\n",
      "  warnings.warn(\n",
      "C:\\Users\\user\\anaconda3\\lib\\site-packages\\sklearn\\linear_model\\_sag.py:350: ConvergenceWarning: The max_iter was reached which means the coef_ did not converge\n",
      "  warnings.warn(\n",
      "C:\\Users\\user\\anaconda3\\lib\\site-packages\\sklearn\\linear_model\\_sag.py:350: ConvergenceWarning: The max_iter was reached which means the coef_ did not converge\n",
      "  warnings.warn(\n",
      "C:\\Users\\user\\anaconda3\\lib\\site-packages\\sklearn\\linear_model\\_sag.py:350: ConvergenceWarning: The max_iter was reached which means the coef_ did not converge\n",
      "  warnings.warn(\n",
      "C:\\Users\\user\\anaconda3\\lib\\site-packages\\sklearn\\linear_model\\_sag.py:350: ConvergenceWarning: The max_iter was reached which means the coef_ did not converge\n",
      "  warnings.warn(\n",
      "C:\\Users\\user\\anaconda3\\lib\\site-packages\\sklearn\\linear_model\\_sag.py:350: ConvergenceWarning: The max_iter was reached which means the coef_ did not converge\n",
      "  warnings.warn(\n",
      "C:\\Users\\user\\anaconda3\\lib\\site-packages\\sklearn\\linear_model\\_sag.py:350: ConvergenceWarning: The max_iter was reached which means the coef_ did not converge\n",
      "  warnings.warn(\n",
      "C:\\Users\\user\\anaconda3\\lib\\site-packages\\sklearn\\linear_model\\_sag.py:350: ConvergenceWarning: The max_iter was reached which means the coef_ did not converge\n",
      "  warnings.warn(\n",
      "C:\\Users\\user\\anaconda3\\lib\\site-packages\\sklearn\\linear_model\\_sag.py:350: ConvergenceWarning: The max_iter was reached which means the coef_ did not converge\n",
      "  warnings.warn(\n",
      "C:\\Users\\user\\anaconda3\\lib\\site-packages\\sklearn\\linear_model\\_sag.py:350: ConvergenceWarning: The max_iter was reached which means the coef_ did not converge\n",
      "  warnings.warn(\n",
      "C:\\Users\\user\\anaconda3\\lib\\site-packages\\sklearn\\linear_model\\_sag.py:350: ConvergenceWarning: The max_iter was reached which means the coef_ did not converge\n",
      "  warnings.warn(\n",
      "C:\\Users\\user\\anaconda3\\lib\\site-packages\\sklearn\\linear_model\\_sag.py:350: ConvergenceWarning: The max_iter was reached which means the coef_ did not converge\n",
      "  warnings.warn(\n",
      "C:\\Users\\user\\anaconda3\\lib\\site-packages\\sklearn\\linear_model\\_sag.py:350: ConvergenceWarning: The max_iter was reached which means the coef_ did not converge\n",
      "  warnings.warn(\n",
      "C:\\Users\\user\\anaconda3\\lib\\site-packages\\sklearn\\linear_model\\_sag.py:350: ConvergenceWarning: The max_iter was reached which means the coef_ did not converge\n",
      "  warnings.warn(\n",
      "C:\\Users\\user\\anaconda3\\lib\\site-packages\\sklearn\\linear_model\\_sag.py:350: ConvergenceWarning: The max_iter was reached which means the coef_ did not converge\n",
      "  warnings.warn(\n",
      "C:\\Users\\user\\anaconda3\\lib\\site-packages\\sklearn\\linear_model\\_sag.py:350: ConvergenceWarning: The max_iter was reached which means the coef_ did not converge\n",
      "  warnings.warn(\n",
      "C:\\Users\\user\\anaconda3\\lib\\site-packages\\sklearn\\linear_model\\_sag.py:350: ConvergenceWarning: The max_iter was reached which means the coef_ did not converge\n",
      "  warnings.warn(\n",
      "C:\\Users\\user\\anaconda3\\lib\\site-packages\\sklearn\\linear_model\\_sag.py:350: ConvergenceWarning: The max_iter was reached which means the coef_ did not converge\n",
      "  warnings.warn(\n",
      "C:\\Users\\user\\anaconda3\\lib\\site-packages\\sklearn\\linear_model\\_sag.py:350: ConvergenceWarning: The max_iter was reached which means the coef_ did not converge\n",
      "  warnings.warn(\n",
      "C:\\Users\\user\\anaconda3\\lib\\site-packages\\sklearn\\linear_model\\_sag.py:350: ConvergenceWarning: The max_iter was reached which means the coef_ did not converge\n",
      "  warnings.warn(\n",
      "C:\\Users\\user\\anaconda3\\lib\\site-packages\\sklearn\\linear_model\\_sag.py:350: ConvergenceWarning: The max_iter was reached which means the coef_ did not converge\n",
      "  warnings.warn(\n",
      "C:\\Users\\user\\anaconda3\\lib\\site-packages\\sklearn\\linear_model\\_sag.py:350: ConvergenceWarning: The max_iter was reached which means the coef_ did not converge\n",
      "  warnings.warn(\n",
      "C:\\Users\\user\\anaconda3\\lib\\site-packages\\sklearn\\linear_model\\_sag.py:350: ConvergenceWarning: The max_iter was reached which means the coef_ did not converge\n",
      "  warnings.warn(\n",
      "C:\\Users\\user\\anaconda3\\lib\\site-packages\\sklearn\\linear_model\\_sag.py:350: ConvergenceWarning: The max_iter was reached which means the coef_ did not converge\n",
      "  warnings.warn(\n",
      "C:\\Users\\user\\anaconda3\\lib\\site-packages\\sklearn\\linear_model\\_sag.py:350: ConvergenceWarning: The max_iter was reached which means the coef_ did not converge\n",
      "  warnings.warn(\n",
      "C:\\Users\\user\\anaconda3\\lib\\site-packages\\sklearn\\linear_model\\_sag.py:350: ConvergenceWarning: The max_iter was reached which means the coef_ did not converge\n",
      "  warnings.warn(\n",
      "C:\\Users\\user\\anaconda3\\lib\\site-packages\\sklearn\\linear_model\\_sag.py:350: ConvergenceWarning: The max_iter was reached which means the coef_ did not converge\n",
      "  warnings.warn(\n",
      "C:\\Users\\user\\anaconda3\\lib\\site-packages\\sklearn\\linear_model\\_sag.py:350: ConvergenceWarning: The max_iter was reached which means the coef_ did not converge\n",
      "  warnings.warn(\n",
      "C:\\Users\\user\\anaconda3\\lib\\site-packages\\sklearn\\linear_model\\_sag.py:350: ConvergenceWarning: The max_iter was reached which means the coef_ did not converge\n",
      "  warnings.warn(\n",
      "C:\\Users\\user\\anaconda3\\lib\\site-packages\\sklearn\\linear_model\\_sag.py:350: ConvergenceWarning: The max_iter was reached which means the coef_ did not converge\n",
      "  warnings.warn(\n",
      "C:\\Users\\user\\anaconda3\\lib\\site-packages\\sklearn\\linear_model\\_sag.py:350: ConvergenceWarning: The max_iter was reached which means the coef_ did not converge\n",
      "  warnings.warn(\n",
      "C:\\Users\\user\\anaconda3\\lib\\site-packages\\sklearn\\linear_model\\_sag.py:350: ConvergenceWarning: The max_iter was reached which means the coef_ did not converge\n",
      "  warnings.warn(\n",
      "C:\\Users\\user\\anaconda3\\lib\\site-packages\\sklearn\\linear_model\\_sag.py:350: ConvergenceWarning: The max_iter was reached which means the coef_ did not converge\n",
      "  warnings.warn(\n",
      "C:\\Users\\user\\anaconda3\\lib\\site-packages\\sklearn\\linear_model\\_sag.py:350: ConvergenceWarning: The max_iter was reached which means the coef_ did not converge\n",
      "  warnings.warn(\n",
      "C:\\Users\\user\\anaconda3\\lib\\site-packages\\sklearn\\linear_model\\_sag.py:350: ConvergenceWarning: The max_iter was reached which means the coef_ did not converge\n",
      "  warnings.warn(\n",
      "C:\\Users\\user\\anaconda3\\lib\\site-packages\\sklearn\\linear_model\\_sag.py:350: ConvergenceWarning: The max_iter was reached which means the coef_ did not converge\n",
      "  warnings.warn(\n",
      "C:\\Users\\user\\anaconda3\\lib\\site-packages\\sklearn\\linear_model\\_sag.py:350: ConvergenceWarning: The max_iter was reached which means the coef_ did not converge\n",
      "  warnings.warn(\n",
      "C:\\Users\\user\\anaconda3\\lib\\site-packages\\sklearn\\linear_model\\_sag.py:350: ConvergenceWarning: The max_iter was reached which means the coef_ did not converge\n",
      "  warnings.warn(\n",
      "C:\\Users\\user\\anaconda3\\lib\\site-packages\\sklearn\\linear_model\\_sag.py:350: ConvergenceWarning: The max_iter was reached which means the coef_ did not converge\n",
      "  warnings.warn(\n",
      "C:\\Users\\user\\anaconda3\\lib\\site-packages\\sklearn\\linear_model\\_sag.py:350: ConvergenceWarning: The max_iter was reached which means the coef_ did not converge\n",
      "  warnings.warn(\n",
      "C:\\Users\\user\\anaconda3\\lib\\site-packages\\sklearn\\linear_model\\_sag.py:350: ConvergenceWarning: The max_iter was reached which means the coef_ did not converge\n",
      "  warnings.warn(\n",
      "C:\\Users\\user\\anaconda3\\lib\\site-packages\\sklearn\\linear_model\\_sag.py:350: ConvergenceWarning: The max_iter was reached which means the coef_ did not converge\n",
      "  warnings.warn(\n",
      "C:\\Users\\user\\anaconda3\\lib\\site-packages\\sklearn\\linear_model\\_sag.py:350: ConvergenceWarning: The max_iter was reached which means the coef_ did not converge\n",
      "  warnings.warn(\n",
      "C:\\Users\\user\\anaconda3\\lib\\site-packages\\sklearn\\linear_model\\_sag.py:350: ConvergenceWarning: The max_iter was reached which means the coef_ did not converge\n",
      "  warnings.warn(\n",
      "C:\\Users\\user\\anaconda3\\lib\\site-packages\\sklearn\\linear_model\\_sag.py:350: ConvergenceWarning: The max_iter was reached which means the coef_ did not converge\n",
      "  warnings.warn(\n",
      "C:\\Users\\user\\anaconda3\\lib\\site-packages\\sklearn\\linear_model\\_sag.py:350: ConvergenceWarning: The max_iter was reached which means the coef_ did not converge\n",
      "  warnings.warn(\n",
      "C:\\Users\\user\\anaconda3\\lib\\site-packages\\sklearn\\linear_model\\_sag.py:350: ConvergenceWarning: The max_iter was reached which means the coef_ did not converge\n",
      "  warnings.warn(\n",
      "C:\\Users\\user\\anaconda3\\lib\\site-packages\\sklearn\\linear_model\\_sag.py:350: ConvergenceWarning: The max_iter was reached which means the coef_ did not converge\n",
      "  warnings.warn(\n",
      "C:\\Users\\user\\anaconda3\\lib\\site-packages\\sklearn\\linear_model\\_sag.py:350: ConvergenceWarning: The max_iter was reached which means the coef_ did not converge\n",
      "  warnings.warn(\n",
      "C:\\Users\\user\\anaconda3\\lib\\site-packages\\sklearn\\linear_model\\_sag.py:350: ConvergenceWarning: The max_iter was reached which means the coef_ did not converge\n",
      "  warnings.warn(\n",
      "C:\\Users\\user\\anaconda3\\lib\\site-packages\\sklearn\\linear_model\\_sag.py:350: ConvergenceWarning: The max_iter was reached which means the coef_ did not converge\n",
      "  warnings.warn(\n",
      "C:\\Users\\user\\anaconda3\\lib\\site-packages\\sklearn\\linear_model\\_sag.py:350: ConvergenceWarning: The max_iter was reached which means the coef_ did not converge\n",
      "  warnings.warn(\n",
      "C:\\Users\\user\\anaconda3\\lib\\site-packages\\sklearn\\linear_model\\_sag.py:350: ConvergenceWarning: The max_iter was reached which means the coef_ did not converge\n",
      "  warnings.warn(\n",
      "C:\\Users\\user\\anaconda3\\lib\\site-packages\\sklearn\\linear_model\\_sag.py:350: ConvergenceWarning: The max_iter was reached which means the coef_ did not converge\n",
      "  warnings.warn(\n",
      "C:\\Users\\user\\anaconda3\\lib\\site-packages\\sklearn\\linear_model\\_sag.py:350: ConvergenceWarning: The max_iter was reached which means the coef_ did not converge\n",
      "  warnings.warn(\n",
      "C:\\Users\\user\\anaconda3\\lib\\site-packages\\sklearn\\linear_model\\_sag.py:350: ConvergenceWarning: The max_iter was reached which means the coef_ did not converge\n",
      "  warnings.warn(\n",
      "C:\\Users\\user\\anaconda3\\lib\\site-packages\\sklearn\\linear_model\\_sag.py:350: ConvergenceWarning: The max_iter was reached which means the coef_ did not converge\n",
      "  warnings.warn(\n",
      "C:\\Users\\user\\anaconda3\\lib\\site-packages\\sklearn\\linear_model\\_sag.py:350: ConvergenceWarning: The max_iter was reached which means the coef_ did not converge\n",
      "  warnings.warn(\n",
      "C:\\Users\\user\\anaconda3\\lib\\site-packages\\sklearn\\linear_model\\_sag.py:350: ConvergenceWarning: The max_iter was reached which means the coef_ did not converge\n",
      "  warnings.warn(\n",
      "C:\\Users\\user\\anaconda3\\lib\\site-packages\\sklearn\\linear_model\\_sag.py:350: ConvergenceWarning: The max_iter was reached which means the coef_ did not converge\n",
      "  warnings.warn(\n",
      "C:\\Users\\user\\anaconda3\\lib\\site-packages\\sklearn\\linear_model\\_sag.py:350: ConvergenceWarning: The max_iter was reached which means the coef_ did not converge\n",
      "  warnings.warn(\n",
      "C:\\Users\\user\\anaconda3\\lib\\site-packages\\sklearn\\linear_model\\_sag.py:350: ConvergenceWarning: The max_iter was reached which means the coef_ did not converge\n",
      "  warnings.warn(\n",
      "C:\\Users\\user\\anaconda3\\lib\\site-packages\\sklearn\\linear_model\\_sag.py:350: ConvergenceWarning: The max_iter was reached which means the coef_ did not converge\n",
      "  warnings.warn(\n",
      "C:\\Users\\user\\anaconda3\\lib\\site-packages\\sklearn\\linear_model\\_sag.py:350: ConvergenceWarning: The max_iter was reached which means the coef_ did not converge\n",
      "  warnings.warn(\n",
      "C:\\Users\\user\\anaconda3\\lib\\site-packages\\sklearn\\linear_model\\_sag.py:350: ConvergenceWarning: The max_iter was reached which means the coef_ did not converge\n",
      "  warnings.warn(\n",
      "C:\\Users\\user\\anaconda3\\lib\\site-packages\\sklearn\\linear_model\\_sag.py:350: ConvergenceWarning: The max_iter was reached which means the coef_ did not converge\n",
      "  warnings.warn(\n",
      "C:\\Users\\user\\anaconda3\\lib\\site-packages\\sklearn\\linear_model\\_sag.py:350: ConvergenceWarning: The max_iter was reached which means the coef_ did not converge\n",
      "  warnings.warn(\n",
      "C:\\Users\\user\\anaconda3\\lib\\site-packages\\sklearn\\linear_model\\_sag.py:350: ConvergenceWarning: The max_iter was reached which means the coef_ did not converge\n",
      "  warnings.warn(\n",
      "C:\\Users\\user\\anaconda3\\lib\\site-packages\\sklearn\\linear_model\\_sag.py:350: ConvergenceWarning: The max_iter was reached which means the coef_ did not converge\n",
      "  warnings.warn(\n",
      "C:\\Users\\user\\anaconda3\\lib\\site-packages\\sklearn\\linear_model\\_sag.py:350: ConvergenceWarning: The max_iter was reached which means the coef_ did not converge\n",
      "  warnings.warn(\n",
      "C:\\Users\\user\\anaconda3\\lib\\site-packages\\sklearn\\linear_model\\_sag.py:350: ConvergenceWarning: The max_iter was reached which means the coef_ did not converge\n",
      "  warnings.warn(\n",
      "C:\\Users\\user\\anaconda3\\lib\\site-packages\\sklearn\\linear_model\\_sag.py:350: ConvergenceWarning: The max_iter was reached which means the coef_ did not converge\n",
      "  warnings.warn(\n",
      "C:\\Users\\user\\anaconda3\\lib\\site-packages\\sklearn\\linear_model\\_sag.py:350: ConvergenceWarning: The max_iter was reached which means the coef_ did not converge\n",
      "  warnings.warn(\n",
      "C:\\Users\\user\\anaconda3\\lib\\site-packages\\sklearn\\linear_model\\_sag.py:350: ConvergenceWarning: The max_iter was reached which means the coef_ did not converge\n",
      "  warnings.warn(\n",
      "C:\\Users\\user\\anaconda3\\lib\\site-packages\\sklearn\\linear_model\\_sag.py:350: ConvergenceWarning: The max_iter was reached which means the coef_ did not converge\n",
      "  warnings.warn(\n",
      "C:\\Users\\user\\anaconda3\\lib\\site-packages\\sklearn\\linear_model\\_sag.py:350: ConvergenceWarning: The max_iter was reached which means the coef_ did not converge\n",
      "  warnings.warn(\n",
      "C:\\Users\\user\\anaconda3\\lib\\site-packages\\sklearn\\linear_model\\_sag.py:350: ConvergenceWarning: The max_iter was reached which means the coef_ did not converge\n",
      "  warnings.warn(\n",
      "C:\\Users\\user\\anaconda3\\lib\\site-packages\\sklearn\\linear_model\\_sag.py:350: ConvergenceWarning: The max_iter was reached which means the coef_ did not converge\n",
      "  warnings.warn(\n",
      "C:\\Users\\user\\anaconda3\\lib\\site-packages\\sklearn\\linear_model\\_sag.py:350: ConvergenceWarning: The max_iter was reached which means the coef_ did not converge\n",
      "  warnings.warn(\n",
      "C:\\Users\\user\\anaconda3\\lib\\site-packages\\sklearn\\linear_model\\_sag.py:350: ConvergenceWarning: The max_iter was reached which means the coef_ did not converge\n",
      "  warnings.warn(\n",
      "C:\\Users\\user\\anaconda3\\lib\\site-packages\\sklearn\\linear_model\\_sag.py:350: ConvergenceWarning: The max_iter was reached which means the coef_ did not converge\n",
      "  warnings.warn(\n",
      "C:\\Users\\user\\anaconda3\\lib\\site-packages\\sklearn\\linear_model\\_sag.py:350: ConvergenceWarning: The max_iter was reached which means the coef_ did not converge\n",
      "  warnings.warn(\n",
      "C:\\Users\\user\\anaconda3\\lib\\site-packages\\sklearn\\linear_model\\_sag.py:350: ConvergenceWarning: The max_iter was reached which means the coef_ did not converge\n",
      "  warnings.warn(\n",
      "C:\\Users\\user\\anaconda3\\lib\\site-packages\\sklearn\\linear_model\\_sag.py:350: ConvergenceWarning: The max_iter was reached which means the coef_ did not converge\n",
      "  warnings.warn(\n",
      "C:\\Users\\user\\anaconda3\\lib\\site-packages\\sklearn\\linear_model\\_sag.py:350: ConvergenceWarning: The max_iter was reached which means the coef_ did not converge\n",
      "  warnings.warn(\n",
      "C:\\Users\\user\\anaconda3\\lib\\site-packages\\sklearn\\linear_model\\_sag.py:350: ConvergenceWarning: The max_iter was reached which means the coef_ did not converge\n",
      "  warnings.warn(\n",
      "C:\\Users\\user\\anaconda3\\lib\\site-packages\\sklearn\\linear_model\\_sag.py:350: ConvergenceWarning: The max_iter was reached which means the coef_ did not converge\n",
      "  warnings.warn(\n",
      "C:\\Users\\user\\anaconda3\\lib\\site-packages\\sklearn\\linear_model\\_sag.py:350: ConvergenceWarning: The max_iter was reached which means the coef_ did not converge\n",
      "  warnings.warn(\n",
      "C:\\Users\\user\\anaconda3\\lib\\site-packages\\sklearn\\linear_model\\_sag.py:350: ConvergenceWarning: The max_iter was reached which means the coef_ did not converge\n",
      "  warnings.warn(\n",
      "C:\\Users\\user\\anaconda3\\lib\\site-packages\\sklearn\\linear_model\\_sag.py:350: ConvergenceWarning: The max_iter was reached which means the coef_ did not converge\n",
      "  warnings.warn(\n",
      "C:\\Users\\user\\anaconda3\\lib\\site-packages\\sklearn\\linear_model\\_sag.py:350: ConvergenceWarning: The max_iter was reached which means the coef_ did not converge\n",
      "  warnings.warn(\n",
      "C:\\Users\\user\\anaconda3\\lib\\site-packages\\sklearn\\linear_model\\_sag.py:350: ConvergenceWarning: The max_iter was reached which means the coef_ did not converge\n",
      "  warnings.warn(\n",
      "C:\\Users\\user\\anaconda3\\lib\\site-packages\\sklearn\\linear_model\\_sag.py:350: ConvergenceWarning: The max_iter was reached which means the coef_ did not converge\n",
      "  warnings.warn(\n",
      "C:\\Users\\user\\anaconda3\\lib\\site-packages\\sklearn\\linear_model\\_sag.py:350: ConvergenceWarning: The max_iter was reached which means the coef_ did not converge\n",
      "  warnings.warn(\n",
      "C:\\Users\\user\\anaconda3\\lib\\site-packages\\sklearn\\linear_model\\_sag.py:350: ConvergenceWarning: The max_iter was reached which means the coef_ did not converge\n",
      "  warnings.warn(\n",
      "C:\\Users\\user\\anaconda3\\lib\\site-packages\\sklearn\\linear_model\\_sag.py:350: ConvergenceWarning: The max_iter was reached which means the coef_ did not converge\n",
      "  warnings.warn(\n",
      "C:\\Users\\user\\anaconda3\\lib\\site-packages\\sklearn\\linear_model\\_sag.py:350: ConvergenceWarning: The max_iter was reached which means the coef_ did not converge\n",
      "  warnings.warn(\n",
      "C:\\Users\\user\\anaconda3\\lib\\site-packages\\sklearn\\linear_model\\_sag.py:350: ConvergenceWarning: The max_iter was reached which means the coef_ did not converge\n",
      "  warnings.warn(\n",
      "C:\\Users\\user\\anaconda3\\lib\\site-packages\\sklearn\\linear_model\\_sag.py:350: ConvergenceWarning: The max_iter was reached which means the coef_ did not converge\n",
      "  warnings.warn(\n",
      "C:\\Users\\user\\anaconda3\\lib\\site-packages\\sklearn\\linear_model\\_sag.py:350: ConvergenceWarning: The max_iter was reached which means the coef_ did not converge\n",
      "  warnings.warn(\n",
      "C:\\Users\\user\\anaconda3\\lib\\site-packages\\sklearn\\linear_model\\_sag.py:350: ConvergenceWarning: The max_iter was reached which means the coef_ did not converge\n",
      "  warnings.warn(\n",
      "C:\\Users\\user\\anaconda3\\lib\\site-packages\\sklearn\\linear_model\\_sag.py:350: ConvergenceWarning: The max_iter was reached which means the coef_ did not converge\n",
      "  warnings.warn(\n",
      "C:\\Users\\user\\anaconda3\\lib\\site-packages\\sklearn\\linear_model\\_sag.py:350: ConvergenceWarning: The max_iter was reached which means the coef_ did not converge\n",
      "  warnings.warn(\n",
      "C:\\Users\\user\\anaconda3\\lib\\site-packages\\sklearn\\linear_model\\_sag.py:350: ConvergenceWarning: The max_iter was reached which means the coef_ did not converge\n",
      "  warnings.warn(\n",
      "C:\\Users\\user\\anaconda3\\lib\\site-packages\\sklearn\\linear_model\\_sag.py:350: ConvergenceWarning: The max_iter was reached which means the coef_ did not converge\n",
      "  warnings.warn(\n",
      "C:\\Users\\user\\anaconda3\\lib\\site-packages\\sklearn\\linear_model\\_sag.py:350: ConvergenceWarning: The max_iter was reached which means the coef_ did not converge\n",
      "  warnings.warn(\n",
      "C:\\Users\\user\\anaconda3\\lib\\site-packages\\sklearn\\linear_model\\_sag.py:350: ConvergenceWarning: The max_iter was reached which means the coef_ did not converge\n",
      "  warnings.warn(\n",
      "C:\\Users\\user\\anaconda3\\lib\\site-packages\\sklearn\\linear_model\\_sag.py:350: ConvergenceWarning: The max_iter was reached which means the coef_ did not converge\n",
      "  warnings.warn(\n",
      "C:\\Users\\user\\anaconda3\\lib\\site-packages\\sklearn\\linear_model\\_sag.py:350: ConvergenceWarning: The max_iter was reached which means the coef_ did not converge\n",
      "  warnings.warn(\n",
      "C:\\Users\\user\\anaconda3\\lib\\site-packages\\sklearn\\linear_model\\_sag.py:350: ConvergenceWarning: The max_iter was reached which means the coef_ did not converge\n",
      "  warnings.warn(\n",
      "C:\\Users\\user\\anaconda3\\lib\\site-packages\\sklearn\\linear_model\\_sag.py:350: ConvergenceWarning: The max_iter was reached which means the coef_ did not converge\n",
      "  warnings.warn(\n",
      "C:\\Users\\user\\anaconda3\\lib\\site-packages\\sklearn\\linear_model\\_sag.py:350: ConvergenceWarning: The max_iter was reached which means the coef_ did not converge\n",
      "  warnings.warn(\n",
      "C:\\Users\\user\\anaconda3\\lib\\site-packages\\sklearn\\linear_model\\_sag.py:350: ConvergenceWarning: The max_iter was reached which means the coef_ did not converge\n",
      "  warnings.warn(\n",
      "C:\\Users\\user\\anaconda3\\lib\\site-packages\\sklearn\\linear_model\\_sag.py:350: ConvergenceWarning: The max_iter was reached which means the coef_ did not converge\n",
      "  warnings.warn(\n"
     ]
    },
    {
     "data": {
      "text/plain": "{'C': 0.2642857142857143, 'penalty': 'l2', 'solver': 'liblinear'}"
     },
     "execution_count": 28,
     "metadata": {},
     "output_type": "execute_result"
    }
   ],
   "source": [
    "from sklearn.linear_model import LogisticRegression\n",
    "\n",
    "# Define the range of values for each hyperparameter\n",
    "C = np.linspace(0.01, 0.9, 15)\n",
    "PENALTY = ['l1', 'l2']\n",
    "SOLVER = ['liblinear', 'saga']\n",
    "\n",
    "PARAM_GRID  = {\n",
    "    'C': C,\n",
    "    'penalty': PENALTY,\n",
    "    'solver': SOLVER\n",
    "}\n",
    "\n",
    "# Create the logistic regression estimator\n",
    "estimator = LogisticRegression(random_state=420)\n",
    "\n",
    "# Use grid search and cross-validation to tune the hyper parameters\n",
    "model_searcher = GridSearchCV(estimator, PARAM_GRID, verbose=0)\n",
    "model_searcher.fit(X_train_preprocessed, y_train)\n",
    "\n",
    "# The best combination of hyperparameters\n",
    "model_searcher.best_params_"
   ],
   "metadata": {
    "collapsed": false,
    "ExecuteTime": {
     "end_time": "2023-07-30T16:35:16.980220Z",
     "start_time": "2023-07-30T16:34:19.268226300Z"
    }
   }
  },
  {
   "cell_type": "code",
   "execution_count": 29,
   "outputs": [
    {
     "name": "stdout",
     "output_type": "stream",
     "text": [
      "Logistic Regression (test data)\n",
      "Accuracy: 0.61\n",
      "Precision: 0.6\n",
      "Recall: 0.66\n",
      "F1-score: 0.63\n",
      "ROC-AUC score: 0.61\n"
     ]
    },
    {
     "data": {
      "text/plain": "<Figure size 576x576 with 2 Axes>",
      "image/png": "[encoded data removed]"
     },
     "metadata": {
      "needs_background": "light"
     },
     "output_type": "display_data"
    }
   ],
   "source": [
    "# Get the best estimator\n",
    "log_reg_best_estimator = model_searcher.best_estimator_\n",
    "y_test_pred = log_reg_best_estimator.predict(X_test_preprocessed)\n",
    "\n",
    "evaluate_model(\"Logistic Regression (test data)\", y_test, y_test_pred)"
   ],
   "metadata": {
    "collapsed": false,
    "ExecuteTime": {
     "end_time": "2023-07-30T16:35:17.151334200Z",
     "start_time": "2023-07-30T16:35:16.979220900Z"
    }
   }
  },
  {
   "cell_type": "markdown",
   "source": [
    "Gradient Boosting model"
   ],
   "metadata": {
    "collapsed": false
   }
  },
  {
   "cell_type": "code",
   "execution_count": 30,
   "outputs": [
    {
     "data": {
      "text/plain": "{'learning_rate': 0.01, 'max_depth': 4, 'n_estimators': 100}"
     },
     "execution_count": 30,
     "metadata": {},
     "output_type": "execute_result"
    }
   ],
   "source": [
    "from sklearn.ensemble import GradientBoostingClassifier\n",
    "\n",
    "# Define the range of values for each hyperparameter\n",
    "LEARNING_RATE = np.linspace(0.01, 0.5, 10)\n",
    "MAX_DEPTH = range(2, 5)\n",
    "N_ESTIMATORS = range(100, 180, 15)\n",
    "\n",
    "\n",
    "PARAM_GRID  = {\n",
    "    'learning_rate': LEARNING_RATE,\n",
    "    'max_depth': MAX_DEPTH,\n",
    "    'n_estimators': N_ESTIMATORS\n",
    "}\n",
    "\n",
    "# Create the gradient boosting estimator\n",
    "estimator = GradientBoostingClassifier(random_state=420)\n",
    "\n",
    "# Use grid search and cross-validation to tune the hyper parameters\n",
    "model_searcher = GridSearchCV(estimator, PARAM_GRID, verbose=0)\n",
    "model_searcher.fit(X_train_preprocessed, y_train)\n",
    "\n",
    "# The best combination of hyperparameters\n",
    "model_searcher.best_params_"
   ],
   "metadata": {
    "collapsed": false,
    "ExecuteTime": {
     "end_time": "2023-07-30T18:19:51.857583Z",
     "start_time": "2023-07-30T16:35:17.149340400Z"
    },
    "pycharm": {
     "is_executing": true
    }
   }
  },
  {
   "cell_type": "code",
   "execution_count": null,
   "outputs": [],
   "source": [],
   "metadata": {
    "collapsed": false,
    "pycharm": {
     "is_executing": true
    }
   }
  },
  {
   "cell_type": "code",
   "execution_count": 31,
   "outputs": [
    {
     "name": "stdout",
     "output_type": "stream",
     "text": [
      "Gradient Boosting (test data)\n",
      "Accuracy: 0.61\n",
      "Precision: 0.59\n",
      "Recall: 0.72\n",
      "F1-score: 0.65\n",
      "ROC-AUC score: 0.61\n"
     ]
    },
    {
     "data": {
      "text/plain": "<Figure size 576x576 with 2 Axes>",
      "image/png": "[encoded data removed]"
     },
     "metadata": {},
     "output_type": "display_data"
    }
   ],
   "source": [
    "# Get the best estimator\n",
    "gb_best_estimator = model_searcher.best_estimator_\n",
    "y_test_pred = gb_best_estimator.predict(X_test_preprocessed)\n",
    "\n",
    "evaluate_model(\"Gradient Boosting (test data)\", y_test, y_test_pred)"
   ],
   "metadata": {
    "collapsed": false,
    "pycharm": {
     "is_executing": true
    },
    "ExecuteTime": {
     "end_time": "2023-07-30T18:19:51.983276800Z",
     "start_time": "2023-07-30T18:19:51.861572700Z"
    }
   }
  },
  {
   "cell_type": "markdown",
   "source": [
    "Random Forest model"
   ],
   "metadata": {
    "collapsed": false
   }
  },
  {
   "cell_type": "code",
   "execution_count": 32,
   "outputs": [
    {
     "data": {
      "text/plain": "{'max_depth': 4,\n 'min_samples_leaf': 3,\n 'min_samples_split': 2,\n 'n_estimators': 50}"
     },
     "execution_count": 32,
     "metadata": {},
     "output_type": "execute_result"
    }
   ],
   "source": [
    "from sklearn.ensemble import RandomForestClassifier\n",
    "\n",
    "# Define the range of values for each hyperparameter\n",
    "N_ESTIMATORS = range(50, 120, 15)\n",
    "MAX_DEPTH = range(2, 6)\n",
    "MIN_SAMPLES_SPLIT = range(2, 4)\n",
    "MIN_SAMPLES_LEAF = range(1, 4)\n",
    "\n",
    "PARAM_GRID  = {\n",
    "    'n_estimators': N_ESTIMATORS,\n",
    "    'max_depth': MAX_DEPTH,\n",
    "    'min_samples_split': MIN_SAMPLES_SPLIT,\n",
    "    'min_samples_leaf': MIN_SAMPLES_LEAF\n",
    "}\n",
    "\n",
    "# Create the random forest estimator\n",
    "estimator = RandomForestClassifier(random_state=420)\n",
    "\n",
    "# Use grid search and cross-validation to tune the hyper parameters\n",
    "model_searcher = GridSearchCV(estimator, PARAM_GRID, verbose=0)\n",
    "model_searcher.fit(X_train_preprocessed, y_train)\n",
    "\n",
    "# The best combination of hyperparameters\n",
    "model_searcher.best_params_"
   ],
   "metadata": {
    "collapsed": false,
    "pycharm": {
     "is_executing": true
    },
    "ExecuteTime": {
     "end_time": "2023-07-30T18:25:40.780488400Z",
     "start_time": "2023-07-30T18:19:51.986269300Z"
    }
   }
  },
  {
   "cell_type": "code",
   "execution_count": 33,
   "outputs": [
    {
     "name": "stdout",
     "output_type": "stream",
     "text": [
      "Random Forest (test data)\n",
      "Accuracy: 0.58\n",
      "Precision: 0.59\n",
      "Recall: 0.59\n",
      "F1-score: 0.59\n",
      "ROC-AUC score: 0.58\n"
     ]
    },
    {
     "data": {
      "text/plain": "<Figure size 576x576 with 2 Axes>",
      "image/png": "[encoded data removed]"
     },
     "metadata": {},
     "output_type": "display_data"
    }
   ],
   "source": [
    "rf_best_estimator = model_searcher.best_estimator_\n",
    "y_test_pred = rf_best_estimator.predict(X_test_preprocessed)\n",
    "\n",
    "evaluate_model(\"Random Forest (test data)\", y_test, y_test_pred)"
   ],
   "metadata": {
    "collapsed": false,
    "pycharm": {
     "is_executing": true
    },
    "ExecuteTime": {
     "end_time": "2023-07-30T18:25:40.968015600Z",
     "start_time": "2023-07-30T18:25:40.786473Z"
    }
   }
  },
  {
   "cell_type": "markdown",
   "source": [
    "XGBoost model"
   ],
   "metadata": {
    "collapsed": false
   }
  },
  {
   "cell_type": "code",
   "execution_count": 34,
   "outputs": [
    {
     "data": {
      "text/plain": "{'learning_rate': 0.05, 'max_depth': 2, 'n_estimators': 100}"
     },
     "execution_count": 34,
     "metadata": {},
     "output_type": "execute_result"
    }
   ],
   "source": [
    "from xgboost import XGBClassifier\n",
    "\n",
    "# Define the range of values for each hyperparameter\n",
    "LEARNING_RATE = np.linspace(0.05, 0.5, 10)\n",
    "MAX_DEPTH = range(1, 4)\n",
    "N_ESTIMATORS = range(70, 150, 15)\n",
    "\n",
    "PARAM_GRID  = {\n",
    "    'learning_rate': LEARNING_RATE,\n",
    "    'max_depth': MAX_DEPTH,\n",
    "    'n_estimators': N_ESTIMATORS\n",
    "}\n",
    "\n",
    "# Create the XGBoost estimator\n",
    "estimator = XGBClassifier(random_state=420)\n",
    "\n",
    "# Use grid search and cross-validation to tune the hyper parameters\n",
    "model_searcher = GridSearchCV(estimator, PARAM_GRID, verbose=0)\n",
    "model_searcher.fit(X_train_preprocessed, y_train)\n",
    "\n",
    "# The best combination of hyperparameters\n",
    "model_searcher.best_params_"
   ],
   "metadata": {
    "collapsed": false,
    "pycharm": {
     "is_executing": true
    },
    "ExecuteTime": {
     "end_time": "2023-07-30T19:34:34.034671600Z",
     "start_time": "2023-07-30T18:25:40.971007500Z"
    }
   }
  },
  {
   "cell_type": "markdown",
   "source": [
    "Evaluate the best model on the test data"
   ],
   "metadata": {
    "collapsed": false
   }
  },
  {
   "cell_type": "code",
   "execution_count": 35,
   "outputs": [
    {
     "name": "stdout",
     "output_type": "stream",
     "text": [
      "XGBoost (test data)\n",
      "Accuracy: 0.59\n",
      "Precision: 0.6\n",
      "Recall: 0.58\n",
      "F1-score: 0.59\n",
      "ROC-AUC score: 0.59\n"
     ]
    },
    {
     "data": {
      "text/plain": "<Figure size 576x576 with 2 Axes>",
      "image/png": "[encoded data removed]"
     },
     "metadata": {},
     "output_type": "display_data"
    }
   ],
   "source": [
    "xgb_best_estimator = model_searcher.best_estimator_\n",
    "y_test_pred = xgb_best_estimator.predict(X_test_preprocessed)\n",
    "\n",
    "evaluate_model(\"XGBoost (test data)\", y_test, y_test_pred)"
   ],
   "metadata": {
    "collapsed": false,
    "pycharm": {
     "is_executing": true
    },
    "ExecuteTime": {
     "end_time": "2023-07-30T19:34:34.234166500Z",
     "start_time": "2023-07-30T19:34:34.037664100Z"
    }
   }
  },
  {
   "cell_type": "markdown",
   "source": [
    "TabNetClassifier with automatic hyperparameters tuning"
   ],
   "metadata": {
    "collapsed": false
   }
  },
  {
   "cell_type": "code",
   "execution_count": 36,
   "outputs": [
    {
     "name": "stdout",
     "output_type": "stream",
     "text": [
      "Requirement already satisfied: pytorch-tabnet in c:\\users\\user\\anaconda3\\lib\\site-packages (4.0)\n",
      "Requirement already satisfied: torch<2.0,>=1.2 in c:\\users\\user\\anaconda3\\lib\\site-packages (from pytorch-tabnet) (1.13.1)\n",
      "Requirement already satisfied: numpy<2.0,>=1.17 in c:\\users\\user\\anaconda3\\lib\\site-packages (from pytorch-tabnet) (1.20.3)\n",
      "Requirement already satisfied: scipy>1.4 in c:\\users\\user\\appdata\\roaming\\python\\python39\\site-packages (from pytorch-tabnet) (1.10.1)\n",
      "Requirement already satisfied: tqdm<5.0,>=4.36 in c:\\users\\user\\anaconda3\\lib\\site-packages (from pytorch-tabnet) (4.62.3)\n",
      "Requirement already satisfied: scikit_learn>0.21 in c:\\users\\user\\anaconda3\\lib\\site-packages (from pytorch-tabnet) (1.2.2)\n",
      "Requirement already satisfied: joblib>=1.1.1 in c:\\users\\user\\anaconda3\\lib\\site-packages (from scikit_learn>0.21->pytorch-tabnet) (1.2.0)\n",
      "Requirement already satisfied: threadpoolctl>=2.0.0 in c:\\users\\user\\anaconda3\\lib\\site-packages (from scikit_learn>0.21->pytorch-tabnet) (2.2.0)\n",
      "Requirement already satisfied: typing-extensions in c:\\users\\user\\anaconda3\\lib\\site-packages (from torch<2.0,>=1.2->pytorch-tabnet) (4.4.0)\n",
      "Requirement already satisfied: colorama in c:\\users\\user\\anaconda3\\lib\\site-packages (from tqdm<5.0,>=4.36->pytorch-tabnet) (0.4.4)\n",
      "Requirement already satisfied: optuna in c:\\users\\user\\anaconda3\\lib\\site-packages (3.1.1)\n",
      "Requirement already satisfied: tqdm in c:\\users\\user\\anaconda3\\lib\\site-packages (from optuna) (4.62.3)\n",
      "Requirement already satisfied: sqlalchemy>=1.3.0 in c:\\users\\user\\anaconda3\\lib\\site-packages (from optuna) (1.4.22)\n",
      "Requirement already satisfied: cmaes>=0.9.1 in c:\\users\\user\\anaconda3\\lib\\site-packages (from optuna) (0.9.1)\n",
      "Requirement already satisfied: PyYAML in c:\\users\\user\\anaconda3\\lib\\site-packages (from optuna) (6.0)\n",
      "Requirement already satisfied: colorlog in c:\\users\\user\\anaconda3\\lib\\site-packages (from optuna) (6.7.0)\n",
      "Requirement already satisfied: numpy in c:\\users\\user\\anaconda3\\lib\\site-packages (from optuna) (1.20.3)\n",
      "Requirement already satisfied: alembic>=1.5.0 in c:\\users\\user\\anaconda3\\lib\\site-packages (from optuna) (1.10.3)\n",
      "Requirement already satisfied: packaging>=20.0 in c:\\users\\user\\anaconda3\\lib\\site-packages (from optuna) (23.0)\n",
      "Requirement already satisfied: Mako in c:\\users\\user\\anaconda3\\lib\\site-packages (from alembic>=1.5.0->optuna) (1.2.4)\n",
      "Requirement already satisfied: typing-extensions>=4 in c:\\users\\user\\anaconda3\\lib\\site-packages (from alembic>=1.5.0->optuna) (4.4.0)\n",
      "Requirement already satisfied: greenlet!=0.4.17 in c:\\users\\user\\anaconda3\\lib\\site-packages (from sqlalchemy>=1.3.0->optuna) (1.1.1)\n",
      "Requirement already satisfied: colorama in c:\\users\\user\\anaconda3\\lib\\site-packages (from colorlog->optuna) (0.4.4)\n",
      "Requirement already satisfied: MarkupSafe>=0.9.2 in c:\\users\\user\\anaconda3\\lib\\site-packages (from Mako->alembic>=1.5.0->optuna) (1.1.1)\n"
     ]
    }
   ],
   "source": [
    "!pip install pytorch-tabnet\n",
    "!pip install optuna"
   ],
   "metadata": {
    "collapsed": false,
    "pycharm": {
     "is_executing": true
    },
    "ExecuteTime": {
     "end_time": "2023-07-30T19:34:46.309035800Z",
     "start_time": "2023-07-30T19:34:34.222197500Z"
    }
   }
  },
  {
   "cell_type": "code",
   "execution_count": 37,
   "outputs": [],
   "source": [
    "# Convert Pandas DataFrame to NumPy array\n",
    "X_train_np = X_train_preprocessed.values\n",
    "X_test_np = X_test_preprocessed.values"
   ],
   "metadata": {
    "collapsed": false,
    "pycharm": {
     "is_executing": true
    },
    "ExecuteTime": {
     "end_time": "2023-07-30T19:34:46.310033100Z",
     "start_time": "2023-07-30T19:34:46.309035800Z"
    }
   }
  },
  {
   "cell_type": "code",
   "execution_count": 38,
   "outputs": [
    {
     "name": "stderr",
     "output_type": "stream",
     "text": [
      "\u001B[32m[I 2023-07-30 22:34:43,100]\u001B[0m A new study created in memory with name: no-name-6128b48f-9892-4c6c-ba89-f6a5c1c0536a\u001B[0m\n"
     ]
    },
    {
     "name": "stdout",
     "output_type": "stream",
     "text": [
      "\n",
      "Early stopping occurred at epoch 32 with best_epoch = 22 and best_val_0_auc = 0.62909\n"
     ]
    },
    {
     "name": "stderr",
     "output_type": "stream",
     "text": [
      "C:\\Users\\user\\anaconda3\\lib\\site-packages\\pytorch_tabnet\\callbacks.py:172: UserWarning: Best weights from best epoch are automatically used!\n",
      "  warnings.warn(wrn_msg)\n",
      "\u001B[32m[I 2023-07-30 22:45:21,988]\u001B[0m Trial 0 finished with value: 0.6290858617453863 and parameters: {'n_d': 12, 'n_a': 23, 'n_steps': 9, 'gamma': 0.4477396789079473, 'n_independent': 8, 'n_shared': 4, 'lambda_sparse': 0.09038343107353568}. Best is trial 0 with value: 0.6290858617453863.\u001B[0m\n",
      "C:\\Users\\user\\anaconda3\\lib\\site-packages\\pytorch_tabnet\\abstract_model.py:75: UserWarning: Device used : cpu\n",
      "  warnings.warn(f\"Device used : {self.device}\")\n",
      "C:\\Users\\user\\anaconda3\\lib\\site-packages\\pytorch_tabnet\\abstract_model.py:651: UserWarning: No early stopping will be performed, last training weights will be used.\n",
      "  warnings.warn(wrn_msg)\n"
     ]
    },
    {
     "name": "stdout",
     "output_type": "stream",
     "text": [
      "epoch 0  | loss: 4.28608 |  0:00:20s\n",
      "epoch 1  | loss: 3.3059  |  0:00:37s\n",
      "epoch 10 | loss: 1.13285 |  0:02:54s\n",
      "epoch 11 | loss: 1.05276 |  0:03:08s\n",
      "epoch 12 | loss: 1.0416  |  0:03:23s\n",
      "epoch 13 | loss: 0.99781 |  0:03:36s\n",
      "epoch 14 | loss: 1.00627 |  0:03:49s\n",
      "epoch 15 | loss: 1.00629 |  0:04:02s\n",
      "epoch 16 | loss: 0.98737 |  0:04:13s\n",
      "epoch 17 | loss: 0.98974 |  0:04:26s\n",
      "epoch 18 | loss: 0.98341 |  0:04:38s\n",
      "epoch 19 | loss: 0.98219 |  0:04:52s\n",
      "epoch 20 | loss: 0.97554 |  0:05:05s\n",
      "epoch 21 | loss: 0.97318 |  0:05:18s\n",
      "epoch 22 | loss: 0.9607  |  0:05:31s\n",
      "epoch 23 | loss: 0.96148 |  0:05:44s\n",
      "epoch 24 | loss: 0.95515 |  0:05:56s\n",
      "epoch 25 | loss: 0.95104 |  0:06:09s\n",
      "epoch 26 | loss: 0.94694 |  0:06:21s\n",
      "epoch 27 | loss: 0.94607 |  0:06:33s\n",
      "epoch 28 | loss: 0.9445  |  0:06:47s\n",
      "epoch 29 | loss: 0.93841 |  0:07:00s\n",
      "epoch 30 | loss: 0.93486 |  0:07:13s\n",
      "epoch 31 | loss: 0.92659 |  0:07:26s\n",
      "epoch 32 | loss: 0.92185 |  0:07:39s\n",
      "epoch 33 | loss: 0.9165  |  0:07:51s\n",
      "epoch 34 | loss: 0.91525 |  0:08:03s\n",
      "epoch 35 | loss: 0.90505 |  0:08:16s\n",
      "epoch 36 | loss: 0.90101 |  0:08:29s\n",
      "epoch 37 | loss: 0.89567 |  0:08:43s\n",
      "epoch 38 | loss: 0.89699 |  0:08:56s\n",
      "epoch 39 | loss: 0.89031 |  0:09:09s\n",
      "epoch 40 | loss: 0.88384 |  0:09:22s\n",
      "epoch 41 | loss: 0.88136 |  0:09:35s\n",
      "epoch 42 | loss: 0.8726  |  0:09:47s\n",
      "epoch 43 | loss: 0.8762  |  0:10:00s\n",
      "epoch 44 | loss: 0.87196 |  0:10:12s\n",
      "epoch 45 | loss: 0.86348 |  0:10:26s\n",
      "epoch 46 | loss: 0.85124 |  0:10:39s\n",
      "epoch 47 | loss: 0.85701 |  0:10:53s\n",
      "epoch 48 | loss: 0.85351 |  0:11:06s\n",
      "epoch 49 | loss: 0.85102 |  0:11:19s\n",
      "epoch 50 | loss: 0.83956 |  0:11:32s\n",
      "epoch 51 | loss: 0.83083 |  0:11:44s\n",
      "epoch 52 | loss: 0.83693 |  0:11:57s\n",
      "epoch 53 | loss: 0.82753 |  0:12:08s\n",
      "epoch 54 | loss: 0.82795 |  0:12:20s\n",
      "epoch 55 | loss: 0.82278 |  0:12:31s\n",
      "epoch 56 | loss: 0.81999 |  0:12:42s\n",
      "epoch 57 | loss: 0.81326 |  0:12:52s\n",
      "epoch 58 | loss: 0.81442 |  0:13:03s\n",
      "epoch 59 | loss: 0.81489 |  0:13:14s\n",
      "epoch 60 | loss: 0.79823 |  0:13:25s\n",
      "epoch 61 | loss: 0.80235 |  0:13:36s\n",
      "epoch 62 | loss: 0.80541 |  0:13:47s\n",
      "epoch 63 | loss: 0.78526 |  0:13:57s\n",
      "epoch 64 | loss: 0.78835 |  0:14:08s\n",
      "epoch 65 | loss: 0.78558 |  0:14:20s\n",
      "epoch 66 | loss: 0.77258 |  0:14:31s\n",
      "epoch 67 | loss: 0.77764 |  0:14:42s\n",
      "epoch 68 | loss: 0.75726 |  0:14:53s\n",
      "epoch 69 | loss: 0.77007 |  0:15:03s\n",
      "epoch 70 | loss: 0.75717 |  0:15:13s\n",
      "epoch 71 | loss: 0.76085 |  0:15:21s\n",
      "epoch 72 | loss: 0.75029 |  0:15:29s\n",
      "epoch 73 | loss: 0.73998 |  0:15:36s\n",
      "epoch 74 | loss: 0.74811 |  0:15:44s\n",
      "epoch 75 | loss: 0.74402 |  0:15:51s\n",
      "epoch 76 | loss: 0.73321 |  0:15:59s\n",
      "epoch 77 | loss: 0.71778 |  0:16:07s\n",
      "epoch 78 | loss: 0.7072  |  0:16:14s\n",
      "epoch 79 | loss: 0.71659 |  0:16:22s\n",
      "epoch 80 | loss: 0.71496 |  0:16:28s\n",
      "epoch 81 | loss: 0.71061 |  0:16:34s\n",
      "epoch 82 | loss: 0.72196 |  0:16:41s\n",
      "epoch 83 | loss: 0.7003  |  0:16:48s\n",
      "epoch 84 | loss: 0.68401 |  0:16:54s\n",
      "epoch 85 | loss: 0.67923 |  0:17:01s\n",
      "epoch 86 | loss: 0.68367 |  0:17:07s\n",
      "epoch 87 | loss: 0.67801 |  0:17:13s\n",
      "epoch 88 | loss: 0.66935 |  0:17:20s\n",
      "epoch 89 | loss: 0.67029 |  0:17:26s\n",
      "epoch 90 | loss: 0.67461 |  0:17:33s\n",
      "epoch 91 | loss: 0.67286 |  0:17:41s\n",
      "epoch 92 | loss: 0.68079 |  0:17:49s\n",
      "epoch 93 | loss: 0.65448 |  0:17:57s\n",
      "epoch 94 | loss: 0.66855 |  0:18:04s\n",
      "epoch 95 | loss: 0.65658 |  0:18:12s\n",
      "epoch 96 | loss: 0.64958 |  0:18:20s\n",
      "epoch 97 | loss: 0.65209 |  0:18:28s\n",
      "epoch 98 | loss: 0.64583 |  0:18:36s\n",
      "epoch 99 | loss: 0.63997 |  0:18:44s\n"
     ]
    },
    {
     "data": {
      "text/plain": "{'n_d': 12,\n 'n_a': 23,\n 'n_steps': 9,\n 'gamma': 0.4477396789079473,\n 'n_independent': 8,\n 'n_shared': 4,\n 'lambda_sparse': 0.09038343107353568}"
     },
     "execution_count": 38,
     "metadata": {},
     "output_type": "execute_result"
    }
   ],
   "source": [
    "import torch\n",
    "from pytorch_tabnet.tab_model import TabNetClassifier\n",
    "import optuna\n",
    "from sklearn.metrics import mean_squared_error\n",
    "\n",
    "# Define objective function for optuna\n",
    "def objective(trial):\n",
    "    # Generate hyperparameter search space\n",
    "    params = {\n",
    "        'n_d': trial.suggest_int('n_d', 8, 64),\n",
    "        'n_a': trial.suggest_int('n_a', 8, 64),\n",
    "        'n_steps': trial.suggest_int('n_steps', 1, 15),\n",
    "        'gamma': trial.suggest_float('gamma', 0.1, 2.0),\n",
    "        'n_independent': trial.suggest_int('n_independent', 1, 10),\n",
    "        'n_shared': trial.suggest_int('n_shared', 1, 10),\n",
    "        'lambda_sparse': trial.suggest_float('lambda_sparse', 0.0001, 0.1),\n",
    "        # 'optimizer_fn': torch.optim.Adam,\n",
    "        # 'optimizer_params': dict(lr=2e-2, weight_decay=1e-5),\n",
    "        # 'mask_type': 'entmax',\n",
    "        # 'scheduler_params': dict(mode=\"min\", patience=5, min_lr=1e-5, factor=0.9,),\n",
    "        # 'scheduler_fn': torch.optim.lr_scheduler.ReduceLROnPlateau,\n",
    "        'verbose': 0\n",
    "    }\n",
    "\n",
    "    # Create TabNetClassifier object with hyperparameters from optuna\n",
    "    classifier = TabNetClassifier(**params)\n",
    "\n",
    "    # Train and evaluate the model\n",
    "    classifier.fit(X_train_np, y_train, eval_set=[(X_test_np, y_test)])\n",
    "    val_preds = classifier.predict_proba(X_test_np)[:, 1]\n",
    "    val_auc = roc_auc_score(y_test, val_preds)\n",
    "\n",
    "    return val_auc\n",
    "\n",
    "# Create optuna study\n",
    "study = optuna.create_study(direction='maximize')\n",
    "\n",
    "# Optimize hyperparameters using optuna\n",
    "study.optimize(objective, n_trials=42, timeout=600)\n",
    "\n",
    "# Get best hyperparameters from optuna\n",
    "best_params = study.best_trial.params\n",
    "\n",
    "# Train final model with best hyperparameters\n",
    "tabnet_classifier = TabNetClassifier(**best_params)\n",
    "tabnet_classifier.fit(X_train_np, y_train)\n",
    "best_params"
   ],
   "metadata": {
    "collapsed": false,
    "pycharm": {
     "is_executing": true
    },
    "ExecuteTime": {
     "end_time": "2023-07-30T20:04:08.366637900Z",
     "start_time": "2023-07-30T19:34:46.309035800Z"
    }
   }
  },
  {
   "cell_type": "markdown",
   "source": [
    "Evaluate the best model on the test data"
   ],
   "metadata": {
    "collapsed": false
   }
  },
  {
   "cell_type": "code",
   "execution_count": 39,
   "outputs": [
    {
     "name": "stdout",
     "output_type": "stream",
     "text": [
      "Tabnet (test data)\n",
      "Accuracy: 0.52\n",
      "Precision: 0.52\n",
      "Recall: 0.57\n",
      "F1-score: 0.54\n",
      "ROC-AUC score: 0.52\n"
     ]
    },
    {
     "data": {
      "text/plain": "<Figure size 576x576 with 2 Axes>",
      "image/png": "[encoded data removed]"
     },
     "metadata": {},
     "output_type": "display_data"
    }
   ],
   "source": [
    "# Evaluate final model on test set\n",
    "y_test_pred = tabnet_classifier.predict(X_test_np)\n",
    "evaluate_model(\"Tabnet (test data)\", y_test, y_test_pred)"
   ],
   "metadata": {
    "collapsed": false,
    "pycharm": {
     "is_executing": true
    },
    "ExecuteTime": {
     "end_time": "2023-07-30T20:04:08.929188300Z",
     "start_time": "2023-07-30T20:04:08.369633300Z"
    }
   }
  },
  {
   "cell_type": "markdown",
   "source": [
    "The best model is Gradient Boosting"
   ],
   "metadata": {
    "collapsed": false
   }
  },
  {
   "cell_type": "code",
   "execution_count": 42,
   "outputs": [],
   "source": [
    "the_best_model_ever = gb_best_estimator"
   ],
   "metadata": {
    "collapsed": false,
    "ExecuteTime": {
     "end_time": "2023-07-30T20:04:08.980054400Z",
     "start_time": "2023-07-30T20:04:08.912233600Z"
    }
   }
  },
  {
   "cell_type": "markdown",
   "source": [
    "Feature importance"
   ],
   "metadata": {
    "collapsed": false
   }
  },
  {
   "cell_type": "code",
   "execution_count": 43,
   "outputs": [
    {
     "data": {
      "text/plain": "                                           importance\nGaze_In_out_RoI_Ratio_Pre                    0.126563\npeak_velocity_Max_Saccades_End_In_RoI_Pre    0.059032\nDVA_Sem_Gaze_Pre                             0.054278\nFixations_Counts_Out_RoI_Pre                 0.049868\nDVA_AUC_Fixations_Pre                        0.048003\n...                                               ...\nonset_Sem_Fixations_In_RoI_Pre               0.000000\nonset_AUC_Fixations_In_RoI_Pre               0.000000\nSaccades_End_Counts_Out_RoI_Pre              0.000000\nFixations_Counts_In_RoI_Pre                  0.000000\nonset_Max_Saccades_Start_In_RoI_Pre          0.000000\n\n[73 rows x 1 columns]",
      "text/html": "<div>\n<style scoped>\n    .dataframe tbody tr th:only-of-type {\n        vertical-align: middle;\n    }\n\n    .dataframe tbody tr th {\n        vertical-align: top;\n    }\n\n    .dataframe thead th {\n        text-align: right;\n    }\n</style>\n<table border=\"1\" class=\"dataframe\">\n  <thead>\n    <tr style=\"text-align: right;\">\n      <th></th>\n      <th>importance</th>\n    </tr>\n  </thead>\n  <tbody>\n    <tr>\n      <th>Gaze_In_out_RoI_Ratio_Pre</th>\n      <td>0.126563</td>\n    </tr>\n    <tr>\n      <th>peak_velocity_Max_Saccades_End_In_RoI_Pre</th>\n      <td>0.059032</td>\n    </tr>\n    <tr>\n      <th>DVA_Sem_Gaze_Pre</th>\n      <td>0.054278</td>\n    </tr>\n    <tr>\n      <th>Fixations_Counts_Out_RoI_Pre</th>\n      <td>0.049868</td>\n    </tr>\n    <tr>\n      <th>DVA_AUC_Fixations_Pre</th>\n      <td>0.048003</td>\n    </tr>\n    <tr>\n      <th>...</th>\n      <td>...</td>\n    </tr>\n    <tr>\n      <th>onset_Sem_Fixations_In_RoI_Pre</th>\n      <td>0.000000</td>\n    </tr>\n    <tr>\n      <th>onset_AUC_Fixations_In_RoI_Pre</th>\n      <td>0.000000</td>\n    </tr>\n    <tr>\n      <th>Saccades_End_Counts_Out_RoI_Pre</th>\n      <td>0.000000</td>\n    </tr>\n    <tr>\n      <th>Fixations_Counts_In_RoI_Pre</th>\n      <td>0.000000</td>\n    </tr>\n    <tr>\n      <th>onset_Max_Saccades_Start_In_RoI_Pre</th>\n      <td>0.000000</td>\n    </tr>\n  </tbody>\n</table>\n<p>73 rows × 1 columns</p>\n</div>"
     },
     "execution_count": 43,
     "metadata": {},
     "output_type": "execute_result"
    }
   ],
   "source": [
    "feature_importances = pd.DataFrame(the_best_model_ever.feature_importances_,\n",
    "                                   index = X_train_preprocessed.columns,\n",
    "                                    columns=['importance']).sort_values('importance', ascending=False)\n",
    "feature_importances"
   ],
   "metadata": {
    "collapsed": false,
    "ExecuteTime": {
     "end_time": "2023-07-30T20:04:08.985040800Z",
     "start_time": "2023-07-30T20:04:08.926196300Z"
    }
   }
  },
  {
   "cell_type": "markdown",
   "source": [
    "\n"
   ],
   "metadata": {
    "collapsed": false
   }
  }
 ],
 "metadata": {
  "kernelspec": {
   "display_name": "Python 3",
   "language": "python",
   "name": "python3"
  },
  "language_info": {
   "codemirror_mode": {
    "name": "ipython",
    "version": 2
   },
   "file_extension": ".py",
   "mimetype": "text/x-python",
   "name": "python",
   "nbconvert_exporter": "python",
   "pygments_lexer": "ipython2",
   "version": "2.7.6"
  }
 },
 "nbformat": 4,
 "nbformat_minor": 0
}