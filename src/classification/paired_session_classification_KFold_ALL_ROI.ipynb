{
 "cells": [
  {
   "cell_type": "code",
   "execution_count": 1,
   "outputs": [],
   "source": [
    "import pandas as pd\n",
    "from matplotlib import pyplot as plt\n",
    "import numpy as np\n",
    "import os\n",
    "from src import config"
   ],
   "metadata": {
    "collapsed": false,
    "ExecuteTime": {
     "end_time": "2023-12-06T15:14:21.847736Z",
     "start_time": "2023-12-06T15:14:21.832728400Z"
    }
   },
   "id": "7c6fcef270881191"
  },
  {
   "cell_type": "code",
   "execution_count": 2,
   "outputs": [],
   "source": [
    "features_df = pd.read_pickle(os.path.join(config.classification_resource_dir, \"pairwise_sessions_features_df.pkl\"))\n",
    "labels_df = pd.read_pickle(os.path.join(config.classification_resource_dir, \"pairwise_sessions_labels_df.pkl\"))"
   ],
   "metadata": {
    "collapsed": false,
    "ExecuteTime": {
     "end_time": "2023-12-06T15:14:21.908736200Z",
     "start_time": "2023-12-06T15:14:21.848733100Z"
    }
   },
   "id": "9447514d4b35cb20"
  },
  {
   "cell_type": "code",
   "execution_count": 3,
   "outputs": [
    {
     "data": {
      "text/plain": "   Movie Gaze_Counts_In_RoI Gaze_Counts_Out_RoI Gaze_In_out_RoI_Ratio  \\\n0     17               -1.0            0.078068                  -1.0   \n1     59           0.944444           -0.007256              0.944848   \n2      6               -1.0             0.00679                  -1.0   \n3     39          -0.538793            0.036614              -0.55568   \n4     50               -1.0            0.103968                  -1.0   \n\n  Gaze_Re_Entries_To_RoI_Count Gaze_Re_Entries_To_RoI_Rate  \\\n0                         -1.0                        -1.0   \n1                          0.5                         0.5   \n2                         -1.0                        -1.0   \n3                          0.0                         0.0   \n4                         -1.0                        -1.0   \n\n  Fixations_Counts_In_RoI Fixations_Counts_Out_RoI Fixations_In_out_RoI_Ratio  \\\n0                    -1.0                 0.421053                       -1.0   \n1                     NaN                -0.052632                        NaN   \n2                     NaN                -0.142857                        NaN   \n3                    -0.5                -0.130435                     -0.425   \n4                    -1.0                 0.259259                       -1.0   \n\n  Fixations_Re_Entries_To_RoI_Count  ... SQRT_DVA_Max_Fixations  \\\n0                              -1.0  ...               0.015794   \n1                               NaN  ...              -0.008087   \n2                               NaN  ...               0.007391   \n3                               0.0  ...              -0.002056   \n4                              -1.0  ...               0.125335   \n\n  Distance_Min_Fixations DVA_Min_Fixations SQRT_DVA_Min_Fixations  \\\n0              -0.706892         -0.708244              -0.459856   \n1               0.176254          0.182153               0.095651   \n2               0.482661          0.479341               0.278433   \n3              -0.013556          0.009354               0.004688   \n4               0.964707          0.964855               0.812529   \n\n  Distance_Sem_Fixations DVA_Sem_Fixations SQRT_DVA_Sem_Fixations  \\\n0              -0.034055         -0.034264               -0.03223   \n1              -0.056264         -0.060156               -0.09353   \n2              -0.317705         -0.317179              -0.360133   \n3              -0.062362         -0.059379              -0.073431   \n4              -0.168671         -0.176635               -0.38426   \n\n  Distance_AUC_Fixations DVA_AUC_Fixations SQRT_DVA_AUC_Fixations  \n0               0.481878          0.481708               0.424344  \n1               0.002899          0.002563              -0.024273  \n2               0.085307          0.082894               -0.01638  \n3              -0.094482         -0.094433              -0.119179  \n4               0.258452          0.260548               0.225302  \n\n[5 rows x 103 columns]",
      "text/html": "<div>\n<style scoped>\n    .dataframe tbody tr th:only-of-type {\n        vertical-align: middle;\n    }\n\n    .dataframe tbody tr th {\n        vertical-align: top;\n    }\n\n    .dataframe thead th {\n        text-align: right;\n    }\n</style>\n<table border=\"1\" class=\"dataframe\">\n  <thead>\n    <tr style=\"text-align: right;\">\n      <th></th>\n      <th>Movie</th>\n      <th>Gaze_Counts_In_RoI</th>\n      <th>Gaze_Counts_Out_RoI</th>\n      <th>Gaze_In_out_RoI_Ratio</th>\n      <th>Gaze_Re_Entries_To_RoI_Count</th>\n      <th>Gaze_Re_Entries_To_RoI_Rate</th>\n      <th>Fixations_Counts_In_RoI</th>\n      <th>Fixations_Counts_Out_RoI</th>\n      <th>Fixations_In_out_RoI_Ratio</th>\n      <th>Fixations_Re_Entries_To_RoI_Count</th>\n      <th>...</th>\n      <th>SQRT_DVA_Max_Fixations</th>\n      <th>Distance_Min_Fixations</th>\n      <th>DVA_Min_Fixations</th>\n      <th>SQRT_DVA_Min_Fixations</th>\n      <th>Distance_Sem_Fixations</th>\n      <th>DVA_Sem_Fixations</th>\n      <th>SQRT_DVA_Sem_Fixations</th>\n      <th>Distance_AUC_Fixations</th>\n      <th>DVA_AUC_Fixations</th>\n      <th>SQRT_DVA_AUC_Fixations</th>\n    </tr>\n  </thead>\n  <tbody>\n    <tr>\n      <th>0</th>\n      <td>17</td>\n      <td>-1.0</td>\n      <td>0.078068</td>\n      <td>-1.0</td>\n      <td>-1.0</td>\n      <td>-1.0</td>\n      <td>-1.0</td>\n      <td>0.421053</td>\n      <td>-1.0</td>\n      <td>-1.0</td>\n      <td>...</td>\n      <td>0.015794</td>\n      <td>-0.706892</td>\n      <td>-0.708244</td>\n      <td>-0.459856</td>\n      <td>-0.034055</td>\n      <td>-0.034264</td>\n      <td>-0.03223</td>\n      <td>0.481878</td>\n      <td>0.481708</td>\n      <td>0.424344</td>\n    </tr>\n    <tr>\n      <th>1</th>\n      <td>59</td>\n      <td>0.944444</td>\n      <td>-0.007256</td>\n      <td>0.944848</td>\n      <td>0.5</td>\n      <td>0.5</td>\n      <td>NaN</td>\n      <td>-0.052632</td>\n      <td>NaN</td>\n      <td>NaN</td>\n      <td>...</td>\n      <td>-0.008087</td>\n      <td>0.176254</td>\n      <td>0.182153</td>\n      <td>0.095651</td>\n      <td>-0.056264</td>\n      <td>-0.060156</td>\n      <td>-0.09353</td>\n      <td>0.002899</td>\n      <td>0.002563</td>\n      <td>-0.024273</td>\n    </tr>\n    <tr>\n      <th>2</th>\n      <td>6</td>\n      <td>-1.0</td>\n      <td>0.00679</td>\n      <td>-1.0</td>\n      <td>-1.0</td>\n      <td>-1.0</td>\n      <td>NaN</td>\n      <td>-0.142857</td>\n      <td>NaN</td>\n      <td>NaN</td>\n      <td>...</td>\n      <td>0.007391</td>\n      <td>0.482661</td>\n      <td>0.479341</td>\n      <td>0.278433</td>\n      <td>-0.317705</td>\n      <td>-0.317179</td>\n      <td>-0.360133</td>\n      <td>0.085307</td>\n      <td>0.082894</td>\n      <td>-0.01638</td>\n    </tr>\n    <tr>\n      <th>3</th>\n      <td>39</td>\n      <td>-0.538793</td>\n      <td>0.036614</td>\n      <td>-0.55568</td>\n      <td>0.0</td>\n      <td>0.0</td>\n      <td>-0.5</td>\n      <td>-0.130435</td>\n      <td>-0.425</td>\n      <td>0.0</td>\n      <td>...</td>\n      <td>-0.002056</td>\n      <td>-0.013556</td>\n      <td>0.009354</td>\n      <td>0.004688</td>\n      <td>-0.062362</td>\n      <td>-0.059379</td>\n      <td>-0.073431</td>\n      <td>-0.094482</td>\n      <td>-0.094433</td>\n      <td>-0.119179</td>\n    </tr>\n    <tr>\n      <th>4</th>\n      <td>50</td>\n      <td>-1.0</td>\n      <td>0.103968</td>\n      <td>-1.0</td>\n      <td>-1.0</td>\n      <td>-1.0</td>\n      <td>-1.0</td>\n      <td>0.259259</td>\n      <td>-1.0</td>\n      <td>-1.0</td>\n      <td>...</td>\n      <td>0.125335</td>\n      <td>0.964707</td>\n      <td>0.964855</td>\n      <td>0.812529</td>\n      <td>-0.168671</td>\n      <td>-0.176635</td>\n      <td>-0.38426</td>\n      <td>0.258452</td>\n      <td>0.260548</td>\n      <td>0.225302</td>\n    </tr>\n  </tbody>\n</table>\n<p>5 rows × 103 columns</p>\n</div>"
     },
     "execution_count": 3,
     "metadata": {},
     "output_type": "execute_result"
    }
   ],
   "source": [
    "# Remove all the features that are not contains 'Pre' in their name\n",
    "features_df = features_df.loc[:, ~features_df.columns.str.contains('Post')]\n",
    "\n",
    "# Remove all the features that are not contains 'DVA' in their name or config.MOVIE\n",
    "# features_df = features_df.loc[:, features_df.columns.str.contains('DVA') | features_df.columns.str.contains(config.MOVIE)]\n",
    "\n",
    "# Change the names of the features to be more readable-\n",
    "# remove the suffix '_Pre'\n",
    "features_df.columns = [col.replace('_Pre', '') for col in features_df.columns]\n",
    "# Take all the features that start with 'DVA', and add the suffix '_Distance' to them\n",
    "# features_df.columns = [col + '_Distance' if col.startswith('DVA') else col for col in features_df.columns]\n",
    "# features_df.columns = [col.replace('DVA_', '') for col in features_df.columns]\n",
    "\n",
    "features_df.head()"
   ],
   "metadata": {
    "collapsed": false,
    "ExecuteTime": {
     "end_time": "2023-12-06T15:14:21.945255800Z",
     "start_time": "2023-12-06T15:14:21.925257Z"
    }
   },
   "id": "c2e51e57ddd33cf3"
  },
  {
   "cell_type": "code",
   "execution_count": 4,
   "outputs": [
    {
     "name": "stdout",
     "output_type": "stream",
     "text": [
      "<class 'pandas.core.frame.DataFrame'>\n",
      "RangeIndex: 4352 entries, 0 to 4351\n",
      "Columns: 103 entries, Movie to SQRT_DVA_AUC_Fixations\n",
      "dtypes: int8(1), object(102)\n",
      "memory usage: 3.4+ MB\n"
     ]
    }
   ],
   "source": [
    "features_df.info()"
   ],
   "metadata": {
    "collapsed": false,
    "ExecuteTime": {
     "end_time": "2023-12-06T15:14:21.958254900Z",
     "start_time": "2023-12-06T15:14:21.946256300Z"
    }
   },
   "id": "26878df6c8e95564"
  },
  {
   "cell_type": "code",
   "execution_count": 5,
   "outputs": [
    {
     "data": {
      "text/plain": "           normalized_by_session_a\nseries_id                         \n0                                1\n1                                1\n2                                1\n3                                1\n4                                0",
      "text/html": "<div>\n<style scoped>\n    .dataframe tbody tr th:only-of-type {\n        vertical-align: middle;\n    }\n\n    .dataframe tbody tr th {\n        vertical-align: top;\n    }\n\n    .dataframe thead th {\n        text-align: right;\n    }\n</style>\n<table border=\"1\" class=\"dataframe\">\n  <thead>\n    <tr style=\"text-align: right;\">\n      <th></th>\n      <th>normalized_by_session_a</th>\n    </tr>\n    <tr>\n      <th>series_id</th>\n      <th></th>\n    </tr>\n  </thead>\n  <tbody>\n    <tr>\n      <th>0</th>\n      <td>1</td>\n    </tr>\n    <tr>\n      <th>1</th>\n      <td>1</td>\n    </tr>\n    <tr>\n      <th>2</th>\n      <td>1</td>\n    </tr>\n    <tr>\n      <th>3</th>\n      <td>1</td>\n    </tr>\n    <tr>\n      <th>4</th>\n      <td>0</td>\n    </tr>\n  </tbody>\n</table>\n</div>"
     },
     "execution_count": 5,
     "metadata": {},
     "output_type": "execute_result"
    }
   ],
   "source": [
    "labels_df.head()"
   ],
   "metadata": {
    "collapsed": false,
    "ExecuteTime": {
     "end_time": "2023-12-06T15:14:21.996260200Z",
     "start_time": "2023-12-06T15:14:21.959256100Z"
    }
   },
   "id": "e6f77a26d5f5ac9e"
  },
  {
   "cell_type": "code",
   "execution_count": 6,
   "outputs": [
    {
     "name": "stdout",
     "output_type": "stream",
     "text": [
      "<class 'pandas.core.frame.DataFrame'>\n",
      "Int64Index: 4352 entries, 0 to 4351\n",
      "Data columns (total 1 columns):\n",
      " #   Column                   Non-Null Count  Dtype\n",
      "---  ------                   --------------  -----\n",
      " 0   normalized_by_session_a  4352 non-null   int64\n",
      "dtypes: int64(1)\n",
      "memory usage: 68.0 KB\n"
     ]
    }
   ],
   "source": [
    "labels_df.info()"
   ],
   "metadata": {
    "collapsed": false,
    "ExecuteTime": {
     "end_time": "2023-12-06T15:14:22.033945900Z",
     "start_time": "2023-12-06T15:14:21.977254800Z"
    }
   },
   "id": "55d5ddd75248e2af"
  },
  {
   "cell_type": "markdown",
   "source": [
    "Data Cleaning"
   ],
   "metadata": {
    "collapsed": false
   },
   "id": "f1f209597785e848"
  },
  {
   "cell_type": "markdown",
   "source": [
    "how many missing values / inf values are there in each column? show the top 10"
   ],
   "metadata": {
    "collapsed": false
   },
   "id": "aafd11558e49d132"
  },
  {
   "cell_type": "code",
   "execution_count": 7,
   "outputs": [
    {
     "name": "stdout",
     "output_type": "stream",
     "text": [
      "Number of missing values in each column: Pupil radius                                4352\n",
      "onset_Sem_Saccades_Start_In_RoI             2858\n",
      "onset_Std_Saccades_Start_In_RoI             2858\n",
      "Pupil radius_Fixations_ReEntry_Mean_Diff    2846\n",
      "Pupil radius_Fixations_First_Diff           2840\n",
      "onset_Sem_Fixations_In_RoI                  2780\n",
      "onset_Std_Fixations_In_RoI                  2780\n",
      "last_onset_Sem_Saccades_End_In_RoI          2762\n",
      "last_onset_Std_Saccades_End_In_RoI          2762\n",
      "onset_Min_Saccades_Start_In_RoI             2288\n",
      "dtype: int64\n"
     ]
    }
   ],
   "source": [
    "print('Number of missing values in each column:', features_df.isin([np.nan, np.inf, -np.inf]).sum(axis=0).sort_values(ascending=False).head(10))"
   ],
   "metadata": {
    "collapsed": false,
    "ExecuteTime": {
     "end_time": "2023-12-06T15:14:22.189475900Z",
     "start_time": "2023-12-06T15:14:22.021302400Z"
    }
   },
   "id": "85ef8ca47e4d3dfc"
  },
  {
   "cell_type": "markdown",
   "source": [],
   "metadata": {
    "collapsed": false
   },
   "id": "c1007ccd1578dad8"
  },
  {
   "cell_type": "markdown",
   "source": [
    "Remove columns with more than 30% missing values or inf values"
   ],
   "metadata": {
    "collapsed": false
   },
   "id": "5dc4acced1407154"
  },
  {
   "cell_type": "code",
   "execution_count": 8,
   "outputs": [],
   "source": [
    "features_df = features_df.loc[:, features_df.isin([np.nan, np.inf, -np.inf]).mean(axis=0) < 0.3]"
   ],
   "metadata": {
    "collapsed": false,
    "ExecuteTime": {
     "end_time": "2023-12-06T15:14:22.235057Z",
     "start_time": "2023-12-06T15:14:22.035912900Z"
    }
   },
   "id": "c7a3396286e92939"
  },
  {
   "cell_type": "code",
   "execution_count": 9,
   "outputs": [
    {
     "data": {
      "text/plain": "Gaze_Counts_In_RoI              0.290441\nGaze_In_out_RoI_Ratio           0.290441\nGaze_Re_Entries_To_RoI_Count    0.290441\nGaze_Re_Entries_To_RoI_Rate     0.290441\nDistance_Min_Gaze               0.249081\nDVA_Min_Gaze                    0.249081\nSQRT_DVA_Min_Gaze               0.249081\nDVA_Sem_Fixations               0.005974\nDistance_Std_Fixations          0.005974\nDistance_Sem_Fixations          0.005974\ndtype: float64"
     },
     "execution_count": 9,
     "metadata": {},
     "output_type": "execute_result"
    }
   ],
   "source": [
    "features_df.isin([np.nan, np.inf, -np.inf]).mean(axis=0).sort_values(ascending=False).head(10)"
   ],
   "metadata": {
    "collapsed": false,
    "ExecuteTime": {
     "end_time": "2023-12-06T15:14:22.242071900Z",
     "start_time": "2023-12-06T15:14:22.085965400Z"
    }
   },
   "id": "79c74410a4cfbc36"
  },
  {
   "cell_type": "markdown",
   "source": [
    "how many missing values / inf values are there in each row? show the top 10"
   ],
   "metadata": {
    "collapsed": false
   },
   "id": "7f57be7d57f24fd0"
  },
  {
   "cell_type": "code",
   "execution_count": 10,
   "outputs": [
    {
     "data": {
      "text/plain": "2921    0.549020\n2698    0.549020\n2257    0.549020\n3865    0.549020\n1188    0.529412\n1647    0.529412\n3823    0.470588\n440     0.470588\n3009    0.470588\n3419    0.470588\ndtype: float64"
     },
     "execution_count": 10,
     "metadata": {},
     "output_type": "execute_result"
    }
   ],
   "source": [
    "features_df.isin([np.nan, np.inf, -np.inf]).mean(axis=1).sort_values(ascending=False).head(10)"
   ],
   "metadata": {
    "collapsed": false,
    "ExecuteTime": {
     "end_time": "2023-12-06T15:14:22.242071900Z",
     "start_time": "2023-12-06T15:14:22.134479200Z"
    }
   },
   "id": "6f98ce4187c228ec"
  },
  {
   "cell_type": "markdown",
   "source": [
    "Remove rows with more than 50% missing values"
   ],
   "metadata": {
    "collapsed": false
   },
   "id": "145589330b707337"
  },
  {
   "cell_type": "code",
   "execution_count": 11,
   "outputs": [],
   "source": [
    "features_df = features_df.loc[features_df.isin([np.nan, np.inf, -np.inf]).mean(axis=1) < 0.5]\n",
    "# remove the corresponding rows from y_train\n",
    "labels_df = labels_df.loc[labels_df.index.isin(features_df.index)]"
   ],
   "metadata": {
    "collapsed": false,
    "ExecuteTime": {
     "end_time": "2023-12-06T15:14:22.255056900Z",
     "start_time": "2023-12-06T15:14:22.144474400Z"
    }
   },
   "id": "792221419802df14"
  },
  {
   "cell_type": "code",
   "execution_count": 12,
   "outputs": [
    {
     "data": {
      "text/plain": "440     0.470588\n3823    0.470588\n3009    0.470588\n3419    0.470588\n3748    0.411765\n3740    0.411765\n2785    0.411765\n2774    0.411765\n4107    0.196078\n2268    0.196078\ndtype: float64"
     },
     "execution_count": 12,
     "metadata": {},
     "output_type": "execute_result"
    }
   ],
   "source": [
    "features_df.isin([np.nan, np.inf, -np.inf]).mean(axis=1).sort_values(ascending=False).head(10)"
   ],
   "metadata": {
    "collapsed": false,
    "ExecuteTime": {
     "end_time": "2023-12-06T15:14:22.283057300Z",
     "start_time": "2023-12-06T15:14:22.176473900Z"
    }
   },
   "id": "e396a8799af88321"
  },
  {
   "cell_type": "markdown",
   "source": [
    "Subject-wise or leave-one-subject-out (LOSO) cross-validation"
   ],
   "metadata": {
    "collapsed": false
   },
   "id": "25d46039db7b7165"
  },
  {
   "cell_type": "markdown",
   "source": [
    "Leave-One-Subject-Out Cross-Validation (LOSO CV):\n",
    "- For each fold of the cross-validation, data from N-1 participants are used for training, and the data from the remaining participant is used for testing.\n",
    "- This process is repeated N times (for each participant), ensuring that each participant's data is used as a test set exactly once.\n",
    "- This method ensures that the model generalizes well across different participants."
   ],
   "metadata": {
    "collapsed": false
   },
   "id": "accfd74af5ba431"
  },
  {
   "cell_type": "code",
   "execution_count": 13,
   "outputs": [
    {
     "name": "stdout",
     "output_type": "stream",
     "text": [
      "['FY25' 'PS08' 'MA40' ... 'MA40' 'AI09' 'ZN05']\n"
     ]
    }
   ],
   "source": [
    "series_id_df = pd.read_pickle(os.path.join(config.classification_resource_dir, \"pairwise_sessions_series_id_df.pkl\"))\n",
    "\n",
    "# remove the corresponding rows from y_train\n",
    "series_id_df = series_id_df.loc[series_id_df.index.isin(features_df.index)]\n",
    "\n",
    "# Create a list of unique subject IDs\n",
    "subject_ids = series_id_df[config.SUBJECT].unique()\n",
    "\n",
    "# Order the list of subject IDs alphabetically\n",
    "subject_ids = np.sort(subject_ids)\n",
    "\n",
    "# Create groups of subject IDs\n",
    "groups = series_id_df[config.SUBJECT].values\n",
    "\n",
    "# Print the groups\n",
    "print(groups)"
   ],
   "metadata": {
    "collapsed": false,
    "ExecuteTime": {
     "end_time": "2023-12-06T15:14:22.359626600Z",
     "start_time": "2023-12-06T15:14:22.207474600Z"
    }
   },
   "id": "b00d1170f51a31c0"
  },
  {
   "cell_type": "code",
   "execution_count": 14,
   "outputs": [],
   "source": [
    "from sklearn.model_selection import GridSearchCV\n",
    "\n",
    "from xgboost import XGBClassifier\n",
    "from sklearn.svm import SVC\n",
    "from sklearn.ensemble import GradientBoostingClassifier, RandomForestClassifier\n",
    "from sklearn.linear_model import LogisticRegression"
   ],
   "metadata": {
    "collapsed": false,
    "ExecuteTime": {
     "end_time": "2023-12-06T15:14:22.485132500Z",
     "start_time": "2023-12-06T15:14:22.222498800Z"
    }
   },
   "id": "a01b0291073eaf6d"
  },
  {
   "cell_type": "code",
   "execution_count": 15,
   "outputs": [],
   "source": [
    "def logistic_regression_model_searcher():\n",
    "    # Define the range of values for each hyperparameter\n",
    "    C = np.linspace(0.01, 1, 15)\n",
    "    PENALTY = ['l1', 'l2']\n",
    "    SOLVER = ['liblinear', 'saga']\n",
    "    \n",
    "    LR_PARAM_GRID  = {\n",
    "        'C': C,\n",
    "        'penalty': PENALTY,\n",
    "        'solver': SOLVER\n",
    "    }\n",
    "    \n",
    "    return GridSearchCV(estimator=LogisticRegression(), param_grid=LR_PARAM_GRID, verbose=0)\n"
   ],
   "metadata": {
    "collapsed": false,
    "ExecuteTime": {
     "end_time": "2023-12-06T15:14:22.507131300Z",
     "start_time": "2023-12-06T15:14:22.487182900Z"
    }
   },
   "id": "14786f3ec0aff569"
  },
  {
   "cell_type": "code",
   "execution_count": 16,
   "outputs": [],
   "source": [
    "# Gradient Boosting:\n",
    "\n",
    "def gradient_boosting_model_searcher():\n",
    "    # Define the range of values for each hyperparameter\n",
    "    LEARNING_RATE = np.linspace(0.05, 0.5, 5)\n",
    "    MAX_DEPTH = range(2, 4)\n",
    "    N_ESTIMATORS = range(100, 150, 5)\n",
    "    \n",
    "    GB_PARAM_GRID  = {\n",
    "        'learning_rate': LEARNING_RATE,\n",
    "        'max_depth': MAX_DEPTH,\n",
    "        'n_estimators': N_ESTIMATORS\n",
    "    }\n",
    "    \n",
    "    return GridSearchCV(estimator=GradientBoostingClassifier(), param_grid=GB_PARAM_GRID, verbose=0)"
   ],
   "metadata": {
    "collapsed": false,
    "ExecuteTime": {
     "end_time": "2023-12-06T15:14:22.527827100Z",
     "start_time": "2023-12-06T15:14:22.503134400Z"
    }
   },
   "id": "d4c7e2a8356ddb34"
  },
  {
   "cell_type": "code",
   "execution_count": 17,
   "outputs": [],
   "source": [
    "# SVM:\n",
    "\n",
    "def svm_model_searcher():\n",
    "    # Define the range of values for each hyperparameter\n",
    "    C = np.linspace(0.01, 1, 10)\n",
    "    KERNEL = ['linear', 'poly', 'rbf', 'sigmoid']\n",
    "    GAMMA = ['scale', 'auto']\n",
    "    \n",
    "    SVM_PARAM_GRID  = {\n",
    "        'C': C,\n",
    "        'kernel': KERNEL,\n",
    "        'gamma': GAMMA\n",
    "    }\n",
    "    \n",
    "    return GridSearchCV(estimator=SVC(), param_grid=SVM_PARAM_GRID, verbose=0)"
   ],
   "metadata": {
    "collapsed": false,
    "ExecuteTime": {
     "end_time": "2023-12-06T15:14:22.546785600Z",
     "start_time": "2023-12-06T15:14:22.518176200Z"
    }
   },
   "id": "87147fda5f93f6fd"
  },
  {
   "cell_type": "code",
   "execution_count": 18,
   "outputs": [],
   "source": [
    "# Random Forest:\n",
    "\n",
    "def random_forest_model_searcher():\n",
    "    # Define the range of values for each hyperparameter\n",
    "    N_ESTIMATORS = range(50, 140, 10)\n",
    "    MAX_DEPTH = range(2, 5)\n",
    "    MIN_SAMPLES_SPLIT = range(2, 4)\n",
    "    MIN_SAMPLES_LEAF = range(1, 3)\n",
    "    \n",
    "    RF_PARAM_GRID  = {\n",
    "        'n_estimators': N_ESTIMATORS,\n",
    "        'max_depth': MAX_DEPTH,\n",
    "        'min_samples_split': MIN_SAMPLES_SPLIT,\n",
    "        'min_samples_leaf': MIN_SAMPLES_LEAF\n",
    "    }\n",
    "    \n",
    "    return GridSearchCV(estimator=RandomForestClassifier(), param_grid=RF_PARAM_GRID, verbose=0)"
   ],
   "metadata": {
    "collapsed": false,
    "ExecuteTime": {
     "end_time": "2023-12-06T15:14:22.548790100Z",
     "start_time": "2023-12-06T15:14:22.536788700Z"
    }
   },
   "id": "8f034f95c753d8d9"
  },
  {
   "cell_type": "code",
   "execution_count": 19,
   "outputs": [],
   "source": [
    "# XGBoost model\n",
    "\n",
    "def xgboost_model_searcher():\n",
    "    # Define the range of values for each hyperparameter\n",
    "    LEARNING_RATE = np.linspace(0.05, 0.5, 5)\n",
    "    MAX_DEPTH = range(2, 5)\n",
    "    N_ESTIMATORS = range(100, 150, 5)\n",
    "    \n",
    "    XGB_PARAM_GRID  = {\n",
    "        'learning_rate': LEARNING_RATE,\n",
    "        'max_depth': MAX_DEPTH,\n",
    "        'n_estimators': N_ESTIMATORS\n",
    "    }\n",
    "    \n",
    "    return GridSearchCV(estimator=XGBClassifier(), param_grid=XGB_PARAM_GRID, verbose=0)"
   ],
   "metadata": {
    "collapsed": false,
    "ExecuteTime": {
     "end_time": "2023-12-06T15:14:22.573790300Z",
     "start_time": "2023-12-06T15:14:22.549788200Z"
    }
   },
   "id": "ab4223a8bb4e06b"
  },
  {
   "cell_type": "code",
   "execution_count": 20,
   "outputs": [],
   "source": [
    "classifiers = {\n",
    "    # 'SVM': svm_model_searcher(),\n",
    "    # 'Gradient Boosting': gradient_boosting_model_searcher(),\n",
    "    # 'Random Forest': random_forest_model_searcher(),\n",
    "    # 'Logistic Regression': logistic_regression_model_searcher(),\n",
    "    'XGBoost': xgboost_model_searcher()\n",
    "}"
   ],
   "metadata": {
    "collapsed": false,
    "ExecuteTime": {
     "end_time": "2023-12-06T15:14:22.596847300Z",
     "start_time": "2023-12-06T15:14:22.563803700Z"
    }
   },
   "id": "f2b0e16b3549634f"
  },
  {
   "cell_type": "code",
   "execution_count": 21,
   "outputs": [],
   "source": [
    "from sklearn.metrics import confusion_matrix\n",
    "import seaborn as sns\n",
    "\n",
    "def evaluate_model(model_name, y_true, y_pred):\n",
    "    # Evaluate the model using various metrics\n",
    "    accuracy = accuracy_score(y_true, y_pred)\n",
    "    precision = precision_score(y_true, y_pred)\n",
    "    recall = recall_score(y_true, y_pred)\n",
    "    f1 = f1_score(y_true, y_pred)\n",
    "    roc_auc = roc_auc_score(y_true, y_pred)\n",
    "\n",
    "    print(model_name)\n",
    "    # Print the evaluation metrics\n",
    "    print(\"Accuracy:\", round(accuracy, 2))\n",
    "    print(\"Precision:\", round(precision, 2))\n",
    "    print(\"Recall:\", round(recall, 2))\n",
    "    print(\"F1-score:\", round(f1, 2))\n",
    "    print(\"ROC-AUC score:\", round(roc_auc, 2))\n",
    "\n",
    "    # Compute the confusion matrix\n",
    "    confusion_mat = confusion_matrix(y_true, y_pred)\n",
    "\n",
    "    # Create a heatmap visualization of the confusion matrix\n",
    "    fig, ax = plt.subplots(figsize=(8, 8))\n",
    "    sns.heatmap(confusion_mat, annot=True, cmap=\"Blues\", fmt=\"d\", ax=ax)\n",
    "\n",
    "    # Set the axis labels and title\n",
    "    ax.set_xlabel(\"Predicted Labels\")\n",
    "    ax.set_ylabel(\"True Labels\")\n",
    "    ax.set_title(\"Confusion Matrix\")\n",
    "\n",
    "    # Show the plot\n",
    "    plt.show()\n",
    "    \n",
    "    return confusion_mat"
   ],
   "metadata": {
    "collapsed": false,
    "ExecuteTime": {
     "end_time": "2023-12-06T15:14:22.596847300Z",
     "start_time": "2023-12-06T15:14:22.583788400Z"
    }
   },
   "id": "fce6879d296a15ed"
  },
  {
   "cell_type": "code",
   "execution_count": null,
   "outputs": [
    {
     "name": "stdout",
     "output_type": "stream",
     "text": [
      "XGBoost on NN81\n",
      "Accuracy: 0.72\n",
      "Precision: 0.69\n",
      "Recall: 0.73\n",
      "F1-score: 0.71\n",
      "ROC-AUC score: 0.72\n"
     ]
    },
    {
     "data": {
      "text/plain": "<Figure size 576x576 with 2 Axes>",
      "image/png": "[encoded data removed]"
     },
     "metadata": {},
     "output_type": "display_data"
    }
   ],
   "source": [
    "from sklearn.model_selection import LeaveOneGroupOut, KFold\n",
    "from sklearn.preprocessing import StandardScaler\n",
    "from sklearn.metrics import accuracy_score, precision_score, recall_score, f1_score, roc_auc_score\n",
    "\n",
    "# Initialize k-fold cross-validation\n",
    "kfold = KFold(n_splits=8, shuffle=True, random_state=42)\n",
    "\n",
    "# Function to perform LOSO CV and return average accuracy\n",
    "def evaluate_classifier(model_searcher, X, y, groups, name):\n",
    "    accuracies = {}\n",
    "    confusion_matricies = {}\n",
    "    confidence_intervals = {}\n",
    "    models = {}\n",
    "    roc_auc_curves = {}\n",
    "\n",
    "    for train_index, test_index in kfold.split(X, y, groups):\n",
    "        # Extract indices for training and testing data for each participant\n",
    "        X_train, X_test = X.iloc[train_index], X.iloc[test_index]\n",
    "        y_train, y_test = y.iloc[train_index], y.iloc[test_index]\n",
    "\n",
    "        # fill inf values with the mean of the column\n",
    "        X_train = X_train.replace([np.inf, -np.inf], np.nan)\n",
    "        X_test = X_test.replace([np.inf, -np.inf], np.nan)\n",
    "        X_train = X_train.fillna(X_train.mean()) # fill missing values with the mean of the column or zero ? features_df.mean()\n",
    "        X_test = X_test.fillna(X_train.mean())\n",
    "\n",
    "        # Scale the data\n",
    "        # Create separate StandardScaler instances\n",
    "        scaler_x = StandardScaler()\n",
    "        # Fit on Training Data (!)\n",
    "        scaler_x.fit(X_train.values)\n",
    "        # Transform both training and testing data\n",
    "        X_train_scaled = scaler_x.transform(X_train.values)\n",
    "        X_test_scaled = scaler_x.transform(X_test.values)\n",
    "        y_train = y_train.values.reshape(-1, 1).flatten()\n",
    "        y_test = y_test.values.reshape(-1, 1).flatten()\n",
    "        X_train_scaled = pd.DataFrame(X_train_scaled, columns=X_train.columns)\n",
    "        X_test_scaled = pd.DataFrame(X_test_scaled, columns=X_test.columns)\n",
    "\n",
    "        model_searcher.fit(X_train_scaled, y_train)\n",
    "        clf = model_searcher.best_estimator_\n",
    "\n",
    "        # Fit the classifier\n",
    "        clf.fit(X_train_scaled, y_train)\n",
    "        y_pred = clf.predict(X_test_scaled)\n",
    "\n",
    "        acc = accuracy_score(y_test, y_pred)\n",
    "        # Store the results for this fold using subject name as key\n",
    "        subject_name = groups[test_index[0]]\n",
    "        accuracies[subject_name] = acc\n",
    "        conf_mat = evaluate_model(f\"{name} on {subject_name}\", y_test, y_pred)\n",
    "        confusion_matricies[subject_name] = conf_mat\n",
    "        models[subject_name] = clf\n",
    "        confidence_intervals[subject_name] = (acc - 1.96 * np.sqrt(acc * (1 - acc) / len(y_test)), acc + 1.96 * np.sqrt(acc * (1 - acc) / len(y_test)))\n",
    "        roc_auc_curves[subject_name] = y_test, clf.predict_proba(X_test_scaled)[:, 1]\n",
    "\n",
    "    # return all the computed dictionaries\n",
    "    return accuracies, confusion_matricies, confidence_intervals, models, roc_auc_curves\n",
    "\n",
    "# Evaluate each classifier\n",
    "results = {}\n",
    "for name, clf in classifiers.items():\n",
    "    acc, confusion_matricies, confidence_intervals, models, roc_auc_curves = evaluate_classifier(clf, features_df, labels_df, groups, name)\n",
    "    avg_confusion_matrix = np.mean(list(confusion_matricies.values()), axis=0)\n",
    "    avg_acc = np.mean(list(acc.values())) \n",
    "\n",
    "    results[name] = avg_acc, avg_confusion_matrix, acc, confusion_matricies, confidence_intervals, models, roc_auc_curves\n",
    "    print(f\"Average accuracy of {name}: {avg_acc:.4f}\")\n",
    "    print(f\"Average confusion matrix of {name}: {avg_confusion_matrix}\")\n",
    "\n",
    "# Decision-making (choose the classifier with the highest average accuracy)\n",
    "best_classifier_name = max(results, key=lambda k: results[k][0])\n",
    "print(f\"\\nThe best classifier is: {best_classifier_name} with accuracy: {results[best_classifier_name][0]:.4f}\")"
   ],
   "metadata": {
    "collapsed": false,
    "is_executing": true,
    "ExecuteTime": {
     "start_time": "2023-12-06T15:14:22.603795100Z"
    }
   },
   "id": "38aa660c534b5698"
  },
  {
   "cell_type": "code",
   "execution_count": null,
   "outputs": [],
   "source": [
    "# Plot the average confusion matrix without colors\n",
    "# round the values in the confusion matrix\n",
    "avg_confusion_matrix_round = np.round(results[best_classifier_name][1]).astype(int)\n",
    "\n",
    "# Create a heatmap visualization of the confusion matrix\n",
    "fig, ax = plt.subplots(figsize=(8, 8))\n",
    "# average confusion matrix with No colors\n",
    "sns.heatmap(avg_confusion_matrix_round, annot=True, cmap=\"gray\", fmt=\"d\", ax=ax, vmin=0, vmax=np.max(avg_confusion_matrix_round))\n",
    "\n",
    "# Set the axis values- replace 0 with 1st viewing and 1 with 2nd viewing\n",
    "ax.set_xticklabels(['1st viewing', '2nd viewing'])\n",
    "ax.set_yticklabels(['1st viewing', '2nd viewing'])\n",
    "\n",
    "# Set the axis labels and title\n",
    "ax.set_xlabel(\"Predicted Labels\")\n",
    "ax.set_ylabel(\"True Labels\")\n",
    "ax.set_title(\"Average Confusion Matrix\")\n",
    "\n",
    "# Style\n",
    "# Make the fonts visible in the plot\n",
    "plt.rcParams.update({'font.size': 20})\n",
    "# Make the tick labels of the heatmap visible\n",
    "for tick in ax.get_xticklabels():\n",
    "    tick.set_visible(True)\n",
    "for tick in ax.get_yticklabels():\n",
    "    tick.set_visible(True)\n",
    "    \n",
    "# Save the plot\n",
    "plt.savefig(os.path.join(config.classification_resource_dir, \"confusion_matrix.svg\"), bbox_inches='tight')\n",
    "\n",
    "# Show the plot\n",
    "plt.show()"
   ],
   "metadata": {
    "collapsed": false,
    "is_executing": true
   },
   "id": "515ad873e6e687c3"
  },
  {
   "cell_type": "markdown",
   "source": [
    "Calculating ROC AUC for each participant (fold)"
   ],
   "metadata": {
    "collapsed": false
   },
   "id": "8b6737af3fee693d"
  },
  {
   "cell_type": "code",
   "execution_count": null,
   "outputs": [],
   "source": [
    "from sklearn.metrics import roc_curve, auc\n",
    "\n",
    "roc_auc_curves = results[best_classifier_name][6]\n",
    "\n",
    "# Plot ROC curve for each participant\n",
    "fig, ax = plt.subplots(figsize=(16, 16))\n",
    "\n",
    "# For each fold calculate ROC curve and ROC area\n",
    "for subject_name, (y_test, y_pred) in roc_auc_curves.items():\n",
    "    fpr, tpr, _ = roc_curve(y_test, y_pred)\n",
    "    roc_auc = auc(fpr, tpr)\n",
    "    # Plot ROC curve with transparency\n",
    "    ax.plot(fpr, tpr, lw=2, alpha=0.3, label=f'ROC curve of {subject_name} (area = {roc_auc:.2f})')\n",
    "    \n",
    "# Plot ROC curve for average classifier with error bars representing 95% confidence intervals\n",
    "y_test, y_pred = np.concatenate([y_test for y_test, y_pred in roc_auc_curves.values()]), np.concatenate([y_pred for y_test, y_pred in roc_auc_curves.values()])\n",
    "fpr, tpr, _ = roc_curve(y_test, y_pred)\n",
    "roc_auc = auc(fpr, tpr)\n",
    "ax.plot(fpr, tpr, color='darkorange', lw=2, label=f'ROC curve of average classifier (area = {roc_auc:.2f})')\n",
    "\n",
    "# Plot ROC curve for random classifier\n",
    "ax.plot([0, 1], [0, 1], color='navy', lw=2, linestyle='--', label='Random Classifier')\n",
    "\n",
    "# Set the limits of the plot to include both curves\n",
    "ax.set_xlim([0.0, 1.0])\n",
    "ax.set_ylim([0.0, 1.05])\n",
    "\n",
    "# Set the axis labels and title\n",
    "ax.set_xlabel('False Positive Rate')\n",
    "ax.set_ylabel('True Positive Rate')\n",
    "ax.set_title('Receiver Operating Characteristic (ROC) Curve')\n",
    "# Without legends\n",
    "# ax.legend(loc=\"lower right\")\n",
    "\n",
    "# Transparent background\n",
    "ax.patch.set_alpha(0.0)\n",
    "\n",
    "# Save the plot\n",
    "plt.savefig(os.path.join(config.classification_resource_dir, \"roc_auc.svg\"), bbox_inches='tight')\n",
    "\n",
    "# Show the plot\n",
    "plt.show()"
   ],
   "metadata": {
    "collapsed": false,
    "is_executing": true
   },
   "id": "6370030de102f3f4"
  },
  {
   "cell_type": "markdown",
   "source": [
    "Calculating Performance Across Participants (Subject-wise)"
   ],
   "metadata": {
    "collapsed": false
   },
   "id": "56894f0e73d1683a"
  },
  {
   "cell_type": "markdown",
   "source": [
    "The Y-axis can represent the accuracy for each participant, i.e., the percentage of correct classifications. This is the most direct measure of classifier performance and would be readily interpretable by most readers. We can use error bars to represent confidence intervals for each participant's accuracy."
   ],
   "metadata": {
    "collapsed": false
   },
   "id": "2028c7c1abc7daf2"
  },
  {
   "cell_type": "code",
   "execution_count": null,
   "outputs": [],
   "source": [
    "acc = results[best_classifier_name][2]\n",
    "confidence_intervals = results[best_classifier_name][4]\n",
    "avg_acc = results[best_classifier_name][0]\n",
    "\n",
    "# Plot the accuracy for each participant with wide error bars representing 95% confidence intervals for each participant\n",
    "fig, ax = plt.subplots(figsize=(16, 8))\n",
    "# Sort the accuracies dictionary by value (accuracy) and plot the values\n",
    "ax.bar(*zip(*sorted(acc.items(), key=lambda x: x[1])), yerr=[(upper - lower) / 2 for lower, upper in confidence_intervals.values()], capsize=10)\n",
    "\n",
    "ax.set_xlabel(\"Subject\")\n",
    "ax.set_ylabel(\"Accuracy\")\n",
    "ax.set_title(\"Accuracy for each subject (model)\")\n",
    "# remove the ticks from the x-axis\n",
    "ax.set_xticks([])\n",
    "\n",
    "# Add a horizontal dashed line representing the average accuracy across participants\n",
    "ax.axhline(y=avg_acc, color='g', linestyle='--')\n",
    "# Add horizontal lines representing the chance level accuracy (50%) and the perfect accuracy (100%)\n",
    "ax.axhline(y=0.5, color='r', linestyle='-')\n",
    "\n",
    "# Increase font size\n",
    "plt.rcParams.update({'font.size': 25})\n",
    "# Save the plot\n",
    "plt.savefig(os.path.join(config.classification_resource_dir, \"accuracy_distribution.svg\"), bbox_inches='tight')\n",
    "# Show the plot\n",
    "plt.show()"
   ],
   "metadata": {
    "collapsed": false,
    "is_executing": true
   },
   "id": "bf1ef32c0f9cef59"
  },
  {
   "cell_type": "markdown",
   "source": [
    "Take the best model and train it on the whole dataset"
   ],
   "metadata": {
    "collapsed": false
   },
   "id": "b17995bbda6815ae"
  },
  {
   "cell_type": "markdown",
   "source": [
    "The best model is SVM, so we will train it on the whole dataset, using the average hyperparameters from the LOSO CV"
   ],
   "metadata": {
    "collapsed": false
   },
   "id": "13859c97e2d2678c"
  },
  {
   "cell_type": "code",
   "execution_count": null,
   "outputs": [],
   "source": [
    "# Get the best model\n",
    "best_model = results[best_classifier_name][5]\n",
    "\n",
    "# Go over all the models and average the hyperparameters\n",
    "best_model_params = {}\n",
    "for model in best_model.values():\n",
    "    for param, value in model.get_params().items():\n",
    "        # If parameter is numeric, add it to the dictionary\n",
    "        if isinstance(value, (int, float)):\n",
    "            # if the parameter is already in the dictionary, append the value to the list\n",
    "            if param in best_model_params:\n",
    "                best_model_params[param].append(value)\n",
    "            else:\n",
    "                best_model_params[param] = [value]\n",
    "for param, value in best_model_params.items():\n",
    "    best_model_params[param] = np.mean(value)\n",
    "\n",
    "best_model_params"
   ],
   "metadata": {
    "collapsed": false,
    "is_executing": true
   },
   "id": "5ac6c97b3f2316e4"
  },
  {
   "cell_type": "code",
   "execution_count": null,
   "outputs": [],
   "source": [
    "# Train the best model on the whole dataset using the average hyperparameters\n",
    "X_train = features_df\n",
    "y_train = labels_df\n",
    "\n",
    "# fill inf values with the mean of the column\n",
    "X_train = X_train.replace([np.inf, -np.inf], np.nan)\n",
    "X_train = X_train.fillna(X_train.mean()) # fill missing values with the mean of the column or zero ? features_df.mean()\n",
    "\n",
    "# Scale the data\n",
    "# Create separate StandardScaler instances\n",
    "scaler_x = StandardScaler()\n",
    "# Fit on Training Data (!)\n",
    "scaler_x.fit(X_train.values)\n",
    "# Transform both training and testing data\n",
    "X_train_scaled = scaler_x.transform(X_train.values)\n",
    "y_train = y_train.values.reshape(-1, 1).flatten()\n",
    "X_train_scaled = pd.DataFrame(X_train_scaled, columns=X_train.columns)\n",
    "\n",
    "# SVM\n",
    "# Train final model with best hyperparameters\n",
    "svm = SVC(C=0.446, gamma='scale', kernel='rbf')\n",
    "svm.fit(X_train_scaled, y_train)\n",
    "\n",
    "# Evaluate the model\n",
    "y_pred = svm.predict(X_train_scaled)\n",
    "acc = accuracy_score(y_train, y_pred)  \n",
    "conf_mat = evaluate_model(f\"svm on whole dataset\", y_train, y_pred)\n"
   ],
   "metadata": {
    "collapsed": false,
    "is_executing": true
   },
   "id": "8c34a752175c0fd0"
  },
  {
   "cell_type": "code",
   "execution_count": null,
   "outputs": [],
   "source": [
    "# Train the best model on the whole dataset using the average hyperparameters\n",
    "X_train = features_df\n",
    "y_train = labels_df\n",
    "\n",
    "# fill inf values with the mean of the column\n",
    "X_train = X_train.replace([np.inf, -np.inf], np.nan)\n",
    "X_train = X_train.fillna(X_train.mean()) # fill missing values with the mean of the column or zero ? features_df.mean()\n",
    "\n",
    "# Scale the data\n",
    "# Create separate StandardScaler instances\n",
    "scaler_x = StandardScaler()\n",
    "# Fit on Training Data (!)\n",
    "scaler_x.fit(X_train.values)\n",
    "# Transform both training and testing data\n",
    "X_train_scaled = scaler_x.transform(X_train.values)\n",
    "y_train = y_train.values.reshape(-1, 1).flatten()\n",
    "X_train_scaled = pd.DataFrame(X_train_scaled, columns=X_train.columns)\n",
    "\n",
    "# SVM\n",
    "# Train final model with best hyperparameters\n",
    "xgb = XGBClassifier(learning_rate=0.1426, max_depth=2, n_estimators=124)\n",
    "xgb.fit(X_train_scaled, y_train)\n",
    "\n",
    "# Evaluate the model\n",
    "y_pred = xgb.predict_proba(X_train_scaled)[:, 1]\n",
    "# acc = accuracy_score(y_train, y_pred)  \n",
    "# conf_mat = evaluate_model(f\"xgb on whole dataset\", y_train, y_pred)\n"
   ],
   "metadata": {
    "collapsed": false,
    "is_executing": true
   },
   "id": "d48c6201f66b668f"
  },
  {
   "cell_type": "markdown",
   "source": [
    "Plot ROC curve"
   ],
   "metadata": {
    "collapsed": false
   },
   "id": "62437ee3c8946a4e"
  },
  {
   "cell_type": "code",
   "execution_count": null,
   "outputs": [],
   "source": [
    "from sklearn.metrics import roc_curve, auc\n",
    "\n",
    "# Compute ROC curve and ROC area for each class\n",
    "fpr, tpr, _ = roc_curve(y_train, y_pred)\n",
    "roc_auc = auc(fpr, tpr)\n",
    "\n",
    "# Plot ROC curve\n",
    "plt.figure(figsize=(8, 8))\n",
    "plt.plot(fpr, tpr, color='darkorange', lw=2, label='ROC curve (area = %0.2f)' % roc_auc)\n",
    "\n",
    "# Plot ROC curve for random classifier\n",
    "plt.plot([0, 1], [0, 1], color='navy', lw=2, linestyle='--', label='Random Classifier')\n",
    "\n",
    "# Set the limits of the plot to include both curves\n",
    "plt.xlim([0.0, 1.0])\n",
    "plt.ylim([0.0, 1.05])\n",
    "\n",
    "# Set the axis labels and title\n",
    "plt.xlabel('False Positive Rate')\n",
    "plt.ylabel('True Positive Rate')\n",
    "plt.title('Receiver Operating Characteristic (ROC) Curve')\n",
    "plt.legend(loc=\"lower right\")\n",
    "\n",
    "# Show the plot\n",
    "plt.show()"
   ],
   "metadata": {
    "collapsed": false,
    "is_executing": true
   },
   "id": "78e9eb854f51a0c8"
  },
  {
   "cell_type": "markdown",
   "source": [
    "Feature importance and SHAP values for the best model"
   ],
   "metadata": {
    "collapsed": false
   },
   "id": "f75896861ac1ae36"
  },
  {
   "cell_type": "code",
   "execution_count": null,
   "outputs": [],
   "source": [
    "import shap\n",
    "import matplotlib.pyplot as plt\n",
    "\n",
    "%matplotlib inline\n",
    "\n",
    "# Create object that can calculate shap values\n",
    "explainer = shap.TreeExplainer(xgb)\n",
    "\n",
    "# Calculate Shap values\n",
    "shap_values = explainer.shap_values(X_train_scaled)\n",
    "\n",
    "# Increase font size\n",
    "plt.rcParams.update({'font.size': 30})\n",
    "\n",
    "# Plot summary plot (feature importance) with the top 5 features\n",
    "shap.summary_plot(shap_values, X_train_scaled, plot_type=\"bar\", max_display=5)\n",
    "\n",
    "# mark the features that has the suffix '_Distance' in their name with astrisk\n",
    "# X_train_scaled.columns = ['* ' + col if col.endswith('Distance') else col for col in X_train_scaled.columns]\n",
    "\n",
    "# Plot summary plot with the top 17 features\n",
    "plt.figure(figsize=(16, 8))\n",
    "shap.summary_plot(shap_values, X_train_scaled, max_display=17)\n",
    "\n",
    "# Save the plot\n",
    "plt.savefig(os.path.join(config.classification_resource_dir, \"shap_values.png\"))\n",
    "\n",
    "# Plot dependence plot\n",
    "shap.dependence_plot('SQRT_DVA_Mean_Gaze', shap_values, X_train_scaled, interaction_index=\"SQRT_DVA_Mean_Gaze\")\n",
    "\n",
    "# The contribution of the feature interaction to the model output\n",
    "shap_interaction_values = explainer.shap_interaction_values(X_train_scaled)\n",
    "\n",
    "# Plot interaction summary plot\n",
    "shap.summary_plot(shap_interaction_values, X_train_scaled, max_display=5)\n",
    "\n",
    "# Save the plot\n",
    "plt.savefig(os.path.join(config.classification_resource_dir, \"shap_interaction_values.png\"))\n",
    "\n",
    "# Plot interaction dependence plot\n",
    "shap.dependence_plot(('SQRT_DVA_Mean_Gaze', 'SQRT_DVA_Mean_Gaze'), shap_interaction_values, X_train_scaled)\n",
    "\n",
    "# Save the plot\n",
    "plt.savefig(os.path.join(config.classification_resource_dir, \"shap_interaction_values_dependence_plot.png\"))\n",
    "\n",
    "# the contribution of the interaction between the two features to the model output\n",
    "shap.dependence_plot(('SQRT_DVA_Mean_Gaze', 'SQRT_DVA_Mean_Gaze'), shap_interaction_values, X_train_scaled, display_features=X_train_scaled)\n",
    "\n",
    "# Save the plot\n",
    "plt.savefig(os.path.join(config.classification_resource_dir, \"shap_interaction_values_dependence_plot_with_features.png\"))"
   ],
   "metadata": {
    "collapsed": false,
    "is_executing": true
   },
   "id": "d6a3d993b03665b3"
  }
 ],
 "metadata": {
  "kernelspec": {
   "display_name": "Python 3",
   "language": "python",
   "name": "python3"
  },
  "language_info": {
   "codemirror_mode": {
    "name": "ipython",
    "version": 2
   },
   "file_extension": ".py",
   "mimetype": "text/x-python",
   "name": "python",
   "nbconvert_exporter": "python",
   "pygments_lexer": "ipython2",
   "version": "2.7.6"
  }
 },
 "nbformat": 4,
 "nbformat_minor": 5
}
