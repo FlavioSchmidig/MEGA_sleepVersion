{
 "cells": [
  {
   "cell_type": "code",
   "execution_count": 1,
   "metadata": {
    "collapsed": true,
    "ExecuteTime": {
     "end_time": "2023-07-30T16:34:54.644422100Z",
     "start_time": "2023-07-30T16:34:54.410841700Z"
    }
   },
   "outputs": [],
   "source": [
    "import pandas as pd\n",
    "from matplotlib import pyplot as plt\n",
    "import numpy as np\n",
    "from sklearn.decomposition import PCA\n",
    "import os\n",
    "from src import config"
   ]
  },
  {
   "cell_type": "code",
   "execution_count": 2,
   "outputs": [],
   "source": [
    "features_df = pd.read_pickle(os.path.join(config.classification_resource_dir, \"sessions_features_df.pkl\"))\n",
    "labels_df = pd.read_pickle(os.path.join(config.classification_resource_dir, \"sessions_labels_df.pkl\"))"
   ],
   "metadata": {
    "collapsed": false,
    "ExecuteTime": {
     "end_time": "2023-07-30T16:34:54.661891400Z",
     "start_time": "2023-07-30T16:34:54.646928800Z"
    }
   }
  },
  {
   "cell_type": "code",
   "execution_count": 3,
   "outputs": [],
   "source": [
    "# Remove all the features that are not contains 'Pre' in their name\n",
    "features_df = features_df.loc[:, ~features_df.columns.str.contains('Post')]"
   ],
   "metadata": {
    "collapsed": false,
    "ExecuteTime": {
     "end_time": "2023-07-30T16:34:54.689331300Z",
     "start_time": "2023-07-30T16:34:54.663889Z"
    }
   }
  },
  {
   "cell_type": "code",
   "execution_count": 4,
   "outputs": [
    {
     "data": {
      "text/plain": "   Gaze_Counts_In_RoI_Pre  Gaze_Counts_Out_RoI_Pre  Gaze_In_out_RoI_Ratio_Pre  \\\n0                    84.0                   2269.0                   0.037021   \n1                   229.0                   3640.0                   0.062912   \n2                   250.0                   4259.0                   0.058699   \n3                   183.0                   1364.0                   0.134164   \n4                   254.0                   3716.0                   0.068353   \n\n   Gaze_Re_Entries_To_RoI_Count_Pre  Gaze_Re_Entries_To_RoI_Rate_Pre  \\\n0                               1.0                         0.193573   \n1                               3.0                         0.367377   \n2                               5.0                         0.554473   \n3                               2.0                         0.646800   \n4                               1.0                         0.123716   \n\n   Fixations_Counts_In_RoI_Pre  Fixations_Counts_Out_RoI_Pre  \\\n0                          1.0                          17.0   \n1                          2.0                          25.0   \n2                          1.0                          16.0   \n3                          2.0                           7.0   \n4                          2.0                          20.0   \n\n   Fixations_In_out_RoI_Ratio_Pre  Fixations_Re_Entries_To_RoI_Count_Pre  \\\n0                        0.058824                                    1.0   \n1                        0.080000                                    2.0   \n2                        0.062500                                    1.0   \n3                        0.285714                                    1.0   \n4                        0.100000                                    1.0   \n\n   Fixations_Re_Entries_To_RoI_Rate_Pre  ...  DVA_Min_Gaze_Pre  \\\n0                              0.193573  ...          8.000536   \n1                              0.244918  ...          4.347439   \n2                              0.110895  ...          6.337612   \n3                              0.323400  ...          0.828320   \n4                              0.123716  ...          0.646858   \n\n   DVA_Sem_Gaze_Pre  DVA_AUC_Gaze_Pre  DVA_Mean_Fixations_Pre  \\\n0          0.058651      50335.399961               21.051282   \n1          0.119076      80628.921965               20.493043   \n2          0.036290      48509.025467               10.318725   \n3          0.126263      21541.316228               11.921904   \n4          0.059786      44934.492756               11.137369   \n\n   DVA_Median_Fixations_Pre  DVA_Std_Fixations_Pre  DVA_Max_Fixations_Pre  \\\n0                 21.909922               3.193094              24.634348   \n1                 23.339909               7.694430              32.282188   \n2                  9.961956               2.459129              17.024339   \n3                 11.232829               5.862942              19.085051   \n4                 11.046135               4.374994              17.567793   \n\n   DVA_Min_Fixations_Pre  DVA_Sem_Fixations_Pre  DVA_AUC_Fixations_Pre  \n0               9.617290               0.752620             378.923078  \n1               4.772942               1.480794             553.312157  \n2               7.030213               0.596426             175.418318  \n3               3.120651               1.954314             107.297137  \n4               0.823106               0.932752             245.022113  \n\n[5 rows x 73 columns]",
      "text/html": "<div>\n<style scoped>\n    .dataframe tbody tr th:only-of-type {\n        vertical-align: middle;\n    }\n\n    .dataframe tbody tr th {\n        vertical-align: top;\n    }\n\n    .dataframe thead th {\n        text-align: right;\n    }\n</style>\n<table border=\"1\" class=\"dataframe\">\n  <thead>\n    <tr style=\"text-align: right;\">\n      <th></th>\n      <th>Gaze_Counts_In_RoI_Pre</th>\n      <th>Gaze_Counts_Out_RoI_Pre</th>\n      <th>Gaze_In_out_RoI_Ratio_Pre</th>\n      <th>Gaze_Re_Entries_To_RoI_Count_Pre</th>\n      <th>Gaze_Re_Entries_To_RoI_Rate_Pre</th>\n      <th>Fixations_Counts_In_RoI_Pre</th>\n      <th>Fixations_Counts_Out_RoI_Pre</th>\n      <th>Fixations_In_out_RoI_Ratio_Pre</th>\n      <th>Fixations_Re_Entries_To_RoI_Count_Pre</th>\n      <th>Fixations_Re_Entries_To_RoI_Rate_Pre</th>\n      <th>...</th>\n      <th>DVA_Min_Gaze_Pre</th>\n      <th>DVA_Sem_Gaze_Pre</th>\n      <th>DVA_AUC_Gaze_Pre</th>\n      <th>DVA_Mean_Fixations_Pre</th>\n      <th>DVA_Median_Fixations_Pre</th>\n      <th>DVA_Std_Fixations_Pre</th>\n      <th>DVA_Max_Fixations_Pre</th>\n      <th>DVA_Min_Fixations_Pre</th>\n      <th>DVA_Sem_Fixations_Pre</th>\n      <th>DVA_AUC_Fixations_Pre</th>\n    </tr>\n  </thead>\n  <tbody>\n    <tr>\n      <th>0</th>\n      <td>84.0</td>\n      <td>2269.0</td>\n      <td>0.037021</td>\n      <td>1.0</td>\n      <td>0.193573</td>\n      <td>1.0</td>\n      <td>17.0</td>\n      <td>0.058824</td>\n      <td>1.0</td>\n      <td>0.193573</td>\n      <td>...</td>\n      <td>8.000536</td>\n      <td>0.058651</td>\n      <td>50335.399961</td>\n      <td>21.051282</td>\n      <td>21.909922</td>\n      <td>3.193094</td>\n      <td>24.634348</td>\n      <td>9.617290</td>\n      <td>0.752620</td>\n      <td>378.923078</td>\n    </tr>\n    <tr>\n      <th>1</th>\n      <td>229.0</td>\n      <td>3640.0</td>\n      <td>0.062912</td>\n      <td>3.0</td>\n      <td>0.367377</td>\n      <td>2.0</td>\n      <td>25.0</td>\n      <td>0.080000</td>\n      <td>2.0</td>\n      <td>0.244918</td>\n      <td>...</td>\n      <td>4.347439</td>\n      <td>0.119076</td>\n      <td>80628.921965</td>\n      <td>20.493043</td>\n      <td>23.339909</td>\n      <td>7.694430</td>\n      <td>32.282188</td>\n      <td>4.772942</td>\n      <td>1.480794</td>\n      <td>553.312157</td>\n    </tr>\n    <tr>\n      <th>2</th>\n      <td>250.0</td>\n      <td>4259.0</td>\n      <td>0.058699</td>\n      <td>5.0</td>\n      <td>0.554473</td>\n      <td>1.0</td>\n      <td>16.0</td>\n      <td>0.062500</td>\n      <td>1.0</td>\n      <td>0.110895</td>\n      <td>...</td>\n      <td>6.337612</td>\n      <td>0.036290</td>\n      <td>48509.025467</td>\n      <td>10.318725</td>\n      <td>9.961956</td>\n      <td>2.459129</td>\n      <td>17.024339</td>\n      <td>7.030213</td>\n      <td>0.596426</td>\n      <td>175.418318</td>\n    </tr>\n    <tr>\n      <th>3</th>\n      <td>183.0</td>\n      <td>1364.0</td>\n      <td>0.134164</td>\n      <td>2.0</td>\n      <td>0.646800</td>\n      <td>2.0</td>\n      <td>7.0</td>\n      <td>0.285714</td>\n      <td>1.0</td>\n      <td>0.323400</td>\n      <td>...</td>\n      <td>0.828320</td>\n      <td>0.126263</td>\n      <td>21541.316228</td>\n      <td>11.921904</td>\n      <td>11.232829</td>\n      <td>5.862942</td>\n      <td>19.085051</td>\n      <td>3.120651</td>\n      <td>1.954314</td>\n      <td>107.297137</td>\n    </tr>\n    <tr>\n      <th>4</th>\n      <td>254.0</td>\n      <td>3716.0</td>\n      <td>0.068353</td>\n      <td>1.0</td>\n      <td>0.123716</td>\n      <td>2.0</td>\n      <td>20.0</td>\n      <td>0.100000</td>\n      <td>1.0</td>\n      <td>0.123716</td>\n      <td>...</td>\n      <td>0.646858</td>\n      <td>0.059786</td>\n      <td>44934.492756</td>\n      <td>11.137369</td>\n      <td>11.046135</td>\n      <td>4.374994</td>\n      <td>17.567793</td>\n      <td>0.823106</td>\n      <td>0.932752</td>\n      <td>245.022113</td>\n    </tr>\n  </tbody>\n</table>\n<p>5 rows × 73 columns</p>\n</div>"
     },
     "execution_count": 4,
     "metadata": {},
     "output_type": "execute_result"
    }
   ],
   "source": [
    "features_df.head()"
   ],
   "metadata": {
    "collapsed": false,
    "ExecuteTime": {
     "end_time": "2023-07-30T16:34:54.709394400Z",
     "start_time": "2023-07-30T16:34:54.680355800Z"
    }
   }
  },
  {
   "cell_type": "code",
   "execution_count": 5,
   "outputs": [
    {
     "name": "stdout",
     "output_type": "stream",
     "text": [
      "<class 'pandas.core.frame.DataFrame'>\n",
      "RangeIndex: 7248 entries, 0 to 7247\n",
      "Data columns (total 73 columns):\n",
      " #   Column                                        Non-Null Count  Dtype  \n",
      "---  ------                                        --------------  -----  \n",
      " 0   Gaze_Counts_In_RoI_Pre                        7049 non-null   float64\n",
      " 1   Gaze_Counts_Out_RoI_Pre                       7049 non-null   float64\n",
      " 2   Gaze_In_out_RoI_Ratio_Pre                     7049 non-null   float64\n",
      " 3   Gaze_Re_Entries_To_RoI_Count_Pre              7049 non-null   float64\n",
      " 4   Gaze_Re_Entries_To_RoI_Rate_Pre               7049 non-null   float64\n",
      " 5   Fixations_Counts_In_RoI_Pre                   7048 non-null   float64\n",
      " 6   Fixations_Counts_Out_RoI_Pre                  7048 non-null   float64\n",
      " 7   Fixations_In_out_RoI_Ratio_Pre                7048 non-null   float64\n",
      " 8   Fixations_Re_Entries_To_RoI_Count_Pre         7048 non-null   float64\n",
      " 9   Fixations_Re_Entries_To_RoI_Rate_Pre          7048 non-null   float64\n",
      " 10  onset_Fixations_First_In_RoI_Pre              6269 non-null   float64\n",
      " 11  Duration_Fixations_First_In_RoI_Pre           6269 non-null   float64\n",
      " 12  onset_Mean_Fixations_In_RoI_Pre               6269 non-null   float64\n",
      " 13  onset_Median_Fixations_In_RoI_Pre             6269 non-null   float64\n",
      " 14  onset_Std_Fixations_In_RoI_Pre                6269 non-null   float64\n",
      " 15  onset_Max_Fixations_In_RoI_Pre                6269 non-null   float64\n",
      " 16  Duration_Max_Fixations_In_RoI_Pre             6269 non-null   float64\n",
      " 17  onset_Min_Fixations_In_RoI_Pre                6269 non-null   float64\n",
      " 18  Duration_Min_Fixations_In_RoI_Pre             6269 non-null   float64\n",
      " 19  onset_Sem_Fixations_In_RoI_Pre                6269 non-null   float64\n",
      " 20  onset_AUC_Fixations_In_RoI_Pre                6269 non-null   float64\n",
      " 21  Pupil radius_Fixations_First_Diff_Pre         5800 non-null   float64\n",
      " 22  Pupil radius_Fixations_ReEntry_Mean_Diff_Pre  5800 non-null   float64\n",
      " 23  Saccades_Start_Counts_In_RoI_Pre              7049 non-null   float64\n",
      " 24  Saccades_Start_Counts_Out_RoI_Pre             7049 non-null   float64\n",
      " 25  Saccades_Start_In_out_RoI_Ratio_Pre           7049 non-null   float64\n",
      " 26  Saccades_End_Counts_In_RoI_Pre                7048 non-null   float64\n",
      " 27  Saccades_End_Counts_Out_RoI_Pre               7048 non-null   float64\n",
      " 28  Saccades_End_In_out_RoI_Ratio_Pre             7048 non-null   float64\n",
      " 29  last_onset_Saccades_End_First_In_RoI_Pre      6351 non-null   float64\n",
      " 30  Duration_Saccades_End_First_In_RoI_Pre        6351 non-null   float64\n",
      " 31  vis_angle_Saccades_End_First_In_RoI_Pre       6351 non-null   float64\n",
      " 32  peak_velocity_Saccades_End_First_In_RoI_Pre   6351 non-null   float64\n",
      " 33  onset_Mean_Saccades_Start_In_RoI_Pre          6165 non-null   float64\n",
      " 34  onset_Median_Saccades_Start_In_RoI_Pre        6165 non-null   float64\n",
      " 35  onset_Std_Saccades_Start_In_RoI_Pre           6165 non-null   float64\n",
      " 36  onset_Max_Saccades_Start_In_RoI_Pre           6165 non-null   float64\n",
      " 37  Duration_Max_Saccades_Start_In_RoI_Pre        6165 non-null   float64\n",
      " 38  vis_angle_Max_Saccades_Start_In_RoI_Pre       6165 non-null   float64\n",
      " 39  peak_velocity_Max_Saccades_Start_In_RoI_Pre   6165 non-null   float64\n",
      " 40  onset_Min_Saccades_Start_In_RoI_Pre           6165 non-null   float64\n",
      " 41  Duration_Min_Saccades_Start_In_RoI_Pre        6165 non-null   float64\n",
      " 42  vis_angle_Min_Saccades_Start_In_RoI_Pre       6165 non-null   float64\n",
      " 43  peak_velocity_Min_Saccades_Start_In_RoI_Pre   6165 non-null   float64\n",
      " 44  onset_Sem_Saccades_Start_In_RoI_Pre           6165 non-null   float64\n",
      " 45  onset_AUC_Saccades_Start_In_RoI_Pre           6165 non-null   float64\n",
      " 46  last_onset_Mean_Saccades_End_In_RoI_Pre       6351 non-null   float64\n",
      " 47  last_onset_Median_Saccades_End_In_RoI_Pre     6351 non-null   float64\n",
      " 48  last_onset_Std_Saccades_End_In_RoI_Pre        6351 non-null   float64\n",
      " 49  last_onset_Max_Saccades_End_In_RoI_Pre        6351 non-null   float64\n",
      " 50  Duration_Max_Saccades_End_In_RoI_Pre          6351 non-null   float64\n",
      " 51  vis_angle_Max_Saccades_End_In_RoI_Pre         6351 non-null   float64\n",
      " 52  peak_velocity_Max_Saccades_End_In_RoI_Pre     6351 non-null   float64\n",
      " 53  last_onset_Min_Saccades_End_In_RoI_Pre        6351 non-null   float64\n",
      " 54  Duration_Min_Saccades_End_In_RoI_Pre          6351 non-null   float64\n",
      " 55  vis_angle_Min_Saccades_End_In_RoI_Pre         6351 non-null   float64\n",
      " 56  peak_velocity_Min_Saccades_End_In_RoI_Pre     6351 non-null   float64\n",
      " 57  last_onset_Sem_Saccades_End_In_RoI_Pre        6351 non-null   float64\n",
      " 58  last_onset_AUC_Saccades_End_In_RoI_Pre        6351 non-null   float64\n",
      " 59  DVA_Mean_Gaze_Pre                             7047 non-null   float64\n",
      " 60  DVA_Median_Gaze_Pre                           7047 non-null   float64\n",
      " 61  DVA_Std_Gaze_Pre                              7047 non-null   float64\n",
      " 62  DVA_Max_Gaze_Pre                              7047 non-null   float64\n",
      " 63  DVA_Min_Gaze_Pre                              7047 non-null   float64\n",
      " 64  DVA_Sem_Gaze_Pre                              7047 non-null   float64\n",
      " 65  DVA_AUC_Gaze_Pre                              7047 non-null   float64\n",
      " 66  DVA_Mean_Fixations_Pre                        7046 non-null   float64\n",
      " 67  DVA_Median_Fixations_Pre                      7046 non-null   float64\n",
      " 68  DVA_Std_Fixations_Pre                         7036 non-null   float64\n",
      " 69  DVA_Max_Fixations_Pre                         7046 non-null   float64\n",
      " 70  DVA_Min_Fixations_Pre                         7046 non-null   float64\n",
      " 71  DVA_Sem_Fixations_Pre                         7036 non-null   float64\n",
      " 72  DVA_AUC_Fixations_Pre                         7046 non-null   float64\n",
      "dtypes: float64(73)\n",
      "memory usage: 4.0 MB\n"
     ]
    }
   ],
   "source": [
    "features_df.info()"
   ],
   "metadata": {
    "collapsed": false,
    "ExecuteTime": {
     "end_time": "2023-07-30T16:34:54.764293300Z",
     "start_time": "2023-07-30T16:34:54.706288300Z"
    }
   }
  },
  {
   "cell_type": "markdown",
   "source": [],
   "metadata": {
    "collapsed": false
   }
  },
  {
   "cell_type": "code",
   "execution_count": 6,
   "outputs": [
    {
     "data": {
      "text/plain": "           Session\nseries_id         \n0                0\n1                1\n2                1\n3                0\n4                0",
      "text/html": "<div>\n<style scoped>\n    .dataframe tbody tr th:only-of-type {\n        vertical-align: middle;\n    }\n\n    .dataframe tbody tr th {\n        vertical-align: top;\n    }\n\n    .dataframe thead th {\n        text-align: right;\n    }\n</style>\n<table border=\"1\" class=\"dataframe\">\n  <thead>\n    <tr style=\"text-align: right;\">\n      <th></th>\n      <th>Session</th>\n    </tr>\n    <tr>\n      <th>series_id</th>\n      <th></th>\n    </tr>\n  </thead>\n  <tbody>\n    <tr>\n      <th>0</th>\n      <td>0</td>\n    </tr>\n    <tr>\n      <th>1</th>\n      <td>1</td>\n    </tr>\n    <tr>\n      <th>2</th>\n      <td>1</td>\n    </tr>\n    <tr>\n      <th>3</th>\n      <td>0</td>\n    </tr>\n    <tr>\n      <th>4</th>\n      <td>0</td>\n    </tr>\n  </tbody>\n</table>\n</div>"
     },
     "execution_count": 6,
     "metadata": {},
     "output_type": "execute_result"
    }
   ],
   "source": [
    "labels_df.head()"
   ],
   "metadata": {
    "collapsed": false,
    "ExecuteTime": {
     "end_time": "2023-07-30T16:34:54.795725600Z",
     "start_time": "2023-07-30T16:34:54.727872200Z"
    }
   }
  },
  {
   "cell_type": "code",
   "execution_count": 7,
   "outputs": [
    {
     "name": "stdout",
     "output_type": "stream",
     "text": [
      "<class 'pandas.core.frame.DataFrame'>\n",
      "Int64Index: 7248 entries, 0 to 7247\n",
      "Data columns (total 1 columns):\n",
      " #   Column   Non-Null Count  Dtype\n",
      "---  ------   --------------  -----\n",
      " 0   Session  7248 non-null   int32\n",
      "dtypes: int32(1)\n",
      "memory usage: 84.9 KB\n"
     ]
    }
   ],
   "source": [
    "labels_df.info()"
   ],
   "metadata": {
    "collapsed": false,
    "ExecuteTime": {
     "end_time": "2023-07-30T16:34:54.872581700Z",
     "start_time": "2023-07-30T16:34:54.741351300Z"
    }
   }
  },
  {
   "cell_type": "markdown",
   "source": [
    "Data Cleaning"
   ],
   "metadata": {
    "collapsed": false
   }
  },
  {
   "cell_type": "markdown",
   "source": [
    "how many missing values are there in each column? show the top 10"
   ],
   "metadata": {
    "collapsed": false
   }
  },
  {
   "cell_type": "code",
   "execution_count": 8,
   "outputs": [
    {
     "data": {
      "text/plain": "Pupil radius_Fixations_First_Diff_Pre           1448\nPupil radius_Fixations_ReEntry_Mean_Diff_Pre    1448\nonset_Max_Saccades_Start_In_RoI_Pre             1083\nDuration_Min_Saccades_Start_In_RoI_Pre          1083\npeak_velocity_Max_Saccades_Start_In_RoI_Pre     1083\nvis_angle_Max_Saccades_Start_In_RoI_Pre         1083\nDuration_Max_Saccades_Start_In_RoI_Pre          1083\nonset_Std_Saccades_Start_In_RoI_Pre             1083\nonset_Min_Saccades_Start_In_RoI_Pre             1083\nvis_angle_Min_Saccades_Start_In_RoI_Pre         1083\ndtype: int64"
     },
     "execution_count": 8,
     "metadata": {},
     "output_type": "execute_result"
    }
   ],
   "source": [
    "features_df.isna().sum(axis=0).sort_values(ascending=False).head(10)"
   ],
   "metadata": {
    "collapsed": false,
    "ExecuteTime": {
     "end_time": "2023-07-30T16:34:54.913985900Z",
     "start_time": "2023-07-30T16:34:54.754316Z"
    }
   }
  },
  {
   "cell_type": "markdown",
   "source": [
    "Remove columns with more than 30% missing values"
   ],
   "metadata": {
    "collapsed": false
   }
  },
  {
   "cell_type": "code",
   "execution_count": 9,
   "outputs": [],
   "source": [
    "features_df = features_df.loc[:, features_df.isna().sum(axis=0) < 0.3 * features_df.shape[0]]"
   ],
   "metadata": {
    "collapsed": false,
    "ExecuteTime": {
     "end_time": "2023-07-30T16:34:54.914983200Z",
     "start_time": "2023-07-30T16:34:54.768282100Z"
    }
   }
  },
  {
   "cell_type": "code",
   "execution_count": 10,
   "outputs": [
    {
     "data": {
      "text/plain": "Pupil radius_Fixations_First_Diff_Pre           1448\nPupil radius_Fixations_ReEntry_Mean_Diff_Pre    1448\nonset_Max_Saccades_Start_In_RoI_Pre             1083\nDuration_Min_Saccades_Start_In_RoI_Pre          1083\npeak_velocity_Max_Saccades_Start_In_RoI_Pre     1083\nvis_angle_Max_Saccades_Start_In_RoI_Pre         1083\nDuration_Max_Saccades_Start_In_RoI_Pre          1083\nonset_Std_Saccades_Start_In_RoI_Pre             1083\nonset_Min_Saccades_Start_In_RoI_Pre             1083\nvis_angle_Min_Saccades_Start_In_RoI_Pre         1083\ndtype: int64"
     },
     "execution_count": 10,
     "metadata": {},
     "output_type": "execute_result"
    }
   ],
   "source": [
    "features_df.isna().sum(axis=0).sort_values(ascending=False).head(10)"
   ],
   "metadata": {
    "collapsed": false,
    "ExecuteTime": {
     "end_time": "2023-07-30T16:34:54.990851900Z",
     "start_time": "2023-07-30T16:34:54.783754900Z"
    }
   }
  },
  {
   "cell_type": "markdown",
   "source": [
    "how many missing values are there in each row? show the top 10"
   ],
   "metadata": {
    "collapsed": false
   }
  },
  {
   "cell_type": "code",
   "execution_count": 11,
   "outputs": [
    {
     "data": {
      "text/plain": "6322    73\n1157    73\n1196    73\n1839    73\n6323    73\n1846    73\n1855    73\n2657    73\n6334    73\n3737    73\ndtype: int64"
     },
     "execution_count": 11,
     "metadata": {},
     "output_type": "execute_result"
    }
   ],
   "source": [
    "features_df.isna().sum(axis=1).sort_values(ascending=False).head(10)"
   ],
   "metadata": {
    "collapsed": false,
    "ExecuteTime": {
     "end_time": "2023-07-30T16:34:55.051716700Z",
     "start_time": "2023-07-30T16:34:54.798718200Z"
    }
   }
  },
  {
   "cell_type": "markdown",
   "source": [
    "Remove rows with more than 30% missing values"
   ],
   "metadata": {
    "collapsed": false
   }
  },
  {
   "cell_type": "code",
   "execution_count": 12,
   "outputs": [],
   "source": [
    "features_df = features_df.loc[features_df.isna().sum(axis=1) < 0.5 * features_df.shape[1], :]\n",
    "# remove the corresponding rows from y_train\n",
    "labels_df = labels_df.loc[labels_df.index.isin(features_df.index)]"
   ],
   "metadata": {
    "collapsed": false,
    "ExecuteTime": {
     "end_time": "2023-07-30T16:34:55.054718900Z",
     "start_time": "2023-07-30T16:34:54.815188400Z"
    }
   }
  },
  {
   "cell_type": "code",
   "execution_count": 13,
   "outputs": [
    {
     "data": {
      "text/plain": "436     32\n1824    32\n4349    32\n1802    30\n260     30\n2136    30\n6352    30\n4456    30\n4595    30\n2241    30\ndtype: int64"
     },
     "execution_count": 13,
     "metadata": {},
     "output_type": "execute_result"
    }
   ],
   "source": [
    "features_df.isna().sum(axis=1).sort_values(ascending=False).head(10)"
   ],
   "metadata": {
    "collapsed": false,
    "ExecuteTime": {
     "end_time": "2023-07-30T16:34:55.054718900Z",
     "start_time": "2023-07-30T16:34:54.829666100Z"
    }
   }
  },
  {
   "cell_type": "markdown",
   "source": [],
   "metadata": {
    "collapsed": false
   }
  },
  {
   "cell_type": "markdown",
   "source": [
    "Train/Test Split\n",
    "We will split the data into train and test sets before any preprocessing is done. This is to avoid data leakage from the test set into the training set.\n"
   ],
   "metadata": {
    "collapsed": false
   }
  },
  {
   "cell_type": "code",
   "execution_count": 14,
   "outputs": [
    {
     "name": "stdout",
     "output_type": "stream",
     "text": [
      "['animation_RN85' 'animation_PS08' 'animation_NN81' 'no_nap_TC9'\n",
      " 'animation_BB30' 'no_nap_DF3' 'no_nap_SK7' 'no_nap_SS1' 'animation_AJ31'\n",
      " 'animation_MA40' 'no_nap_AH3' 'no_nap_SZ9' 'no_nap_YS4' 'no_nap_LK3'\n",
      " 'animation_BH27' 'animation_GN10' 'no_nap_AM1' 'animation_ZN05'\n",
      " 'animation_MN01' 'no_nap_YP2' 'no_nap_VH3' 'animation_ZW57' 'no_nap_MG1'\n",
      " 'no_nap_RJ0' 'animation_BG97' 'no_nap_AI5' 'animation_DK47' 'no_nap_RA0'\n",
      " 'animation_MN37' 'no_nap_KS0' 'animation_HR58' 'no_nap_AM5'\n",
      " 'animation_FY25' 'no_nap_IH1' 'no_nap_AM2' 'no_nap_LG3' 'animation_WE10'\n",
      " 'animation_HB81' 'animation_HM02' 'no_nap_GA2' 'no_nap_OR1'\n",
      " 'animation_AI09' 'animation_GE44' 'animation_RY20' 'animation_BO03'\n",
      " 'no_nap_NT6' 'animation_NY90' 'no_nap_YD1' 'animation_KL89' 'no_nap_LS1'\n",
      " 'no_nap_DM4' 'no_nap_AL5' 'no_nap_DD2' 'animation_KM28' 'animation_TA01'\n",
      " 'no_nap_RG9' 'animation_CR06' 'no_nap_AN5' 'animation_KR13'\n",
      " 'animation_AM45']\n",
      "['animation_AS20' 'animation_SM28' 'animation_PM15' 'no_nap_BK3'\n",
      " 'no_nap_NM9' 'animation_RS30' 'no_nap_MM81']\n"
     ]
    }
   ],
   "source": [
    "series_id_df = pd.read_pickle(os.path.join(config.classification_resource_dir, \"sessions_series_id_df.pkl\"))\n",
    "\n",
    "# Create a list of unique subject IDs\n",
    "subject_ids = series_id_df[config.SUBJECT].unique()\n",
    "\n",
    "# Shuffle the list of subject IDs randomly\n",
    "random = np.random\n",
    "random.seed(1)\n",
    "random.shuffle(subject_ids)\n",
    "\n",
    "# Split the list of subject IDs into two parts\n",
    "train_subject_ids = subject_ids[:int(len(subject_ids)*0.9)]\n",
    "print(train_subject_ids)\n",
    "test_subject_ids = subject_ids[int(len(subject_ids)*0.9):]\n",
    "print(test_subject_ids)\n",
    "\n",
    "# Subset the data based on the split list of subject IDs\n",
    "train_data = series_id_df[series_id_df[config.SUBJECT].isin(train_subject_ids)]\n",
    "test_data = series_id_df[series_id_df[config.SUBJECT].isin(test_subject_ids)]\n",
    "\n",
    "X_train = features_df[features_df.index.isin(train_data.index)]\n",
    "X_test = features_df[features_df.index.isin(test_data.index)]\n",
    "y_train = labels_df[labels_df.index.isin(train_data.index)]\n",
    "y_test = labels_df[labels_df.index.isin(test_data.index)]"
   ],
   "metadata": {
    "collapsed": false,
    "ExecuteTime": {
     "end_time": "2023-07-30T16:34:55.063696Z",
     "start_time": "2023-07-30T16:34:54.847133400Z"
    }
   }
  },
  {
   "cell_type": "code",
   "execution_count": 15,
   "outputs": [],
   "source": [
    "# from sklearn.model_selection import train_test_split\n",
    "#\n",
    "# X_train, X_test, y_train, y_test = train_test_split(features_df,\n",
    "#                                                     labels_df,\n",
    "#                                                     random_state=420,\n",
    "#                                                     test_size=0.2)"
   ],
   "metadata": {
    "collapsed": false,
    "ExecuteTime": {
     "end_time": "2023-07-30T16:34:55.063696Z",
     "start_time": "2023-07-30T16:34:54.875574600Z"
    }
   }
  },
  {
   "cell_type": "code",
   "execution_count": 16,
   "outputs": [
    {
     "data": {
      "text/plain": "   Gaze_Counts_In_RoI_Pre  Gaze_Counts_Out_RoI_Pre  Gaze_In_out_RoI_Ratio_Pre  \\\n1                   229.0                   3640.0                   0.062912   \n2                   250.0                   4259.0                   0.058699   \n3                   183.0                   1364.0                   0.134164   \n4                   254.0                   3716.0                   0.068353   \n7                   518.0                   3349.0                   0.154673   \n\n   Gaze_Re_Entries_To_RoI_Count_Pre  Gaze_Re_Entries_To_RoI_Rate_Pre  \\\n1                               3.0                         0.367377   \n2                               5.0                         0.554473   \n3                               2.0                         0.646800   \n4                               1.0                         0.123716   \n7                               2.0                         0.243665   \n\n   Fixations_Counts_In_RoI_Pre  Fixations_Counts_Out_RoI_Pre  \\\n1                          2.0                          25.0   \n2                          1.0                          16.0   \n3                          2.0                           7.0   \n4                          2.0                          20.0   \n7                          3.0                          22.0   \n\n   Fixations_In_out_RoI_Ratio_Pre  Fixations_Re_Entries_To_RoI_Count_Pre  \\\n1                        0.080000                                    2.0   \n2                        0.062500                                    1.0   \n3                        0.285714                                    1.0   \n4                        0.100000                                    1.0   \n7                        0.136364                                    1.0   \n\n   Fixations_Re_Entries_To_RoI_Rate_Pre  ...  DVA_Min_Gaze_Pre  \\\n1                              0.244918  ...          4.347439   \n2                              0.110895  ...          6.337612   \n3                              0.323400  ...          0.828320   \n4                              0.123716  ...          0.646858   \n7                              0.121832  ...          4.047231   \n\n   DVA_Sem_Gaze_Pre  DVA_AUC_Gaze_Pre  DVA_Mean_Fixations_Pre  \\\n1          0.119076      80628.921965               20.493043   \n2          0.036290      48509.025467               10.318725   \n3          0.126263      21541.316228               11.921904   \n4          0.059786      44934.492756               11.137369   \n7          0.097785      64682.847312               16.118439   \n\n   DVA_Median_Fixations_Pre  DVA_Std_Fixations_Pre  DVA_Max_Fixations_Pre  \\\n1                 23.339909               7.694430              32.282188   \n2                  9.961956               2.459129              17.024339   \n3                 11.232829               5.862942              19.085051   \n4                 11.046135               4.374994              17.567793   \n7                 19.482236               6.223567              24.158218   \n\n   DVA_Min_Fixations_Pre  DVA_Sem_Fixations_Pre  DVA_AUC_Fixations_Pre  \n1               4.772942               1.480794             553.312157  \n2               7.030213               0.596426             175.418318  \n3               3.120651               1.954314             107.297137  \n4               0.823106               0.932752             245.022113  \n7               4.381750               1.244713             402.960974  \n\n[5 rows x 73 columns]",
      "text/html": "<div>\n<style scoped>\n    .dataframe tbody tr th:only-of-type {\n        vertical-align: middle;\n    }\n\n    .dataframe tbody tr th {\n        vertical-align: top;\n    }\n\n    .dataframe thead th {\n        text-align: right;\n    }\n</style>\n<table border=\"1\" class=\"dataframe\">\n  <thead>\n    <tr style=\"text-align: right;\">\n      <th></th>\n      <th>Gaze_Counts_In_RoI_Pre</th>\n      <th>Gaze_Counts_Out_RoI_Pre</th>\n      <th>Gaze_In_out_RoI_Ratio_Pre</th>\n      <th>Gaze_Re_Entries_To_RoI_Count_Pre</th>\n      <th>Gaze_Re_Entries_To_RoI_Rate_Pre</th>\n      <th>Fixations_Counts_In_RoI_Pre</th>\n      <th>Fixations_Counts_Out_RoI_Pre</th>\n      <th>Fixations_In_out_RoI_Ratio_Pre</th>\n      <th>Fixations_Re_Entries_To_RoI_Count_Pre</th>\n      <th>Fixations_Re_Entries_To_RoI_Rate_Pre</th>\n      <th>...</th>\n      <th>DVA_Min_Gaze_Pre</th>\n      <th>DVA_Sem_Gaze_Pre</th>\n      <th>DVA_AUC_Gaze_Pre</th>\n      <th>DVA_Mean_Fixations_Pre</th>\n      <th>DVA_Median_Fixations_Pre</th>\n      <th>DVA_Std_Fixations_Pre</th>\n      <th>DVA_Max_Fixations_Pre</th>\n      <th>DVA_Min_Fixations_Pre</th>\n      <th>DVA_Sem_Fixations_Pre</th>\n      <th>DVA_AUC_Fixations_Pre</th>\n    </tr>\n  </thead>\n  <tbody>\n    <tr>\n      <th>1</th>\n      <td>229.0</td>\n      <td>3640.0</td>\n      <td>0.062912</td>\n      <td>3.0</td>\n      <td>0.367377</td>\n      <td>2.0</td>\n      <td>25.0</td>\n      <td>0.080000</td>\n      <td>2.0</td>\n      <td>0.244918</td>\n      <td>...</td>\n      <td>4.347439</td>\n      <td>0.119076</td>\n      <td>80628.921965</td>\n      <td>20.493043</td>\n      <td>23.339909</td>\n      <td>7.694430</td>\n      <td>32.282188</td>\n      <td>4.772942</td>\n      <td>1.480794</td>\n      <td>553.312157</td>\n    </tr>\n    <tr>\n      <th>2</th>\n      <td>250.0</td>\n      <td>4259.0</td>\n      <td>0.058699</td>\n      <td>5.0</td>\n      <td>0.554473</td>\n      <td>1.0</td>\n      <td>16.0</td>\n      <td>0.062500</td>\n      <td>1.0</td>\n      <td>0.110895</td>\n      <td>...</td>\n      <td>6.337612</td>\n      <td>0.036290</td>\n      <td>48509.025467</td>\n      <td>10.318725</td>\n      <td>9.961956</td>\n      <td>2.459129</td>\n      <td>17.024339</td>\n      <td>7.030213</td>\n      <td>0.596426</td>\n      <td>175.418318</td>\n    </tr>\n    <tr>\n      <th>3</th>\n      <td>183.0</td>\n      <td>1364.0</td>\n      <td>0.134164</td>\n      <td>2.0</td>\n      <td>0.646800</td>\n      <td>2.0</td>\n      <td>7.0</td>\n      <td>0.285714</td>\n      <td>1.0</td>\n      <td>0.323400</td>\n      <td>...</td>\n      <td>0.828320</td>\n      <td>0.126263</td>\n      <td>21541.316228</td>\n      <td>11.921904</td>\n      <td>11.232829</td>\n      <td>5.862942</td>\n      <td>19.085051</td>\n      <td>3.120651</td>\n      <td>1.954314</td>\n      <td>107.297137</td>\n    </tr>\n    <tr>\n      <th>4</th>\n      <td>254.0</td>\n      <td>3716.0</td>\n      <td>0.068353</td>\n      <td>1.0</td>\n      <td>0.123716</td>\n      <td>2.0</td>\n      <td>20.0</td>\n      <td>0.100000</td>\n      <td>1.0</td>\n      <td>0.123716</td>\n      <td>...</td>\n      <td>0.646858</td>\n      <td>0.059786</td>\n      <td>44934.492756</td>\n      <td>11.137369</td>\n      <td>11.046135</td>\n      <td>4.374994</td>\n      <td>17.567793</td>\n      <td>0.823106</td>\n      <td>0.932752</td>\n      <td>245.022113</td>\n    </tr>\n    <tr>\n      <th>7</th>\n      <td>518.0</td>\n      <td>3349.0</td>\n      <td>0.154673</td>\n      <td>2.0</td>\n      <td>0.243665</td>\n      <td>3.0</td>\n      <td>22.0</td>\n      <td>0.136364</td>\n      <td>1.0</td>\n      <td>0.121832</td>\n      <td>...</td>\n      <td>4.047231</td>\n      <td>0.097785</td>\n      <td>64682.847312</td>\n      <td>16.118439</td>\n      <td>19.482236</td>\n      <td>6.223567</td>\n      <td>24.158218</td>\n      <td>4.381750</td>\n      <td>1.244713</td>\n      <td>402.960974</td>\n    </tr>\n  </tbody>\n</table>\n<p>5 rows × 73 columns</p>\n</div>"
     },
     "execution_count": 16,
     "metadata": {},
     "output_type": "execute_result"
    }
   ],
   "source": [
    "X_train.head()"
   ],
   "metadata": {
    "collapsed": false,
    "ExecuteTime": {
     "end_time": "2023-07-30T16:34:55.120647300Z",
     "start_time": "2023-07-30T16:34:54.905009500Z"
    }
   }
  },
  {
   "cell_type": "markdown",
   "source": [
    "Fill missing values with the mean of the column"
   ],
   "metadata": {
    "collapsed": false
   }
  },
  {
   "cell_type": "code",
   "execution_count": 17,
   "outputs": [],
   "source": [
    "# TODO: fill missing values with the mean of the column or zero ?\n",
    "X_train = X_train.fillna(X_train.mean()) # fill missing values with the mean of the column or zero ? features_df.mean()\n",
    "X_test = X_test.fillna(X_train.mean())\n",
    "\n",
    "# X_train = X_train.fillna(0) # fill missing values with zero\n",
    "# X_test = X_test.fillna(0)"
   ],
   "metadata": {
    "collapsed": false,
    "ExecuteTime": {
     "end_time": "2023-07-30T16:34:55.204965300Z",
     "start_time": "2023-07-30T16:34:54.922962300Z"
    }
   }
  },
  {
   "cell_type": "markdown",
   "source": [
    "Remove columns with low variance (threshold = 5%)"
   ],
   "metadata": {
    "collapsed": false
   }
  },
  {
   "cell_type": "code",
   "execution_count": 18,
   "outputs": [],
   "source": [
    "from sklearn.feature_selection import VarianceThreshold\n",
    "\n",
    "# Create VarianceThreshold object with a variance with a threshold of 0.05\n",
    "thresholder = VarianceThreshold(threshold=0.05)\n",
    "\n",
    "# Fit the thresholder to the data\n",
    "thresholder.fit(X_train)\n",
    "\n",
    "# Get the indices of the columns that are retained\n",
    "feature_idx = thresholder.get_support(indices=True)\n",
    "\n",
    "# Create a list of the names of the retained columns\n",
    "feature_names = X_train.columns[feature_idx]\n",
    "\n",
    "# Subset the dataframe to include only the selected columns\n",
    "X_train = X_train[feature_names]\n",
    "X_test = X_test[feature_names]\n"
   ],
   "metadata": {
    "collapsed": false,
    "ExecuteTime": {
     "end_time": "2023-07-30T16:34:55.277822900Z",
     "start_time": "2023-07-30T16:34:54.999830600Z"
    }
   }
  },
  {
   "cell_type": "markdown",
   "source": [
    "Remove highly correlated features"
   ],
   "metadata": {
    "collapsed": false
   }
  },
  {
   "cell_type": "code",
   "execution_count": 19,
   "outputs": [],
   "source": [
    "# Create correlation matrix\n",
    "corr_matrix = X_train.corr().abs()\n",
    "\n",
    "# Select upper triangle of correlation matrix\n",
    "upper = corr_matrix.where(np.triu(np.ones(corr_matrix.shape), k=1).astype(np.bool_))\n",
    "\n",
    "# Find index of feature columns with correlation greater than 0.95\n",
    "to_drop = [column for column in upper.columns if any(upper[column] > 0.95)]\n",
    "\n",
    "# Drop features\n",
    "X_train.drop(to_drop, axis=1, inplace=True)\n",
    "X_test.drop(to_drop, axis=1, inplace=True)"
   ],
   "metadata": {
    "collapsed": false,
    "ExecuteTime": {
     "end_time": "2023-07-30T16:34:55.395073400Z",
     "start_time": "2023-07-30T16:34:55.046729600Z"
    }
   }
  },
  {
   "cell_type": "markdown",
   "source": [
    "How many features are left?"
   ],
   "metadata": {
    "collapsed": false
   }
  },
  {
   "cell_type": "code",
   "execution_count": 20,
   "outputs": [
    {
     "data": {
      "text/plain": "(5786, 57)"
     },
     "execution_count": 20,
     "metadata": {},
     "output_type": "execute_result"
    }
   ],
   "source": [
    "X_train.shape"
   ],
   "metadata": {
    "collapsed": false,
    "ExecuteTime": {
     "end_time": "2023-07-30T16:34:55.396580100Z",
     "start_time": "2023-07-30T16:34:55.138108400Z"
    }
   }
  },
  {
   "cell_type": "markdown",
   "source": [
    "Balancing the dataset"
   ],
   "metadata": {
    "collapsed": false
   }
  },
  {
   "cell_type": "code",
   "execution_count": 21,
   "outputs": [
    {
     "data": {
      "text/plain": "Session\n1          2951\n0          2835\ndtype: int64"
     },
     "execution_count": 21,
     "metadata": {},
     "output_type": "execute_result"
    }
   ],
   "source": [
    "y_train.value_counts()"
   ],
   "metadata": {
    "collapsed": false,
    "ExecuteTime": {
     "end_time": "2023-07-30T16:34:55.396580100Z",
     "start_time": "2023-07-30T16:34:55.152585Z"
    }
   }
  },
  {
   "cell_type": "markdown",
   "source": [
    "Scaling"
   ],
   "metadata": {
    "collapsed": false
   }
  },
  {
   "cell_type": "code",
   "execution_count": 22,
   "outputs": [],
   "source": [
    "from sklearn.preprocessing import StandardScaler\n",
    "\n",
    "# Create separate StandardScaler instances\n",
    "scaler_x = StandardScaler()\n",
    "# scaler_y = StandardScaler()\n",
    "\n",
    "# Fit on Training Data (!)\n",
    "scaler_x.fit(X_train.values)\n",
    "# scaler_y.fit(y_train.values.reshape(-1, 1))\n",
    "\n",
    "# Transform both training and testing data\n",
    "X_train_scaled = scaler_x.transform(X_train.values)\n",
    "X_test_scaled = scaler_x.transform(X_test.values)\n",
    "y_train = y_train.values.reshape(-1, 1).flatten()\n",
    "y_test = y_test.values.reshape(-1, 1).flatten()\n",
    "\n",
    "X_train_scaled = pd.DataFrame(X_train_scaled, columns=X_train.columns)\n",
    "X_test_scaled = pd.DataFrame(X_test_scaled, columns=X_test.columns)"
   ],
   "metadata": {
    "collapsed": false,
    "ExecuteTime": {
     "end_time": "2023-07-30T16:34:55.398577300Z",
     "start_time": "2023-07-30T16:34:55.168542600Z"
    }
   }
  },
  {
   "cell_type": "markdown",
   "source": [
    "PCA"
   ],
   "metadata": {
    "collapsed": false
   }
  },
  {
   "cell_type": "code",
   "execution_count": 23,
   "outputs": [
    {
     "data": {
      "text/plain": "<Figure size 432x288 with 1 Axes>",
      "image/png": "[encoded data removed]"
     },
     "metadata": {
      "needs_background": "light"
     },
     "output_type": "display_data"
    }
   ],
   "source": [
    "pca = PCA(n_components=0.95).fit(X_train_scaled)\n",
    "plt.plot(np.cumsum(pca.explained_variance_ratio_))\n",
    "plt.xlabel('number of components')\n",
    "plt.ylabel('cumulative explained variance');"
   ],
   "metadata": {
    "collapsed": false,
    "ExecuteTime": {
     "end_time": "2023-07-30T16:34:55.596635500Z",
     "start_time": "2023-07-30T16:34:55.186009100Z"
    }
   }
  },
  {
   "cell_type": "code",
   "execution_count": 24,
   "outputs": [],
   "source": [
    "X_train_pca = pca.transform(X_train_scaled)\n",
    "X_test_pca = pca.transform(X_test_scaled)"
   ],
   "metadata": {
    "collapsed": false,
    "ExecuteTime": {
     "end_time": "2023-07-30T16:34:55.658008200Z",
     "start_time": "2023-07-30T16:34:55.384103Z"
    }
   }
  },
  {
   "cell_type": "code",
   "execution_count": 25,
   "outputs": [
    {
     "data": {
      "text/plain": "array([[ 0.07414815,  5.24903438, -0.3252113 , ..., -0.63395221,\n         0.26334921, -0.42076925],\n       [-0.49426047, -0.7109598 , -1.62454942, ...,  0.42595935,\n         0.55369804,  1.38885314],\n       [ 0.05724083, -0.82951559,  2.3793252 , ..., -0.32051743,\n        -0.81282767, -1.0467242 ],\n       ...,\n       [-3.63672927, -4.03892146,  0.72528752, ...,  0.52950229,\n         0.25943453, -0.38817112],\n       [-4.09362931, -2.46324413,  0.52445637, ...,  0.29823949,\n         0.03363674, -0.16143816],\n       [ 4.09014752,  3.71300787, -3.68832596, ..., -0.25881798,\n        -0.41621484,  0.05461713]])"
     },
     "execution_count": 25,
     "metadata": {},
     "output_type": "execute_result"
    }
   ],
   "source": [
    "X_train_pca"
   ],
   "metadata": {
    "collapsed": false,
    "ExecuteTime": {
     "end_time": "2023-07-30T16:34:55.701411800Z",
     "start_time": "2023-07-30T16:34:55.397580200Z"
    }
   }
  },
  {
   "cell_type": "markdown",
   "source": [
    "LDA"
   ],
   "metadata": {
    "collapsed": false
   }
  },
  {
   "cell_type": "code",
   "execution_count": 26,
   "outputs": [],
   "source": [
    "from sklearn.discriminant_analysis import LinearDiscriminantAnalysis\n",
    "\n",
    "lda = LinearDiscriminantAnalysis(n_components=1)\n",
    "X_train_lda = lda.fit_transform(X_train_scaled, y_train)\n",
    "X_test_lda = lda.transform(X_test_scaled)"
   ],
   "metadata": {
    "collapsed": false,
    "ExecuteTime": {
     "end_time": "2023-07-30T16:34:55.731965800Z",
     "start_time": "2023-07-30T16:34:55.412542300Z"
    }
   }
  },
  {
   "cell_type": "code",
   "execution_count": 27,
   "outputs": [
    {
     "data": {
      "text/plain": "<Figure size 432x288 with 1 Axes>",
      "image/png": "[encoded data removed]"
     },
     "metadata": {
      "needs_background": "light"
     },
     "output_type": "display_data"
    }
   ],
   "source": [
    "# Create a scatter plot of the transformed data\n",
    "plt.scatter(X_train_lda, np.zeros(len(X_train_lda)), c=y_train, cmap='rainbow', alpha=0.7, edgecolors='b')\n",
    "plt.xlabel('LD1')\n",
    "plt.title('LDA Scatter Plot')\n",
    "plt.show()"
   ],
   "metadata": {
    "collapsed": false,
    "ExecuteTime": {
     "end_time": "2023-07-30T16:34:55.885953200Z",
     "start_time": "2023-07-30T16:34:55.494861900Z"
    }
   }
  },
  {
   "cell_type": "code",
   "execution_count": 28,
   "outputs": [],
   "source": [
    "X_train_preprocessed = X_train_pca\n",
    "X_test_preprocessed = X_test_pca"
   ],
   "metadata": {
    "collapsed": false,
    "ExecuteTime": {
     "end_time": "2023-07-30T16:34:55.895929800Z",
     "start_time": "2023-07-30T16:34:55.752424400Z"
    }
   }
  },
  {
   "cell_type": "markdown",
   "source": [
    "Classification models"
   ],
   "metadata": {
    "collapsed": false
   }
  },
  {
   "cell_type": "code",
   "execution_count": 29,
   "outputs": [],
   "source": [
    "from sklearn.metrics import accuracy_score, precision_score, recall_score, f1_score, roc_auc_score\n",
    "from sklearn.metrics import confusion_matrix\n",
    "import seaborn as sns\n",
    "\n",
    "def evaluate_model(model_name, y_true, y_pred):\n",
    "    # Evaluate the model using various metrics\n",
    "    accuracy = accuracy_score(y_test, y_pred)\n",
    "    precision = precision_score(y_test, y_pred)\n",
    "    recall = recall_score(y_test, y_pred)\n",
    "    f1 = f1_score(y_test, y_pred)\n",
    "    roc_auc = roc_auc_score(y_test, y_pred)\n",
    "\n",
    "    print(model_name)\n",
    "    # Print the evaluation metrics\n",
    "    print(\"Accuracy:\", round(accuracy, 2))\n",
    "    print(\"Precision:\", round(precision, 2))\n",
    "    print(\"Recall:\", round(recall, 2))\n",
    "    print(\"F1-score:\", round(f1, 2))\n",
    "    print(\"ROC-AUC score:\", round(roc_auc, 2))\n",
    "\n",
    "    # Compute the confusion matrix\n",
    "    confusion_mat = confusion_matrix(y_true, y_pred)\n",
    "\n",
    "    # Create a heatmap visualization of the confusion matrix\n",
    "    fig, ax = plt.subplots(figsize=(8, 8))\n",
    "    sns.heatmap(confusion_mat, annot=True, cmap=\"Blues\", fmt=\"d\", ax=ax)\n",
    "\n",
    "    # Set the axis labels and title\n",
    "    ax.set_xlabel(\"Predicted Labels\")\n",
    "    ax.set_ylabel(\"True Labels\")\n",
    "    ax.set_title(\"Confusion Matrix\")\n",
    "\n",
    "    # Show the plot\n",
    "    plt.show()"
   ],
   "metadata": {
    "collapsed": false,
    "ExecuteTime": {
     "end_time": "2023-07-30T16:34:55.895929800Z",
     "start_time": "2023-07-30T16:34:55.772885500Z"
    }
   }
  },
  {
   "cell_type": "code",
   "execution_count": 30,
   "outputs": [],
   "source": [
    "from sklearn.model_selection import GridSearchCV"
   ],
   "metadata": {
    "collapsed": false,
    "ExecuteTime": {
     "end_time": "2023-07-30T16:34:55.896936100Z",
     "start_time": "2023-07-30T16:34:55.784852800Z"
    }
   }
  },
  {
   "cell_type": "markdown",
   "source": [
    "Logistic Regression model"
   ],
   "metadata": {
    "collapsed": false
   }
  },
  {
   "cell_type": "code",
   "execution_count": 31,
   "outputs": [
    {
     "data": {
      "text/plain": "{'C': 0.20071428571428573, 'penalty': 'l1', 'solver': 'saga'}"
     },
     "execution_count": 31,
     "metadata": {},
     "output_type": "execute_result"
    }
   ],
   "source": [
    "from sklearn.linear_model import LogisticRegression\n",
    "\n",
    "# Define the range of values for each hyperparameter\n",
    "C = np.linspace(0.01, 0.9, 15)\n",
    "PENALTY = ['l1', 'l2']\n",
    "SOLVER = ['liblinear', 'saga']\n",
    "\n",
    "PARAM_GRID  = {\n",
    "    'C': C,\n",
    "    'penalty': PENALTY,\n",
    "    'solver': SOLVER\n",
    "}\n",
    "\n",
    "# Create the logistic regression estimator\n",
    "estimator = LogisticRegression(random_state=420)\n",
    "\n",
    "# Use grid search and cross-validation to tune the hyper parameters\n",
    "model_searcher = GridSearchCV(estimator, PARAM_GRID, verbose=0)\n",
    "model_searcher.fit(X_train_preprocessed, y_train)\n",
    "\n",
    "# The best combination of hyperparameters\n",
    "model_searcher.best_params_"
   ],
   "metadata": {
    "collapsed": false,
    "ExecuteTime": {
     "end_time": "2023-07-30T16:35:13.249719700Z",
     "start_time": "2023-07-30T16:34:55.801809600Z"
    }
   }
  },
  {
   "cell_type": "code",
   "execution_count": 32,
   "outputs": [
    {
     "name": "stdout",
     "output_type": "stream",
     "text": [
      "Logistic Regression (test data)\n",
      "Accuracy: 0.57\n",
      "Precision: 0.56\n",
      "Recall: 0.66\n",
      "F1-score: 0.6\n",
      "ROC-AUC score: 0.57\n"
     ]
    },
    {
     "data": {
      "text/plain": "<Figure size 576x576 with 2 Axes>",
      "image/png": "[encoded data removed]"
     },
     "metadata": {
      "needs_background": "light"
     },
     "output_type": "display_data"
    }
   ],
   "source": [
    "# Get the best estimator\n",
    "log_reg_best_estimator = model_searcher.best_estimator_\n",
    "y_test_pred = log_reg_best_estimator.predict(X_test_preprocessed)\n",
    "\n",
    "evaluate_model(\"Logistic Regression (test data)\", y_test, y_test_pred)"
   ],
   "metadata": {
    "collapsed": false,
    "ExecuteTime": {
     "end_time": "2023-07-30T16:35:13.385457900Z",
     "start_time": "2023-07-30T16:35:13.244733400Z"
    }
   }
  },
  {
   "cell_type": "markdown",
   "source": [
    "Gradient Boosting model"
   ],
   "metadata": {
    "collapsed": false
   }
  },
  {
   "cell_type": "code",
   "execution_count": 33,
   "outputs": [
    {
     "data": {
      "text/plain": "{'learning_rate': 0.06444444444444444, 'max_depth': 2, 'n_estimators': 100}"
     },
     "execution_count": 33,
     "metadata": {},
     "output_type": "execute_result"
    }
   ],
   "source": [
    "from sklearn.ensemble import GradientBoostingClassifier\n",
    "\n",
    "# Define the range of values for each hyperparameter\n",
    "LEARNING_RATE = np.linspace(0.01, 0.5, 10)\n",
    "MAX_DEPTH = range(2, 4)\n",
    "N_ESTIMATORS = range(100, 250, 15)\n",
    "\n",
    "PARAM_GRID  = {\n",
    "    'learning_rate': LEARNING_RATE,\n",
    "    'max_depth': MAX_DEPTH,\n",
    "    'n_estimators': N_ESTIMATORS\n",
    "}\n",
    "\n",
    "# Create the gradient boosting estimator\n",
    "estimator = GradientBoostingClassifier(random_state=420)\n",
    "\n",
    "# Use grid search and cross-validation to tune the hyper parameters\n",
    "model_searcher = GridSearchCV(estimator, PARAM_GRID, verbose=0)\n",
    "model_searcher.fit(X_train_preprocessed, y_train)\n",
    "\n",
    "# The best combination of hyperparameters\n",
    "model_searcher.best_params_"
   ],
   "metadata": {
    "collapsed": false,
    "ExecuteTime": {
     "end_time": "2023-07-30T18:22:39.412391300Z",
     "start_time": "2023-07-30T16:35:13.386458500Z"
    },
    "pycharm": {
     "is_executing": true
    }
   }
  },
  {
   "cell_type": "code",
   "execution_count": 34,
   "outputs": [
    {
     "name": "stdout",
     "output_type": "stream",
     "text": [
      "Gradient Boosting (test data)\n",
      "Accuracy: 0.57\n",
      "Precision: 0.59\n",
      "Recall: 0.59\n",
      "F1-score: 0.59\n",
      "ROC-AUC score: 0.57\n"
     ]
    },
    {
     "data": {
      "text/plain": "<Figure size 576x576 with 2 Axes>",
      "image/png": "[encoded data removed]"
     },
     "metadata": {},
     "output_type": "display_data"
    }
   ],
   "source": [
    "# Get the best estimator\n",
    "gb_best_estimator = model_searcher.best_estimator_\n",
    "y_test_pred = gb_best_estimator.predict(X_test_preprocessed)\n",
    "\n",
    "evaluate_model(\"Gradient Boosting (test data)\", y_test, y_test_pred)"
   ],
   "metadata": {
    "collapsed": false,
    "pycharm": {
     "is_executing": true
    },
    "ExecuteTime": {
     "end_time": "2023-07-30T18:22:39.587439600Z",
     "start_time": "2023-07-30T18:22:39.414386400Z"
    }
   }
  },
  {
   "cell_type": "markdown",
   "source": [
    "Random Forest model"
   ],
   "metadata": {
    "collapsed": false
   }
  },
  {
   "cell_type": "code",
   "execution_count": 35,
   "outputs": [
    {
     "data": {
      "text/plain": "{'max_depth': 3,\n 'min_samples_leaf': 4,\n 'min_samples_split': 2,\n 'n_estimators': 110}"
     },
     "execution_count": 35,
     "metadata": {},
     "output_type": "execute_result"
    }
   ],
   "source": [
    "from sklearn.ensemble import RandomForestClassifier\n",
    "\n",
    "# Define the range of values for each hyperparameter\n",
    "N_ESTIMATORS = range(50, 120, 15)\n",
    "MAX_DEPTH = range(2, 4)\n",
    "MIN_SAMPLES_SPLIT = range(2, 4)\n",
    "MIN_SAMPLES_LEAF = range(1, 5)\n",
    "\n",
    "PARAM_GRID  = {\n",
    "    'n_estimators': N_ESTIMATORS,\n",
    "    'max_depth': MAX_DEPTH,\n",
    "    'min_samples_split': MIN_SAMPLES_SPLIT,\n",
    "    'min_samples_leaf': MIN_SAMPLES_LEAF\n",
    "}\n",
    "\n",
    "# Create the random forest estimator\n",
    "estimator = RandomForestClassifier(random_state=420)\n",
    "\n",
    "# Use grid search and cross-validation to tune the hyper parameters\n",
    "model_searcher = GridSearchCV(estimator, PARAM_GRID, verbose=0)\n",
    "model_searcher.fit(X_train_preprocessed, y_train)\n",
    "\n",
    "# The best combination of hyperparameters\n",
    "model_searcher.best_params_"
   ],
   "metadata": {
    "collapsed": false,
    "pycharm": {
     "is_executing": true
    },
    "ExecuteTime": {
     "end_time": "2023-07-30T18:27:25.731892300Z",
     "start_time": "2023-07-30T18:22:39.584448100Z"
    }
   }
  },
  {
   "cell_type": "code",
   "execution_count": 36,
   "outputs": [
    {
     "name": "stdout",
     "output_type": "stream",
     "text": [
      "Random Forest (test data)\n",
      "Accuracy: 0.55\n",
      "Precision: 0.57\n",
      "Recall: 0.61\n",
      "F1-score: 0.59\n",
      "ROC-AUC score: 0.55\n"
     ]
    },
    {
     "data": {
      "text/plain": "<Figure size 576x576 with 2 Axes>",
      "image/png": "[encoded data removed]"
     },
     "metadata": {},
     "output_type": "display_data"
    }
   ],
   "source": [
    "rf_best_estimator = model_searcher.best_estimator_\n",
    "y_test_pred = rf_best_estimator.predict(X_test_preprocessed)\n",
    "\n",
    "evaluate_model(\"Random Forest (test data)\", y_test, y_test_pred)"
   ],
   "metadata": {
    "collapsed": false,
    "pycharm": {
     "is_executing": true
    },
    "ExecuteTime": {
     "end_time": "2023-07-30T18:27:25.920412300Z",
     "start_time": "2023-07-30T18:27:25.733886700Z"
    }
   }
  },
  {
   "cell_type": "markdown",
   "source": [
    "XGBoost model"
   ],
   "metadata": {
    "collapsed": false
   }
  },
  {
   "cell_type": "code",
   "execution_count": 37,
   "outputs": [
    {
     "data": {
      "text/plain": "{'learning_rate': 0.08071428571428571, 'max_depth': 4, 'n_estimators': 70}"
     },
     "execution_count": 37,
     "metadata": {},
     "output_type": "execute_result"
    }
   ],
   "source": [
    "from xgboost import XGBClassifier\n",
    "\n",
    "# Define the range of values for each hyperparameter\n",
    "LEARNING_RATE = np.linspace(0.01, 1, 15)\n",
    "MAX_DEPTH = range(1, 5)\n",
    "N_ESTIMATORS = range(70, 180, 15)\n",
    "\n",
    "PARAM_GRID  = {\n",
    "    'learning_rate': LEARNING_RATE,\n",
    "    'max_depth': MAX_DEPTH,\n",
    "    'n_estimators': N_ESTIMATORS\n",
    "}\n",
    "\n",
    "# Create the XGBoost estimator\n",
    "estimator = XGBClassifier(random_state=420)\n",
    "\n",
    "# Use grid search and cross-validation to tune the hyper parameters\n",
    "model_searcher = GridSearchCV(estimator, PARAM_GRID, verbose=0)\n",
    "model_searcher.fit(X_train_preprocessed, y_train)\n",
    "\n",
    "# The best combination of hyperparameters\n",
    "model_searcher.best_params_"
   ],
   "metadata": {
    "collapsed": false,
    "pycharm": {
     "is_executing": true
    },
    "ExecuteTime": {
     "end_time": "2023-07-30T20:00:31.791091Z",
     "start_time": "2023-07-30T18:27:25.919415Z"
    }
   }
  },
  {
   "cell_type": "markdown",
   "source": [
    "Evaluate the best model on the test data"
   ],
   "metadata": {
    "collapsed": false
   }
  },
  {
   "cell_type": "code",
   "execution_count": 38,
   "outputs": [
    {
     "name": "stdout",
     "output_type": "stream",
     "text": [
      "XGBoost (test data)\n",
      "Accuracy: 0.58\n",
      "Precision: 0.59\n",
      "Recall: 0.61\n",
      "F1-score: 0.6\n",
      "ROC-AUC score: 0.58\n"
     ]
    },
    {
     "data": {
      "text/plain": "<Figure size 576x576 with 2 Axes>",
      "image/png": "[encoded data removed]"
     },
     "metadata": {},
     "output_type": "display_data"
    }
   ],
   "source": [
    "xgb_best_estimator = model_searcher.best_estimator_\n",
    "y_test_pred = xgb_best_estimator.predict(X_test_preprocessed)\n",
    "\n",
    "evaluate_model(\"XGBoost (test data)\", y_test, y_test_pred)"
   ],
   "metadata": {
    "collapsed": false,
    "pycharm": {
     "is_executing": true
    },
    "ExecuteTime": {
     "end_time": "2023-07-30T20:00:31.989578200Z",
     "start_time": "2023-07-30T20:00:31.780120100Z"
    }
   }
  },
  {
   "cell_type": "markdown",
   "source": [
    "TabNetClassifier with automatic hyperparameters tuning"
   ],
   "metadata": {
    "collapsed": false
   }
  },
  {
   "cell_type": "code",
   "execution_count": 39,
   "outputs": [
    {
     "name": "stdout",
     "output_type": "stream",
     "text": [
      "Requirement already satisfied: pytorch-tabnet in c:\\users\\user\\anaconda3\\lib\\site-packages (4.0)\n",
      "Requirement already satisfied: scikit_learn>0.21 in c:\\users\\user\\anaconda3\\lib\\site-packages (from pytorch-tabnet) (1.2.2)\n",
      "Requirement already satisfied: scipy>1.4 in c:\\users\\user\\appdata\\roaming\\python\\python39\\site-packages (from pytorch-tabnet) (1.10.1)\n",
      "Requirement already satisfied: tqdm<5.0,>=4.36 in c:\\users\\user\\anaconda3\\lib\\site-packages (from pytorch-tabnet) (4.62.3)\n",
      "Requirement already satisfied: torch<2.0,>=1.2 in c:\\users\\user\\anaconda3\\lib\\site-packages (from pytorch-tabnet) (1.13.1)\n",
      "Requirement already satisfied: numpy<2.0,>=1.17 in c:\\users\\user\\anaconda3\\lib\\site-packages (from pytorch-tabnet) (1.20.3)\n",
      "Requirement already satisfied: threadpoolctl>=2.0.0 in c:\\users\\user\\anaconda3\\lib\\site-packages (from scikit_learn>0.21->pytorch-tabnet) (2.2.0)\n",
      "Requirement already satisfied: joblib>=1.1.1 in c:\\users\\user\\anaconda3\\lib\\site-packages (from scikit_learn>0.21->pytorch-tabnet) (1.2.0)\n",
      "Requirement already satisfied: typing-extensions in c:\\users\\user\\anaconda3\\lib\\site-packages (from torch<2.0,>=1.2->pytorch-tabnet) (4.4.0)\n",
      "Requirement already satisfied: colorama in c:\\users\\user\\anaconda3\\lib\\site-packages (from tqdm<5.0,>=4.36->pytorch-tabnet) (0.4.4)\n",
      "Requirement already satisfied: optuna in c:\\users\\user\\anaconda3\\lib\\site-packages (3.1.1)\n",
      "Requirement already satisfied: PyYAML in c:\\users\\user\\anaconda3\\lib\\site-packages (from optuna) (6.0)\n",
      "Requirement already satisfied: alembic>=1.5.0 in c:\\users\\user\\anaconda3\\lib\\site-packages (from optuna) (1.10.3)\n",
      "Requirement already satisfied: sqlalchemy>=1.3.0 in c:\\users\\user\\anaconda3\\lib\\site-packages (from optuna) (1.4.22)\n",
      "Requirement already satisfied: tqdm in c:\\users\\user\\anaconda3\\lib\\site-packages (from optuna) (4.62.3)\n",
      "Requirement already satisfied: packaging>=20.0 in c:\\users\\user\\anaconda3\\lib\\site-packages (from optuna) (23.0)\n",
      "Requirement already satisfied: cmaes>=0.9.1 in c:\\users\\user\\anaconda3\\lib\\site-packages (from optuna) (0.9.1)\n",
      "Requirement already satisfied: colorlog in c:\\users\\user\\anaconda3\\lib\\site-packages (from optuna) (6.7.0)\n",
      "Requirement already satisfied: numpy in c:\\users\\user\\anaconda3\\lib\\site-packages (from optuna) (1.20.3)\n",
      "Requirement already satisfied: Mako in c:\\users\\user\\anaconda3\\lib\\site-packages (from alembic>=1.5.0->optuna) (1.2.4)\n",
      "Requirement already satisfied: typing-extensions>=4 in c:\\users\\user\\anaconda3\\lib\\site-packages (from alembic>=1.5.0->optuna) (4.4.0)\n",
      "Requirement already satisfied: greenlet!=0.4.17 in c:\\users\\user\\anaconda3\\lib\\site-packages (from sqlalchemy>=1.3.0->optuna) (1.1.1)\n",
      "Requirement already satisfied: colorama in c:\\users\\user\\anaconda3\\lib\\site-packages (from colorlog->optuna) (0.4.4)\n",
      "Requirement already satisfied: MarkupSafe>=0.9.2 in c:\\users\\user\\anaconda3\\lib\\site-packages (from Mako->alembic>=1.5.0->optuna) (1.1.1)\n"
     ]
    }
   ],
   "source": [
    "!pip install pytorch-tabnet\n",
    "!pip install optuna"
   ],
   "metadata": {
    "collapsed": false,
    "pycharm": {
     "is_executing": true
    },
    "ExecuteTime": {
     "end_time": "2023-07-30T20:00:39.520666500Z",
     "start_time": "2023-07-30T20:00:31.983594100Z"
    }
   }
  },
  {
   "cell_type": "code",
   "execution_count": 40,
   "outputs": [
    {
     "ename": "AttributeError",
     "evalue": "'numpy.ndarray' object has no attribute 'values'",
     "output_type": "error",
     "traceback": [
      "\u001B[1;31m---------------------------------------------------------------------------\u001B[0m",
      "\u001B[1;31mAttributeError\u001B[0m                            Traceback (most recent call last)",
      "\u001B[1;32m~\\AppData\\Local\\Temp/ipykernel_37532/1561432713.py\u001B[0m in \u001B[0;36m<module>\u001B[1;34m\u001B[0m\n\u001B[0;32m      1\u001B[0m \u001B[1;31m# Convert Pandas DataFrame to NumPy array\u001B[0m\u001B[1;33m\u001B[0m\u001B[1;33m\u001B[0m\u001B[0m\n\u001B[1;32m----> 2\u001B[1;33m \u001B[0mX_train_np\u001B[0m \u001B[1;33m=\u001B[0m \u001B[0mX_train_preprocessed\u001B[0m\u001B[1;33m.\u001B[0m\u001B[0mvalues\u001B[0m\u001B[1;33m\u001B[0m\u001B[1;33m\u001B[0m\u001B[0m\n\u001B[0m\u001B[0;32m      3\u001B[0m \u001B[0mX_test_np\u001B[0m \u001B[1;33m=\u001B[0m \u001B[0mX_test_preprocessed\u001B[0m\u001B[1;33m.\u001B[0m\u001B[0mvalues\u001B[0m\u001B[1;33m\u001B[0m\u001B[1;33m\u001B[0m\u001B[0m\n",
      "\u001B[1;31mAttributeError\u001B[0m: 'numpy.ndarray' object has no attribute 'values'"
     ]
    }
   ],
   "source": [
    "# Convert Pandas DataFrame to NumPy array\n",
    "X_train_np = X_train_preprocessed.values\n",
    "X_test_np = X_test_preprocessed.values"
   ],
   "metadata": {
    "collapsed": false,
    "pycharm": {
     "is_executing": true
    },
    "ExecuteTime": {
     "end_time": "2023-07-30T20:00:39.958530500Z",
     "start_time": "2023-07-30T20:00:39.520666500Z"
    }
   }
  },
  {
   "cell_type": "code",
   "execution_count": null,
   "outputs": [],
   "source": [
    "import torch\n",
    "from pytorch_tabnet.tab_model import TabNetClassifier\n",
    "import optuna\n",
    "from sklearn.metrics import mean_squared_error\n",
    "\n",
    "# Define objective function for optuna\n",
    "def objective(trial):\n",
    "    # Generate hyperparameter search space\n",
    "    params = {\n",
    "        'n_d': trial.suggest_int('n_d', 8, 64),\n",
    "        'n_a': trial.suggest_int('n_a', 8, 64),\n",
    "        'n_steps': trial.suggest_int('n_steps', 1, 10),\n",
    "        'gamma': trial.suggest_float('gamma', 0.1, 2.0),\n",
    "        'n_independent': trial.suggest_int('n_independent', 1, 10),\n",
    "        'n_shared': trial.suggest_int('n_shared', 1, 10),\n",
    "        'lambda_sparse': trial.suggest_float('lambda_sparse', 0.0001, 0.1),\n",
    "        # 'optimizer_fn': torch.optim.Adam,\n",
    "        # 'optimizer_params': dict(lr=2e-2, weight_decay=1e-5),\n",
    "        # 'mask_type': 'entmax',\n",
    "        # 'scheduler_params': dict(mode=\"min\", patience=5, min_lr=1e-5, factor=0.9,),\n",
    "        # 'scheduler_fn': torch.optim.lr_scheduler.ReduceLROnPlateau,\n",
    "        'verbose': 0\n",
    "    }\n",
    "\n",
    "    # Create TabNetClassifier object with hyperparameters from optuna\n",
    "    classifier = TabNetClassifier(**params)\n",
    "\n",
    "    # Train and evaluate the model\n",
    "    classifier.fit(X_train_np, y_train, eval_set=[(X_test_np, y_test)])\n",
    "    val_preds = classifier.predict_proba(X_test_np)[:, 1]\n",
    "    val_auc = roc_auc_score(y_test, val_preds)\n",
    "\n",
    "    return val_auc\n",
    "\n",
    "# Create optuna study\n",
    "study = optuna.create_study(direction='maximize')\n",
    "\n",
    "# Optimize hyperparameters using optuna\n",
    "study.optimize(objective, n_trials=42, timeout=600)\n",
    "\n",
    "# Get best hyperparameters from optuna\n",
    "best_params = study.best_trial.params\n",
    "\n",
    "# Train final model with best hyperparameters\n",
    "tabnet_classifier = TabNetClassifier(**best_params)\n",
    "tabnet_classifier.fit(X_train_np, y_train)\n",
    "best_params"
   ],
   "metadata": {
    "collapsed": false,
    "pycharm": {
     "is_executing": true
    },
    "ExecuteTime": {
     "start_time": "2023-07-30T20:00:39.955538400Z"
    }
   }
  },
  {
   "cell_type": "markdown",
   "source": [
    "Evaluate the best model on the test data"
   ],
   "metadata": {
    "collapsed": false
   }
  },
  {
   "cell_type": "code",
   "execution_count": null,
   "outputs": [],
   "source": [
    "# Evaluate final model on test set\n",
    "y_test_pred = tabnet_classifier.predict(X_test_np)\n",
    "evaluate_model(\"Tabnet (test data)\", y_test, y_test_pred)"
   ],
   "metadata": {
    "collapsed": false,
    "pycharm": {
     "is_executing": true
    },
    "ExecuteTime": {
     "start_time": "2023-07-30T20:00:39.956536Z"
    }
   }
  },
  {
   "cell_type": "markdown",
   "source": [
    "The best model is Gradient Boosting"
   ],
   "metadata": {
    "collapsed": false
   }
  },
  {
   "cell_type": "code",
   "execution_count": null,
   "outputs": [],
   "source": [
    "the_best_model_ever = xgb_best_estimator"
   ],
   "metadata": {
    "collapsed": false,
    "pycharm": {
     "is_executing": true
    },
    "ExecuteTime": {
     "start_time": "2023-07-30T20:00:39.958530500Z"
    }
   }
  },
  {
   "cell_type": "markdown",
   "source": [
    "Feature importance"
   ],
   "metadata": {
    "collapsed": false
   }
  },
  {
   "cell_type": "code",
   "execution_count": null,
   "outputs": [],
   "source": [
    "feature_importances = pd.DataFrame(the_best_model_ever.feature_importances_,\n",
    "                                   index = X_train_preprocessed.columns,\n",
    "                                    columns=['importance']).sort_values('importance', ascending=False)\n",
    "feature_importances"
   ],
   "metadata": {
    "collapsed": false,
    "pycharm": {
     "is_executing": true
    },
    "ExecuteTime": {
     "start_time": "2023-07-30T20:00:39.959527700Z"
    }
   }
  },
  {
   "cell_type": "markdown",
   "source": [
    "\n"
   ],
   "metadata": {
    "collapsed": false
   }
  }
 ],
 "metadata": {
  "kernelspec": {
   "display_name": "Python 3",
   "language": "python",
   "name": "python3"
  },
  "language_info": {
   "codemirror_mode": {
    "name": "ipython",
    "version": 2
   },
   "file_extension": ".py",
   "mimetype": "text/x-python",
   "name": "python",
   "nbconvert_exporter": "python",
   "pygments_lexer": "ipython2",
   "version": "2.7.6"
  }
 },
 "nbformat": 4,
 "nbformat_minor": 0
}