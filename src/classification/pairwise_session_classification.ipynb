{
 "cells": [
  {
   "cell_type": "code",
   "execution_count": 51,
   "outputs": [],
   "source": [
    "import pandas as pd\n",
    "from matplotlib import pyplot as plt\n",
    "import numpy as np\n",
    "from sklearn.decomposition import PCA\n",
    "import os\n",
    "from src import config"
   ],
   "metadata": {
    "collapsed": false,
    "ExecuteTime": {
     "end_time": "2023-10-14T12:11:34.167892700Z",
     "start_time": "2023-10-14T12:11:33.756826900Z"
    }
   },
   "id": "7c6fcef270881191"
  },
  {
   "cell_type": "code",
   "execution_count": 52,
   "outputs": [],
   "source": [
    "features_df = pd.read_pickle(os.path.join(config.classification_resource_dir, \"pairwise_sessions_features_df.pkl\"))\n",
    "labels_df = pd.read_pickle(os.path.join(config.classification_resource_dir, \"pairwise_sessions_labels_df.pkl\"))"
   ],
   "metadata": {
    "collapsed": false,
    "ExecuteTime": {
     "end_time": "2023-10-14T12:11:34.560325200Z",
     "start_time": "2023-10-14T12:11:33.764837900Z"
    }
   },
   "id": "9447514d4b35cb20"
  },
  {
   "cell_type": "code",
   "execution_count": 53,
   "outputs": [
    {
     "data": {
      "text/plain": "   Movie DVA_Mean_Gaze_Pre DVA_Median_Gaze_Pre DVA_Std_Gaze_Pre  \\\n0     32           9.25312            0.852175       -21.755539   \n1     14        -28.964029          -40.461852        20.785954   \n2     53         -33.10411          -53.091721        35.800061   \n3     52               NaN                 NaN              NaN   \n4      7          8.360576           20.932871         -7.26684   \n\n  DVA_Max_Gaze_Pre DVA_Min_Gaze_Pre DVA_Sem_Gaze_Pre DVA_AUC_Gaze_Pre  \\\n0        -2.846803        18.481207       -22.170852        10.213913   \n1          0.94866       -67.264808        21.878396       -30.909834   \n2        -2.732389       -17.697891        37.062916       -35.709998   \n3              NaN              NaN              NaN              NaN   \n4         8.259706        88.595905       -10.212786        14.090493   \n\n  DVA_Mean_Fixations_Pre DVA_Median_Fixations_Pre DVA_Std_Fixations_Pre  \\\n0              10.876323                 3.115745            -19.984535   \n1             -22.163615                -39.96257             18.533834   \n2             -21.957136               -17.066975               22.7489   \n3               32.05759                37.112088              13.60883   \n4              10.288895                20.943098            -20.413501   \n\n  DVA_Max_Fixations_Pre DVA_Min_Fixations_Pre DVA_Sem_Fixations_Pre  \\\n0              2.744922             19.634904             -10.96701   \n1              8.603429            -52.490432             16.026598   \n2              -3.34199            -16.282419             19.594506   \n3                0.5873             15.754212              33.59058   \n4             -18.69337              3.942045            -20.413501   \n\n  DVA_AUC_Fixations_Pre  \n0             -9.373992  \n1            -17.298841  \n2            -15.453564  \n3            -13.027947  \n4             10.288895  ",
      "text/html": "<div>\n<style scoped>\n    .dataframe tbody tr th:only-of-type {\n        vertical-align: middle;\n    }\n\n    .dataframe tbody tr th {\n        vertical-align: top;\n    }\n\n    .dataframe thead th {\n        text-align: right;\n    }\n</style>\n<table border=\"1\" class=\"dataframe\">\n  <thead>\n    <tr style=\"text-align: right;\">\n      <th></th>\n      <th>Movie</th>\n      <th>DVA_Mean_Gaze_Pre</th>\n      <th>DVA_Median_Gaze_Pre</th>\n      <th>DVA_Std_Gaze_Pre</th>\n      <th>DVA_Max_Gaze_Pre</th>\n      <th>DVA_Min_Gaze_Pre</th>\n      <th>DVA_Sem_Gaze_Pre</th>\n      <th>DVA_AUC_Gaze_Pre</th>\n      <th>DVA_Mean_Fixations_Pre</th>\n      <th>DVA_Median_Fixations_Pre</th>\n      <th>DVA_Std_Fixations_Pre</th>\n      <th>DVA_Max_Fixations_Pre</th>\n      <th>DVA_Min_Fixations_Pre</th>\n      <th>DVA_Sem_Fixations_Pre</th>\n      <th>DVA_AUC_Fixations_Pre</th>\n    </tr>\n  </thead>\n  <tbody>\n    <tr>\n      <th>0</th>\n      <td>32</td>\n      <td>9.25312</td>\n      <td>0.852175</td>\n      <td>-21.755539</td>\n      <td>-2.846803</td>\n      <td>18.481207</td>\n      <td>-22.170852</td>\n      <td>10.213913</td>\n      <td>10.876323</td>\n      <td>3.115745</td>\n      <td>-19.984535</td>\n      <td>2.744922</td>\n      <td>19.634904</td>\n      <td>-10.96701</td>\n      <td>-9.373992</td>\n    </tr>\n    <tr>\n      <th>1</th>\n      <td>14</td>\n      <td>-28.964029</td>\n      <td>-40.461852</td>\n      <td>20.785954</td>\n      <td>0.94866</td>\n      <td>-67.264808</td>\n      <td>21.878396</td>\n      <td>-30.909834</td>\n      <td>-22.163615</td>\n      <td>-39.96257</td>\n      <td>18.533834</td>\n      <td>8.603429</td>\n      <td>-52.490432</td>\n      <td>16.026598</td>\n      <td>-17.298841</td>\n    </tr>\n    <tr>\n      <th>2</th>\n      <td>53</td>\n      <td>-33.10411</td>\n      <td>-53.091721</td>\n      <td>35.800061</td>\n      <td>-2.732389</td>\n      <td>-17.697891</td>\n      <td>37.062916</td>\n      <td>-35.709998</td>\n      <td>-21.957136</td>\n      <td>-17.066975</td>\n      <td>22.7489</td>\n      <td>-3.34199</td>\n      <td>-16.282419</td>\n      <td>19.594506</td>\n      <td>-15.453564</td>\n    </tr>\n    <tr>\n      <th>3</th>\n      <td>52</td>\n      <td>NaN</td>\n      <td>NaN</td>\n      <td>NaN</td>\n      <td>NaN</td>\n      <td>NaN</td>\n      <td>NaN</td>\n      <td>NaN</td>\n      <td>32.05759</td>\n      <td>37.112088</td>\n      <td>13.60883</td>\n      <td>0.5873</td>\n      <td>15.754212</td>\n      <td>33.59058</td>\n      <td>-13.027947</td>\n    </tr>\n    <tr>\n      <th>4</th>\n      <td>7</td>\n      <td>8.360576</td>\n      <td>20.932871</td>\n      <td>-7.26684</td>\n      <td>8.259706</td>\n      <td>88.595905</td>\n      <td>-10.212786</td>\n      <td>14.090493</td>\n      <td>10.288895</td>\n      <td>20.943098</td>\n      <td>-20.413501</td>\n      <td>-18.69337</td>\n      <td>3.942045</td>\n      <td>-20.413501</td>\n      <td>10.288895</td>\n    </tr>\n  </tbody>\n</table>\n</div>"
     },
     "execution_count": 53,
     "metadata": {},
     "output_type": "execute_result"
    }
   ],
   "source": [
    "# Remove all the features that are not contains 'Pre' in their name\n",
    "features_df = features_df.loc[:, ~features_df.columns.str.contains('Post')]\n",
    "\n",
    "# Remove all the features that are not contains 'DVA' in their name or config.MOVIE\n",
    "features_df = features_df.loc[:, features_df.columns.str.contains('DVA') | features_df.columns.str.contains(config.MOVIE)]\n",
    "\n",
    "features_df.head()"
   ],
   "metadata": {
    "collapsed": false,
    "ExecuteTime": {
     "end_time": "2023-10-14T12:11:34.631085100Z",
     "start_time": "2023-10-14T12:11:33.828198Z"
    }
   },
   "id": "c2e51e57ddd33cf3"
  },
  {
   "cell_type": "code",
   "execution_count": 54,
   "outputs": [
    {
     "name": "stdout",
     "output_type": "stream",
     "text": [
      "<class 'pandas.core.frame.DataFrame'>\n",
      "RangeIndex: 4080 entries, 0 to 4079\n",
      "Data columns (total 15 columns):\n",
      " #   Column                    Non-Null Count  Dtype \n",
      "---  ------                    --------------  ----- \n",
      " 0   Movie                     4080 non-null   int8  \n",
      " 1   DVA_Mean_Gaze_Pre         3864 non-null   object\n",
      " 2   DVA_Median_Gaze_Pre       3864 non-null   object\n",
      " 3   DVA_Std_Gaze_Pre          3864 non-null   object\n",
      " 4   DVA_Max_Gaze_Pre          3864 non-null   object\n",
      " 5   DVA_Min_Gaze_Pre          3864 non-null   object\n",
      " 6   DVA_Sem_Gaze_Pre          3864 non-null   object\n",
      " 7   DVA_AUC_Gaze_Pre          3864 non-null   object\n",
      " 8   DVA_Mean_Fixations_Pre    4068 non-null   object\n",
      " 9   DVA_Median_Fixations_Pre  4068 non-null   object\n",
      " 10  DVA_Std_Fixations_Pre     4056 non-null   object\n",
      " 11  DVA_Max_Fixations_Pre     4068 non-null   object\n",
      " 12  DVA_Min_Fixations_Pre     4068 non-null   object\n",
      " 13  DVA_Sem_Fixations_Pre     4056 non-null   object\n",
      " 14  DVA_AUC_Fixations_Pre     4068 non-null   object\n",
      "dtypes: int8(1), object(14)\n",
      "memory usage: 450.4+ KB\n"
     ]
    }
   ],
   "source": [
    "features_df.info()"
   ],
   "metadata": {
    "collapsed": false,
    "ExecuteTime": {
     "end_time": "2023-10-14T12:11:34.646664200Z",
     "start_time": "2023-10-14T12:11:33.851294300Z"
    }
   },
   "id": "26878df6c8e95564"
  },
  {
   "cell_type": "code",
   "execution_count": 55,
   "outputs": [
    {
     "data": {
      "text/plain": "           normalized_by_session_a\nseries_id                         \n0                                0\n1                                1\n2                                0\n3                                1\n4                                1",
      "text/html": "<div>\n<style scoped>\n    .dataframe tbody tr th:only-of-type {\n        vertical-align: middle;\n    }\n\n    .dataframe tbody tr th {\n        vertical-align: top;\n    }\n\n    .dataframe thead th {\n        text-align: right;\n    }\n</style>\n<table border=\"1\" class=\"dataframe\">\n  <thead>\n    <tr style=\"text-align: right;\">\n      <th></th>\n      <th>normalized_by_session_a</th>\n    </tr>\n    <tr>\n      <th>series_id</th>\n      <th></th>\n    </tr>\n  </thead>\n  <tbody>\n    <tr>\n      <th>0</th>\n      <td>0</td>\n    </tr>\n    <tr>\n      <th>1</th>\n      <td>1</td>\n    </tr>\n    <tr>\n      <th>2</th>\n      <td>0</td>\n    </tr>\n    <tr>\n      <th>3</th>\n      <td>1</td>\n    </tr>\n    <tr>\n      <th>4</th>\n      <td>1</td>\n    </tr>\n  </tbody>\n</table>\n</div>"
     },
     "execution_count": 55,
     "metadata": {},
     "output_type": "execute_result"
    }
   ],
   "source": [
    "labels_df.head()"
   ],
   "metadata": {
    "collapsed": false,
    "ExecuteTime": {
     "end_time": "2023-10-14T12:11:34.672275400Z",
     "start_time": "2023-10-14T12:11:33.862294800Z"
    }
   },
   "id": "e6f77a26d5f5ac9e"
  },
  {
   "cell_type": "code",
   "execution_count": 56,
   "outputs": [
    {
     "name": "stdout",
     "output_type": "stream",
     "text": [
      "<class 'pandas.core.frame.DataFrame'>\n",
      "Int64Index: 4080 entries, 0 to 4079\n",
      "Data columns (total 1 columns):\n",
      " #   Column                   Non-Null Count  Dtype\n",
      "---  ------                   --------------  -----\n",
      " 0   normalized_by_session_a  4080 non-null   int64\n",
      "dtypes: int64(1)\n",
      "memory usage: 63.8 KB\n"
     ]
    }
   ],
   "source": [
    "labels_df.info()"
   ],
   "metadata": {
    "collapsed": false,
    "ExecuteTime": {
     "end_time": "2023-10-14T12:11:34.731441500Z",
     "start_time": "2023-10-14T12:11:33.877802100Z"
    }
   },
   "id": "55d5ddd75248e2af"
  },
  {
   "cell_type": "markdown",
   "source": [
    "Data Cleaning"
   ],
   "metadata": {
    "collapsed": false
   },
   "id": "f1f209597785e848"
  },
  {
   "cell_type": "markdown",
   "source": [
    "how many missing values / inf values are there in each column? show the top 10"
   ],
   "metadata": {
    "collapsed": false
   },
   "id": "aafd11558e49d132"
  },
  {
   "cell_type": "code",
   "execution_count": 57,
   "outputs": [
    {
     "name": "stdout",
     "output_type": "stream",
     "text": [
      "Number of missing values in each column: DVA_Mean_Gaze_Pre         216\n",
      "DVA_Median_Gaze_Pre       216\n",
      "DVA_Std_Gaze_Pre          216\n",
      "DVA_Max_Gaze_Pre          216\n",
      "DVA_Min_Gaze_Pre          216\n",
      "DVA_Sem_Gaze_Pre          216\n",
      "DVA_AUC_Gaze_Pre          216\n",
      "DVA_Std_Fixations_Pre      24\n",
      "DVA_Sem_Fixations_Pre      24\n",
      "DVA_Mean_Fixations_Pre     12\n",
      "dtype: int64\n"
     ]
    }
   ],
   "source": [
    "print('Number of missing values in each column:', features_df.isin([np.nan, np.inf, -np.inf]).sum(axis=0).sort_values(ascending=False).head(10))"
   ],
   "metadata": {
    "collapsed": false,
    "ExecuteTime": {
     "end_time": "2023-10-14T12:11:34.781032Z",
     "start_time": "2023-10-14T12:11:33.889807300Z"
    }
   },
   "id": "85ef8ca47e4d3dfc"
  },
  {
   "cell_type": "markdown",
   "source": [],
   "metadata": {
    "collapsed": false
   },
   "id": "c1007ccd1578dad8"
  },
  {
   "cell_type": "markdown",
   "source": [
    "Remove columns with more than 30% missing values or inf values"
   ],
   "metadata": {
    "collapsed": false
   },
   "id": "5dc4acced1407154"
  },
  {
   "cell_type": "code",
   "execution_count": 58,
   "outputs": [],
   "source": [
    "features_df = features_df.loc[:, features_df.isin([np.nan, np.inf, -np.inf]).mean(axis=0) < 0.3]"
   ],
   "metadata": {
    "collapsed": false,
    "ExecuteTime": {
     "end_time": "2023-10-14T12:11:34.856161100Z",
     "start_time": "2023-10-14T12:11:33.905317200Z"
    }
   },
   "id": "c7a3396286e92939"
  },
  {
   "cell_type": "code",
   "execution_count": 59,
   "outputs": [
    {
     "data": {
      "text/plain": "DVA_Mean_Gaze_Pre         0.052941\nDVA_Median_Gaze_Pre       0.052941\nDVA_Std_Gaze_Pre          0.052941\nDVA_Max_Gaze_Pre          0.052941\nDVA_Min_Gaze_Pre          0.052941\nDVA_Sem_Gaze_Pre          0.052941\nDVA_AUC_Gaze_Pre          0.052941\nDVA_Std_Fixations_Pre     0.005882\nDVA_Sem_Fixations_Pre     0.005882\nDVA_Mean_Fixations_Pre    0.002941\ndtype: float64"
     },
     "execution_count": 59,
     "metadata": {},
     "output_type": "execute_result"
    }
   ],
   "source": [
    "features_df.isin([np.nan, np.inf, -np.inf]).mean(axis=0).sort_values(ascending=False).head(10)"
   ],
   "metadata": {
    "collapsed": false,
    "ExecuteTime": {
     "end_time": "2023-10-14T12:11:34.903241100Z",
     "start_time": "2023-10-14T12:11:33.925321200Z"
    }
   },
   "id": "79c74410a4cfbc36"
  },
  {
   "cell_type": "markdown",
   "source": [
    "how many missing values / inf values are there in each row? show the top 10"
   ],
   "metadata": {
    "collapsed": false
   },
   "id": "7f57be7d57f24fd0"
  },
  {
   "cell_type": "code",
   "execution_count": 60,
   "outputs": [
    {
     "data": {
      "text/plain": "3434    0.933333\n2490    0.933333\n2754    0.933333\n1397    0.933333\n3856    0.933333\n2356    0.933333\n3290    0.933333\n3363    0.933333\n471     0.933333\n2943    0.933333\ndtype: float64"
     },
     "execution_count": 60,
     "metadata": {},
     "output_type": "execute_result"
    }
   ],
   "source": [
    "features_df.isin([np.nan, np.inf, -np.inf]).mean(axis=1).sort_values(ascending=False).head(10)"
   ],
   "metadata": {
    "collapsed": false,
    "ExecuteTime": {
     "end_time": "2023-10-14T12:11:34.942400500Z",
     "start_time": "2023-10-14T12:11:33.942340400Z"
    }
   },
   "id": "6f98ce4187c228ec"
  },
  {
   "cell_type": "markdown",
   "source": [
    "Remove rows with more than 50% missing values"
   ],
   "metadata": {
    "collapsed": false
   },
   "id": "145589330b707337"
  },
  {
   "cell_type": "code",
   "execution_count": 61,
   "outputs": [],
   "source": [
    "features_df = features_df.loc[features_df.isin([np.nan, np.inf, -np.inf]).mean(axis=1) < 0.5]\n",
    "# remove the corresponding rows from y_train\n",
    "labels_df = labels_df.loc[labels_df.index.isin(features_df.index)]"
   ],
   "metadata": {
    "collapsed": false,
    "ExecuteTime": {
     "end_time": "2023-10-14T12:11:34.980615300Z",
     "start_time": "2023-10-14T12:11:33.951901600Z"
    }
   },
   "id": "792221419802df14"
  },
  {
   "cell_type": "code",
   "execution_count": 62,
   "outputs": [
    {
     "data": {
      "text/plain": "1044    0.466667\n1643    0.466667\n2539    0.466667\n533     0.466667\n531     0.466667\n525     0.466667\n1637    0.466667\n1639    0.466667\n504     0.466667\n502     0.466667\ndtype: float64"
     },
     "execution_count": 62,
     "metadata": {},
     "output_type": "execute_result"
    }
   ],
   "source": [
    "features_df.isin([np.nan, np.inf, -np.inf]).mean(axis=1).sort_values(ascending=False).head(10)"
   ],
   "metadata": {
    "collapsed": false,
    "ExecuteTime": {
     "end_time": "2023-10-14T12:11:35.039855300Z",
     "start_time": "2023-10-14T12:11:33.968410900Z"
    }
   },
   "id": "e396a8799af88321"
  },
  {
   "cell_type": "markdown",
   "source": [
    "Train/Test Split (before any preprocessing is done)"
   ],
   "metadata": {
    "collapsed": false
   },
   "id": "25d46039db7b7165"
  },
  {
   "cell_type": "code",
   "execution_count": 63,
   "outputs": [
    {
     "name": "stdout",
     "output_type": "stream",
     "text": [
      "['MN01' 'TA01' 'AI09' 'KR13' 'PS08' 'MA40' 'BO03' 'NN81' 'BH27' 'KM28'\n",
      " 'DK47' 'FY25' 'RS30' 'BG97' 'NY90' 'AS20' 'HB81' 'MN37' 'GN10' 'SM28'\n",
      " 'BB30' 'GE44' 'AJ31' 'ZW57' 'RN85' 'PM15' 'WE10' 'KL89']\n",
      "['RY20' 'CR06' 'AM45' 'HR58' 'HM02' 'ZN05']\n"
     ]
    }
   ],
   "source": [
    "# Excluding for comparison- BB13, DK47\n",
    "series_id_df = pd.read_pickle(os.path.join(config.classification_resource_dir, \"pairwise_sessions_series_id_df.pkl\"))\n",
    "\n",
    "# Create a list of unique subject IDs\n",
    "subject_ids = series_id_df[config.SUBJECT].unique()\n",
    "\n",
    "\n",
    "# Shuffle the list of subject IDs randomly with seed 1\n",
    "np.random.seed(1)\n",
    "np.random.shuffle(subject_ids)\n",
    "\n",
    "# Order the list of subject IDs alphabetically\n",
    "# subject_ids = np.sort(subject_ids)\n",
    "\n",
    "# Split the list of subject IDs into two parts\n",
    "train_subject_ids = subject_ids[:int(len(subject_ids)*0.85)]\n",
    "print(train_subject_ids)\n",
    "test_subject_ids = subject_ids[int(len(subject_ids)*0.85):]\n",
    "print(test_subject_ids)\n",
    "\n",
    "# Subset the data based on the split list of subject IDs\n",
    "train_data = series_id_df[series_id_df[config.SUBJECT].isin(train_subject_ids)]\n",
    "test_data = series_id_df[series_id_df[config.SUBJECT].isin(test_subject_ids)]\n",
    "\n",
    "X_train = features_df[features_df.index.isin(train_data.index)]\n",
    "X_test = features_df[features_df.index.isin(test_data.index)]\n",
    "y_train = labels_df[labels_df.index.isin(train_data.index)]\n",
    "y_test = labels_df[labels_df.index.isin(test_data.index)]"
   ],
   "metadata": {
    "collapsed": false,
    "ExecuteTime": {
     "end_time": "2023-10-14T12:11:35.062019700Z",
     "start_time": "2023-10-14T12:11:33.983417200Z"
    }
   },
   "id": "c0d675a821bc7051"
  },
  {
   "cell_type": "code",
   "execution_count": 64,
   "outputs": [],
   "source": [
    "# from sklearn.model_selection import train_test_split\n",
    "# \n",
    "# X_train, X_test, y_train, y_test = train_test_split(features_df,\n",
    "#                                                     labels_df,\n",
    "#                                                     random_state=420,\n",
    "#                                                     test_size=0.1)"
   ],
   "metadata": {
    "collapsed": false,
    "ExecuteTime": {
     "end_time": "2023-10-14T12:11:35.086560100Z",
     "start_time": "2023-10-14T12:11:34.000960900Z"
    }
   },
   "id": "a2085e2d3178740"
  },
  {
   "cell_type": "code",
   "execution_count": 65,
   "outputs": [
    {
     "data": {
      "text/plain": "   Movie DVA_Mean_Gaze_Pre DVA_Median_Gaze_Pre DVA_Std_Gaze_Pre  \\\n0     32           9.25312            0.852175       -21.755539   \n1     14        -28.964029          -40.461852        20.785954   \n2     53         -33.10411          -53.091721        35.800061   \n3     52               NaN                 NaN              NaN   \n4      7          8.360576           20.932871         -7.26684   \n\n  DVA_Max_Gaze_Pre DVA_Min_Gaze_Pre DVA_Sem_Gaze_Pre DVA_AUC_Gaze_Pre  \\\n0        -2.846803        18.481207       -22.170852        10.213913   \n1          0.94866       -67.264808        21.878396       -30.909834   \n2        -2.732389       -17.697891        37.062916       -35.709998   \n3              NaN              NaN              NaN              NaN   \n4         8.259706        88.595905       -10.212786        14.090493   \n\n  DVA_Mean_Fixations_Pre DVA_Median_Fixations_Pre DVA_Std_Fixations_Pre  \\\n0              10.876323                 3.115745            -19.984535   \n1             -22.163615                -39.96257             18.533834   \n2             -21.957136               -17.066975               22.7489   \n3               32.05759                37.112088              13.60883   \n4              10.288895                20.943098            -20.413501   \n\n  DVA_Max_Fixations_Pre DVA_Min_Fixations_Pre DVA_Sem_Fixations_Pre  \\\n0              2.744922             19.634904             -10.96701   \n1              8.603429            -52.490432             16.026598   \n2              -3.34199            -16.282419             19.594506   \n3                0.5873             15.754212              33.59058   \n4             -18.69337              3.942045            -20.413501   \n\n  DVA_AUC_Fixations_Pre  \n0             -9.373992  \n1            -17.298841  \n2            -15.453564  \n3            -13.027947  \n4             10.288895  ",
      "text/html": "<div>\n<style scoped>\n    .dataframe tbody tr th:only-of-type {\n        vertical-align: middle;\n    }\n\n    .dataframe tbody tr th {\n        vertical-align: top;\n    }\n\n    .dataframe thead th {\n        text-align: right;\n    }\n</style>\n<table border=\"1\" class=\"dataframe\">\n  <thead>\n    <tr style=\"text-align: right;\">\n      <th></th>\n      <th>Movie</th>\n      <th>DVA_Mean_Gaze_Pre</th>\n      <th>DVA_Median_Gaze_Pre</th>\n      <th>DVA_Std_Gaze_Pre</th>\n      <th>DVA_Max_Gaze_Pre</th>\n      <th>DVA_Min_Gaze_Pre</th>\n      <th>DVA_Sem_Gaze_Pre</th>\n      <th>DVA_AUC_Gaze_Pre</th>\n      <th>DVA_Mean_Fixations_Pre</th>\n      <th>DVA_Median_Fixations_Pre</th>\n      <th>DVA_Std_Fixations_Pre</th>\n      <th>DVA_Max_Fixations_Pre</th>\n      <th>DVA_Min_Fixations_Pre</th>\n      <th>DVA_Sem_Fixations_Pre</th>\n      <th>DVA_AUC_Fixations_Pre</th>\n    </tr>\n  </thead>\n  <tbody>\n    <tr>\n      <th>0</th>\n      <td>32</td>\n      <td>9.25312</td>\n      <td>0.852175</td>\n      <td>-21.755539</td>\n      <td>-2.846803</td>\n      <td>18.481207</td>\n      <td>-22.170852</td>\n      <td>10.213913</td>\n      <td>10.876323</td>\n      <td>3.115745</td>\n      <td>-19.984535</td>\n      <td>2.744922</td>\n      <td>19.634904</td>\n      <td>-10.96701</td>\n      <td>-9.373992</td>\n    </tr>\n    <tr>\n      <th>1</th>\n      <td>14</td>\n      <td>-28.964029</td>\n      <td>-40.461852</td>\n      <td>20.785954</td>\n      <td>0.94866</td>\n      <td>-67.264808</td>\n      <td>21.878396</td>\n      <td>-30.909834</td>\n      <td>-22.163615</td>\n      <td>-39.96257</td>\n      <td>18.533834</td>\n      <td>8.603429</td>\n      <td>-52.490432</td>\n      <td>16.026598</td>\n      <td>-17.298841</td>\n    </tr>\n    <tr>\n      <th>2</th>\n      <td>53</td>\n      <td>-33.10411</td>\n      <td>-53.091721</td>\n      <td>35.800061</td>\n      <td>-2.732389</td>\n      <td>-17.697891</td>\n      <td>37.062916</td>\n      <td>-35.709998</td>\n      <td>-21.957136</td>\n      <td>-17.066975</td>\n      <td>22.7489</td>\n      <td>-3.34199</td>\n      <td>-16.282419</td>\n      <td>19.594506</td>\n      <td>-15.453564</td>\n    </tr>\n    <tr>\n      <th>3</th>\n      <td>52</td>\n      <td>NaN</td>\n      <td>NaN</td>\n      <td>NaN</td>\n      <td>NaN</td>\n      <td>NaN</td>\n      <td>NaN</td>\n      <td>NaN</td>\n      <td>32.05759</td>\n      <td>37.112088</td>\n      <td>13.60883</td>\n      <td>0.5873</td>\n      <td>15.754212</td>\n      <td>33.59058</td>\n      <td>-13.027947</td>\n    </tr>\n    <tr>\n      <th>4</th>\n      <td>7</td>\n      <td>8.360576</td>\n      <td>20.932871</td>\n      <td>-7.26684</td>\n      <td>8.259706</td>\n      <td>88.595905</td>\n      <td>-10.212786</td>\n      <td>14.090493</td>\n      <td>10.288895</td>\n      <td>20.943098</td>\n      <td>-20.413501</td>\n      <td>-18.69337</td>\n      <td>3.942045</td>\n      <td>-20.413501</td>\n      <td>10.288895</td>\n    </tr>\n  </tbody>\n</table>\n</div>"
     },
     "execution_count": 65,
     "metadata": {},
     "output_type": "execute_result"
    }
   ],
   "source": [
    "X_train.head()"
   ],
   "metadata": {
    "collapsed": false,
    "ExecuteTime": {
     "end_time": "2023-10-14T12:11:35.107577900Z",
     "start_time": "2023-10-14T12:11:34.021969400Z"
    }
   },
   "id": "c51a3bb3480d056a"
  },
  {
   "cell_type": "markdown",
   "source": [
    "Fill missing values with the mean of the column"
   ],
   "metadata": {
    "collapsed": false
   },
   "id": "76dae1300689a4ce"
  },
  {
   "cell_type": "code",
   "execution_count": 66,
   "outputs": [],
   "source": [
    "# fill inf values with the mean of the column\n",
    "X_train = X_train.replace([np.inf, -np.inf], np.nan)\n",
    "X_test = X_test.replace([np.inf, -np.inf], np.nan)\n",
    "\n",
    "X_train = X_train.fillna(X_train.mean()) # fill missing values with the mean of the column or zero ? features_df.mean()\n",
    "X_test = X_test.fillna(X_train.mean())"
   ],
   "metadata": {
    "collapsed": false,
    "ExecuteTime": {
     "end_time": "2023-10-14T12:11:35.112617800Z",
     "start_time": "2023-10-14T12:11:34.037546300Z"
    }
   },
   "id": "40e9dcd1c0398ce2"
  },
  {
   "cell_type": "markdown",
   "source": [
    "Remove columns with low variance (threshold = 5%), for numerical features only"
   ],
   "metadata": {
    "collapsed": false
   },
   "id": "581b56795a0bb7cc"
  },
  {
   "cell_type": "code",
   "execution_count": 67,
   "outputs": [
    {
     "name": "stdout",
     "output_type": "stream",
     "text": [
      "['DVA_AUC_Fixations_Pre']\n"
     ]
    }
   ],
   "source": [
    "from sklearn.feature_selection import VarianceThreshold\n",
    "\n",
    "# Get the indices of the non-numerical columns\n",
    "non_numeric_columns_idx = [X_train.columns.get_loc(col) for col in X_train.select_dtypes(exclude=['float64', 'int64']).columns]\n",
    "\n",
    "# Create VarianceThreshold object with a variance with a threshold of 0.05\n",
    "thresholder = VarianceThreshold(threshold=0.05)\n",
    "\n",
    "# Fit the thresholder to the data\n",
    "thresholder.fit(X_train.select_dtypes(include=['float64', 'int64']))\n",
    "\n",
    "# Get the indices of the columns that are retained\n",
    "feature_idx = thresholder.get_support(indices=True)\n",
    "\n",
    "# Create a list of the names of the retained columns, and the non-numerical columns\n",
    "feature_idx = list(feature_idx) + list(non_numeric_columns_idx)\n",
    "feature_names = X_train.columns[feature_idx]\n",
    "\n",
    "# Print the names of the dropped columns\n",
    "dropped_columns = list(set(X_train.columns) - set(feature_names))\n",
    "print(dropped_columns)\n",
    "\n",
    "# Subset the dataframe to include only the selected columns\n",
    "X_train = X_train[feature_names]\n",
    "X_test = X_test[feature_names]"
   ],
   "metadata": {
    "collapsed": false,
    "ExecuteTime": {
     "end_time": "2023-10-14T12:11:35.113603900Z",
     "start_time": "2023-10-14T12:11:34.065656700Z"
    }
   },
   "id": "6c82989a3c19713d"
  },
  {
   "cell_type": "markdown",
   "source": [
    "Remove highly correlated features"
   ],
   "metadata": {
    "collapsed": false
   },
   "id": "9927ac2fb0cbb1ce"
  },
  {
   "cell_type": "code",
   "execution_count": 68,
   "outputs": [],
   "source": [
    "# # Create correlation matrix\n",
    "# corr_matrix = X_train.corr().abs()\n",
    "# \n",
    "# # Select upper triangle of correlation matrix\n",
    "# upper = corr_matrix.where(np.triu(np.ones(corr_matrix.shape), k=1).astype(np.bool_))\n",
    "# \n",
    "# # Find index of feature columns with correlation greater than 0.95\n",
    "# to_drop = [column for column in upper.columns if any(upper[column] > 0.95)]\n",
    "# \n",
    "# # Drop features\n",
    "# X_train.drop(to_drop, axis=1, inplace=True)\n",
    "# X_test.drop(to_drop, axis=1, inplace=True)\n",
    "# \n",
    "# # Print the names of the dropped columns\n",
    "# print(to_drop)"
   ],
   "metadata": {
    "collapsed": false,
    "ExecuteTime": {
     "end_time": "2023-10-14T12:11:35.113603900Z",
     "start_time": "2023-10-14T12:11:34.077700600Z"
    }
   },
   "id": "38bac8cdabde33b9"
  },
  {
   "cell_type": "markdown",
   "source": [
    "How many features are left?"
   ],
   "metadata": {
    "collapsed": false
   },
   "id": "4f18aed2258a47a6"
  },
  {
   "cell_type": "code",
   "execution_count": 69,
   "outputs": [
    {
     "data": {
      "text/plain": "(3346, 15)"
     },
     "execution_count": 69,
     "metadata": {},
     "output_type": "execute_result"
    }
   ],
   "source": [
    "X_train.shape"
   ],
   "metadata": {
    "collapsed": false,
    "ExecuteTime": {
     "end_time": "2023-10-14T12:11:35.113603900Z",
     "start_time": "2023-10-14T12:11:34.094198700Z"
    }
   },
   "id": "80a9fe1ceb0460a1"
  },
  {
   "cell_type": "markdown",
   "source": [
    "Balancing the dataset"
   ],
   "metadata": {
    "collapsed": false
   },
   "id": "bc7f9892b02a6461"
  },
  {
   "cell_type": "code",
   "execution_count": 70,
   "outputs": [
    {
     "data": {
      "text/plain": "normalized_by_session_a\n0                          1673\n1                          1673\ndtype: int64"
     },
     "execution_count": 70,
     "metadata": {},
     "output_type": "execute_result"
    }
   ],
   "source": [
    "y_train.value_counts()"
   ],
   "metadata": {
    "collapsed": false,
    "ExecuteTime": {
     "end_time": "2023-10-14T12:11:35.113603900Z",
     "start_time": "2023-10-14T12:11:34.110081400Z"
    }
   },
   "id": "5de024f2dbd91d6c"
  },
  {
   "cell_type": "markdown",
   "source": [
    "SMOTE"
   ],
   "metadata": {
    "collapsed": false
   },
   "id": "c8c60429438d86f4"
  },
  {
   "cell_type": "code",
   "execution_count": 71,
   "outputs": [],
   "source": [
    "# from imblearn.over_sampling import SMOTE\n",
    "#\n",
    "# sm = SMOTE(random_state=420)\n",
    "# X_train, y_train = sm.fit_resample(X_train, y_train)"
   ],
   "metadata": {
    "collapsed": false,
    "ExecuteTime": {
     "end_time": "2023-10-14T12:11:35.113603900Z",
     "start_time": "2023-10-14T12:11:34.126665700Z"
    }
   },
   "id": "5af943060213d4ca"
  },
  {
   "cell_type": "markdown",
   "source": [
    "Random Oversampling"
   ],
   "metadata": {
    "collapsed": false
   },
   "id": "6fec448de108f3fc"
  },
  {
   "cell_type": "code",
   "execution_count": 72,
   "outputs": [],
   "source": [
    "# from imblearn.over_sampling import RandomOverSampler\n",
    "# \n",
    "# ros = RandomOverSampler(random_state=420)\n",
    "# X_train, y_train = ros.fit_resample(X_train, y_train)"
   ],
   "metadata": {
    "collapsed": false,
    "ExecuteTime": {
     "end_time": "2023-10-14T12:11:35.113603900Z",
     "start_time": "2023-10-14T12:11:34.140017900Z"
    }
   },
   "id": "f4a44581b85a0221"
  },
  {
   "cell_type": "code",
   "execution_count": 73,
   "outputs": [
    {
     "data": {
      "text/plain": "normalized_by_session_a\n0                          1673\n1                          1673\ndtype: int64"
     },
     "execution_count": 73,
     "metadata": {},
     "output_type": "execute_result"
    }
   ],
   "source": [
    "y_train.value_counts()"
   ],
   "metadata": {
    "collapsed": false,
    "ExecuteTime": {
     "end_time": "2023-10-14T12:11:35.113603900Z",
     "start_time": "2023-10-14T12:11:34.156090800Z"
    }
   },
   "id": "ee48d9453795d45"
  },
  {
   "cell_type": "markdown",
   "source": [
    "Scaling for the numerical features"
   ],
   "metadata": {
    "collapsed": false
   },
   "id": "30a81dea428bd07a"
  },
  {
   "cell_type": "code",
   "execution_count": 74,
   "outputs": [],
   "source": [
    "from sklearn.preprocessing import StandardScaler\n",
    "\n",
    "# Create separate StandardScaler instances\n",
    "scaler_x = StandardScaler()\n",
    "# scaler_y = StandardScaler()\n",
    "\n",
    "# Fit on Training Data (!)\n",
    "scaler_x.fit(X_train.values)\n",
    "# scaler_y.fit(y_train.values.reshape(-1, 1))\n",
    "\n",
    "# Transform both training and testing data\n",
    "X_train_scaled = scaler_x.transform(X_train.values)\n",
    "X_test_scaled = scaler_x.transform(X_test.values)\n",
    "y_train = y_train.values.reshape(-1, 1).flatten()\n",
    "y_test = y_test.values.reshape(-1, 1).flatten()\n",
    "\n",
    "X_train_scaled = pd.DataFrame(X_train_scaled, columns=X_train.columns)\n",
    "X_test_scaled = pd.DataFrame(X_test_scaled, columns=X_test.columns)"
   ],
   "metadata": {
    "collapsed": false,
    "ExecuteTime": {
     "end_time": "2023-10-14T12:11:35.115571800Z",
     "start_time": "2023-10-14T12:11:34.173888600Z"
    }
   },
   "id": "cc5b8f69ab05c364"
  },
  {
   "cell_type": "code",
   "execution_count": 75,
   "outputs": [],
   "source": [
    "# from sklearn.preprocessing import StandardScaler\n",
    "# \n",
    "# # Create separate StandardScaler instances\n",
    "# scaler = StandardScaler()\n",
    "# # Fit the scaler using the training data for numerical features only\n",
    "# scaler.fit(X_train.select_dtypes(include=['float64', 'int64']))\n",
    "# \n",
    "# # Transform the training and test data\n",
    "# X_train_scaled = scaler.transform(X_train.select_dtypes(include=['float64', 'int64']))\n",
    "# X_test_scaled = scaler.transform(X_test.select_dtypes(include=['float64', 'int64']))\n",
    "# y_train = y_train.values.reshape(-1, 1).flatten()\n",
    "# y_test = y_test.values.reshape(-1, 1).flatten()\n",
    "# \n",
    "# X_train_scaled = pd.DataFrame(X_train_scaled, columns=X_train.select_dtypes(include=['float64', 'int64']).columns)\n",
    "# X_test_scaled = pd.DataFrame(X_test_scaled, columns=X_test.select_dtypes(include=['float64', 'int64']).columns)\n",
    "# \n",
    "# X_train_scaled = pd.concat([X_train_scaled, X_train.select_dtypes(exclude=['float64', 'int64'])], axis=1)\n",
    "# X_test_scaled = pd.concat([X_test_scaled, X_test.select_dtypes(exclude=['float64', 'int64'])], axis=1)"
   ],
   "metadata": {
    "collapsed": false,
    "ExecuteTime": {
     "end_time": "2023-10-14T12:11:35.115571800Z",
     "start_time": "2023-10-14T12:11:34.186420Z"
    }
   },
   "id": "93ceaf466746418b"
  },
  {
   "cell_type": "markdown",
   "source": [
    "PCA"
   ],
   "metadata": {
    "collapsed": false
   },
   "id": "969a63c90304e5f3"
  },
  {
   "cell_type": "code",
   "execution_count": 76,
   "outputs": [
    {
     "data": {
      "text/plain": "<Figure size 432x288 with 1 Axes>",
      "image/png": "[encoded data removed]"
     },
     "metadata": {},
     "output_type": "display_data"
    }
   ],
   "source": [
    "pca = PCA(n_components=0.95).fit(X_train_scaled)\n",
    "plt.plot(np.cumsum(pca.explained_variance_ratio_))\n",
    "plt.xlabel('number of components')\n",
    "plt.ylabel('cumulative explained variance');"
   ],
   "metadata": {
    "collapsed": false,
    "ExecuteTime": {
     "end_time": "2023-10-14T12:11:35.115571800Z",
     "start_time": "2023-10-14T12:11:34.203799800Z"
    }
   },
   "id": "c3032ad6201b7951"
  },
  {
   "cell_type": "code",
   "execution_count": 77,
   "outputs": [],
   "source": [
    "X_train_pca = pca.transform(X_train_scaled)\n",
    "X_test_pca = pca.transform(X_test_scaled)"
   ],
   "metadata": {
    "collapsed": false,
    "ExecuteTime": {
     "end_time": "2023-10-14T12:11:35.115571800Z",
     "start_time": "2023-10-14T12:11:34.310475800Z"
    }
   },
   "id": "f329c3c47e488019"
  },
  {
   "cell_type": "code",
   "execution_count": 78,
   "outputs": [
    {
     "data": {
      "text/plain": "array([[ 1.45955647e+00, -4.38527721e-01, -2.02381241e-01, ...,\n        -4.21490584e-02, -1.56575783e-01, -5.07710822e-01],\n       [-3.82112571e+00, -4.46071754e-01,  1.26830136e+00, ...,\n         1.73776381e-01, -4.06242206e-01, -7.70924502e-01],\n       [-3.74553575e+00, -8.11559498e-01, -1.91817760e+00, ...,\n        -5.77061898e-01,  7.13260617e-01,  3.17479229e-02],\n       ...,\n       [ 3.84441839e+00,  3.46960938e+00,  1.67682430e+00, ...,\n         2.51979644e-01, -1.63236756e-01,  1.94023168e+00],\n       [-3.46339584e+00,  7.73411844e-02,  2.24875642e+00, ...,\n         1.02629296e+00, -5.82402510e-01,  5.27624024e-01],\n       [ 3.99516300e-01, -1.79724622e+00,  2.41216560e+00, ...,\n         1.13858851e+00,  1.69379009e+00, -1.66016189e-03]])"
     },
     "execution_count": 78,
     "metadata": {},
     "output_type": "execute_result"
    }
   ],
   "source": [
    "X_train_pca"
   ],
   "metadata": {
    "collapsed": false,
    "ExecuteTime": {
     "end_time": "2023-10-14T12:11:35.116575900Z",
     "start_time": "2023-10-14T12:11:34.328479900Z"
    }
   },
   "id": "abf202251d49d9e2"
  },
  {
   "cell_type": "markdown",
   "source": [
    "LDA"
   ],
   "metadata": {
    "collapsed": false
   },
   "id": "4e30d3cbf2439736"
  },
  {
   "cell_type": "markdown",
   "source": [],
   "metadata": {
    "collapsed": false
   },
   "id": "98b9fb4f367862f4"
  },
  {
   "cell_type": "code",
   "execution_count": 79,
   "outputs": [],
   "source": [
    "from sklearn.discriminant_analysis import LinearDiscriminantAnalysis\n",
    "\n",
    "lda = LinearDiscriminantAnalysis(n_components=1)\n",
    "X_train_lda = lda.fit_transform(X_train_scaled, y_train)\n",
    "X_test_lda = lda.transform(X_test_scaled)"
   ],
   "metadata": {
    "collapsed": false,
    "ExecuteTime": {
     "end_time": "2023-10-14T12:11:35.116575900Z",
     "start_time": "2023-10-14T12:11:34.343600600Z"
    }
   },
   "id": "496530ee5eb17a9d"
  },
  {
   "cell_type": "code",
   "execution_count": 80,
   "outputs": [
    {
     "data": {
      "text/plain": "<Figure size 432x288 with 1 Axes>",
      "image/png": "[encoded data removed]"
     },
     "metadata": {},
     "output_type": "display_data"
    }
   ],
   "source": [
    "# Create a scatter plot of the transformed data\n",
    "plt.scatter(X_train_lda, np.zeros(len(X_train_lda)), c=y_train, cmap='rainbow', alpha=0.7, edgecolors='b')\n",
    "plt.xlabel('LD1')\n",
    "plt.title('LDA Scatter Plot')\n",
    "plt.show()"
   ],
   "metadata": {
    "collapsed": false,
    "ExecuteTime": {
     "end_time": "2023-10-14T12:11:35.116575900Z",
     "start_time": "2023-10-14T12:11:34.366110900Z"
    }
   },
   "id": "7d157d5c84853830"
  },
  {
   "cell_type": "code",
   "execution_count": 81,
   "outputs": [],
   "source": [
    "X_train_preprocessed = X_train_scaled\n",
    "X_test_preprocessed = X_test_scaled"
   ],
   "metadata": {
    "collapsed": false,
    "ExecuteTime": {
     "end_time": "2023-10-14T12:11:35.117610Z",
     "start_time": "2023-10-14T12:11:34.465658500Z"
    }
   },
   "id": "8e68f8b49c9cc0ef"
  },
  {
   "cell_type": "markdown",
   "source": [
    "Classification models"
   ],
   "metadata": {
    "collapsed": false
   },
   "id": "b9fc38c413e587dd"
  },
  {
   "cell_type": "code",
   "execution_count": 82,
   "outputs": [],
   "source": [
    "from sklearn.metrics import accuracy_score, precision_score, recall_score, f1_score, roc_auc_score\n",
    "from sklearn.metrics import confusion_matrix\n",
    "import seaborn as sns\n",
    "\n",
    "def evaluate_model(model_name, y_true, y_pred):\n",
    "    # Evaluate the model using various metrics\n",
    "    accuracy = accuracy_score(y_true, y_pred)\n",
    "    precision = precision_score(y_true, y_pred)\n",
    "    recall = recall_score(y_true, y_pred)\n",
    "    f1 = f1_score(y_true, y_pred)\n",
    "    roc_auc = roc_auc_score(y_true, y_pred)\n",
    "\n",
    "    print(model_name)\n",
    "    # Print the evaluation metrics\n",
    "    print(\"Accuracy:\", round(accuracy, 2))\n",
    "    print(\"Precision:\", round(precision, 2))\n",
    "    print(\"Recall:\", round(recall, 2))\n",
    "    print(\"F1-score:\", round(f1, 2))\n",
    "    print(\"ROC-AUC score:\", round(roc_auc, 2))\n",
    "\n",
    "    # Compute the confusion matrix\n",
    "    confusion_mat = confusion_matrix(y_true, y_pred)\n",
    "\n",
    "    # Create a heatmap visualization of the confusion matrix\n",
    "    fig, ax = plt.subplots(figsize=(8, 8))\n",
    "    sns.heatmap(confusion_mat, annot=True, cmap=\"Blues\", fmt=\"d\", ax=ax)\n",
    "\n",
    "    # Set the axis labels and title\n",
    "    ax.set_xlabel(\"Predicted Labels\")\n",
    "    ax.set_ylabel(\"True Labels\")\n",
    "    ax.set_title(\"Confusion Matrix\")\n",
    "\n",
    "    # Show the plot\n",
    "    plt.show()"
   ],
   "metadata": {
    "collapsed": false,
    "ExecuteTime": {
     "end_time": "2023-10-14T12:11:35.117610Z",
     "start_time": "2023-10-14T12:11:34.485670800Z"
    }
   },
   "id": "fce6879d296a15ed"
  },
  {
   "cell_type": "code",
   "execution_count": 83,
   "outputs": [],
   "source": [
    "from sklearn.model_selection import GridSearchCV"
   ],
   "metadata": {
    "collapsed": false,
    "ExecuteTime": {
     "end_time": "2023-10-14T12:11:35.117610Z",
     "start_time": "2023-10-14T12:11:34.497181Z"
    }
   },
   "id": "31eeb23b04f3d70d"
  },
  {
   "cell_type": "markdown",
   "source": [
    "Logistic Regression model"
   ],
   "metadata": {
    "collapsed": false
   },
   "id": "e4345a6130ae6aae"
  },
  {
   "cell_type": "code",
   "execution_count": 84,
   "outputs": [
    {
     "name": "stderr",
     "output_type": "stream",
     "text": [
      "The max_iter was reached which means the coef_ did not converge\n",
      "The max_iter was reached which means the coef_ did not converge\n",
      "The max_iter was reached which means the coef_ did not converge\n",
      "The max_iter was reached which means the coef_ did not converge\n",
      "The max_iter was reached which means the coef_ did not converge\n",
      "The max_iter was reached which means the coef_ did not converge\n",
      "The max_iter was reached which means the coef_ did not converge\n",
      "The max_iter was reached which means the coef_ did not converge\n",
      "The max_iter was reached which means the coef_ did not converge\n",
      "The max_iter was reached which means the coef_ did not converge\n",
      "The max_iter was reached which means the coef_ did not converge\n",
      "The max_iter was reached which means the coef_ did not converge\n",
      "The max_iter was reached which means the coef_ did not converge\n",
      "The max_iter was reached which means the coef_ did not converge\n",
      "The max_iter was reached which means the coef_ did not converge\n",
      "The max_iter was reached which means the coef_ did not converge\n",
      "The max_iter was reached which means the coef_ did not converge\n",
      "The max_iter was reached which means the coef_ did not converge\n",
      "The max_iter was reached which means the coef_ did not converge\n",
      "The max_iter was reached which means the coef_ did not converge\n",
      "The max_iter was reached which means the coef_ did not converge\n",
      "The max_iter was reached which means the coef_ did not converge\n",
      "The max_iter was reached which means the coef_ did not converge\n",
      "The max_iter was reached which means the coef_ did not converge\n",
      "The max_iter was reached which means the coef_ did not converge\n",
      "The max_iter was reached which means the coef_ did not converge\n",
      "The max_iter was reached which means the coef_ did not converge\n",
      "The max_iter was reached which means the coef_ did not converge\n",
      "The max_iter was reached which means the coef_ did not converge\n",
      "The max_iter was reached which means the coef_ did not converge\n",
      "The max_iter was reached which means the coef_ did not converge\n",
      "The max_iter was reached which means the coef_ did not converge\n",
      "The max_iter was reached which means the coef_ did not converge\n",
      "The max_iter was reached which means the coef_ did not converge\n",
      "The max_iter was reached which means the coef_ did not converge\n",
      "The max_iter was reached which means the coef_ did not converge\n",
      "The max_iter was reached which means the coef_ did not converge\n",
      "The max_iter was reached which means the coef_ did not converge\n",
      "The max_iter was reached which means the coef_ did not converge\n",
      "The max_iter was reached which means the coef_ did not converge\n",
      "The max_iter was reached which means the coef_ did not converge\n",
      "The max_iter was reached which means the coef_ did not converge\n",
      "The max_iter was reached which means the coef_ did not converge\n",
      "The max_iter was reached which means the coef_ did not converge\n",
      "The max_iter was reached which means the coef_ did not converge\n"
     ]
    },
    {
     "data": {
      "text/plain": "{'C': 0.4342857142857143, 'penalty': 'l1', 'solver': 'liblinear'}"
     },
     "execution_count": 84,
     "metadata": {},
     "output_type": "execute_result"
    }
   ],
   "source": [
    "from sklearn.linear_model import LogisticRegression\n",
    "\n",
    "# Define the range of values for each hyperparameter\n",
    "C = np.linspace(0.01, 1, 15)\n",
    "PENALTY = ['l1', 'l2']\n",
    "SOLVER = ['liblinear', 'saga']\n",
    "\n",
    "PARAM_GRID  = {\n",
    "    'C': C,\n",
    "    'penalty': PENALTY,\n",
    "    'solver': SOLVER\n",
    "}\n",
    "\n",
    "# Create the logistic regression estimator\n",
    "estimator = LogisticRegression(random_state=420)\n",
    "\n",
    "# Use grid search and cross-validation to tune the hyper parameters\n",
    "model_searcher = GridSearchCV(estimator, PARAM_GRID, verbose=0)\n",
    "model_searcher.fit(X_train_preprocessed, y_train)\n",
    "\n",
    "# The best combination of hyperparameters\n",
    "model_searcher.best_params_"
   ],
   "metadata": {
    "collapsed": false,
    "ExecuteTime": {
     "end_time": "2023-10-14T12:11:39.599912300Z",
     "start_time": "2023-10-14T12:11:34.515193800Z"
    }
   },
   "id": "4276cf00498f783"
  },
  {
   "cell_type": "code",
   "execution_count": 85,
   "outputs": [
    {
     "name": "stdout",
     "output_type": "stream",
     "text": [
      "Logistic Regression (test data)\n",
      "Accuracy: 0.73\n",
      "Precision: 0.73\n",
      "Recall: 0.73\n",
      "F1-score: 0.73\n",
      "ROC-AUC score: 0.73\n"
     ]
    },
    {
     "data": {
      "text/plain": "<Figure size 576x576 with 2 Axes>",
      "image/png": "[encoded data removed]"
     },
     "metadata": {},
     "output_type": "display_data"
    }
   ],
   "source": [
    "# Get the best estimator\n",
    "log_reg_best_estimator = model_searcher.best_estimator_\n",
    "y_test_pred = log_reg_best_estimator.predict(X_test_preprocessed)\n",
    "\n",
    "evaluate_model(\"Logistic Regression (test data)\", y_test, y_test_pred)"
   ],
   "metadata": {
    "collapsed": false,
    "ExecuteTime": {
     "end_time": "2023-10-14T12:11:39.709226500Z",
     "start_time": "2023-10-14T12:11:39.600909700Z"
    }
   },
   "id": "8a4ad6c372bf8221"
  },
  {
   "cell_type": "markdown",
   "source": [
    "Support Vector Machine model"
   ],
   "metadata": {
    "collapsed": false
   },
   "id": "a9d1fdbbb21bebd7"
  },
  {
   "cell_type": "code",
   "execution_count": 86,
   "outputs": [
    {
     "data": {
      "text/plain": "{'C': 0.505, 'gamma': 'scale', 'kernel': 'linear'}"
     },
     "execution_count": 86,
     "metadata": {},
     "output_type": "execute_result"
    }
   ],
   "source": [
    "from sklearn.svm import SVC\n",
    "\n",
    "# Define the range of values for each hyperparameter\n",
    "C = np.linspace(0.01, 1, 15)\n",
    "KERNEL = ['linear', 'poly', 'rbf', 'sigmoid']\n",
    "GAMMA = ['scale', 'auto']\n",
    "\n",
    "PARAM_GRID  = {\n",
    "    'C': C,\n",
    "    'kernel': KERNEL,\n",
    "    'gamma': GAMMA\n",
    "}\n",
    "\n",
    "# Create the support vector machine estimator\n",
    "estimator = SVC(random_state=420)\n",
    "\n",
    "# Use grid search and cross-validation to tune the hyper parameters\n",
    "model_searcher = GridSearchCV(estimator, PARAM_GRID, verbose=0)\n",
    "model_searcher.fit(X_train_preprocessed, y_train)\n",
    "\n",
    "# The best combination of hyperparameters\n",
    "model_searcher.best_params_"
   ],
   "metadata": {
    "collapsed": false,
    "ExecuteTime": {
     "end_time": "2023-10-14T12:13:28.084497600Z",
     "start_time": "2023-10-14T12:11:39.710249Z"
    }
   },
   "id": "eff44c4a4b28797d"
  },
  {
   "cell_type": "markdown",
   "source": [
    "Evaluate the best model on the test data"
   ],
   "metadata": {
    "collapsed": false
   },
   "id": "485144d120dce841"
  },
  {
   "cell_type": "code",
   "execution_count": 87,
   "outputs": [
    {
     "name": "stdout",
     "output_type": "stream",
     "text": [
      "Support Vector Machine (test data)\n",
      "Accuracy: 0.74\n",
      "Precision: 0.74\n",
      "Recall: 0.74\n",
      "F1-score: 0.74\n",
      "ROC-AUC score: 0.74\n"
     ]
    },
    {
     "data": {
      "text/plain": "<Figure size 576x576 with 2 Axes>",
      "image/png": "[encoded data removed]"
     },
     "metadata": {},
     "output_type": "display_data"
    }
   ],
   "source": [
    "svm_best_estimator = model_searcher.best_estimator_\n",
    "y_test_pred = svm_best_estimator.predict(X_test_preprocessed)\n",
    "\n",
    "evaluate_model(\"Support Vector Machine (test data)\", y_test, y_test_pred)"
   ],
   "metadata": {
    "collapsed": false,
    "ExecuteTime": {
     "end_time": "2023-10-14T12:13:28.223756400Z",
     "start_time": "2023-10-14T12:13:28.086997100Z"
    }
   },
   "id": "bd559f1c1f74699b"
  },
  {
   "cell_type": "markdown",
   "source": [
    "Gradient Boosting model"
   ],
   "metadata": {
    "collapsed": false
   },
   "id": "14f22663c67f520f"
  },
  {
   "cell_type": "code",
   "execution_count": 88,
   "outputs": [
    {
     "data": {
      "text/plain": "{'learning_rate': 0.11888888888888888, 'max_depth': 3, 'n_estimators': 130}"
     },
     "execution_count": 88,
     "metadata": {},
     "output_type": "execute_result"
    }
   ],
   "source": [
    "from sklearn.ensemble import GradientBoostingClassifier\n",
    "\n",
    "# Define the range of values for each hyperparameter\n",
    "LEARNING_RATE = np.linspace(0.01, 0.5, 10)\n",
    "MAX_DEPTH = range(2, 5)\n",
    "N_ESTIMATORS = range(100, 180, 15)\n",
    "\n",
    "\n",
    "PARAM_GRID  = {\n",
    "    'learning_rate': LEARNING_RATE,\n",
    "    'max_depth': MAX_DEPTH,\n",
    "    'n_estimators': N_ESTIMATORS\n",
    "}\n",
    "\n",
    "# Create the gradient boosting estimator\n",
    "estimator = GradientBoostingClassifier(random_state=420)\n",
    "\n",
    "# Use grid search and cross-validation to tune the hyper parameters\n",
    "model_searcher = GridSearchCV(estimator, PARAM_GRID, verbose=0)\n",
    "model_searcher.fit(X_train_preprocessed, y_train)\n",
    "\n",
    "# The best combination of hyperparameters\n",
    "model_searcher.best_params_"
   ],
   "metadata": {
    "collapsed": false,
    "ExecuteTime": {
     "end_time": "2023-10-14T12:36:08.774644200Z",
     "start_time": "2023-10-14T12:13:28.225790900Z"
    }
   },
   "id": "4431b0e3d8ba02a"
  },
  {
   "cell_type": "code",
   "execution_count": 89,
   "outputs": [
    {
     "name": "stdout",
     "output_type": "stream",
     "text": [
      "Gradient Boosting (test data)\n",
      "Accuracy: 0.71\n",
      "Precision: 0.71\n",
      "Recall: 0.71\n",
      "F1-score: 0.71\n",
      "ROC-AUC score: 0.71\n"
     ]
    },
    {
     "data": {
      "text/plain": "<Figure size 576x576 with 2 Axes>",
      "image/png": "[encoded data removed]"
     },
     "metadata": {},
     "output_type": "display_data"
    }
   ],
   "source": [
    "# Get the best estimator\n",
    "gb_best_estimator = model_searcher.best_estimator_\n",
    "y_test_pred = gb_best_estimator.predict(X_test_preprocessed)\n",
    "\n",
    "evaluate_model(\"Gradient Boosting (test data)\", y_test, y_test_pred)"
   ],
   "metadata": {
    "collapsed": false,
    "ExecuteTime": {
     "end_time": "2023-10-14T12:36:08.883775300Z",
     "start_time": "2023-10-14T12:36:08.778646400Z"
    }
   },
   "id": "f7fadaf4704a11b9"
  },
  {
   "cell_type": "markdown",
   "source": [
    "Random Forest model"
   ],
   "metadata": {
    "collapsed": false
   },
   "id": "f264f4267ac88266"
  },
  {
   "cell_type": "code",
   "execution_count": 90,
   "outputs": [
    {
     "data": {
      "text/plain": "{'max_depth': 4,\n 'min_samples_leaf': 1,\n 'min_samples_split': 2,\n 'n_estimators': 50}"
     },
     "execution_count": 90,
     "metadata": {},
     "output_type": "execute_result"
    }
   ],
   "source": [
    "from sklearn.ensemble import RandomForestClassifier\n",
    "\n",
    "# Define the range of values for each hyperparameter\n",
    "N_ESTIMATORS = range(50, 140, 15)\n",
    "MAX_DEPTH = range(2, 6)\n",
    "MIN_SAMPLES_SPLIT = range(2, 4)\n",
    "MIN_SAMPLES_LEAF = range(1, 4)\n",
    "\n",
    "PARAM_GRID  = {\n",
    "    'n_estimators': N_ESTIMATORS,\n",
    "    'max_depth': MAX_DEPTH,\n",
    "    'min_samples_split': MIN_SAMPLES_SPLIT,\n",
    "    'min_samples_leaf': MIN_SAMPLES_LEAF\n",
    "}\n",
    "\n",
    "# Create the random forest estimator\n",
    "estimator = RandomForestClassifier(random_state=420)\n",
    "\n",
    "# Use grid search and cross-validation to tune the hyper parameters\n",
    "model_searcher = GridSearchCV(estimator, PARAM_GRID, verbose=0)\n",
    "model_searcher.fit(X_train_preprocessed, y_train)\n",
    "\n",
    "# The best combination of hyperparameters\n",
    "model_searcher.best_params_"
   ],
   "metadata": {
    "collapsed": false,
    "ExecuteTime": {
     "end_time": "2023-10-14T12:38:42.613519700Z",
     "start_time": "2023-10-14T12:36:08.886784900Z"
    }
   },
   "id": "aa0120d8c9591c30"
  },
  {
   "cell_type": "code",
   "execution_count": 91,
   "outputs": [
    {
     "name": "stdout",
     "output_type": "stream",
     "text": [
      "Random Forest (test data)\n",
      "Accuracy: 0.7\n",
      "Precision: 0.7\n",
      "Recall: 0.69\n",
      "F1-score: 0.69\n",
      "ROC-AUC score: 0.7\n"
     ]
    },
    {
     "data": {
      "text/plain": "<Figure size 576x576 with 2 Axes>",
      "image/png": "[encoded data removed]"
     },
     "metadata": {},
     "output_type": "display_data"
    }
   ],
   "source": [
    "rf_best_estimator = model_searcher.best_estimator_\n",
    "y_test_pred = rf_best_estimator.predict(X_test_preprocessed)\n",
    "\n",
    "evaluate_model(\"Random Forest (test data)\", y_test, y_test_pred)\n"
   ],
   "metadata": {
    "collapsed": false,
    "ExecuteTime": {
     "end_time": "2023-10-14T12:38:42.724301200Z",
     "start_time": "2023-10-14T12:38:42.617515100Z"
    }
   },
   "id": "aad261e396871874"
  },
  {
   "cell_type": "markdown",
   "source": [
    "XGBoost model"
   ],
   "metadata": {
    "collapsed": false
   },
   "id": "4ec74c2a8625689e"
  },
  {
   "cell_type": "code",
   "execution_count": 92,
   "outputs": [],
   "source": [
    "# from xgboost import XGBClassifier\n",
    "# \n",
    "# # Define the range of values for each hyperparameter\n",
    "# LEARNING_RATE = np.linspace(0.05, 0.5, 10)\n",
    "# MAX_DEPTH = range(1, 5)\n",
    "# N_ESTIMATORS = range(70, 150, 15)\n",
    "# \n",
    "# PARAM_GRID  = {\n",
    "#     'learning_rate': LEARNING_RATE,\n",
    "#     'max_depth': MAX_DEPTH,\n",
    "#     'n_estimators': N_ESTIMATORS\n",
    "# }\n",
    "# \n",
    "# # Define the ratio for scale_pos_weight\n",
    "# ratio = float(np.sum(y_train == 0)) / np.sum(y_train == 1)\n",
    "# \n",
    "# # Create a XGBoost classifier with specific parameters\n",
    "# estimator = XGBClassifier(objective='binary:logistic', scale_pos_weight=ratio)\n",
    "# \n",
    "# \n",
    "# # Use grid search and cross-validation to tune the hyper parameters\n",
    "# model_searcher = GridSearchCV(estimator, PARAM_GRID, verbose=0)\n",
    "# model_searcher.fit(X_train_preprocessed, y_train)\n",
    "# \n",
    "# # The best combination of hyperparameters\n",
    "# model_searcher.best_params_"
   ],
   "metadata": {
    "collapsed": false,
    "ExecuteTime": {
     "end_time": "2023-10-14T12:38:42.798938500Z",
     "start_time": "2023-10-14T12:38:42.725301200Z"
    }
   },
   "id": "e639d641fb5173d9"
  },
  {
   "cell_type": "markdown",
   "source": [
    "Evaluate the best model on the test data"
   ],
   "metadata": {
    "collapsed": false
   },
   "id": "de20b5d988116fed"
  },
  {
   "cell_type": "code",
   "execution_count": 93,
   "outputs": [],
   "source": [
    "# xgb_best_estimator = model_searcher.best_estimator_\n",
    "# y_test_pred = xgb_best_estimator.predict(X_test_preprocessed)\n",
    "# \n",
    "# evaluate_model(\"XGBoost (test data)\", y_test, y_test_pred)"
   ],
   "metadata": {
    "collapsed": false,
    "ExecuteTime": {
     "end_time": "2023-10-14T12:38:42.806778400Z",
     "start_time": "2023-10-14T12:38:42.741299900Z"
    }
   },
   "id": "12b8804b748f1c69"
  },
  {
   "cell_type": "markdown",
   "source": [
    "TabNetClassifier with automatic hyperparameters tuning"
   ],
   "metadata": {
    "collapsed": false
   },
   "id": "a7c69987a179e6ed"
  },
  {
   "cell_type": "code",
   "execution_count": 94,
   "outputs": [
    {
     "name": "stdout",
     "output_type": "stream",
     "text": [
      "Requirement already satisfied: pytorch-tabnet in c:\\users\\user\\anaconda3\\lib\\site-packages (4.0)\n",
      "Requirement already satisfied: torch<2.0,>=1.2 in c:\\users\\user\\anaconda3\\lib\\site-packages (from pytorch-tabnet) (1.13.1)\n",
      "Requirement already satisfied: numpy<2.0,>=1.17 in c:\\users\\user\\anaconda3\\lib\\site-packages (from pytorch-tabnet) (1.24.3)\n",
      "Requirement already satisfied: scipy>1.4 in c:\\users\\user\\appdata\\roaming\\python\\python39\\site-packages (from pytorch-tabnet) (1.10.1)\n",
      "Requirement already satisfied: scikit_learn>0.21 in c:\\users\\user\\anaconda3\\lib\\site-packages (from pytorch-tabnet) (1.2.2)\n",
      "Requirement already satisfied: tqdm<5.0,>=4.36 in c:\\users\\user\\anaconda3\\lib\\site-packages (from pytorch-tabnet) (4.62.3)\n",
      "Requirement already satisfied: threadpoolctl>=2.0.0 in c:\\users\\user\\anaconda3\\lib\\site-packages (from scikit_learn>0.21->pytorch-tabnet) (2.2.0)\n",
      "Requirement already satisfied: joblib>=1.1.1 in c:\\users\\user\\anaconda3\\lib\\site-packages (from scikit_learn>0.21->pytorch-tabnet) (1.2.0)\n",
      "Requirement already satisfied: typing-extensions in c:\\users\\user\\anaconda3\\lib\\site-packages (from torch<2.0,>=1.2->pytorch-tabnet) (4.7.1)\n",
      "Requirement already satisfied: colorama in c:\\users\\user\\anaconda3\\lib\\site-packages (from tqdm<5.0,>=4.36->pytorch-tabnet) (0.4.4)\n",
      "Requirement already satisfied: optuna in c:\\users\\user\\anaconda3\\lib\\site-packages (3.1.1)\n",
      "Requirement already satisfied: sqlalchemy>=1.3.0 in c:\\users\\user\\anaconda3\\lib\\site-packages (from optuna) (1.4.22)\n",
      "Requirement already satisfied: numpy in c:\\users\\user\\anaconda3\\lib\\site-packages (from optuna) (1.24.3)\n",
      "Requirement already satisfied: colorlog in c:\\users\\user\\anaconda3\\lib\\site-packages (from optuna) (6.7.0)\n",
      "Requirement already satisfied: packaging>=20.0 in c:\\users\\user\\anaconda3\\lib\\site-packages (from optuna) (23.0)\n",
      "Requirement already satisfied: tqdm in c:\\users\\user\\anaconda3\\lib\\site-packages (from optuna) (4.62.3)\n",
      "Requirement already satisfied: cmaes>=0.9.1 in c:\\users\\user\\anaconda3\\lib\\site-packages (from optuna) (0.9.1)\n",
      "Requirement already satisfied: PyYAML in c:\\users\\user\\anaconda3\\lib\\site-packages (from optuna) (6.0)\n",
      "Requirement already satisfied: alembic>=1.5.0 in c:\\users\\user\\anaconda3\\lib\\site-packages (from optuna) (1.10.3)\n",
      "Requirement already satisfied: Mako in c:\\users\\user\\anaconda3\\lib\\site-packages (from alembic>=1.5.0->optuna) (1.2.4)\n",
      "Requirement already satisfied: typing-extensions>=4 in c:\\users\\user\\anaconda3\\lib\\site-packages (from alembic>=1.5.0->optuna) (4.7.1)\n",
      "Requirement already satisfied: greenlet!=0.4.17 in c:\\users\\user\\anaconda3\\lib\\site-packages (from sqlalchemy>=1.3.0->optuna) (1.1.1)\n",
      "Requirement already satisfied: colorama in c:\\users\\user\\anaconda3\\lib\\site-packages (from colorlog->optuna) (0.4.4)\n",
      "Requirement already satisfied: MarkupSafe>=0.9.2 in c:\\users\\user\\anaconda3\\lib\\site-packages (from Mako->alembic>=1.5.0->optuna) (1.1.1)\n"
     ]
    }
   ],
   "source": [
    "!pip install pytorch-tabnet\n",
    "!pip install optuna"
   ],
   "metadata": {
    "collapsed": false,
    "ExecuteTime": {
     "end_time": "2023-10-14T12:38:48.503028100Z",
     "start_time": "2023-10-14T12:38:42.756970900Z"
    }
   },
   "id": "da285c888a2dbd5a"
  },
  {
   "cell_type": "code",
   "execution_count": 95,
   "outputs": [],
   "source": [
    "# Convert Pandas DataFrame to NumPy array\n",
    "X_train_np = X_train_preprocessed.values\n",
    "X_test_np = X_test_preprocessed.values"
   ],
   "metadata": {
    "collapsed": false,
    "ExecuteTime": {
     "end_time": "2023-10-14T12:38:48.537266300Z",
     "start_time": "2023-10-14T12:38:48.504038Z"
    }
   },
   "id": "d2c60589ff0112e2"
  },
  {
   "cell_type": "code",
   "execution_count": 96,
   "outputs": [
    {
     "name": "stderr",
     "output_type": "stream",
     "text": [
      "\u001B[32m[I 2023-10-14 15:38:48,521]\u001B[0m A new study created in memory with name: no-name-f677668d-b052-44ef-be12-4ae37df966eb\u001B[0m\n"
     ]
    },
    {
     "name": "stdout",
     "output_type": "stream",
     "text": [
      "\n",
      "Early stopping occurred at epoch 38 with best_epoch = 28 and best_val_0_auc = 0.79383\n"
     ]
    },
    {
     "name": "stderr",
     "output_type": "stream",
     "text": [
      "Best weights from best epoch are automatically used!\n",
      "\u001B[32m[I 2023-10-14 15:39:03,418]\u001B[0m Trial 0 finished with value: 0.7938271604938272 and parameters: {'n_d': 13, 'n_a': 16, 'n_steps': 3, 'gamma': 0.4869262574644414, 'n_independent': 5, 'n_shared': 10, 'lambda_sparse': 0.07829332443336465}. Best is trial 0 with value: 0.7938271604938272.\u001B[0m\n"
     ]
    },
    {
     "name": "stdout",
     "output_type": "stream",
     "text": [
      "\n",
      "Early stopping occurred at epoch 20 with best_epoch = 10 and best_val_0_auc = 0.75776\n"
     ]
    },
    {
     "name": "stderr",
     "output_type": "stream",
     "text": [
      "Best weights from best epoch are automatically used!\n",
      "\u001B[32m[I 2023-10-14 15:39:50,514]\u001B[0m Trial 1 finished with value: 0.7577623456790124 and parameters: {'n_d': 56, 'n_a': 51, 'n_steps': 15, 'gamma': 1.341974292192904, 'n_independent': 6, 'n_shared': 3, 'lambda_sparse': 0.036618917322976056}. Best is trial 0 with value: 0.7938271604938272.\u001B[0m\n"
     ]
    },
    {
     "name": "stdout",
     "output_type": "stream",
     "text": [
      "\n",
      "Early stopping occurred at epoch 33 with best_epoch = 23 and best_val_0_auc = 0.80947\n"
     ]
    },
    {
     "name": "stderr",
     "output_type": "stream",
     "text": [
      "Best weights from best epoch are automatically used!\n",
      "\u001B[32m[I 2023-10-14 15:40:07,215]\u001B[0m Trial 2 finished with value: 0.8094675925925925 and parameters: {'n_d': 51, 'n_a': 45, 'n_steps': 3, 'gamma': 0.2429283424688301, 'n_independent': 4, 'n_shared': 7, 'lambda_sparse': 0.020327492087101218}. Best is trial 2 with value: 0.8094675925925925.\u001B[0m\n"
     ]
    },
    {
     "name": "stdout",
     "output_type": "stream",
     "text": [
      "\n",
      "Early stopping occurred at epoch 30 with best_epoch = 20 and best_val_0_auc = 0.80789\n"
     ]
    },
    {
     "name": "stderr",
     "output_type": "stream",
     "text": [
      "Best weights from best epoch are automatically used!\n",
      "\u001B[32m[I 2023-10-14 15:40:29,862]\u001B[0m Trial 3 finished with value: 0.8078858024691358 and parameters: {'n_d': 19, 'n_a': 22, 'n_steps': 7, 'gamma': 0.4702553236648256, 'n_independent': 3, 'n_shared': 9, 'lambda_sparse': 0.004044288373919269}. Best is trial 2 with value: 0.8094675925925925.\u001B[0m\n"
     ]
    },
    {
     "name": "stdout",
     "output_type": "stream",
     "text": [
      "\n",
      "Early stopping occurred at epoch 24 with best_epoch = 14 and best_val_0_auc = 0.78811\n"
     ]
    },
    {
     "name": "stderr",
     "output_type": "stream",
     "text": [
      "Best weights from best epoch are automatically used!\n",
      "\u001B[32m[I 2023-10-14 15:40:43,749]\u001B[0m Trial 4 finished with value: 0.7881095679012347 and parameters: {'n_d': 53, 'n_a': 51, 'n_steps': 5, 'gamma': 0.39853589311058524, 'n_independent': 4, 'n_shared': 4, 'lambda_sparse': 0.014106156392412453}. Best is trial 2 with value: 0.8094675925925925.\u001B[0m\n",
      "Best weights from best epoch are automatically used!\n",
      "\u001B[32m[I 2023-10-14 15:40:48,194]\u001B[0m Trial 5 finished with value: 0.7802469135802468 and parameters: {'n_d': 61, 'n_a': 36, 'n_steps': 1, 'gamma': 1.3958929033761656, 'n_independent': 2, 'n_shared': 5, 'lambda_sparse': 0.003479702640447788}. Best is trial 2 with value: 0.8094675925925925.\u001B[0m\n"
     ]
    },
    {
     "name": "stdout",
     "output_type": "stream",
     "text": [
      "\n",
      "Early stopping occurred at epoch 26 with best_epoch = 16 and best_val_0_auc = 0.78025\n",
      "\n",
      "Early stopping occurred at epoch 15 with best_epoch = 5 and best_val_0_auc = 0.55159\n"
     ]
    },
    {
     "name": "stderr",
     "output_type": "stream",
     "text": [
      "Best weights from best epoch are automatically used!\n",
      "\u001B[32m[I 2023-10-14 15:41:25,115]\u001B[0m Trial 6 finished with value: 0.5515856481481483 and parameters: {'n_d': 17, 'n_a': 8, 'n_steps': 19, 'gamma': 1.148188482944694, 'n_independent': 7, 'n_shared': 10, 'lambda_sparse': 0.08451230092019124}. Best is trial 2 with value: 0.8094675925925925.\u001B[0m\n"
     ]
    },
    {
     "name": "stdout",
     "output_type": "stream",
     "text": [
      "\n",
      "Early stopping occurred at epoch 37 with best_epoch = 27 and best_val_0_auc = 0.79792\n"
     ]
    },
    {
     "name": "stderr",
     "output_type": "stream",
     "text": [
      "Best weights from best epoch are automatically used!\n",
      "\u001B[32m[I 2023-10-14 15:42:06,795]\u001B[0m Trial 7 finished with value: 0.7979243827160495 and parameters: {'n_d': 42, 'n_a': 16, 'n_steps': 10, 'gamma': 0.6884832489105915, 'n_independent': 1, 'n_shared': 10, 'lambda_sparse': 0.009961732845964957}. Best is trial 2 with value: 0.8094675925925925.\u001B[0m\n"
     ]
    },
    {
     "name": "stdout",
     "output_type": "stream",
     "text": [
      "\n",
      "Early stopping occurred at epoch 51 with best_epoch = 41 and best_val_0_auc = 0.7845\n"
     ]
    },
    {
     "name": "stderr",
     "output_type": "stream",
     "text": [
      "Best weights from best epoch are automatically used!\n",
      "\u001B[32m[I 2023-10-14 15:43:32,245]\u001B[0m Trial 8 finished with value: 0.7844984567901234 and parameters: {'n_d': 24, 'n_a': 40, 'n_steps': 11, 'gamma': 1.8066886144343788, 'n_independent': 5, 'n_shared': 9, 'lambda_sparse': 0.05533535754777782}. Best is trial 2 with value: 0.8094675925925925.\u001B[0m\n",
      "Best weights from best epoch are automatically used!\n",
      "\u001B[32m[I 2023-10-14 15:43:36,968]\u001B[0m Trial 9 finished with value: 0.7669675925925925 and parameters: {'n_d': 13, 'n_a': 18, 'n_steps': 3, 'gamma': 1.4160231035471897, 'n_independent': 4, 'n_shared': 2, 'lambda_sparse': 0.07518033847362295}. Best is trial 2 with value: 0.8094675925925925.\u001B[0m\n"
     ]
    },
    {
     "name": "stdout",
     "output_type": "stream",
     "text": [
      "\n",
      "Early stopping occurred at epoch 25 with best_epoch = 15 and best_val_0_auc = 0.76697\n",
      "\n",
      "Early stopping occurred at epoch 32 with best_epoch = 22 and best_val_0_auc = 0.79737\n"
     ]
    },
    {
     "name": "stderr",
     "output_type": "stream",
     "text": [
      "Best weights from best epoch are automatically used!\n",
      "\u001B[32m[I 2023-10-14 15:44:45,149]\u001B[0m Trial 10 finished with value: 0.7973688271604938 and parameters: {'n_d': 40, 'n_a': 58, 'n_steps': 8, 'gamma': 0.10363699784980085, 'n_independent': 10, 'n_shared': 7, 'lambda_sparse': 0.03039683629217595}. Best is trial 2 with value: 0.8094675925925925.\u001B[0m\n"
     ]
    },
    {
     "name": "stdout",
     "output_type": "stream",
     "text": [
      "\n",
      "Early stopping occurred at epoch 38 with best_epoch = 28 and best_val_0_auc = 0.81198\n"
     ]
    },
    {
     "name": "stderr",
     "output_type": "stream",
     "text": [
      "Best weights from best epoch are automatically used!\n",
      "\u001B[32m[I 2023-10-14 15:45:09,625]\u001B[0m Trial 11 finished with value: 0.811983024691358 and parameters: {'n_d': 29, 'n_a': 33, 'n_steps': 6, 'gamma': 0.7595376998652392, 'n_independent': 3, 'n_shared': 7, 'lambda_sparse': 0.00036675539243480326}. Best is trial 11 with value: 0.811983024691358.\u001B[0m\n"
     ]
    },
    {
     "name": "stdout",
     "output_type": "stream",
     "text": [
      "\n",
      "Early stopping occurred at epoch 46 with best_epoch = 36 and best_val_0_auc = 0.80792\n"
     ]
    },
    {
     "name": "stderr",
     "output_type": "stream",
     "text": [
      "Best weights from best epoch are automatically used!\n",
      "\u001B[32m[I 2023-10-14 15:45:52,027]\u001B[0m Trial 12 finished with value: 0.8079243827160495 and parameters: {'n_d': 31, 'n_a': 34, 'n_steps': 6, 'gamma': 0.8462877252423306, 'n_independent': 7, 'n_shared': 7, 'lambda_sparse': 0.02192673659865419}. Best is trial 11 with value: 0.811983024691358.\u001B[0m\n",
      "Best weights from best epoch are automatically used!\n",
      "\u001B[32m[I 2023-10-14 15:45:57,421]\u001B[0m Trial 13 finished with value: 0.7767052469135802 and parameters: {'n_d': 48, 'n_a': 45, 'n_steps': 1, 'gamma': 0.13649151698553397, 'n_independent': 1, 'n_shared': 7, 'lambda_sparse': 0.001479748568609977}. Best is trial 11 with value: 0.811983024691358.\u001B[0m\n"
     ]
    },
    {
     "name": "stdout",
     "output_type": "stream",
     "text": [
      "\n",
      "Early stopping occurred at epoch 29 with best_epoch = 19 and best_val_0_auc = 0.77671\n",
      "\n",
      "Early stopping occurred at epoch 41 with best_epoch = 31 and best_val_0_auc = 0.79499\n"
     ]
    },
    {
     "name": "stderr",
     "output_type": "stream",
     "text": [
      "Best weights from best epoch are automatically used!\n",
      "\u001B[32m[I 2023-10-14 15:46:47,560]\u001B[0m Trial 14 finished with value: 0.7949922839506174 and parameters: {'n_d': 32, 'n_a': 63, 'n_steps': 10, 'gamma': 0.9203139317175839, 'n_independent': 3, 'n_shared': 6, 'lambda_sparse': 0.021651599826672224}. Best is trial 11 with value: 0.811983024691358.\u001B[0m\n"
     ]
    },
    {
     "name": "stdout",
     "output_type": "stream",
     "text": [
      "\n",
      "Early stopping occurred at epoch 45 with best_epoch = 35 and best_val_0_auc = 0.79691\n"
     ]
    },
    {
     "name": "stderr",
     "output_type": "stream",
     "text": [
      "Best weights from best epoch are automatically used!\n",
      "\u001B[32m[I 2023-10-14 15:47:24,963]\u001B[0m Trial 15 finished with value: 0.7969058641975308 and parameters: {'n_d': 46, 'n_a': 29, 'n_steps': 4, 'gamma': 0.7592948916673397, 'n_independent': 9, 'n_shared': 8, 'lambda_sparse': 0.04267142451840331}. Best is trial 11 with value: 0.811983024691358.\u001B[0m\n"
     ]
    },
    {
     "name": "stdout",
     "output_type": "stream",
     "text": [
      "\n",
      "Early stopping occurred at epoch 17 with best_epoch = 7 and best_val_0_auc = 0.81274\n"
     ]
    },
    {
     "name": "stderr",
     "output_type": "stream",
     "text": [
      "Best weights from best epoch are automatically used!\n",
      "\u001B[32m[I 2023-10-14 15:47:43,992]\u001B[0m Trial 16 finished with value: 0.8127391975308642 and parameters: {'n_d': 28, 'n_a': 28, 'n_steps': 13, 'gamma': 0.3096115722064988, 'n_independent': 3, 'n_shared': 5, 'lambda_sparse': 0.018452417971399324}. Best is trial 16 with value: 0.8127391975308642.\u001B[0m\n"
     ]
    },
    {
     "name": "stdout",
     "output_type": "stream",
     "text": [
      "\n",
      "Early stopping occurred at epoch 20 with best_epoch = 10 and best_val_0_auc = 0.76577\n"
     ]
    },
    {
     "name": "stderr",
     "output_type": "stream",
     "text": [
      "Best weights from best epoch are automatically used!\n",
      "\u001B[32m[I 2023-10-14 15:47:52,972]\u001B[0m Trial 17 finished with value: 0.7657716049382717 and parameters: {'n_d': 24, 'n_a': 27, 'n_steps': 13, 'gamma': 0.6105674155141982, 'n_independent': 2, 'n_shared': 1, 'lambda_sparse': 0.027344951884489467}. Best is trial 16 with value: 0.8127391975308642.\u001B[0m\n"
     ]
    },
    {
     "name": "stdout",
     "output_type": "stream",
     "text": [
      "\n",
      "Early stopping occurred at epoch 19 with best_epoch = 9 and best_val_0_auc = 0.77264\n"
     ]
    },
    {
     "name": "stderr",
     "output_type": "stream",
     "text": [
      "Best weights from best epoch are automatically used!\n",
      "\u001B[32m[I 2023-10-14 15:48:19,296]\u001B[0m Trial 18 finished with value: 0.7726388888888889 and parameters: {'n_d': 34, 'n_a': 27, 'n_steps': 16, 'gamma': 0.3329720397281879, 'n_independent': 3, 'n_shared': 5, 'lambda_sparse': 0.013289399138163635}. Best is trial 16 with value: 0.8127391975308642.\u001B[0m\n"
     ]
    },
    {
     "name": "stdout",
     "output_type": "stream",
     "text": [
      "\n",
      "Early stopping occurred at epoch 24 with best_epoch = 14 and best_val_0_auc = 0.79851\n"
     ]
    },
    {
     "name": "stderr",
     "output_type": "stream",
     "text": [
      "Best weights from best epoch are automatically used!\n",
      "\u001B[32m[I 2023-10-14 15:48:39,279]\u001B[0m Trial 19 finished with value: 0.7985108024691357 and parameters: {'n_d': 24, 'n_a': 33, 'n_steps': 13, 'gamma': 0.5866673709148725, 'n_independent': 2, 'n_shared': 4, 'lambda_sparse': 0.0014844768582768716}. Best is trial 16 with value: 0.8127391975308642.\u001B[0m\n"
     ]
    },
    {
     "name": "stdout",
     "output_type": "stream",
     "text": [
      "\n",
      "Early stopping occurred at epoch 26 with best_epoch = 16 and best_val_0_auc = 0.79014\n"
     ]
    },
    {
     "name": "stderr",
     "output_type": "stream",
     "text": [
      "Best weights from best epoch are automatically used!\n",
      "\u001B[32m[I 2023-10-14 15:49:29,888]\u001B[0m Trial 20 finished with value: 0.790138888888889 and parameters: {'n_d': 28, 'n_a': 9, 'n_steps': 19, 'gamma': 0.31474145218766836, 'n_independent': 6, 'n_shared': 6, 'lambda_sparse': 0.09842881394371913}. Best is trial 16 with value: 0.8127391975308642.\u001B[0m\n",
      "Device used : cpu\n",
      "No early stopping will be performed, last training weights will be used.\n"
     ]
    },
    {
     "name": "stdout",
     "output_type": "stream",
     "text": [
      "epoch 0  | loss: 1.39603 |  0:00:00s\n",
      "epoch 1  | loss: 1.07601 |  0:00:01s\n",
      "epoch 2  | loss: 0.82163 |  0:00:02s\n",
      "epoch 3  | loss: 0.74876 |  0:00:03s\n",
      "epoch 4  | loss: 0.69584 |  0:00:04s\n",
      "epoch 5  | loss: 0.65322 |  0:00:05s\n",
      "epoch 6  | loss: 0.64915 |  0:00:06s\n",
      "epoch 7  | loss: 0.61549 |  0:00:07s\n",
      "epoch 8  | loss: 0.59501 |  0:00:07s\n",
      "epoch 9  | loss: 0.58338 |  0:00:08s\n",
      "epoch 10 | loss: 0.58531 |  0:00:09s\n",
      "epoch 11 | loss: 0.56678 |  0:00:10s\n",
      "epoch 12 | loss: 0.5702  |  0:00:11s\n",
      "epoch 13 | loss: 0.55462 |  0:00:12s\n",
      "epoch 14 | loss: 0.55017 |  0:00:13s\n",
      "epoch 15 | loss: 0.53068 |  0:00:14s\n",
      "epoch 16 | loss: 0.52054 |  0:00:15s\n",
      "epoch 17 | loss: 0.51401 |  0:00:15s\n",
      "epoch 18 | loss: 0.50417 |  0:00:16s\n",
      "epoch 19 | loss: 0.49745 |  0:00:17s\n",
      "epoch 20 | loss: 0.49317 |  0:00:18s\n",
      "epoch 21 | loss: 0.4773  |  0:00:19s\n",
      "epoch 22 | loss: 0.46891 |  0:00:20s\n",
      "epoch 23 | loss: 0.46429 |  0:00:21s\n",
      "epoch 24 | loss: 0.46563 |  0:00:22s\n",
      "epoch 25 | loss: 0.44641 |  0:00:23s\n",
      "epoch 26 | loss: 0.44437 |  0:00:24s\n",
      "epoch 27 | loss: 0.43169 |  0:00:25s\n",
      "epoch 28 | loss: 0.41891 |  0:00:26s\n",
      "epoch 29 | loss: 0.44459 |  0:00:26s\n",
      "epoch 30 | loss: 0.41623 |  0:00:27s\n",
      "epoch 31 | loss: 0.41132 |  0:00:28s\n",
      "epoch 32 | loss: 0.39132 |  0:00:29s\n",
      "epoch 33 | loss: 0.38175 |  0:00:30s\n",
      "epoch 34 | loss: 0.37902 |  0:00:31s\n",
      "epoch 35 | loss: 0.38763 |  0:00:32s\n",
      "epoch 36 | loss: 0.37287 |  0:00:33s\n",
      "epoch 37 | loss: 0.37289 |  0:00:34s\n",
      "epoch 38 | loss: 0.34392 |  0:00:35s\n",
      "epoch 39 | loss: 0.33465 |  0:00:36s\n",
      "epoch 40 | loss: 0.32552 |  0:00:37s\n",
      "epoch 41 | loss: 0.32878 |  0:00:38s\n",
      "epoch 42 | loss: 0.3282  |  0:00:38s\n",
      "epoch 43 | loss: 0.33407 |  0:00:39s\n",
      "epoch 44 | loss: 0.29369 |  0:00:40s\n",
      "epoch 45 | loss: 0.29138 |  0:00:41s\n",
      "epoch 46 | loss: 0.28004 |  0:00:42s\n",
      "epoch 47 | loss: 0.28399 |  0:00:43s\n",
      "epoch 48 | loss: 0.26391 |  0:00:44s\n",
      "epoch 49 | loss: 0.26077 |  0:00:45s\n",
      "epoch 50 | loss: 0.25178 |  0:00:46s\n",
      "epoch 51 | loss: 0.23879 |  0:00:47s\n",
      "epoch 52 | loss: 0.23253 |  0:00:48s\n",
      "epoch 53 | loss: 0.22684 |  0:00:49s\n",
      "epoch 54 | loss: 0.22588 |  0:00:50s\n",
      "epoch 55 | loss: 0.21784 |  0:00:50s\n",
      "epoch 56 | loss: 0.21784 |  0:00:51s\n",
      "epoch 57 | loss: 0.20371 |  0:00:52s\n",
      "epoch 58 | loss: 0.22846 |  0:00:53s\n",
      "epoch 59 | loss: 0.20406 |  0:00:54s\n",
      "epoch 60 | loss: 0.20053 |  0:00:55s\n",
      "epoch 61 | loss: 0.21222 |  0:00:56s\n",
      "epoch 62 | loss: 0.20969 |  0:00:57s\n",
      "epoch 63 | loss: 0.20724 |  0:00:58s\n",
      "epoch 64 | loss: 0.20468 |  0:00:59s\n",
      "epoch 65 | loss: 0.202   |  0:01:00s\n",
      "epoch 66 | loss: 0.20011 |  0:01:01s\n",
      "epoch 67 | loss: 0.19532 |  0:01:01s\n",
      "epoch 68 | loss: 0.19384 |  0:01:02s\n",
      "epoch 69 | loss: 0.19874 |  0:01:03s\n",
      "epoch 70 | loss: 0.19539 |  0:01:04s\n",
      "epoch 71 | loss: 0.18592 |  0:01:05s\n",
      "epoch 72 | loss: 0.1923  |  0:01:06s\n",
      "epoch 73 | loss: 0.18649 |  0:01:07s\n",
      "epoch 74 | loss: 0.201   |  0:01:08s\n",
      "epoch 75 | loss: 0.18605 |  0:01:09s\n",
      "epoch 76 | loss: 0.17357 |  0:01:10s\n",
      "epoch 77 | loss: 0.18097 |  0:01:11s\n",
      "epoch 78 | loss: 0.18307 |  0:01:12s\n",
      "epoch 79 | loss: 0.16302 |  0:01:13s\n",
      "epoch 80 | loss: 0.14687 |  0:01:13s\n",
      "epoch 81 | loss: 0.16289 |  0:01:14s\n",
      "epoch 82 | loss: 0.15947 |  0:01:15s\n",
      "epoch 83 | loss: 0.15192 |  0:01:16s\n",
      "epoch 84 | loss: 0.1652  |  0:01:17s\n",
      "epoch 85 | loss: 0.15419 |  0:01:18s\n",
      "epoch 86 | loss: 0.15845 |  0:01:19s\n",
      "epoch 87 | loss: 0.1592  |  0:01:20s\n",
      "epoch 88 | loss: 0.14489 |  0:01:21s\n",
      "epoch 89 | loss: 0.15201 |  0:01:22s\n",
      "epoch 90 | loss: 0.13191 |  0:01:23s\n",
      "epoch 91 | loss: 0.13829 |  0:01:24s\n",
      "epoch 92 | loss: 0.12696 |  0:01:25s\n",
      "epoch 93 | loss: 0.12892 |  0:01:25s\n",
      "epoch 94 | loss: 0.1258  |  0:01:26s\n",
      "epoch 95 | loss: 0.12805 |  0:01:27s\n",
      "epoch 96 | loss: 0.12973 |  0:01:28s\n",
      "epoch 97 | loss: 0.12643 |  0:01:29s\n",
      "epoch 98 | loss: 0.12992 |  0:01:30s\n",
      "epoch 99 | loss: 0.11704 |  0:01:31s\n"
     ]
    },
    {
     "data": {
      "text/plain": "{'n_d': 28,\n 'n_a': 28,\n 'n_steps': 13,\n 'gamma': 0.3096115722064988,\n 'n_independent': 3,\n 'n_shared': 5,\n 'lambda_sparse': 0.018452417971399324}"
     },
     "execution_count": 96,
     "metadata": {},
     "output_type": "execute_result"
    }
   ],
   "source": [
    "from pytorch_tabnet.tab_model import TabNetClassifier\n",
    "import optuna\n",
    "\n",
    "# Define objective function for optuna\n",
    "def objective(trial):\n",
    "    # Generate hyperparameter search space\n",
    "    params = {\n",
    "        'n_d': trial.suggest_int('n_d', 8, 64),\n",
    "        'n_a': trial.suggest_int('n_a', 8, 64),\n",
    "        'n_steps': trial.suggest_int('n_steps', 1, 19),\n",
    "        'gamma': trial.suggest_float('gamma', 0.1, 2.0),\n",
    "        'n_independent': trial.suggest_int('n_independent', 1, 10),\n",
    "        'n_shared': trial.suggest_int('n_shared', 1, 10),\n",
    "        'lambda_sparse': trial.suggest_float('lambda_sparse', 0.0001, 0.1),\n",
    "        # 'optimizer_fn': torch.optim.Adam,\n",
    "        # 'optimizer_params': dict(lr=2e-2, weight_decay=1e-5),\n",
    "        # 'mask_type': 'entmax',\n",
    "        # 'scheduler_params': dict(mode=\"min\", patience=5, min_lr=1e-5, factor=0.9,),\n",
    "        # 'scheduler_fn': torch.optim.lr_scheduler.ReduceLROnPlateau,\n",
    "        'verbose': 0\n",
    "    }\n",
    "\n",
    "    # Create TabNetClassifier object with hyperparameters from optuna\n",
    "    classifier = TabNetClassifier(**params)\n",
    "\n",
    "    # Train and evaluate the model\n",
    "    classifier.fit(X_train_np, y_train, eval_set=[(X_test_np, y_test)])\n",
    "    val_preds = classifier.predict_proba(X_test_np)[:, 1]\n",
    "    val_auc = roc_auc_score(y_test, val_preds)\n",
    "\n",
    "    return val_auc\n",
    "\n",
    "# Create optuna study\n",
    "study = optuna.create_study(direction='maximize')\n",
    "\n",
    "# Optimize hyperparameters using optuna\n",
    "study.optimize(objective, n_trials=42, timeout=600)\n",
    "\n",
    "# Get best hyperparameters from optuna\n",
    "best_params = study.best_trial.params\n",
    "\n",
    "# Train final model with best hyperparameters\n",
    "tabnet = TabNetClassifier(**best_params)\n",
    "tabnet.fit(X_train_np, y_train)\n",
    "best_params"
   ],
   "metadata": {
    "collapsed": false,
    "ExecuteTime": {
     "end_time": "2023-10-14T12:51:02.079561300Z",
     "start_time": "2023-10-14T12:38:48.523265Z"
    }
   },
   "id": "eb24b2c1971694fd"
  },
  {
   "cell_type": "markdown",
   "source": [
    "Evaluate the best model on the test data"
   ],
   "metadata": {
    "collapsed": false
   },
   "id": "712cf91c84e48846"
  },
  {
   "cell_type": "code",
   "execution_count": 97,
   "outputs": [
    {
     "name": "stdout",
     "output_type": "stream",
     "text": [
      "Tabnet (test data)\n",
      "Accuracy: 0.66\n",
      "Precision: 0.67\n",
      "Recall: 0.64\n",
      "F1-score: 0.65\n",
      "ROC-AUC score: 0.66\n"
     ]
    },
    {
     "data": {
      "text/plain": "<Figure size 576x576 with 2 Axes>",
      "image/png": "[encoded data removed]"
     },
     "metadata": {},
     "output_type": "display_data"
    }
   ],
   "source": [
    "# Evaluate final model on test set\n",
    "y_test_pred = tabnet.predict(X_test_np)\n",
    "evaluate_model(\"Tabnet (test data)\", y_test, y_test_pred)"
   ],
   "metadata": {
    "collapsed": false,
    "ExecuteTime": {
     "end_time": "2023-10-14T12:51:02.314601300Z",
     "start_time": "2023-10-14T12:51:02.082560400Z"
    }
   },
   "id": "3008e27ec8f3c19"
  },
  {
   "cell_type": "markdown",
   "source": [
    "The best model is Gradient Boosting"
   ],
   "metadata": {
    "collapsed": false
   },
   "id": "e8f5157470a9e37f"
  },
  {
   "cell_type": "code",
   "execution_count": 102,
   "outputs": [],
   "source": [
    "the_best_model_ever = gb_best_estimator"
   ],
   "metadata": {
    "collapsed": false,
    "ExecuteTime": {
     "end_time": "2023-10-16T08:00:54.839684200Z",
     "start_time": "2023-10-16T08:00:54.786131400Z"
    }
   },
   "id": "5deaf6f74c5cb791"
  },
  {
   "cell_type": "markdown",
   "source": [
    "Feature importance"
   ],
   "metadata": {
    "collapsed": false
   },
   "id": "26eeae8e3e0434d0"
  },
  {
   "cell_type": "code",
   "execution_count": 103,
   "outputs": [
    {
     "ename": "AttributeError",
     "evalue": "'SVC' object has no attribute 'feature_importances_'",
     "output_type": "error",
     "traceback": [
      "\u001B[1;31m---------------------------------------------------------------------------\u001B[0m",
      "\u001B[1;31mAttributeError\u001B[0m                            Traceback (most recent call last)",
      "\u001B[1;32m~\\AppData\\Local\\Temp/ipykernel_5048/443972052.py\u001B[0m in \u001B[0;36m<module>\u001B[1;34m\u001B[0m\n\u001B[1;32m----> 1\u001B[1;33m feature_importances = pd.DataFrame(the_best_model_ever.feature_importances_,\n\u001B[0m\u001B[0;32m      2\u001B[0m                                    \u001B[0mindex\u001B[0m \u001B[1;33m=\u001B[0m \u001B[0mX_train_preprocessed\u001B[0m\u001B[1;33m.\u001B[0m\u001B[0mcolumns\u001B[0m\u001B[1;33m,\u001B[0m\u001B[1;33m\u001B[0m\u001B[1;33m\u001B[0m\u001B[0m\n\u001B[0;32m      3\u001B[0m                                     columns=['importance']).sort_values('importance', ascending=False)\n\u001B[0;32m      4\u001B[0m \u001B[0mfeature_importances\u001B[0m\u001B[1;33m\u001B[0m\u001B[1;33m\u001B[0m\u001B[0m\n",
      "\u001B[1;31mAttributeError\u001B[0m: 'SVC' object has no attribute 'feature_importances_'"
     ]
    }
   ],
   "source": [
    "feature_importances = pd.DataFrame(the_best_model_ever.feature_importances_,\n",
    "                                   index = X_train_preprocessed.columns,\n",
    "                                    columns=['importance']).sort_values('importance', ascending=False)\n",
    "feature_importances"
   ],
   "metadata": {
    "collapsed": false,
    "ExecuteTime": {
     "end_time": "2023-10-16T08:00:57.409375400Z",
     "start_time": "2023-10-16T08:00:57.352868Z"
    }
   },
   "id": "ea6874938239bbff"
  },
  {
   "cell_type": "markdown",
   "source": [
    "SHAP values for the best model"
   ],
   "metadata": {
    "collapsed": false
   },
   "id": "b9b4bc084227d5d8"
  },
  {
   "cell_type": "code",
   "execution_count": 100,
   "outputs": [
    {
     "data": {
      "text/plain": "<Figure size 576x540 with 1 Axes>",
      "image/png": "[encoded data removed]"
     },
     "metadata": {},
     "output_type": "display_data"
    },
    {
     "data": {
      "text/plain": "<Figure size 576x540 with 2 Axes>",
      "image/png": "[encoded data removed]"
     },
     "metadata": {},
     "output_type": "display_data"
    },
    {
     "name": "stderr",
     "output_type": "stream",
     "text": [
      "shap.plots.force is slow for many thousands of rows, try subsampling your data.\n"
     ]
    },
    {
     "ename": "ValueError",
     "evalue": "Could not find feature named: DVA_Mean",
     "output_type": "error",
     "traceback": [
      "\u001B[1;31m---------------------------------------------------------------------------\u001B[0m",
      "\u001B[1;31mValueError\u001B[0m                                Traceback (most recent call last)",
      "\u001B[1;32m~\\AppData\\Local\\Temp/ipykernel_5048/2425677699.py\u001B[0m in \u001B[0;36m<module>\u001B[1;34m\u001B[0m\n\u001B[0;32m     20\u001B[0m \u001B[1;33m\u001B[0m\u001B[0m\n\u001B[0;32m     21\u001B[0m \u001B[1;31m# Plot dependence plot\u001B[0m\u001B[1;33m\u001B[0m\u001B[1;33m\u001B[0m\u001B[0m\n\u001B[1;32m---> 22\u001B[1;33m \u001B[0mshap\u001B[0m\u001B[1;33m.\u001B[0m\u001B[0mdependence_plot\u001B[0m\u001B[1;33m(\u001B[0m\u001B[1;34m'DVA_Mean'\u001B[0m\u001B[1;33m,\u001B[0m \u001B[0mshap_values\u001B[0m\u001B[1;33m,\u001B[0m \u001B[0mX_train_preprocessed\u001B[0m\u001B[1;33m)\u001B[0m\u001B[1;33m\u001B[0m\u001B[1;33m\u001B[0m\u001B[0m\n\u001B[0m",
      "\u001B[1;32m~\\anaconda3\\lib\\site-packages\\shap\\plots\\_scatter.py\u001B[0m in \u001B[0;36mdependence_legacy\u001B[1;34m(ind, shap_values, features, feature_names, display_features, interaction_index, color, axis_color, cmap, dot_size, x_jitter, alpha, title, xmin, xmax, ax, show, ymin, ymax)\u001B[0m\n\u001B[0;32m    567\u001B[0m         \u001B[0mfeatures\u001B[0m \u001B[1;33m=\u001B[0m \u001B[0mnp\u001B[0m\u001B[1;33m.\u001B[0m\u001B[0mreshape\u001B[0m\u001B[1;33m(\u001B[0m\u001B[0mfeatures\u001B[0m\u001B[1;33m,\u001B[0m \u001B[0mlen\u001B[0m\u001B[1;33m(\u001B[0m\u001B[0mfeatures\u001B[0m\u001B[1;33m)\u001B[0m\u001B[1;33m,\u001B[0m \u001B[1;36m1\u001B[0m\u001B[1;33m)\u001B[0m\u001B[1;33m\u001B[0m\u001B[1;33m\u001B[0m\u001B[0m\n\u001B[0;32m    568\u001B[0m \u001B[1;33m\u001B[0m\u001B[0m\n\u001B[1;32m--> 569\u001B[1;33m     \u001B[0mind\u001B[0m \u001B[1;33m=\u001B[0m \u001B[0mconvert_name\u001B[0m\u001B[1;33m(\u001B[0m\u001B[0mind\u001B[0m\u001B[1;33m,\u001B[0m \u001B[0mshap_values\u001B[0m\u001B[1;33m,\u001B[0m \u001B[0mfeature_names\u001B[0m\u001B[1;33m)\u001B[0m\u001B[1;33m\u001B[0m\u001B[1;33m\u001B[0m\u001B[0m\n\u001B[0m\u001B[0;32m    570\u001B[0m \u001B[1;33m\u001B[0m\u001B[0m\n\u001B[0;32m    571\u001B[0m     \u001B[1;31m# guess what other feature as the stongest interaction with the plotted feature\u001B[0m\u001B[1;33m\u001B[0m\u001B[1;33m\u001B[0m\u001B[0m\n",
      "\u001B[1;32m~\\anaconda3\\lib\\site-packages\\shap\\utils\\_general.py\u001B[0m in \u001B[0;36mconvert_name\u001B[1;34m(ind, shap_values, input_names)\u001B[0m\n\u001B[0;32m     43\u001B[0m                 \u001B[1;32mreturn\u001B[0m \u001B[1;34m\"sum()\"\u001B[0m\u001B[1;33m\u001B[0m\u001B[1;33m\u001B[0m\u001B[0m\n\u001B[0;32m     44\u001B[0m             \u001B[1;32melse\u001B[0m\u001B[1;33m:\u001B[0m\u001B[1;33m\u001B[0m\u001B[1;33m\u001B[0m\u001B[0m\n\u001B[1;32m---> 45\u001B[1;33m                 \u001B[1;32mraise\u001B[0m \u001B[0mValueError\u001B[0m\u001B[1;33m(\u001B[0m\u001B[1;34m\"Could not find feature named: \"\u001B[0m \u001B[1;33m+\u001B[0m \u001B[0mind\u001B[0m\u001B[1;33m)\u001B[0m\u001B[1;33m\u001B[0m\u001B[1;33m\u001B[0m\u001B[0m\n\u001B[0m\u001B[0;32m     46\u001B[0m         \u001B[1;32melse\u001B[0m\u001B[1;33m:\u001B[0m\u001B[1;33m\u001B[0m\u001B[1;33m\u001B[0m\u001B[0m\n\u001B[0;32m     47\u001B[0m             \u001B[1;32mreturn\u001B[0m \u001B[0mnzinds\u001B[0m\u001B[1;33m[\u001B[0m\u001B[1;36m0\u001B[0m\u001B[1;33m]\u001B[0m\u001B[1;33m\u001B[0m\u001B[1;33m\u001B[0m\u001B[0m\n",
      "\u001B[1;31mValueError\u001B[0m: Could not find feature named: DVA_Mean"
     ]
    }
   ],
   "source": [
    "import shap\n",
    "\n",
    "# Create object that can calculate shap values\n",
    "explainer = shap.TreeExplainer(the_best_model_ever)\n",
    "\n",
    "# Calculate Shap values\n",
    "shap_values = explainer.shap_values(X_train_preprocessed)\n",
    "\n",
    "# Plot summary plot\n",
    "shap.summary_plot(shap_values, X_train_preprocessed, plot_type=\"bar\")\n",
    "\n",
    "# Plot summary plot\n",
    "shap.summary_plot(shap_values, X_train_preprocessed)\n",
    "\n",
    "# Plot force plot\n",
    "shap.force_plot(explainer.expected_value, shap_values[0,:], X_train_preprocessed.iloc[0,:])\n",
    "\n",
    "# Plot force plot\n",
    "shap.force_plot(explainer.expected_value, shap_values, X_train_preprocessed)\n",
    "\n",
    "# Plot dependence plot\n",
    "shap.dependence_plot('DVA_Mean', shap_values, X_train_preprocessed)"
   ],
   "metadata": {
    "collapsed": false,
    "ExecuteTime": {
     "end_time": "2023-10-14T12:51:48.119455900Z",
     "start_time": "2023-10-14T12:51:02.350032800Z"
    }
   },
   "id": "d29547feac145433"
  },
  {
   "cell_type": "markdown",
   "source": [
    "\n"
   ],
   "metadata": {
    "collapsed": false
   },
   "id": "26f01162a3d4ccc3"
  }
 ],
 "metadata": {
  "kernelspec": {
   "display_name": "Python 3",
   "language": "python",
   "name": "python3"
  },
  "language_info": {
   "codemirror_mode": {
    "name": "ipython",
    "version": 2
   },
   "file_extension": ".py",
   "mimetype": "text/x-python",
   "name": "python",
   "nbconvert_exporter": "python",
   "pygments_lexer": "ipython2",
   "version": "2.7.6"
  }
 },
 "nbformat": 4,
 "nbformat_minor": 5
}
