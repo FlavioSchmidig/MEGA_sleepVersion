{
 "cells": [
  {
   "cell_type": "code",
   "execution_count": 1,
   "outputs": [],
   "source": [
    "import pandas as pd # data processing, CSV file I/O (e.g. pd.read_csv)\n",
    "from src.statistical_analysis import utils\n",
    "from src import config\n",
    "from src.statistical_analysis.business.DistanceFocusingLogic import cut_tail\n",
    "\n",
    "%matplotlib inline"
   ],
   "metadata": {
    "collapsed": false
   }
  },
  {
   "cell_type": "code",
   "execution_count": 2,
   "outputs": [],
   "source": [
    "df = utils.get_all_valid_subject_data_df()\n",
    "rois = utils.get_aggregated_roi_df()"
   ],
   "metadata": {
    "collapsed": false
   }
  },
  {
   "cell_type": "code",
   "execution_count": 3,
   "outputs": [],
   "source": [
    "# roi_drop_movies = set(rois.index) - set(config.valid_movies)\n",
    "# distance_drop_movies = roi_drop_movies.union({\n",
    "#     f'mov{idx}' for idx in range(config.num_repeating_movies + 1, config.total_recorded_movies + 1)})\n",
    "# valid_rois = rois.drop(roi_drop_movies)\n",
    "# valid_df = df.drop(index=distance_drop_movies, level=config.MOVIE, errors='ignore')\n",
    "valid_df = df\n",
    "valid_rois = rois"
   ],
   "metadata": {
    "collapsed": false
   }
  },
  {
   "cell_type": "code",
   "execution_count": 4,
   "outputs": [
    {
     "data": {
      "text/plain": "                                         Measured Eye  Pupil radius   X_gaze  \\\nSubject Session   Movie Memory TimeStamp                                       \nAM45    Session A mov1  -4.0   468               BOTH        4942.0  1077.50   \n                               470               BOTH        5111.5  1081.75   \n                               472               BOTH        5262.0  1085.75   \n                               474               BOTH        5405.5  1088.00   \n                               476               BOTH        5543.0  1085.25   \n\n                                           Y_gaze  is Blink  is Fixation  \\\nSubject Session   Movie Memory TimeStamp                                   \nAM45    Session A mov1  -4.0   468        1057.00      True        False   \n                               470         996.75      True        False   \n                               472         941.25      True        False   \n                               474         889.00      True        False   \n                               476         841.25      True        False   \n\n                                             Distance        DVA  \nSubject Session   Movie Memory TimeStamp                          \nAM45    Session A mov1  -4.0   468        1090.056535  18.845310  \n                               470        1047.103445  18.078720  \n                               472        1009.178193  17.400632  \n                               474         973.932749  16.770714  \n                               476         939.515367  16.159015  ",
      "text/html": "<div>\n<style scoped>\n    .dataframe tbody tr th:only-of-type {\n        vertical-align: middle;\n    }\n\n    .dataframe tbody tr th {\n        vertical-align: top;\n    }\n\n    .dataframe thead th {\n        text-align: right;\n    }\n</style>\n<table border=\"1\" class=\"dataframe\">\n  <thead>\n    <tr style=\"text-align: right;\">\n      <th></th>\n      <th></th>\n      <th></th>\n      <th></th>\n      <th></th>\n      <th>Measured Eye</th>\n      <th>Pupil radius</th>\n      <th>X_gaze</th>\n      <th>Y_gaze</th>\n      <th>is Blink</th>\n      <th>is Fixation</th>\n      <th>Distance</th>\n      <th>DVA</th>\n    </tr>\n    <tr>\n      <th>Subject</th>\n      <th>Session</th>\n      <th>Movie</th>\n      <th>Memory</th>\n      <th>TimeStamp</th>\n      <th></th>\n      <th></th>\n      <th></th>\n      <th></th>\n      <th></th>\n      <th></th>\n      <th></th>\n      <th></th>\n    </tr>\n  </thead>\n  <tbody>\n    <tr>\n      <th rowspan=\"5\" valign=\"top\">AM45</th>\n      <th rowspan=\"5\" valign=\"top\">Session A</th>\n      <th rowspan=\"5\" valign=\"top\">mov1</th>\n      <th rowspan=\"5\" valign=\"top\">-4.0</th>\n      <th>468</th>\n      <td>BOTH</td>\n      <td>4942.0</td>\n      <td>1077.50</td>\n      <td>1057.00</td>\n      <td>True</td>\n      <td>False</td>\n      <td>1090.056535</td>\n      <td>18.845310</td>\n    </tr>\n    <tr>\n      <th>470</th>\n      <td>BOTH</td>\n      <td>5111.5</td>\n      <td>1081.75</td>\n      <td>996.75</td>\n      <td>True</td>\n      <td>False</td>\n      <td>1047.103445</td>\n      <td>18.078720</td>\n    </tr>\n    <tr>\n      <th>472</th>\n      <td>BOTH</td>\n      <td>5262.0</td>\n      <td>1085.75</td>\n      <td>941.25</td>\n      <td>True</td>\n      <td>False</td>\n      <td>1009.178193</td>\n      <td>17.400632</td>\n    </tr>\n    <tr>\n      <th>474</th>\n      <td>BOTH</td>\n      <td>5405.5</td>\n      <td>1088.00</td>\n      <td>889.00</td>\n      <td>True</td>\n      <td>False</td>\n      <td>973.932749</td>\n      <td>16.770714</td>\n    </tr>\n    <tr>\n      <th>476</th>\n      <td>BOTH</td>\n      <td>5543.0</td>\n      <td>1085.25</td>\n      <td>841.25</td>\n      <td>True</td>\n      <td>False</td>\n      <td>939.515367</td>\n      <td>16.159015</td>\n    </tr>\n  </tbody>\n</table>\n</div>"
     },
     "execution_count": 4,
     "metadata": {},
     "output_type": "execute_result"
    }
   ],
   "source": [
    "valid_df.head()"
   ],
   "metadata": {
    "collapsed": false
   }
  },
  {
   "cell_type": "code",
   "execution_count": 5,
   "outputs": [],
   "source": [
    "df = cut_tail(valid_df, valid_rois)"
   ],
   "metadata": {
    "collapsed": false
   }
  },
  {
   "cell_type": "code",
   "execution_count": 6,
   "outputs": [
    {
     "data": {
      "text/plain": "    Subject  Movie  series_id\n0      MA40  mov28          0\n1      KD59  mov15          1\n2      MA40  mov38          2\n3      FY25  mov25          3\n4      FY25   mov9          4\n..      ...    ...        ...\n905    KR13  mov45        905\n906    BO03  mov60        906\n907    MA40  mov39        907\n908    BO03  mov62        908\n909    MN37  mov16        909\n\n[910 rows x 3 columns]",
      "text/html": "<div>\n<style scoped>\n    .dataframe tbody tr th:only-of-type {\n        vertical-align: middle;\n    }\n\n    .dataframe tbody tr th {\n        vertical-align: top;\n    }\n\n    .dataframe thead th {\n        text-align: right;\n    }\n</style>\n<table border=\"1\" class=\"dataframe\">\n  <thead>\n    <tr style=\"text-align: right;\">\n      <th></th>\n      <th>Subject</th>\n      <th>Movie</th>\n      <th>series_id</th>\n    </tr>\n  </thead>\n  <tbody>\n    <tr>\n      <th>0</th>\n      <td>MA40</td>\n      <td>mov28</td>\n      <td>0</td>\n    </tr>\n    <tr>\n      <th>1</th>\n      <td>KD59</td>\n      <td>mov15</td>\n      <td>1</td>\n    </tr>\n    <tr>\n      <th>2</th>\n      <td>MA40</td>\n      <td>mov38</td>\n      <td>2</td>\n    </tr>\n    <tr>\n      <th>3</th>\n      <td>FY25</td>\n      <td>mov25</td>\n      <td>3</td>\n    </tr>\n    <tr>\n      <th>4</th>\n      <td>FY25</td>\n      <td>mov9</td>\n      <td>4</td>\n    </tr>\n    <tr>\n      <th>...</th>\n      <td>...</td>\n      <td>...</td>\n      <td>...</td>\n    </tr>\n    <tr>\n      <th>905</th>\n      <td>KR13</td>\n      <td>mov45</td>\n      <td>905</td>\n    </tr>\n    <tr>\n      <th>906</th>\n      <td>BO03</td>\n      <td>mov60</td>\n      <td>906</td>\n    </tr>\n    <tr>\n      <th>907</th>\n      <td>MA40</td>\n      <td>mov39</td>\n      <td>907</td>\n    </tr>\n    <tr>\n      <th>908</th>\n      <td>BO03</td>\n      <td>mov62</td>\n      <td>908</td>\n    </tr>\n    <tr>\n      <th>909</th>\n      <td>MN37</td>\n      <td>mov16</td>\n      <td>909</td>\n    </tr>\n  </tbody>\n</table>\n<p>910 rows × 3 columns</p>\n</div>"
     },
     "execution_count": 6,
     "metadata": {},
     "output_type": "execute_result"
    }
   ],
   "source": [
    "relevant_couples = set(zip(df.index.get_level_values(config.SUBJECT),\n",
    "                           df.index.get_level_values(config.MOVIE)))\n",
    "series_id_df = pd.DataFrame(relevant_couples, columns=[config.SUBJECT, config.MOVIE])\n",
    "series_id_df['series_id'] = series_id_df.index\n",
    "series_id_df"
   ],
   "metadata": {
    "collapsed": false
   }
  },
  {
   "cell_type": "code",
   "execution_count": 7,
   "outputs": [
    {
     "data": {
      "text/plain": "        Subject    Session Movie  Memory  TimeStamp Measured Eye  \\\n0          AM45  Session A  mov1    -4.0        468         BOTH   \n1          AM45  Session A  mov1    -4.0        470         BOTH   \n2          AM45  Session A  mov1    -4.0        472         BOTH   \n3          AM45  Session A  mov1    -4.0        474         BOTH   \n4          AM45  Session A  mov1    -4.0        476         BOTH   \n...         ...        ...   ...     ...        ...          ...   \n6192400    ZN05  Session B  mov9     4.0       5990        RIGHT   \n6192401    ZN05  Session B  mov9     4.0       5992        RIGHT   \n6192402    ZN05  Session B  mov9     4.0       5994        RIGHT   \n6192403    ZN05  Session B  mov9     4.0       5996        RIGHT   \n6192404    ZN05  Session B  mov9     4.0       5998        RIGHT   \n\n         Pupil radius   X_gaze   Y_gaze  is Blink  is Fixation     Distance  \\\n0              4942.0  1077.50  1057.00      True        False  1090.056535   \n1              5111.5  1081.75   996.75      True        False  1047.103445   \n2              5262.0  1085.75   941.25      True        False  1009.178193   \n3              5405.5  1088.00   889.00      True        False   973.932749   \n4              5543.0  1085.25   841.25      True        False   939.515367   \n...               ...      ...      ...       ...          ...          ...   \n6192400        5225.0  1002.00   168.00     False         True   966.786947   \n6192401        5230.0  1002.60   168.00     False         True   966.215380   \n6192402        5231.0  1003.20   168.00     False         True   965.643847   \n6192403        5228.0  1003.20   168.00     False         True   965.643847   \n6192404        5227.0  1002.60   168.00     False         True   966.215380   \n\n               DVA  \n0        18.845310  \n1        18.078720  \n2        17.400632  \n3        16.770714  \n4        16.159015  \n...            ...  \n6192400  13.690241  \n6192401  13.682199  \n6192402  13.674159  \n6192403  13.674159  \n6192404  13.682199  \n\n[6192405 rows x 13 columns]",
      "text/html": "<div>\n<style scoped>\n    .dataframe tbody tr th:only-of-type {\n        vertical-align: middle;\n    }\n\n    .dataframe tbody tr th {\n        vertical-align: top;\n    }\n\n    .dataframe thead th {\n        text-align: right;\n    }\n</style>\n<table border=\"1\" class=\"dataframe\">\n  <thead>\n    <tr style=\"text-align: right;\">\n      <th></th>\n      <th>Subject</th>\n      <th>Session</th>\n      <th>Movie</th>\n      <th>Memory</th>\n      <th>TimeStamp</th>\n      <th>Measured Eye</th>\n      <th>Pupil radius</th>\n      <th>X_gaze</th>\n      <th>Y_gaze</th>\n      <th>is Blink</th>\n      <th>is Fixation</th>\n      <th>Distance</th>\n      <th>DVA</th>\n    </tr>\n  </thead>\n  <tbody>\n    <tr>\n      <th>0</th>\n      <td>AM45</td>\n      <td>Session A</td>\n      <td>mov1</td>\n      <td>-4.0</td>\n      <td>468</td>\n      <td>BOTH</td>\n      <td>4942.0</td>\n      <td>1077.50</td>\n      <td>1057.00</td>\n      <td>True</td>\n      <td>False</td>\n      <td>1090.056535</td>\n      <td>18.845310</td>\n    </tr>\n    <tr>\n      <th>1</th>\n      <td>AM45</td>\n      <td>Session A</td>\n      <td>mov1</td>\n      <td>-4.0</td>\n      <td>470</td>\n      <td>BOTH</td>\n      <td>5111.5</td>\n      <td>1081.75</td>\n      <td>996.75</td>\n      <td>True</td>\n      <td>False</td>\n      <td>1047.103445</td>\n      <td>18.078720</td>\n    </tr>\n    <tr>\n      <th>2</th>\n      <td>AM45</td>\n      <td>Session A</td>\n      <td>mov1</td>\n      <td>-4.0</td>\n      <td>472</td>\n      <td>BOTH</td>\n      <td>5262.0</td>\n      <td>1085.75</td>\n      <td>941.25</td>\n      <td>True</td>\n      <td>False</td>\n      <td>1009.178193</td>\n      <td>17.400632</td>\n    </tr>\n    <tr>\n      <th>3</th>\n      <td>AM45</td>\n      <td>Session A</td>\n      <td>mov1</td>\n      <td>-4.0</td>\n      <td>474</td>\n      <td>BOTH</td>\n      <td>5405.5</td>\n      <td>1088.00</td>\n      <td>889.00</td>\n      <td>True</td>\n      <td>False</td>\n      <td>973.932749</td>\n      <td>16.770714</td>\n    </tr>\n    <tr>\n      <th>4</th>\n      <td>AM45</td>\n      <td>Session A</td>\n      <td>mov1</td>\n      <td>-4.0</td>\n      <td>476</td>\n      <td>BOTH</td>\n      <td>5543.0</td>\n      <td>1085.25</td>\n      <td>841.25</td>\n      <td>True</td>\n      <td>False</td>\n      <td>939.515367</td>\n      <td>16.159015</td>\n    </tr>\n    <tr>\n      <th>...</th>\n      <td>...</td>\n      <td>...</td>\n      <td>...</td>\n      <td>...</td>\n      <td>...</td>\n      <td>...</td>\n      <td>...</td>\n      <td>...</td>\n      <td>...</td>\n      <td>...</td>\n      <td>...</td>\n      <td>...</td>\n      <td>...</td>\n    </tr>\n    <tr>\n      <th>6192400</th>\n      <td>ZN05</td>\n      <td>Session B</td>\n      <td>mov9</td>\n      <td>4.0</td>\n      <td>5990</td>\n      <td>RIGHT</td>\n      <td>5225.0</td>\n      <td>1002.00</td>\n      <td>168.00</td>\n      <td>False</td>\n      <td>True</td>\n      <td>966.786947</td>\n      <td>13.690241</td>\n    </tr>\n    <tr>\n      <th>6192401</th>\n      <td>ZN05</td>\n      <td>Session B</td>\n      <td>mov9</td>\n      <td>4.0</td>\n      <td>5992</td>\n      <td>RIGHT</td>\n      <td>5230.0</td>\n      <td>1002.60</td>\n      <td>168.00</td>\n      <td>False</td>\n      <td>True</td>\n      <td>966.215380</td>\n      <td>13.682199</td>\n    </tr>\n    <tr>\n      <th>6192402</th>\n      <td>ZN05</td>\n      <td>Session B</td>\n      <td>mov9</td>\n      <td>4.0</td>\n      <td>5994</td>\n      <td>RIGHT</td>\n      <td>5231.0</td>\n      <td>1003.20</td>\n      <td>168.00</td>\n      <td>False</td>\n      <td>True</td>\n      <td>965.643847</td>\n      <td>13.674159</td>\n    </tr>\n    <tr>\n      <th>6192403</th>\n      <td>ZN05</td>\n      <td>Session B</td>\n      <td>mov9</td>\n      <td>4.0</td>\n      <td>5996</td>\n      <td>RIGHT</td>\n      <td>5228.0</td>\n      <td>1003.20</td>\n      <td>168.00</td>\n      <td>False</td>\n      <td>True</td>\n      <td>965.643847</td>\n      <td>13.674159</td>\n    </tr>\n    <tr>\n      <th>6192404</th>\n      <td>ZN05</td>\n      <td>Session B</td>\n      <td>mov9</td>\n      <td>4.0</td>\n      <td>5998</td>\n      <td>RIGHT</td>\n      <td>5227.0</td>\n      <td>1002.60</td>\n      <td>168.00</td>\n      <td>False</td>\n      <td>True</td>\n      <td>966.215380</td>\n      <td>13.682199</td>\n    </tr>\n  </tbody>\n</table>\n<p>6192405 rows × 13 columns</p>\n</div>"
     },
     "execution_count": 7,
     "metadata": {},
     "output_type": "execute_result"
    }
   ],
   "source": [
    "df = df.reset_index()\n",
    "df"
   ],
   "metadata": {
    "collapsed": false
   }
  },
  {
   "cell_type": "code",
   "execution_count": 8,
   "outputs": [
    {
     "data": {
      "text/plain": "        Subject    Session Movie  Memory  TimeStamp Measured Eye  \\\n0          AM45  Session A  mov1    -4.0        468         BOTH   \n1          AM45  Session A  mov1    -4.0        470         BOTH   \n2          AM45  Session A  mov1    -4.0        472         BOTH   \n3          AM45  Session A  mov1    -4.0        474         BOTH   \n4          AM45  Session A  mov1    -4.0        476         BOTH   \n...         ...        ...   ...     ...        ...          ...   \n6192400    ZN05  Session B  mov9     4.0       5990        RIGHT   \n6192401    ZN05  Session B  mov9     4.0       5992        RIGHT   \n6192402    ZN05  Session B  mov9     4.0       5994        RIGHT   \n6192403    ZN05  Session B  mov9     4.0       5996        RIGHT   \n6192404    ZN05  Session B  mov9     4.0       5998        RIGHT   \n\n         Pupil radius   X_gaze   Y_gaze  is Blink  is Fixation     Distance  \\\n0              4942.0  1077.50  1057.00      True        False  1090.056535   \n1              5111.5  1081.75   996.75      True        False  1047.103445   \n2              5262.0  1085.75   941.25      True        False  1009.178193   \n3              5405.5  1088.00   889.00      True        False   973.932749   \n4              5543.0  1085.25   841.25      True        False   939.515367   \n...               ...      ...      ...       ...          ...          ...   \n6192400        5225.0  1002.00   168.00     False         True   966.786947   \n6192401        5230.0  1002.60   168.00     False         True   966.215380   \n6192402        5231.0  1003.20   168.00     False         True   965.643847   \n6192403        5228.0  1003.20   168.00     False         True   965.643847   \n6192404        5227.0  1002.60   168.00     False         True   966.215380   \n\n               DVA  series_id  \n0        18.845310        460  \n1        18.078720        460  \n2        17.400632        460  \n3        16.770714        460  \n4        16.159015        460  \n...            ...        ...  \n6192400  13.690241        834  \n6192401  13.682199        834  \n6192402  13.674159        834  \n6192403  13.674159        834  \n6192404  13.682199        834  \n\n[6192405 rows x 14 columns]",
      "text/html": "<div>\n<style scoped>\n    .dataframe tbody tr th:only-of-type {\n        vertical-align: middle;\n    }\n\n    .dataframe tbody tr th {\n        vertical-align: top;\n    }\n\n    .dataframe thead th {\n        text-align: right;\n    }\n</style>\n<table border=\"1\" class=\"dataframe\">\n  <thead>\n    <tr style=\"text-align: right;\">\n      <th></th>\n      <th>Subject</th>\n      <th>Session</th>\n      <th>Movie</th>\n      <th>Memory</th>\n      <th>TimeStamp</th>\n      <th>Measured Eye</th>\n      <th>Pupil radius</th>\n      <th>X_gaze</th>\n      <th>Y_gaze</th>\n      <th>is Blink</th>\n      <th>is Fixation</th>\n      <th>Distance</th>\n      <th>DVA</th>\n      <th>series_id</th>\n    </tr>\n  </thead>\n  <tbody>\n    <tr>\n      <th>0</th>\n      <td>AM45</td>\n      <td>Session A</td>\n      <td>mov1</td>\n      <td>-4.0</td>\n      <td>468</td>\n      <td>BOTH</td>\n      <td>4942.0</td>\n      <td>1077.50</td>\n      <td>1057.00</td>\n      <td>True</td>\n      <td>False</td>\n      <td>1090.056535</td>\n      <td>18.845310</td>\n      <td>460</td>\n    </tr>\n    <tr>\n      <th>1</th>\n      <td>AM45</td>\n      <td>Session A</td>\n      <td>mov1</td>\n      <td>-4.0</td>\n      <td>470</td>\n      <td>BOTH</td>\n      <td>5111.5</td>\n      <td>1081.75</td>\n      <td>996.75</td>\n      <td>True</td>\n      <td>False</td>\n      <td>1047.103445</td>\n      <td>18.078720</td>\n      <td>460</td>\n    </tr>\n    <tr>\n      <th>2</th>\n      <td>AM45</td>\n      <td>Session A</td>\n      <td>mov1</td>\n      <td>-4.0</td>\n      <td>472</td>\n      <td>BOTH</td>\n      <td>5262.0</td>\n      <td>1085.75</td>\n      <td>941.25</td>\n      <td>True</td>\n      <td>False</td>\n      <td>1009.178193</td>\n      <td>17.400632</td>\n      <td>460</td>\n    </tr>\n    <tr>\n      <th>3</th>\n      <td>AM45</td>\n      <td>Session A</td>\n      <td>mov1</td>\n      <td>-4.0</td>\n      <td>474</td>\n      <td>BOTH</td>\n      <td>5405.5</td>\n      <td>1088.00</td>\n      <td>889.00</td>\n      <td>True</td>\n      <td>False</td>\n      <td>973.932749</td>\n      <td>16.770714</td>\n      <td>460</td>\n    </tr>\n    <tr>\n      <th>4</th>\n      <td>AM45</td>\n      <td>Session A</td>\n      <td>mov1</td>\n      <td>-4.0</td>\n      <td>476</td>\n      <td>BOTH</td>\n      <td>5543.0</td>\n      <td>1085.25</td>\n      <td>841.25</td>\n      <td>True</td>\n      <td>False</td>\n      <td>939.515367</td>\n      <td>16.159015</td>\n      <td>460</td>\n    </tr>\n    <tr>\n      <th>...</th>\n      <td>...</td>\n      <td>...</td>\n      <td>...</td>\n      <td>...</td>\n      <td>...</td>\n      <td>...</td>\n      <td>...</td>\n      <td>...</td>\n      <td>...</td>\n      <td>...</td>\n      <td>...</td>\n      <td>...</td>\n      <td>...</td>\n      <td>...</td>\n    </tr>\n    <tr>\n      <th>6192400</th>\n      <td>ZN05</td>\n      <td>Session B</td>\n      <td>mov9</td>\n      <td>4.0</td>\n      <td>5990</td>\n      <td>RIGHT</td>\n      <td>5225.0</td>\n      <td>1002.00</td>\n      <td>168.00</td>\n      <td>False</td>\n      <td>True</td>\n      <td>966.786947</td>\n      <td>13.690241</td>\n      <td>834</td>\n    </tr>\n    <tr>\n      <th>6192401</th>\n      <td>ZN05</td>\n      <td>Session B</td>\n      <td>mov9</td>\n      <td>4.0</td>\n      <td>5992</td>\n      <td>RIGHT</td>\n      <td>5230.0</td>\n      <td>1002.60</td>\n      <td>168.00</td>\n      <td>False</td>\n      <td>True</td>\n      <td>966.215380</td>\n      <td>13.682199</td>\n      <td>834</td>\n    </tr>\n    <tr>\n      <th>6192402</th>\n      <td>ZN05</td>\n      <td>Session B</td>\n      <td>mov9</td>\n      <td>4.0</td>\n      <td>5994</td>\n      <td>RIGHT</td>\n      <td>5231.0</td>\n      <td>1003.20</td>\n      <td>168.00</td>\n      <td>False</td>\n      <td>True</td>\n      <td>965.643847</td>\n      <td>13.674159</td>\n      <td>834</td>\n    </tr>\n    <tr>\n      <th>6192403</th>\n      <td>ZN05</td>\n      <td>Session B</td>\n      <td>mov9</td>\n      <td>4.0</td>\n      <td>5996</td>\n      <td>RIGHT</td>\n      <td>5228.0</td>\n      <td>1003.20</td>\n      <td>168.00</td>\n      <td>False</td>\n      <td>True</td>\n      <td>965.643847</td>\n      <td>13.674159</td>\n      <td>834</td>\n    </tr>\n    <tr>\n      <th>6192404</th>\n      <td>ZN05</td>\n      <td>Session B</td>\n      <td>mov9</td>\n      <td>4.0</td>\n      <td>5998</td>\n      <td>RIGHT</td>\n      <td>5227.0</td>\n      <td>1002.60</td>\n      <td>168.00</td>\n      <td>False</td>\n      <td>True</td>\n      <td>966.215380</td>\n      <td>13.682199</td>\n      <td>834</td>\n    </tr>\n  </tbody>\n</table>\n<p>6192405 rows × 14 columns</p>\n</div>"
     },
     "execution_count": 8,
     "metadata": {},
     "output_type": "execute_result"
    }
   ],
   "source": [
    "new_df = df.merge(series_id_df, on = [config.SUBJECT, config.MOVIE])\n",
    "new_df"
   ],
   "metadata": {
    "collapsed": false
   }
  },
  {
   "cell_type": "code",
   "execution_count": 9,
   "outputs": [
    {
     "name": "stderr",
     "output_type": "stream",
     "text": [
      "C:\\Users\\user\\AppData\\Local\\Temp/ipykernel_25396/2524482158.py:2: SettingWithCopyWarning: \n",
      "A value is trying to be set on a copy of a slice from a DataFrame.\n",
      "Try using .loc[row_indexer,col_indexer] = value instead\n",
      "\n",
      "See the caveats in the documentation: https://pandas.pydata.org/pandas-docs/stable/user_guide/indexing.html#returning-a-view-versus-a-copy\n",
      "  df[config.SESSION] = (df[config.SESSION] == config.SESSION_B).astype(int)\n"
     ]
    },
    {
     "data": {
      "text/plain": "         series_id  TimeStamp   X_gaze   Y_gaze  Pupil radius        DVA  \\\n0              460        468  1077.50  1057.00        4942.0  18.845310   \n1              460        470  1081.75   996.75        5111.5  18.078720   \n2              460        472  1085.75   941.25        5262.0  17.400632   \n3              460        474  1088.00   889.00        5405.5  16.770714   \n4              460        476  1085.25   841.25        5543.0  16.159015   \n...            ...        ...      ...      ...           ...        ...   \n6192400        834       5990  1002.00   168.00        5225.0  13.690241   \n6192401        834       5992  1002.60   168.00        5230.0  13.682199   \n6192402        834       5994  1003.20   168.00        5231.0  13.674159   \n6192403        834       5996  1003.20   168.00        5228.0  13.674159   \n6192404        834       5998  1002.60   168.00        5227.0  13.682199   \n\n         Session  \n0              0  \n1              0  \n2              0  \n3              0  \n4              0  \n...          ...  \n6192400        1  \n6192401        1  \n6192402        1  \n6192403        1  \n6192404        1  \n\n[6192405 rows x 7 columns]",
      "text/html": "<div>\n<style scoped>\n    .dataframe tbody tr th:only-of-type {\n        vertical-align: middle;\n    }\n\n    .dataframe tbody tr th {\n        vertical-align: top;\n    }\n\n    .dataframe thead th {\n        text-align: right;\n    }\n</style>\n<table border=\"1\" class=\"dataframe\">\n  <thead>\n    <tr style=\"text-align: right;\">\n      <th></th>\n      <th>series_id</th>\n      <th>TimeStamp</th>\n      <th>X_gaze</th>\n      <th>Y_gaze</th>\n      <th>Pupil radius</th>\n      <th>DVA</th>\n      <th>Session</th>\n    </tr>\n  </thead>\n  <tbody>\n    <tr>\n      <th>0</th>\n      <td>460</td>\n      <td>468</td>\n      <td>1077.50</td>\n      <td>1057.00</td>\n      <td>4942.0</td>\n      <td>18.845310</td>\n      <td>0</td>\n    </tr>\n    <tr>\n      <th>1</th>\n      <td>460</td>\n      <td>470</td>\n      <td>1081.75</td>\n      <td>996.75</td>\n      <td>5111.5</td>\n      <td>18.078720</td>\n      <td>0</td>\n    </tr>\n    <tr>\n      <th>2</th>\n      <td>460</td>\n      <td>472</td>\n      <td>1085.75</td>\n      <td>941.25</td>\n      <td>5262.0</td>\n      <td>17.400632</td>\n      <td>0</td>\n    </tr>\n    <tr>\n      <th>3</th>\n      <td>460</td>\n      <td>474</td>\n      <td>1088.00</td>\n      <td>889.00</td>\n      <td>5405.5</td>\n      <td>16.770714</td>\n      <td>0</td>\n    </tr>\n    <tr>\n      <th>4</th>\n      <td>460</td>\n      <td>476</td>\n      <td>1085.25</td>\n      <td>841.25</td>\n      <td>5543.0</td>\n      <td>16.159015</td>\n      <td>0</td>\n    </tr>\n    <tr>\n      <th>...</th>\n      <td>...</td>\n      <td>...</td>\n      <td>...</td>\n      <td>...</td>\n      <td>...</td>\n      <td>...</td>\n      <td>...</td>\n    </tr>\n    <tr>\n      <th>6192400</th>\n      <td>834</td>\n      <td>5990</td>\n      <td>1002.00</td>\n      <td>168.00</td>\n      <td>5225.0</td>\n      <td>13.690241</td>\n      <td>1</td>\n    </tr>\n    <tr>\n      <th>6192401</th>\n      <td>834</td>\n      <td>5992</td>\n      <td>1002.60</td>\n      <td>168.00</td>\n      <td>5230.0</td>\n      <td>13.682199</td>\n      <td>1</td>\n    </tr>\n    <tr>\n      <th>6192402</th>\n      <td>834</td>\n      <td>5994</td>\n      <td>1003.20</td>\n      <td>168.00</td>\n      <td>5231.0</td>\n      <td>13.674159</td>\n      <td>1</td>\n    </tr>\n    <tr>\n      <th>6192403</th>\n      <td>834</td>\n      <td>5996</td>\n      <td>1003.20</td>\n      <td>168.00</td>\n      <td>5228.0</td>\n      <td>13.674159</td>\n      <td>1</td>\n    </tr>\n    <tr>\n      <th>6192404</th>\n      <td>834</td>\n      <td>5998</td>\n      <td>1002.60</td>\n      <td>168.00</td>\n      <td>5227.0</td>\n      <td>13.682199</td>\n      <td>1</td>\n    </tr>\n  </tbody>\n</table>\n<p>6192405 rows × 7 columns</p>\n</div>"
     },
     "execution_count": 9,
     "metadata": {},
     "output_type": "execute_result"
    }
   ],
   "source": [
    "df = new_df[['series_id', config.TIMESTAMP, config.gaze_X, config.gaze_Y, config.PUPIL, config.DVA, config.SESSION]]\n",
    "df[config.SESSION] = (df[config.SESSION] == config.SESSION_B).astype(int)\n",
    "df"
   ],
   "metadata": {
    "collapsed": false
   }
  },
  {
   "cell_type": "code",
   "execution_count": 10,
   "outputs": [],
   "source": [
    "df.to_pickle(config.POPULATION+\"_series_df.pkl\")"
   ],
   "metadata": {
    "collapsed": false
   }
  }
 ],
 "metadata": {
  "kernelspec": {
   "display_name": "Python 3",
   "language": "python",
   "name": "python3"
  },
  "language_info": {
   "codemirror_mode": {
    "name": "ipython",
    "version": 2
   },
   "file_extension": ".py",
   "mimetype": "text/x-python",
   "name": "python",
   "nbconvert_exporter": "python",
   "pygments_lexer": "ipython2",
   "version": "2.7.6"
  }
 },
 "nbformat": 4,
 "nbformat_minor": 0
}
