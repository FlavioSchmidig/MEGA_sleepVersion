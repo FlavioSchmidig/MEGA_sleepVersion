{
 "cells": [
  {
   "cell_type": "code",
   "execution_count": 2,
   "metadata": {
    "collapsed": true,
    "ExecuteTime": {
     "end_time": "2023-06-06T12:56:16.717786Z",
     "start_time": "2023-06-06T12:56:16.505321400Z"
    }
   },
   "outputs": [],
   "source": [
    "import pandas as pd\n",
    "from matplotlib import pyplot as plt\n",
    "import numpy as np\n",
    "from sklearn.decomposition import PCA\n",
    "import os\n",
    "from src import config"
   ]
  },
  {
   "cell_type": "code",
   "execution_count": 3,
   "outputs": [],
   "source": [
    "features_df = pd.read_pickle(os.path.join(config.classification_resource_dir, \"features_df.pkl\"))\n",
    "labels_df = pd.read_pickle(os.path.join(config.classification_resource_dir, \"labels_df.pkl\"))"
   ],
   "metadata": {
    "collapsed": false,
    "ExecuteTime": {
     "end_time": "2023-06-06T12:56:16.879392600Z",
     "start_time": "2023-06-06T12:56:16.517288200Z"
    }
   }
  },
  {
   "cell_type": "code",
   "execution_count": 4,
   "outputs": [],
   "source": [
    "# filter out the features that contains the substring 'Post'\n",
    "# features_df = features_df.loc[:, ~features_df.columns.str.contains('Post')]"
   ],
   "metadata": {
    "collapsed": false,
    "ExecuteTime": {
     "end_time": "2023-06-06T12:56:16.902331200Z",
     "start_time": "2023-06-06T12:56:16.532248500Z"
    }
   }
  },
  {
   "cell_type": "code",
   "execution_count": 5,
   "outputs": [
    {
     "data": {
      "text/plain": "     Session  Gaze_Counts_In_RoI_Pre  Gaze_Counts_In_RoI_Post  \\\n0  Session B                       0                      824   \n1  Session B                       0                      180   \n2  Session B                     410                      626   \n3  Session B                    1528                     2204   \n4  Session B                     404                     1723   \n\n   Gaze_Counts_Out_RoI_Pre  Gaze_Counts_Out_RoI_Post  \\\n0                     3233                      1519   \n1                     2793                      2175   \n2                     2553                       499   \n3                     2869                       211   \n4                     2675                      1354   \n\n   Gaze_In\\out_RoI_Ratio_Pre  Gaze_In\\out_RoI_Ratio_Post  \\\n0                   0.000000                    0.542462   \n1                   0.000000                    0.082759   \n2                   0.160595                    1.254509   \n3                   0.532590                   10.445498   \n4                   0.151028                    1.272526   \n\n   Gaze_Re_Entries_To_RoI_Count_Pre  Gaze_Re_Entries_To_RoI_Count_Post  \\\n0                                 0                                  2   \n1                                 0                                  1   \n2                                 4                                 11   \n3                                 7                                  3   \n4                                 2                                  6   \n\n   Gaze_Re_Entries_To_RoI_Rate_Pre  ...  DVA_Max_Gaze_Post  DVA_Min_Gaze_Post  \\\n0                         0.000000  ...          29.269375           1.374307   \n1                         0.000000  ...          31.482871           5.488468   \n2                         0.657570  ...          20.492683           1.386197   \n3                         0.756757  ...          14.453083           0.544839   \n4                         0.320000  ...          12.084075           0.335563   \n\n   DVA_Mean_Fixations_Pre  DVA_Std_Fixations_Pre  DVA_Max_Fixations_Pre  \\\n0               20.688776               5.371169              28.025879   \n1               25.109906               4.940303              31.112558   \n2               15.411616               7.234109              24.488889   \n3                8.251771               4.371875              16.652556   \n4               11.280768               5.542903              19.881704   \n\n   DVA_Min_Fixations_Pre  DVA_Mean_Fixations_Post  DVA_Std_Fixations_Post  \\\n0               8.212250                15.874513                8.388128   \n1              16.151324                18.737548                8.010507   \n2               1.478562                 8.018283                8.359753   \n3               1.448095                 2.443365                1.195681   \n4               0.544214                 4.336466                3.576194   \n\n   DVA_Max_Fixations_Post  DVA_Min_Fixations_Post  \n0               23.692208                3.101723  \n1               31.315954                6.633146  \n2               20.464611                3.133708  \n3                4.389356                0.985724  \n4               11.462437                0.834279  \n\n[5 rows x 117 columns]",
      "text/html": "<div>\n<style scoped>\n    .dataframe tbody tr th:only-of-type {\n        vertical-align: middle;\n    }\n\n    .dataframe tbody tr th {\n        vertical-align: top;\n    }\n\n    .dataframe thead th {\n        text-align: right;\n    }\n</style>\n<table border=\"1\" class=\"dataframe\">\n  <thead>\n    <tr style=\"text-align: right;\">\n      <th></th>\n      <th>Session</th>\n      <th>Gaze_Counts_In_RoI_Pre</th>\n      <th>Gaze_Counts_In_RoI_Post</th>\n      <th>Gaze_Counts_Out_RoI_Pre</th>\n      <th>Gaze_Counts_Out_RoI_Post</th>\n      <th>Gaze_In\\out_RoI_Ratio_Pre</th>\n      <th>Gaze_In\\out_RoI_Ratio_Post</th>\n      <th>Gaze_Re_Entries_To_RoI_Count_Pre</th>\n      <th>Gaze_Re_Entries_To_RoI_Count_Post</th>\n      <th>Gaze_Re_Entries_To_RoI_Rate_Pre</th>\n      <th>...</th>\n      <th>DVA_Max_Gaze_Post</th>\n      <th>DVA_Min_Gaze_Post</th>\n      <th>DVA_Mean_Fixations_Pre</th>\n      <th>DVA_Std_Fixations_Pre</th>\n      <th>DVA_Max_Fixations_Pre</th>\n      <th>DVA_Min_Fixations_Pre</th>\n      <th>DVA_Mean_Fixations_Post</th>\n      <th>DVA_Std_Fixations_Post</th>\n      <th>DVA_Max_Fixations_Post</th>\n      <th>DVA_Min_Fixations_Post</th>\n    </tr>\n  </thead>\n  <tbody>\n    <tr>\n      <th>0</th>\n      <td>Session B</td>\n      <td>0</td>\n      <td>824</td>\n      <td>3233</td>\n      <td>1519</td>\n      <td>0.000000</td>\n      <td>0.542462</td>\n      <td>0</td>\n      <td>2</td>\n      <td>0.000000</td>\n      <td>...</td>\n      <td>29.269375</td>\n      <td>1.374307</td>\n      <td>20.688776</td>\n      <td>5.371169</td>\n      <td>28.025879</td>\n      <td>8.212250</td>\n      <td>15.874513</td>\n      <td>8.388128</td>\n      <td>23.692208</td>\n      <td>3.101723</td>\n    </tr>\n    <tr>\n      <th>1</th>\n      <td>Session B</td>\n      <td>0</td>\n      <td>180</td>\n      <td>2793</td>\n      <td>2175</td>\n      <td>0.000000</td>\n      <td>0.082759</td>\n      <td>0</td>\n      <td>1</td>\n      <td>0.000000</td>\n      <td>...</td>\n      <td>31.482871</td>\n      <td>5.488468</td>\n      <td>25.109906</td>\n      <td>4.940303</td>\n      <td>31.112558</td>\n      <td>16.151324</td>\n      <td>18.737548</td>\n      <td>8.010507</td>\n      <td>31.315954</td>\n      <td>6.633146</td>\n    </tr>\n    <tr>\n      <th>2</th>\n      <td>Session B</td>\n      <td>410</td>\n      <td>626</td>\n      <td>2553</td>\n      <td>499</td>\n      <td>0.160595</td>\n      <td>1.254509</td>\n      <td>4</td>\n      <td>11</td>\n      <td>0.657570</td>\n      <td>...</td>\n      <td>20.492683</td>\n      <td>1.386197</td>\n      <td>15.411616</td>\n      <td>7.234109</td>\n      <td>24.488889</td>\n      <td>1.478562</td>\n      <td>8.018283</td>\n      <td>8.359753</td>\n      <td>20.464611</td>\n      <td>3.133708</td>\n    </tr>\n    <tr>\n      <th>3</th>\n      <td>Session B</td>\n      <td>1528</td>\n      <td>2204</td>\n      <td>2869</td>\n      <td>211</td>\n      <td>0.532590</td>\n      <td>10.445498</td>\n      <td>7</td>\n      <td>3</td>\n      <td>0.756757</td>\n      <td>...</td>\n      <td>14.453083</td>\n      <td>0.544839</td>\n      <td>8.251771</td>\n      <td>4.371875</td>\n      <td>16.652556</td>\n      <td>1.448095</td>\n      <td>2.443365</td>\n      <td>1.195681</td>\n      <td>4.389356</td>\n      <td>0.985724</td>\n    </tr>\n    <tr>\n      <th>4</th>\n      <td>Session B</td>\n      <td>404</td>\n      <td>1723</td>\n      <td>2675</td>\n      <td>1354</td>\n      <td>0.151028</td>\n      <td>1.272526</td>\n      <td>2</td>\n      <td>6</td>\n      <td>0.320000</td>\n      <td>...</td>\n      <td>12.084075</td>\n      <td>0.335563</td>\n      <td>11.280768</td>\n      <td>5.542903</td>\n      <td>19.881704</td>\n      <td>0.544214</td>\n      <td>4.336466</td>\n      <td>3.576194</td>\n      <td>11.462437</td>\n      <td>0.834279</td>\n    </tr>\n  </tbody>\n</table>\n<p>5 rows × 117 columns</p>\n</div>"
     },
     "execution_count": 5,
     "metadata": {},
     "output_type": "execute_result"
    }
   ],
   "source": [
    "features_df.head()"
   ],
   "metadata": {
    "collapsed": false,
    "ExecuteTime": {
     "end_time": "2023-06-06T12:56:16.922278500Z",
     "start_time": "2023-06-06T12:56:16.550206100Z"
    }
   }
  },
  {
   "cell_type": "code",
   "execution_count": 6,
   "outputs": [],
   "source": [
    "# Drop column Session\n",
    "features_df = features_df.drop(columns=['Session'])"
   ],
   "metadata": {
    "collapsed": false,
    "ExecuteTime": {
     "end_time": "2023-06-06T12:56:16.930257400Z",
     "start_time": "2023-06-06T12:56:16.566674100Z"
    }
   }
  },
  {
   "cell_type": "code",
   "execution_count": 7,
   "outputs": [
    {
     "name": "stdout",
     "output_type": "stream",
     "text": [
      "<class 'pandas.core.frame.DataFrame'>\n",
      "RangeIndex: 780 entries, 0 to 779\n",
      "Columns: 116 entries, Gaze_Counts_In_RoI_Pre to DVA_Min_Fixations_Post\n",
      "dtypes: float64(107), int32(9)\n",
      "memory usage: 679.6 KB\n"
     ]
    }
   ],
   "source": [
    "features_df.info()"
   ],
   "metadata": {
    "collapsed": false,
    "ExecuteTime": {
     "end_time": "2023-06-06T12:56:16.933250Z",
     "start_time": "2023-06-06T12:56:16.586619600Z"
    }
   }
  },
  {
   "cell_type": "markdown",
   "source": [],
   "metadata": {
    "collapsed": false
   }
  },
  {
   "cell_type": "code",
   "execution_count": 8,
   "outputs": [
    {
     "data": {
      "text/plain": "           mem\nseries_id     \n0            1\n1            1\n2            1\n3            1\n4            1",
      "text/html": "<div>\n<style scoped>\n    .dataframe tbody tr th:only-of-type {\n        vertical-align: middle;\n    }\n\n    .dataframe tbody tr th {\n        vertical-align: top;\n    }\n\n    .dataframe thead th {\n        text-align: right;\n    }\n</style>\n<table border=\"1\" class=\"dataframe\">\n  <thead>\n    <tr style=\"text-align: right;\">\n      <th></th>\n      <th>mem</th>\n    </tr>\n    <tr>\n      <th>series_id</th>\n      <th></th>\n    </tr>\n  </thead>\n  <tbody>\n    <tr>\n      <th>0</th>\n      <td>1</td>\n    </tr>\n    <tr>\n      <th>1</th>\n      <td>1</td>\n    </tr>\n    <tr>\n      <th>2</th>\n      <td>1</td>\n    </tr>\n    <tr>\n      <th>3</th>\n      <td>1</td>\n    </tr>\n    <tr>\n      <th>4</th>\n      <td>1</td>\n    </tr>\n  </tbody>\n</table>\n</div>"
     },
     "execution_count": 8,
     "metadata": {},
     "output_type": "execute_result"
    }
   ],
   "source": [
    "labels_df.head()"
   ],
   "metadata": {
    "collapsed": false,
    "ExecuteTime": {
     "end_time": "2023-06-06T12:56:16.948213200Z",
     "start_time": "2023-06-06T12:56:16.597590Z"
    }
   }
  },
  {
   "cell_type": "code",
   "execution_count": 9,
   "outputs": [
    {
     "name": "stdout",
     "output_type": "stream",
     "text": [
      "<class 'pandas.core.frame.DataFrame'>\n",
      "Int64Index: 780 entries, 0 to 779\n",
      "Data columns (total 1 columns):\n",
      " #   Column  Non-Null Count  Dtype\n",
      "---  ------  --------------  -----\n",
      " 0   mem     780 non-null    int64\n",
      "dtypes: int64(1)\n",
      "memory usage: 12.2 KB\n"
     ]
    }
   ],
   "source": [
    "labels_df.info()"
   ],
   "metadata": {
    "collapsed": false,
    "ExecuteTime": {
     "end_time": "2023-06-06T12:56:16.961180500Z",
     "start_time": "2023-06-06T12:56:16.614545700Z"
    }
   }
  },
  {
   "cell_type": "markdown",
   "source": [
    "Data Cleaning"
   ],
   "metadata": {
    "collapsed": false
   },
   "outputs": []
  },
  {
   "cell_type": "markdown",
   "source": [
    "how many missing values are there in each column? show the top 10"
   ],
   "metadata": {
    "collapsed": false
   }
  },
  {
   "cell_type": "code",
   "execution_count": 10,
   "outputs": [
    {
     "data": {
      "text/plain": "Pupil radius_Fixations_First_Diff_Pre            182\nPupil radius_Fixations_First_Diff_Post           182\nPupil radius_Fixations_ReEntry_Mean_Diff_Pre     182\nPupil radius_Fixations_ReEntry_Mean_Diff_Post    182\nonset_Std_Saccades_Start_In_RoI_Post             129\nDuration_Max_Saccades_Start_In_RoI_Pre           129\nonset_Max_Saccades_Start_In_RoI_Pre              129\nvis_angle_Max_Saccades_Start_In_RoI_Pre          129\npeak_velocity_Max_Saccades_Start_In_RoI_Pre      129\nonset_Min_Saccades_Start_In_RoI_Pre              129\nDuration_Min_Saccades_Start_In_RoI_Pre           129\npeak_velocity_Min_Saccades_Start_In_RoI_Pre      129\nvis_angle_Min_Saccades_Start_In_RoI_Pre          129\nonset_Max_Saccades_Start_In_RoI_Post             129\nDuration_Max_Saccades_Start_In_RoI_Post          129\nvis_angle_Max_Saccades_Start_In_RoI_Post         129\npeak_velocity_Max_Saccades_Start_In_RoI_Post     129\nonset_Min_Saccades_Start_In_RoI_Post             129\nDuration_Min_Saccades_Start_In_RoI_Post          129\nvis_angle_Min_Saccades_Start_In_RoI_Post         129\npeak_velocity_Min_Saccades_Start_In_RoI_Post     129\nonset_Std_Saccades_Start_In_RoI_Pre              129\nonset_Mean_Saccades_Start_In_RoI_Pre             129\nonset_Mean_Saccades_Start_In_RoI_Post            129\nonset_Min_Fixations_In_RoI_Post                  117\nDuration_Max_Fixations_In_RoI_Post               117\nonset_Std_Fixations_In_RoI_Pre                   117\nDuration_Min_Fixations_In_RoI_Post               117\nonset_Std_Fixations_In_RoI_Post                  117\nonset_Max_Fixations_In_RoI_Post                  117\nonset_Fixations_First_In_RoI_Post                117\nonset_Mean_Fixations_In_RoI_Post                 117\nDuration_Min_Fixations_In_RoI_Pre                117\nonset_Min_Fixations_In_RoI_Pre                   117\nDuration_Max_Fixations_In_RoI_Pre                117\nonset_Max_Fixations_In_RoI_Pre                   117\nonset_Mean_Fixations_In_RoI_Pre                  117\nDuration_Fixations_First_In_RoI_Post             117\nDuration_Fixations_First_In_RoI_Pre              117\nonset_Fixations_First_In_RoI_Pre                 117\nlast_onset_Saccades_End_First_In_RoI_Post         99\nvis_angle_Max_Saccades_End_In_RoI_Pre             99\npeak_velocity_Saccades_End_First_In_RoI_Pre       99\nvis_angle_Saccades_End_First_In_RoI_Pre           99\nDuration_Saccades_End_First_In_RoI_Post           99\nvis_angle_Saccades_End_First_In_RoI_Post          99\npeak_velocity_Saccades_End_First_In_RoI_Post      99\nlast_onset_Saccades_End_First_In_RoI_Pre          99\nlast_onset_Mean_Saccades_End_In_RoI_Pre           99\nlast_onset_Std_Saccades_End_In_RoI_Pre            99\ndtype: int64"
     },
     "execution_count": 10,
     "metadata": {},
     "output_type": "execute_result"
    }
   ],
   "source": [
    "features_df.isna().sum(axis=0).sort_values(ascending=False).head(50)"
   ],
   "metadata": {
    "collapsed": false,
    "ExecuteTime": {
     "end_time": "2023-06-06T12:56:16.966682600Z",
     "start_time": "2023-06-06T12:56:16.625516100Z"
    }
   }
  },
  {
   "cell_type": "markdown",
   "source": [
    "Remove columns with more than 20% missing values"
   ],
   "metadata": {
    "collapsed": false
   }
  },
  {
   "cell_type": "code",
   "execution_count": 11,
   "outputs": [],
   "source": [
    "features_df = features_df.loc[:, features_df.isna().sum(axis=0) < 0.2 * features_df.shape[0]]"
   ],
   "metadata": {
    "collapsed": false,
    "ExecuteTime": {
     "end_time": "2023-06-06T12:56:16.980644900Z",
     "start_time": "2023-06-06T12:56:16.642471500Z"
    }
   }
  },
  {
   "cell_type": "code",
   "execution_count": 12,
   "outputs": [
    {
     "data": {
      "text/plain": "onset_Mean_Saccades_Start_In_RoI_Pre           129\nonset_Max_Saccades_Start_In_RoI_Post           129\nDuration_Max_Saccades_Start_In_RoI_Pre         129\nvis_angle_Max_Saccades_Start_In_RoI_Pre        129\npeak_velocity_Max_Saccades_Start_In_RoI_Pre    129\nonset_Min_Saccades_Start_In_RoI_Pre            129\nDuration_Min_Saccades_Start_In_RoI_Pre         129\nvis_angle_Min_Saccades_Start_In_RoI_Pre        129\nonset_Mean_Saccades_Start_In_RoI_Post          129\nonset_Std_Saccades_Start_In_RoI_Post           129\ndtype: int64"
     },
     "execution_count": 12,
     "metadata": {},
     "output_type": "execute_result"
    }
   ],
   "source": [
    "features_df.isna().sum(axis=0).sort_values(ascending=False).head(10)"
   ],
   "metadata": {
    "collapsed": false,
    "ExecuteTime": {
     "end_time": "2023-06-06T12:56:16.984636800Z",
     "start_time": "2023-06-06T12:56:16.658432900Z"
    }
   }
  },
  {
   "cell_type": "markdown",
   "source": [
    "how many missing values are there in each row? show the top 10"
   ],
   "metadata": {
    "collapsed": false
   }
  },
  {
   "cell_type": "code",
   "execution_count": 13,
   "outputs": [
    {
     "data": {
      "text/plain": "153    65\n581    65\n430    64\n600    64\n712    64\n621    64\n194    64\n620    64\n196    64\n203    64\ndtype: int64"
     },
     "execution_count": 13,
     "metadata": {},
     "output_type": "execute_result"
    }
   ],
   "source": [
    "features_df.isna().sum(axis=1).sort_values(ascending=False).head(10)"
   ],
   "metadata": {
    "collapsed": false,
    "ExecuteTime": {
     "end_time": "2023-06-06T12:56:16.986632500Z",
     "start_time": "2023-06-06T12:56:16.673903600Z"
    }
   }
  },
  {
   "cell_type": "markdown",
   "source": [
    "Remove rows with more than 50% missing values"
   ],
   "metadata": {
    "collapsed": false
   }
  },
  {
   "cell_type": "code",
   "execution_count": 14,
   "outputs": [
    {
     "data": {
      "text/plain": "153    65\n581    65\n430    64\n600    64\n712    64\n621    64\n194    64\n620    64\n196    64\n203    64\ndtype: int64"
     },
     "execution_count": 14,
     "metadata": {},
     "output_type": "execute_result"
    }
   ],
   "source": [
    "features_df = features_df.loc[features_df.isna().sum(axis=1) < 0.8 * features_df.shape[1], :]\n",
    "features_df.isna().sum(axis=1).sort_values(ascending=False).head(10)"
   ],
   "metadata": {
    "collapsed": false,
    "ExecuteTime": {
     "end_time": "2023-06-06T12:56:16.987633200Z",
     "start_time": "2023-06-06T12:56:16.690859100Z"
    }
   }
  },
  {
   "cell_type": "markdown",
   "source": [
    "Fill missing values with the mean of the column"
   ],
   "metadata": {
    "collapsed": false
   }
  },
  {
   "cell_type": "code",
   "execution_count": 15,
   "outputs": [],
   "source": [
    "features_df = features_df.fillna(features_df.mean()) # fill missing values with the mean of the column or zero ? features_df.mean()"
   ],
   "metadata": {
    "collapsed": false,
    "ExecuteTime": {
     "end_time": "2023-06-06T12:56:16.989621300Z",
     "start_time": "2023-06-06T12:56:16.706815600Z"
    }
   }
  },
  {
   "cell_type": "markdown",
   "source": [
    "Train/Test Split (before any preprocessing is done)"
   ],
   "metadata": {
    "collapsed": false
   },
   "outputs": []
  },
  {
   "cell_type": "code",
   "execution_count": 16,
   "outputs": [],
   "source": [
    "series_id_df = pd.read_pickle(os.path.join(config.classification_resource_dir, \"series_id_df.pkl\"))\n",
    "#\n",
    "# # Create a list of unique subject IDs\n",
    "# subject_ids = series_id_df[config.SUBJECT].unique()\n",
    "#\n",
    "# # Shuffle the list of subject IDs randomly\n",
    "# random = np.random\n",
    "# random.seed(1)\n",
    "# random.shuffle(subject_ids)\n",
    "#\n",
    "# # Split the list of subject IDs into two parts\n",
    "# train_subject_ids = subject_ids[:int(len(subject_ids)*0.9)]\n",
    "# test_subject_ids = subject_ids[int(len(subject_ids)*0.9):]\n",
    "#\n",
    "# # Subset the data based on the split list of subject IDs\n",
    "# train_data = series_id_df[series_id_df[config.SUBJECT].isin(train_subject_ids)]\n",
    "# test_data = series_id_df[series_id_df[config.SUBJECT].isin(test_subject_ids)]\n",
    "#\n",
    "# X_train = features_df[features_df.index.isin(train_data.index)]\n",
    "# X_test = features_df[features_df.index.isin(test_data.index)]\n",
    "# y_train = labels_df[labels_df.index.isin(train_data.index)]\n",
    "# y_test = labels_df[labels_df.index.isin(test_data.index)]"
   ],
   "metadata": {
    "collapsed": false,
    "ExecuteTime": {
     "end_time": "2023-06-06T12:56:16.989621300Z",
     "start_time": "2023-06-06T12:56:16.734740800Z"
    }
   }
  },
  {
   "cell_type": "code",
   "execution_count": 17,
   "outputs": [
    {
     "name": "stdout",
     "output_type": "stream",
     "text": [
      "Features shape: (780, 112)\n",
      "Labels shape: (780,)\n"
     ]
    }
   ],
   "source": [
    "print('Features shape:', features_df.shape)\n",
    "print('Labels shape:', labels_df['mem'].shape)"
   ],
   "metadata": {
    "collapsed": false,
    "ExecuteTime": {
     "end_time": "2023-06-06T12:56:16.989621300Z",
     "start_time": "2023-06-06T12:56:16.751708400Z"
    }
   }
  },
  {
   "cell_type": "code",
   "execution_count": 18,
   "outputs": [],
   "source": [
    "from sklearn.model_selection import train_test_split\n",
    "\n",
    "X_train, X_test, y_train, y_test = train_test_split(features_df,\n",
    "                                                    labels_df['mem'],\n",
    "                                                    random_state=420,\n",
    "                                                    test_size=0.2)"
   ],
   "metadata": {
    "collapsed": false,
    "ExecuteTime": {
     "end_time": "2023-06-06T12:56:16.989621300Z",
     "start_time": "2023-06-06T12:56:16.767177200Z"
    }
   }
  },
  {
   "cell_type": "markdown",
   "source": [],
   "metadata": {
    "collapsed": false
   }
  },
  {
   "cell_type": "code",
   "execution_count": 19,
   "outputs": [
    {
     "data": {
      "text/plain": "     Gaze_Counts_In_RoI_Pre  Gaze_Counts_In_RoI_Post  Gaze_Counts_Out_RoI_Pre  \\\n148                     412                      483                     2508   \n596                    1773                      175                     2053   \n358                       0                        0                     2639   \n228                       8                      605                     3878   \n243                     702                     1718                     3691   \n\n     Gaze_Counts_Out_RoI_Post  Gaze_In\\out_RoI_Ratio_Pre  \\\n148                      1122                   0.164274   \n596                      1429                   0.863614   \n358                       933                   0.000000   \n228                      1281                   0.002063   \n243                         8                   0.190192   \n\n     Gaze_In\\out_RoI_Ratio_Post  Gaze_Re_Entries_To_RoI_Count_Pre  \\\n148                    0.430481                                 2   \n596                    0.122463                                 6   \n358                    0.000000                                 0   \n228                    0.472287                                 1   \n243                  214.750000                                 2   \n\n     Gaze_Re_Entries_To_RoI_Count_Post  Gaze_Re_Entries_To_RoI_Rate_Pre  \\\n148                                  1                         0.331071   \n596                                  1                         0.742299   \n358                                  0                         0.000000   \n228                                  5                         0.122459   \n243                                  1                         0.223264   \n\n     Gaze_Re_Entries_To_RoI_Rate_Post  ...  DVA_Max_Gaze_Post  \\\n148                          0.428449  ...          19.550319   \n596                          0.420994  ...          16.461037   \n358                          0.000000  ...          25.564315   \n228                          1.034340  ...          32.465925   \n243                          0.393391  ...           6.913571   \n\n     DVA_Min_Gaze_Post  DVA_Mean_Fixations_Pre  DVA_Std_Fixations_Pre  \\\n148           0.196086               11.587361               6.140334   \n596           2.946240                6.676284               5.942862   \n358           5.210898               17.469052               9.020427   \n228           0.458256               18.230192               1.989687   \n243           0.238018               14.508287               5.363533   \n\n     DVA_Max_Fixations_Pre  DVA_Min_Fixations_Pre  DVA_Mean_Fixations_Post  \\\n148              19.572668               1.100194                 9.147416   \n596              18.632478               0.939036                12.004023   \n358              27.849670               0.000000                15.611541   \n228              20.302880              15.213327                11.326109   \n243              25.385682               1.116161                 2.400796   \n\n     DVA_Std_Fixations_Post  DVA_Max_Fixations_Post  DVA_Min_Fixations_Post  \n148                7.709451               17.771927                0.494544  \n596                2.571197               13.822134               10.185913  \n358                8.492080               25.240189                5.966926  \n228               10.075856               26.348153                1.997239  \n243                0.444948                3.081489                1.919286  \n\n[5 rows x 112 columns]",
      "text/html": "<div>\n<style scoped>\n    .dataframe tbody tr th:only-of-type {\n        vertical-align: middle;\n    }\n\n    .dataframe tbody tr th {\n        vertical-align: top;\n    }\n\n    .dataframe thead th {\n        text-align: right;\n    }\n</style>\n<table border=\"1\" class=\"dataframe\">\n  <thead>\n    <tr style=\"text-align: right;\">\n      <th></th>\n      <th>Gaze_Counts_In_RoI_Pre</th>\n      <th>Gaze_Counts_In_RoI_Post</th>\n      <th>Gaze_Counts_Out_RoI_Pre</th>\n      <th>Gaze_Counts_Out_RoI_Post</th>\n      <th>Gaze_In\\out_RoI_Ratio_Pre</th>\n      <th>Gaze_In\\out_RoI_Ratio_Post</th>\n      <th>Gaze_Re_Entries_To_RoI_Count_Pre</th>\n      <th>Gaze_Re_Entries_To_RoI_Count_Post</th>\n      <th>Gaze_Re_Entries_To_RoI_Rate_Pre</th>\n      <th>Gaze_Re_Entries_To_RoI_Rate_Post</th>\n      <th>...</th>\n      <th>DVA_Max_Gaze_Post</th>\n      <th>DVA_Min_Gaze_Post</th>\n      <th>DVA_Mean_Fixations_Pre</th>\n      <th>DVA_Std_Fixations_Pre</th>\n      <th>DVA_Max_Fixations_Pre</th>\n      <th>DVA_Min_Fixations_Pre</th>\n      <th>DVA_Mean_Fixations_Post</th>\n      <th>DVA_Std_Fixations_Post</th>\n      <th>DVA_Max_Fixations_Post</th>\n      <th>DVA_Min_Fixations_Post</th>\n    </tr>\n  </thead>\n  <tbody>\n    <tr>\n      <th>148</th>\n      <td>412</td>\n      <td>483</td>\n      <td>2508</td>\n      <td>1122</td>\n      <td>0.164274</td>\n      <td>0.430481</td>\n      <td>2</td>\n      <td>1</td>\n      <td>0.331071</td>\n      <td>0.428449</td>\n      <td>...</td>\n      <td>19.550319</td>\n      <td>0.196086</td>\n      <td>11.587361</td>\n      <td>6.140334</td>\n      <td>19.572668</td>\n      <td>1.100194</td>\n      <td>9.147416</td>\n      <td>7.709451</td>\n      <td>17.771927</td>\n      <td>0.494544</td>\n    </tr>\n    <tr>\n      <th>596</th>\n      <td>1773</td>\n      <td>175</td>\n      <td>2053</td>\n      <td>1429</td>\n      <td>0.863614</td>\n      <td>0.122463</td>\n      <td>6</td>\n      <td>1</td>\n      <td>0.742299</td>\n      <td>0.420994</td>\n      <td>...</td>\n      <td>16.461037</td>\n      <td>2.946240</td>\n      <td>6.676284</td>\n      <td>5.942862</td>\n      <td>18.632478</td>\n      <td>0.939036</td>\n      <td>12.004023</td>\n      <td>2.571197</td>\n      <td>13.822134</td>\n      <td>10.185913</td>\n    </tr>\n    <tr>\n      <th>358</th>\n      <td>0</td>\n      <td>0</td>\n      <td>2639</td>\n      <td>933</td>\n      <td>0.000000</td>\n      <td>0.000000</td>\n      <td>0</td>\n      <td>0</td>\n      <td>0.000000</td>\n      <td>0.000000</td>\n      <td>...</td>\n      <td>25.564315</td>\n      <td>5.210898</td>\n      <td>17.469052</td>\n      <td>9.020427</td>\n      <td>27.849670</td>\n      <td>0.000000</td>\n      <td>15.611541</td>\n      <td>8.492080</td>\n      <td>25.240189</td>\n      <td>5.966926</td>\n    </tr>\n    <tr>\n      <th>228</th>\n      <td>8</td>\n      <td>605</td>\n      <td>3878</td>\n      <td>1281</td>\n      <td>0.002063</td>\n      <td>0.472287</td>\n      <td>1</td>\n      <td>5</td>\n      <td>0.122459</td>\n      <td>1.034340</td>\n      <td>...</td>\n      <td>32.465925</td>\n      <td>0.458256</td>\n      <td>18.230192</td>\n      <td>1.989687</td>\n      <td>20.302880</td>\n      <td>15.213327</td>\n      <td>11.326109</td>\n      <td>10.075856</td>\n      <td>26.348153</td>\n      <td>1.997239</td>\n    </tr>\n    <tr>\n      <th>243</th>\n      <td>702</td>\n      <td>1718</td>\n      <td>3691</td>\n      <td>8</td>\n      <td>0.190192</td>\n      <td>214.750000</td>\n      <td>2</td>\n      <td>1</td>\n      <td>0.223264</td>\n      <td>0.393391</td>\n      <td>...</td>\n      <td>6.913571</td>\n      <td>0.238018</td>\n      <td>14.508287</td>\n      <td>5.363533</td>\n      <td>25.385682</td>\n      <td>1.116161</td>\n      <td>2.400796</td>\n      <td>0.444948</td>\n      <td>3.081489</td>\n      <td>1.919286</td>\n    </tr>\n  </tbody>\n</table>\n<p>5 rows × 112 columns</p>\n</div>"
     },
     "execution_count": 19,
     "metadata": {},
     "output_type": "execute_result"
    }
   ],
   "source": [
    "X_test.head()"
   ],
   "metadata": {
    "collapsed": false,
    "ExecuteTime": {
     "end_time": "2023-06-06T12:56:16.997600300Z",
     "start_time": "2023-06-06T12:56:16.782137700Z"
    }
   }
  },
  {
   "cell_type": "markdown",
   "source": [
    "Balancing the dataset"
   ],
   "metadata": {
    "collapsed": false
   }
  },
  {
   "cell_type": "code",
   "execution_count": 20,
   "outputs": [],
   "source": [
    "from imblearn.over_sampling import SMOTE\n",
    "\n",
    "sm = SMOTE(random_state=420)\n",
    "X_train, y_train = sm.fit_resample(X_train, y_train)"
   ],
   "metadata": {
    "collapsed": false,
    "ExecuteTime": {
     "end_time": "2023-06-06T12:56:17.114806200Z",
     "start_time": "2023-06-06T12:56:16.798096100Z"
    }
   }
  },
  {
   "cell_type": "markdown",
   "source": [
    "Scaling"
   ],
   "metadata": {
    "collapsed": false
   }
  },
  {
   "cell_type": "code",
   "execution_count": 21,
   "outputs": [],
   "source": [
    "from sklearn.preprocessing import StandardScaler\n",
    "\n",
    "# Create separate StandardScaler instances\n",
    "scaler_x = StandardScaler()\n",
    "# scaler_y = StandardScaler()\n",
    "\n",
    "# Fit on Training Data (!)\n",
    "scaler_x.fit(X_train.values)\n",
    "# scaler_y.fit(y_train.values.reshape(-1, 1))\n",
    "\n",
    "# Transform both training and testing data\n",
    "X_train_scaled = scaler_x.transform(X_train.values)\n",
    "X_test_scaled = scaler_x.transform(X_test.values)\n",
    "y_train = y_train.values.reshape(-1, 1).flatten()\n",
    "y_test = y_test.values.reshape(-1, 1).flatten()\n",
    "\n",
    "X_train_scaled = pd.DataFrame(X_train_scaled, columns=X_train.columns)\n",
    "X_test_scaled = pd.DataFrame(X_test_scaled, columns=X_test.columns)"
   ],
   "metadata": {
    "collapsed": false,
    "ExecuteTime": {
     "end_time": "2023-06-06T12:56:17.114806200Z",
     "start_time": "2023-06-06T12:56:16.972667300Z"
    }
   }
  },
  {
   "cell_type": "markdown",
   "source": [
    "PCA"
   ],
   "metadata": {
    "collapsed": false
   },
   "outputs": []
  },
  {
   "cell_type": "code",
   "execution_count": 22,
   "outputs": [
    {
     "data": {
      "text/plain": "<Figure size 432x288 with 1 Axes>",
      "image/png": "[encoded data removed]"
     },
     "metadata": {},
     "output_type": "display_data"
    }
   ],
   "source": [
    "pca = PCA(n_components=0.98).fit(X_test_scaled)\n",
    "plt.plot(np.cumsum(pca.explained_variance_ratio_))\n",
    "plt.xlabel('number of components')\n",
    "plt.ylabel('cumulative explained variance');"
   ],
   "metadata": {
    "collapsed": false,
    "ExecuteTime": {
     "end_time": "2023-06-06T12:56:17.249968900Z",
     "start_time": "2023-06-06T12:56:16.988633600Z"
    }
   }
  },
  {
   "cell_type": "code",
   "execution_count": 23,
   "outputs": [],
   "source": [
    "X_train_pca = pca.transform(X_train_scaled)\n",
    "X_test_pca = pca.transform(X_test_scaled)"
   ],
   "metadata": {
    "collapsed": false,
    "ExecuteTime": {
     "end_time": "2023-06-06T12:56:17.366691300Z",
     "start_time": "2023-06-06T12:56:17.124779800Z"
    }
   }
  },
  {
   "cell_type": "code",
   "execution_count": 24,
   "outputs": [
    {
     "data": {
      "text/plain": "array([[-6.70897369, -0.14302543,  1.74422566, ...,  0.70768861,\n         0.22645499, -0.04454817],\n       [-3.39277851, -5.48541113,  1.91128051, ..., -0.46309533,\n        -0.33847389, -0.19510289],\n       [-2.36740257,  1.29444042,  0.6759053 , ...,  0.13393117,\n        -0.07400239,  0.39782241],\n       ...,\n       [-2.90721774,  1.7790057 , -0.0149766 , ...,  0.33406991,\n        -0.0140894 ,  0.19252445],\n       [-2.20110695,  7.39572886,  5.30841232, ..., -0.52658212,\n        -0.15360222,  0.13751728],\n       [-2.89983903,  2.05761971,  0.2394407 , ...,  0.1894867 ,\n        -0.31758999, -0.01878495]])"
     },
     "execution_count": 24,
     "metadata": {},
     "output_type": "execute_result"
    }
   ],
   "source": [
    "X_train_pca"
   ],
   "metadata": {
    "collapsed": false,
    "ExecuteTime": {
     "end_time": "2023-06-06T12:56:17.397608800Z",
     "start_time": "2023-06-06T12:56:17.140736Z"
    }
   }
  },
  {
   "cell_type": "markdown",
   "source": [
    "LDA"
   ],
   "metadata": {
    "collapsed": false
   }
  },
  {
   "cell_type": "code",
   "execution_count": 25,
   "outputs": [],
   "source": [
    "from sklearn.discriminant_analysis import LinearDiscriminantAnalysis\n",
    "\n",
    "lda = LinearDiscriminantAnalysis(n_components=1)\n",
    "X_train_lda = lda.fit_transform(X_train, y_train)\n",
    "X_test_lda = lda.transform(X_test)"
   ],
   "metadata": {
    "collapsed": false,
    "ExecuteTime": {
     "end_time": "2023-06-06T12:56:17.465942700Z",
     "start_time": "2023-06-06T12:56:17.156695800Z"
    }
   }
  },
  {
   "cell_type": "code",
   "execution_count": 26,
   "outputs": [
    {
     "data": {
      "text/plain": "<Figure size 432x288 with 1 Axes>",
      "image/png": "[encoded data removed]"
     },
     "metadata": {},
     "output_type": "display_data"
    }
   ],
   "source": [
    "# Create a scatter plot of the transformed data\n",
    "plt.scatter(X_train_lda, np.zeros(len(X_train_lda)), c=y_train, cmap='rainbow', alpha=0.7, edgecolors='b')\n",
    "plt.xlabel('LD1')\n",
    "plt.title('LDA Scatter Plot')\n",
    "plt.show()"
   ],
   "metadata": {
    "collapsed": false,
    "ExecuteTime": {
     "end_time": "2023-06-06T12:56:17.467937200Z",
     "start_time": "2023-06-06T12:56:17.246974100Z"
    }
   }
  },
  {
   "cell_type": "code",
   "execution_count": 27,
   "outputs": [],
   "source": [
    "X_train_preprocessed = X_train_scaled\n",
    "X_test_preprocessed = X_test_scaled"
   ],
   "metadata": {
    "collapsed": false,
    "ExecuteTime": {
     "end_time": "2023-06-06T12:56:17.537750900Z",
     "start_time": "2023-06-06T12:56:17.378660200Z"
    }
   }
  },
  {
   "cell_type": "markdown",
   "source": [
    "Classification models"
   ],
   "metadata": {
    "collapsed": false
   },
   "outputs": []
  },
  {
   "cell_type": "code",
   "execution_count": 28,
   "outputs": [],
   "source": [
    "from sklearn.metrics import accuracy_score, precision_score, recall_score, f1_score, roc_auc_score\n",
    "from sklearn.metrics import confusion_matrix\n",
    "import seaborn as sns\n",
    "\n",
    "def evaluate_model(model_name, y_true, y_pred):\n",
    "    # Evaluate the model using various metrics\n",
    "    accuracy = accuracy_score(y_test, y_pred)\n",
    "    precision = precision_score(y_test, y_pred)\n",
    "    recall = recall_score(y_test, y_pred)\n",
    "    f1 = f1_score(y_test, y_pred)\n",
    "    roc_auc = roc_auc_score(y_test, y_pred)\n",
    "\n",
    "    print(model_name)\n",
    "    # Print the evaluation metrics\n",
    "    print(\"Accuracy:\", round(accuracy, 2))\n",
    "    print(\"Precision:\", round(precision, 2))\n",
    "    print(\"Recall:\", round(recall, 2))\n",
    "    print(\"F1-score:\", round(f1, 2))\n",
    "    print(\"ROC-AUC score:\", round(roc_auc, 2))\n",
    "\n",
    "    # Compute the confusion matrix\n",
    "    confusion_mat = confusion_matrix(y_true, y_pred)\n",
    "\n",
    "    # Create a heatmap visualization of the confusion matrix\n",
    "    fig, ax = plt.subplots(figsize=(8, 8))\n",
    "    sns.heatmap(confusion_mat, annot=True, cmap=\"Blues\", fmt=\"d\", ax=ax)\n",
    "\n",
    "    # Set the axis labels and title\n",
    "    ax.set_xlabel(\"Predicted Labels\")\n",
    "    ax.set_ylabel(\"True Labels\")\n",
    "    ax.set_title(\"Confusion Matrix\")\n",
    "\n",
    "    # Show the plot\n",
    "    plt.show()"
   ],
   "metadata": {
    "collapsed": false,
    "ExecuteTime": {
     "end_time": "2023-06-06T12:56:17.538749200Z",
     "start_time": "2023-06-06T12:56:17.397608800Z"
    }
   }
  },
  {
   "cell_type": "code",
   "execution_count": 29,
   "outputs": [],
   "source": [
    "from sklearn.model_selection import GridSearchCV"
   ],
   "metadata": {
    "collapsed": false,
    "ExecuteTime": {
     "end_time": "2023-06-06T12:56:17.538749200Z",
     "start_time": "2023-06-06T12:56:17.409576Z"
    }
   }
  },
  {
   "cell_type": "markdown",
   "source": [
    "Logistic Regression model"
   ],
   "metadata": {
    "collapsed": false
   },
   "outputs": []
  },
  {
   "cell_type": "code",
   "execution_count": 30,
   "outputs": [
    {
     "name": "stderr",
     "output_type": "stream",
     "text": [
      "C:\\Users\\user\\anaconda3\\lib\\site-packages\\sklearn\\linear_model\\_sag.py:350: ConvergenceWarning: The max_iter was reached which means the coef_ did not converge\n",
      "  warnings.warn(\n",
      "C:\\Users\\user\\anaconda3\\lib\\site-packages\\sklearn\\linear_model\\_sag.py:350: ConvergenceWarning: The max_iter was reached which means the coef_ did not converge\n",
      "  warnings.warn(\n",
      "C:\\Users\\user\\anaconda3\\lib\\site-packages\\sklearn\\linear_model\\_sag.py:350: ConvergenceWarning: The max_iter was reached which means the coef_ did not converge\n",
      "  warnings.warn(\n",
      "C:\\Users\\user\\anaconda3\\lib\\site-packages\\sklearn\\linear_model\\_sag.py:350: ConvergenceWarning: The max_iter was reached which means the coef_ did not converge\n",
      "  warnings.warn(\n",
      "C:\\Users\\user\\anaconda3\\lib\\site-packages\\sklearn\\linear_model\\_sag.py:350: ConvergenceWarning: The max_iter was reached which means the coef_ did not converge\n",
      "  warnings.warn(\n",
      "C:\\Users\\user\\anaconda3\\lib\\site-packages\\sklearn\\linear_model\\_sag.py:350: ConvergenceWarning: The max_iter was reached which means the coef_ did not converge\n",
      "  warnings.warn(\n",
      "C:\\Users\\user\\anaconda3\\lib\\site-packages\\sklearn\\linear_model\\_sag.py:350: ConvergenceWarning: The max_iter was reached which means the coef_ did not converge\n",
      "  warnings.warn(\n",
      "C:\\Users\\user\\anaconda3\\lib\\site-packages\\sklearn\\linear_model\\_sag.py:350: ConvergenceWarning: The max_iter was reached which means the coef_ did not converge\n",
      "  warnings.warn(\n",
      "C:\\Users\\user\\anaconda3\\lib\\site-packages\\sklearn\\linear_model\\_sag.py:350: ConvergenceWarning: The max_iter was reached which means the coef_ did not converge\n",
      "  warnings.warn(\n",
      "C:\\Users\\user\\anaconda3\\lib\\site-packages\\sklearn\\linear_model\\_sag.py:350: ConvergenceWarning: The max_iter was reached which means the coef_ did not converge\n",
      "  warnings.warn(\n",
      "C:\\Users\\user\\anaconda3\\lib\\site-packages\\sklearn\\linear_model\\_sag.py:350: ConvergenceWarning: The max_iter was reached which means the coef_ did not converge\n",
      "  warnings.warn(\n",
      "C:\\Users\\user\\anaconda3\\lib\\site-packages\\sklearn\\linear_model\\_sag.py:350: ConvergenceWarning: The max_iter was reached which means the coef_ did not converge\n",
      "  warnings.warn(\n",
      "C:\\Users\\user\\anaconda3\\lib\\site-packages\\sklearn\\linear_model\\_sag.py:350: ConvergenceWarning: The max_iter was reached which means the coef_ did not converge\n",
      "  warnings.warn(\n",
      "C:\\Users\\user\\anaconda3\\lib\\site-packages\\sklearn\\linear_model\\_sag.py:350: ConvergenceWarning: The max_iter was reached which means the coef_ did not converge\n",
      "  warnings.warn(\n",
      "C:\\Users\\user\\anaconda3\\lib\\site-packages\\sklearn\\linear_model\\_sag.py:350: ConvergenceWarning: The max_iter was reached which means the coef_ did not converge\n",
      "  warnings.warn(\n",
      "C:\\Users\\user\\anaconda3\\lib\\site-packages\\sklearn\\linear_model\\_sag.py:350: ConvergenceWarning: The max_iter was reached which means the coef_ did not converge\n",
      "  warnings.warn(\n",
      "C:\\Users\\user\\anaconda3\\lib\\site-packages\\sklearn\\linear_model\\_sag.py:350: ConvergenceWarning: The max_iter was reached which means the coef_ did not converge\n",
      "  warnings.warn(\n",
      "C:\\Users\\user\\anaconda3\\lib\\site-packages\\sklearn\\linear_model\\_sag.py:350: ConvergenceWarning: The max_iter was reached which means the coef_ did not converge\n",
      "  warnings.warn(\n",
      "C:\\Users\\user\\anaconda3\\lib\\site-packages\\sklearn\\linear_model\\_sag.py:350: ConvergenceWarning: The max_iter was reached which means the coef_ did not converge\n",
      "  warnings.warn(\n",
      "C:\\Users\\user\\anaconda3\\lib\\site-packages\\sklearn\\linear_model\\_sag.py:350: ConvergenceWarning: The max_iter was reached which means the coef_ did not converge\n",
      "  warnings.warn(\n",
      "C:\\Users\\user\\anaconda3\\lib\\site-packages\\sklearn\\linear_model\\_sag.py:350: ConvergenceWarning: The max_iter was reached which means the coef_ did not converge\n",
      "  warnings.warn(\n",
      "C:\\Users\\user\\anaconda3\\lib\\site-packages\\sklearn\\linear_model\\_sag.py:350: ConvergenceWarning: The max_iter was reached which means the coef_ did not converge\n",
      "  warnings.warn(\n",
      "C:\\Users\\user\\anaconda3\\lib\\site-packages\\sklearn\\linear_model\\_sag.py:350: ConvergenceWarning: The max_iter was reached which means the coef_ did not converge\n",
      "  warnings.warn(\n",
      "C:\\Users\\user\\anaconda3\\lib\\site-packages\\sklearn\\linear_model\\_sag.py:350: ConvergenceWarning: The max_iter was reached which means the coef_ did not converge\n",
      "  warnings.warn(\n",
      "C:\\Users\\user\\anaconda3\\lib\\site-packages\\sklearn\\linear_model\\_sag.py:350: ConvergenceWarning: The max_iter was reached which means the coef_ did not converge\n",
      "  warnings.warn(\n",
      "C:\\Users\\user\\anaconda3\\lib\\site-packages\\sklearn\\linear_model\\_sag.py:350: ConvergenceWarning: The max_iter was reached which means the coef_ did not converge\n",
      "  warnings.warn(\n",
      "C:\\Users\\user\\anaconda3\\lib\\site-packages\\sklearn\\linear_model\\_sag.py:350: ConvergenceWarning: The max_iter was reached which means the coef_ did not converge\n",
      "  warnings.warn(\n",
      "C:\\Users\\user\\anaconda3\\lib\\site-packages\\sklearn\\linear_model\\_sag.py:350: ConvergenceWarning: The max_iter was reached which means the coef_ did not converge\n",
      "  warnings.warn(\n",
      "C:\\Users\\user\\anaconda3\\lib\\site-packages\\sklearn\\linear_model\\_sag.py:350: ConvergenceWarning: The max_iter was reached which means the coef_ did not converge\n",
      "  warnings.warn(\n",
      "C:\\Users\\user\\anaconda3\\lib\\site-packages\\sklearn\\linear_model\\_sag.py:350: ConvergenceWarning: The max_iter was reached which means the coef_ did not converge\n",
      "  warnings.warn(\n",
      "C:\\Users\\user\\anaconda3\\lib\\site-packages\\sklearn\\linear_model\\_sag.py:350: ConvergenceWarning: The max_iter was reached which means the coef_ did not converge\n",
      "  warnings.warn(\n",
      "C:\\Users\\user\\anaconda3\\lib\\site-packages\\sklearn\\linear_model\\_sag.py:350: ConvergenceWarning: The max_iter was reached which means the coef_ did not converge\n",
      "  warnings.warn(\n",
      "C:\\Users\\user\\anaconda3\\lib\\site-packages\\sklearn\\linear_model\\_sag.py:350: ConvergenceWarning: The max_iter was reached which means the coef_ did not converge\n",
      "  warnings.warn(\n",
      "C:\\Users\\user\\anaconda3\\lib\\site-packages\\sklearn\\linear_model\\_sag.py:350: ConvergenceWarning: The max_iter was reached which means the coef_ did not converge\n",
      "  warnings.warn(\n",
      "C:\\Users\\user\\anaconda3\\lib\\site-packages\\sklearn\\linear_model\\_sag.py:350: ConvergenceWarning: The max_iter was reached which means the coef_ did not converge\n",
      "  warnings.warn(\n",
      "C:\\Users\\user\\anaconda3\\lib\\site-packages\\sklearn\\linear_model\\_sag.py:350: ConvergenceWarning: The max_iter was reached which means the coef_ did not converge\n",
      "  warnings.warn(\n",
      "C:\\Users\\user\\anaconda3\\lib\\site-packages\\sklearn\\linear_model\\_sag.py:350: ConvergenceWarning: The max_iter was reached which means the coef_ did not converge\n",
      "  warnings.warn(\n",
      "C:\\Users\\user\\anaconda3\\lib\\site-packages\\sklearn\\linear_model\\_sag.py:350: ConvergenceWarning: The max_iter was reached which means the coef_ did not converge\n",
      "  warnings.warn(\n",
      "C:\\Users\\user\\anaconda3\\lib\\site-packages\\sklearn\\linear_model\\_sag.py:350: ConvergenceWarning: The max_iter was reached which means the coef_ did not converge\n",
      "  warnings.warn(\n",
      "C:\\Users\\user\\anaconda3\\lib\\site-packages\\sklearn\\linear_model\\_sag.py:350: ConvergenceWarning: The max_iter was reached which means the coef_ did not converge\n",
      "  warnings.warn(\n",
      "C:\\Users\\user\\anaconda3\\lib\\site-packages\\sklearn\\linear_model\\_sag.py:350: ConvergenceWarning: The max_iter was reached which means the coef_ did not converge\n",
      "  warnings.warn(\n",
      "C:\\Users\\user\\anaconda3\\lib\\site-packages\\sklearn\\linear_model\\_sag.py:350: ConvergenceWarning: The max_iter was reached which means the coef_ did not converge\n",
      "  warnings.warn(\n",
      "C:\\Users\\user\\anaconda3\\lib\\site-packages\\sklearn\\linear_model\\_sag.py:350: ConvergenceWarning: The max_iter was reached which means the coef_ did not converge\n",
      "  warnings.warn(\n",
      "C:\\Users\\user\\anaconda3\\lib\\site-packages\\sklearn\\linear_model\\_sag.py:350: ConvergenceWarning: The max_iter was reached which means the coef_ did not converge\n",
      "  warnings.warn(\n",
      "C:\\Users\\user\\anaconda3\\lib\\site-packages\\sklearn\\linear_model\\_sag.py:350: ConvergenceWarning: The max_iter was reached which means the coef_ did not converge\n",
      "  warnings.warn(\n",
      "C:\\Users\\user\\anaconda3\\lib\\site-packages\\sklearn\\linear_model\\_sag.py:350: ConvergenceWarning: The max_iter was reached which means the coef_ did not converge\n",
      "  warnings.warn(\n",
      "C:\\Users\\user\\anaconda3\\lib\\site-packages\\sklearn\\linear_model\\_sag.py:350: ConvergenceWarning: The max_iter was reached which means the coef_ did not converge\n",
      "  warnings.warn(\n",
      "C:\\Users\\user\\anaconda3\\lib\\site-packages\\sklearn\\linear_model\\_sag.py:350: ConvergenceWarning: The max_iter was reached which means the coef_ did not converge\n",
      "  warnings.warn(\n",
      "C:\\Users\\user\\anaconda3\\lib\\site-packages\\sklearn\\linear_model\\_sag.py:350: ConvergenceWarning: The max_iter was reached which means the coef_ did not converge\n",
      "  warnings.warn(\n",
      "C:\\Users\\user\\anaconda3\\lib\\site-packages\\sklearn\\linear_model\\_sag.py:350: ConvergenceWarning: The max_iter was reached which means the coef_ did not converge\n",
      "  warnings.warn(\n",
      "C:\\Users\\user\\anaconda3\\lib\\site-packages\\sklearn\\linear_model\\_sag.py:350: ConvergenceWarning: The max_iter was reached which means the coef_ did not converge\n",
      "  warnings.warn(\n",
      "C:\\Users\\user\\anaconda3\\lib\\site-packages\\sklearn\\linear_model\\_sag.py:350: ConvergenceWarning: The max_iter was reached which means the coef_ did not converge\n",
      "  warnings.warn(\n",
      "C:\\Users\\user\\anaconda3\\lib\\site-packages\\sklearn\\linear_model\\_sag.py:350: ConvergenceWarning: The max_iter was reached which means the coef_ did not converge\n",
      "  warnings.warn(\n",
      "C:\\Users\\user\\anaconda3\\lib\\site-packages\\sklearn\\linear_model\\_sag.py:350: ConvergenceWarning: The max_iter was reached which means the coef_ did not converge\n",
      "  warnings.warn(\n",
      "C:\\Users\\user\\anaconda3\\lib\\site-packages\\sklearn\\linear_model\\_sag.py:350: ConvergenceWarning: The max_iter was reached which means the coef_ did not converge\n",
      "  warnings.warn(\n",
      "C:\\Users\\user\\anaconda3\\lib\\site-packages\\sklearn\\linear_model\\_sag.py:350: ConvergenceWarning: The max_iter was reached which means the coef_ did not converge\n",
      "  warnings.warn(\n",
      "C:\\Users\\user\\anaconda3\\lib\\site-packages\\sklearn\\linear_model\\_sag.py:350: ConvergenceWarning: The max_iter was reached which means the coef_ did not converge\n",
      "  warnings.warn(\n",
      "C:\\Users\\user\\anaconda3\\lib\\site-packages\\sklearn\\linear_model\\_sag.py:350: ConvergenceWarning: The max_iter was reached which means the coef_ did not converge\n",
      "  warnings.warn(\n",
      "C:\\Users\\user\\anaconda3\\lib\\site-packages\\sklearn\\linear_model\\_sag.py:350: ConvergenceWarning: The max_iter was reached which means the coef_ did not converge\n",
      "  warnings.warn(\n",
      "C:\\Users\\user\\anaconda3\\lib\\site-packages\\sklearn\\linear_model\\_sag.py:350: ConvergenceWarning: The max_iter was reached which means the coef_ did not converge\n",
      "  warnings.warn(\n",
      "C:\\Users\\user\\anaconda3\\lib\\site-packages\\sklearn\\linear_model\\_sag.py:350: ConvergenceWarning: The max_iter was reached which means the coef_ did not converge\n",
      "  warnings.warn(\n",
      "C:\\Users\\user\\anaconda3\\lib\\site-packages\\sklearn\\linear_model\\_sag.py:350: ConvergenceWarning: The max_iter was reached which means the coef_ did not converge\n",
      "  warnings.warn(\n",
      "C:\\Users\\user\\anaconda3\\lib\\site-packages\\sklearn\\linear_model\\_sag.py:350: ConvergenceWarning: The max_iter was reached which means the coef_ did not converge\n",
      "  warnings.warn(\n",
      "C:\\Users\\user\\anaconda3\\lib\\site-packages\\sklearn\\linear_model\\_sag.py:350: ConvergenceWarning: The max_iter was reached which means the coef_ did not converge\n",
      "  warnings.warn(\n",
      "C:\\Users\\user\\anaconda3\\lib\\site-packages\\sklearn\\linear_model\\_sag.py:350: ConvergenceWarning: The max_iter was reached which means the coef_ did not converge\n",
      "  warnings.warn(\n",
      "C:\\Users\\user\\anaconda3\\lib\\site-packages\\sklearn\\linear_model\\_sag.py:350: ConvergenceWarning: The max_iter was reached which means the coef_ did not converge\n",
      "  warnings.warn(\n",
      "C:\\Users\\user\\anaconda3\\lib\\site-packages\\sklearn\\linear_model\\_sag.py:350: ConvergenceWarning: The max_iter was reached which means the coef_ did not converge\n",
      "  warnings.warn(\n",
      "C:\\Users\\user\\anaconda3\\lib\\site-packages\\sklearn\\linear_model\\_sag.py:350: ConvergenceWarning: The max_iter was reached which means the coef_ did not converge\n",
      "  warnings.warn(\n",
      "C:\\Users\\user\\anaconda3\\lib\\site-packages\\sklearn\\linear_model\\_sag.py:350: ConvergenceWarning: The max_iter was reached which means the coef_ did not converge\n",
      "  warnings.warn(\n",
      "C:\\Users\\user\\anaconda3\\lib\\site-packages\\sklearn\\linear_model\\_sag.py:350: ConvergenceWarning: The max_iter was reached which means the coef_ did not converge\n",
      "  warnings.warn(\n",
      "C:\\Users\\user\\anaconda3\\lib\\site-packages\\sklearn\\linear_model\\_sag.py:350: ConvergenceWarning: The max_iter was reached which means the coef_ did not converge\n",
      "  warnings.warn(\n",
      "C:\\Users\\user\\anaconda3\\lib\\site-packages\\sklearn\\linear_model\\_sag.py:350: ConvergenceWarning: The max_iter was reached which means the coef_ did not converge\n",
      "  warnings.warn(\n",
      "C:\\Users\\user\\anaconda3\\lib\\site-packages\\sklearn\\linear_model\\_sag.py:350: ConvergenceWarning: The max_iter was reached which means the coef_ did not converge\n",
      "  warnings.warn(\n",
      "C:\\Users\\user\\anaconda3\\lib\\site-packages\\sklearn\\linear_model\\_sag.py:350: ConvergenceWarning: The max_iter was reached which means the coef_ did not converge\n",
      "  warnings.warn(\n",
      "C:\\Users\\user\\anaconda3\\lib\\site-packages\\sklearn\\linear_model\\_sag.py:350: ConvergenceWarning: The max_iter was reached which means the coef_ did not converge\n",
      "  warnings.warn(\n",
      "C:\\Users\\user\\anaconda3\\lib\\site-packages\\sklearn\\linear_model\\_sag.py:350: ConvergenceWarning: The max_iter was reached which means the coef_ did not converge\n",
      "  warnings.warn(\n",
      "C:\\Users\\user\\anaconda3\\lib\\site-packages\\sklearn\\linear_model\\_sag.py:350: ConvergenceWarning: The max_iter was reached which means the coef_ did not converge\n",
      "  warnings.warn(\n",
      "C:\\Users\\user\\anaconda3\\lib\\site-packages\\sklearn\\linear_model\\_sag.py:350: ConvergenceWarning: The max_iter was reached which means the coef_ did not converge\n",
      "  warnings.warn(\n",
      "C:\\Users\\user\\anaconda3\\lib\\site-packages\\sklearn\\linear_model\\_sag.py:350: ConvergenceWarning: The max_iter was reached which means the coef_ did not converge\n",
      "  warnings.warn(\n",
      "C:\\Users\\user\\anaconda3\\lib\\site-packages\\sklearn\\linear_model\\_sag.py:350: ConvergenceWarning: The max_iter was reached which means the coef_ did not converge\n",
      "  warnings.warn(\n",
      "C:\\Users\\user\\anaconda3\\lib\\site-packages\\sklearn\\linear_model\\_sag.py:350: ConvergenceWarning: The max_iter was reached which means the coef_ did not converge\n",
      "  warnings.warn(\n",
      "C:\\Users\\user\\anaconda3\\lib\\site-packages\\sklearn\\linear_model\\_sag.py:350: ConvergenceWarning: The max_iter was reached which means the coef_ did not converge\n",
      "  warnings.warn(\n",
      "C:\\Users\\user\\anaconda3\\lib\\site-packages\\sklearn\\linear_model\\_sag.py:350: ConvergenceWarning: The max_iter was reached which means the coef_ did not converge\n",
      "  warnings.warn(\n",
      "C:\\Users\\user\\anaconda3\\lib\\site-packages\\sklearn\\linear_model\\_sag.py:350: ConvergenceWarning: The max_iter was reached which means the coef_ did not converge\n",
      "  warnings.warn(\n",
      "C:\\Users\\user\\anaconda3\\lib\\site-packages\\sklearn\\linear_model\\_sag.py:350: ConvergenceWarning: The max_iter was reached which means the coef_ did not converge\n",
      "  warnings.warn(\n",
      "C:\\Users\\user\\anaconda3\\lib\\site-packages\\sklearn\\linear_model\\_sag.py:350: ConvergenceWarning: The max_iter was reached which means the coef_ did not converge\n",
      "  warnings.warn(\n",
      "C:\\Users\\user\\anaconda3\\lib\\site-packages\\sklearn\\linear_model\\_sag.py:350: ConvergenceWarning: The max_iter was reached which means the coef_ did not converge\n",
      "  warnings.warn(\n",
      "C:\\Users\\user\\anaconda3\\lib\\site-packages\\sklearn\\linear_model\\_sag.py:350: ConvergenceWarning: The max_iter was reached which means the coef_ did not converge\n",
      "  warnings.warn(\n",
      "C:\\Users\\user\\anaconda3\\lib\\site-packages\\sklearn\\linear_model\\_sag.py:350: ConvergenceWarning: The max_iter was reached which means the coef_ did not converge\n",
      "  warnings.warn(\n",
      "C:\\Users\\user\\anaconda3\\lib\\site-packages\\sklearn\\linear_model\\_sag.py:350: ConvergenceWarning: The max_iter was reached which means the coef_ did not converge\n",
      "  warnings.warn(\n",
      "C:\\Users\\user\\anaconda3\\lib\\site-packages\\sklearn\\linear_model\\_sag.py:350: ConvergenceWarning: The max_iter was reached which means the coef_ did not converge\n",
      "  warnings.warn(\n",
      "C:\\Users\\user\\anaconda3\\lib\\site-packages\\sklearn\\linear_model\\_sag.py:350: ConvergenceWarning: The max_iter was reached which means the coef_ did not converge\n",
      "  warnings.warn(\n",
      "C:\\Users\\user\\anaconda3\\lib\\site-packages\\sklearn\\linear_model\\_sag.py:350: ConvergenceWarning: The max_iter was reached which means the coef_ did not converge\n",
      "  warnings.warn(\n",
      "C:\\Users\\user\\anaconda3\\lib\\site-packages\\sklearn\\linear_model\\_sag.py:350: ConvergenceWarning: The max_iter was reached which means the coef_ did not converge\n",
      "  warnings.warn(\n",
      "C:\\Users\\user\\anaconda3\\lib\\site-packages\\sklearn\\linear_model\\_sag.py:350: ConvergenceWarning: The max_iter was reached which means the coef_ did not converge\n",
      "  warnings.warn(\n",
      "C:\\Users\\user\\anaconda3\\lib\\site-packages\\sklearn\\linear_model\\_sag.py:350: ConvergenceWarning: The max_iter was reached which means the coef_ did not converge\n",
      "  warnings.warn(\n",
      "C:\\Users\\user\\anaconda3\\lib\\site-packages\\sklearn\\linear_model\\_sag.py:350: ConvergenceWarning: The max_iter was reached which means the coef_ did not converge\n",
      "  warnings.warn(\n",
      "C:\\Users\\user\\anaconda3\\lib\\site-packages\\sklearn\\linear_model\\_sag.py:350: ConvergenceWarning: The max_iter was reached which means the coef_ did not converge\n",
      "  warnings.warn(\n",
      "C:\\Users\\user\\anaconda3\\lib\\site-packages\\sklearn\\linear_model\\_sag.py:350: ConvergenceWarning: The max_iter was reached which means the coef_ did not converge\n",
      "  warnings.warn(\n",
      "C:\\Users\\user\\anaconda3\\lib\\site-packages\\sklearn\\linear_model\\_sag.py:350: ConvergenceWarning: The max_iter was reached which means the coef_ did not converge\n",
      "  warnings.warn(\n",
      "C:\\Users\\user\\anaconda3\\lib\\site-packages\\sklearn\\linear_model\\_sag.py:350: ConvergenceWarning: The max_iter was reached which means the coef_ did not converge\n",
      "  warnings.warn(\n",
      "C:\\Users\\user\\anaconda3\\lib\\site-packages\\sklearn\\linear_model\\_sag.py:350: ConvergenceWarning: The max_iter was reached which means the coef_ did not converge\n",
      "  warnings.warn(\n",
      "C:\\Users\\user\\anaconda3\\lib\\site-packages\\sklearn\\linear_model\\_sag.py:350: ConvergenceWarning: The max_iter was reached which means the coef_ did not converge\n",
      "  warnings.warn(\n",
      "C:\\Users\\user\\anaconda3\\lib\\site-packages\\sklearn\\linear_model\\_sag.py:350: ConvergenceWarning: The max_iter was reached which means the coef_ did not converge\n",
      "  warnings.warn(\n",
      "C:\\Users\\user\\anaconda3\\lib\\site-packages\\sklearn\\linear_model\\_sag.py:350: ConvergenceWarning: The max_iter was reached which means the coef_ did not converge\n",
      "  warnings.warn(\n",
      "C:\\Users\\user\\anaconda3\\lib\\site-packages\\sklearn\\linear_model\\_sag.py:350: ConvergenceWarning: The max_iter was reached which means the coef_ did not converge\n",
      "  warnings.warn(\n",
      "C:\\Users\\user\\anaconda3\\lib\\site-packages\\sklearn\\linear_model\\_sag.py:350: ConvergenceWarning: The max_iter was reached which means the coef_ did not converge\n",
      "  warnings.warn(\n",
      "C:\\Users\\user\\anaconda3\\lib\\site-packages\\sklearn\\linear_model\\_sag.py:350: ConvergenceWarning: The max_iter was reached which means the coef_ did not converge\n",
      "  warnings.warn(\n",
      "C:\\Users\\user\\anaconda3\\lib\\site-packages\\sklearn\\linear_model\\_sag.py:350: ConvergenceWarning: The max_iter was reached which means the coef_ did not converge\n",
      "  warnings.warn(\n",
      "C:\\Users\\user\\anaconda3\\lib\\site-packages\\sklearn\\linear_model\\_sag.py:350: ConvergenceWarning: The max_iter was reached which means the coef_ did not converge\n",
      "  warnings.warn(\n",
      "C:\\Users\\user\\anaconda3\\lib\\site-packages\\sklearn\\linear_model\\_sag.py:350: ConvergenceWarning: The max_iter was reached which means the coef_ did not converge\n",
      "  warnings.warn(\n",
      "C:\\Users\\user\\anaconda3\\lib\\site-packages\\sklearn\\linear_model\\_sag.py:350: ConvergenceWarning: The max_iter was reached which means the coef_ did not converge\n",
      "  warnings.warn(\n",
      "C:\\Users\\user\\anaconda3\\lib\\site-packages\\sklearn\\linear_model\\_sag.py:350: ConvergenceWarning: The max_iter was reached which means the coef_ did not converge\n",
      "  warnings.warn(\n",
      "C:\\Users\\user\\anaconda3\\lib\\site-packages\\sklearn\\linear_model\\_sag.py:350: ConvergenceWarning: The max_iter was reached which means the coef_ did not converge\n",
      "  warnings.warn(\n",
      "C:\\Users\\user\\anaconda3\\lib\\site-packages\\sklearn\\linear_model\\_sag.py:350: ConvergenceWarning: The max_iter was reached which means the coef_ did not converge\n",
      "  warnings.warn(\n",
      "C:\\Users\\user\\anaconda3\\lib\\site-packages\\sklearn\\linear_model\\_sag.py:350: ConvergenceWarning: The max_iter was reached which means the coef_ did not converge\n",
      "  warnings.warn(\n",
      "C:\\Users\\user\\anaconda3\\lib\\site-packages\\sklearn\\linear_model\\_sag.py:350: ConvergenceWarning: The max_iter was reached which means the coef_ did not converge\n",
      "  warnings.warn(\n",
      "C:\\Users\\user\\anaconda3\\lib\\site-packages\\sklearn\\linear_model\\_sag.py:350: ConvergenceWarning: The max_iter was reached which means the coef_ did not converge\n",
      "  warnings.warn(\n",
      "C:\\Users\\user\\anaconda3\\lib\\site-packages\\sklearn\\linear_model\\_sag.py:350: ConvergenceWarning: The max_iter was reached which means the coef_ did not converge\n",
      "  warnings.warn(\n",
      "C:\\Users\\user\\anaconda3\\lib\\site-packages\\sklearn\\linear_model\\_sag.py:350: ConvergenceWarning: The max_iter was reached which means the coef_ did not converge\n",
      "  warnings.warn(\n",
      "C:\\Users\\user\\anaconda3\\lib\\site-packages\\sklearn\\linear_model\\_sag.py:350: ConvergenceWarning: The max_iter was reached which means the coef_ did not converge\n",
      "  warnings.warn(\n",
      "C:\\Users\\user\\anaconda3\\lib\\site-packages\\sklearn\\linear_model\\_sag.py:350: ConvergenceWarning: The max_iter was reached which means the coef_ did not converge\n",
      "  warnings.warn(\n",
      "C:\\Users\\user\\anaconda3\\lib\\site-packages\\sklearn\\linear_model\\_sag.py:350: ConvergenceWarning: The max_iter was reached which means the coef_ did not converge\n",
      "  warnings.warn(\n",
      "C:\\Users\\user\\anaconda3\\lib\\site-packages\\sklearn\\linear_model\\_sag.py:350: ConvergenceWarning: The max_iter was reached which means the coef_ did not converge\n",
      "  warnings.warn(\n",
      "C:\\Users\\user\\anaconda3\\lib\\site-packages\\sklearn\\linear_model\\_sag.py:350: ConvergenceWarning: The max_iter was reached which means the coef_ did not converge\n",
      "  warnings.warn(\n",
      "C:\\Users\\user\\anaconda3\\lib\\site-packages\\sklearn\\linear_model\\_sag.py:350: ConvergenceWarning: The max_iter was reached which means the coef_ did not converge\n",
      "  warnings.warn(\n",
      "C:\\Users\\user\\anaconda3\\lib\\site-packages\\sklearn\\linear_model\\_sag.py:350: ConvergenceWarning: The max_iter was reached which means the coef_ did not converge\n",
      "  warnings.warn(\n",
      "C:\\Users\\user\\anaconda3\\lib\\site-packages\\sklearn\\linear_model\\_sag.py:350: ConvergenceWarning: The max_iter was reached which means the coef_ did not converge\n",
      "  warnings.warn(\n",
      "C:\\Users\\user\\anaconda3\\lib\\site-packages\\sklearn\\linear_model\\_sag.py:350: ConvergenceWarning: The max_iter was reached which means the coef_ did not converge\n",
      "  warnings.warn(\n",
      "C:\\Users\\user\\anaconda3\\lib\\site-packages\\sklearn\\linear_model\\_sag.py:350: ConvergenceWarning: The max_iter was reached which means the coef_ did not converge\n",
      "  warnings.warn(\n",
      "C:\\Users\\user\\anaconda3\\lib\\site-packages\\sklearn\\linear_model\\_sag.py:350: ConvergenceWarning: The max_iter was reached which means the coef_ did not converge\n",
      "  warnings.warn(\n",
      "C:\\Users\\user\\anaconda3\\lib\\site-packages\\sklearn\\linear_model\\_sag.py:350: ConvergenceWarning: The max_iter was reached which means the coef_ did not converge\n",
      "  warnings.warn(\n",
      "C:\\Users\\user\\anaconda3\\lib\\site-packages\\sklearn\\linear_model\\_sag.py:350: ConvergenceWarning: The max_iter was reached which means the coef_ did not converge\n",
      "  warnings.warn(\n",
      "C:\\Users\\user\\anaconda3\\lib\\site-packages\\sklearn\\linear_model\\_sag.py:350: ConvergenceWarning: The max_iter was reached which means the coef_ did not converge\n",
      "  warnings.warn(\n",
      "C:\\Users\\user\\anaconda3\\lib\\site-packages\\sklearn\\linear_model\\_sag.py:350: ConvergenceWarning: The max_iter was reached which means the coef_ did not converge\n",
      "  warnings.warn(\n",
      "C:\\Users\\user\\anaconda3\\lib\\site-packages\\sklearn\\linear_model\\_sag.py:350: ConvergenceWarning: The max_iter was reached which means the coef_ did not converge\n",
      "  warnings.warn(\n",
      "C:\\Users\\user\\anaconda3\\lib\\site-packages\\sklearn\\linear_model\\_sag.py:350: ConvergenceWarning: The max_iter was reached which means the coef_ did not converge\n",
      "  warnings.warn(\n"
     ]
    },
    {
     "data": {
      "text/plain": "{'C': 0.7092857142857143, 'penalty': 'l2', 'solver': 'liblinear'}"
     },
     "execution_count": 30,
     "metadata": {},
     "output_type": "execute_result"
    }
   ],
   "source": [
    "from sklearn.linear_model import LogisticRegression\n",
    "\n",
    "# Define the range of values for each hyperparameter\n",
    "C = np.linspace(0.01, 0.9, 15)\n",
    "PENALTY = ['l1', 'l2']\n",
    "SOLVER = ['liblinear', 'saga']\n",
    "\n",
    "PARAM_GRID  = {\n",
    "    'C': C,\n",
    "    'penalty': PENALTY,\n",
    "    'solver': SOLVER\n",
    "}\n",
    "\n",
    "# Create the logistic regression estimator\n",
    "estimator = LogisticRegression(random_state=420)\n",
    "\n",
    "# Use grid search and cross-validation to tune the hyper parameters\n",
    "model_searcher = GridSearchCV(estimator, PARAM_GRID, verbose=0)\n",
    "model_searcher.fit(X_train_preprocessed, y_train)\n",
    "\n",
    "# The best combination of hyperparameters\n",
    "model_searcher.best_params_"
   ],
   "metadata": {
    "collapsed": false,
    "ExecuteTime": {
     "end_time": "2023-06-06T12:56:37.913348300Z",
     "start_time": "2023-06-06T12:56:17.425534600Z"
    }
   }
  },
  {
   "cell_type": "code",
   "execution_count": 31,
   "outputs": [
    {
     "name": "stdout",
     "output_type": "stream",
     "text": [
      "Logistic Regression (test data)\n",
      "Accuracy: 0.61\n",
      "Precision: 0.83\n",
      "Recall: 0.67\n",
      "F1-score: 0.74\n",
      "ROC-AUC score: 0.49\n"
     ]
    },
    {
     "data": {
      "text/plain": "<Figure size 576x576 with 2 Axes>",
      "image/png": "[encoded data removed]"
     },
     "metadata": {},
     "output_type": "display_data"
    }
   ],
   "source": [
    "# Get the best estimator\n",
    "log_reg_best_estimator = model_searcher.best_estimator_\n",
    "y_test_pred = log_reg_best_estimator.predict(X_test_preprocessed)\n",
    "\n",
    "evaluate_model(\"Logistic Regression (test data)\", y_test, y_test_pred)"
   ],
   "metadata": {
    "collapsed": false,
    "ExecuteTime": {
     "end_time": "2023-06-06T12:56:38.035057200Z",
     "start_time": "2023-06-06T12:56:37.911353600Z"
    }
   }
  },
  {
   "cell_type": "markdown",
   "source": [
    "Gradient Boosting model"
   ],
   "metadata": {
    "collapsed": false
   }
  },
  {
   "cell_type": "code",
   "execution_count": 32,
   "outputs": [
    {
     "data": {
      "text/plain": "{'learning_rate': 0.5, 'max_depth': 3, 'n_estimators': 175}"
     },
     "execution_count": 32,
     "metadata": {},
     "output_type": "execute_result"
    }
   ],
   "source": [
    "from sklearn.ensemble import GradientBoostingClassifier\n",
    "\n",
    "# Define the range of values for each hyperparameter\n",
    "LEARNING_RATE = np.linspace(0.01, 0.5, 10)\n",
    "MAX_DEPTH = range(2, 4)\n",
    "N_ESTIMATORS = range(100, 180, 15)\n",
    "\n",
    "\n",
    "PARAM_GRID  = {\n",
    "    'learning_rate': LEARNING_RATE,\n",
    "    'max_depth': MAX_DEPTH,\n",
    "    'n_estimators': N_ESTIMATORS\n",
    "}\n",
    "\n",
    "# Create the gradient boosting estimator\n",
    "estimator = GradientBoostingClassifier(random_state=420)\n",
    "\n",
    "# Use grid search and cross-validation to tune the hyper parameters\n",
    "model_searcher = GridSearchCV(estimator, PARAM_GRID, verbose=0)\n",
    "model_searcher.fit(X_train_preprocessed, y_train)\n",
    "\n",
    "# The best combination of hyperparameters\n",
    "model_searcher.best_params_"
   ],
   "metadata": {
    "collapsed": false,
    "ExecuteTime": {
     "end_time": "2023-06-06T13:16:06.102930400Z",
     "start_time": "2023-06-06T12:56:38.035057200Z"
    }
   }
  },
  {
   "cell_type": "code",
   "execution_count": 33,
   "outputs": [
    {
     "name": "stdout",
     "output_type": "stream",
     "text": [
      "Gradient Boosting (test data)\n",
      "Accuracy: 0.74\n",
      "Precision: 0.84\n",
      "Recall: 0.86\n",
      "F1-score: 0.85\n",
      "ROC-AUC score: 0.51\n"
     ]
    },
    {
     "data": {
      "text/plain": "<Figure size 576x576 with 2 Axes>",
      "image/png": "[encoded data removed]"
     },
     "metadata": {},
     "output_type": "display_data"
    }
   ],
   "source": [
    "# Get the best estimator\n",
    "gb_best_estimator = model_searcher.best_estimator_\n",
    "y_test_pred = gb_best_estimator.predict(X_test_preprocessed)\n",
    "\n",
    "evaluate_model(\"Gradient Boosting (test data)\", y_test, y_test_pred)"
   ],
   "metadata": {
    "collapsed": false,
    "ExecuteTime": {
     "end_time": "2023-06-06T13:16:06.211883200Z",
     "start_time": "2023-06-06T13:16:06.105921100Z"
    }
   }
  },
  {
   "cell_type": "markdown",
   "source": [
    "Random Forest model"
   ],
   "metadata": {
    "collapsed": false
   }
  },
  {
   "cell_type": "code",
   "execution_count": 34,
   "outputs": [
    {
     "data": {
      "text/plain": "{'max_depth': 4,\n 'min_samples_leaf': 3,\n 'min_samples_split': 2,\n 'n_estimators': 95}"
     },
     "execution_count": 34,
     "metadata": {},
     "output_type": "execute_result"
    }
   ],
   "source": [
    "from sklearn.ensemble import RandomForestClassifier\n",
    "\n",
    "# Define the range of values for each hyperparameter\n",
    "N_ESTIMATORS = range(50, 120, 15)\n",
    "MAX_DEPTH = range(2, 5)\n",
    "MIN_SAMPLES_SPLIT = range(2, 4)\n",
    "MIN_SAMPLES_LEAF = range(1, 4)\n",
    "\n",
    "PARAM_GRID  = {\n",
    "    'n_estimators': N_ESTIMATORS,\n",
    "    'max_depth': MAX_DEPTH,\n",
    "    'min_samples_split': MIN_SAMPLES_SPLIT,\n",
    "    'min_samples_leaf': MIN_SAMPLES_LEAF\n",
    "}\n",
    "\n",
    "# Create the random forest estimator\n",
    "estimator = RandomForestClassifier(random_state=420)\n",
    "\n",
    "# Use grid search and cross-validation to tune the hyper parameters\n",
    "model_searcher = GridSearchCV(estimator, PARAM_GRID, verbose=0)\n",
    "model_searcher.fit(X_train_preprocessed, y_train)\n",
    "\n",
    "# The best combination of hyperparameters\n",
    "model_searcher.best_params_"
   ],
   "metadata": {
    "collapsed": false,
    "ExecuteTime": {
     "end_time": "2023-06-06T13:17:12.604112300Z",
     "start_time": "2023-06-06T13:16:06.214879900Z"
    }
   }
  },
  {
   "cell_type": "code",
   "execution_count": 35,
   "outputs": [
    {
     "name": "stdout",
     "output_type": "stream",
     "text": [
      "Random Forest (test data)\n",
      "Accuracy: 0.63\n",
      "Precision: 0.83\n",
      "Recall: 0.7\n",
      "F1-score: 0.76\n",
      "ROC-AUC score: 0.48\n"
     ]
    },
    {
     "data": {
      "text/plain": "<Figure size 576x576 with 2 Axes>",
      "image/png": "[encoded data removed]"
     },
     "metadata": {},
     "output_type": "display_data"
    }
   ],
   "source": [
    "rf_best_estimator = model_searcher.best_estimator_\n",
    "y_test_pred = rf_best_estimator.predict(X_test_preprocessed)\n",
    "\n",
    "evaluate_model(\"Random Forest (test data)\", y_test, y_test_pred)"
   ],
   "metadata": {
    "collapsed": false,
    "ExecuteTime": {
     "end_time": "2023-06-06T13:17:12.713384300Z",
     "start_time": "2023-06-06T13:17:12.608082900Z"
    }
   }
  },
  {
   "cell_type": "markdown",
   "source": [
    "XGBoost model"
   ],
   "metadata": {
    "collapsed": false
   }
  },
  {
   "cell_type": "code",
   "execution_count": 36,
   "outputs": [
    {
     "data": {
      "text/plain": "{'learning_rate': 0.45, 'max_depth': 3, 'n_estimators': 100}"
     },
     "execution_count": 36,
     "metadata": {},
     "output_type": "execute_result"
    }
   ],
   "source": [
    "from xgboost import XGBClassifier\n",
    "\n",
    "# Define the range of values for each hyperparameter\n",
    "LEARNING_RATE = np.linspace(0.05, 0.5, 10)\n",
    "MAX_DEPTH = range(1, 4)\n",
    "N_ESTIMATORS = range(70, 150, 15)\n",
    "\n",
    "PARAM_GRID  = {\n",
    "    'learning_rate': LEARNING_RATE,\n",
    "    'max_depth': MAX_DEPTH,\n",
    "    'n_estimators': N_ESTIMATORS\n",
    "}\n",
    "\n",
    "# Create the XGBoost estimator\n",
    "estimator = XGBClassifier(random_state=420)\n",
    "\n",
    "# Use grid search and cross-validation to tune the hyper parameters\n",
    "model_searcher = GridSearchCV(estimator, PARAM_GRID, verbose=0)\n",
    "model_searcher.fit(X_train_preprocessed, y_train)\n",
    "\n",
    "# The best combination of hyperparameters\n",
    "model_searcher.best_params_"
   ],
   "metadata": {
    "collapsed": false,
    "ExecuteTime": {
     "end_time": "2023-06-06T13:19:09.529379400Z",
     "start_time": "2023-06-06T13:17:12.715372300Z"
    }
   }
  },
  {
   "cell_type": "markdown",
   "source": [
    "Evaluate the best model on the test data"
   ],
   "metadata": {
    "collapsed": false
   }
  },
  {
   "cell_type": "code",
   "execution_count": 37,
   "outputs": [
    {
     "name": "stdout",
     "output_type": "stream",
     "text": [
      "XGBoost (test data)\n",
      "Accuracy: 0.67\n",
      "Precision: 0.81\n",
      "Recall: 0.8\n",
      "F1-score: 0.8\n",
      "ROC-AUC score: 0.42\n"
     ]
    },
    {
     "data": {
      "text/plain": "<Figure size 576x576 with 2 Axes>",
      "image/png": "[encoded data removed]"
     },
     "metadata": {},
     "output_type": "display_data"
    }
   ],
   "source": [
    "xgb_best_estimator = model_searcher.best_estimator_\n",
    "y_test_pred = xgb_best_estimator.predict(X_test_preprocessed)\n",
    "\n",
    "evaluate_model(\"XGBoost (test data)\", y_test, y_test_pred)"
   ],
   "metadata": {
    "collapsed": false,
    "ExecuteTime": {
     "end_time": "2023-06-06T13:19:09.684732900Z",
     "start_time": "2023-06-06T13:19:09.530376700Z"
    }
   }
  },
  {
   "cell_type": "markdown",
   "source": [
    "TabNetClassifier with automatic hyperparameters tuning"
   ],
   "metadata": {
    "collapsed": false
   }
  },
  {
   "cell_type": "code",
   "execution_count": 38,
   "outputs": [
    {
     "name": "stdout",
     "output_type": "stream",
     "text": [
      "Requirement already satisfied: pytorch-tabnet in c:\\users\\user\\anaconda3\\lib\\site-packages (4.0)\n",
      "Requirement already satisfied: scikit_learn>0.21 in c:\\users\\user\\anaconda3\\lib\\site-packages (from pytorch-tabnet) (1.2.2)\n",
      "Requirement already satisfied: tqdm<5.0,>=4.36 in c:\\users\\user\\anaconda3\\lib\\site-packages (from pytorch-tabnet) (4.62.3)\n",
      "Requirement already satisfied: scipy>1.4 in c:\\users\\user\\appdata\\roaming\\python\\python39\\site-packages (from pytorch-tabnet) (1.10.1)\n",
      "Requirement already satisfied: torch<2.0,>=1.2 in c:\\users\\user\\anaconda3\\lib\\site-packages (from pytorch-tabnet) (1.13.1)\n",
      "Requirement already satisfied: numpy<2.0,>=1.17 in c:\\users\\user\\anaconda3\\lib\\site-packages (from pytorch-tabnet) (1.20.3)\n",
      "Requirement already satisfied: threadpoolctl>=2.0.0 in c:\\users\\user\\anaconda3\\lib\\site-packages (from scikit_learn>0.21->pytorch-tabnet) (2.2.0)\n",
      "Requirement already satisfied: joblib>=1.1.1 in c:\\users\\user\\anaconda3\\lib\\site-packages (from scikit_learn>0.21->pytorch-tabnet) (1.2.0)\n",
      "Requirement already satisfied: typing-extensions in c:\\users\\user\\anaconda3\\lib\\site-packages (from torch<2.0,>=1.2->pytorch-tabnet) (4.4.0)\n",
      "Requirement already satisfied: colorama in c:\\users\\user\\anaconda3\\lib\\site-packages (from tqdm<5.0,>=4.36->pytorch-tabnet) (0.4.4)\n",
      "Requirement already satisfied: optuna in c:\\users\\user\\anaconda3\\lib\\site-packages (3.1.1)\n",
      "Requirement already satisfied: sqlalchemy>=1.3.0 in c:\\users\\user\\anaconda3\\lib\\site-packages (from optuna) (1.4.22)\n",
      "Requirement already satisfied: tqdm in c:\\users\\user\\anaconda3\\lib\\site-packages (from optuna) (4.62.3)\n",
      "Requirement already satisfied: packaging>=20.0 in c:\\users\\user\\anaconda3\\lib\\site-packages (from optuna) (23.0)\n",
      "Requirement already satisfied: numpy in c:\\users\\user\\anaconda3\\lib\\site-packages (from optuna) (1.20.3)\n",
      "Requirement already satisfied: cmaes>=0.9.1 in c:\\users\\user\\anaconda3\\lib\\site-packages (from optuna) (0.9.1)\n",
      "Requirement already satisfied: alembic>=1.5.0 in c:\\users\\user\\anaconda3\\lib\\site-packages (from optuna) (1.10.3)\n",
      "Requirement already satisfied: PyYAML in c:\\users\\user\\anaconda3\\lib\\site-packages (from optuna) (6.0)\n",
      "Requirement already satisfied: colorlog in c:\\users\\user\\anaconda3\\lib\\site-packages (from optuna) (6.7.0)\n",
      "Requirement already satisfied: typing-extensions>=4 in c:\\users\\user\\anaconda3\\lib\\site-packages (from alembic>=1.5.0->optuna) (4.4.0)\n",
      "Requirement already satisfied: Mako in c:\\users\\user\\anaconda3\\lib\\site-packages (from alembic>=1.5.0->optuna) (1.2.4)\n",
      "Requirement already satisfied: greenlet!=0.4.17 in c:\\users\\user\\anaconda3\\lib\\site-packages (from sqlalchemy>=1.3.0->optuna) (1.1.1)\n",
      "Requirement already satisfied: colorama in c:\\users\\user\\anaconda3\\lib\\site-packages (from colorlog->optuna) (0.4.4)\n",
      "Requirement already satisfied: MarkupSafe>=0.9.2 in c:\\users\\user\\anaconda3\\lib\\site-packages (from Mako->alembic>=1.5.0->optuna) (1.1.1)\n"
     ]
    }
   ],
   "source": [
    "!pip install pytorch-tabnet\n",
    "!pip install optuna"
   ],
   "metadata": {
    "collapsed": false,
    "ExecuteTime": {
     "end_time": "2023-06-06T13:19:13.932090300Z",
     "start_time": "2023-06-06T13:19:09.685733400Z"
    }
   }
  },
  {
   "cell_type": "code",
   "execution_count": 39,
   "outputs": [],
   "source": [
    "# Convert Pandas DataFrame to NumPy array\n",
    "X_train_np = X_train_preprocessed.values\n",
    "X_test_np = X_test_preprocessed.values"
   ],
   "metadata": {
    "collapsed": false,
    "ExecuteTime": {
     "end_time": "2023-06-06T13:19:13.960684400Z",
     "start_time": "2023-06-06T13:19:13.933157200Z"
    }
   }
  },
  {
   "cell_type": "code",
   "execution_count": 40,
   "outputs": [
    {
     "name": "stderr",
     "output_type": "stream",
     "text": [
      "\u001B[32m[I 2023-06-06 16:19:15,009]\u001B[0m A new study created in memory with name: no-name-2023d1b7-326d-43fe-9a39-6833917b51ff\u001B[0m\n"
     ]
    },
    {
     "name": "stdout",
     "output_type": "stream",
     "text": [
      "\n",
      "Early stopping occurred at epoch 10 with best_epoch = 0 and best_val_0_auc = 0.53402\n"
     ]
    },
    {
     "name": "stderr",
     "output_type": "stream",
     "text": [
      "C:\\Users\\user\\anaconda3\\lib\\site-packages\\pytorch_tabnet\\callbacks.py:172: UserWarning: Best weights from best epoch are automatically used!\n",
      "  warnings.warn(wrn_msg)\n",
      "\u001B[32m[I 2023-06-06 16:19:15,926]\u001B[0m Trial 0 finished with value: 0.5340236686390532 and parameters: {'n_d': 43, 'n_a': 56, 'n_steps': 4, 'gamma': 0.6111942402177748, 'n_independent': 2, 'n_shared': 10, 'lambda_sparse': 0.028128811141477437}. Best is trial 0 with value: 0.5340236686390532.\u001B[0m\n",
      "C:\\Users\\user\\anaconda3\\lib\\site-packages\\pytorch_tabnet\\callbacks.py:172: UserWarning: Best weights from best epoch are automatically used!\n",
      "  warnings.warn(wrn_msg)\n",
      "\u001B[32m[I 2023-06-06 16:19:16,461]\u001B[0m Trial 1 finished with value: 0.5310650887573964 and parameters: {'n_d': 26, 'n_a': 19, 'n_steps': 9, 'gamma': 1.4763431078358231, 'n_independent': 1, 'n_shared': 2, 'lambda_sparse': 0.04972036811322602}. Best is trial 0 with value: 0.5340236686390532.\u001B[0m\n"
     ]
    },
    {
     "name": "stdout",
     "output_type": "stream",
     "text": [
      "\n",
      "Early stopping occurred at epoch 10 with best_epoch = 0 and best_val_0_auc = 0.53107\n",
      "\n",
      "Early stopping occurred at epoch 10 with best_epoch = 0 and best_val_0_auc = 0.50385\n"
     ]
    },
    {
     "name": "stderr",
     "output_type": "stream",
     "text": [
      "C:\\Users\\user\\anaconda3\\lib\\site-packages\\pytorch_tabnet\\callbacks.py:172: UserWarning: Best weights from best epoch are automatically used!\n",
      "  warnings.warn(wrn_msg)\n",
      "\u001B[32m[I 2023-06-06 16:19:17,560]\u001B[0m Trial 2 finished with value: 0.5038461538461538 and parameters: {'n_d': 42, 'n_a': 28, 'n_steps': 5, 'gamma': 0.8079474698077915, 'n_independent': 9, 'n_shared': 7, 'lambda_sparse': 0.05598792951550308}. Best is trial 0 with value: 0.5340236686390532.\u001B[0m\n"
     ]
    },
    {
     "name": "stdout",
     "output_type": "stream",
     "text": [
      "\n",
      "Early stopping occurred at epoch 10 with best_epoch = 0 and best_val_0_auc = 0.51923\n"
     ]
    },
    {
     "name": "stderr",
     "output_type": "stream",
     "text": [
      "C:\\Users\\user\\anaconda3\\lib\\site-packages\\pytorch_tabnet\\callbacks.py:172: UserWarning: Best weights from best epoch are automatically used!\n",
      "  warnings.warn(wrn_msg)\n",
      "\u001B[32m[I 2023-06-06 16:19:18,943]\u001B[0m Trial 3 finished with value: 0.5192307692307693 and parameters: {'n_d': 41, 'n_a': 8, 'n_steps': 7, 'gamma': 0.967324061615665, 'n_independent': 10, 'n_shared': 8, 'lambda_sparse': 0.055216048684709536}. Best is trial 0 with value: 0.5340236686390532.\u001B[0m\n",
      "C:\\Users\\user\\anaconda3\\lib\\site-packages\\pytorch_tabnet\\callbacks.py:172: UserWarning: Best weights from best epoch are automatically used!\n",
      "  warnings.warn(wrn_msg)\n",
      "\u001B[32m[I 2023-06-06 16:19:19,198]\u001B[0m Trial 4 finished with value: 0.49171597633136094 and parameters: {'n_d': 26, 'n_a': 28, 'n_steps': 2, 'gamma': 1.8332831324478576, 'n_independent': 6, 'n_shared': 2, 'lambda_sparse': 0.03490973747899827}. Best is trial 0 with value: 0.5340236686390532.\u001B[0m\n"
     ]
    },
    {
     "name": "stdout",
     "output_type": "stream",
     "text": [
      "\n",
      "Early stopping occurred at epoch 10 with best_epoch = 0 and best_val_0_auc = 0.49172\n"
     ]
    },
    {
     "name": "stderr",
     "output_type": "stream",
     "text": [
      "C:\\Users\\user\\anaconda3\\lib\\site-packages\\pytorch_tabnet\\callbacks.py:172: UserWarning: Best weights from best epoch are automatically used!\n",
      "  warnings.warn(wrn_msg)\n",
      "\u001B[32m[I 2023-06-06 16:19:19,668]\u001B[0m Trial 5 finished with value: 0.4409763313609467 and parameters: {'n_d': 29, 'n_a': 19, 'n_steps': 3, 'gamma': 1.3105729404705904, 'n_independent': 4, 'n_shared': 8, 'lambda_sparse': 0.011832368532984104}. Best is trial 0 with value: 0.5340236686390532.\u001B[0m\n"
     ]
    },
    {
     "name": "stdout",
     "output_type": "stream",
     "text": [
      "\n",
      "Early stopping occurred at epoch 10 with best_epoch = 0 and best_val_0_auc = 0.44098\n",
      "\n",
      "Early stopping occurred at epoch 10 with best_epoch = 0 and best_val_0_auc = 0.48846\n"
     ]
    },
    {
     "name": "stderr",
     "output_type": "stream",
     "text": [
      "C:\\Users\\user\\anaconda3\\lib\\site-packages\\pytorch_tabnet\\callbacks.py:172: UserWarning: Best weights from best epoch are automatically used!\n",
      "  warnings.warn(wrn_msg)\n",
      "\u001B[32m[I 2023-06-06 16:19:21,960]\u001B[0m Trial 6 finished with value: 0.4884615384615385 and parameters: {'n_d': 63, 'n_a': 36, 'n_steps': 7, 'gamma': 1.8288811711582307, 'n_independent': 8, 'n_shared': 10, 'lambda_sparse': 0.0127707868078502}. Best is trial 0 with value: 0.5340236686390532.\u001B[0m\n"
     ]
    },
    {
     "name": "stdout",
     "output_type": "stream",
     "text": [
      "\n",
      "Early stopping occurred at epoch 10 with best_epoch = 0 and best_val_0_auc = 0.40385\n"
     ]
    },
    {
     "name": "stderr",
     "output_type": "stream",
     "text": [
      "C:\\Users\\user\\anaconda3\\lib\\site-packages\\pytorch_tabnet\\callbacks.py:172: UserWarning: Best weights from best epoch are automatically used!\n",
      "  warnings.warn(wrn_msg)\n",
      "\u001B[32m[I 2023-06-06 16:19:23,482]\u001B[0m Trial 7 finished with value: 0.4038461538461538 and parameters: {'n_d': 23, 'n_a': 29, 'n_steps': 8, 'gamma': 1.9615704542589023, 'n_independent': 9, 'n_shared': 7, 'lambda_sparse': 0.06807899235182567}. Best is trial 0 with value: 0.5340236686390532.\u001B[0m\n",
      "C:\\Users\\user\\anaconda3\\lib\\site-packages\\pytorch_tabnet\\callbacks.py:172: UserWarning: Best weights from best epoch are automatically used!\n",
      "  warnings.warn(wrn_msg)\n",
      "\u001B[32m[I 2023-06-06 16:19:23,710]\u001B[0m Trial 8 finished with value: 0.43476331360946746 and parameters: {'n_d': 15, 'n_a': 49, 'n_steps': 1, 'gamma': 0.6447515694368079, 'n_independent': 5, 'n_shared': 5, 'lambda_sparse': 0.014581064446534755}. Best is trial 0 with value: 0.5340236686390532.\u001B[0m\n"
     ]
    },
    {
     "name": "stdout",
     "output_type": "stream",
     "text": [
      "\n",
      "Early stopping occurred at epoch 10 with best_epoch = 0 and best_val_0_auc = 0.43476\n",
      "\n",
      "Early stopping occurred at epoch 10 with best_epoch = 0 and best_val_0_auc = 0.46568\n"
     ]
    },
    {
     "name": "stderr",
     "output_type": "stream",
     "text": [
      "C:\\Users\\user\\anaconda3\\lib\\site-packages\\pytorch_tabnet\\callbacks.py:172: UserWarning: Best weights from best epoch are automatically used!\n",
      "  warnings.warn(wrn_msg)\n",
      "\u001B[32m[I 2023-06-06 16:19:25,213]\u001B[0m Trial 9 finished with value: 0.46568047337278107 and parameters: {'n_d': 34, 'n_a': 49, 'n_steps': 9, 'gamma': 0.4114546873222179, 'n_independent': 7, 'n_shared': 4, 'lambda_sparse': 0.07163158497731816}. Best is trial 0 with value: 0.5340236686390532.\u001B[0m\n",
      "C:\\Users\\user\\anaconda3\\lib\\site-packages\\pytorch_tabnet\\callbacks.py:172: UserWarning: Best weights from best epoch are automatically used!\n",
      "  warnings.warn(wrn_msg)\n",
      "\u001B[32m[I 2023-06-06 16:19:26,024]\u001B[0m Trial 10 finished with value: 0.5375739644970414 and parameters: {'n_d': 53, 'n_a': 64, 'n_steps': 4, 'gamma': 0.18076738014571975, 'n_independent': 1, 'n_shared': 10, 'lambda_sparse': 0.09016861219070245}. Best is trial 10 with value: 0.5375739644970414.\u001B[0m\n"
     ]
    },
    {
     "name": "stdout",
     "output_type": "stream",
     "text": [
      "\n",
      "Early stopping occurred at epoch 10 with best_epoch = 0 and best_val_0_auc = 0.53757\n"
     ]
    },
    {
     "name": "stderr",
     "output_type": "stream",
     "text": [
      "C:\\Users\\user\\anaconda3\\lib\\site-packages\\pytorch_tabnet\\callbacks.py:172: UserWarning: Best weights from best epoch are automatically used!\n",
      "  warnings.warn(wrn_msg)\n",
      "\u001B[32m[I 2023-06-06 16:19:26,847]\u001B[0m Trial 11 finished with value: 0.39215976331360947 and parameters: {'n_d': 54, 'n_a': 62, 'n_steps': 4, 'gamma': 0.11157002013736472, 'n_independent': 1, 'n_shared': 10, 'lambda_sparse': 0.09556012142828159}. Best is trial 10 with value: 0.5375739644970414.\u001B[0m\n"
     ]
    },
    {
     "name": "stdout",
     "output_type": "stream",
     "text": [
      "\n",
      "Early stopping occurred at epoch 10 with best_epoch = 0 and best_val_0_auc = 0.39216\n",
      "\n",
      "Early stopping occurred at epoch 10 with best_epoch = 0 and best_val_0_auc = 0.51686\n"
     ]
    },
    {
     "name": "stderr",
     "output_type": "stream",
     "text": [
      "C:\\Users\\user\\anaconda3\\lib\\site-packages\\pytorch_tabnet\\callbacks.py:172: UserWarning: Best weights from best epoch are automatically used!\n",
      "  warnings.warn(wrn_msg)\n",
      "\u001B[32m[I 2023-06-06 16:19:28,028]\u001B[0m Trial 12 finished with value: 0.5168639053254438 and parameters: {'n_d': 52, 'n_a': 64, 'n_steps': 5, 'gamma': 0.19121388038750053, 'n_independent': 3, 'n_shared': 10, 'lambda_sparse': 0.09276032471661583}. Best is trial 10 with value: 0.5375739644970414.\u001B[0m\n",
      "C:\\Users\\user\\anaconda3\\lib\\site-packages\\pytorch_tabnet\\callbacks.py:172: UserWarning: Best weights from best epoch are automatically used!\n",
      "  warnings.warn(wrn_msg)\n",
      "\u001B[32m[I 2023-06-06 16:19:28,634]\u001B[0m Trial 13 finished with value: 0.4970414201183431 and parameters: {'n_d': 51, 'n_a': 53, 'n_steps': 3, 'gamma': 0.4972232046109417, 'n_independent': 2, 'n_shared': 9, 'lambda_sparse': 0.03033184622757519}. Best is trial 10 with value: 0.5375739644970414.\u001B[0m\n"
     ]
    },
    {
     "name": "stdout",
     "output_type": "stream",
     "text": [
      "\n",
      "Early stopping occurred at epoch 10 with best_epoch = 0 and best_val_0_auc = 0.49704\n"
     ]
    },
    {
     "name": "stderr",
     "output_type": "stream",
     "text": [
      "C:\\Users\\user\\anaconda3\\lib\\site-packages\\pytorch_tabnet\\callbacks.py:172: UserWarning: Best weights from best epoch are automatically used!\n",
      "  warnings.warn(wrn_msg)\n",
      "\u001B[32m[I 2023-06-06 16:19:29,496]\u001B[0m Trial 14 finished with value: 0.48786982248520705 and parameters: {'n_d': 64, 'n_a': 56, 'n_steps': 6, 'gamma': 0.36862392499355195, 'n_independent': 3, 'n_shared': 6, 'lambda_sparse': 0.00022425300258955075}. Best is trial 10 with value: 0.5375739644970414.\u001B[0m\n"
     ]
    },
    {
     "name": "stdout",
     "output_type": "stream",
     "text": [
      "\n",
      "Early stopping occurred at epoch 10 with best_epoch = 0 and best_val_0_auc = 0.48787\n"
     ]
    },
    {
     "name": "stderr",
     "output_type": "stream",
     "text": [
      "C:\\Users\\user\\anaconda3\\lib\\site-packages\\pytorch_tabnet\\callbacks.py:172: UserWarning: Best weights from best epoch are automatically used!\n",
      "  warnings.warn(wrn_msg)\n",
      "\u001B[32m[I 2023-06-06 16:19:30,131]\u001B[0m Trial 15 finished with value: 0.41139053254437874 and parameters: {'n_d': 44, 'n_a': 41, 'n_steps': 4, 'gamma': 0.6854031768972161, 'n_independent': 2, 'n_shared': 9, 'lambda_sparse': 0.08645081278485856}. Best is trial 10 with value: 0.5375739644970414.\u001B[0m\n"
     ]
    },
    {
     "name": "stdout",
     "output_type": "stream",
     "text": [
      "\n",
      "Early stopping occurred at epoch 10 with best_epoch = 0 and best_val_0_auc = 0.41139\n"
     ]
    },
    {
     "name": "stderr",
     "output_type": "stream",
     "text": [
      "C:\\Users\\user\\anaconda3\\lib\\site-packages\\pytorch_tabnet\\callbacks.py:172: UserWarning: Best weights from best epoch are automatically used!\n",
      "  warnings.warn(wrn_msg)\n",
      "\u001B[32m[I 2023-06-06 16:19:30,391]\u001B[0m Trial 16 finished with value: 0.48949704142011835 and parameters: {'n_d': 56, 'n_a': 58, 'n_steps': 1, 'gamma': 0.295338587133209, 'n_independent': 4, 'n_shared': 4, 'lambda_sparse': 0.08099854485357083}. Best is trial 10 with value: 0.5375739644970414.\u001B[0m\n"
     ]
    },
    {
     "name": "stdout",
     "output_type": "stream",
     "text": [
      "\n",
      "Early stopping occurred at epoch 10 with best_epoch = 0 and best_val_0_auc = 0.4895\n"
     ]
    },
    {
     "name": "stderr",
     "output_type": "stream",
     "text": [
      "C:\\Users\\user\\anaconda3\\lib\\site-packages\\pytorch_tabnet\\callbacks.py:172: UserWarning: Best weights from best epoch are automatically used!\n",
      "  warnings.warn(wrn_msg)\n",
      "\u001B[32m[I 2023-06-06 16:19:30,854]\u001B[0m Trial 17 finished with value: 0.590828402366864 and parameters: {'n_d': 47, 'n_a': 44, 'n_steps': 3, 'gamma': 0.1066776866156178, 'n_independent': 1, 'n_shared': 8, 'lambda_sparse': 0.0999151934063888}. Best is trial 17 with value: 0.590828402366864.\u001B[0m\n"
     ]
    },
    {
     "name": "stdout",
     "output_type": "stream",
     "text": [
      "\n",
      "Early stopping occurred at epoch 10 with best_epoch = 0 and best_val_0_auc = 0.59083\n"
     ]
    },
    {
     "name": "stderr",
     "output_type": "stream",
     "text": [
      "C:\\Users\\user\\anaconda3\\lib\\site-packages\\pytorch_tabnet\\callbacks.py:172: UserWarning: Best weights from best epoch are automatically used!\n",
      "  warnings.warn(wrn_msg)\n",
      "\u001B[32m[I 2023-06-06 16:19:31,126]\u001B[0m Trial 18 finished with value: 0.5991124260355029 and parameters: {'n_d': 8, 'n_a': 41, 'n_steps': 2, 'gamma': 0.12907062862364982, 'n_independent': 1, 'n_shared': 8, 'lambda_sparse': 0.09870733469232815}. Best is trial 18 with value: 0.5991124260355029.\u001B[0m\n"
     ]
    },
    {
     "name": "stdout",
     "output_type": "stream",
     "text": [
      "\n",
      "Early stopping occurred at epoch 10 with best_epoch = 0 and best_val_0_auc = 0.59911\n"
     ]
    },
    {
     "name": "stderr",
     "output_type": "stream",
     "text": [
      "C:\\Users\\user\\anaconda3\\lib\\site-packages\\pytorch_tabnet\\callbacks.py:172: UserWarning: Best weights from best epoch are automatically used!\n",
      "  warnings.warn(wrn_msg)\n",
      "\u001B[32m[I 2023-06-06 16:19:31,470]\u001B[0m Trial 19 finished with value: 0.5181952662721894 and parameters: {'n_d': 13, 'n_a': 42, 'n_steps': 2, 'gamma': 0.10478661652807432, 'n_independent': 5, 'n_shared': 6, 'lambda_sparse': 0.09793079069459656}. Best is trial 18 with value: 0.5991124260355029.\u001B[0m\n"
     ]
    },
    {
     "name": "stdout",
     "output_type": "stream",
     "text": [
      "\n",
      "Early stopping occurred at epoch 10 with best_epoch = 0 and best_val_0_auc = 0.5182\n"
     ]
    },
    {
     "name": "stderr",
     "output_type": "stream",
     "text": [
      "C:\\Users\\user\\anaconda3\\lib\\site-packages\\pytorch_tabnet\\callbacks.py:172: UserWarning: Best weights from best epoch are automatically used!\n",
      "  warnings.warn(wrn_msg)\n",
      "\u001B[32m[I 2023-06-06 16:19:31,827]\u001B[0m Trial 20 finished with value: 0.5366863905325445 and parameters: {'n_d': 19, 'n_a': 42, 'n_steps': 2, 'gamma': 0.42339012040797874, 'n_independent': 3, 'n_shared': 8, 'lambda_sparse': 0.08007680848309232}. Best is trial 18 with value: 0.5991124260355029.\u001B[0m\n"
     ]
    },
    {
     "name": "stdout",
     "output_type": "stream",
     "text": [
      "\n",
      "Early stopping occurred at epoch 10 with best_epoch = 0 and best_val_0_auc = 0.53669\n"
     ]
    },
    {
     "name": "stderr",
     "output_type": "stream",
     "text": [
      "C:\\Users\\user\\anaconda3\\lib\\site-packages\\pytorch_tabnet\\callbacks.py:172: UserWarning: Best weights from best epoch are automatically used!\n",
      "  warnings.warn(wrn_msg)\n",
      "\u001B[32m[I 2023-06-06 16:19:32,320]\u001B[0m Trial 21 finished with value: 0.47011834319526624 and parameters: {'n_d': 48, 'n_a': 36, 'n_steps': 3, 'gamma': 0.24661670710665967, 'n_independent': 1, 'n_shared': 9, 'lambda_sparse': 0.0989589063119161}. Best is trial 18 with value: 0.5991124260355029.\u001B[0m\n"
     ]
    },
    {
     "name": "stdout",
     "output_type": "stream",
     "text": [
      "\n",
      "Early stopping occurred at epoch 10 with best_epoch = 0 and best_val_0_auc = 0.47012\n"
     ]
    },
    {
     "name": "stderr",
     "output_type": "stream",
     "text": [
      "C:\\Users\\user\\anaconda3\\lib\\site-packages\\pytorch_tabnet\\callbacks.py:172: UserWarning: Best weights from best epoch are automatically used!\n",
      "  warnings.warn(wrn_msg)\n",
      "\u001B[32m[I 2023-06-06 16:19:32,752]\u001B[0m Trial 22 finished with value: 0.6263313609467456 and parameters: {'n_d': 8, 'n_a': 47, 'n_steps': 3, 'gamma': 0.11197739466881915, 'n_independent': 1, 'n_shared': 7, 'lambda_sparse': 0.0857568872892501}. Best is trial 22 with value: 0.6263313609467456.\u001B[0m\n"
     ]
    },
    {
     "name": "stdout",
     "output_type": "stream",
     "text": [
      "\n",
      "Early stopping occurred at epoch 10 with best_epoch = 0 and best_val_0_auc = 0.62633\n"
     ]
    },
    {
     "name": "stderr",
     "output_type": "stream",
     "text": [
      "C:\\Users\\user\\anaconda3\\lib\\site-packages\\pytorch_tabnet\\callbacks.py:172: UserWarning: Best weights from best epoch are automatically used!\n",
      "  warnings.warn(wrn_msg)\n",
      "\u001B[32m[I 2023-06-06 16:19:33,007]\u001B[0m Trial 23 finished with value: 0.4928994082840236 and parameters: {'n_d': 8, 'n_a': 46, 'n_steps': 1, 'gamma': 0.3053976163416216, 'n_independent': 2, 'n_shared': 7, 'lambda_sparse': 0.08811735304441294}. Best is trial 22 with value: 0.6263313609467456.\u001B[0m\n"
     ]
    },
    {
     "name": "stdout",
     "output_type": "stream",
     "text": [
      "\n",
      "Early stopping occurred at epoch 10 with best_epoch = 0 and best_val_0_auc = 0.4929\n"
     ]
    },
    {
     "name": "stderr",
     "output_type": "stream",
     "text": [
      "C:\\Users\\user\\anaconda3\\lib\\site-packages\\pytorch_tabnet\\callbacks.py:172: UserWarning: Best weights from best epoch are automatically used!\n",
      "  warnings.warn(wrn_msg)\n",
      "\u001B[32m[I 2023-06-06 16:19:33,233]\u001B[0m Trial 24 finished with value: 0.4918639053254438 and parameters: {'n_d': 8, 'n_a': 48, 'n_steps': 2, 'gamma': 0.11260773417208507, 'n_independent': 1, 'n_shared': 5, 'lambda_sparse': 0.09966697708752786}. Best is trial 22 with value: 0.6263313609467456.\u001B[0m\n"
     ]
    },
    {
     "name": "stdout",
     "output_type": "stream",
     "text": [
      "\n",
      "Early stopping occurred at epoch 10 with best_epoch = 0 and best_val_0_auc = 0.49186\n"
     ]
    },
    {
     "name": "stderr",
     "output_type": "stream",
     "text": [
      "C:\\Users\\user\\anaconda3\\lib\\site-packages\\pytorch_tabnet\\callbacks.py:172: UserWarning: Best weights from best epoch are automatically used!\n",
      "  warnings.warn(wrn_msg)\n",
      "\u001B[32m[I 2023-06-06 16:19:33,743]\u001B[0m Trial 25 finished with value: 0.42085798816568043 and parameters: {'n_d': 35, 'n_a': 40, 'n_steps': 3, 'gamma': 0.5300481966819889, 'n_independent': 4, 'n_shared': 7, 'lambda_sparse': 0.08037359467058854}. Best is trial 22 with value: 0.6263313609467456.\u001B[0m\n"
     ]
    },
    {
     "name": "stdout",
     "output_type": "stream",
     "text": [
      "\n",
      "Early stopping occurred at epoch 10 with best_epoch = 0 and best_val_0_auc = 0.42086\n"
     ]
    },
    {
     "name": "stderr",
     "output_type": "stream",
     "text": [
      "C:\\Users\\user\\anaconda3\\lib\\site-packages\\pytorch_tabnet\\callbacks.py:172: UserWarning: Best weights from best epoch are automatically used!\n",
      "  warnings.warn(wrn_msg)\n",
      "\u001B[32m[I 2023-06-06 16:19:34,307]\u001B[0m Trial 26 finished with value: 0.42159763313609466 and parameters: {'n_d': 14, 'n_a': 32, 'n_steps': 5, 'gamma': 0.29682001479004616, 'n_independent': 3, 'n_shared': 8, 'lambda_sparse': 0.09130461089398552}. Best is trial 22 with value: 0.6263313609467456.\u001B[0m\n"
     ]
    },
    {
     "name": "stdout",
     "output_type": "stream",
     "text": [
      "\n",
      "Early stopping occurred at epoch 10 with best_epoch = 0 and best_val_0_auc = 0.4216\n"
     ]
    },
    {
     "name": "stderr",
     "output_type": "stream",
     "text": [
      "C:\\Users\\user\\anaconda3\\lib\\site-packages\\pytorch_tabnet\\callbacks.py:172: UserWarning: Best weights from best epoch are automatically used!\n",
      "  warnings.warn(wrn_msg)\n",
      "\u001B[32m[I 2023-06-06 16:19:35,179]\u001B[0m Trial 27 finished with value: 0.5923076923076923 and parameters: {'n_d': 19, 'n_a': 45, 'n_steps': 10, 'gamma': 0.493511405887485, 'n_independent': 2, 'n_shared': 6, 'lambda_sparse': 0.08590206652868741}. Best is trial 22 with value: 0.6263313609467456.\u001B[0m\n"
     ]
    },
    {
     "name": "stdout",
     "output_type": "stream",
     "text": [
      "\n",
      "Early stopping occurred at epoch 10 with best_epoch = 0 and best_val_0_auc = 0.59231\n"
     ]
    },
    {
     "name": "stderr",
     "output_type": "stream",
     "text": [
      "C:\\Users\\user\\anaconda3\\lib\\site-packages\\pytorch_tabnet\\callbacks.py:172: UserWarning: Best weights from best epoch are automatically used!\n",
      "  warnings.warn(wrn_msg)\n",
      "\u001B[32m[I 2023-06-06 16:19:35,890]\u001B[0m Trial 28 finished with value: 0.5618343195266273 and parameters: {'n_d': 19, 'n_a': 53, 'n_steps': 10, 'gamma': 0.45295055221466807, 'n_independent': 2, 'n_shared': 4, 'lambda_sparse': 0.07164367459306605}. Best is trial 22 with value: 0.6263313609467456.\u001B[0m\n"
     ]
    },
    {
     "name": "stdout",
     "output_type": "stream",
     "text": [
      "\n",
      "Early stopping occurred at epoch 10 with best_epoch = 0 and best_val_0_auc = 0.56183\n"
     ]
    },
    {
     "name": "stderr",
     "output_type": "stream",
     "text": [
      "C:\\Users\\user\\anaconda3\\lib\\site-packages\\pytorch_tabnet\\callbacks.py:172: UserWarning: Best weights from best epoch are automatically used!\n",
      "  warnings.warn(wrn_msg)\n",
      "\u001B[32m[I 2023-06-06 16:19:36,418]\u001B[0m Trial 29 finished with value: 0.5084319526627218 and parameters: {'n_d': 12, 'n_a': 37, 'n_steps': 6, 'gamma': 0.5562566349460056, 'n_independent': 2, 'n_shared': 6, 'lambda_sparse': 0.08672476494451173}. Best is trial 22 with value: 0.6263313609467456.\u001B[0m\n"
     ]
    },
    {
     "name": "stdout",
     "output_type": "stream",
     "text": [
      "\n",
      "Early stopping occurred at epoch 10 with best_epoch = 0 and best_val_0_auc = 0.50843\n"
     ]
    },
    {
     "name": "stderr",
     "output_type": "stream",
     "text": [
      "C:\\Users\\user\\anaconda3\\lib\\site-packages\\pytorch_tabnet\\callbacks.py:172: UserWarning: Best weights from best epoch are automatically used!\n",
      "  warnings.warn(wrn_msg)\n",
      "\u001B[32m[I 2023-06-06 16:19:37,013]\u001B[0m Trial 30 finished with value: 0.5094674556213018 and parameters: {'n_d': 18, 'n_a': 52, 'n_steps': 10, 'gamma': 0.27944910552442426, 'n_independent': 3, 'n_shared': 1, 'lambda_sparse': 0.0781541895430328}. Best is trial 22 with value: 0.6263313609467456.\u001B[0m\n"
     ]
    },
    {
     "name": "stdout",
     "output_type": "stream",
     "text": [
      "\n",
      "Early stopping occurred at epoch 10 with best_epoch = 0 and best_val_0_auc = 0.50947\n"
     ]
    },
    {
     "name": "stderr",
     "output_type": "stream",
     "text": [
      "C:\\Users\\user\\anaconda3\\lib\\site-packages\\pytorch_tabnet\\callbacks.py:172: UserWarning: Best weights from best epoch are automatically used!\n",
      "  warnings.warn(wrn_msg)\n",
      "\u001B[32m[I 2023-06-06 16:19:37,410]\u001B[0m Trial 31 finished with value: 0.4094674556213018 and parameters: {'n_d': 8, 'n_a': 43, 'n_steps': 4, 'gamma': 0.20594292785089974, 'n_independent': 1, 'n_shared': 7, 'lambda_sparse': 0.09362414276795612}. Best is trial 22 with value: 0.6263313609467456.\u001B[0m\n"
     ]
    },
    {
     "name": "stdout",
     "output_type": "stream",
     "text": [
      "\n",
      "Early stopping occurred at epoch 10 with best_epoch = 0 and best_val_0_auc = 0.40947\n"
     ]
    },
    {
     "name": "stderr",
     "output_type": "stream",
     "text": [
      "C:\\Users\\user\\anaconda3\\lib\\site-packages\\pytorch_tabnet\\callbacks.py:172: UserWarning: Best weights from best epoch are automatically used!\n",
      "  warnings.warn(wrn_msg)\n",
      "\u001B[32m[I 2023-06-06 16:19:37,723]\u001B[0m Trial 32 finished with value: 0.5576923076923077 and parameters: {'n_d': 11, 'n_a': 45, 'n_steps': 3, 'gamma': 0.3724428211560026, 'n_independent': 1, 'n_shared': 6, 'lambda_sparse': 0.09949285864743404}. Best is trial 22 with value: 0.6263313609467456.\u001B[0m\n"
     ]
    },
    {
     "name": "stdout",
     "output_type": "stream",
     "text": [
      "\n",
      "Early stopping occurred at epoch 10 with best_epoch = 0 and best_val_0_auc = 0.55769\n"
     ]
    },
    {
     "name": "stderr",
     "output_type": "stream",
     "text": [
      "C:\\Users\\user\\anaconda3\\lib\\site-packages\\pytorch_tabnet\\callbacks.py:172: UserWarning: Best weights from best epoch are automatically used!\n",
      "  warnings.warn(wrn_msg)\n",
      "\u001B[32m[I 2023-06-06 16:19:38,015]\u001B[0m Trial 33 finished with value: 0.5044378698224853 and parameters: {'n_d': 22, 'n_a': 38, 'n_steps': 2, 'gamma': 0.11052588511997921, 'n_independent': 1, 'n_shared': 8, 'lambda_sparse': 0.08608084780205018}. Best is trial 22 with value: 0.6263313609467456.\u001B[0m\n"
     ]
    },
    {
     "name": "stdout",
     "output_type": "stream",
     "text": [
      "\n",
      "Early stopping occurred at epoch 10 with best_epoch = 0 and best_val_0_auc = 0.50444\n",
      "\n",
      "Early stopping occurred at epoch 10 with best_epoch = 0 and best_val_0_auc = 0.50533\n"
     ]
    },
    {
     "name": "stderr",
     "output_type": "stream",
     "text": [
      "C:\\Users\\user\\anaconda3\\lib\\site-packages\\pytorch_tabnet\\callbacks.py:172: UserWarning: Best weights from best epoch are automatically used!\n",
      "  warnings.warn(wrn_msg)\n",
      "\u001B[32m[I 2023-06-06 16:19:39,201]\u001B[0m Trial 34 finished with value: 0.5053254437869823 and parameters: {'n_d': 31, 'n_a': 33, 'n_steps': 9, 'gamma': 0.7444108322301904, 'n_independent': 2, 'n_shared': 9, 'lambda_sparse': 0.09145861684653232}. Best is trial 22 with value: 0.6263313609467456.\u001B[0m\n",
      "C:\\Users\\user\\anaconda3\\lib\\site-packages\\pytorch_tabnet\\callbacks.py:172: UserWarning: Best weights from best epoch are automatically used!\n",
      "  warnings.warn(wrn_msg)\n",
      "\u001B[32m[I 2023-06-06 16:19:39,774]\u001B[0m Trial 35 finished with value: 0.4119822485207101 and parameters: {'n_d': 39, 'n_a': 46, 'n_steps': 7, 'gamma': 0.5979166845190181, 'n_independent': 1, 'n_shared': 5, 'lambda_sparse': 0.06506098671727809}. Best is trial 22 with value: 0.6263313609467456.\u001B[0m\n"
     ]
    },
    {
     "name": "stdout",
     "output_type": "stream",
     "text": [
      "\n",
      "Early stopping occurred at epoch 10 with best_epoch = 0 and best_val_0_auc = 0.41198\n"
     ]
    },
    {
     "name": "stderr",
     "output_type": "stream",
     "text": [
      "C:\\Users\\user\\anaconda3\\lib\\site-packages\\pytorch_tabnet\\callbacks.py:172: UserWarning: Best weights from best epoch are automatically used!\n",
      "  warnings.warn(wrn_msg)\n",
      "\u001B[32m[I 2023-06-06 16:19:40,259]\u001B[0m Trial 36 finished with value: 0.5692307692307693 and parameters: {'n_d': 24, 'n_a': 25, 'n_steps': 5, 'gamma': 0.8730874496085141, 'n_independent': 2, 'n_shared': 7, 'lambda_sparse': 0.08334666111415935}. Best is trial 22 with value: 0.6263313609467456.\u001B[0m\n"
     ]
    },
    {
     "name": "stdout",
     "output_type": "stream",
     "text": [
      "\n",
      "Early stopping occurred at epoch 10 with best_epoch = 0 and best_val_0_auc = 0.56923\n"
     ]
    },
    {
     "name": "stderr",
     "output_type": "stream",
     "text": [
      "C:\\Users\\user\\anaconda3\\lib\\site-packages\\pytorch_tabnet\\callbacks.py:172: UserWarning: Best weights from best epoch are automatically used!\n",
      "  warnings.warn(wrn_msg)\n",
      "\u001B[32m[I 2023-06-06 16:19:40,470]\u001B[0m Trial 37 finished with value: 0.47958579881656804 and parameters: {'n_d': 17, 'n_a': 9, 'n_steps': 1, 'gamma': 0.37013931215082774, 'n_independent': 4, 'n_shared': 8, 'lambda_sparse': 0.07570648205152848}. Best is trial 22 with value: 0.6263313609467456.\u001B[0m\n"
     ]
    },
    {
     "name": "stdout",
     "output_type": "stream",
     "text": [
      "\n",
      "Early stopping occurred at epoch 10 with best_epoch = 0 and best_val_0_auc = 0.47959\n",
      "\n",
      "Early stopping occurred at epoch 10 with best_epoch = 0 and best_val_0_auc = 0.5429\n"
     ]
    },
    {
     "name": "stderr",
     "output_type": "stream",
     "text": [
      "C:\\Users\\user\\anaconda3\\lib\\site-packages\\pytorch_tabnet\\callbacks.py:172: UserWarning: Best weights from best epoch are automatically used!\n",
      "  warnings.warn(wrn_msg)\n",
      "\u001B[32m[I 2023-06-06 16:19:41,521]\u001B[0m Trial 38 finished with value: 0.5428994082840237 and parameters: {'n_d': 27, 'n_a': 57, 'n_steps': 8, 'gamma': 0.49005888813967313, 'n_independent': 6, 'n_shared': 3, 'lambda_sparse': 0.09436719100914903}. Best is trial 22 with value: 0.6263313609467456.\u001B[0m\n",
      "C:\\Users\\user\\anaconda3\\lib\\site-packages\\pytorch_tabnet\\callbacks.py:172: UserWarning: Best weights from best epoch are automatically used!\n",
      "  warnings.warn(wrn_msg)\n",
      "\u001B[32m[I 2023-06-06 16:19:41,932]\u001B[0m Trial 39 finished with value: 0.5118343195266273 and parameters: {'n_d': 45, 'n_a': 51, 'n_steps': 2, 'gamma': 0.22318115717401582, 'n_independent': 3, 'n_shared': 7, 'lambda_sparse': 0.08392044048403788}. Best is trial 22 with value: 0.6263313609467456.\u001B[0m\n"
     ]
    },
    {
     "name": "stdout",
     "output_type": "stream",
     "text": [
      "\n",
      "Early stopping occurred at epoch 10 with best_epoch = 0 and best_val_0_auc = 0.51183\n",
      "\n",
      "Early stopping occurred at epoch 10 with best_epoch = 0 and best_val_0_auc = 0.44615\n"
     ]
    },
    {
     "name": "stderr",
     "output_type": "stream",
     "text": [
      "C:\\Users\\user\\anaconda3\\lib\\site-packages\\pytorch_tabnet\\callbacks.py:172: UserWarning: Best weights from best epoch are automatically used!\n",
      "  warnings.warn(wrn_msg)\n",
      "\u001B[32m[I 2023-06-06 16:19:42,971]\u001B[0m Trial 40 finished with value: 0.4461538461538462 and parameters: {'n_d': 60, 'n_a': 32, 'n_steps': 3, 'gamma': 1.0238330936670825, 'n_independent': 10, 'n_shared': 8, 'lambda_sparse': 0.06082642757319894}. Best is trial 22 with value: 0.6263313609467456.\u001B[0m\n",
      "C:\\Users\\user\\anaconda3\\lib\\site-packages\\pytorch_tabnet\\callbacks.py:172: UserWarning: Best weights from best epoch are automatically used!\n",
      "  warnings.warn(wrn_msg)\n",
      "\u001B[32m[I 2023-06-06 16:19:43,355]\u001B[0m Trial 41 finished with value: 0.580473372781065 and parameters: {'n_d': 22, 'n_a': 24, 'n_steps': 4, 'gamma': 0.8740290366001908, 'n_independent': 2, 'n_shared': 7, 'lambda_sparse': 0.0841964435939527}. Best is trial 22 with value: 0.6263313609467456.\u001B[0m\n"
     ]
    },
    {
     "name": "stdout",
     "output_type": "stream",
     "text": [
      "\n",
      "Early stopping occurred at epoch 10 with best_epoch = 0 and best_val_0_auc = 0.58047\n",
      "epoch 0  | loss: 0.0     |  0:00:00s\n",
      "epoch 1  | loss: 0.0     |  0:00:00s\n",
      "epoch 2  | loss: 0.0     |  0:00:00s\n",
      "epoch 3  | loss: 0.0     |  0:00:00s\n",
      "epoch 4  | loss: 0.0     |  0:00:00s\n",
      "epoch 5  | loss: 0.0     |  0:00:00s\n",
      "epoch 6  | loss: 0.0     |  0:00:00s\n",
      "epoch 7  | loss: 0.0     |  0:00:00s\n",
      "epoch 8  | loss: 0.0     |  0:00:00s\n",
      "epoch 9  | loss: 0.0     |  0:00:00s\n",
      "epoch 10 | loss: 0.0     |  0:00:00s\n",
      "epoch 11 | loss: 0.0     |  0:00:00s\n",
      "epoch 12 | loss: 0.0     |  0:00:00s\n",
      "epoch 13 | loss: 0.0     |  0:00:00s\n",
      "epoch 14 | loss: 0.0     |  0:00:00s\n",
      "epoch 15 | loss: 0.0     |  0:00:00s\n",
      "epoch 16 | loss: 0.0     |  0:00:00s\n",
      "epoch 17 | loss: 0.0     |  0:00:00s\n",
      "epoch 18 | loss: 0.0     |  0:00:00s\n",
      "epoch 19 | loss: 0.0     |  0:00:00s\n",
      "epoch 20 | loss: 0.0     |  0:00:00s\n",
      "epoch 21 | loss: 0.0     |  0:00:00s\n",
      "epoch 22 | loss: 0.0     |  0:00:00s\n",
      "epoch 23 | loss: 0.0     |  0:00:00s\n",
      "epoch 24 | loss: 0.0     |  0:00:00s\n",
      "epoch 25 | loss: 0.0     |  0:00:00s\n",
      "epoch 26 | loss: 0.0     |  0:00:00s\n",
      "epoch 27 | loss: 0.0     |  0:00:00s\n",
      "epoch 28 | loss: 0.0     |  0:00:00s\n",
      "epoch 29 | loss: 0.0     |  0:00:00s\n",
      "epoch 30 | loss: 0.0     |  0:00:00s\n",
      "epoch 31 | loss: 0.0     |  0:00:00s\n",
      "epoch 32 | loss: 0.0     |  0:00:00s\n",
      "epoch 33 | loss: 0.0     |  0:00:00s\n",
      "epoch 34 | loss: 0.0     |  0:00:00s\n",
      "epoch 35 | loss: 0.0     |  0:00:00s\n",
      "epoch 36 | loss: 0.0     |  0:00:00s\n",
      "epoch 37 | loss: 0.0     |  0:00:00s\n",
      "epoch 38 | loss: 0.0     |  0:00:00s\n",
      "epoch 39 | loss: 0.0     |  0:00:00s\n",
      "epoch 40 | loss: 0.0     |  0:00:00s\n",
      "epoch 41 | loss: 0.0     |  0:00:00s\n",
      "epoch 42 | loss: 0.0     |  0:00:00s\n",
      "epoch 43 | loss: 0.0     |  0:00:00s\n",
      "epoch 44 | loss: 0.0     |  0:00:00s\n",
      "epoch 45 | loss: 0.0     |  0:00:00s\n",
      "epoch 46 | loss: 0.0     |  0:00:00s\n",
      "epoch 47 | loss: 0.0     |  0:00:00s\n",
      "epoch 48 | loss: 0.0     |  0:00:00s\n",
      "epoch 49 | loss: 0.0     |  0:00:00s\n",
      "epoch 50 | loss: 0.0     |  0:00:00s\n",
      "epoch 51 | loss: 0.0     |  0:00:00s\n",
      "epoch 52 | loss: 0.0     |  0:00:00s\n",
      "epoch 53 | loss: 0.0     |  0:00:00s\n",
      "epoch 54 | loss: 0.0     |  0:00:00s\n",
      "epoch 55 | loss: 0.0     |  0:00:00s\n",
      "epoch 56 | loss: 0.0     |  0:00:00s\n",
      "epoch 57 | loss: 0.0     |  0:00:00s\n",
      "epoch 58 | loss: 0.0     |  0:00:00s\n",
      "epoch 59 | loss: 0.0     |  0:00:00s\n",
      "epoch 60 | loss: 0.0     |  0:00:00s\n",
      "epoch 61 | loss: 0.0     |  0:00:00s\n",
      "epoch 62 | loss: 0.0     |  0:00:00s\n",
      "epoch 63 | loss: 0.0     |  0:00:00s\n",
      "epoch 64 | loss: 0.0     |  0:00:00s\n",
      "epoch 65 | loss: 0.0     |  0:00:00s\n",
      "epoch 66 | loss: 0.0     |  0:00:00s\n",
      "epoch 67 | loss: 0.0     |  0:00:00s\n",
      "epoch 68 | loss: 0.0     |  0:00:00s\n",
      "epoch 69 | loss: 0.0     |  0:00:00s\n",
      "epoch 70 | loss: 0.0     |  0:00:00s\n",
      "epoch 71 | loss: 0.0     |  0:00:00s\n",
      "epoch 72 | loss: 0.0     |  0:00:00s\n",
      "epoch 73 | loss: 0.0     |  0:00:00s\n",
      "epoch 74 | loss: 0.0     |  0:00:00s\n",
      "epoch 75 | loss: 0.0     |  0:00:00s\n",
      "epoch 76 | loss: 0.0     |  0:00:00s\n",
      "epoch 77 | loss: 0.0     |  0:00:00s\n",
      "epoch 78 | loss: 0.0     |  0:00:00s\n",
      "epoch 79 | loss: 0.0     |  0:00:00s\n",
      "epoch 80 | loss: 0.0     |  0:00:00s\n",
      "epoch 81 | loss: 0.0     |  0:00:00s\n",
      "epoch 82 | loss: 0.0     |  0:00:00s\n",
      "epoch 83 | loss: 0.0     |  0:00:00s\n",
      "epoch 84 | loss: 0.0     |  0:00:00s\n",
      "epoch 85 | loss: 0.0     |  0:00:00s\n",
      "epoch 86 | loss: 0.0     |  0:00:00s\n",
      "epoch 87 | loss: 0.0     |  0:00:00s\n",
      "epoch 88 | loss: 0.0     |  0:00:00s\n",
      "epoch 89 | loss: 0.0     |  0:00:00s\n",
      "epoch 90 | loss: 0.0     |  0:00:00s\n",
      "epoch 91 | loss: 0.0     |  0:00:00s\n",
      "epoch 92 | loss: 0.0     |  0:00:00s\n",
      "epoch 93 | loss: 0.0     |  0:00:00s\n",
      "epoch 94 | loss: 0.0     |  0:00:00s\n",
      "epoch 95 | loss: 0.0     |  0:00:00s\n"
     ]
    },
    {
     "name": "stderr",
     "output_type": "stream",
     "text": [
      "C:\\Users\\user\\anaconda3\\lib\\site-packages\\pytorch_tabnet\\abstract_model.py:75: UserWarning: Device used : cpu\n",
      "  warnings.warn(f\"Device used : {self.device}\")\n",
      "C:\\Users\\user\\anaconda3\\lib\\site-packages\\pytorch_tabnet\\abstract_model.py:651: UserWarning: No early stopping will be performed, last training weights will be used.\n",
      "  warnings.warn(wrn_msg)\n"
     ]
    },
    {
     "name": "stdout",
     "output_type": "stream",
     "text": [
      "epoch 96 | loss: 0.0     |  0:00:00s\n",
      "epoch 97 | loss: 0.0     |  0:00:00s\n",
      "epoch 98 | loss: 0.0     |  0:00:00s\n",
      "epoch 99 | loss: 0.0     |  0:00:00s\n"
     ]
    },
    {
     "data": {
      "text/plain": "{'n_d': 8,\n 'n_a': 47,\n 'n_steps': 3,\n 'gamma': 0.11197739466881915,\n 'n_independent': 1,\n 'n_shared': 7,\n 'lambda_sparse': 0.0857568872892501}"
     },
     "execution_count": 40,
     "metadata": {},
     "output_type": "execute_result"
    }
   ],
   "source": [
    "import torch\n",
    "from pytorch_tabnet.tab_model import TabNetClassifier\n",
    "import optuna\n",
    "from sklearn.metrics import mean_squared_error\n",
    "\n",
    "# Define objective function for optuna\n",
    "def objective(trial):\n",
    "    # Generate hyperparameter search space\n",
    "    params = {\n",
    "        'n_d': trial.suggest_int('n_d', 8, 64),\n",
    "        'n_a': trial.suggest_int('n_a', 8, 64),\n",
    "        'n_steps': trial.suggest_int('n_steps', 1, 10),\n",
    "        'gamma': trial.suggest_float('gamma', 0.1, 2.0),\n",
    "        'n_independent': trial.suggest_int('n_independent', 1, 10),\n",
    "        'n_shared': trial.suggest_int('n_shared', 1, 10),\n",
    "        'lambda_sparse': trial.suggest_float('lambda_sparse', 0.0001, 0.1),\n",
    "        # 'optimizer_fn': torch.optim.Adam,\n",
    "        # 'optimizer_params': dict(lr=2e-2, weight_decay=1e-5),\n",
    "        # 'mask_type': 'entmax',\n",
    "        # 'scheduler_params': dict(mode=\"min\", patience=5, min_lr=1e-5, factor=0.9,),\n",
    "        # 'scheduler_fn': torch.optim.lr_scheduler.ReduceLROnPlateau,\n",
    "        'verbose': 0\n",
    "    }\n",
    "\n",
    "    # Create TabNetClassifier object with hyperparameters from optuna\n",
    "    classifier = TabNetClassifier(**params)\n",
    "\n",
    "    # Train and evaluate the model\n",
    "    classifier.fit(X_train_np, y_train, eval_set=[(X_test_np, y_test)])\n",
    "    val_preds = classifier.predict_proba(X_test_np)[:, 1]\n",
    "    val_auc = roc_auc_score(y_test, val_preds)\n",
    "\n",
    "    return val_auc\n",
    "\n",
    "# Create optuna study\n",
    "study = optuna.create_study(direction='maximize')\n",
    "\n",
    "# Optimize hyperparameters using optuna\n",
    "study.optimize(objective, n_trials=42, timeout=600)\n",
    "\n",
    "# Get best hyperparameters from optuna\n",
    "best_params = study.best_trial.params\n",
    "\n",
    "# Train final model with best hyperparameters\n",
    "final_classifier = TabNetClassifier(**best_params)\n",
    "final_classifier.fit(X_train_np, y_train)\n",
    "best_params"
   ],
   "metadata": {
    "collapsed": false,
    "ExecuteTime": {
     "end_time": "2023-06-06T13:19:43.537569300Z",
     "start_time": "2023-06-06T13:19:13.952072600Z"
    }
   }
  },
  {
   "cell_type": "markdown",
   "source": [
    "Evaluate the best model on the test data"
   ],
   "metadata": {
    "collapsed": false
   }
  },
  {
   "cell_type": "code",
   "execution_count": 41,
   "outputs": [
    {
     "name": "stdout",
     "output_type": "stream",
     "text": [
      "Tabnet (test data)\n",
      "Accuracy: 0.59\n",
      "Precision: 0.88\n",
      "Recall: 0.58\n",
      "F1-score: 0.7\n",
      "ROC-AUC score: 0.6\n"
     ]
    },
    {
     "data": {
      "text/plain": "<Figure size 576x576 with 2 Axes>",
      "image/png": "[encoded data removed]"
     },
     "metadata": {},
     "output_type": "display_data"
    }
   ],
   "source": [
    "# Evaluate final model on test set\n",
    "y_test_pred = final_classifier.predict(X_test_np)\n",
    "evaluate_model(\"Tabnet (test data)\", y_test, y_test_pred)"
   ],
   "metadata": {
    "collapsed": false,
    "ExecuteTime": {
     "end_time": "2023-06-06T13:19:43.670725700Z",
     "start_time": "2023-06-06T13:19:43.528078700Z"
    }
   }
  },
  {
   "cell_type": "markdown",
   "source": [
    "The best model is Gradient Boosting"
   ],
   "metadata": {
    "collapsed": false
   }
  },
  {
   "cell_type": "code",
   "execution_count": 42,
   "outputs": [],
   "source": [
    "the_best_model_ever = final_classifier"
   ],
   "metadata": {
    "collapsed": false,
    "ExecuteTime": {
     "end_time": "2023-06-06T13:19:43.730569500Z",
     "start_time": "2023-06-06T13:19:43.672720400Z"
    }
   }
  },
  {
   "cell_type": "markdown",
   "source": [
    "Feature importance"
   ],
   "metadata": {
    "collapsed": false
   }
  },
  {
   "cell_type": "code",
   "execution_count": 43,
   "outputs": [
    {
     "data": {
      "text/plain": "                                              importance\nlast_onset_Std_Saccades_End_In_RoI_Pre          0.068481\nvis_angle_Saccades_End_First_In_RoI_Pre         0.063202\npeak_velocity_Min_Saccades_End_In_RoI_Pre       0.055857\npeak_velocity_Max_Saccades_End_In_RoI_Post      0.031068\nDuration_Fixations_First_In_RoI_Pre             0.026920\n...                                                  ...\nDuration_Max_Saccades_End_In_RoI_Post           0.001179\nDuration_Max_Saccades_Start_In_RoI_Post         0.001111\npeak_velocity_Min_Saccades_Start_In_RoI_Post    0.001108\nSaccades_End_In\\out_RoI_Ratio_Pre               0.000709\nlast_onset_Std_Saccades_End_In_RoI_Post         0.000606\n\n[112 rows x 1 columns]",
      "text/html": "<div>\n<style scoped>\n    .dataframe tbody tr th:only-of-type {\n        vertical-align: middle;\n    }\n\n    .dataframe tbody tr th {\n        vertical-align: top;\n    }\n\n    .dataframe thead th {\n        text-align: right;\n    }\n</style>\n<table border=\"1\" class=\"dataframe\">\n  <thead>\n    <tr style=\"text-align: right;\">\n      <th></th>\n      <th>importance</th>\n    </tr>\n  </thead>\n  <tbody>\n    <tr>\n      <th>last_onset_Std_Saccades_End_In_RoI_Pre</th>\n      <td>0.068481</td>\n    </tr>\n    <tr>\n      <th>vis_angle_Saccades_End_First_In_RoI_Pre</th>\n      <td>0.063202</td>\n    </tr>\n    <tr>\n      <th>peak_velocity_Min_Saccades_End_In_RoI_Pre</th>\n      <td>0.055857</td>\n    </tr>\n    <tr>\n      <th>peak_velocity_Max_Saccades_End_In_RoI_Post</th>\n      <td>0.031068</td>\n    </tr>\n    <tr>\n      <th>Duration_Fixations_First_In_RoI_Pre</th>\n      <td>0.026920</td>\n    </tr>\n    <tr>\n      <th>...</th>\n      <td>...</td>\n    </tr>\n    <tr>\n      <th>Duration_Max_Saccades_End_In_RoI_Post</th>\n      <td>0.001179</td>\n    </tr>\n    <tr>\n      <th>Duration_Max_Saccades_Start_In_RoI_Post</th>\n      <td>0.001111</td>\n    </tr>\n    <tr>\n      <th>peak_velocity_Min_Saccades_Start_In_RoI_Post</th>\n      <td>0.001108</td>\n    </tr>\n    <tr>\n      <th>Saccades_End_In\\out_RoI_Ratio_Pre</th>\n      <td>0.000709</td>\n    </tr>\n    <tr>\n      <th>last_onset_Std_Saccades_End_In_RoI_Post</th>\n      <td>0.000606</td>\n    </tr>\n  </tbody>\n</table>\n<p>112 rows × 1 columns</p>\n</div>"
     },
     "execution_count": 43,
     "metadata": {},
     "output_type": "execute_result"
    }
   ],
   "source": [
    "feature_importances = pd.DataFrame(the_best_model_ever.feature_importances_,\n",
    "                                   index = X_train_preprocessed.columns,\n",
    "                                    columns=['importance']).sort_values('importance', ascending=False)\n",
    "feature_importances"
   ],
   "metadata": {
    "collapsed": false,
    "ExecuteTime": {
     "end_time": "2023-06-06T13:19:43.730569500Z",
     "start_time": "2023-06-06T13:19:43.690672400Z"
    }
   }
  },
  {
   "cell_type": "markdown",
   "source": [
    "\n"
   ],
   "metadata": {
    "collapsed": false
   }
  }
 ],
 "metadata": {
  "kernelspec": {
   "display_name": "Python 3",
   "language": "python",
   "name": "python3"
  },
  "language_info": {
   "codemirror_mode": {
    "name": "ipython",
    "version": 2
   },
   "file_extension": ".py",
   "mimetype": "text/x-python",
   "name": "python",
   "nbconvert_exporter": "python",
   "pygments_lexer": "ipython2",
   "version": "2.7.6"
  }
 },
 "nbformat": 4,
 "nbformat_minor": 0
}
