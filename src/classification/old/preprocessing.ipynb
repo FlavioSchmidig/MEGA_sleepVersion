{
 "cells": [
  {
   "cell_type": "code",
   "execution_count": 1,
   "metadata": {
    "collapsed": true,
    "pycharm": {
     "name": "#%%\n"
    }
   },
   "outputs": [],
   "source": [
    "# Import necessary libraries\n",
    "import numpy as np # linear algebra\n",
    "import pandas as pd # data processing, CSV file I/O (e.g. pd.read_csv)\n",
    "import pytorch_lightning as pl\n",
    "import torch\n",
    "from torch.utils.data import Dataset, DataLoader\n",
    "from multiprocessing import cpu_count\n",
    "import torch.nn as nn\n",
    "import torch.nn.functional as F\n",
    "from sklearn.model_selection import train_test_split\n",
    "from pytorch_lightning.loggers import TensorBoardLogger\n",
    "from pytorch_lightning.callbacks import ModelCheckpoint, EarlyStopping\n",
    "import torch.autograd as autograd\n",
    "import torchmetrics\n",
    "import torch.optim as optim\n",
    "import matplotlib.pyplot as plt   # plotting\n",
    "import seaborn as sns   # plotting heatmap\n",
    "from src.classification import utils\n",
    "from src import config\n",
    "import os\n",
    "\n",
    "from src.utils import round_down_to_closest_even, convert_dict_to_series\n",
    "from src.statistical_analysis.business.DistanceFocusingLogic import recenter_distances, cut_tail, cut_prefix\n",
    "\n",
    "%matplotlib inline"
   ]
  },
  {
   "cell_type": "code",
   "execution_count": 2,
   "outputs": [],
   "source": [
    "def get_all_valid_subject_data_df():\n",
    "    df_nap = pd.read_pickle(os.path.join(os.path.join(config.get_project_root(), \"resources\", \"nap\", \"data\"), config.RAW_GAZE_FILE))\n",
    "    df_no_nap = pd.read_pickle(os.path.join(os.path.join(config.get_project_root(), \"resources\", \"no_nap\", \"data\"), config.RAW_GAZE_FILE))\n",
    "    df = df_nap.append(df_no_nap)\n",
    "    valid_df = df[df.notnull().all(1)]\n",
    "    return valid_df"
   ],
   "metadata": {
    "collapsed": false,
    "pycharm": {
     "name": "#%%\n"
    }
   }
  },
  {
   "cell_type": "code",
   "execution_count": 3,
   "outputs": [
    {
     "name": "stderr",
     "output_type": "stream",
     "text": [
      "C:\\Users\\Daniel\\AppData\\Local\\Temp\\11\\ipykernel_39196\\3133104631.py:4: FutureWarning: The frame.append method is deprecated and will be removed from pandas in a future version. Use pandas.concat instead.\n",
      "  df = df_nap.append(df_no_nap)\n"
     ]
    },
    {
     "data": {
      "text/plain": "                                          Pupil radius Measured Eye  \\\nSubject Session   Movie Memory TimeStamp                              \nAL5     Session A mov1  -4     0                7082.0            R   \n                               2                7079.0            R   \n                               4                7078.0            R   \n                               6                7079.0            R   \n                               8                7085.0            R   \n...                                                ...          ...   \nYP2     Session B mov9  -2     6722             4409.0            R   \n                               6724             4403.0            R   \n                               6726             4396.0            R   \n                               6728             4397.0            R   \n                               6730             4399.0            R   \n\n                                              X_gaze      Y_gaze  is Blink  \\\nSubject Session   Movie Memory TimeStamp                                     \nAL5     Session A mov1  -4     0          821.530208  261.511111     False   \n                               2          821.441250  261.911111     False   \n                               4          821.886042  262.533333     False   \n                               6          821.930521  262.400000     False   \n                               8          821.930521  262.533333     False   \n...                                              ...         ...       ...   \nYP2     Session B mov9  -2     6722       323.674896   98.933333     False   \n                               6724       323.808333   98.666667     False   \n                               6726       323.808333   98.355556     False   \n                               6728       323.052187   98.133333     False   \n                               6730       322.874271   98.044444     False   \n\n                                          is Fixation    Distance        DVA  \nSubject Session   Movie Memory TimeStamp                                      \nAL5     Session A mov1  -4     0                False  443.627326  11.016477  \n                               2                False  443.241295  11.006747  \n                               4                False  442.951696  10.998814  \n                               6                False  443.088202  11.002239  \n                               8                False  442.975424  10.999364  \n...                                               ...         ...        ...  \nYP2     Session B mov9  -2     6722             False  301.043420   7.491555  \n                               6724             False  301.211334   7.495977  \n                               6726             False  301.483154   7.502890  \n                               6728             False  302.045508   7.516340  \n                               6730             False  302.209917   7.520321  \n\n[42938882 rows x 8 columns]",
      "text/html": "<div>\n<style scoped>\n    .dataframe tbody tr th:only-of-type {\n        vertical-align: middle;\n    }\n\n    .dataframe tbody tr th {\n        vertical-align: top;\n    }\n\n    .dataframe thead th {\n        text-align: right;\n    }\n</style>\n<table border=\"1\" class=\"dataframe\">\n  <thead>\n    <tr style=\"text-align: right;\">\n      <th></th>\n      <th></th>\n      <th></th>\n      <th></th>\n      <th></th>\n      <th>Pupil radius</th>\n      <th>Measured Eye</th>\n      <th>X_gaze</th>\n      <th>Y_gaze</th>\n      <th>is Blink</th>\n      <th>is Fixation</th>\n      <th>Distance</th>\n      <th>DVA</th>\n    </tr>\n    <tr>\n      <th>Subject</th>\n      <th>Session</th>\n      <th>Movie</th>\n      <th>Memory</th>\n      <th>TimeStamp</th>\n      <th></th>\n      <th></th>\n      <th></th>\n      <th></th>\n      <th></th>\n      <th></th>\n      <th></th>\n      <th></th>\n    </tr>\n  </thead>\n  <tbody>\n    <tr>\n      <th rowspan=\"5\" valign=\"top\">AL5</th>\n      <th rowspan=\"5\" valign=\"top\">Session A</th>\n      <th rowspan=\"5\" valign=\"top\">mov1</th>\n      <th rowspan=\"5\" valign=\"top\">-4</th>\n      <th>0</th>\n      <td>7082.0</td>\n      <td>R</td>\n      <td>821.530208</td>\n      <td>261.511111</td>\n      <td>False</td>\n      <td>False</td>\n      <td>443.627326</td>\n      <td>11.016477</td>\n    </tr>\n    <tr>\n      <th>2</th>\n      <td>7079.0</td>\n      <td>R</td>\n      <td>821.441250</td>\n      <td>261.911111</td>\n      <td>False</td>\n      <td>False</td>\n      <td>443.241295</td>\n      <td>11.006747</td>\n    </tr>\n    <tr>\n      <th>4</th>\n      <td>7078.0</td>\n      <td>R</td>\n      <td>821.886042</td>\n      <td>262.533333</td>\n      <td>False</td>\n      <td>False</td>\n      <td>442.951696</td>\n      <td>10.998814</td>\n    </tr>\n    <tr>\n      <th>6</th>\n      <td>7079.0</td>\n      <td>R</td>\n      <td>821.930521</td>\n      <td>262.400000</td>\n      <td>False</td>\n      <td>False</td>\n      <td>443.088202</td>\n      <td>11.002239</td>\n    </tr>\n    <tr>\n      <th>8</th>\n      <td>7085.0</td>\n      <td>R</td>\n      <td>821.930521</td>\n      <td>262.533333</td>\n      <td>False</td>\n      <td>False</td>\n      <td>442.975424</td>\n      <td>10.999364</td>\n    </tr>\n    <tr>\n      <th>...</th>\n      <th>...</th>\n      <th>...</th>\n      <th>...</th>\n      <th>...</th>\n      <td>...</td>\n      <td>...</td>\n      <td>...</td>\n      <td>...</td>\n      <td>...</td>\n      <td>...</td>\n      <td>...</td>\n      <td>...</td>\n    </tr>\n    <tr>\n      <th rowspan=\"5\" valign=\"top\">YP2</th>\n      <th rowspan=\"5\" valign=\"top\">Session B</th>\n      <th rowspan=\"5\" valign=\"top\">mov9</th>\n      <th rowspan=\"5\" valign=\"top\">-2</th>\n      <th>6722</th>\n      <td>4409.0</td>\n      <td>R</td>\n      <td>323.674896</td>\n      <td>98.933333</td>\n      <td>False</td>\n      <td>False</td>\n      <td>301.043420</td>\n      <td>7.491555</td>\n    </tr>\n    <tr>\n      <th>6724</th>\n      <td>4403.0</td>\n      <td>R</td>\n      <td>323.808333</td>\n      <td>98.666667</td>\n      <td>False</td>\n      <td>False</td>\n      <td>301.211334</td>\n      <td>7.495977</td>\n    </tr>\n    <tr>\n      <th>6726</th>\n      <td>4396.0</td>\n      <td>R</td>\n      <td>323.808333</td>\n      <td>98.355556</td>\n      <td>False</td>\n      <td>False</td>\n      <td>301.483154</td>\n      <td>7.502890</td>\n    </tr>\n    <tr>\n      <th>6728</th>\n      <td>4397.0</td>\n      <td>R</td>\n      <td>323.052187</td>\n      <td>98.133333</td>\n      <td>False</td>\n      <td>False</td>\n      <td>302.045508</td>\n      <td>7.516340</td>\n    </tr>\n    <tr>\n      <th>6730</th>\n      <td>4399.0</td>\n      <td>R</td>\n      <td>322.874271</td>\n      <td>98.044444</td>\n      <td>False</td>\n      <td>False</td>\n      <td>302.209917</td>\n      <td>7.520321</td>\n    </tr>\n  </tbody>\n</table>\n<p>42938882 rows × 8 columns</p>\n</div>"
     },
     "execution_count": 3,
     "metadata": {},
     "output_type": "execute_result"
    }
   ],
   "source": [
    "df = get_all_valid_subject_data_df()\n",
    "rois = utils.get_aggregated_roi_df()\n",
    "df"
   ],
   "metadata": {
    "collapsed": false,
    "pycharm": {
     "name": "#%%\n"
    }
   }
  },
  {
   "cell_type": "code",
   "execution_count": 4,
   "outputs": [],
   "source": [
    "roi_drop_movies = set(rois.index) - set(config.valid_movies)\n",
    "distance_drop_movies = roi_drop_movies.union({\n",
    "    f'mov{idx}' for idx in range(config.num_repeating_movies + 1, config.total_recorded_movies + 1)})\n",
    "valid_rois = rois.drop(roi_drop_movies)\n",
    "valid_df = df.drop(index=distance_drop_movies, level=config.MOVIE, errors='ignore')"
   ],
   "metadata": {
    "collapsed": false,
    "pycharm": {
     "name": "#%%\n"
    }
   }
  },
  {
   "cell_type": "code",
   "execution_count": 5,
   "outputs": [
    {
     "data": {
      "text/plain": "                                          Pupil radius Measured Eye  \\\nSubject Session   Movie Memory TimeStamp                              \nAL5     Session A mov1  -4     0                7082.0            R   \n                               2                7079.0            R   \n                               4                7078.0            R   \n                               6                7079.0            R   \n                               8                7085.0            R   \n\n                                              X_gaze      Y_gaze  is Blink  \\\nSubject Session   Movie Memory TimeStamp                                     \nAL5     Session A mov1  -4     0          821.530208  261.511111     False   \n                               2          821.441250  261.911111     False   \n                               4          821.886042  262.533333     False   \n                               6          821.930521  262.400000     False   \n                               8          821.930521  262.533333     False   \n\n                                          is Fixation    Distance        DVA  \nSubject Session   Movie Memory TimeStamp                                      \nAL5     Session A mov1  -4     0                False  443.627326  11.016477  \n                               2                False  443.241295  11.006747  \n                               4                False  442.951696  10.998814  \n                               6                False  443.088202  11.002239  \n                               8                False  442.975424  10.999364  ",
      "text/html": "<div>\n<style scoped>\n    .dataframe tbody tr th:only-of-type {\n        vertical-align: middle;\n    }\n\n    .dataframe tbody tr th {\n        vertical-align: top;\n    }\n\n    .dataframe thead th {\n        text-align: right;\n    }\n</style>\n<table border=\"1\" class=\"dataframe\">\n  <thead>\n    <tr style=\"text-align: right;\">\n      <th></th>\n      <th></th>\n      <th></th>\n      <th></th>\n      <th></th>\n      <th>Pupil radius</th>\n      <th>Measured Eye</th>\n      <th>X_gaze</th>\n      <th>Y_gaze</th>\n      <th>is Blink</th>\n      <th>is Fixation</th>\n      <th>Distance</th>\n      <th>DVA</th>\n    </tr>\n    <tr>\n      <th>Subject</th>\n      <th>Session</th>\n      <th>Movie</th>\n      <th>Memory</th>\n      <th>TimeStamp</th>\n      <th></th>\n      <th></th>\n      <th></th>\n      <th></th>\n      <th></th>\n      <th></th>\n      <th></th>\n      <th></th>\n    </tr>\n  </thead>\n  <tbody>\n    <tr>\n      <th rowspan=\"5\" valign=\"top\">AL5</th>\n      <th rowspan=\"5\" valign=\"top\">Session A</th>\n      <th rowspan=\"5\" valign=\"top\">mov1</th>\n      <th rowspan=\"5\" valign=\"top\">-4</th>\n      <th>0</th>\n      <td>7082.0</td>\n      <td>R</td>\n      <td>821.530208</td>\n      <td>261.511111</td>\n      <td>False</td>\n      <td>False</td>\n      <td>443.627326</td>\n      <td>11.016477</td>\n    </tr>\n    <tr>\n      <th>2</th>\n      <td>7079.0</td>\n      <td>R</td>\n      <td>821.441250</td>\n      <td>261.911111</td>\n      <td>False</td>\n      <td>False</td>\n      <td>443.241295</td>\n      <td>11.006747</td>\n    </tr>\n    <tr>\n      <th>4</th>\n      <td>7078.0</td>\n      <td>R</td>\n      <td>821.886042</td>\n      <td>262.533333</td>\n      <td>False</td>\n      <td>False</td>\n      <td>442.951696</td>\n      <td>10.998814</td>\n    </tr>\n    <tr>\n      <th>6</th>\n      <td>7079.0</td>\n      <td>R</td>\n      <td>821.930521</td>\n      <td>262.400000</td>\n      <td>False</td>\n      <td>False</td>\n      <td>443.088202</td>\n      <td>11.002239</td>\n    </tr>\n    <tr>\n      <th>8</th>\n      <td>7085.0</td>\n      <td>R</td>\n      <td>821.930521</td>\n      <td>262.533333</td>\n      <td>False</td>\n      <td>False</td>\n      <td>442.975424</td>\n      <td>10.999364</td>\n    </tr>\n  </tbody>\n</table>\n</div>"
     },
     "execution_count": 5,
     "metadata": {},
     "output_type": "execute_result"
    }
   ],
   "source": [
    "valid_df.head()"
   ],
   "metadata": {
    "collapsed": false,
    "pycharm": {
     "name": "#%%\n"
    }
   }
  },
  {
   "cell_type": "code",
   "execution_count": 6,
   "outputs": [],
   "source": [
    "df = cut_tail(valid_df, valid_rois)"
   ],
   "metadata": {
    "collapsed": false,
    "pycharm": {
     "name": "#%%\n"
    }
   }
  },
  {
   "cell_type": "code",
   "execution_count": 7,
   "outputs": [],
   "source": [
    "def cut_prefix(distances, rois, starting_point, verbose=False):\n",
    "    distances_movies = set(distances.index.unique(level=config.MOVIE))\n",
    "    rois_movies = set(rois.index.unique())\n",
    "    assert (distances_movies == rois_movies), f'Movies in Distances Series do not match the Movies in RoIs data.\\n\\tDistances Movies: {distances_movies}\\n\\tRoIs Movies: {rois_movies}'\n",
    "\n",
    "    event_times = rois['t_median']\n",
    "    movies = distances.index.unique(level=config.MOVIE)\n",
    "    for movID in movies:\n",
    "        assert (movID in distances.index.unique(level=config.MOVIE)), f'Couldn\\'t find distances for movie {movID}'\n",
    "        assert (movID in rois.index.unique()), f'Couldn\\'t find RoI data for movie {movID}'\n",
    "        event_time = round_down_to_closest_even(event_times[movID])\n",
    "        time_cond = distances.index.get_level_values(config.TIMESTAMP) > event_time - starting_point\n",
    "        movie_cond = distances.index.get_level_values(config.MOVIE) != movID\n",
    "        distances = distances.loc[movie_cond | time_cond]\n",
    "        if verbose:\n",
    "            print(f'Finished cutting distance prefix for Movie {movID}.')\n",
    "    return distances"
   ],
   "metadata": {
    "collapsed": false,
    "pycharm": {
     "name": "#%%\n"
    }
   }
  },
  {
   "cell_type": "code",
   "execution_count": 8,
   "outputs": [],
   "source": [
    "df = cut_prefix(df, valid_rois, 1500)"
   ],
   "metadata": {
    "collapsed": false,
    "pycharm": {
     "name": "#%%\n"
    }
   }
  },
  {
   "cell_type": "code",
   "execution_count": 9,
   "outputs": [
    {
     "data": {
      "text/plain": "     Subject  Movie  series_id\n0        AI5  mov61          0\n1        SC2  mov80          1\n2        AH3  mov65          2\n3        MZ2  mov75          3\n4        NM9  mov80          4\n...      ...    ...        ...\n2587     AM2  mov11       2587\n2588     KS0   mov2       2588\n2589     EF4  mov13       2589\n2590     YN5  mov21       2590\n2591     SK7  mov54       2591\n\n[2592 rows x 3 columns]",
      "text/html": "<div>\n<style scoped>\n    .dataframe tbody tr th:only-of-type {\n        vertical-align: middle;\n    }\n\n    .dataframe tbody tr th {\n        vertical-align: top;\n    }\n\n    .dataframe thead th {\n        text-align: right;\n    }\n</style>\n<table border=\"1\" class=\"dataframe\">\n  <thead>\n    <tr style=\"text-align: right;\">\n      <th></th>\n      <th>Subject</th>\n      <th>Movie</th>\n      <th>series_id</th>\n    </tr>\n  </thead>\n  <tbody>\n    <tr>\n      <th>0</th>\n      <td>AI5</td>\n      <td>mov61</td>\n      <td>0</td>\n    </tr>\n    <tr>\n      <th>1</th>\n      <td>SC2</td>\n      <td>mov80</td>\n      <td>1</td>\n    </tr>\n    <tr>\n      <th>2</th>\n      <td>AH3</td>\n      <td>mov65</td>\n      <td>2</td>\n    </tr>\n    <tr>\n      <th>3</th>\n      <td>MZ2</td>\n      <td>mov75</td>\n      <td>3</td>\n    </tr>\n    <tr>\n      <th>4</th>\n      <td>NM9</td>\n      <td>mov80</td>\n      <td>4</td>\n    </tr>\n    <tr>\n      <th>...</th>\n      <td>...</td>\n      <td>...</td>\n      <td>...</td>\n    </tr>\n    <tr>\n      <th>2587</th>\n      <td>AM2</td>\n      <td>mov11</td>\n      <td>2587</td>\n    </tr>\n    <tr>\n      <th>2588</th>\n      <td>KS0</td>\n      <td>mov2</td>\n      <td>2588</td>\n    </tr>\n    <tr>\n      <th>2589</th>\n      <td>EF4</td>\n      <td>mov13</td>\n      <td>2589</td>\n    </tr>\n    <tr>\n      <th>2590</th>\n      <td>YN5</td>\n      <td>mov21</td>\n      <td>2590</td>\n    </tr>\n    <tr>\n      <th>2591</th>\n      <td>SK7</td>\n      <td>mov54</td>\n      <td>2591</td>\n    </tr>\n  </tbody>\n</table>\n<p>2592 rows × 3 columns</p>\n</div>"
     },
     "execution_count": 9,
     "metadata": {},
     "output_type": "execute_result"
    }
   ],
   "source": [
    "relevant_couples = set(zip(df.index.get_level_values(config.SUBJECT),\n",
    "                           df.index.get_level_values(config.MOVIE)))\n",
    "series_id_df = pd.DataFrame(relevant_couples, columns=[config.SUBJECT, config.MOVIE])\n",
    "series_id_df['series_id'] = series_id_df.index\n",
    "series_id_df"
   ],
   "metadata": {
    "collapsed": false,
    "pycharm": {
     "name": "#%%\n"
    }
   }
  },
  {
   "cell_type": "code",
   "execution_count": 10,
   "outputs": [
    {
     "data": {
      "text/plain": "        Subject    Session  Movie  Memory  TimeStamp  Pupil radius  \\\n0           AL5  Session A   mov1      -4       4438        5368.0   \n1           AL5  Session A   mov1      -4       4440        5366.0   \n2           AL5  Session A   mov1      -4       4442        5362.0   \n3           AL5  Session A   mov1      -4       4444        5366.0   \n4           AL5  Session A   mov1      -4       4446        5365.0   \n...         ...        ...    ...     ...        ...           ...   \n3718246     YP2  Session B  mov80      -3       5576        3691.0   \n3718247     YP2  Session B  mov80      -3       5578        3688.0   \n3718248     YP2  Session B  mov80      -3       5580        3686.0   \n3718249     YP2  Session B  mov80      -3       5582        3685.0   \n3718250     YP2  Session B  mov80      -3       5584        3685.0   \n\n        Measured Eye      X_gaze      Y_gaze  is Blink  is Fixation  \\\n0                  R  441.544688  304.977778     False         True   \n1                  R  442.434271  305.200000     False         True   \n2                  R  442.211875  304.933333     False         True   \n3                  R  442.345312  305.066667     False         True   \n4                  R  442.701146  305.244444     False         True   \n...              ...         ...         ...       ...          ...   \n3718246            R  849.666667  579.133333     False         True   \n3718247            R  850.400000  579.466667     False         True   \n3718248            R  851.066667  579.733333     False         True   \n3718249            R  851.133333  578.866667     False         True   \n3718250            R  850.466667  579.000000     False         True   \n\n           Distance        DVA  \n0        362.109842   9.044441  \n1        361.552798   9.031140  \n2        361.885745   9.039374  \n3        361.710460   9.035054  \n4        361.406383   9.027674  \n...             ...        ...  \n3718246  460.603454  11.205830  \n3718247  459.805761  11.186544  \n3718248  459.100129  11.169519  \n3718249  459.509792  11.180311  \n3718250  460.000121  11.191734  \n\n[3718251 rows x 13 columns]",
      "text/html": "<div>\n<style scoped>\n    .dataframe tbody tr th:only-of-type {\n        vertical-align: middle;\n    }\n\n    .dataframe tbody tr th {\n        vertical-align: top;\n    }\n\n    .dataframe thead th {\n        text-align: right;\n    }\n</style>\n<table border=\"1\" class=\"dataframe\">\n  <thead>\n    <tr style=\"text-align: right;\">\n      <th></th>\n      <th>Subject</th>\n      <th>Session</th>\n      <th>Movie</th>\n      <th>Memory</th>\n      <th>TimeStamp</th>\n      <th>Pupil radius</th>\n      <th>Measured Eye</th>\n      <th>X_gaze</th>\n      <th>Y_gaze</th>\n      <th>is Blink</th>\n      <th>is Fixation</th>\n      <th>Distance</th>\n      <th>DVA</th>\n    </tr>\n  </thead>\n  <tbody>\n    <tr>\n      <th>0</th>\n      <td>AL5</td>\n      <td>Session A</td>\n      <td>mov1</td>\n      <td>-4</td>\n      <td>4438</td>\n      <td>5368.0</td>\n      <td>R</td>\n      <td>441.544688</td>\n      <td>304.977778</td>\n      <td>False</td>\n      <td>True</td>\n      <td>362.109842</td>\n      <td>9.044441</td>\n    </tr>\n    <tr>\n      <th>1</th>\n      <td>AL5</td>\n      <td>Session A</td>\n      <td>mov1</td>\n      <td>-4</td>\n      <td>4440</td>\n      <td>5366.0</td>\n      <td>R</td>\n      <td>442.434271</td>\n      <td>305.200000</td>\n      <td>False</td>\n      <td>True</td>\n      <td>361.552798</td>\n      <td>9.031140</td>\n    </tr>\n    <tr>\n      <th>2</th>\n      <td>AL5</td>\n      <td>Session A</td>\n      <td>mov1</td>\n      <td>-4</td>\n      <td>4442</td>\n      <td>5362.0</td>\n      <td>R</td>\n      <td>442.211875</td>\n      <td>304.933333</td>\n      <td>False</td>\n      <td>True</td>\n      <td>361.885745</td>\n      <td>9.039374</td>\n    </tr>\n    <tr>\n      <th>3</th>\n      <td>AL5</td>\n      <td>Session A</td>\n      <td>mov1</td>\n      <td>-4</td>\n      <td>4444</td>\n      <td>5366.0</td>\n      <td>R</td>\n      <td>442.345312</td>\n      <td>305.066667</td>\n      <td>False</td>\n      <td>True</td>\n      <td>361.710460</td>\n      <td>9.035054</td>\n    </tr>\n    <tr>\n      <th>4</th>\n      <td>AL5</td>\n      <td>Session A</td>\n      <td>mov1</td>\n      <td>-4</td>\n      <td>4446</td>\n      <td>5365.0</td>\n      <td>R</td>\n      <td>442.701146</td>\n      <td>305.244444</td>\n      <td>False</td>\n      <td>True</td>\n      <td>361.406383</td>\n      <td>9.027674</td>\n    </tr>\n    <tr>\n      <th>...</th>\n      <td>...</td>\n      <td>...</td>\n      <td>...</td>\n      <td>...</td>\n      <td>...</td>\n      <td>...</td>\n      <td>...</td>\n      <td>...</td>\n      <td>...</td>\n      <td>...</td>\n      <td>...</td>\n      <td>...</td>\n      <td>...</td>\n    </tr>\n    <tr>\n      <th>3718246</th>\n      <td>YP2</td>\n      <td>Session B</td>\n      <td>mov80</td>\n      <td>-3</td>\n      <td>5576</td>\n      <td>3691.0</td>\n      <td>R</td>\n      <td>849.666667</td>\n      <td>579.133333</td>\n      <td>False</td>\n      <td>True</td>\n      <td>460.603454</td>\n      <td>11.205830</td>\n    </tr>\n    <tr>\n      <th>3718247</th>\n      <td>YP2</td>\n      <td>Session B</td>\n      <td>mov80</td>\n      <td>-3</td>\n      <td>5578</td>\n      <td>3688.0</td>\n      <td>R</td>\n      <td>850.400000</td>\n      <td>579.466667</td>\n      <td>False</td>\n      <td>True</td>\n      <td>459.805761</td>\n      <td>11.186544</td>\n    </tr>\n    <tr>\n      <th>3718248</th>\n      <td>YP2</td>\n      <td>Session B</td>\n      <td>mov80</td>\n      <td>-3</td>\n      <td>5580</td>\n      <td>3686.0</td>\n      <td>R</td>\n      <td>851.066667</td>\n      <td>579.733333</td>\n      <td>False</td>\n      <td>True</td>\n      <td>459.100129</td>\n      <td>11.169519</td>\n    </tr>\n    <tr>\n      <th>3718249</th>\n      <td>YP2</td>\n      <td>Session B</td>\n      <td>mov80</td>\n      <td>-3</td>\n      <td>5582</td>\n      <td>3685.0</td>\n      <td>R</td>\n      <td>851.133333</td>\n      <td>578.866667</td>\n      <td>False</td>\n      <td>True</td>\n      <td>459.509792</td>\n      <td>11.180311</td>\n    </tr>\n    <tr>\n      <th>3718250</th>\n      <td>YP2</td>\n      <td>Session B</td>\n      <td>mov80</td>\n      <td>-3</td>\n      <td>5584</td>\n      <td>3685.0</td>\n      <td>R</td>\n      <td>850.466667</td>\n      <td>579.000000</td>\n      <td>False</td>\n      <td>True</td>\n      <td>460.000121</td>\n      <td>11.191734</td>\n    </tr>\n  </tbody>\n</table>\n<p>3718251 rows × 13 columns</p>\n</div>"
     },
     "execution_count": 10,
     "metadata": {},
     "output_type": "execute_result"
    }
   ],
   "source": [
    "df = df.reset_index()\n",
    "df"
   ],
   "metadata": {
    "collapsed": false,
    "pycharm": {
     "name": "#%%\n"
    }
   }
  },
  {
   "cell_type": "code",
   "execution_count": 11,
   "outputs": [
    {
     "data": {
      "text/plain": "        Subject    Session  Movie  Memory  TimeStamp  Pupil radius  \\\n0           AL5  Session A   mov1      -4       4438        5368.0   \n1           AL5  Session A   mov1      -4       4440        5366.0   \n2           AL5  Session A   mov1      -4       4442        5362.0   \n3           AL5  Session A   mov1      -4       4444        5366.0   \n4           AL5  Session A   mov1      -4       4446        5365.0   \n...         ...        ...    ...     ...        ...           ...   \n3718246     YP2  Session B  mov80      -3       5576        3691.0   \n3718247     YP2  Session B  mov80      -3       5578        3688.0   \n3718248     YP2  Session B  mov80      -3       5580        3686.0   \n3718249     YP2  Session B  mov80      -3       5582        3685.0   \n3718250     YP2  Session B  mov80      -3       5584        3685.0   \n\n        Measured Eye      X_gaze      Y_gaze  is Blink  is Fixation  \\\n0                  R  441.544688  304.977778     False         True   \n1                  R  442.434271  305.200000     False         True   \n2                  R  442.211875  304.933333     False         True   \n3                  R  442.345312  305.066667     False         True   \n4                  R  442.701146  305.244444     False         True   \n...              ...         ...         ...       ...          ...   \n3718246            R  849.666667  579.133333     False         True   \n3718247            R  850.400000  579.466667     False         True   \n3718248            R  851.066667  579.733333     False         True   \n3718249            R  851.133333  578.866667     False         True   \n3718250            R  850.466667  579.000000     False         True   \n\n           Distance        DVA  series_id  \n0        362.109842   9.044441       1980  \n1        361.552798   9.031140       1980  \n2        361.885745   9.039374       1980  \n3        361.710460   9.035054       1980  \n4        361.406383   9.027674       1980  \n...             ...        ...        ...  \n3718246  460.603454  11.205830        111  \n3718247  459.805761  11.186544        111  \n3718248  459.100129  11.169519        111  \n3718249  459.509792  11.180311        111  \n3718250  460.000121  11.191734        111  \n\n[3718251 rows x 14 columns]",
      "text/html": "<div>\n<style scoped>\n    .dataframe tbody tr th:only-of-type {\n        vertical-align: middle;\n    }\n\n    .dataframe tbody tr th {\n        vertical-align: top;\n    }\n\n    .dataframe thead th {\n        text-align: right;\n    }\n</style>\n<table border=\"1\" class=\"dataframe\">\n  <thead>\n    <tr style=\"text-align: right;\">\n      <th></th>\n      <th>Subject</th>\n      <th>Session</th>\n      <th>Movie</th>\n      <th>Memory</th>\n      <th>TimeStamp</th>\n      <th>Pupil radius</th>\n      <th>Measured Eye</th>\n      <th>X_gaze</th>\n      <th>Y_gaze</th>\n      <th>is Blink</th>\n      <th>is Fixation</th>\n      <th>Distance</th>\n      <th>DVA</th>\n      <th>series_id</th>\n    </tr>\n  </thead>\n  <tbody>\n    <tr>\n      <th>0</th>\n      <td>AL5</td>\n      <td>Session A</td>\n      <td>mov1</td>\n      <td>-4</td>\n      <td>4438</td>\n      <td>5368.0</td>\n      <td>R</td>\n      <td>441.544688</td>\n      <td>304.977778</td>\n      <td>False</td>\n      <td>True</td>\n      <td>362.109842</td>\n      <td>9.044441</td>\n      <td>1980</td>\n    </tr>\n    <tr>\n      <th>1</th>\n      <td>AL5</td>\n      <td>Session A</td>\n      <td>mov1</td>\n      <td>-4</td>\n      <td>4440</td>\n      <td>5366.0</td>\n      <td>R</td>\n      <td>442.434271</td>\n      <td>305.200000</td>\n      <td>False</td>\n      <td>True</td>\n      <td>361.552798</td>\n      <td>9.031140</td>\n      <td>1980</td>\n    </tr>\n    <tr>\n      <th>2</th>\n      <td>AL5</td>\n      <td>Session A</td>\n      <td>mov1</td>\n      <td>-4</td>\n      <td>4442</td>\n      <td>5362.0</td>\n      <td>R</td>\n      <td>442.211875</td>\n      <td>304.933333</td>\n      <td>False</td>\n      <td>True</td>\n      <td>361.885745</td>\n      <td>9.039374</td>\n      <td>1980</td>\n    </tr>\n    <tr>\n      <th>3</th>\n      <td>AL5</td>\n      <td>Session A</td>\n      <td>mov1</td>\n      <td>-4</td>\n      <td>4444</td>\n      <td>5366.0</td>\n      <td>R</td>\n      <td>442.345312</td>\n      <td>305.066667</td>\n      <td>False</td>\n      <td>True</td>\n      <td>361.710460</td>\n      <td>9.035054</td>\n      <td>1980</td>\n    </tr>\n    <tr>\n      <th>4</th>\n      <td>AL5</td>\n      <td>Session A</td>\n      <td>mov1</td>\n      <td>-4</td>\n      <td>4446</td>\n      <td>5365.0</td>\n      <td>R</td>\n      <td>442.701146</td>\n      <td>305.244444</td>\n      <td>False</td>\n      <td>True</td>\n      <td>361.406383</td>\n      <td>9.027674</td>\n      <td>1980</td>\n    </tr>\n    <tr>\n      <th>...</th>\n      <td>...</td>\n      <td>...</td>\n      <td>...</td>\n      <td>...</td>\n      <td>...</td>\n      <td>...</td>\n      <td>...</td>\n      <td>...</td>\n      <td>...</td>\n      <td>...</td>\n      <td>...</td>\n      <td>...</td>\n      <td>...</td>\n      <td>...</td>\n    </tr>\n    <tr>\n      <th>3718246</th>\n      <td>YP2</td>\n      <td>Session B</td>\n      <td>mov80</td>\n      <td>-3</td>\n      <td>5576</td>\n      <td>3691.0</td>\n      <td>R</td>\n      <td>849.666667</td>\n      <td>579.133333</td>\n      <td>False</td>\n      <td>True</td>\n      <td>460.603454</td>\n      <td>11.205830</td>\n      <td>111</td>\n    </tr>\n    <tr>\n      <th>3718247</th>\n      <td>YP2</td>\n      <td>Session B</td>\n      <td>mov80</td>\n      <td>-3</td>\n      <td>5578</td>\n      <td>3688.0</td>\n      <td>R</td>\n      <td>850.400000</td>\n      <td>579.466667</td>\n      <td>False</td>\n      <td>True</td>\n      <td>459.805761</td>\n      <td>11.186544</td>\n      <td>111</td>\n    </tr>\n    <tr>\n      <th>3718248</th>\n      <td>YP2</td>\n      <td>Session B</td>\n      <td>mov80</td>\n      <td>-3</td>\n      <td>5580</td>\n      <td>3686.0</td>\n      <td>R</td>\n      <td>851.066667</td>\n      <td>579.733333</td>\n      <td>False</td>\n      <td>True</td>\n      <td>459.100129</td>\n      <td>11.169519</td>\n      <td>111</td>\n    </tr>\n    <tr>\n      <th>3718249</th>\n      <td>YP2</td>\n      <td>Session B</td>\n      <td>mov80</td>\n      <td>-3</td>\n      <td>5582</td>\n      <td>3685.0</td>\n      <td>R</td>\n      <td>851.133333</td>\n      <td>578.866667</td>\n      <td>False</td>\n      <td>True</td>\n      <td>459.509792</td>\n      <td>11.180311</td>\n      <td>111</td>\n    </tr>\n    <tr>\n      <th>3718250</th>\n      <td>YP2</td>\n      <td>Session B</td>\n      <td>mov80</td>\n      <td>-3</td>\n      <td>5584</td>\n      <td>3685.0</td>\n      <td>R</td>\n      <td>850.466667</td>\n      <td>579.000000</td>\n      <td>False</td>\n      <td>True</td>\n      <td>460.000121</td>\n      <td>11.191734</td>\n      <td>111</td>\n    </tr>\n  </tbody>\n</table>\n<p>3718251 rows × 14 columns</p>\n</div>"
     },
     "execution_count": 11,
     "metadata": {},
     "output_type": "execute_result"
    }
   ],
   "source": [
    "new_df = df.merge(series_id_df, on = [config.SUBJECT, config.MOVIE])\n",
    "new_df"
   ],
   "metadata": {
    "collapsed": false,
    "pycharm": {
     "name": "#%%\n"
    }
   }
  },
  {
   "cell_type": "code",
   "execution_count": 12,
   "outputs": [
    {
     "name": "stderr",
     "output_type": "stream",
     "text": [
      "C:\\Users\\Daniel\\AppData\\Local\\Temp\\11\\ipykernel_39196\\3789580647.py:2: SettingWithCopyWarning: \n",
      "A value is trying to be set on a copy of a slice from a DataFrame.\n",
      "Try using .loc[row_indexer,col_indexer] = value instead\n",
      "\n",
      "See the caveats in the documentation: https://pandas.pydata.org/pandas-docs/stable/user_guide/indexing.html#returning-a-view-versus-a-copy\n",
      "  df[config.SESSION] = (df[config.SESSION] == config.SESSION_B).astype(int)\n"
     ]
    },
    {
     "data": {
      "text/plain": "         series_id      X_gaze      Y_gaze  Pupil radius        DVA  Session\n0             1980  441.544688  304.977778        5368.0   9.044441        0\n1             1980  442.434271  305.200000        5366.0   9.031140        0\n2             1980  442.211875  304.933333        5362.0   9.039374        0\n3             1980  442.345312  305.066667        5366.0   9.035054        0\n4             1980  442.701146  305.244444        5365.0   9.027674        0\n...            ...         ...         ...           ...        ...      ...\n3718246        111  849.666667  579.133333        3691.0  11.205830        1\n3718247        111  850.400000  579.466667        3688.0  11.186544        1\n3718248        111  851.066667  579.733333        3686.0  11.169519        1\n3718249        111  851.133333  578.866667        3685.0  11.180311        1\n3718250        111  850.466667  579.000000        3685.0  11.191734        1\n\n[3718251 rows x 6 columns]",
      "text/html": "<div>\n<style scoped>\n    .dataframe tbody tr th:only-of-type {\n        vertical-align: middle;\n    }\n\n    .dataframe tbody tr th {\n        vertical-align: top;\n    }\n\n    .dataframe thead th {\n        text-align: right;\n    }\n</style>\n<table border=\"1\" class=\"dataframe\">\n  <thead>\n    <tr style=\"text-align: right;\">\n      <th></th>\n      <th>series_id</th>\n      <th>X_gaze</th>\n      <th>Y_gaze</th>\n      <th>Pupil radius</th>\n      <th>DVA</th>\n      <th>Session</th>\n    </tr>\n  </thead>\n  <tbody>\n    <tr>\n      <th>0</th>\n      <td>1980</td>\n      <td>441.544688</td>\n      <td>304.977778</td>\n      <td>5368.0</td>\n      <td>9.044441</td>\n      <td>0</td>\n    </tr>\n    <tr>\n      <th>1</th>\n      <td>1980</td>\n      <td>442.434271</td>\n      <td>305.200000</td>\n      <td>5366.0</td>\n      <td>9.031140</td>\n      <td>0</td>\n    </tr>\n    <tr>\n      <th>2</th>\n      <td>1980</td>\n      <td>442.211875</td>\n      <td>304.933333</td>\n      <td>5362.0</td>\n      <td>9.039374</td>\n      <td>0</td>\n    </tr>\n    <tr>\n      <th>3</th>\n      <td>1980</td>\n      <td>442.345312</td>\n      <td>305.066667</td>\n      <td>5366.0</td>\n      <td>9.035054</td>\n      <td>0</td>\n    </tr>\n    <tr>\n      <th>4</th>\n      <td>1980</td>\n      <td>442.701146</td>\n      <td>305.244444</td>\n      <td>5365.0</td>\n      <td>9.027674</td>\n      <td>0</td>\n    </tr>\n    <tr>\n      <th>...</th>\n      <td>...</td>\n      <td>...</td>\n      <td>...</td>\n      <td>...</td>\n      <td>...</td>\n      <td>...</td>\n    </tr>\n    <tr>\n      <th>3718246</th>\n      <td>111</td>\n      <td>849.666667</td>\n      <td>579.133333</td>\n      <td>3691.0</td>\n      <td>11.205830</td>\n      <td>1</td>\n    </tr>\n    <tr>\n      <th>3718247</th>\n      <td>111</td>\n      <td>850.400000</td>\n      <td>579.466667</td>\n      <td>3688.0</td>\n      <td>11.186544</td>\n      <td>1</td>\n    </tr>\n    <tr>\n      <th>3718248</th>\n      <td>111</td>\n      <td>851.066667</td>\n      <td>579.733333</td>\n      <td>3686.0</td>\n      <td>11.169519</td>\n      <td>1</td>\n    </tr>\n    <tr>\n      <th>3718249</th>\n      <td>111</td>\n      <td>851.133333</td>\n      <td>578.866667</td>\n      <td>3685.0</td>\n      <td>11.180311</td>\n      <td>1</td>\n    </tr>\n    <tr>\n      <th>3718250</th>\n      <td>111</td>\n      <td>850.466667</td>\n      <td>579.000000</td>\n      <td>3685.0</td>\n      <td>11.191734</td>\n      <td>1</td>\n    </tr>\n  </tbody>\n</table>\n<p>3718251 rows × 6 columns</p>\n</div>"
     },
     "execution_count": 12,
     "metadata": {},
     "output_type": "execute_result"
    }
   ],
   "source": [
    "df = new_df[['series_id', config.gaze_X, config.gaze_Y, config.PUPIL, config.DVA, config.SESSION]]\n",
    "df[config.SESSION] = (df[config.SESSION] == config.SESSION_B).astype(int)\n",
    "df"
   ],
   "metadata": {
    "collapsed": false,
    "pycharm": {
     "name": "#%%\n"
    }
   }
  },
  {
   "cell_type": "code",
   "execution_count": 13,
   "outputs": [],
   "source": [
    "# df_dummies = pd.get_dummies(new_df, columns=[config.SUBJECT, config.MOVIE], drop_first=True)\n",
    "# df_dummies.sample(10).style.background_gradient(cmap = 'Blues')"
   ],
   "metadata": {
    "collapsed": false,
    "pycharm": {
     "name": "#%%\n"
    }
   }
  },
  {
   "cell_type": "code",
   "execution_count": 14,
   "outputs": [],
   "source": [
    "FEATURE_NAMES = [config.gaze_X, config.gaze_Y, config.PUPIL, config.DVA]"
   ],
   "metadata": {
    "collapsed": false,
    "pycharm": {
     "name": "#%%\n"
    }
   }
  },
  {
   "cell_type": "code",
   "execution_count": 15,
   "outputs": [
    {
     "data": {
      "text/plain": "(             X_gaze      Y_gaze  Pupil radius       DVA\n 1728172  947.600000  392.733333        5585.0  8.086982\n 1728173  947.333333  393.333333        5582.0  8.083205\n 1728174  946.400000  394.000000        5580.0  8.091396\n 1728175  947.066667  394.066667        5585.0  8.077483\n 1728176  947.200000  394.600000        5587.0  8.066999\n ...             ...         ...           ...       ...\n 1729589  970.666667  435.400000        5419.0  7.025778\n 1729590  971.400000  435.466667        5419.0  7.009971\n 1729591  971.266667  434.733333        5421.0  7.022479\n 1729592  970.733333  434.466667        5423.0  7.036880\n 1729593  970.066667  435.133333        5419.0  7.041539\n \n [1422 rows x 4 columns],\n 0.0)"
     },
     "execution_count": 15,
     "metadata": {},
     "output_type": "execute_result"
    }
   ],
   "source": [
    "sequences = []\n",
    "for series_id, group in df.groupby(\"series_id\"):\n",
    "    sequence_feature = group[FEATURE_NAMES]\n",
    "    label = df[df.series_id == series_id].iloc[0][config.SESSION]\n",
    "    sequences.append((sequence_feature, label))\n",
    "\n",
    "sequences[0]"
   ],
   "metadata": {
    "collapsed": false,
    "pycharm": {
     "name": "#%%\n"
    }
   }
  },
  {
   "cell_type": "code",
   "execution_count": 16,
   "outputs": [
    {
     "data": {
      "text/plain": "(2073, 519)"
     },
     "execution_count": 16,
     "metadata": {},
     "output_type": "execute_result"
    }
   ],
   "source": [
    "train_seq, test_seq = train_test_split(sequences, random_state=420, test_size=0.2)\n",
    "len(train_seq), len(test_seq)"
   ],
   "metadata": {
    "collapsed": false,
    "pycharm": {
     "name": "#%%\n"
    }
   }
  },
  {
   "cell_type": "markdown",
   "source": [
    "Dataset"
   ],
   "metadata": {
    "collapsed": false,
    "pycharm": {
     "name": "#%% md\n"
    }
   }
  },
  {
   "cell_type": "code",
   "execution_count": 17,
   "outputs": [],
   "source": [
    "class EyeTrackingDataset(Dataset):\n",
    "\n",
    "    def __init__(self, sequences):\n",
    "        self.sequences = sequences\n",
    "\n",
    "    def __len__(self):\n",
    "        return len(self.sequences)\n",
    "\n",
    "    def __getitem__(self, idx):\n",
    "        sequence, label = self.sequences[idx]\n",
    "        return dict(\n",
    "            sequences=torch.Tensor(sequence.to_numpy()),\n",
    "            label=torch.tensor(label).long()\n",
    "        )"
   ],
   "metadata": {
    "collapsed": false,
    "pycharm": {
     "name": "#%%\n"
    }
   }
  },
  {
   "cell_type": "code",
   "execution_count": 18,
   "outputs": [],
   "source": [
    "class EyeTrackingDataModule(pl.LightningDataModule):\n",
    "\n",
    "    def __init__(self, train_sequence, test_sequence, batch_size):\n",
    "        super().__init__()\n",
    "        self.train_sequence = train_sequence\n",
    "        self.test_sequence = test_sequence\n",
    "        self.batch_size = batch_size\n",
    "\n",
    "    def setup(self, stage=None):\n",
    "        self.train_sequence = EyeTrackingDataset(self.train_sequence)\n",
    "        self.test_sequence = EyeTrackingDataset(self.test_sequence)\n",
    "\n",
    "    def train_dataloader(self):\n",
    "        return DataLoader(self.train_sequence, batch_size=self.batch_size, shuffle=True)\n",
    "\n",
    "    def val_dataloader(self):\n",
    "        return DataLoader(self.test_sequence, batch_size=self.batch_size,shuffle=False)\n",
    "\n",
    "    def test_dataloader(self):\n",
    "        return DataLoader(self.test_sequence, batch_size=self.batch_size,shuffle=False)"
   ],
   "metadata": {
    "collapsed": false,
    "pycharm": {
     "name": "#%%\n"
    }
   }
  },
  {
   "cell_type": "code",
   "execution_count": 19,
   "outputs": [],
   "source": [
    "N_EPOCHS = 250\n",
    "BATCH_SIZE = 64 # ?\n",
    "\n",
    "data_module = EyeTrackingDataModule(train_seq, test_seq, BATCH_SIZE)"
   ],
   "metadata": {
    "collapsed": false,
    "pycharm": {
     "name": "#%%\n"
    }
   }
  },
  {
   "cell_type": "markdown",
   "source": [
    "Model"
   ],
   "metadata": {
    "collapsed": false,
    "pycharm": {
     "name": "#%% md\n"
    }
   }
  },
  {
   "cell_type": "code",
   "execution_count": 20,
   "outputs": [],
   "source": [
    "class SequenceModel(nn.Module):\n",
    "\n",
    "    def __init__(self, n_features, n_classes, n_hidden=256, n_layers=3):\n",
    "        super().__init__()\n",
    "\n",
    "        self.n_hidden = n_hidden\n",
    "\n",
    "        self.lstm = nn.LSTM(\n",
    "            input_size=n_features,\n",
    "            hidden_size=n_hidden,\n",
    "            num_layers=n_layers,\n",
    "            batch_first=True,\n",
    "            dropout=0.75\n",
    "        )\n",
    "\n",
    "        self.classifier = nn.Linear(n_hidden, n_classes)\n",
    "\n",
    "    def forward(self, x):\n",
    "        self.lstm.flatten_parameters()\n",
    "        _, (hidden, _) = self.lstm(x)\n",
    "\n",
    "        out = hidden[-1]\n",
    "        return self.classifier(out)"
   ],
   "metadata": {
    "collapsed": false,
    "pycharm": {
     "name": "#%%\n"
    }
   }
  },
  {
   "cell_type": "code",
   "execution_count": 21,
   "outputs": [],
   "source": [
    "class EyeTrackingPredictor(pl.LightningModule):\n",
    "\n",
    "    def __init__(self, n_features:int, n_classes:int):\n",
    "        super().__init__()\n",
    "        self.model = SequenceModel(n_features, n_classes)\n",
    "        self.criterion = nn.CrossEntropyLoss()\n",
    "\n",
    "    def forward(self, x, labels=None):\n",
    "        output = self.model(x)\n",
    "        loss = 0\n",
    "        if labels is not None:\n",
    "            loss = self.criterion(output, labels)\n",
    "        return loss, output\n",
    "\n",
    "    def training_step(self, batch, batch_idx):\n",
    "        sequences = batch[\"sequence\"]\n",
    "        labels = batch[\"label\"]\n",
    "        loss, outputs = self(sequences, labels)\n",
    "        predictions = torch.argmax(outputs, dim=1)\n",
    "        step_accuracy = torchmetrics.functional.accuracy(predictions, labels)\n",
    "\n",
    "        self.log(\"train_loss\", loss, prog_bar=True, logger=True)\n",
    "        self.log(\"train_accuracy\", step_accuracy, prog_bar=True, logger=True)\n",
    "        return {\"loss\": loss, \"accuracy\": step_accuracy}\n",
    "\n",
    "    def validation_step(self, batch, batch_idx):\n",
    "        sequences = batch[\"sequence\"]\n",
    "        labels = batch[\"label\"]\n",
    "        loss, outputs = self(sequences, labels)\n",
    "        predictions = torch.argmax(outputs, dim=1)\n",
    "        step_accuracy = torchmetrics.functional.accuracy(predictions, labels)\n",
    "\n",
    "        self.log(\"validation_loss\", loss, prog_bar=True, logger=True)\n",
    "        self.log(\"validation_accuracy\", step_accuracy, prog_bar=True, logger=True)\n",
    "        return {\"loss\": loss, \"accuracy\": step_accuracy}\n",
    "\n",
    "    def test_step(self, batch, batch_idx):\n",
    "        sequences = batch[\"sequence\"]\n",
    "        labels = batch[\"label\"]\n",
    "        loss, outputs = self(sequences, labels)\n",
    "        predictions = torch.argmax(outputs, dim=1)\n",
    "        step_accuracy = torchmetrics.functional.accuracy(predictions, labels)\n",
    "\n",
    "        self.log(\"test_loss\", loss, prog_bar=True, logger=True)\n",
    "        self.log(\"test_accuracy\", step_accuracy, prog_bar=True, logger=True)\n",
    "        return {\"loss\": loss, \"accuracy\": step_accuracy}\n",
    "\n",
    "    def configure_optimizers(self):\n",
    "        return optim.Adam(self.parameters(), lr = 0.0001)"
   ],
   "metadata": {
    "collapsed": false,
    "pycharm": {
     "name": "#%%\n"
    }
   }
  },
  {
   "cell_type": "code",
   "execution_count": 22,
   "outputs": [],
   "source": [
    "model = EyeTrackingPredictor(\n",
    "    n_features=len(FEATURE_NAMES),\n",
    "    n_classes=2\n",
    ")"
   ],
   "metadata": {
    "collapsed": false,
    "pycharm": {
     "name": "#%%\n"
    }
   }
  },
  {
   "cell_type": "code",
   "execution_count": 23,
   "outputs": [
    {
     "data": {
      "text/plain": "Launching TensorBoard..."
     },
     "metadata": {},
     "output_type": "display_data"
    },
    {
     "data": {
      "text/plain": "<IPython.core.display.HTML object>",
      "text/html": "\n      <iframe id=\"tensorboard-frame-9259fbbbc4ce114c\" width=\"100%\" height=\"800\" frameborder=\"0\">\n      </iframe>\n      <script>\n        (function() {\n          const frame = document.getElementById(\"tensorboard-frame-9259fbbbc4ce114c\");\n          const url = new URL(\"/\", window.location);\n          const port = 6006;\n          if (port) {\n            url.port = port;\n          }\n          frame.src = url;\n        })();\n      </script>\n    "
     },
     "metadata": {},
     "output_type": "display_data"
    }
   ],
   "source": [
    "%load_ext tensorboard\n",
    "%tensorboard --logdir ./lightning_logs"
   ],
   "metadata": {
    "collapsed": false,
    "pycharm": {
     "name": "#%%\n"
    }
   }
  },
  {
   "cell_type": "code",
   "execution_count": 24,
   "outputs": [
    {
     "name": "stderr",
     "output_type": "stream",
     "text": [
      "GPU available: False, used: False\n",
      "TPU available: False, using: 0 TPU cores\n",
      "IPU available: False, using: 0 IPUs\n",
      "HPU available: False, using: 0 HPUs\n"
     ]
    }
   ],
   "source": [
    "checkpoint_callback = ModelCheckpoint(\n",
    "    dirpath=\"checkpoints\",\n",
    "    filename=\"best-checkpoint\",\n",
    "    save_top_k=1,\n",
    "    verbose=True,\n",
    "    monitor=\"val_loss\",\n",
    "    mode=\"min\"\n",
    ")\n",
    "\n",
    "logger = TensorBoardLogger(\"lightning_logs\", name=\"EyeTracking\")\n",
    "\n",
    "trainer = pl.Trainer(logger=logger, callbacks=checkpoint_callback, max_epochs=N_EPOCHS, enable_progress_bar=True)"
   ],
   "metadata": {
    "collapsed": false,
    "pycharm": {
     "name": "#%%\n"
    }
   }
  },
  {
   "cell_type": "code",
   "execution_count": 25,
   "outputs": [
    {
     "name": "stderr",
     "output_type": "stream",
     "text": [
      "Missing logger folder: lightning_logs\\EyeTracking\n",
      "\n",
      "  | Name      | Type             | Params\n",
      "-----------------------------------------------\n",
      "0 | model     | SequenceModel    | 1.3 M \n",
      "1 | criterion | CrossEntropyLoss | 0     \n",
      "-----------------------------------------------\n",
      "1.3 M     Trainable params\n",
      "0         Non-trainable params\n",
      "1.3 M     Total params\n",
      "5.286     Total estimated model params size (MB)\n"
     ]
    },
    {
     "data": {
      "text/plain": "Sanity Checking: 0it [00:00, ?it/s]",
      "application/vnd.jupyter.widget-view+json": {
       "version_major": 2,
       "version_minor": 0,
       "model_id": "f5032de2840441d19ef1b1cdd57dc12e"
      }
     },
     "metadata": {},
     "output_type": "display_data"
    },
    {
     "name": "stderr",
     "output_type": "stream",
     "text": [
      "C:\\Users\\Daniel\\anaconda3\\lib\\site-packages\\pytorch_lightning\\trainer\\connectors\\data_connector.py:224: PossibleUserWarning: The dataloader, val_dataloader 0, does not have many workers which may be a bottleneck. Consider increasing the value of the `num_workers` argument` (try 16 which is the number of cpus on this machine) in the `DataLoader` init to improve performance.\n",
      "  rank_zero_warn(\n"
     ]
    },
    {
     "ename": "RuntimeError",
     "evalue": "stack expects each tensor to be equal size, but got [1498, 4] at entry 0 and [1443, 4] at entry 2",
     "output_type": "error",
     "traceback": [
      "\u001B[1;31m---------------------------------------------------------------------------\u001B[0m",
      "\u001B[1;31mRuntimeError\u001B[0m                              Traceback (most recent call last)",
      "\u001B[1;32m~\\AppData\\Local\\Temp\\11\\ipykernel_39196\\1775107835.py\u001B[0m in \u001B[0;36m<module>\u001B[1;34m\u001B[0m\n\u001B[1;32m----> 1\u001B[1;33m \u001B[0mtrainer\u001B[0m\u001B[1;33m.\u001B[0m\u001B[0mfit\u001B[0m\u001B[1;33m(\u001B[0m\u001B[0mmodel\u001B[0m\u001B[1;33m,\u001B[0m \u001B[0mdata_module\u001B[0m\u001B[1;33m)\u001B[0m\u001B[1;33m\u001B[0m\u001B[1;33m\u001B[0m\u001B[0m\n\u001B[0m",
      "\u001B[1;32m~\\anaconda3\\lib\\site-packages\\pytorch_lightning\\trainer\\trainer.py\u001B[0m in \u001B[0;36mfit\u001B[1;34m(self, model, train_dataloaders, val_dataloaders, datamodule, ckpt_path)\u001B[0m\n\u001B[0;32m    601\u001B[0m             \u001B[1;32mraise\u001B[0m \u001B[0mTypeError\u001B[0m\u001B[1;33m(\u001B[0m\u001B[1;34mf\"`Trainer.fit()` requires a `LightningModule`, got: {model.__class__.__qualname__}\"\u001B[0m\u001B[1;33m)\u001B[0m\u001B[1;33m\u001B[0m\u001B[1;33m\u001B[0m\u001B[0m\n\u001B[0;32m    602\u001B[0m         \u001B[0mself\u001B[0m\u001B[1;33m.\u001B[0m\u001B[0mstrategy\u001B[0m\u001B[1;33m.\u001B[0m\u001B[0m_lightning_module\u001B[0m \u001B[1;33m=\u001B[0m \u001B[0mmodel\u001B[0m\u001B[1;33m\u001B[0m\u001B[1;33m\u001B[0m\u001B[0m\n\u001B[1;32m--> 603\u001B[1;33m         call._call_and_handle_interrupt(\n\u001B[0m\u001B[0;32m    604\u001B[0m             \u001B[0mself\u001B[0m\u001B[1;33m,\u001B[0m \u001B[0mself\u001B[0m\u001B[1;33m.\u001B[0m\u001B[0m_fit_impl\u001B[0m\u001B[1;33m,\u001B[0m \u001B[0mmodel\u001B[0m\u001B[1;33m,\u001B[0m \u001B[0mtrain_dataloaders\u001B[0m\u001B[1;33m,\u001B[0m \u001B[0mval_dataloaders\u001B[0m\u001B[1;33m,\u001B[0m \u001B[0mdatamodule\u001B[0m\u001B[1;33m,\u001B[0m \u001B[0mckpt_path\u001B[0m\u001B[1;33m\u001B[0m\u001B[1;33m\u001B[0m\u001B[0m\n\u001B[0;32m    605\u001B[0m         )\n",
      "\u001B[1;32m~\\anaconda3\\lib\\site-packages\\pytorch_lightning\\trainer\\call.py\u001B[0m in \u001B[0;36m_call_and_handle_interrupt\u001B[1;34m(trainer, trainer_fn, *args, **kwargs)\u001B[0m\n\u001B[0;32m     36\u001B[0m             \u001B[1;32mreturn\u001B[0m \u001B[0mtrainer\u001B[0m\u001B[1;33m.\u001B[0m\u001B[0mstrategy\u001B[0m\u001B[1;33m.\u001B[0m\u001B[0mlauncher\u001B[0m\u001B[1;33m.\u001B[0m\u001B[0mlaunch\u001B[0m\u001B[1;33m(\u001B[0m\u001B[0mtrainer_fn\u001B[0m\u001B[1;33m,\u001B[0m \u001B[1;33m*\u001B[0m\u001B[0margs\u001B[0m\u001B[1;33m,\u001B[0m \u001B[0mtrainer\u001B[0m\u001B[1;33m=\u001B[0m\u001B[0mtrainer\u001B[0m\u001B[1;33m,\u001B[0m \u001B[1;33m**\u001B[0m\u001B[0mkwargs\u001B[0m\u001B[1;33m)\u001B[0m\u001B[1;33m\u001B[0m\u001B[1;33m\u001B[0m\u001B[0m\n\u001B[0;32m     37\u001B[0m         \u001B[1;32melse\u001B[0m\u001B[1;33m:\u001B[0m\u001B[1;33m\u001B[0m\u001B[1;33m\u001B[0m\u001B[0m\n\u001B[1;32m---> 38\u001B[1;33m             \u001B[1;32mreturn\u001B[0m \u001B[0mtrainer_fn\u001B[0m\u001B[1;33m(\u001B[0m\u001B[1;33m*\u001B[0m\u001B[0margs\u001B[0m\u001B[1;33m,\u001B[0m \u001B[1;33m**\u001B[0m\u001B[0mkwargs\u001B[0m\u001B[1;33m)\u001B[0m\u001B[1;33m\u001B[0m\u001B[1;33m\u001B[0m\u001B[0m\n\u001B[0m\u001B[0;32m     39\u001B[0m \u001B[1;33m\u001B[0m\u001B[0m\n\u001B[0;32m     40\u001B[0m     \u001B[1;32mexcept\u001B[0m \u001B[0m_TunerExitException\u001B[0m\u001B[1;33m:\u001B[0m\u001B[1;33m\u001B[0m\u001B[1;33m\u001B[0m\u001B[0m\n",
      "\u001B[1;32m~\\anaconda3\\lib\\site-packages\\pytorch_lightning\\trainer\\trainer.py\u001B[0m in \u001B[0;36m_fit_impl\u001B[1;34m(self, model, train_dataloaders, val_dataloaders, datamodule, ckpt_path)\u001B[0m\n\u001B[0;32m    643\u001B[0m             \u001B[0mmodel_connected\u001B[0m\u001B[1;33m=\u001B[0m\u001B[0mself\u001B[0m\u001B[1;33m.\u001B[0m\u001B[0mlightning_module\u001B[0m \u001B[1;32mis\u001B[0m \u001B[1;32mnot\u001B[0m \u001B[1;32mNone\u001B[0m\u001B[1;33m,\u001B[0m\u001B[1;33m\u001B[0m\u001B[1;33m\u001B[0m\u001B[0m\n\u001B[0;32m    644\u001B[0m         )\n\u001B[1;32m--> 645\u001B[1;33m         \u001B[0mself\u001B[0m\u001B[1;33m.\u001B[0m\u001B[0m_run\u001B[0m\u001B[1;33m(\u001B[0m\u001B[0mmodel\u001B[0m\u001B[1;33m,\u001B[0m \u001B[0mckpt_path\u001B[0m\u001B[1;33m=\u001B[0m\u001B[0mself\u001B[0m\u001B[1;33m.\u001B[0m\u001B[0mckpt_path\u001B[0m\u001B[1;33m)\u001B[0m\u001B[1;33m\u001B[0m\u001B[1;33m\u001B[0m\u001B[0m\n\u001B[0m\u001B[0;32m    646\u001B[0m \u001B[1;33m\u001B[0m\u001B[0m\n\u001B[0;32m    647\u001B[0m         \u001B[1;32massert\u001B[0m \u001B[0mself\u001B[0m\u001B[1;33m.\u001B[0m\u001B[0mstate\u001B[0m\u001B[1;33m.\u001B[0m\u001B[0mstopped\u001B[0m\u001B[1;33m\u001B[0m\u001B[1;33m\u001B[0m\u001B[0m\n",
      "\u001B[1;32m~\\anaconda3\\lib\\site-packages\\pytorch_lightning\\trainer\\trainer.py\u001B[0m in \u001B[0;36m_run\u001B[1;34m(self, model, ckpt_path)\u001B[0m\n\u001B[0;32m   1096\u001B[0m         \u001B[0mself\u001B[0m\u001B[1;33m.\u001B[0m\u001B[0m_checkpoint_connector\u001B[0m\u001B[1;33m.\u001B[0m\u001B[0mresume_end\u001B[0m\u001B[1;33m(\u001B[0m\u001B[1;33m)\u001B[0m\u001B[1;33m\u001B[0m\u001B[1;33m\u001B[0m\u001B[0m\n\u001B[0;32m   1097\u001B[0m \u001B[1;33m\u001B[0m\u001B[0m\n\u001B[1;32m-> 1098\u001B[1;33m         \u001B[0mresults\u001B[0m \u001B[1;33m=\u001B[0m \u001B[0mself\u001B[0m\u001B[1;33m.\u001B[0m\u001B[0m_run_stage\u001B[0m\u001B[1;33m(\u001B[0m\u001B[1;33m)\u001B[0m\u001B[1;33m\u001B[0m\u001B[1;33m\u001B[0m\u001B[0m\n\u001B[0m\u001B[0;32m   1099\u001B[0m \u001B[1;33m\u001B[0m\u001B[0m\n\u001B[0;32m   1100\u001B[0m         \u001B[0mlog\u001B[0m\u001B[1;33m.\u001B[0m\u001B[0mdetail\u001B[0m\u001B[1;33m(\u001B[0m\u001B[1;34mf\"{self.__class__.__name__}: trainer tearing down\"\u001B[0m\u001B[1;33m)\u001B[0m\u001B[1;33m\u001B[0m\u001B[1;33m\u001B[0m\u001B[0m\n",
      "\u001B[1;32m~\\anaconda3\\lib\\site-packages\\pytorch_lightning\\trainer\\trainer.py\u001B[0m in \u001B[0;36m_run_stage\u001B[1;34m(self)\u001B[0m\n\u001B[0;32m   1175\u001B[0m         \u001B[1;32mif\u001B[0m \u001B[0mself\u001B[0m\u001B[1;33m.\u001B[0m\u001B[0mpredicting\u001B[0m\u001B[1;33m:\u001B[0m\u001B[1;33m\u001B[0m\u001B[1;33m\u001B[0m\u001B[0m\n\u001B[0;32m   1176\u001B[0m             \u001B[1;32mreturn\u001B[0m \u001B[0mself\u001B[0m\u001B[1;33m.\u001B[0m\u001B[0m_run_predict\u001B[0m\u001B[1;33m(\u001B[0m\u001B[1;33m)\u001B[0m\u001B[1;33m\u001B[0m\u001B[1;33m\u001B[0m\u001B[0m\n\u001B[1;32m-> 1177\u001B[1;33m         \u001B[0mself\u001B[0m\u001B[1;33m.\u001B[0m\u001B[0m_run_train\u001B[0m\u001B[1;33m(\u001B[0m\u001B[1;33m)\u001B[0m\u001B[1;33m\u001B[0m\u001B[1;33m\u001B[0m\u001B[0m\n\u001B[0m\u001B[0;32m   1178\u001B[0m \u001B[1;33m\u001B[0m\u001B[0m\n\u001B[0;32m   1179\u001B[0m     \u001B[1;32mdef\u001B[0m \u001B[0m_pre_training_routine\u001B[0m\u001B[1;33m(\u001B[0m\u001B[0mself\u001B[0m\u001B[1;33m)\u001B[0m \u001B[1;33m->\u001B[0m \u001B[1;32mNone\u001B[0m\u001B[1;33m:\u001B[0m\u001B[1;33m\u001B[0m\u001B[1;33m\u001B[0m\u001B[0m\n",
      "\u001B[1;32m~\\anaconda3\\lib\\site-packages\\pytorch_lightning\\trainer\\trainer.py\u001B[0m in \u001B[0;36m_run_train\u001B[1;34m(self)\u001B[0m\n\u001B[0;32m   1188\u001B[0m \u001B[1;33m\u001B[0m\u001B[0m\n\u001B[0;32m   1189\u001B[0m         \u001B[1;32mwith\u001B[0m \u001B[0misolate_rng\u001B[0m\u001B[1;33m(\u001B[0m\u001B[1;33m)\u001B[0m\u001B[1;33m:\u001B[0m\u001B[1;33m\u001B[0m\u001B[1;33m\u001B[0m\u001B[0m\n\u001B[1;32m-> 1190\u001B[1;33m             \u001B[0mself\u001B[0m\u001B[1;33m.\u001B[0m\u001B[0m_run_sanity_check\u001B[0m\u001B[1;33m(\u001B[0m\u001B[1;33m)\u001B[0m\u001B[1;33m\u001B[0m\u001B[1;33m\u001B[0m\u001B[0m\n\u001B[0m\u001B[0;32m   1191\u001B[0m \u001B[1;33m\u001B[0m\u001B[0m\n\u001B[0;32m   1192\u001B[0m         \u001B[1;31m# enable train mode\u001B[0m\u001B[1;33m\u001B[0m\u001B[1;33m\u001B[0m\u001B[0m\n",
      "\u001B[1;32m~\\anaconda3\\lib\\site-packages\\pytorch_lightning\\trainer\\trainer.py\u001B[0m in \u001B[0;36m_run_sanity_check\u001B[1;34m(self)\u001B[0m\n\u001B[0;32m   1260\u001B[0m             \u001B[1;31m# run eval step\u001B[0m\u001B[1;33m\u001B[0m\u001B[1;33m\u001B[0m\u001B[0m\n\u001B[0;32m   1261\u001B[0m             \u001B[1;32mwith\u001B[0m \u001B[0mtorch\u001B[0m\u001B[1;33m.\u001B[0m\u001B[0mno_grad\u001B[0m\u001B[1;33m(\u001B[0m\u001B[1;33m)\u001B[0m\u001B[1;33m:\u001B[0m\u001B[1;33m\u001B[0m\u001B[1;33m\u001B[0m\u001B[0m\n\u001B[1;32m-> 1262\u001B[1;33m                 \u001B[0mval_loop\u001B[0m\u001B[1;33m.\u001B[0m\u001B[0mrun\u001B[0m\u001B[1;33m(\u001B[0m\u001B[1;33m)\u001B[0m\u001B[1;33m\u001B[0m\u001B[1;33m\u001B[0m\u001B[0m\n\u001B[0m\u001B[0;32m   1263\u001B[0m \u001B[1;33m\u001B[0m\u001B[0m\n\u001B[0;32m   1264\u001B[0m             \u001B[0mself\u001B[0m\u001B[1;33m.\u001B[0m\u001B[0m_call_callback_hooks\u001B[0m\u001B[1;33m(\u001B[0m\u001B[1;34m\"on_sanity_check_end\"\u001B[0m\u001B[1;33m)\u001B[0m\u001B[1;33m\u001B[0m\u001B[1;33m\u001B[0m\u001B[0m\n",
      "\u001B[1;32m~\\anaconda3\\lib\\site-packages\\pytorch_lightning\\loops\\loop.py\u001B[0m in \u001B[0;36mrun\u001B[1;34m(self, *args, **kwargs)\u001B[0m\n\u001B[0;32m    197\u001B[0m             \u001B[1;32mtry\u001B[0m\u001B[1;33m:\u001B[0m\u001B[1;33m\u001B[0m\u001B[1;33m\u001B[0m\u001B[0m\n\u001B[0;32m    198\u001B[0m                 \u001B[0mself\u001B[0m\u001B[1;33m.\u001B[0m\u001B[0mon_advance_start\u001B[0m\u001B[1;33m(\u001B[0m\u001B[1;33m*\u001B[0m\u001B[0margs\u001B[0m\u001B[1;33m,\u001B[0m \u001B[1;33m**\u001B[0m\u001B[0mkwargs\u001B[0m\u001B[1;33m)\u001B[0m\u001B[1;33m\u001B[0m\u001B[1;33m\u001B[0m\u001B[0m\n\u001B[1;32m--> 199\u001B[1;33m                 \u001B[0mself\u001B[0m\u001B[1;33m.\u001B[0m\u001B[0madvance\u001B[0m\u001B[1;33m(\u001B[0m\u001B[1;33m*\u001B[0m\u001B[0margs\u001B[0m\u001B[1;33m,\u001B[0m \u001B[1;33m**\u001B[0m\u001B[0mkwargs\u001B[0m\u001B[1;33m)\u001B[0m\u001B[1;33m\u001B[0m\u001B[1;33m\u001B[0m\u001B[0m\n\u001B[0m\u001B[0;32m    200\u001B[0m                 \u001B[0mself\u001B[0m\u001B[1;33m.\u001B[0m\u001B[0mon_advance_end\u001B[0m\u001B[1;33m(\u001B[0m\u001B[1;33m)\u001B[0m\u001B[1;33m\u001B[0m\u001B[1;33m\u001B[0m\u001B[0m\n\u001B[0;32m    201\u001B[0m                 \u001B[0mself\u001B[0m\u001B[1;33m.\u001B[0m\u001B[0m_restarting\u001B[0m \u001B[1;33m=\u001B[0m \u001B[1;32mFalse\u001B[0m\u001B[1;33m\u001B[0m\u001B[1;33m\u001B[0m\u001B[0m\n",
      "\u001B[1;32m~\\anaconda3\\lib\\site-packages\\pytorch_lightning\\loops\\dataloader\\evaluation_loop.py\u001B[0m in \u001B[0;36madvance\u001B[1;34m(self, *args, **kwargs)\u001B[0m\n\u001B[0;32m    150\u001B[0m         \u001B[1;32mif\u001B[0m \u001B[0mself\u001B[0m\u001B[1;33m.\u001B[0m\u001B[0mnum_dataloaders\u001B[0m \u001B[1;33m>\u001B[0m \u001B[1;36m1\u001B[0m\u001B[1;33m:\u001B[0m\u001B[1;33m\u001B[0m\u001B[1;33m\u001B[0m\u001B[0m\n\u001B[0;32m    151\u001B[0m             \u001B[0mkwargs\u001B[0m\u001B[1;33m[\u001B[0m\u001B[1;34m\"dataloader_idx\"\u001B[0m\u001B[1;33m]\u001B[0m \u001B[1;33m=\u001B[0m \u001B[0mdataloader_idx\u001B[0m\u001B[1;33m\u001B[0m\u001B[1;33m\u001B[0m\u001B[0m\n\u001B[1;32m--> 152\u001B[1;33m         \u001B[0mdl_outputs\u001B[0m \u001B[1;33m=\u001B[0m \u001B[0mself\u001B[0m\u001B[1;33m.\u001B[0m\u001B[0mepoch_loop\u001B[0m\u001B[1;33m.\u001B[0m\u001B[0mrun\u001B[0m\u001B[1;33m(\u001B[0m\u001B[0mself\u001B[0m\u001B[1;33m.\u001B[0m\u001B[0m_data_fetcher\u001B[0m\u001B[1;33m,\u001B[0m \u001B[0mdl_max_batches\u001B[0m\u001B[1;33m,\u001B[0m \u001B[0mkwargs\u001B[0m\u001B[1;33m)\u001B[0m\u001B[1;33m\u001B[0m\u001B[1;33m\u001B[0m\u001B[0m\n\u001B[0m\u001B[0;32m    153\u001B[0m \u001B[1;33m\u001B[0m\u001B[0m\n\u001B[0;32m    154\u001B[0m         \u001B[1;31m# store batch level output per dataloader\u001B[0m\u001B[1;33m\u001B[0m\u001B[1;33m\u001B[0m\u001B[0m\n",
      "\u001B[1;32m~\\anaconda3\\lib\\site-packages\\pytorch_lightning\\loops\\loop.py\u001B[0m in \u001B[0;36mrun\u001B[1;34m(self, *args, **kwargs)\u001B[0m\n\u001B[0;32m    197\u001B[0m             \u001B[1;32mtry\u001B[0m\u001B[1;33m:\u001B[0m\u001B[1;33m\u001B[0m\u001B[1;33m\u001B[0m\u001B[0m\n\u001B[0;32m    198\u001B[0m                 \u001B[0mself\u001B[0m\u001B[1;33m.\u001B[0m\u001B[0mon_advance_start\u001B[0m\u001B[1;33m(\u001B[0m\u001B[1;33m*\u001B[0m\u001B[0margs\u001B[0m\u001B[1;33m,\u001B[0m \u001B[1;33m**\u001B[0m\u001B[0mkwargs\u001B[0m\u001B[1;33m)\u001B[0m\u001B[1;33m\u001B[0m\u001B[1;33m\u001B[0m\u001B[0m\n\u001B[1;32m--> 199\u001B[1;33m                 \u001B[0mself\u001B[0m\u001B[1;33m.\u001B[0m\u001B[0madvance\u001B[0m\u001B[1;33m(\u001B[0m\u001B[1;33m*\u001B[0m\u001B[0margs\u001B[0m\u001B[1;33m,\u001B[0m \u001B[1;33m**\u001B[0m\u001B[0mkwargs\u001B[0m\u001B[1;33m)\u001B[0m\u001B[1;33m\u001B[0m\u001B[1;33m\u001B[0m\u001B[0m\n\u001B[0m\u001B[0;32m    200\u001B[0m                 \u001B[0mself\u001B[0m\u001B[1;33m.\u001B[0m\u001B[0mon_advance_end\u001B[0m\u001B[1;33m(\u001B[0m\u001B[1;33m)\u001B[0m\u001B[1;33m\u001B[0m\u001B[1;33m\u001B[0m\u001B[0m\n\u001B[0;32m    201\u001B[0m                 \u001B[0mself\u001B[0m\u001B[1;33m.\u001B[0m\u001B[0m_restarting\u001B[0m \u001B[1;33m=\u001B[0m \u001B[1;32mFalse\u001B[0m\u001B[1;33m\u001B[0m\u001B[1;33m\u001B[0m\u001B[0m\n",
      "\u001B[1;32m~\\anaconda3\\lib\\site-packages\\pytorch_lightning\\loops\\epoch\\evaluation_epoch_loop.py\u001B[0m in \u001B[0;36madvance\u001B[1;34m(self, data_fetcher, dl_max_batches, kwargs)\u001B[0m\n\u001B[0;32m    119\u001B[0m         \u001B[1;32mif\u001B[0m \u001B[1;32mnot\u001B[0m \u001B[0misinstance\u001B[0m\u001B[1;33m(\u001B[0m\u001B[0mdata_fetcher\u001B[0m\u001B[1;33m,\u001B[0m \u001B[0mDataLoaderIterDataFetcher\u001B[0m\u001B[1;33m)\u001B[0m\u001B[1;33m:\u001B[0m\u001B[1;33m\u001B[0m\u001B[1;33m\u001B[0m\u001B[0m\n\u001B[0;32m    120\u001B[0m             \u001B[0mbatch_idx\u001B[0m \u001B[1;33m=\u001B[0m \u001B[0mself\u001B[0m\u001B[1;33m.\u001B[0m\u001B[0mbatch_progress\u001B[0m\u001B[1;33m.\u001B[0m\u001B[0mcurrent\u001B[0m\u001B[1;33m.\u001B[0m\u001B[0mready\u001B[0m\u001B[1;33m\u001B[0m\u001B[1;33m\u001B[0m\u001B[0m\n\u001B[1;32m--> 121\u001B[1;33m             \u001B[0mbatch\u001B[0m \u001B[1;33m=\u001B[0m \u001B[0mnext\u001B[0m\u001B[1;33m(\u001B[0m\u001B[0mdata_fetcher\u001B[0m\u001B[1;33m)\u001B[0m\u001B[1;33m\u001B[0m\u001B[1;33m\u001B[0m\u001B[0m\n\u001B[0m\u001B[0;32m    122\u001B[0m         \u001B[1;32melse\u001B[0m\u001B[1;33m:\u001B[0m\u001B[1;33m\u001B[0m\u001B[1;33m\u001B[0m\u001B[0m\n\u001B[0;32m    123\u001B[0m             \u001B[0mbatch_idx\u001B[0m\u001B[1;33m,\u001B[0m \u001B[0mbatch\u001B[0m \u001B[1;33m=\u001B[0m \u001B[0mnext\u001B[0m\u001B[1;33m(\u001B[0m\u001B[0mdata_fetcher\u001B[0m\u001B[1;33m)\u001B[0m\u001B[1;33m\u001B[0m\u001B[1;33m\u001B[0m\u001B[0m\n",
      "\u001B[1;32m~\\anaconda3\\lib\\site-packages\\pytorch_lightning\\utilities\\fetching.py\u001B[0m in \u001B[0;36m__next__\u001B[1;34m(self)\u001B[0m\n\u001B[0;32m    182\u001B[0m \u001B[1;33m\u001B[0m\u001B[0m\n\u001B[0;32m    183\u001B[0m     \u001B[1;32mdef\u001B[0m \u001B[0m__next__\u001B[0m\u001B[1;33m(\u001B[0m\u001B[0mself\u001B[0m\u001B[1;33m)\u001B[0m \u001B[1;33m->\u001B[0m \u001B[0mAny\u001B[0m\u001B[1;33m:\u001B[0m\u001B[1;33m\u001B[0m\u001B[1;33m\u001B[0m\u001B[0m\n\u001B[1;32m--> 184\u001B[1;33m         \u001B[1;32mreturn\u001B[0m \u001B[0mself\u001B[0m\u001B[1;33m.\u001B[0m\u001B[0mfetching_function\u001B[0m\u001B[1;33m(\u001B[0m\u001B[1;33m)\u001B[0m\u001B[1;33m\u001B[0m\u001B[1;33m\u001B[0m\u001B[0m\n\u001B[0m\u001B[0;32m    185\u001B[0m \u001B[1;33m\u001B[0m\u001B[0m\n\u001B[0;32m    186\u001B[0m     \u001B[1;32mdef\u001B[0m \u001B[0mreset\u001B[0m\u001B[1;33m(\u001B[0m\u001B[0mself\u001B[0m\u001B[1;33m)\u001B[0m \u001B[1;33m->\u001B[0m \u001B[1;32mNone\u001B[0m\u001B[1;33m:\u001B[0m\u001B[1;33m\u001B[0m\u001B[1;33m\u001B[0m\u001B[0m\n",
      "\u001B[1;32m~\\anaconda3\\lib\\site-packages\\pytorch_lightning\\utilities\\fetching.py\u001B[0m in \u001B[0;36mfetching_function\u001B[1;34m(self)\u001B[0m\n\u001B[0;32m    263\u001B[0m             \u001B[1;31m# this will run only when no pre-fetching was done.\u001B[0m\u001B[1;33m\u001B[0m\u001B[1;33m\u001B[0m\u001B[0m\n\u001B[0;32m    264\u001B[0m             \u001B[1;32mtry\u001B[0m\u001B[1;33m:\u001B[0m\u001B[1;33m\u001B[0m\u001B[1;33m\u001B[0m\u001B[0m\n\u001B[1;32m--> 265\u001B[1;33m                 \u001B[0mself\u001B[0m\u001B[1;33m.\u001B[0m\u001B[0m_fetch_next_batch\u001B[0m\u001B[1;33m(\u001B[0m\u001B[0mself\u001B[0m\u001B[1;33m.\u001B[0m\u001B[0mdataloader_iter\u001B[0m\u001B[1;33m)\u001B[0m\u001B[1;33m\u001B[0m\u001B[1;33m\u001B[0m\u001B[0m\n\u001B[0m\u001B[0;32m    266\u001B[0m                 \u001B[1;31m# consume the batch we just fetched\u001B[0m\u001B[1;33m\u001B[0m\u001B[1;33m\u001B[0m\u001B[0m\n\u001B[0;32m    267\u001B[0m                 \u001B[0mbatch\u001B[0m \u001B[1;33m=\u001B[0m \u001B[0mself\u001B[0m\u001B[1;33m.\u001B[0m\u001B[0mbatches\u001B[0m\u001B[1;33m.\u001B[0m\u001B[0mpop\u001B[0m\u001B[1;33m(\u001B[0m\u001B[1;36m0\u001B[0m\u001B[1;33m)\u001B[0m\u001B[1;33m\u001B[0m\u001B[1;33m\u001B[0m\u001B[0m\n",
      "\u001B[1;32m~\\anaconda3\\lib\\site-packages\\pytorch_lightning\\utilities\\fetching.py\u001B[0m in \u001B[0;36m_fetch_next_batch\u001B[1;34m(self, iterator)\u001B[0m\n\u001B[0;32m    278\u001B[0m         \u001B[0mstart_output\u001B[0m \u001B[1;33m=\u001B[0m \u001B[0mself\u001B[0m\u001B[1;33m.\u001B[0m\u001B[0mon_fetch_start\u001B[0m\u001B[1;33m(\u001B[0m\u001B[1;33m)\u001B[0m\u001B[1;33m\u001B[0m\u001B[1;33m\u001B[0m\u001B[0m\n\u001B[0;32m    279\u001B[0m         \u001B[1;32mtry\u001B[0m\u001B[1;33m:\u001B[0m\u001B[1;33m\u001B[0m\u001B[1;33m\u001B[0m\u001B[0m\n\u001B[1;32m--> 280\u001B[1;33m             \u001B[0mbatch\u001B[0m \u001B[1;33m=\u001B[0m \u001B[0mnext\u001B[0m\u001B[1;33m(\u001B[0m\u001B[0miterator\u001B[0m\u001B[1;33m)\u001B[0m\u001B[1;33m\u001B[0m\u001B[1;33m\u001B[0m\u001B[0m\n\u001B[0m\u001B[0;32m    281\u001B[0m         \u001B[1;32mexcept\u001B[0m \u001B[0mStopIteration\u001B[0m \u001B[1;32mas\u001B[0m \u001B[0me\u001B[0m\u001B[1;33m:\u001B[0m\u001B[1;33m\u001B[0m\u001B[1;33m\u001B[0m\u001B[0m\n\u001B[0;32m    282\u001B[0m             \u001B[0mself\u001B[0m\u001B[1;33m.\u001B[0m\u001B[0m_stop_profiler\u001B[0m\u001B[1;33m(\u001B[0m\u001B[1;33m)\u001B[0m\u001B[1;33m\u001B[0m\u001B[1;33m\u001B[0m\u001B[0m\n",
      "\u001B[1;32m~\\anaconda3\\lib\\site-packages\\torch\\utils\\data\\dataloader.py\u001B[0m in \u001B[0;36m__next__\u001B[1;34m(self)\u001B[0m\n\u001B[0;32m    626\u001B[0m                 \u001B[1;31m# TODO(https://github.com/pytorch/pytorch/issues/76750)\u001B[0m\u001B[1;33m\u001B[0m\u001B[1;33m\u001B[0m\u001B[0m\n\u001B[0;32m    627\u001B[0m                 \u001B[0mself\u001B[0m\u001B[1;33m.\u001B[0m\u001B[0m_reset\u001B[0m\u001B[1;33m(\u001B[0m\u001B[1;33m)\u001B[0m  \u001B[1;31m# type: ignore[call-arg]\u001B[0m\u001B[1;33m\u001B[0m\u001B[1;33m\u001B[0m\u001B[0m\n\u001B[1;32m--> 628\u001B[1;33m             \u001B[0mdata\u001B[0m \u001B[1;33m=\u001B[0m \u001B[0mself\u001B[0m\u001B[1;33m.\u001B[0m\u001B[0m_next_data\u001B[0m\u001B[1;33m(\u001B[0m\u001B[1;33m)\u001B[0m\u001B[1;33m\u001B[0m\u001B[1;33m\u001B[0m\u001B[0m\n\u001B[0m\u001B[0;32m    629\u001B[0m             \u001B[0mself\u001B[0m\u001B[1;33m.\u001B[0m\u001B[0m_num_yielded\u001B[0m \u001B[1;33m+=\u001B[0m \u001B[1;36m1\u001B[0m\u001B[1;33m\u001B[0m\u001B[1;33m\u001B[0m\u001B[0m\n\u001B[0;32m    630\u001B[0m             \u001B[1;32mif\u001B[0m \u001B[0mself\u001B[0m\u001B[1;33m.\u001B[0m\u001B[0m_dataset_kind\u001B[0m \u001B[1;33m==\u001B[0m \u001B[0m_DatasetKind\u001B[0m\u001B[1;33m.\u001B[0m\u001B[0mIterable\u001B[0m \u001B[1;32mand\u001B[0m\u001B[0;31m \u001B[0m\u001B[0;31m\\\u001B[0m\u001B[1;33m\u001B[0m\u001B[1;33m\u001B[0m\u001B[0m\n",
      "\u001B[1;32m~\\anaconda3\\lib\\site-packages\\torch\\utils\\data\\dataloader.py\u001B[0m in \u001B[0;36m_next_data\u001B[1;34m(self)\u001B[0m\n\u001B[0;32m    669\u001B[0m     \u001B[1;32mdef\u001B[0m \u001B[0m_next_data\u001B[0m\u001B[1;33m(\u001B[0m\u001B[0mself\u001B[0m\u001B[1;33m)\u001B[0m\u001B[1;33m:\u001B[0m\u001B[1;33m\u001B[0m\u001B[1;33m\u001B[0m\u001B[0m\n\u001B[0;32m    670\u001B[0m         \u001B[0mindex\u001B[0m \u001B[1;33m=\u001B[0m \u001B[0mself\u001B[0m\u001B[1;33m.\u001B[0m\u001B[0m_next_index\u001B[0m\u001B[1;33m(\u001B[0m\u001B[1;33m)\u001B[0m  \u001B[1;31m# may raise StopIteration\u001B[0m\u001B[1;33m\u001B[0m\u001B[1;33m\u001B[0m\u001B[0m\n\u001B[1;32m--> 671\u001B[1;33m         \u001B[0mdata\u001B[0m \u001B[1;33m=\u001B[0m \u001B[0mself\u001B[0m\u001B[1;33m.\u001B[0m\u001B[0m_dataset_fetcher\u001B[0m\u001B[1;33m.\u001B[0m\u001B[0mfetch\u001B[0m\u001B[1;33m(\u001B[0m\u001B[0mindex\u001B[0m\u001B[1;33m)\u001B[0m  \u001B[1;31m# may raise StopIteration\u001B[0m\u001B[1;33m\u001B[0m\u001B[1;33m\u001B[0m\u001B[0m\n\u001B[0m\u001B[0;32m    672\u001B[0m         \u001B[1;32mif\u001B[0m \u001B[0mself\u001B[0m\u001B[1;33m.\u001B[0m\u001B[0m_pin_memory\u001B[0m\u001B[1;33m:\u001B[0m\u001B[1;33m\u001B[0m\u001B[1;33m\u001B[0m\u001B[0m\n\u001B[0;32m    673\u001B[0m             \u001B[0mdata\u001B[0m \u001B[1;33m=\u001B[0m \u001B[0m_utils\u001B[0m\u001B[1;33m.\u001B[0m\u001B[0mpin_memory\u001B[0m\u001B[1;33m.\u001B[0m\u001B[0mpin_memory\u001B[0m\u001B[1;33m(\u001B[0m\u001B[0mdata\u001B[0m\u001B[1;33m,\u001B[0m \u001B[0mself\u001B[0m\u001B[1;33m.\u001B[0m\u001B[0m_pin_memory_device\u001B[0m\u001B[1;33m)\u001B[0m\u001B[1;33m\u001B[0m\u001B[1;33m\u001B[0m\u001B[0m\n",
      "\u001B[1;32m~\\anaconda3\\lib\\site-packages\\torch\\utils\\data\\_utils\\fetch.py\u001B[0m in \u001B[0;36mfetch\u001B[1;34m(self, possibly_batched_index)\u001B[0m\n\u001B[0;32m     59\u001B[0m         \u001B[1;32melse\u001B[0m\u001B[1;33m:\u001B[0m\u001B[1;33m\u001B[0m\u001B[1;33m\u001B[0m\u001B[0m\n\u001B[0;32m     60\u001B[0m             \u001B[0mdata\u001B[0m \u001B[1;33m=\u001B[0m \u001B[0mself\u001B[0m\u001B[1;33m.\u001B[0m\u001B[0mdataset\u001B[0m\u001B[1;33m[\u001B[0m\u001B[0mpossibly_batched_index\u001B[0m\u001B[1;33m]\u001B[0m\u001B[1;33m\u001B[0m\u001B[1;33m\u001B[0m\u001B[0m\n\u001B[1;32m---> 61\u001B[1;33m         \u001B[1;32mreturn\u001B[0m \u001B[0mself\u001B[0m\u001B[1;33m.\u001B[0m\u001B[0mcollate_fn\u001B[0m\u001B[1;33m(\u001B[0m\u001B[0mdata\u001B[0m\u001B[1;33m)\u001B[0m\u001B[1;33m\u001B[0m\u001B[1;33m\u001B[0m\u001B[0m\n\u001B[0m",
      "\u001B[1;32m~\\anaconda3\\lib\\site-packages\\torch\\utils\\data\\_utils\\collate.py\u001B[0m in \u001B[0;36mdefault_collate\u001B[1;34m(batch)\u001B[0m\n\u001B[0;32m    263\u001B[0m             \u001B[1;33m>>\u001B[0m\u001B[1;33m>\u001B[0m \u001B[0mdefault_collate\u001B[0m\u001B[1;33m(\u001B[0m\u001B[0mbatch\u001B[0m\u001B[1;33m)\u001B[0m  \u001B[1;31m# Handle `CustomType` automatically\u001B[0m\u001B[1;33m\u001B[0m\u001B[1;33m\u001B[0m\u001B[0m\n\u001B[0;32m    264\u001B[0m     \"\"\"\n\u001B[1;32m--> 265\u001B[1;33m     \u001B[1;32mreturn\u001B[0m \u001B[0mcollate\u001B[0m\u001B[1;33m(\u001B[0m\u001B[0mbatch\u001B[0m\u001B[1;33m,\u001B[0m \u001B[0mcollate_fn_map\u001B[0m\u001B[1;33m=\u001B[0m\u001B[0mdefault_collate_fn_map\u001B[0m\u001B[1;33m)\u001B[0m\u001B[1;33m\u001B[0m\u001B[1;33m\u001B[0m\u001B[0m\n\u001B[0m",
      "\u001B[1;32m~\\anaconda3\\lib\\site-packages\\torch\\utils\\data\\_utils\\collate.py\u001B[0m in \u001B[0;36mcollate\u001B[1;34m(batch, collate_fn_map)\u001B[0m\n\u001B[0;32m    126\u001B[0m     \u001B[1;32mif\u001B[0m \u001B[0misinstance\u001B[0m\u001B[1;33m(\u001B[0m\u001B[0melem\u001B[0m\u001B[1;33m,\u001B[0m \u001B[0mcollections\u001B[0m\u001B[1;33m.\u001B[0m\u001B[0mabc\u001B[0m\u001B[1;33m.\u001B[0m\u001B[0mMapping\u001B[0m\u001B[1;33m)\u001B[0m\u001B[1;33m:\u001B[0m\u001B[1;33m\u001B[0m\u001B[1;33m\u001B[0m\u001B[0m\n\u001B[0;32m    127\u001B[0m         \u001B[1;32mtry\u001B[0m\u001B[1;33m:\u001B[0m\u001B[1;33m\u001B[0m\u001B[1;33m\u001B[0m\u001B[0m\n\u001B[1;32m--> 128\u001B[1;33m             \u001B[1;32mreturn\u001B[0m \u001B[0melem_type\u001B[0m\u001B[1;33m(\u001B[0m\u001B[1;33m{\u001B[0m\u001B[0mkey\u001B[0m\u001B[1;33m:\u001B[0m \u001B[0mcollate\u001B[0m\u001B[1;33m(\u001B[0m\u001B[1;33m[\u001B[0m\u001B[0md\u001B[0m\u001B[1;33m[\u001B[0m\u001B[0mkey\u001B[0m\u001B[1;33m]\u001B[0m \u001B[1;32mfor\u001B[0m \u001B[0md\u001B[0m \u001B[1;32min\u001B[0m \u001B[0mbatch\u001B[0m\u001B[1;33m]\u001B[0m\u001B[1;33m,\u001B[0m \u001B[0mcollate_fn_map\u001B[0m\u001B[1;33m=\u001B[0m\u001B[0mcollate_fn_map\u001B[0m\u001B[1;33m)\u001B[0m \u001B[1;32mfor\u001B[0m \u001B[0mkey\u001B[0m \u001B[1;32min\u001B[0m \u001B[0melem\u001B[0m\u001B[1;33m}\u001B[0m\u001B[1;33m)\u001B[0m\u001B[1;33m\u001B[0m\u001B[1;33m\u001B[0m\u001B[0m\n\u001B[0m\u001B[0;32m    129\u001B[0m         \u001B[1;32mexcept\u001B[0m \u001B[0mTypeError\u001B[0m\u001B[1;33m:\u001B[0m\u001B[1;33m\u001B[0m\u001B[1;33m\u001B[0m\u001B[0m\n\u001B[0;32m    130\u001B[0m             \u001B[1;31m# The mapping type may not support `__init__(iterable)`.\u001B[0m\u001B[1;33m\u001B[0m\u001B[1;33m\u001B[0m\u001B[0m\n",
      "\u001B[1;32m~\\anaconda3\\lib\\site-packages\\torch\\utils\\data\\_utils\\collate.py\u001B[0m in \u001B[0;36m<dictcomp>\u001B[1;34m(.0)\u001B[0m\n\u001B[0;32m    126\u001B[0m     \u001B[1;32mif\u001B[0m \u001B[0misinstance\u001B[0m\u001B[1;33m(\u001B[0m\u001B[0melem\u001B[0m\u001B[1;33m,\u001B[0m \u001B[0mcollections\u001B[0m\u001B[1;33m.\u001B[0m\u001B[0mabc\u001B[0m\u001B[1;33m.\u001B[0m\u001B[0mMapping\u001B[0m\u001B[1;33m)\u001B[0m\u001B[1;33m:\u001B[0m\u001B[1;33m\u001B[0m\u001B[1;33m\u001B[0m\u001B[0m\n\u001B[0;32m    127\u001B[0m         \u001B[1;32mtry\u001B[0m\u001B[1;33m:\u001B[0m\u001B[1;33m\u001B[0m\u001B[1;33m\u001B[0m\u001B[0m\n\u001B[1;32m--> 128\u001B[1;33m             \u001B[1;32mreturn\u001B[0m \u001B[0melem_type\u001B[0m\u001B[1;33m(\u001B[0m\u001B[1;33m{\u001B[0m\u001B[0mkey\u001B[0m\u001B[1;33m:\u001B[0m \u001B[0mcollate\u001B[0m\u001B[1;33m(\u001B[0m\u001B[1;33m[\u001B[0m\u001B[0md\u001B[0m\u001B[1;33m[\u001B[0m\u001B[0mkey\u001B[0m\u001B[1;33m]\u001B[0m \u001B[1;32mfor\u001B[0m \u001B[0md\u001B[0m \u001B[1;32min\u001B[0m \u001B[0mbatch\u001B[0m\u001B[1;33m]\u001B[0m\u001B[1;33m,\u001B[0m \u001B[0mcollate_fn_map\u001B[0m\u001B[1;33m=\u001B[0m\u001B[0mcollate_fn_map\u001B[0m\u001B[1;33m)\u001B[0m \u001B[1;32mfor\u001B[0m \u001B[0mkey\u001B[0m \u001B[1;32min\u001B[0m \u001B[0melem\u001B[0m\u001B[1;33m}\u001B[0m\u001B[1;33m)\u001B[0m\u001B[1;33m\u001B[0m\u001B[1;33m\u001B[0m\u001B[0m\n\u001B[0m\u001B[0;32m    129\u001B[0m         \u001B[1;32mexcept\u001B[0m \u001B[0mTypeError\u001B[0m\u001B[1;33m:\u001B[0m\u001B[1;33m\u001B[0m\u001B[1;33m\u001B[0m\u001B[0m\n\u001B[0;32m    130\u001B[0m             \u001B[1;31m# The mapping type may not support `__init__(iterable)`.\u001B[0m\u001B[1;33m\u001B[0m\u001B[1;33m\u001B[0m\u001B[0m\n",
      "\u001B[1;32m~\\anaconda3\\lib\\site-packages\\torch\\utils\\data\\_utils\\collate.py\u001B[0m in \u001B[0;36mcollate\u001B[1;34m(batch, collate_fn_map)\u001B[0m\n\u001B[0;32m    118\u001B[0m     \u001B[1;32mif\u001B[0m \u001B[0mcollate_fn_map\u001B[0m \u001B[1;32mis\u001B[0m \u001B[1;32mnot\u001B[0m \u001B[1;32mNone\u001B[0m\u001B[1;33m:\u001B[0m\u001B[1;33m\u001B[0m\u001B[1;33m\u001B[0m\u001B[0m\n\u001B[0;32m    119\u001B[0m         \u001B[1;32mif\u001B[0m \u001B[0melem_type\u001B[0m \u001B[1;32min\u001B[0m \u001B[0mcollate_fn_map\u001B[0m\u001B[1;33m:\u001B[0m\u001B[1;33m\u001B[0m\u001B[1;33m\u001B[0m\u001B[0m\n\u001B[1;32m--> 120\u001B[1;33m             \u001B[1;32mreturn\u001B[0m \u001B[0mcollate_fn_map\u001B[0m\u001B[1;33m[\u001B[0m\u001B[0melem_type\u001B[0m\u001B[1;33m]\u001B[0m\u001B[1;33m(\u001B[0m\u001B[0mbatch\u001B[0m\u001B[1;33m,\u001B[0m \u001B[0mcollate_fn_map\u001B[0m\u001B[1;33m=\u001B[0m\u001B[0mcollate_fn_map\u001B[0m\u001B[1;33m)\u001B[0m\u001B[1;33m\u001B[0m\u001B[1;33m\u001B[0m\u001B[0m\n\u001B[0m\u001B[0;32m    121\u001B[0m \u001B[1;33m\u001B[0m\u001B[0m\n\u001B[0;32m    122\u001B[0m         \u001B[1;32mfor\u001B[0m \u001B[0mcollate_type\u001B[0m \u001B[1;32min\u001B[0m \u001B[0mcollate_fn_map\u001B[0m\u001B[1;33m:\u001B[0m\u001B[1;33m\u001B[0m\u001B[1;33m\u001B[0m\u001B[0m\n",
      "\u001B[1;32m~\\anaconda3\\lib\\site-packages\\torch\\utils\\data\\_utils\\collate.py\u001B[0m in \u001B[0;36mcollate_tensor_fn\u001B[1;34m(batch, collate_fn_map)\u001B[0m\n\u001B[0;32m    161\u001B[0m         \u001B[0mstorage\u001B[0m \u001B[1;33m=\u001B[0m \u001B[0melem\u001B[0m\u001B[1;33m.\u001B[0m\u001B[0mstorage\u001B[0m\u001B[1;33m(\u001B[0m\u001B[1;33m)\u001B[0m\u001B[1;33m.\u001B[0m\u001B[0m_new_shared\u001B[0m\u001B[1;33m(\u001B[0m\u001B[0mnumel\u001B[0m\u001B[1;33m,\u001B[0m \u001B[0mdevice\u001B[0m\u001B[1;33m=\u001B[0m\u001B[0melem\u001B[0m\u001B[1;33m.\u001B[0m\u001B[0mdevice\u001B[0m\u001B[1;33m)\u001B[0m\u001B[1;33m\u001B[0m\u001B[1;33m\u001B[0m\u001B[0m\n\u001B[0;32m    162\u001B[0m         \u001B[0mout\u001B[0m \u001B[1;33m=\u001B[0m \u001B[0melem\u001B[0m\u001B[1;33m.\u001B[0m\u001B[0mnew\u001B[0m\u001B[1;33m(\u001B[0m\u001B[0mstorage\u001B[0m\u001B[1;33m)\u001B[0m\u001B[1;33m.\u001B[0m\u001B[0mresize_\u001B[0m\u001B[1;33m(\u001B[0m\u001B[0mlen\u001B[0m\u001B[1;33m(\u001B[0m\u001B[0mbatch\u001B[0m\u001B[1;33m)\u001B[0m\u001B[1;33m,\u001B[0m \u001B[1;33m*\u001B[0m\u001B[0mlist\u001B[0m\u001B[1;33m(\u001B[0m\u001B[0melem\u001B[0m\u001B[1;33m.\u001B[0m\u001B[0msize\u001B[0m\u001B[1;33m(\u001B[0m\u001B[1;33m)\u001B[0m\u001B[1;33m)\u001B[0m\u001B[1;33m)\u001B[0m\u001B[1;33m\u001B[0m\u001B[1;33m\u001B[0m\u001B[0m\n\u001B[1;32m--> 163\u001B[1;33m     \u001B[1;32mreturn\u001B[0m \u001B[0mtorch\u001B[0m\u001B[1;33m.\u001B[0m\u001B[0mstack\u001B[0m\u001B[1;33m(\u001B[0m\u001B[0mbatch\u001B[0m\u001B[1;33m,\u001B[0m \u001B[1;36m0\u001B[0m\u001B[1;33m,\u001B[0m \u001B[0mout\u001B[0m\u001B[1;33m=\u001B[0m\u001B[0mout\u001B[0m\u001B[1;33m)\u001B[0m\u001B[1;33m\u001B[0m\u001B[1;33m\u001B[0m\u001B[0m\n\u001B[0m\u001B[0;32m    164\u001B[0m \u001B[1;33m\u001B[0m\u001B[0m\n\u001B[0;32m    165\u001B[0m \u001B[1;33m\u001B[0m\u001B[0m\n",
      "\u001B[1;31mRuntimeError\u001B[0m: stack expects each tensor to be equal size, but got [1498, 4] at entry 0 and [1443, 4] at entry 2"
     ]
    }
   ],
   "source": [
    "trainer.fit(model, data_module)"
   ],
   "metadata": {
    "collapsed": false,
    "pycharm": {
     "name": "#%%\n"
    }
   }
  }
 ],
 "metadata": {
  "kernelspec": {
   "display_name": "Python 3",
   "language": "python",
   "name": "python3"
  },
  "language_info": {
   "codemirror_mode": {
    "name": "ipython",
    "version": 2
   },
   "file_extension": ".py",
   "mimetype": "text/x-python",
   "name": "python",
   "nbconvert_exporter": "python",
   "pygments_lexer": "ipython2",
   "version": "2.7.6"
  }
 },
 "nbformat": 4,
 "nbformat_minor": 0
}