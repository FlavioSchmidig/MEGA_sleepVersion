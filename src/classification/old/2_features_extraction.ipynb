{
 "cells": [
  {
   "cell_type": "code",
   "execution_count": 2,
   "outputs": [],
   "source": [
    "import pandas as pd # data processing, CSV file I/O (e.g. pd.read_csv)\n",
    "from src.classification import utils\n",
    "from src import config\n",
    "from src.statistical_analysis.business.DistanceFocusingLogic import cut_tail"
   ],
   "metadata": {
    "collapsed": false
   }
  },
  {
   "cell_type": "code",
   "execution_count": 3,
   "outputs": [],
   "source": [
    "df = pd.read_pickle(\"series_df.pkl\")"
   ],
   "metadata": {
    "collapsed": false
   }
  },
  {
   "cell_type": "code",
   "execution_count": 4,
   "outputs": [
    {
     "data": {
      "text/plain": "         series_id       X_gaze      Y_gaze  Pupil radius        DVA\n950415         117   279.600000  255.400000        5288.0   7.081262\n5525187        734   619.600000  390.333333        5816.0  15.177895\n3716409       1121   797.533333  347.600000        6055.0  15.347779\n4704692         52   569.933333  399.200000        6293.0  18.900832\n3118190        472   968.733333  317.666667        5706.0  13.332567\n...            ...          ...         ...           ...        ...\n2607731        540  1125.066667  480.800000        4929.0   7.546513\n5829407        412   654.600000  307.866667        4027.0  12.004589\n1724991       1249   651.933333  313.800000        5345.0  11.879124\n3339336        796   425.888021  259.022222        5106.0  10.411041\n5122993       1238   418.266667  391.666667        5482.0   3.749410\n\n[6302276 rows x 5 columns]",
      "text/html": "<div>\n<style scoped>\n    .dataframe tbody tr th:only-of-type {\n        vertical-align: middle;\n    }\n\n    .dataframe tbody tr th {\n        vertical-align: top;\n    }\n\n    .dataframe thead th {\n        text-align: right;\n    }\n</style>\n<table border=\"1\" class=\"dataframe\">\n  <thead>\n    <tr style=\"text-align: right;\">\n      <th></th>\n      <th>series_id</th>\n      <th>X_gaze</th>\n      <th>Y_gaze</th>\n      <th>Pupil radius</th>\n      <th>DVA</th>\n    </tr>\n  </thead>\n  <tbody>\n    <tr>\n      <th>950415</th>\n      <td>117</td>\n      <td>279.600000</td>\n      <td>255.400000</td>\n      <td>5288.0</td>\n      <td>7.081262</td>\n    </tr>\n    <tr>\n      <th>5525187</th>\n      <td>734</td>\n      <td>619.600000</td>\n      <td>390.333333</td>\n      <td>5816.0</td>\n      <td>15.177895</td>\n    </tr>\n    <tr>\n      <th>3716409</th>\n      <td>1121</td>\n      <td>797.533333</td>\n      <td>347.600000</td>\n      <td>6055.0</td>\n      <td>15.347779</td>\n    </tr>\n    <tr>\n      <th>4704692</th>\n      <td>52</td>\n      <td>569.933333</td>\n      <td>399.200000</td>\n      <td>6293.0</td>\n      <td>18.900832</td>\n    </tr>\n    <tr>\n      <th>3118190</th>\n      <td>472</td>\n      <td>968.733333</td>\n      <td>317.666667</td>\n      <td>5706.0</td>\n      <td>13.332567</td>\n    </tr>\n    <tr>\n      <th>...</th>\n      <td>...</td>\n      <td>...</td>\n      <td>...</td>\n      <td>...</td>\n      <td>...</td>\n    </tr>\n    <tr>\n      <th>2607731</th>\n      <td>540</td>\n      <td>1125.066667</td>\n      <td>480.800000</td>\n      <td>4929.0</td>\n      <td>7.546513</td>\n    </tr>\n    <tr>\n      <th>5829407</th>\n      <td>412</td>\n      <td>654.600000</td>\n      <td>307.866667</td>\n      <td>4027.0</td>\n      <td>12.004589</td>\n    </tr>\n    <tr>\n      <th>1724991</th>\n      <td>1249</td>\n      <td>651.933333</td>\n      <td>313.800000</td>\n      <td>5345.0</td>\n      <td>11.879124</td>\n    </tr>\n    <tr>\n      <th>3339336</th>\n      <td>796</td>\n      <td>425.888021</td>\n      <td>259.022222</td>\n      <td>5106.0</td>\n      <td>10.411041</td>\n    </tr>\n    <tr>\n      <th>5122993</th>\n      <td>1238</td>\n      <td>418.266667</td>\n      <td>391.666667</td>\n      <td>5482.0</td>\n      <td>3.749410</td>\n    </tr>\n  </tbody>\n</table>\n<p>6302276 rows × 5 columns</p>\n</div>"
     },
     "execution_count": 4,
     "metadata": {},
     "output_type": "execute_result"
    }
   ],
   "source": [
    "from sklearn.model_selection import train_test_split\n",
    "\n",
    "\n",
    "\n",
    "FEATURE_NAMES = ['series_id', config.gaze_X, config.gaze_Y, config.PUPIL, config.DVA]\n",
    "TARGET_NAME = ['series_id', config.SESSION]\n",
    "X = df[FEATURE_NAMES]\n",
    "y = df[TARGET_NAME]\n",
    "\n",
    "X_train, X_test, y_train, y_test = train_test_split(X,\n",
    "                                                    y,\n",
    "                                                    random_state=420,\n",
    "                                                    test_size=0.2)\n",
    "X_train"
   ],
   "metadata": {
    "collapsed": false
   }
  },
  {
   "cell_type": "code",
   "execution_count": 5,
   "outputs": [
    {
     "name": "stdout",
     "output_type": "stream",
     "text": [
      "Requirement already satisfied: tsfresh in c:\\users\\user\\anaconda3\\lib\\site-packages (0.20.0)\n",
      "Requirement already satisfied: patsy>=0.4.1 in c:\\users\\user\\anaconda3\\lib\\site-packages (from tsfresh) (0.5.2)\n",
      "Requirement already satisfied: scipy>=1.2.0 in c:\\users\\user\\appdata\\roaming\\python\\python39\\site-packages (from tsfresh) (1.10.1)\n",
      "Requirement already satisfied: statsmodels>=0.13 in c:\\users\\user\\anaconda3\\lib\\site-packages (from tsfresh) (0.13.5)\n",
      "Requirement already satisfied: cloudpickle in c:\\users\\user\\anaconda3\\lib\\site-packages (from tsfresh) (2.0.0)\n",
      "Requirement already satisfied: pandas>=0.25.0 in c:\\users\\user\\anaconda3\\lib\\site-packages (from tsfresh) (1.4.2)\n",
      "Requirement already satisfied: distributed>=2.11.0 in c:\\users\\user\\anaconda3\\lib\\site-packages (from tsfresh) (2021.10.0)\n",
      "Requirement already satisfied: dask[dataframe]>=2.9.0 in c:\\users\\user\\anaconda3\\lib\\site-packages (from tsfresh) (2021.10.0)\n",
      "Requirement already satisfied: requests>=2.9.1 in c:\\users\\user\\anaconda3\\lib\\site-packages (from tsfresh) (2.26.0)\n",
      "Requirement already satisfied: scikit-learn>=0.22.0 in c:\\users\\user\\anaconda3\\lib\\site-packages (from tsfresh) (0.24.2)\n",
      "Requirement already satisfied: tqdm>=4.10.0 in c:\\users\\user\\anaconda3\\lib\\site-packages (from tsfresh) (4.62.3)\n",
      "Requirement already satisfied: numpy>=1.15.1 in c:\\users\\user\\anaconda3\\lib\\site-packages (from tsfresh) (1.20.3)\n",
      "Requirement already satisfied: stumpy>=1.7.2 in c:\\users\\user\\anaconda3\\lib\\site-packages (from tsfresh) (1.11.1)\n",
      "Requirement already satisfied: fsspec>=0.6.0 in c:\\users\\user\\anaconda3\\lib\\site-packages (from dask[dataframe]>=2.9.0->tsfresh) (2021.10.1)\n",
      "Requirement already satisfied: packaging>=20.0 in c:\\users\\user\\anaconda3\\lib\\site-packages (from dask[dataframe]>=2.9.0->tsfresh) (23.0)\n",
      "Requirement already satisfied: partd>=0.3.10 in c:\\users\\user\\anaconda3\\lib\\site-packages (from dask[dataframe]>=2.9.0->tsfresh) (1.2.0)\n",
      "Requirement already satisfied: pyyaml in c:\\users\\user\\anaconda3\\lib\\site-packages (from dask[dataframe]>=2.9.0->tsfresh) (6.0)\n",
      "Requirement already satisfied: toolz>=0.8.2 in c:\\users\\user\\anaconda3\\lib\\site-packages (from dask[dataframe]>=2.9.0->tsfresh) (0.11.1)\n",
      "Requirement already satisfied: click>=6.6 in c:\\users\\user\\anaconda3\\lib\\site-packages (from distributed>=2.11.0->tsfresh) (8.0.3)\n",
      "Requirement already satisfied: tblib>=1.6.0 in c:\\users\\user\\anaconda3\\lib\\site-packages (from distributed>=2.11.0->tsfresh) (1.7.0)\n",
      "Requirement already satisfied: zict>=0.1.3 in c:\\users\\user\\anaconda3\\lib\\site-packages (from distributed>=2.11.0->tsfresh) (2.0.0)\n",
      "Requirement already satisfied: setuptools in c:\\users\\user\\anaconda3\\lib\\site-packages (from distributed>=2.11.0->tsfresh) (58.0.4)\n",
      "Requirement already satisfied: msgpack>=0.6.0 in c:\\users\\user\\anaconda3\\lib\\site-packages (from distributed>=2.11.0->tsfresh) (1.0.2)\n",
      "Requirement already satisfied: sortedcontainers!=2.0.0,!=2.0.1 in c:\\users\\user\\anaconda3\\lib\\site-packages (from distributed>=2.11.0->tsfresh) (2.4.0)\n",
      "Requirement already satisfied: jinja2 in c:\\users\\user\\anaconda3\\lib\\site-packages (from distributed>=2.11.0->tsfresh) (2.11.3)\n",
      "Requirement already satisfied: tornado>=6.0.3 in c:\\users\\user\\anaconda3\\lib\\site-packages (from distributed>=2.11.0->tsfresh) (6.1)\n",
      "Requirement already satisfied: psutil>=5.0 in c:\\users\\user\\anaconda3\\lib\\site-packages (from distributed>=2.11.0->tsfresh) (5.8.0)\n",
      "Requirement already satisfied: pytz>=2020.1 in c:\\users\\user\\anaconda3\\lib\\site-packages (from pandas>=0.25.0->tsfresh) (2021.3)\n",
      "Requirement already satisfied: python-dateutil>=2.8.1 in c:\\users\\user\\anaconda3\\lib\\site-packages (from pandas>=0.25.0->tsfresh) (2.8.2)\n",
      "Requirement already satisfied: six in c:\\users\\user\\anaconda3\\lib\\site-packages (from patsy>=0.4.1->tsfresh) (1.16.0)\n",
      "Requirement already satisfied: urllib3<1.27,>=1.21.1 in c:\\users\\user\\anaconda3\\lib\\site-packages (from requests>=2.9.1->tsfresh) (1.26.7)\n",
      "Requirement already satisfied: idna<4,>=2.5 in c:\\users\\user\\anaconda3\\lib\\site-packages (from requests>=2.9.1->tsfresh) (3.2)\n",
      "Requirement already satisfied: certifi>=2017.4.17 in c:\\users\\user\\anaconda3\\lib\\site-packages (from requests>=2.9.1->tsfresh) (2022.5.18.1)\n",
      "Requirement already satisfied: charset-normalizer~=2.0.0 in c:\\users\\user\\anaconda3\\lib\\site-packages (from requests>=2.9.1->tsfresh) (2.0.4)\n",
      "Requirement already satisfied: joblib>=0.11 in c:\\users\\user\\anaconda3\\lib\\site-packages (from scikit-learn>=0.22.0->tsfresh) (1.1.0)\n",
      "Requirement already satisfied: threadpoolctl>=2.0.0 in c:\\users\\user\\anaconda3\\lib\\site-packages (from scikit-learn>=0.22.0->tsfresh) (2.2.0)\n",
      "Requirement already satisfied: numba>=0.54 in c:\\users\\user\\anaconda3\\lib\\site-packages (from stumpy>=1.7.2->tsfresh) (0.54.1)\n",
      "Requirement already satisfied: colorama in c:\\users\\user\\anaconda3\\lib\\site-packages (from tqdm>=4.10.0->tsfresh) (0.4.4)\n",
      "Requirement already satisfied: llvmlite<0.38,>=0.37.0rc1 in c:\\users\\user\\anaconda3\\lib\\site-packages (from numba>=0.54->stumpy>=1.7.2->tsfresh) (0.37.0)\n",
      "Requirement already satisfied: locket in c:\\users\\user\\anaconda3\\lib\\site-packages\\locket-0.2.1-py3.9.egg (from partd>=0.3.10->dask[dataframe]>=2.9.0->tsfresh) (0.2.1)\n",
      "Requirement already satisfied: heapdict in c:\\users\\user\\anaconda3\\lib\\site-packages (from zict>=0.1.3->distributed>=2.11.0->tsfresh) (1.0.1)\n",
      "Requirement already satisfied: MarkupSafe>=0.23 in c:\\users\\user\\anaconda3\\lib\\site-packages (from jinja2->distributed>=2.11.0->tsfresh) (1.1.1)\n"
     ]
    }
   ],
   "source": [
    "!pip install tsfresh"
   ],
   "metadata": {
    "collapsed": false
   }
  },
  {
   "cell_type": "code",
   "execution_count": null,
   "outputs": [
    {
     "name": "stderr",
     "output_type": "stream",
     "text": [
      "Feature Extraction:  60%|██████    | 24/40 [20:30:55<6:47:04, 1526.53s/it] "
     ]
    }
   ],
   "source": [
    "from tsfresh import extract_features\n",
    "\n",
    "extracted_features = extract_features(df, column_id='series_id')"
   ],
   "metadata": {
    "collapsed": false,
    "pycharm": {
     "is_executing": true
    }
   }
  },
  {
   "cell_type": "code",
   "execution_count": null,
   "outputs": [],
   "source": [
    "sequences = []\n",
    "for series_id, group in X_train.groupby(\"series_id\"):\n",
    "    sequence_feature = group[FEATURE_NAMES]\n",
    "    label = y_train[y_train.series_id == series_id].iloc[0][config.SESSION]\n",
    "    sequences.append((sequence_feature, label))\n",
    "\n",
    "sequences[0]"
   ],
   "metadata": {
    "collapsed": false,
    "pycharm": {
     "is_executing": true
    }
   }
  },
  {
   "cell_type": "code",
   "execution_count": null,
   "outputs": [],
   "source": [
    "train_seq, test_seq = train_test_split(sequences, random_state=420, test_size=0.2)\n",
    "len(train_seq), len(test_seq)"
   ],
   "metadata": {
    "collapsed": false,
    "pycharm": {
     "is_executing": true
    }
   }
  },
  {
   "cell_type": "markdown",
   "source": [
    "Dataset"
   ],
   "metadata": {
    "collapsed": false
   }
  },
  {
   "cell_type": "markdown",
   "source": [
    "Model"
   ],
   "metadata": {
    "collapsed": false
   }
  }
 ],
 "metadata": {
  "kernelspec": {
   "display_name": "Python 3",
   "language": "python",
   "name": "python3"
  },
  "language_info": {
   "codemirror_mode": {
    "name": "ipython",
    "version": 2
   },
   "file_extension": ".py",
   "mimetype": "text/x-python",
   "name": "python",
   "nbconvert_exporter": "python",
   "pygments_lexer": "ipython2",
   "version": "2.7.6"
  }
 },
 "nbformat": 4,
 "nbformat_minor": 0
}
