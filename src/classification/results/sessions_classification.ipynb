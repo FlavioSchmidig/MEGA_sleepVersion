{
 "cells": [
  {
   "cell_type": "code",
   "execution_count": 43,
   "metadata": {
    "collapsed": true,
    "ExecuteTime": {
     "end_time": "2023-06-11T12:13:31.695896200Z",
     "start_time": "2023-06-11T12:13:31.195347200Z"
    }
   },
   "outputs": [],
   "source": [
    "import pandas as pd\n",
    "from matplotlib import pyplot as plt\n",
    "import numpy as np\n",
    "from sklearn.decomposition import PCA\n",
    "import os\n",
    "from src import config"
   ]
  },
  {
   "cell_type": "code",
   "execution_count": 44,
   "outputs": [],
   "source": [
    "features_df = pd.read_pickle(os.path.join(config.classification_resource_dir, \"sessions_features_df.pkl\"))\n",
    "labels_df = pd.read_pickle(os.path.join(config.classification_resource_dir, \"sessions_labels_df.pkl\"))"
   ],
   "metadata": {
    "collapsed": false,
    "ExecuteTime": {
     "end_time": "2023-06-11T12:13:32.003257200Z",
     "start_time": "2023-06-11T12:13:31.203325500Z"
    }
   }
  },
  {
   "cell_type": "code",
   "execution_count": 45,
   "outputs": [
    {
     "data": {
      "text/plain": "   Gaze_Counts_In_RoI_Pre  Gaze_Counts_In_RoI_Post  Gaze_Counts_Out_RoI_Pre  \\\n0                       0                      174                     2459   \n1                       5                      644                     2899   \n2                     318                     1788                     3436   \n3                       0                       85                     3788   \n4                       0                        0                     2927   \n\n   Gaze_Counts_Out_RoI_Post  Gaze_In\\out_RoI_Ratio_Pre  \\\n0                      2548                   0.000000   \n1                      1054                   0.001725   \n2                       884                   0.092549   \n3                      1103                   0.000000   \n4                      1125                   0.000000   \n\n   Gaze_In\\out_RoI_Ratio_Post  Gaze_Re_Entries_To_RoI_Count_Pre  \\\n0                    0.068289                                 0   \n1                    0.611006                                 2   \n2                    2.022624                                 2   \n3                    0.077063                                 0   \n4                    0.000000                                 0   \n\n   Gaze_Re_Entries_To_RoI_Count_Post  Gaze_Re_Entries_To_RoI_Rate_Pre  \\\n0                                  1                         0.000000   \n1                                  5                         0.244918   \n2                                  5                         0.244918   \n3                                  2                         0.000000   \n4                                  0                         0.000000   \n\n   Gaze_Re_Entries_To_RoI_Rate_Post  ...  DVA_Max_Gaze_Post  \\\n0                          0.212359  ...          28.691923   \n1                          1.499700  ...          21.265993   \n2                          1.034340  ...          23.694669   \n3                          1.454545  ...          28.994276   \n4                          0.000000  ...          10.844623   \n\n   DVA_Min_Gaze_Post  DVA_Mean_Fixations_Pre  DVA_Std_Fixations_Pre  \\\n0           2.745931               27.118966               5.393432   \n1           0.111699               15.877488               9.457063   \n2           0.288700               20.279908               7.552406   \n3           5.026473               19.856741               6.848865   \n4           3.908509               10.686893               0.307897   \n\n   DVA_Max_Fixations_Pre  DVA_Min_Fixations_Pre  DVA_Mean_Fixations_Post  \\\n0              32.399848              17.047785                20.373510   \n1              26.959536               0.000000                 8.162678   \n2              29.786582               3.441882                 8.685760   \n3              28.934395              10.483120                15.219668   \n4              10.945281              10.346211                 5.248038   \n\n   DVA_Std_Fixations_Post  DVA_Max_Fixations_Post  DVA_Min_Fixations_Post  \n0                7.767659               27.559437                3.880131  \n1                7.592890               21.024691                0.312490  \n2                8.735258               23.539461                0.699961  \n3                7.849164               25.361122                7.018950  \n4                1.729817                6.471203                4.024872  \n\n[5 rows x 116 columns]",
      "text/html": "<div>\n<style scoped>\n    .dataframe tbody tr th:only-of-type {\n        vertical-align: middle;\n    }\n\n    .dataframe tbody tr th {\n        vertical-align: top;\n    }\n\n    .dataframe thead th {\n        text-align: right;\n    }\n</style>\n<table border=\"1\" class=\"dataframe\">\n  <thead>\n    <tr style=\"text-align: right;\">\n      <th></th>\n      <th>Gaze_Counts_In_RoI_Pre</th>\n      <th>Gaze_Counts_In_RoI_Post</th>\n      <th>Gaze_Counts_Out_RoI_Pre</th>\n      <th>Gaze_Counts_Out_RoI_Post</th>\n      <th>Gaze_In\\out_RoI_Ratio_Pre</th>\n      <th>Gaze_In\\out_RoI_Ratio_Post</th>\n      <th>Gaze_Re_Entries_To_RoI_Count_Pre</th>\n      <th>Gaze_Re_Entries_To_RoI_Count_Post</th>\n      <th>Gaze_Re_Entries_To_RoI_Rate_Pre</th>\n      <th>Gaze_Re_Entries_To_RoI_Rate_Post</th>\n      <th>...</th>\n      <th>DVA_Max_Gaze_Post</th>\n      <th>DVA_Min_Gaze_Post</th>\n      <th>DVA_Mean_Fixations_Pre</th>\n      <th>DVA_Std_Fixations_Pre</th>\n      <th>DVA_Max_Fixations_Pre</th>\n      <th>DVA_Min_Fixations_Pre</th>\n      <th>DVA_Mean_Fixations_Post</th>\n      <th>DVA_Std_Fixations_Post</th>\n      <th>DVA_Max_Fixations_Post</th>\n      <th>DVA_Min_Fixations_Post</th>\n    </tr>\n  </thead>\n  <tbody>\n    <tr>\n      <th>0</th>\n      <td>0</td>\n      <td>174</td>\n      <td>2459</td>\n      <td>2548</td>\n      <td>0.000000</td>\n      <td>0.068289</td>\n      <td>0</td>\n      <td>1</td>\n      <td>0.000000</td>\n      <td>0.212359</td>\n      <td>...</td>\n      <td>28.691923</td>\n      <td>2.745931</td>\n      <td>27.118966</td>\n      <td>5.393432</td>\n      <td>32.399848</td>\n      <td>17.047785</td>\n      <td>20.373510</td>\n      <td>7.767659</td>\n      <td>27.559437</td>\n      <td>3.880131</td>\n    </tr>\n    <tr>\n      <th>1</th>\n      <td>5</td>\n      <td>644</td>\n      <td>2899</td>\n      <td>1054</td>\n      <td>0.001725</td>\n      <td>0.611006</td>\n      <td>2</td>\n      <td>5</td>\n      <td>0.244918</td>\n      <td>1.499700</td>\n      <td>...</td>\n      <td>21.265993</td>\n      <td>0.111699</td>\n      <td>15.877488</td>\n      <td>9.457063</td>\n      <td>26.959536</td>\n      <td>0.000000</td>\n      <td>8.162678</td>\n      <td>7.592890</td>\n      <td>21.024691</td>\n      <td>0.312490</td>\n    </tr>\n    <tr>\n      <th>2</th>\n      <td>318</td>\n      <td>1788</td>\n      <td>3436</td>\n      <td>884</td>\n      <td>0.092549</td>\n      <td>2.022624</td>\n      <td>2</td>\n      <td>5</td>\n      <td>0.244918</td>\n      <td>1.034340</td>\n      <td>...</td>\n      <td>23.694669</td>\n      <td>0.288700</td>\n      <td>20.279908</td>\n      <td>7.552406</td>\n      <td>29.786582</td>\n      <td>3.441882</td>\n      <td>8.685760</td>\n      <td>8.735258</td>\n      <td>23.539461</td>\n      <td>0.699961</td>\n    </tr>\n    <tr>\n      <th>3</th>\n      <td>0</td>\n      <td>85</td>\n      <td>3788</td>\n      <td>1103</td>\n      <td>0.000000</td>\n      <td>0.077063</td>\n      <td>0</td>\n      <td>2</td>\n      <td>0.000000</td>\n      <td>1.454545</td>\n      <td>...</td>\n      <td>28.994276</td>\n      <td>5.026473</td>\n      <td>19.856741</td>\n      <td>6.848865</td>\n      <td>28.934395</td>\n      <td>10.483120</td>\n      <td>15.219668</td>\n      <td>7.849164</td>\n      <td>25.361122</td>\n      <td>7.018950</td>\n    </tr>\n    <tr>\n      <th>4</th>\n      <td>0</td>\n      <td>0</td>\n      <td>2927</td>\n      <td>1125</td>\n      <td>0.000000</td>\n      <td>0.000000</td>\n      <td>0</td>\n      <td>0</td>\n      <td>0.000000</td>\n      <td>0.000000</td>\n      <td>...</td>\n      <td>10.844623</td>\n      <td>3.908509</td>\n      <td>10.686893</td>\n      <td>0.307897</td>\n      <td>10.945281</td>\n      <td>10.346211</td>\n      <td>5.248038</td>\n      <td>1.729817</td>\n      <td>6.471203</td>\n      <td>4.024872</td>\n    </tr>\n  </tbody>\n</table>\n<p>5 rows × 116 columns</p>\n</div>"
     },
     "execution_count": 45,
     "metadata": {},
     "output_type": "execute_result"
    }
   ],
   "source": [
    "features_df.head()"
   ],
   "metadata": {
    "collapsed": false,
    "ExecuteTime": {
     "end_time": "2023-06-11T12:13:32.003257200Z",
     "start_time": "2023-06-11T12:13:31.229278200Z"
    }
   }
  },
  {
   "cell_type": "code",
   "execution_count": 46,
   "outputs": [
    {
     "name": "stdout",
     "output_type": "stream",
     "text": [
      "<class 'pandas.core.frame.DataFrame'>\n",
      "RangeIndex: 1560 entries, 0 to 1559\n",
      "Columns: 116 entries, Gaze_Counts_In_RoI_Pre to DVA_Min_Fixations_Post\n",
      "dtypes: float64(107), int32(9)\n",
      "memory usage: 1.3 MB\n"
     ]
    }
   ],
   "source": [
    "features_df.info()"
   ],
   "metadata": {
    "collapsed": false,
    "ExecuteTime": {
     "end_time": "2023-06-11T12:13:32.006249700Z",
     "start_time": "2023-06-11T12:13:31.232272500Z"
    }
   }
  },
  {
   "cell_type": "markdown",
   "source": [],
   "metadata": {
    "collapsed": false
   }
  },
  {
   "cell_type": "code",
   "execution_count": 47,
   "outputs": [
    {
     "data": {
      "text/plain": "           Session\nseries_id         \n0                0\n1                0\n2                1\n3                1\n4                1",
      "text/html": "<div>\n<style scoped>\n    .dataframe tbody tr th:only-of-type {\n        vertical-align: middle;\n    }\n\n    .dataframe tbody tr th {\n        vertical-align: top;\n    }\n\n    .dataframe thead th {\n        text-align: right;\n    }\n</style>\n<table border=\"1\" class=\"dataframe\">\n  <thead>\n    <tr style=\"text-align: right;\">\n      <th></th>\n      <th>Session</th>\n    </tr>\n    <tr>\n      <th>series_id</th>\n      <th></th>\n    </tr>\n  </thead>\n  <tbody>\n    <tr>\n      <th>0</th>\n      <td>0</td>\n    </tr>\n    <tr>\n      <th>1</th>\n      <td>0</td>\n    </tr>\n    <tr>\n      <th>2</th>\n      <td>1</td>\n    </tr>\n    <tr>\n      <th>3</th>\n      <td>1</td>\n    </tr>\n    <tr>\n      <th>4</th>\n      <td>1</td>\n    </tr>\n  </tbody>\n</table>\n</div>"
     },
     "execution_count": 47,
     "metadata": {},
     "output_type": "execute_result"
    }
   ],
   "source": [
    "labels_df.head()"
   ],
   "metadata": {
    "collapsed": false,
    "ExecuteTime": {
     "end_time": "2023-06-11T12:13:32.011241300Z",
     "start_time": "2023-06-11T12:13:31.250732600Z"
    }
   }
  },
  {
   "cell_type": "code",
   "execution_count": 48,
   "outputs": [
    {
     "name": "stdout",
     "output_type": "stream",
     "text": [
      "<class 'pandas.core.frame.DataFrame'>\n",
      "Int64Index: 1560 entries, 0 to 1559\n",
      "Data columns (total 1 columns):\n",
      " #   Column   Non-Null Count  Dtype\n",
      "---  ------   --------------  -----\n",
      " 0   Session  1560 non-null   int32\n",
      "dtypes: int32(1)\n",
      "memory usage: 18.3 KB\n"
     ]
    }
   ],
   "source": [
    "labels_df.info()"
   ],
   "metadata": {
    "collapsed": false,
    "ExecuteTime": {
     "end_time": "2023-06-11T12:13:32.011241300Z",
     "start_time": "2023-06-11T12:13:31.267196900Z"
    }
   }
  },
  {
   "cell_type": "markdown",
   "source": [
    "Data Cleaning"
   ],
   "metadata": {
    "collapsed": false
   }
  },
  {
   "cell_type": "markdown",
   "source": [
    "how many missing values are there in each column? show the top 10"
   ],
   "metadata": {
    "collapsed": false
   }
  },
  {
   "cell_type": "code",
   "execution_count": 49,
   "outputs": [
    {
     "data": {
      "text/plain": "Pupil radius_Fixations_First_Diff_Pre            392\nPupil radius_Fixations_ReEntry_Mean_Diff_Post    392\nPupil radius_Fixations_ReEntry_Mean_Diff_Pre     392\nPupil radius_Fixations_First_Diff_Post           392\nvis_angle_Min_Saccades_Start_In_RoI_Pre          297\nvis_angle_Max_Saccades_Start_In_RoI_Post         297\nonset_Mean_Saccades_Start_In_RoI_Post            297\npeak_velocity_Min_Saccades_Start_In_RoI_Pre      297\npeak_velocity_Min_Saccades_Start_In_RoI_Post     297\nvis_angle_Min_Saccades_Start_In_RoI_Post         297\ndtype: int64"
     },
     "execution_count": 49,
     "metadata": {},
     "output_type": "execute_result"
    }
   ],
   "source": [
    "features_df.isna().sum(axis=0).sort_values(ascending=False).head(10)"
   ],
   "metadata": {
    "collapsed": false,
    "ExecuteTime": {
     "end_time": "2023-06-11T12:13:32.014231400Z",
     "start_time": "2023-06-11T12:13:31.280164500Z"
    }
   }
  },
  {
   "cell_type": "markdown",
   "source": [
    "Remove columns with more than 30% missing values"
   ],
   "metadata": {
    "collapsed": false
   }
  },
  {
   "cell_type": "code",
   "execution_count": 50,
   "outputs": [],
   "source": [
    "features_df = features_df.loc[:, features_df.isna().sum(axis=0) < 0.3 * features_df.shape[0]]"
   ],
   "metadata": {
    "collapsed": false,
    "ExecuteTime": {
     "end_time": "2023-06-11T12:13:32.037690300Z",
     "start_time": "2023-06-11T12:13:31.295639300Z"
    }
   }
  },
  {
   "cell_type": "code",
   "execution_count": 51,
   "outputs": [
    {
     "data": {
      "text/plain": "Pupil radius_Fixations_First_Diff_Pre            392\nPupil radius_Fixations_ReEntry_Mean_Diff_Post    392\nPupil radius_Fixations_ReEntry_Mean_Diff_Pre     392\nPupil radius_Fixations_First_Diff_Post           392\nvis_angle_Min_Saccades_Start_In_RoI_Pre          297\nvis_angle_Max_Saccades_Start_In_RoI_Post         297\nonset_Mean_Saccades_Start_In_RoI_Post            297\npeak_velocity_Min_Saccades_Start_In_RoI_Pre      297\npeak_velocity_Min_Saccades_Start_In_RoI_Post     297\nvis_angle_Min_Saccades_Start_In_RoI_Post         297\ndtype: int64"
     },
     "execution_count": 51,
     "metadata": {},
     "output_type": "execute_result"
    }
   ],
   "source": [
    "features_df.isna().sum(axis=0).sort_values(ascending=False).head(10)"
   ],
   "metadata": {
    "collapsed": false,
    "ExecuteTime": {
     "end_time": "2023-06-11T12:13:32.063142400Z",
     "start_time": "2023-06-11T12:13:31.311608100Z"
    }
   }
  },
  {
   "cell_type": "markdown",
   "source": [
    "how many missing values are there in each row? show the top 10"
   ],
   "metadata": {
    "collapsed": false
   }
  },
  {
   "cell_type": "code",
   "execution_count": 52,
   "outputs": [
    {
     "data": {
      "text/plain": "338     72\n1247    69\n1096    69\n1236    69\n1034    69\n1314    69\n1143    68\n1158    68\n558     68\n1430    68\ndtype: int64"
     },
     "execution_count": 52,
     "metadata": {},
     "output_type": "execute_result"
    }
   ],
   "source": [
    "features_df.isna().sum(axis=1).sort_values(ascending=False).head(10)"
   ],
   "metadata": {
    "collapsed": false,
    "ExecuteTime": {
     "end_time": "2023-06-11T12:13:32.083599400Z",
     "start_time": "2023-06-11T12:13:31.326085300Z"
    }
   }
  },
  {
   "cell_type": "markdown",
   "source": [
    "Remove rows with more than 30% missing values"
   ],
   "metadata": {
    "collapsed": false
   }
  },
  {
   "cell_type": "code",
   "execution_count": 53,
   "outputs": [],
   "source": [
    "features_df = features_df.loc[features_df.isna().sum(axis=1) < 0.3 * features_df.shape[1], :]\n",
    "# remove the corresponding rows from y_train\n",
    "labels_df = labels_df.loc[labels_df.index.isin(features_df.index)]"
   ],
   "metadata": {
    "collapsed": false,
    "ExecuteTime": {
     "end_time": "2023-06-11T12:13:32.083599400Z",
     "start_time": "2023-06-11T12:13:31.343043700Z"
    }
   }
  },
  {
   "cell_type": "code",
   "execution_count": 54,
   "outputs": [
    {
     "data": {
      "text/plain": "1168    32\n1380    32\n246     32\n75      32\n59      28\n297     28\n178     28\n1139    28\n307     28\n1144    25\ndtype: int64"
     },
     "execution_count": 54,
     "metadata": {},
     "output_type": "execute_result"
    }
   ],
   "source": [
    "features_df.isna().sum(axis=1).sort_values(ascending=False).head(10)"
   ],
   "metadata": {
    "collapsed": false,
    "ExecuteTime": {
     "end_time": "2023-06-11T12:13:32.088586200Z",
     "start_time": "2023-06-11T12:13:31.357023600Z"
    }
   }
  },
  {
   "cell_type": "markdown",
   "source": [],
   "metadata": {
    "collapsed": false
   }
  },
  {
   "cell_type": "markdown",
   "source": [
    "Train/Test Split (before any preprocessing is done)"
   ],
   "metadata": {
    "collapsed": false
   }
  },
  {
   "cell_type": "code",
   "execution_count": 55,
   "outputs": [],
   "source": [
    "series_id_df = pd.read_pickle(os.path.join(config.classification_resource_dir, \"sessions_series_id_df.pkl\"))\n",
    "\n",
    "# Create a list of unique subject IDs\n",
    "subject_ids = series_id_df[config.SUBJECT].unique()\n",
    "\n",
    "# Shuffle the list of subject IDs randomly\n",
    "random = np.random\n",
    "random.seed(1)\n",
    "random.shuffle(subject_ids)\n",
    "\n",
    "# Split the list of subject IDs into two parts\n",
    "train_subject_ids = subject_ids[:int(len(subject_ids)*0.9)]\n",
    "test_subject_ids = subject_ids[int(len(subject_ids)*0.9):]\n",
    "\n",
    "# Subset the data based on the split list of subject IDs\n",
    "train_data = series_id_df[series_id_df[config.SUBJECT].isin(train_subject_ids)]\n",
    "test_data = series_id_df[series_id_df[config.SUBJECT].isin(test_subject_ids)]\n",
    "\n",
    "X_train = features_df[features_df.index.isin(train_data.index)]\n",
    "X_test = features_df[features_df.index.isin(test_data.index)]\n",
    "y_train = labels_df[labels_df.index.isin(train_data.index)]\n",
    "y_test = labels_df[labels_df.index.isin(test_data.index)]"
   ],
   "metadata": {
    "collapsed": false,
    "ExecuteTime": {
     "end_time": "2023-06-11T12:13:32.091578Z",
     "start_time": "2023-06-11T12:13:31.373980Z"
    }
   }
  },
  {
   "cell_type": "code",
   "execution_count": 56,
   "outputs": [],
   "source": [
    "# from sklearn.model_selection import train_test_split\n",
    "#\n",
    "# X_train, X_test, y_train, y_test = train_test_split(features_df,\n",
    "#                                                     labels_df,\n",
    "#                                                     random_state=420,\n",
    "#                                                     test_size=0.2)"
   ],
   "metadata": {
    "collapsed": false,
    "ExecuteTime": {
     "end_time": "2023-06-11T12:13:32.117019Z",
     "start_time": "2023-06-11T12:13:31.388454400Z"
    }
   }
  },
  {
   "cell_type": "code",
   "execution_count": 57,
   "outputs": [
    {
     "data": {
      "text/plain": "   Gaze_Counts_In_RoI_Pre  Gaze_Counts_In_RoI_Post  Gaze_Counts_Out_RoI_Pre  \\\n0                       0                      174                     2459   \n1                       5                      644                     2899   \n2                     318                     1788                     3436   \n5                       5                     1436                     4013   \n6                       0                      349                     3185   \n\n   Gaze_Counts_Out_RoI_Post  Gaze_In\\out_RoI_Ratio_Pre  \\\n0                      2548                   0.000000   \n1                      1054                   0.001725   \n2                       884                   0.092549   \n5                       855                   0.001246   \n6                      1625                   0.000000   \n\n   Gaze_In\\out_RoI_Ratio_Post  Gaze_Re_Entries_To_RoI_Count_Pre  \\\n0                    0.068289                                 0   \n1                    0.611006                                 2   \n2                    2.022624                                 2   \n5                    1.679532                                 2   \n6                    0.214769                                 0   \n\n   Gaze_Re_Entries_To_RoI_Count_Post  Gaze_Re_Entries_To_RoI_Rate_Pre  \\\n0                                  1                         0.000000   \n1                                  5                         0.244918   \n2                                  5                         0.244918   \n5                                 12                         0.234165   \n6                                  2                         0.000000   \n\n   Gaze_Re_Entries_To_RoI_Rate_Post  ...  DVA_Max_Gaze_Post  \\\n0                          0.212359  ...          28.691923   \n1                          1.499700  ...          21.265993   \n2                          1.034340  ...          23.694669   \n5                          2.999500  ...          21.351270   \n6                          0.600000  ...          22.848866   \n\n   DVA_Min_Gaze_Post  DVA_Mean_Fixations_Pre  DVA_Std_Fixations_Pre  \\\n0           2.745931               27.118966               5.393432   \n1           0.111699               15.877488               9.457063   \n2           0.288700               20.279908               7.552406   \n5           0.466678               14.152719               4.801909   \n6           1.377033               16.569913               4.120731   \n\n   DVA_Max_Fixations_Pre  DVA_Min_Fixations_Pre  DVA_Mean_Fixations_Post  \\\n0              32.399848              17.047785                20.373510   \n1              26.959536               0.000000                 8.162678   \n2              29.786582               3.441882                 8.685760   \n5              20.150100               6.715828                 6.637577   \n6              25.430856               7.314865                11.688502   \n\n   DVA_Std_Fixations_Post  DVA_Max_Fixations_Post  DVA_Min_Fixations_Post  \n0                7.767659               27.559437                3.880131  \n1                7.592890               21.024691                0.312490  \n2                8.735258               23.539461                0.699961  \n5                6.123387               21.077867                2.501169  \n6                6.852192               21.486319                1.530442  \n\n[5 rows x 116 columns]",
      "text/html": "<div>\n<style scoped>\n    .dataframe tbody tr th:only-of-type {\n        vertical-align: middle;\n    }\n\n    .dataframe tbody tr th {\n        vertical-align: top;\n    }\n\n    .dataframe thead th {\n        text-align: right;\n    }\n</style>\n<table border=\"1\" class=\"dataframe\">\n  <thead>\n    <tr style=\"text-align: right;\">\n      <th></th>\n      <th>Gaze_Counts_In_RoI_Pre</th>\n      <th>Gaze_Counts_In_RoI_Post</th>\n      <th>Gaze_Counts_Out_RoI_Pre</th>\n      <th>Gaze_Counts_Out_RoI_Post</th>\n      <th>Gaze_In\\out_RoI_Ratio_Pre</th>\n      <th>Gaze_In\\out_RoI_Ratio_Post</th>\n      <th>Gaze_Re_Entries_To_RoI_Count_Pre</th>\n      <th>Gaze_Re_Entries_To_RoI_Count_Post</th>\n      <th>Gaze_Re_Entries_To_RoI_Rate_Pre</th>\n      <th>Gaze_Re_Entries_To_RoI_Rate_Post</th>\n      <th>...</th>\n      <th>DVA_Max_Gaze_Post</th>\n      <th>DVA_Min_Gaze_Post</th>\n      <th>DVA_Mean_Fixations_Pre</th>\n      <th>DVA_Std_Fixations_Pre</th>\n      <th>DVA_Max_Fixations_Pre</th>\n      <th>DVA_Min_Fixations_Pre</th>\n      <th>DVA_Mean_Fixations_Post</th>\n      <th>DVA_Std_Fixations_Post</th>\n      <th>DVA_Max_Fixations_Post</th>\n      <th>DVA_Min_Fixations_Post</th>\n    </tr>\n  </thead>\n  <tbody>\n    <tr>\n      <th>0</th>\n      <td>0</td>\n      <td>174</td>\n      <td>2459</td>\n      <td>2548</td>\n      <td>0.000000</td>\n      <td>0.068289</td>\n      <td>0</td>\n      <td>1</td>\n      <td>0.000000</td>\n      <td>0.212359</td>\n      <td>...</td>\n      <td>28.691923</td>\n      <td>2.745931</td>\n      <td>27.118966</td>\n      <td>5.393432</td>\n      <td>32.399848</td>\n      <td>17.047785</td>\n      <td>20.373510</td>\n      <td>7.767659</td>\n      <td>27.559437</td>\n      <td>3.880131</td>\n    </tr>\n    <tr>\n      <th>1</th>\n      <td>5</td>\n      <td>644</td>\n      <td>2899</td>\n      <td>1054</td>\n      <td>0.001725</td>\n      <td>0.611006</td>\n      <td>2</td>\n      <td>5</td>\n      <td>0.244918</td>\n      <td>1.499700</td>\n      <td>...</td>\n      <td>21.265993</td>\n      <td>0.111699</td>\n      <td>15.877488</td>\n      <td>9.457063</td>\n      <td>26.959536</td>\n      <td>0.000000</td>\n      <td>8.162678</td>\n      <td>7.592890</td>\n      <td>21.024691</td>\n      <td>0.312490</td>\n    </tr>\n    <tr>\n      <th>2</th>\n      <td>318</td>\n      <td>1788</td>\n      <td>3436</td>\n      <td>884</td>\n      <td>0.092549</td>\n      <td>2.022624</td>\n      <td>2</td>\n      <td>5</td>\n      <td>0.244918</td>\n      <td>1.034340</td>\n      <td>...</td>\n      <td>23.694669</td>\n      <td>0.288700</td>\n      <td>20.279908</td>\n      <td>7.552406</td>\n      <td>29.786582</td>\n      <td>3.441882</td>\n      <td>8.685760</td>\n      <td>8.735258</td>\n      <td>23.539461</td>\n      <td>0.699961</td>\n    </tr>\n    <tr>\n      <th>5</th>\n      <td>5</td>\n      <td>1436</td>\n      <td>4013</td>\n      <td>855</td>\n      <td>0.001246</td>\n      <td>1.679532</td>\n      <td>2</td>\n      <td>12</td>\n      <td>0.234165</td>\n      <td>2.999500</td>\n      <td>...</td>\n      <td>21.351270</td>\n      <td>0.466678</td>\n      <td>14.152719</td>\n      <td>4.801909</td>\n      <td>20.150100</td>\n      <td>6.715828</td>\n      <td>6.637577</td>\n      <td>6.123387</td>\n      <td>21.077867</td>\n      <td>2.501169</td>\n    </tr>\n    <tr>\n      <th>6</th>\n      <td>0</td>\n      <td>349</td>\n      <td>3185</td>\n      <td>1625</td>\n      <td>0.000000</td>\n      <td>0.214769</td>\n      <td>0</td>\n      <td>2</td>\n      <td>0.000000</td>\n      <td>0.600000</td>\n      <td>...</td>\n      <td>22.848866</td>\n      <td>1.377033</td>\n      <td>16.569913</td>\n      <td>4.120731</td>\n      <td>25.430856</td>\n      <td>7.314865</td>\n      <td>11.688502</td>\n      <td>6.852192</td>\n      <td>21.486319</td>\n      <td>1.530442</td>\n    </tr>\n  </tbody>\n</table>\n<p>5 rows × 116 columns</p>\n</div>"
     },
     "execution_count": 57,
     "metadata": {},
     "output_type": "execute_result"
    }
   ],
   "source": [
    "X_train.head()"
   ],
   "metadata": {
    "collapsed": false,
    "ExecuteTime": {
     "end_time": "2023-06-11T12:13:32.161446400Z",
     "start_time": "2023-06-11T12:13:31.417894900Z"
    }
   }
  },
  {
   "cell_type": "markdown",
   "source": [
    "Fill missing values with the mean of the column"
   ],
   "metadata": {
    "collapsed": false
   }
  },
  {
   "cell_type": "code",
   "execution_count": 58,
   "outputs": [],
   "source": [
    "X_train = X_train.fillna(X_train.mean()) # fill missing values with the mean of the column or zero ? features_df.mean()\n",
    "X_test = X_test.fillna(X_train.mean())"
   ],
   "metadata": {
    "collapsed": false,
    "ExecuteTime": {
     "end_time": "2023-06-11T12:13:32.226316100Z",
     "start_time": "2023-06-11T12:13:31.436886800Z"
    }
   }
  },
  {
   "cell_type": "markdown",
   "source": [
    "Balancing the dataset"
   ],
   "metadata": {
    "collapsed": false
   }
  },
  {
   "cell_type": "code",
   "execution_count": 59,
   "outputs": [
    {
     "data": {
      "text/plain": "Session\n1          565\n0          538\ndtype: int64"
     },
     "execution_count": 59,
     "metadata": {},
     "output_type": "execute_result"
    }
   ],
   "source": [
    "y_train.value_counts()"
   ],
   "metadata": {
    "collapsed": false,
    "ExecuteTime": {
     "end_time": "2023-06-11T12:13:32.226316100Z",
     "start_time": "2023-06-11T12:13:31.498644300Z"
    }
   }
  },
  {
   "cell_type": "markdown",
   "source": [
    "Scaling"
   ],
   "metadata": {
    "collapsed": false
   }
  },
  {
   "cell_type": "code",
   "execution_count": 60,
   "outputs": [],
   "source": [
    "from sklearn.preprocessing import StandardScaler\n",
    "\n",
    "# Create separate StandardScaler instances\n",
    "scaler_x = StandardScaler()\n",
    "# scaler_y = StandardScaler()\n",
    "\n",
    "# Fit on Training Data (!)\n",
    "scaler_x.fit(X_train.values)\n",
    "# scaler_y.fit(y_train.values.reshape(-1, 1))\n",
    "\n",
    "# Transform both training and testing data\n",
    "X_train_scaled = scaler_x.transform(X_train.values)\n",
    "X_test_scaled = scaler_x.transform(X_test.values)\n",
    "y_train = y_train.values.reshape(-1, 1).flatten()\n",
    "y_test = y_test.values.reshape(-1, 1).flatten()\n",
    "\n",
    "X_train_scaled = pd.DataFrame(X_train_scaled, columns=X_train.columns)\n",
    "X_test_scaled = pd.DataFrame(X_test_scaled, columns=X_test.columns)"
   ],
   "metadata": {
    "collapsed": false,
    "ExecuteTime": {
     "end_time": "2023-06-11T12:13:32.230305500Z",
     "start_time": "2023-06-11T12:13:31.514113100Z"
    }
   }
  },
  {
   "cell_type": "markdown",
   "source": [
    "PCA"
   ],
   "metadata": {
    "collapsed": false
   },
   "outputs": []
  },
  {
   "cell_type": "code",
   "execution_count": 61,
   "outputs": [
    {
     "data": {
      "text/plain": "<Figure size 432x288 with 1 Axes>",
      "image/png": "[encoded data removed]"
     },
     "metadata": {},
     "output_type": "display_data"
    }
   ],
   "source": [
    "pca = PCA(n_components=0.95).fit(X_train_scaled)\n",
    "plt.plot(np.cumsum(pca.explained_variance_ratio_))\n",
    "plt.xlabel('number of components')\n",
    "plt.ylabel('cumulative explained variance');"
   ],
   "metadata": {
    "collapsed": false,
    "ExecuteTime": {
     "end_time": "2023-06-11T12:13:32.292675Z",
     "start_time": "2023-06-11T12:13:31.531071200Z"
    }
   }
  },
  {
   "cell_type": "code",
   "execution_count": 62,
   "outputs": [],
   "source": [
    "X_train_pca = pca.transform(X_train_scaled)\n",
    "X_test_pca = pca.transform(X_test_scaled)"
   ],
   "metadata": {
    "collapsed": false,
    "ExecuteTime": {
     "end_time": "2023-06-11T12:13:32.293672400Z",
     "start_time": "2023-06-11T12:13:31.703875200Z"
    }
   }
  },
  {
   "cell_type": "code",
   "execution_count": 63,
   "outputs": [
    {
     "data": {
      "text/plain": "array([[-7.04852666,  1.54534233,  0.02460516, ...,  0.0413768 ,\n        -0.98806959, -0.39464929],\n       [-3.10124403, -3.9784705 , -2.18706163, ...,  1.28090655,\n         0.22846462,  0.82942282],\n       [ 5.96258886, -2.25895834, -7.52499972, ...,  0.36173254,\n        -0.29741428,  0.38806791],\n       ...,\n       [-5.98499668,  1.43662393,  2.28639761, ...,  0.35409411,\n        -1.35658342, -1.13340609],\n       [-5.54839348,  1.56752961,  1.55385865, ..., -0.98611094,\n         0.76765982,  0.71333668],\n       [ 2.44386741, -2.00521996, -2.60288282, ..., -0.27439866,\n        -0.11444258, -0.1555332 ]])"
     },
     "execution_count": 63,
     "metadata": {},
     "output_type": "execute_result"
    }
   ],
   "source": [
    "X_train_pca"
   ],
   "metadata": {
    "collapsed": false,
    "ExecuteTime": {
     "end_time": "2023-06-11T12:13:32.294669500Z",
     "start_time": "2023-06-11T12:13:31.713851300Z"
    }
   }
  },
  {
   "cell_type": "markdown",
   "source": [
    "LDA"
   ],
   "metadata": {
    "collapsed": false
   }
  },
  {
   "cell_type": "code",
   "execution_count": 64,
   "outputs": [],
   "source": [
    "from sklearn.discriminant_analysis import LinearDiscriminantAnalysis\n",
    "\n",
    "lda = LinearDiscriminantAnalysis(n_components=1)\n",
    "X_train_lda = lda.fit_transform(X_train_scaled, y_train)\n",
    "X_test_lda = lda.transform(X_test_scaled)"
   ],
   "metadata": {
    "collapsed": false,
    "ExecuteTime": {
     "end_time": "2023-06-11T12:13:32.294669500Z",
     "start_time": "2023-06-11T12:13:31.733312700Z"
    }
   }
  },
  {
   "cell_type": "code",
   "execution_count": 65,
   "outputs": [
    {
     "data": {
      "text/plain": "<Figure size 432x288 with 1 Axes>",
      "image/png": "[encoded data removed]"
     },
     "metadata": {},
     "output_type": "display_data"
    }
   ],
   "source": [
    "# Create a scatter plot of the transformed data\n",
    "plt.scatter(X_train_lda, np.zeros(len(X_train_lda)), c=y_train, cmap='rainbow', alpha=0.7, edgecolors='b')\n",
    "plt.xlabel('LD1')\n",
    "plt.title('LDA Scatter Plot')\n",
    "plt.show()"
   ],
   "metadata": {
    "collapsed": false,
    "ExecuteTime": {
     "end_time": "2023-06-11T12:13:32.295667600Z",
     "start_time": "2023-06-11T12:13:31.806681300Z"
    }
   }
  },
  {
   "cell_type": "code",
   "execution_count": 66,
   "outputs": [],
   "source": [
    "X_train_preprocessed = X_train_scaled\n",
    "X_test_preprocessed = X_test_scaled"
   ],
   "metadata": {
    "collapsed": false,
    "ExecuteTime": {
     "end_time": "2023-06-11T12:13:32.295667600Z",
     "start_time": "2023-06-11T12:13:31.959349500Z"
    }
   }
  },
  {
   "cell_type": "markdown",
   "source": [
    "Classification models"
   ],
   "metadata": {
    "collapsed": false
   },
   "outputs": []
  },
  {
   "cell_type": "code",
   "execution_count": 67,
   "outputs": [],
   "source": [
    "from sklearn.metrics import accuracy_score, precision_score, recall_score, f1_score, roc_auc_score\n",
    "from sklearn.metrics import confusion_matrix\n",
    "import seaborn as sns\n",
    "\n",
    "def evaluate_model(model_name, y_true, y_pred):\n",
    "    # Evaluate the model using various metrics\n",
    "    accuracy = accuracy_score(y_test, y_pred)\n",
    "    precision = precision_score(y_test, y_pred)\n",
    "    recall = recall_score(y_test, y_pred)\n",
    "    f1 = f1_score(y_test, y_pred)\n",
    "    roc_auc = roc_auc_score(y_test, y_pred)\n",
    "\n",
    "    print(model_name)\n",
    "    # Print the evaluation metrics\n",
    "    print(\"Accuracy:\", round(accuracy, 2))\n",
    "    print(\"Precision:\", round(precision, 2))\n",
    "    print(\"Recall:\", round(recall, 2))\n",
    "    print(\"F1-score:\", round(f1, 2))\n",
    "    print(\"ROC-AUC score:\", round(roc_auc, 2))\n",
    "\n",
    "    # Compute the confusion matrix\n",
    "    confusion_mat = confusion_matrix(y_true, y_pred)\n",
    "\n",
    "    # Create a heatmap visualization of the confusion matrix\n",
    "    fig, ax = plt.subplots(figsize=(8, 8))\n",
    "    sns.heatmap(confusion_mat, annot=True, cmap=\"Blues\", fmt=\"d\", ax=ax)\n",
    "\n",
    "    # Set the axis labels and title\n",
    "    ax.set_xlabel(\"Predicted Labels\")\n",
    "    ax.set_ylabel(\"True Labels\")\n",
    "    ax.set_title(\"Confusion Matrix\")\n",
    "\n",
    "    # Show the plot\n",
    "    plt.show()"
   ],
   "metadata": {
    "collapsed": false,
    "ExecuteTime": {
     "end_time": "2023-06-11T12:13:32.295667600Z",
     "start_time": "2023-06-11T12:13:31.974814Z"
    }
   }
  },
  {
   "cell_type": "code",
   "execution_count": 68,
   "outputs": [],
   "source": [
    "from sklearn.model_selection import GridSearchCV"
   ],
   "metadata": {
    "collapsed": false,
    "ExecuteTime": {
     "end_time": "2023-06-11T12:13:32.296664300Z",
     "start_time": "2023-06-11T12:13:31.990773Z"
    }
   }
  },
  {
   "cell_type": "markdown",
   "source": [
    "Logistic Regression model"
   ],
   "metadata": {
    "collapsed": false
   },
   "outputs": []
  },
  {
   "cell_type": "code",
   "execution_count": 69,
   "outputs": [
    {
     "name": "stderr",
     "output_type": "stream",
     "text": [
      "C:\\Users\\user\\anaconda3\\lib\\site-packages\\sklearn\\linear_model\\_sag.py:350: ConvergenceWarning: The max_iter was reached which means the coef_ did not converge\n",
      "  warnings.warn(\n",
      "C:\\Users\\user\\anaconda3\\lib\\site-packages\\sklearn\\linear_model\\_sag.py:350: ConvergenceWarning: The max_iter was reached which means the coef_ did not converge\n",
      "  warnings.warn(\n",
      "C:\\Users\\user\\anaconda3\\lib\\site-packages\\sklearn\\linear_model\\_sag.py:350: ConvergenceWarning: The max_iter was reached which means the coef_ did not converge\n",
      "  warnings.warn(\n",
      "C:\\Users\\user\\anaconda3\\lib\\site-packages\\sklearn\\linear_model\\_sag.py:350: ConvergenceWarning: The max_iter was reached which means the coef_ did not converge\n",
      "  warnings.warn(\n",
      "C:\\Users\\user\\anaconda3\\lib\\site-packages\\sklearn\\linear_model\\_sag.py:350: ConvergenceWarning: The max_iter was reached which means the coef_ did not converge\n",
      "  warnings.warn(\n",
      "C:\\Users\\user\\anaconda3\\lib\\site-packages\\sklearn\\linear_model\\_sag.py:350: ConvergenceWarning: The max_iter was reached which means the coef_ did not converge\n",
      "  warnings.warn(\n",
      "C:\\Users\\user\\anaconda3\\lib\\site-packages\\sklearn\\linear_model\\_sag.py:350: ConvergenceWarning: The max_iter was reached which means the coef_ did not converge\n",
      "  warnings.warn(\n",
      "C:\\Users\\user\\anaconda3\\lib\\site-packages\\sklearn\\linear_model\\_sag.py:350: ConvergenceWarning: The max_iter was reached which means the coef_ did not converge\n",
      "  warnings.warn(\n",
      "C:\\Users\\user\\anaconda3\\lib\\site-packages\\sklearn\\linear_model\\_sag.py:350: ConvergenceWarning: The max_iter was reached which means the coef_ did not converge\n",
      "  warnings.warn(\n",
      "C:\\Users\\user\\anaconda3\\lib\\site-packages\\sklearn\\linear_model\\_sag.py:350: ConvergenceWarning: The max_iter was reached which means the coef_ did not converge\n",
      "  warnings.warn(\n",
      "C:\\Users\\user\\anaconda3\\lib\\site-packages\\sklearn\\linear_model\\_sag.py:350: ConvergenceWarning: The max_iter was reached which means the coef_ did not converge\n",
      "  warnings.warn(\n",
      "C:\\Users\\user\\anaconda3\\lib\\site-packages\\sklearn\\linear_model\\_sag.py:350: ConvergenceWarning: The max_iter was reached which means the coef_ did not converge\n",
      "  warnings.warn(\n",
      "C:\\Users\\user\\anaconda3\\lib\\site-packages\\sklearn\\linear_model\\_sag.py:350: ConvergenceWarning: The max_iter was reached which means the coef_ did not converge\n",
      "  warnings.warn(\n",
      "C:\\Users\\user\\anaconda3\\lib\\site-packages\\sklearn\\linear_model\\_sag.py:350: ConvergenceWarning: The max_iter was reached which means the coef_ did not converge\n",
      "  warnings.warn(\n",
      "C:\\Users\\user\\anaconda3\\lib\\site-packages\\sklearn\\linear_model\\_sag.py:350: ConvergenceWarning: The max_iter was reached which means the coef_ did not converge\n",
      "  warnings.warn(\n",
      "C:\\Users\\user\\anaconda3\\lib\\site-packages\\sklearn\\linear_model\\_sag.py:350: ConvergenceWarning: The max_iter was reached which means the coef_ did not converge\n",
      "  warnings.warn(\n",
      "C:\\Users\\user\\anaconda3\\lib\\site-packages\\sklearn\\linear_model\\_sag.py:350: ConvergenceWarning: The max_iter was reached which means the coef_ did not converge\n",
      "  warnings.warn(\n",
      "C:\\Users\\user\\anaconda3\\lib\\site-packages\\sklearn\\linear_model\\_sag.py:350: ConvergenceWarning: The max_iter was reached which means the coef_ did not converge\n",
      "  warnings.warn(\n",
      "C:\\Users\\user\\anaconda3\\lib\\site-packages\\sklearn\\linear_model\\_sag.py:350: ConvergenceWarning: The max_iter was reached which means the coef_ did not converge\n",
      "  warnings.warn(\n",
      "C:\\Users\\user\\anaconda3\\lib\\site-packages\\sklearn\\linear_model\\_sag.py:350: ConvergenceWarning: The max_iter was reached which means the coef_ did not converge\n",
      "  warnings.warn(\n",
      "C:\\Users\\user\\anaconda3\\lib\\site-packages\\sklearn\\linear_model\\_sag.py:350: ConvergenceWarning: The max_iter was reached which means the coef_ did not converge\n",
      "  warnings.warn(\n",
      "C:\\Users\\user\\anaconda3\\lib\\site-packages\\sklearn\\linear_model\\_sag.py:350: ConvergenceWarning: The max_iter was reached which means the coef_ did not converge\n",
      "  warnings.warn(\n",
      "C:\\Users\\user\\anaconda3\\lib\\site-packages\\sklearn\\linear_model\\_sag.py:350: ConvergenceWarning: The max_iter was reached which means the coef_ did not converge\n",
      "  warnings.warn(\n",
      "C:\\Users\\user\\anaconda3\\lib\\site-packages\\sklearn\\linear_model\\_sag.py:350: ConvergenceWarning: The max_iter was reached which means the coef_ did not converge\n",
      "  warnings.warn(\n",
      "C:\\Users\\user\\anaconda3\\lib\\site-packages\\sklearn\\linear_model\\_sag.py:350: ConvergenceWarning: The max_iter was reached which means the coef_ did not converge\n",
      "  warnings.warn(\n",
      "C:\\Users\\user\\anaconda3\\lib\\site-packages\\sklearn\\linear_model\\_sag.py:350: ConvergenceWarning: The max_iter was reached which means the coef_ did not converge\n",
      "  warnings.warn(\n",
      "C:\\Users\\user\\anaconda3\\lib\\site-packages\\sklearn\\linear_model\\_sag.py:350: ConvergenceWarning: The max_iter was reached which means the coef_ did not converge\n",
      "  warnings.warn(\n",
      "C:\\Users\\user\\anaconda3\\lib\\site-packages\\sklearn\\linear_model\\_sag.py:350: ConvergenceWarning: The max_iter was reached which means the coef_ did not converge\n",
      "  warnings.warn(\n",
      "C:\\Users\\user\\anaconda3\\lib\\site-packages\\sklearn\\linear_model\\_sag.py:350: ConvergenceWarning: The max_iter was reached which means the coef_ did not converge\n",
      "  warnings.warn(\n",
      "C:\\Users\\user\\anaconda3\\lib\\site-packages\\sklearn\\linear_model\\_sag.py:350: ConvergenceWarning: The max_iter was reached which means the coef_ did not converge\n",
      "  warnings.warn(\n",
      "C:\\Users\\user\\anaconda3\\lib\\site-packages\\sklearn\\linear_model\\_sag.py:350: ConvergenceWarning: The max_iter was reached which means the coef_ did not converge\n",
      "  warnings.warn(\n",
      "C:\\Users\\user\\anaconda3\\lib\\site-packages\\sklearn\\linear_model\\_sag.py:350: ConvergenceWarning: The max_iter was reached which means the coef_ did not converge\n",
      "  warnings.warn(\n",
      "C:\\Users\\user\\anaconda3\\lib\\site-packages\\sklearn\\linear_model\\_sag.py:350: ConvergenceWarning: The max_iter was reached which means the coef_ did not converge\n",
      "  warnings.warn(\n",
      "C:\\Users\\user\\anaconda3\\lib\\site-packages\\sklearn\\linear_model\\_sag.py:350: ConvergenceWarning: The max_iter was reached which means the coef_ did not converge\n",
      "  warnings.warn(\n",
      "C:\\Users\\user\\anaconda3\\lib\\site-packages\\sklearn\\linear_model\\_sag.py:350: ConvergenceWarning: The max_iter was reached which means the coef_ did not converge\n",
      "  warnings.warn(\n",
      "C:\\Users\\user\\anaconda3\\lib\\site-packages\\sklearn\\linear_model\\_sag.py:350: ConvergenceWarning: The max_iter was reached which means the coef_ did not converge\n",
      "  warnings.warn(\n",
      "C:\\Users\\user\\anaconda3\\lib\\site-packages\\sklearn\\linear_model\\_sag.py:350: ConvergenceWarning: The max_iter was reached which means the coef_ did not converge\n",
      "  warnings.warn(\n",
      "C:\\Users\\user\\anaconda3\\lib\\site-packages\\sklearn\\linear_model\\_sag.py:350: ConvergenceWarning: The max_iter was reached which means the coef_ did not converge\n",
      "  warnings.warn(\n",
      "C:\\Users\\user\\anaconda3\\lib\\site-packages\\sklearn\\linear_model\\_sag.py:350: ConvergenceWarning: The max_iter was reached which means the coef_ did not converge\n",
      "  warnings.warn(\n",
      "C:\\Users\\user\\anaconda3\\lib\\site-packages\\sklearn\\linear_model\\_sag.py:350: ConvergenceWarning: The max_iter was reached which means the coef_ did not converge\n",
      "  warnings.warn(\n",
      "C:\\Users\\user\\anaconda3\\lib\\site-packages\\sklearn\\linear_model\\_sag.py:350: ConvergenceWarning: The max_iter was reached which means the coef_ did not converge\n",
      "  warnings.warn(\n",
      "C:\\Users\\user\\anaconda3\\lib\\site-packages\\sklearn\\linear_model\\_sag.py:350: ConvergenceWarning: The max_iter was reached which means the coef_ did not converge\n",
      "  warnings.warn(\n",
      "C:\\Users\\user\\anaconda3\\lib\\site-packages\\sklearn\\linear_model\\_sag.py:350: ConvergenceWarning: The max_iter was reached which means the coef_ did not converge\n",
      "  warnings.warn(\n",
      "C:\\Users\\user\\anaconda3\\lib\\site-packages\\sklearn\\linear_model\\_sag.py:350: ConvergenceWarning: The max_iter was reached which means the coef_ did not converge\n",
      "  warnings.warn(\n",
      "C:\\Users\\user\\anaconda3\\lib\\site-packages\\sklearn\\linear_model\\_sag.py:350: ConvergenceWarning: The max_iter was reached which means the coef_ did not converge\n",
      "  warnings.warn(\n",
      "C:\\Users\\user\\anaconda3\\lib\\site-packages\\sklearn\\linear_model\\_sag.py:350: ConvergenceWarning: The max_iter was reached which means the coef_ did not converge\n",
      "  warnings.warn(\n",
      "C:\\Users\\user\\anaconda3\\lib\\site-packages\\sklearn\\linear_model\\_sag.py:350: ConvergenceWarning: The max_iter was reached which means the coef_ did not converge\n",
      "  warnings.warn(\n",
      "C:\\Users\\user\\anaconda3\\lib\\site-packages\\sklearn\\linear_model\\_sag.py:350: ConvergenceWarning: The max_iter was reached which means the coef_ did not converge\n",
      "  warnings.warn(\n",
      "C:\\Users\\user\\anaconda3\\lib\\site-packages\\sklearn\\linear_model\\_sag.py:350: ConvergenceWarning: The max_iter was reached which means the coef_ did not converge\n",
      "  warnings.warn(\n",
      "C:\\Users\\user\\anaconda3\\lib\\site-packages\\sklearn\\linear_model\\_sag.py:350: ConvergenceWarning: The max_iter was reached which means the coef_ did not converge\n",
      "  warnings.warn(\n",
      "C:\\Users\\user\\anaconda3\\lib\\site-packages\\sklearn\\linear_model\\_sag.py:350: ConvergenceWarning: The max_iter was reached which means the coef_ did not converge\n",
      "  warnings.warn(\n",
      "C:\\Users\\user\\anaconda3\\lib\\site-packages\\sklearn\\linear_model\\_sag.py:350: ConvergenceWarning: The max_iter was reached which means the coef_ did not converge\n",
      "  warnings.warn(\n",
      "C:\\Users\\user\\anaconda3\\lib\\site-packages\\sklearn\\linear_model\\_sag.py:350: ConvergenceWarning: The max_iter was reached which means the coef_ did not converge\n",
      "  warnings.warn(\n",
      "C:\\Users\\user\\anaconda3\\lib\\site-packages\\sklearn\\linear_model\\_sag.py:350: ConvergenceWarning: The max_iter was reached which means the coef_ did not converge\n",
      "  warnings.warn(\n",
      "C:\\Users\\user\\anaconda3\\lib\\site-packages\\sklearn\\linear_model\\_sag.py:350: ConvergenceWarning: The max_iter was reached which means the coef_ did not converge\n",
      "  warnings.warn(\n",
      "C:\\Users\\user\\anaconda3\\lib\\site-packages\\sklearn\\linear_model\\_sag.py:350: ConvergenceWarning: The max_iter was reached which means the coef_ did not converge\n",
      "  warnings.warn(\n",
      "C:\\Users\\user\\anaconda3\\lib\\site-packages\\sklearn\\linear_model\\_sag.py:350: ConvergenceWarning: The max_iter was reached which means the coef_ did not converge\n",
      "  warnings.warn(\n",
      "C:\\Users\\user\\anaconda3\\lib\\site-packages\\sklearn\\linear_model\\_sag.py:350: ConvergenceWarning: The max_iter was reached which means the coef_ did not converge\n",
      "  warnings.warn(\n",
      "C:\\Users\\user\\anaconda3\\lib\\site-packages\\sklearn\\linear_model\\_sag.py:350: ConvergenceWarning: The max_iter was reached which means the coef_ did not converge\n",
      "  warnings.warn(\n",
      "C:\\Users\\user\\anaconda3\\lib\\site-packages\\sklearn\\linear_model\\_sag.py:350: ConvergenceWarning: The max_iter was reached which means the coef_ did not converge\n",
      "  warnings.warn(\n",
      "C:\\Users\\user\\anaconda3\\lib\\site-packages\\sklearn\\linear_model\\_sag.py:350: ConvergenceWarning: The max_iter was reached which means the coef_ did not converge\n",
      "  warnings.warn(\n",
      "C:\\Users\\user\\anaconda3\\lib\\site-packages\\sklearn\\linear_model\\_sag.py:350: ConvergenceWarning: The max_iter was reached which means the coef_ did not converge\n",
      "  warnings.warn(\n",
      "C:\\Users\\user\\anaconda3\\lib\\site-packages\\sklearn\\linear_model\\_sag.py:350: ConvergenceWarning: The max_iter was reached which means the coef_ did not converge\n",
      "  warnings.warn(\n",
      "C:\\Users\\user\\anaconda3\\lib\\site-packages\\sklearn\\linear_model\\_sag.py:350: ConvergenceWarning: The max_iter was reached which means the coef_ did not converge\n",
      "  warnings.warn(\n",
      "C:\\Users\\user\\anaconda3\\lib\\site-packages\\sklearn\\linear_model\\_sag.py:350: ConvergenceWarning: The max_iter was reached which means the coef_ did not converge\n",
      "  warnings.warn(\n",
      "C:\\Users\\user\\anaconda3\\lib\\site-packages\\sklearn\\linear_model\\_sag.py:350: ConvergenceWarning: The max_iter was reached which means the coef_ did not converge\n",
      "  warnings.warn(\n",
      "C:\\Users\\user\\anaconda3\\lib\\site-packages\\sklearn\\linear_model\\_sag.py:350: ConvergenceWarning: The max_iter was reached which means the coef_ did not converge\n",
      "  warnings.warn(\n",
      "C:\\Users\\user\\anaconda3\\lib\\site-packages\\sklearn\\linear_model\\_sag.py:350: ConvergenceWarning: The max_iter was reached which means the coef_ did not converge\n",
      "  warnings.warn(\n",
      "C:\\Users\\user\\anaconda3\\lib\\site-packages\\sklearn\\linear_model\\_sag.py:350: ConvergenceWarning: The max_iter was reached which means the coef_ did not converge\n",
      "  warnings.warn(\n",
      "C:\\Users\\user\\anaconda3\\lib\\site-packages\\sklearn\\linear_model\\_sag.py:350: ConvergenceWarning: The max_iter was reached which means the coef_ did not converge\n",
      "  warnings.warn(\n",
      "C:\\Users\\user\\anaconda3\\lib\\site-packages\\sklearn\\linear_model\\_sag.py:350: ConvergenceWarning: The max_iter was reached which means the coef_ did not converge\n",
      "  warnings.warn(\n",
      "C:\\Users\\user\\anaconda3\\lib\\site-packages\\sklearn\\linear_model\\_sag.py:350: ConvergenceWarning: The max_iter was reached which means the coef_ did not converge\n",
      "  warnings.warn(\n",
      "C:\\Users\\user\\anaconda3\\lib\\site-packages\\sklearn\\linear_model\\_sag.py:350: ConvergenceWarning: The max_iter was reached which means the coef_ did not converge\n",
      "  warnings.warn(\n",
      "C:\\Users\\user\\anaconda3\\lib\\site-packages\\sklearn\\linear_model\\_sag.py:350: ConvergenceWarning: The max_iter was reached which means the coef_ did not converge\n",
      "  warnings.warn(\n",
      "C:\\Users\\user\\anaconda3\\lib\\site-packages\\sklearn\\linear_model\\_sag.py:350: ConvergenceWarning: The max_iter was reached which means the coef_ did not converge\n",
      "  warnings.warn(\n",
      "C:\\Users\\user\\anaconda3\\lib\\site-packages\\sklearn\\linear_model\\_sag.py:350: ConvergenceWarning: The max_iter was reached which means the coef_ did not converge\n",
      "  warnings.warn(\n",
      "C:\\Users\\user\\anaconda3\\lib\\site-packages\\sklearn\\linear_model\\_sag.py:350: ConvergenceWarning: The max_iter was reached which means the coef_ did not converge\n",
      "  warnings.warn(\n",
      "C:\\Users\\user\\anaconda3\\lib\\site-packages\\sklearn\\linear_model\\_sag.py:350: ConvergenceWarning: The max_iter was reached which means the coef_ did not converge\n",
      "  warnings.warn(\n",
      "C:\\Users\\user\\anaconda3\\lib\\site-packages\\sklearn\\linear_model\\_sag.py:350: ConvergenceWarning: The max_iter was reached which means the coef_ did not converge\n",
      "  warnings.warn(\n",
      "C:\\Users\\user\\anaconda3\\lib\\site-packages\\sklearn\\linear_model\\_sag.py:350: ConvergenceWarning: The max_iter was reached which means the coef_ did not converge\n",
      "  warnings.warn(\n",
      "C:\\Users\\user\\anaconda3\\lib\\site-packages\\sklearn\\linear_model\\_sag.py:350: ConvergenceWarning: The max_iter was reached which means the coef_ did not converge\n",
      "  warnings.warn(\n",
      "C:\\Users\\user\\anaconda3\\lib\\site-packages\\sklearn\\linear_model\\_sag.py:350: ConvergenceWarning: The max_iter was reached which means the coef_ did not converge\n",
      "  warnings.warn(\n",
      "C:\\Users\\user\\anaconda3\\lib\\site-packages\\sklearn\\linear_model\\_sag.py:350: ConvergenceWarning: The max_iter was reached which means the coef_ did not converge\n",
      "  warnings.warn(\n",
      "C:\\Users\\user\\anaconda3\\lib\\site-packages\\sklearn\\linear_model\\_sag.py:350: ConvergenceWarning: The max_iter was reached which means the coef_ did not converge\n",
      "  warnings.warn(\n",
      "C:\\Users\\user\\anaconda3\\lib\\site-packages\\sklearn\\linear_model\\_sag.py:350: ConvergenceWarning: The max_iter was reached which means the coef_ did not converge\n",
      "  warnings.warn(\n",
      "C:\\Users\\user\\anaconda3\\lib\\site-packages\\sklearn\\linear_model\\_sag.py:350: ConvergenceWarning: The max_iter was reached which means the coef_ did not converge\n",
      "  warnings.warn(\n",
      "C:\\Users\\user\\anaconda3\\lib\\site-packages\\sklearn\\linear_model\\_sag.py:350: ConvergenceWarning: The max_iter was reached which means the coef_ did not converge\n",
      "  warnings.warn(\n",
      "C:\\Users\\user\\anaconda3\\lib\\site-packages\\sklearn\\linear_model\\_sag.py:350: ConvergenceWarning: The max_iter was reached which means the coef_ did not converge\n",
      "  warnings.warn(\n",
      "C:\\Users\\user\\anaconda3\\lib\\site-packages\\sklearn\\linear_model\\_sag.py:350: ConvergenceWarning: The max_iter was reached which means the coef_ did not converge\n",
      "  warnings.warn(\n",
      "C:\\Users\\user\\anaconda3\\lib\\site-packages\\sklearn\\linear_model\\_sag.py:350: ConvergenceWarning: The max_iter was reached which means the coef_ did not converge\n",
      "  warnings.warn(\n",
      "C:\\Users\\user\\anaconda3\\lib\\site-packages\\sklearn\\linear_model\\_sag.py:350: ConvergenceWarning: The max_iter was reached which means the coef_ did not converge\n",
      "  warnings.warn(\n",
      "C:\\Users\\user\\anaconda3\\lib\\site-packages\\sklearn\\linear_model\\_sag.py:350: ConvergenceWarning: The max_iter was reached which means the coef_ did not converge\n",
      "  warnings.warn(\n",
      "C:\\Users\\user\\anaconda3\\lib\\site-packages\\sklearn\\linear_model\\_sag.py:350: ConvergenceWarning: The max_iter was reached which means the coef_ did not converge\n",
      "  warnings.warn(\n",
      "C:\\Users\\user\\anaconda3\\lib\\site-packages\\sklearn\\linear_model\\_sag.py:350: ConvergenceWarning: The max_iter was reached which means the coef_ did not converge\n",
      "  warnings.warn(\n",
      "C:\\Users\\user\\anaconda3\\lib\\site-packages\\sklearn\\linear_model\\_sag.py:350: ConvergenceWarning: The max_iter was reached which means the coef_ did not converge\n",
      "  warnings.warn(\n",
      "C:\\Users\\user\\anaconda3\\lib\\site-packages\\sklearn\\linear_model\\_sag.py:350: ConvergenceWarning: The max_iter was reached which means the coef_ did not converge\n",
      "  warnings.warn(\n",
      "C:\\Users\\user\\anaconda3\\lib\\site-packages\\sklearn\\linear_model\\_sag.py:350: ConvergenceWarning: The max_iter was reached which means the coef_ did not converge\n",
      "  warnings.warn(\n",
      "C:\\Users\\user\\anaconda3\\lib\\site-packages\\sklearn\\linear_model\\_sag.py:350: ConvergenceWarning: The max_iter was reached which means the coef_ did not converge\n",
      "  warnings.warn(\n",
      "C:\\Users\\user\\anaconda3\\lib\\site-packages\\sklearn\\linear_model\\_sag.py:350: ConvergenceWarning: The max_iter was reached which means the coef_ did not converge\n",
      "  warnings.warn(\n",
      "C:\\Users\\user\\anaconda3\\lib\\site-packages\\sklearn\\linear_model\\_sag.py:350: ConvergenceWarning: The max_iter was reached which means the coef_ did not converge\n",
      "  warnings.warn(\n",
      "C:\\Users\\user\\anaconda3\\lib\\site-packages\\sklearn\\linear_model\\_sag.py:350: ConvergenceWarning: The max_iter was reached which means the coef_ did not converge\n",
      "  warnings.warn(\n",
      "C:\\Users\\user\\anaconda3\\lib\\site-packages\\sklearn\\linear_model\\_sag.py:350: ConvergenceWarning: The max_iter was reached which means the coef_ did not converge\n",
      "  warnings.warn(\n",
      "C:\\Users\\user\\anaconda3\\lib\\site-packages\\sklearn\\linear_model\\_sag.py:350: ConvergenceWarning: The max_iter was reached which means the coef_ did not converge\n",
      "  warnings.warn(\n",
      "C:\\Users\\user\\anaconda3\\lib\\site-packages\\sklearn\\linear_model\\_sag.py:350: ConvergenceWarning: The max_iter was reached which means the coef_ did not converge\n",
      "  warnings.warn(\n",
      "C:\\Users\\user\\anaconda3\\lib\\site-packages\\sklearn\\linear_model\\_sag.py:350: ConvergenceWarning: The max_iter was reached which means the coef_ did not converge\n",
      "  warnings.warn(\n",
      "C:\\Users\\user\\anaconda3\\lib\\site-packages\\sklearn\\linear_model\\_sag.py:350: ConvergenceWarning: The max_iter was reached which means the coef_ did not converge\n",
      "  warnings.warn(\n",
      "C:\\Users\\user\\anaconda3\\lib\\site-packages\\sklearn\\linear_model\\_sag.py:350: ConvergenceWarning: The max_iter was reached which means the coef_ did not converge\n",
      "  warnings.warn(\n",
      "C:\\Users\\user\\anaconda3\\lib\\site-packages\\sklearn\\linear_model\\_sag.py:350: ConvergenceWarning: The max_iter was reached which means the coef_ did not converge\n",
      "  warnings.warn(\n",
      "C:\\Users\\user\\anaconda3\\lib\\site-packages\\sklearn\\linear_model\\_sag.py:350: ConvergenceWarning: The max_iter was reached which means the coef_ did not converge\n",
      "  warnings.warn(\n",
      "C:\\Users\\user\\anaconda3\\lib\\site-packages\\sklearn\\linear_model\\_sag.py:350: ConvergenceWarning: The max_iter was reached which means the coef_ did not converge\n",
      "  warnings.warn(\n",
      "C:\\Users\\user\\anaconda3\\lib\\site-packages\\sklearn\\linear_model\\_sag.py:350: ConvergenceWarning: The max_iter was reached which means the coef_ did not converge\n",
      "  warnings.warn(\n",
      "C:\\Users\\user\\anaconda3\\lib\\site-packages\\sklearn\\linear_model\\_sag.py:350: ConvergenceWarning: The max_iter was reached which means the coef_ did not converge\n",
      "  warnings.warn(\n",
      "C:\\Users\\user\\anaconda3\\lib\\site-packages\\sklearn\\linear_model\\_sag.py:350: ConvergenceWarning: The max_iter was reached which means the coef_ did not converge\n",
      "  warnings.warn(\n",
      "C:\\Users\\user\\anaconda3\\lib\\site-packages\\sklearn\\linear_model\\_sag.py:350: ConvergenceWarning: The max_iter was reached which means the coef_ did not converge\n",
      "  warnings.warn(\n",
      "C:\\Users\\user\\anaconda3\\lib\\site-packages\\sklearn\\linear_model\\_sag.py:350: ConvergenceWarning: The max_iter was reached which means the coef_ did not converge\n",
      "  warnings.warn(\n",
      "C:\\Users\\user\\anaconda3\\lib\\site-packages\\sklearn\\linear_model\\_sag.py:350: ConvergenceWarning: The max_iter was reached which means the coef_ did not converge\n",
      "  warnings.warn(\n",
      "C:\\Users\\user\\anaconda3\\lib\\site-packages\\sklearn\\linear_model\\_sag.py:350: ConvergenceWarning: The max_iter was reached which means the coef_ did not converge\n",
      "  warnings.warn(\n",
      "C:\\Users\\user\\anaconda3\\lib\\site-packages\\sklearn\\linear_model\\_sag.py:350: ConvergenceWarning: The max_iter was reached which means the coef_ did not converge\n",
      "  warnings.warn(\n",
      "C:\\Users\\user\\anaconda3\\lib\\site-packages\\sklearn\\linear_model\\_sag.py:350: ConvergenceWarning: The max_iter was reached which means the coef_ did not converge\n",
      "  warnings.warn(\n",
      "C:\\Users\\user\\anaconda3\\lib\\site-packages\\sklearn\\linear_model\\_sag.py:350: ConvergenceWarning: The max_iter was reached which means the coef_ did not converge\n",
      "  warnings.warn(\n",
      "C:\\Users\\user\\anaconda3\\lib\\site-packages\\sklearn\\linear_model\\_sag.py:350: ConvergenceWarning: The max_iter was reached which means the coef_ did not converge\n",
      "  warnings.warn(\n",
      "C:\\Users\\user\\anaconda3\\lib\\site-packages\\sklearn\\linear_model\\_sag.py:350: ConvergenceWarning: The max_iter was reached which means the coef_ did not converge\n",
      "  warnings.warn(\n",
      "C:\\Users\\user\\anaconda3\\lib\\site-packages\\sklearn\\linear_model\\_sag.py:350: ConvergenceWarning: The max_iter was reached which means the coef_ did not converge\n",
      "  warnings.warn(\n",
      "C:\\Users\\user\\anaconda3\\lib\\site-packages\\sklearn\\linear_model\\_sag.py:350: ConvergenceWarning: The max_iter was reached which means the coef_ did not converge\n",
      "  warnings.warn(\n",
      "C:\\Users\\user\\anaconda3\\lib\\site-packages\\sklearn\\linear_model\\_sag.py:350: ConvergenceWarning: The max_iter was reached which means the coef_ did not converge\n",
      "  warnings.warn(\n",
      "C:\\Users\\user\\anaconda3\\lib\\site-packages\\sklearn\\linear_model\\_sag.py:350: ConvergenceWarning: The max_iter was reached which means the coef_ did not converge\n",
      "  warnings.warn(\n",
      "C:\\Users\\user\\anaconda3\\lib\\site-packages\\sklearn\\linear_model\\_sag.py:350: ConvergenceWarning: The max_iter was reached which means the coef_ did not converge\n",
      "  warnings.warn(\n",
      "C:\\Users\\user\\anaconda3\\lib\\site-packages\\sklearn\\linear_model\\_sag.py:350: ConvergenceWarning: The max_iter was reached which means the coef_ did not converge\n",
      "  warnings.warn(\n",
      "C:\\Users\\user\\anaconda3\\lib\\site-packages\\sklearn\\linear_model\\_sag.py:350: ConvergenceWarning: The max_iter was reached which means the coef_ did not converge\n",
      "  warnings.warn(\n",
      "C:\\Users\\user\\anaconda3\\lib\\site-packages\\sklearn\\linear_model\\_sag.py:350: ConvergenceWarning: The max_iter was reached which means the coef_ did not converge\n",
      "  warnings.warn(\n",
      "C:\\Users\\user\\anaconda3\\lib\\site-packages\\sklearn\\linear_model\\_sag.py:350: ConvergenceWarning: The max_iter was reached which means the coef_ did not converge\n",
      "  warnings.warn(\n",
      "C:\\Users\\user\\anaconda3\\lib\\site-packages\\sklearn\\linear_model\\_sag.py:350: ConvergenceWarning: The max_iter was reached which means the coef_ did not converge\n",
      "  warnings.warn(\n",
      "C:\\Users\\user\\anaconda3\\lib\\site-packages\\sklearn\\linear_model\\_sag.py:350: ConvergenceWarning: The max_iter was reached which means the coef_ did not converge\n",
      "  warnings.warn(\n",
      "C:\\Users\\user\\anaconda3\\lib\\site-packages\\sklearn\\linear_model\\_sag.py:350: ConvergenceWarning: The max_iter was reached which means the coef_ did not converge\n",
      "  warnings.warn(\n",
      "C:\\Users\\user\\anaconda3\\lib\\site-packages\\sklearn\\linear_model\\_sag.py:350: ConvergenceWarning: The max_iter was reached which means the coef_ did not converge\n",
      "  warnings.warn(\n",
      "C:\\Users\\user\\anaconda3\\lib\\site-packages\\sklearn\\linear_model\\_sag.py:350: ConvergenceWarning: The max_iter was reached which means the coef_ did not converge\n",
      "  warnings.warn(\n",
      "C:\\Users\\user\\anaconda3\\lib\\site-packages\\sklearn\\linear_model\\_sag.py:350: ConvergenceWarning: The max_iter was reached which means the coef_ did not converge\n",
      "  warnings.warn(\n",
      "C:\\Users\\user\\anaconda3\\lib\\site-packages\\sklearn\\linear_model\\_sag.py:350: ConvergenceWarning: The max_iter was reached which means the coef_ did not converge\n",
      "  warnings.warn(\n",
      "C:\\Users\\user\\anaconda3\\lib\\site-packages\\sklearn\\linear_model\\_sag.py:350: ConvergenceWarning: The max_iter was reached which means the coef_ did not converge\n",
      "  warnings.warn(\n",
      "C:\\Users\\user\\anaconda3\\lib\\site-packages\\sklearn\\linear_model\\_sag.py:350: ConvergenceWarning: The max_iter was reached which means the coef_ did not converge\n",
      "  warnings.warn(\n",
      "C:\\Users\\user\\anaconda3\\lib\\site-packages\\sklearn\\linear_model\\_sag.py:350: ConvergenceWarning: The max_iter was reached which means the coef_ did not converge\n",
      "  warnings.warn(\n",
      "C:\\Users\\user\\anaconda3\\lib\\site-packages\\sklearn\\linear_model\\_sag.py:350: ConvergenceWarning: The max_iter was reached which means the coef_ did not converge\n",
      "  warnings.warn(\n",
      "C:\\Users\\user\\anaconda3\\lib\\site-packages\\sklearn\\linear_model\\_sag.py:350: ConvergenceWarning: The max_iter was reached which means the coef_ did not converge\n",
      "  warnings.warn(\n"
     ]
    },
    {
     "data": {
      "text/plain": "{'C': 0.7728571428571429, 'penalty': 'l1', 'solver': 'liblinear'}"
     },
     "execution_count": 69,
     "metadata": {},
     "output_type": "execute_result"
    }
   ],
   "source": [
    "from sklearn.linear_model import LogisticRegression\n",
    "\n",
    "# Define the range of values for each hyperparameter\n",
    "C = np.linspace(0.01, 0.9, 15)\n",
    "PENALTY = ['l1', 'l2']\n",
    "SOLVER = ['liblinear', 'saga']\n",
    "\n",
    "PARAM_GRID  = {\n",
    "    'C': C,\n",
    "    'penalty': PENALTY,\n",
    "    'solver': SOLVER\n",
    "}\n",
    "\n",
    "# Create the logistic regression estimator\n",
    "estimator = LogisticRegression(random_state=420)\n",
    "\n",
    "# Use grid search and cross-validation to tune the hyper parameters\n",
    "model_searcher = GridSearchCV(estimator, PARAM_GRID, verbose=0)\n",
    "model_searcher.fit(X_train_preprocessed, y_train)\n",
    "\n",
    "# The best combination of hyperparameters\n",
    "model_searcher.best_params_"
   ],
   "metadata": {
    "collapsed": false,
    "ExecuteTime": {
     "end_time": "2023-06-11T12:13:56.963948500Z",
     "start_time": "2023-06-11T12:13:32.008244800Z"
    }
   }
  },
  {
   "cell_type": "code",
   "execution_count": 70,
   "outputs": [
    {
     "name": "stdout",
     "output_type": "stream",
     "text": [
      "Logistic Regression (test data)\n",
      "Accuracy: 0.61\n",
      "Precision: 0.61\n",
      "Recall: 0.67\n",
      "F1-score: 0.64\n",
      "ROC-AUC score: 0.61\n"
     ]
    },
    {
     "data": {
      "text/plain": "<Figure size 576x576 with 2 Axes>",
      "image/png": "[encoded data removed]"
     },
     "metadata": {},
     "output_type": "display_data"
    }
   ],
   "source": [
    "# Get the best estimator\n",
    "log_reg_best_estimator = model_searcher.best_estimator_\n",
    "y_test_pred = log_reg_best_estimator.predict(X_test_preprocessed)\n",
    "\n",
    "evaluate_model(\"Logistic Regression (test data)\", y_test, y_test_pred)"
   ],
   "metadata": {
    "collapsed": false,
    "ExecuteTime": {
     "end_time": "2023-06-11T12:13:57.089262100Z",
     "start_time": "2023-06-11T12:13:56.966939400Z"
    }
   }
  },
  {
   "cell_type": "markdown",
   "source": [
    "Gradient Boosting model"
   ],
   "metadata": {
    "collapsed": false
   }
  },
  {
   "cell_type": "code",
   "execution_count": 71,
   "outputs": [
    {
     "data": {
      "text/plain": "{'learning_rate': 0.06444444444444444, 'max_depth': 2, 'n_estimators': 130}"
     },
     "execution_count": 71,
     "metadata": {},
     "output_type": "execute_result"
    }
   ],
   "source": [
    "from sklearn.ensemble import GradientBoostingClassifier\n",
    "\n",
    "# Define the range of values for each hyperparameter\n",
    "LEARNING_RATE = np.linspace(0.01, 0.5, 10)\n",
    "MAX_DEPTH = range(2, 4)\n",
    "N_ESTIMATORS = range(100, 250, 15)\n",
    "\n",
    "\n",
    "PARAM_GRID  = {\n",
    "    'learning_rate': LEARNING_RATE,\n",
    "    'max_depth': MAX_DEPTH,\n",
    "    'n_estimators': N_ESTIMATORS\n",
    "}\n",
    "\n",
    "# Create the gradient boosting estimator\n",
    "estimator = GradientBoostingClassifier(random_state=420)\n",
    "\n",
    "# Use grid search and cross-validation to tune the hyper parameters\n",
    "model_searcher = GridSearchCV(estimator, PARAM_GRID, verbose=0)\n",
    "model_searcher.fit(X_train_preprocessed, y_train)\n",
    "\n",
    "# The best combination of hyperparameters\n",
    "model_searcher.best_params_"
   ],
   "metadata": {
    "collapsed": false,
    "ExecuteTime": {
     "end_time": "2023-06-11T12:59:18.991219400Z",
     "start_time": "2023-06-11T12:13:57.093249100Z"
    }
   }
  },
  {
   "cell_type": "code",
   "execution_count": 72,
   "outputs": [
    {
     "name": "stdout",
     "output_type": "stream",
     "text": [
      "Gradient Boosting (test data)\n",
      "Accuracy: 0.63\n",
      "Precision: 0.64\n",
      "Recall: 0.67\n",
      "F1-score: 0.65\n",
      "ROC-AUC score: 0.63\n"
     ]
    },
    {
     "data": {
      "text/plain": "<Figure size 576x576 with 2 Axes>",
      "image/png": "[encoded data removed]"
     },
     "metadata": {},
     "output_type": "display_data"
    }
   ],
   "source": [
    "# Get the best estimator\n",
    "gb_best_estimator = model_searcher.best_estimator_\n",
    "y_test_pred = gb_best_estimator.predict(X_test_preprocessed)\n",
    "\n",
    "evaluate_model(\"Gradient Boosting (test data)\", y_test, y_test_pred)"
   ],
   "metadata": {
    "collapsed": false,
    "ExecuteTime": {
     "end_time": "2023-06-11T12:59:19.103242200Z",
     "start_time": "2023-06-11T12:59:18.994339500Z"
    }
   }
  },
  {
   "cell_type": "markdown",
   "source": [
    "Random Forest model"
   ],
   "metadata": {
    "collapsed": false
   }
  },
  {
   "cell_type": "code",
   "execution_count": 73,
   "outputs": [
    {
     "data": {
      "text/plain": "{'max_depth': 4,\n 'min_samples_leaf': 3,\n 'min_samples_split': 2,\n 'n_estimators': 110}"
     },
     "execution_count": 73,
     "metadata": {},
     "output_type": "execute_result"
    }
   ],
   "source": [
    "from sklearn.ensemble import RandomForestClassifier\n",
    "\n",
    "# Define the range of values for each hyperparameter\n",
    "N_ESTIMATORS = range(50, 120, 15)\n",
    "MAX_DEPTH = range(2, 5)\n",
    "MIN_SAMPLES_SPLIT = range(2, 4)\n",
    "MIN_SAMPLES_LEAF = range(1, 5)\n",
    "\n",
    "PARAM_GRID  = {\n",
    "    'n_estimators': N_ESTIMATORS,\n",
    "    'max_depth': MAX_DEPTH,\n",
    "    'min_samples_split': MIN_SAMPLES_SPLIT,\n",
    "    'min_samples_leaf': MIN_SAMPLES_LEAF\n",
    "}\n",
    "\n",
    "# Create the random forest estimator\n",
    "estimator = RandomForestClassifier(random_state=420)\n",
    "\n",
    "# Use grid search and cross-validation to tune the hyper parameters\n",
    "model_searcher = GridSearchCV(estimator, PARAM_GRID, verbose=0)\n",
    "model_searcher.fit(X_train_preprocessed, y_train)\n",
    "\n",
    "# The best combination of hyperparameters\n",
    "model_searcher.best_params_"
   ],
   "metadata": {
    "collapsed": false,
    "ExecuteTime": {
     "end_time": "2023-06-11T13:00:48.994995400Z",
     "start_time": "2023-06-11T12:59:19.111266Z"
    }
   }
  },
  {
   "cell_type": "code",
   "execution_count": 74,
   "outputs": [
    {
     "name": "stdout",
     "output_type": "stream",
     "text": [
      "Random Forest (test data)\n",
      "Accuracy: 0.64\n",
      "Precision: 0.67\n",
      "Recall: 0.58\n",
      "F1-score: 0.62\n",
      "ROC-AUC score: 0.64\n"
     ]
    },
    {
     "data": {
      "text/plain": "<Figure size 576x576 with 2 Axes>",
      "image/png": "[encoded data removed]"
     },
     "metadata": {},
     "output_type": "display_data"
    }
   ],
   "source": [
    "rf_best_estimator = model_searcher.best_estimator_\n",
    "y_test_pred = rf_best_estimator.predict(X_test_preprocessed)\n",
    "\n",
    "evaluate_model(\"Random Forest (test data)\", y_test, y_test_pred)"
   ],
   "metadata": {
    "collapsed": false,
    "ExecuteTime": {
     "end_time": "2023-06-11T13:00:49.133967500Z",
     "start_time": "2023-06-11T13:00:48.999983600Z"
    }
   }
  },
  {
   "cell_type": "markdown",
   "source": [
    "XGBoost model"
   ],
   "metadata": {
    "collapsed": false
   }
  },
  {
   "cell_type": "code",
   "execution_count": 75,
   "outputs": [
    {
     "data": {
      "text/plain": "{'learning_rate': 0.05, 'max_depth': 1, 'n_estimators': 100}"
     },
     "execution_count": 75,
     "metadata": {},
     "output_type": "execute_result"
    }
   ],
   "source": [
    "from xgboost import XGBClassifier\n",
    "\n",
    "# Define the range of values for each hyperparameter\n",
    "LEARNING_RATE = np.linspace(0.05, 1, 10)\n",
    "MAX_DEPTH = range(1, 4)\n",
    "N_ESTIMATORS = range(70, 150, 15)\n",
    "\n",
    "PARAM_GRID  = {\n",
    "    'learning_rate': LEARNING_RATE,\n",
    "    'max_depth': MAX_DEPTH,\n",
    "    'n_estimators': N_ESTIMATORS\n",
    "}\n",
    "\n",
    "# Create the XGBoost estimator\n",
    "estimator = XGBClassifier(random_state=420)\n",
    "\n",
    "# Use grid search and cross-validation to tune the hyper parameters\n",
    "model_searcher = GridSearchCV(estimator, PARAM_GRID, verbose=0)\n",
    "model_searcher.fit(X_train_preprocessed, y_train)\n",
    "\n",
    "# The best combination of hyperparameters\n",
    "model_searcher.best_params_"
   ],
   "metadata": {
    "collapsed": false,
    "ExecuteTime": {
     "end_time": "2023-06-11T13:02:47.950212600Z",
     "start_time": "2023-06-11T13:00:49.132970500Z"
    }
   }
  },
  {
   "cell_type": "markdown",
   "source": [
    "Evaluate the best model on the test data"
   ],
   "metadata": {
    "collapsed": false
   }
  },
  {
   "cell_type": "markdown",
   "source": [],
   "metadata": {
    "collapsed": false
   }
  },
  {
   "cell_type": "code",
   "execution_count": 76,
   "outputs": [
    {
     "name": "stdout",
     "output_type": "stream",
     "text": [
      "XGBoost (test data)\n",
      "Accuracy: 0.65\n",
      "Precision: 0.67\n",
      "Recall: 0.63\n",
      "F1-score: 0.65\n",
      "ROC-AUC score: 0.65\n"
     ]
    },
    {
     "data": {
      "text/plain": "<Figure size 576x576 with 2 Axes>",
      "image/png": "[encoded data removed]"
     },
     "metadata": {},
     "output_type": "display_data"
    }
   ],
   "source": [
    "xgb_best_estimator = model_searcher.best_estimator_\n",
    "y_test_pred = xgb_best_estimator.predict(X_test_preprocessed)\n",
    "\n",
    "evaluate_model(\"XGBoost (test data)\", y_test, y_test_pred)"
   ],
   "metadata": {
    "collapsed": false,
    "ExecuteTime": {
     "end_time": "2023-06-11T13:02:48.106419700Z",
     "start_time": "2023-06-11T13:02:47.951210500Z"
    }
   }
  },
  {
   "cell_type": "markdown",
   "source": [
    "TabNetClassifier with automatic hyperparameters tuning"
   ],
   "metadata": {
    "collapsed": false
   }
  },
  {
   "cell_type": "code",
   "execution_count": 77,
   "outputs": [
    {
     "name": "stdout",
     "output_type": "stream",
     "text": [
      "Requirement already satisfied: pytorch-tabnet in c:\\users\\user\\anaconda3\\lib\\site-packages (4.0)\n",
      "Requirement already satisfied: torch<2.0,>=1.2 in c:\\users\\user\\anaconda3\\lib\\site-packages (from pytorch-tabnet) (1.13.1)\n",
      "Requirement already satisfied: tqdm<5.0,>=4.36 in c:\\users\\user\\anaconda3\\lib\\site-packages (from pytorch-tabnet) (4.62.3)\n",
      "Requirement already satisfied: scikit_learn>0.21 in c:\\users\\user\\anaconda3\\lib\\site-packages (from pytorch-tabnet) (1.2.2)\n",
      "Requirement already satisfied: numpy<2.0,>=1.17 in c:\\users\\user\\anaconda3\\lib\\site-packages (from pytorch-tabnet) (1.20.3)\n",
      "Requirement already satisfied: scipy>1.4 in c:\\users\\user\\appdata\\roaming\\python\\python39\\site-packages (from pytorch-tabnet) (1.10.1)\n",
      "Requirement already satisfied: threadpoolctl>=2.0.0 in c:\\users\\user\\anaconda3\\lib\\site-packages (from scikit_learn>0.21->pytorch-tabnet) (2.2.0)\n",
      "Requirement already satisfied: joblib>=1.1.1 in c:\\users\\user\\anaconda3\\lib\\site-packages (from scikit_learn>0.21->pytorch-tabnet) (1.2.0)\n",
      "Requirement already satisfied: typing-extensions in c:\\users\\user\\anaconda3\\lib\\site-packages (from torch<2.0,>=1.2->pytorch-tabnet) (4.4.0)\n",
      "Requirement already satisfied: colorama in c:\\users\\user\\anaconda3\\lib\\site-packages (from tqdm<5.0,>=4.36->pytorch-tabnet) (0.4.4)\n",
      "Requirement already satisfied: optuna in c:\\users\\user\\anaconda3\\lib\\site-packages (3.1.1)\n",
      "Requirement already satisfied: packaging>=20.0 in c:\\users\\user\\anaconda3\\lib\\site-packages (from optuna) (23.0)\n",
      "Requirement already satisfied: PyYAML in c:\\users\\user\\anaconda3\\lib\\site-packages (from optuna) (6.0)\n",
      "Requirement already satisfied: alembic>=1.5.0 in c:\\users\\user\\anaconda3\\lib\\site-packages (from optuna) (1.10.3)\n",
      "Requirement already satisfied: cmaes>=0.9.1 in c:\\users\\user\\anaconda3\\lib\\site-packages (from optuna) (0.9.1)\n",
      "Requirement already satisfied: colorlog in c:\\users\\user\\anaconda3\\lib\\site-packages (from optuna) (6.7.0)\n",
      "Requirement already satisfied: sqlalchemy>=1.3.0 in c:\\users\\user\\anaconda3\\lib\\site-packages (from optuna) (1.4.22)\n",
      "Requirement already satisfied: tqdm in c:\\users\\user\\anaconda3\\lib\\site-packages (from optuna) (4.62.3)\n",
      "Requirement already satisfied: numpy in c:\\users\\user\\anaconda3\\lib\\site-packages (from optuna) (1.20.3)\n",
      "Requirement already satisfied: Mako in c:\\users\\user\\anaconda3\\lib\\site-packages (from alembic>=1.5.0->optuna) (1.2.4)\n",
      "Requirement already satisfied: typing-extensions>=4 in c:\\users\\user\\anaconda3\\lib\\site-packages (from alembic>=1.5.0->optuna) (4.4.0)\n",
      "Requirement already satisfied: greenlet!=0.4.17 in c:\\users\\user\\anaconda3\\lib\\site-packages (from sqlalchemy>=1.3.0->optuna) (1.1.1)\n",
      "Requirement already satisfied: colorama in c:\\users\\user\\anaconda3\\lib\\site-packages (from colorlog->optuna) (0.4.4)\n",
      "Requirement already satisfied: MarkupSafe>=0.9.2 in c:\\users\\user\\anaconda3\\lib\\site-packages (from Mako->alembic>=1.5.0->optuna) (1.1.1)\n"
     ]
    }
   ],
   "source": [
    "!pip install pytorch-tabnet\n",
    "!pip install optuna"
   ],
   "metadata": {
    "collapsed": false,
    "ExecuteTime": {
     "end_time": "2023-06-11T13:02:52.217373200Z",
     "start_time": "2023-06-11T13:02:48.108414Z"
    }
   }
  },
  {
   "cell_type": "code",
   "execution_count": 78,
   "outputs": [],
   "source": [
    "# Convert Pandas DataFrame to NumPy array\n",
    "X_train_np = X_train_preprocessed.values\n",
    "X_test_np = X_test_preprocessed.values"
   ],
   "metadata": {
    "collapsed": false,
    "ExecuteTime": {
     "end_time": "2023-06-11T13:02:52.239879300Z",
     "start_time": "2023-06-11T13:02:52.219368200Z"
    }
   }
  },
  {
   "cell_type": "code",
   "execution_count": 79,
   "outputs": [
    {
     "name": "stderr",
     "output_type": "stream",
     "text": [
      "\u001B[32m[I 2023-06-11 16:02:52,235]\u001B[0m A new study created in memory with name: no-name-e8636c8f-81d6-4d8d-a6a2-b7dacfd7c07b\u001B[0m\n",
      "C:\\Users\\user\\anaconda3\\lib\\site-packages\\pytorch_tabnet\\callbacks.py:172: UserWarning: Best weights from best epoch are automatically used!\n",
      "  warnings.warn(wrn_msg)\n",
      "\u001B[32m[I 2023-06-11 16:02:56,590]\u001B[0m Trial 0 finished with value: 0.5991100323624595 and parameters: {'n_d': 21, 'n_a': 31, 'n_steps': 4, 'gamma': 0.5969690129853337, 'n_independent': 10, 'n_shared': 7, 'lambda_sparse': 0.08191859425188829}. Best is trial 0 with value: 0.5991100323624595.\u001B[0m\n"
     ]
    },
    {
     "name": "stdout",
     "output_type": "stream",
     "text": [
      "\n",
      "Early stopping occurred at epoch 15 with best_epoch = 5 and best_val_0_auc = 0.59911\n",
      "\n",
      "Early stopping occurred at epoch 24 with best_epoch = 14 and best_val_0_auc = 0.59102\n"
     ]
    },
    {
     "name": "stderr",
     "output_type": "stream",
     "text": [
      "C:\\Users\\user\\anaconda3\\lib\\site-packages\\pytorch_tabnet\\callbacks.py:172: UserWarning: Best weights from best epoch are automatically used!\n",
      "  warnings.warn(wrn_msg)\n",
      "\u001B[32m[I 2023-06-11 16:03:07,848]\u001B[0m Trial 1 finished with value: 0.5910194174757284 and parameters: {'n_d': 43, 'n_a': 54, 'n_steps': 9, 'gamma': 1.8302346630669597, 'n_independent': 8, 'n_shared': 2, 'lambda_sparse': 0.005025082348718958}. Best is trial 0 with value: 0.5991100323624595.\u001B[0m\n",
      "C:\\Users\\user\\anaconda3\\lib\\site-packages\\pytorch_tabnet\\callbacks.py:172: UserWarning: Best weights from best epoch are automatically used!\n",
      "  warnings.warn(wrn_msg)\n",
      "\u001B[32m[I 2023-06-11 16:03:09,583]\u001B[0m Trial 2 finished with value: 0.6090210355987055 and parameters: {'n_d': 57, 'n_a': 19, 'n_steps': 1, 'gamma': 0.15983218306825214, 'n_independent': 6, 'n_shared': 10, 'lambda_sparse': 0.015113200206222296}. Best is trial 2 with value: 0.6090210355987055.\u001B[0m\n"
     ]
    },
    {
     "name": "stdout",
     "output_type": "stream",
     "text": [
      "\n",
      "Early stopping occurred at epoch 14 with best_epoch = 4 and best_val_0_auc = 0.60902\n",
      "\n",
      "Early stopping occurred at epoch 24 with best_epoch = 14 and best_val_0_auc = 0.61367\n"
     ]
    },
    {
     "name": "stderr",
     "output_type": "stream",
     "text": [
      "C:\\Users\\user\\anaconda3\\lib\\site-packages\\pytorch_tabnet\\callbacks.py:172: UserWarning: Best weights from best epoch are automatically used!\n",
      "  warnings.warn(wrn_msg)\n",
      "\u001B[32m[I 2023-06-11 16:03:21,610]\u001B[0m Trial 3 finished with value: 0.6136731391585761 and parameters: {'n_d': 50, 'n_a': 56, 'n_steps': 5, 'gamma': 0.9295296130770874, 'n_independent': 9, 'n_shared': 9, 'lambda_sparse': 0.026182163649226806}. Best is trial 3 with value: 0.6136731391585761.\u001B[0m\n",
      "C:\\Users\\user\\anaconda3\\lib\\site-packages\\pytorch_tabnet\\callbacks.py:172: UserWarning: Best weights from best epoch are automatically used!\n",
      "  warnings.warn(wrn_msg)\n",
      "\u001B[32m[I 2023-06-11 16:03:29,190]\u001B[0m Trial 4 finished with value: 0.6465412621359223 and parameters: {'n_d': 55, 'n_a': 63, 'n_steps': 4, 'gamma': 0.11732819064241123, 'n_independent': 3, 'n_shared': 4, 'lambda_sparse': 0.03952565143053492}. Best is trial 4 with value: 0.6465412621359223.\u001B[0m\n"
     ]
    },
    {
     "name": "stdout",
     "output_type": "stream",
     "text": [
      "\n",
      "Early stopping occurred at epoch 38 with best_epoch = 28 and best_val_0_auc = 0.64654\n"
     ]
    },
    {
     "name": "stderr",
     "output_type": "stream",
     "text": [
      "C:\\Users\\user\\anaconda3\\lib\\site-packages\\pytorch_tabnet\\callbacks.py:172: UserWarning: Best weights from best epoch are automatically used!\n",
      "  warnings.warn(wrn_msg)\n",
      "\u001B[32m[I 2023-06-11 16:03:31,897]\u001B[0m Trial 5 finished with value: 0.6146844660194175 and parameters: {'n_d': 47, 'n_a': 28, 'n_steps': 5, 'gamma': 1.03026532214407, 'n_independent': 2, 'n_shared': 6, 'lambda_sparse': 0.016194923674211093}. Best is trial 4 with value: 0.6465412621359223.\u001B[0m\n"
     ]
    },
    {
     "name": "stdout",
     "output_type": "stream",
     "text": [
      "\n",
      "Early stopping occurred at epoch 12 with best_epoch = 2 and best_val_0_auc = 0.61468\n",
      "\n",
      "Early stopping occurred at epoch 12 with best_epoch = 2 and best_val_0_auc = 0.54637\n"
     ]
    },
    {
     "name": "stderr",
     "output_type": "stream",
     "text": [
      "C:\\Users\\user\\anaconda3\\lib\\site-packages\\pytorch_tabnet\\callbacks.py:172: UserWarning: Best weights from best epoch are automatically used!\n",
      "  warnings.warn(wrn_msg)\n",
      "\u001B[32m[I 2023-06-11 16:03:41,241]\u001B[0m Trial 6 finished with value: 0.5463693365695793 and parameters: {'n_d': 49, 'n_a': 56, 'n_steps': 9, 'gamma': 1.2444905620317457, 'n_independent': 5, 'n_shared': 10, 'lambda_sparse': 0.08508819552224502}. Best is trial 4 with value: 0.6465412621359223.\u001B[0m\n",
      "C:\\Users\\user\\anaconda3\\lib\\site-packages\\pytorch_tabnet\\callbacks.py:172: UserWarning: Best weights from best epoch are automatically used!\n",
      "  warnings.warn(wrn_msg)\n",
      "\u001B[32m[I 2023-06-11 16:03:43,715]\u001B[0m Trial 7 finished with value: 0.6559466019417476 and parameters: {'n_d': 11, 'n_a': 46, 'n_steps': 3, 'gamma': 1.4434642729069582, 'n_independent': 5, 'n_shared': 5, 'lambda_sparse': 0.0807346407601265}. Best is trial 7 with value: 0.6559466019417476.\u001B[0m\n"
     ]
    },
    {
     "name": "stdout",
     "output_type": "stream",
     "text": [
      "\n",
      "Early stopping occurred at epoch 17 with best_epoch = 7 and best_val_0_auc = 0.65595\n"
     ]
    },
    {
     "name": "stderr",
     "output_type": "stream",
     "text": [
      "C:\\Users\\user\\anaconda3\\lib\\site-packages\\pytorch_tabnet\\callbacks.py:172: UserWarning: Best weights from best epoch are automatically used!\n",
      "  warnings.warn(wrn_msg)\n",
      "\u001B[32m[I 2023-06-11 16:03:45,639]\u001B[0m Trial 8 finished with value: 0.5315533980582524 and parameters: {'n_d': 29, 'n_a': 13, 'n_steps': 5, 'gamma': 1.0082269088491465, 'n_independent': 1, 'n_shared': 6, 'lambda_sparse': 0.08879591593947415}. Best is trial 7 with value: 0.6559466019417476.\u001B[0m\n"
     ]
    },
    {
     "name": "stdout",
     "output_type": "stream",
     "text": [
      "\n",
      "Early stopping occurred at epoch 12 with best_epoch = 2 and best_val_0_auc = 0.53155\n"
     ]
    },
    {
     "name": "stderr",
     "output_type": "stream",
     "text": [
      "C:\\Users\\user\\anaconda3\\lib\\site-packages\\pytorch_tabnet\\callbacks.py:172: UserWarning: Best weights from best epoch are automatically used!\n",
      "  warnings.warn(wrn_msg)\n",
      "\u001B[32m[I 2023-06-11 16:03:46,696]\u001B[0m Trial 9 finished with value: 0.5923847087378642 and parameters: {'n_d': 45, 'n_a': 59, 'n_steps': 3, 'gamma': 1.2019948980400632, 'n_independent': 1, 'n_shared': 1, 'lambda_sparse': 0.010084412386043814}. Best is trial 7 with value: 0.6559466019417476.\u001B[0m\n"
     ]
    },
    {
     "name": "stdout",
     "output_type": "stream",
     "text": [
      "\n",
      "Early stopping occurred at epoch 16 with best_epoch = 6 and best_val_0_auc = 0.59238\n"
     ]
    },
    {
     "name": "stderr",
     "output_type": "stream",
     "text": [
      "C:\\Users\\user\\anaconda3\\lib\\site-packages\\pytorch_tabnet\\callbacks.py:172: UserWarning: Best weights from best epoch are automatically used!\n",
      "  warnings.warn(wrn_msg)\n",
      "\u001B[32m[I 2023-06-11 16:03:47,576]\u001B[0m Trial 10 finished with value: 0.5941039644012945 and parameters: {'n_d': 8, 'n_a': 43, 'n_steps': 1, 'gamma': 1.7668672752539336, 'n_independent': 5, 'n_shared': 4, 'lambda_sparse': 0.06313640097155587}. Best is trial 7 with value: 0.6559466019417476.\u001B[0m\n"
     ]
    },
    {
     "name": "stdout",
     "output_type": "stream",
     "text": [
      "\n",
      "Early stopping occurred at epoch 13 with best_epoch = 3 and best_val_0_auc = 0.5941\n"
     ]
    },
    {
     "name": "stderr",
     "output_type": "stream",
     "text": [
      "C:\\Users\\user\\anaconda3\\lib\\site-packages\\pytorch_tabnet\\callbacks.py:172: UserWarning: Best weights from best epoch are automatically used!\n",
      "  warnings.warn(wrn_msg)\n",
      "\u001B[32m[I 2023-06-11 16:03:50,555]\u001B[0m Trial 11 finished with value: 0.643456715210356 and parameters: {'n_d': 61, 'n_a': 43, 'n_steps': 7, 'gamma': 0.144060773558621, 'n_independent': 3, 'n_shared': 4, 'lambda_sparse': 0.05158744779267876}. Best is trial 7 with value: 0.6559466019417476.\u001B[0m\n"
     ]
    },
    {
     "name": "stdout",
     "output_type": "stream",
     "text": [
      "\n",
      "Early stopping occurred at epoch 10 with best_epoch = 0 and best_val_0_auc = 0.64346\n"
     ]
    },
    {
     "name": "stderr",
     "output_type": "stream",
     "text": [
      "C:\\Users\\user\\anaconda3\\lib\\site-packages\\pytorch_tabnet\\callbacks.py:172: UserWarning: Best weights from best epoch are automatically used!\n",
      "  warnings.warn(wrn_msg)\n",
      "\u001B[32m[I 2023-06-11 16:03:53,661]\u001B[0m Trial 12 finished with value: 0.6422936893203884 and parameters: {'n_d': 8, 'n_a': 44, 'n_steps': 3, 'gamma': 1.5258243391408324, 'n_independent': 4, 'n_shared': 4, 'lambda_sparse': 0.038442955755781695}. Best is trial 7 with value: 0.6559466019417476.\u001B[0m\n"
     ]
    },
    {
     "name": "stdout",
     "output_type": "stream",
     "text": [
      "\n",
      "Early stopping occurred at epoch 27 with best_epoch = 17 and best_val_0_auc = 0.64229\n"
     ]
    },
    {
     "name": "stderr",
     "output_type": "stream",
     "text": [
      "C:\\Users\\user\\anaconda3\\lib\\site-packages\\pytorch_tabnet\\callbacks.py:172: UserWarning: Best weights from best epoch are automatically used!\n",
      "  warnings.warn(wrn_msg)\n",
      "\u001B[32m[I 2023-06-11 16:03:59,559]\u001B[0m Trial 13 finished with value: 0.6429004854368932 and parameters: {'n_d': 33, 'n_a': 64, 'n_steps': 3, 'gamma': 0.6441982453515256, 'n_independent': 7, 'n_shared': 3, 'lambda_sparse': 0.0987931764600959}. Best is trial 7 with value: 0.6559466019417476.\u001B[0m\n"
     ]
    },
    {
     "name": "stdout",
     "output_type": "stream",
     "text": [
      "\n",
      "Early stopping occurred at epoch 32 with best_epoch = 22 and best_val_0_auc = 0.6429\n"
     ]
    },
    {
     "name": "stderr",
     "output_type": "stream",
     "text": [
      "C:\\Users\\user\\anaconda3\\lib\\site-packages\\pytorch_tabnet\\callbacks.py:172: UserWarning: Best weights from best epoch are automatically used!\n",
      "  warnings.warn(wrn_msg)\n",
      "\u001B[32m[I 2023-06-11 16:04:06,987]\u001B[0m Trial 14 finished with value: 0.5807038834951457 and parameters: {'n_d': 20, 'n_a': 47, 'n_steps': 7, 'gamma': 1.4935460127833209, 'n_independent': 3, 'n_shared': 8, 'lambda_sparse': 0.06736495569963974}. Best is trial 7 with value: 0.6559466019417476.\u001B[0m\n"
     ]
    },
    {
     "name": "stdout",
     "output_type": "stream",
     "text": [
      "\n",
      "Early stopping occurred at epoch 22 with best_epoch = 12 and best_val_0_auc = 0.5807\n"
     ]
    },
    {
     "name": "stderr",
     "output_type": "stream",
     "text": [
      "C:\\Users\\user\\anaconda3\\lib\\site-packages\\pytorch_tabnet\\callbacks.py:172: UserWarning: Best weights from best epoch are automatically used!\n",
      "  warnings.warn(wrn_msg)\n",
      "\u001B[32m[I 2023-06-11 16:04:10,746]\u001B[0m Trial 15 finished with value: 0.6360234627831716 and parameters: {'n_d': 64, 'n_a': 64, 'n_steps': 2, 'gamma': 1.9912491865678166, 'n_independent': 4, 'n_shared': 5, 'lambda_sparse': 0.03846299030291496}. Best is trial 7 with value: 0.6559466019417476.\u001B[0m\n"
     ]
    },
    {
     "name": "stdout",
     "output_type": "stream",
     "text": [
      "\n",
      "Early stopping occurred at epoch 19 with best_epoch = 9 and best_val_0_auc = 0.63602\n"
     ]
    },
    {
     "name": "stderr",
     "output_type": "stream",
     "text": [
      "C:\\Users\\user\\anaconda3\\lib\\site-packages\\pytorch_tabnet\\callbacks.py:172: UserWarning: Best weights from best epoch are automatically used!\n",
      "  warnings.warn(wrn_msg)\n",
      "\u001B[32m[I 2023-06-11 16:04:18,607]\u001B[0m Trial 16 finished with value: 0.6432038834951457 and parameters: {'n_d': 21, 'n_a': 49, 'n_steps': 7, 'gamma': 0.3966651082465257, 'n_independent': 6, 'n_shared': 2, 'lambda_sparse': 0.06348824779752922}. Best is trial 7 with value: 0.6559466019417476.\u001B[0m\n"
     ]
    },
    {
     "name": "stdout",
     "output_type": "stream",
     "text": [
      "\n",
      "Early stopping occurred at epoch 30 with best_epoch = 20 and best_val_0_auc = 0.6432\n"
     ]
    },
    {
     "name": "stderr",
     "output_type": "stream",
     "text": [
      "C:\\Users\\user\\anaconda3\\lib\\site-packages\\pytorch_tabnet\\callbacks.py:172: UserWarning: Best weights from best epoch are automatically used!\n",
      "  warnings.warn(wrn_msg)\n",
      "\u001B[32m[I 2023-06-11 16:04:20,688]\u001B[0m Trial 17 finished with value: 0.5882888349514563 and parameters: {'n_d': 36, 'n_a': 36, 'n_steps': 4, 'gamma': 0.7602093751429722, 'n_independent': 3, 'n_shared': 5, 'lambda_sparse': 0.04977385691491463}. Best is trial 7 with value: 0.6559466019417476.\u001B[0m\n"
     ]
    },
    {
     "name": "stdout",
     "output_type": "stream",
     "text": [
      "\n",
      "Early stopping occurred at epoch 12 with best_epoch = 2 and best_val_0_auc = 0.58829\n",
      "\n",
      "Early stopping occurred at epoch 24 with best_epoch = 14 and best_val_0_auc = 0.5896\n"
     ]
    },
    {
     "name": "stderr",
     "output_type": "stream",
     "text": [
      "C:\\Users\\user\\anaconda3\\lib\\site-packages\\pytorch_tabnet\\callbacks.py:172: UserWarning: Best weights from best epoch are automatically used!\n",
      "  warnings.warn(wrn_msg)\n",
      "\u001B[32m[I 2023-06-11 16:04:29,544]\u001B[0m Trial 18 finished with value: 0.5896035598705502 and parameters: {'n_d': 29, 'n_a': 37, 'n_steps': 6, 'gamma': 0.38482618741964325, 'n_independent': 7, 'n_shared': 7, 'lambda_sparse': 0.07449262017706004}. Best is trial 7 with value: 0.6559466019417476.\u001B[0m\n",
      "C:\\Users\\user\\anaconda3\\lib\\site-packages\\pytorch_tabnet\\callbacks.py:172: UserWarning: Best weights from best epoch are automatically used!\n",
      "  warnings.warn(wrn_msg)\n",
      "\u001B[32m[I 2023-06-11 16:04:31,846]\u001B[0m Trial 19 finished with value: 0.6314724919093851 and parameters: {'n_d': 55, 'n_a': 50, 'n_steps': 2, 'gamma': 1.2408524937167305, 'n_independent': 4, 'n_shared': 3, 'lambda_sparse': 0.09734770771301039}. Best is trial 7 with value: 0.6559466019417476.\u001B[0m\n"
     ]
    },
    {
     "name": "stdout",
     "output_type": "stream",
     "text": [
      "\n",
      "Early stopping occurred at epoch 22 with best_epoch = 12 and best_val_0_auc = 0.63147\n"
     ]
    },
    {
     "name": "stderr",
     "output_type": "stream",
     "text": [
      "C:\\Users\\user\\anaconda3\\lib\\site-packages\\pytorch_tabnet\\callbacks.py:172: UserWarning: Best weights from best epoch are automatically used!\n",
      "  warnings.warn(wrn_msg)\n",
      "\u001B[32m[I 2023-06-11 16:04:35,501]\u001B[0m Trial 20 finished with value: 0.5410598705501619 and parameters: {'n_d': 15, 'n_a': 24, 'n_steps': 10, 'gamma': 0.8347866535655877, 'n_independent': 2, 'n_shared': 7, 'lambda_sparse': 0.07853426899602264}. Best is trial 7 with value: 0.6559466019417476.\u001B[0m\n"
     ]
    },
    {
     "name": "stdout",
     "output_type": "stream",
     "text": [
      "\n",
      "Early stopping occurred at epoch 10 with best_epoch = 0 and best_val_0_auc = 0.54106\n"
     ]
    },
    {
     "name": "stderr",
     "output_type": "stream",
     "text": [
      "C:\\Users\\user\\anaconda3\\lib\\site-packages\\pytorch_tabnet\\callbacks.py:172: UserWarning: Best weights from best epoch are automatically used!\n",
      "  warnings.warn(wrn_msg)\n",
      "\u001B[32m[I 2023-06-11 16:04:39,297]\u001B[0m Trial 21 finished with value: 0.6204490291262137 and parameters: {'n_d': 61, 'n_a': 39, 'n_steps': 7, 'gamma': 0.12492045503052716, 'n_independent': 3, 'n_shared': 4, 'lambda_sparse': 0.051865978728546556}. Best is trial 7 with value: 0.6559466019417476.\u001B[0m\n"
     ]
    },
    {
     "name": "stdout",
     "output_type": "stream",
     "text": [
      "\n",
      "Early stopping occurred at epoch 13 with best_epoch = 3 and best_val_0_auc = 0.62045\n"
     ]
    },
    {
     "name": "stderr",
     "output_type": "stream",
     "text": [
      "C:\\Users\\user\\anaconda3\\lib\\site-packages\\pytorch_tabnet\\callbacks.py:172: UserWarning: Best weights from best epoch are automatically used!\n",
      "  warnings.warn(wrn_msg)\n",
      "\u001B[32m[I 2023-06-11 16:04:42,026]\u001B[0m Trial 22 finished with value: 0.5962783171521036 and parameters: {'n_d': 56, 'n_a': 42, 'n_steps': 6, 'gamma': 0.27193123325320756, 'n_independent': 2, 'n_shared': 5, 'lambda_sparse': 0.05169001630031938}. Best is trial 7 with value: 0.6559466019417476.\u001B[0m\n"
     ]
    },
    {
     "name": "stdout",
     "output_type": "stream",
     "text": [
      "\n",
      "Early stopping occurred at epoch 11 with best_epoch = 1 and best_val_0_auc = 0.59628\n"
     ]
    },
    {
     "name": "stderr",
     "output_type": "stream",
     "text": [
      "C:\\Users\\user\\anaconda3\\lib\\site-packages\\pytorch_tabnet\\callbacks.py:172: UserWarning: Best weights from best epoch are automatically used!\n",
      "  warnings.warn(wrn_msg)\n",
      "\u001B[32m[I 2023-06-11 16:04:45,596]\u001B[0m Trial 23 finished with value: 0.6159991909385113 and parameters: {'n_d': 42, 'n_a': 33, 'n_steps': 8, 'gamma': 0.37833041963394576, 'n_independent': 4, 'n_shared': 3, 'lambda_sparse': 0.07145383761764117}. Best is trial 7 with value: 0.6559466019417476.\u001B[0m\n"
     ]
    },
    {
     "name": "stdout",
     "output_type": "stream",
     "text": [
      "\n",
      "Early stopping occurred at epoch 12 with best_epoch = 2 and best_val_0_auc = 0.616\n"
     ]
    },
    {
     "name": "stderr",
     "output_type": "stream",
     "text": [
      "C:\\Users\\user\\anaconda3\\lib\\site-packages\\pytorch_tabnet\\callbacks.py:172: UserWarning: Best weights from best epoch are automatically used!\n",
      "  warnings.warn(wrn_msg)\n",
      "\u001B[32m[I 2023-06-11 16:04:48,833]\u001B[0m Trial 24 finished with value: 0.6210558252427185 and parameters: {'n_d': 60, 'n_a': 51, 'n_steps': 4, 'gamma': 0.5393844702785258, 'n_independent': 5, 'n_shared': 4, 'lambda_sparse': 0.060632270477366704}. Best is trial 7 with value: 0.6559466019417476.\u001B[0m\n"
     ]
    },
    {
     "name": "stdout",
     "output_type": "stream",
     "text": [
      "\n",
      "Early stopping occurred at epoch 14 with best_epoch = 4 and best_val_0_auc = 0.62106\n"
     ]
    },
    {
     "name": "stderr",
     "output_type": "stream",
     "text": [
      "C:\\Users\\user\\anaconda3\\lib\\site-packages\\pytorch_tabnet\\callbacks.py:172: UserWarning: Best weights from best epoch are automatically used!\n",
      "  warnings.warn(wrn_msg)\n",
      "\u001B[32m[I 2023-06-11 16:04:51,495]\u001B[0m Trial 25 finished with value: 0.6316747572815533 and parameters: {'n_d': 64, 'n_a': 8, 'n_steps': 2, 'gamma': 0.19777384901110423, 'n_independent': 3, 'n_shared': 6, 'lambda_sparse': 0.03639223430785774}. Best is trial 7 with value: 0.6559466019417476.\u001B[0m\n"
     ]
    },
    {
     "name": "stdout",
     "output_type": "stream",
     "text": [
      "\n",
      "Early stopping occurred at epoch 25 with best_epoch = 15 and best_val_0_auc = 0.63167\n"
     ]
    },
    {
     "name": "stderr",
     "output_type": "stream",
     "text": [
      "C:\\Users\\user\\anaconda3\\lib\\site-packages\\pytorch_tabnet\\callbacks.py:172: UserWarning: Best weights from best epoch are automatically used!\n",
      "  warnings.warn(wrn_msg)\n",
      "\u001B[32m[I 2023-06-11 16:04:55,985]\u001B[0m Trial 26 finished with value: 0.6658576051779935 and parameters: {'n_d': 54, 'n_a': 61, 'n_steps': 6, 'gamma': 0.2975023574043639, 'n_independent': 2, 'n_shared': 2, 'lambda_sparse': 0.05588430558820415}. Best is trial 26 with value: 0.6658576051779935.\u001B[0m\n"
     ]
    },
    {
     "name": "stdout",
     "output_type": "stream",
     "text": [
      "\n",
      "Early stopping occurred at epoch 23 with best_epoch = 13 and best_val_0_auc = 0.66586\n"
     ]
    },
    {
     "name": "stderr",
     "output_type": "stream",
     "text": [
      "C:\\Users\\user\\anaconda3\\lib\\site-packages\\pytorch_tabnet\\callbacks.py:172: UserWarning: Best weights from best epoch are automatically used!\n",
      "  warnings.warn(wrn_msg)\n",
      "\u001B[32m[I 2023-06-11 16:04:57,345]\u001B[0m Trial 27 finished with value: 0.6035598705501618 and parameters: {'n_d': 52, 'n_a': 60, 'n_steps': 4, 'gamma': 0.29945580086352197, 'n_independent': 1, 'n_shared': 1, 'lambda_sparse': 0.07408447942688862}. Best is trial 26 with value: 0.6658576051779935.\u001B[0m\n"
     ]
    },
    {
     "name": "stdout",
     "output_type": "stream",
     "text": [
      "\n",
      "Early stopping occurred at epoch 14 with best_epoch = 4 and best_val_0_auc = 0.60356\n"
     ]
    },
    {
     "name": "stderr",
     "output_type": "stream",
     "text": [
      "C:\\Users\\user\\anaconda3\\lib\\site-packages\\pytorch_tabnet\\callbacks.py:172: UserWarning: Best weights from best epoch are automatically used!\n",
      "  warnings.warn(wrn_msg)\n",
      "\u001B[32m[I 2023-06-11 16:04:59,205]\u001B[0m Trial 28 finished with value: 0.6182241100323626 and parameters: {'n_d': 40, 'n_a': 62, 'n_steps': 6, 'gamma': 0.5415039950793055, 'n_independent': 2, 'n_shared': 2, 'lambda_sparse': 0.05851961649830555}. Best is trial 26 with value: 0.6658576051779935.\u001B[0m\n"
     ]
    },
    {
     "name": "stdout",
     "output_type": "stream",
     "text": [
      "\n",
      "Early stopping occurred at epoch 10 with best_epoch = 0 and best_val_0_auc = 0.61822\n"
     ]
    },
    {
     "name": "stderr",
     "output_type": "stream",
     "text": [
      "C:\\Users\\user\\anaconda3\\lib\\site-packages\\pytorch_tabnet\\callbacks.py:172: UserWarning: Best weights from best epoch are automatically used!\n",
      "  warnings.warn(wrn_msg)\n",
      "\u001B[32m[I 2023-06-11 16:05:07,284]\u001B[0m Trial 29 finished with value: 0.6771844660194175 and parameters: {'n_d': 53, 'n_a': 53, 'n_steps': 3, 'gamma': 0.10540822584871713, 'n_independent': 10, 'n_shared': 3, 'lambda_sparse': 0.08130776933405176}. Best is trial 29 with value: 0.6771844660194175.\u001B[0m\n"
     ]
    },
    {
     "name": "stdout",
     "output_type": "stream",
     "text": [
      "\n",
      "Early stopping occurred at epoch 35 with best_epoch = 25 and best_val_0_auc = 0.67718\n"
     ]
    },
    {
     "name": "stderr",
     "output_type": "stream",
     "text": [
      "C:\\Users\\user\\anaconda3\\lib\\site-packages\\pytorch_tabnet\\callbacks.py:172: UserWarning: Best weights from best epoch are automatically used!\n",
      "  warnings.warn(wrn_msg)\n",
      "\u001B[32m[I 2023-06-11 16:05:11,457]\u001B[0m Trial 30 finished with value: 0.6388551779935275 and parameters: {'n_d': 15, 'n_a': 53, 'n_steps': 3, 'gamma': 0.6036476098891619, 'n_independent': 10, 'n_shared': 2, 'lambda_sparse': 0.08277313536726194}. Best is trial 29 with value: 0.6771844660194175.\u001B[0m\n"
     ]
    },
    {
     "name": "stdout",
     "output_type": "stream",
     "text": [
      "\n",
      "Early stopping occurred at epoch 24 with best_epoch = 14 and best_val_0_auc = 0.63886\n"
     ]
    },
    {
     "name": "stderr",
     "output_type": "stream",
     "text": [
      "C:\\Users\\user\\anaconda3\\lib\\site-packages\\pytorch_tabnet\\callbacks.py:172: UserWarning: Best weights from best epoch are automatically used!\n",
      "  warnings.warn(wrn_msg)\n",
      "\u001B[32m[I 2023-06-11 16:05:24,086]\u001B[0m Trial 31 finished with value: 0.6741504854368933 and parameters: {'n_d': 52, 'n_a': 58, 'n_steps': 4, 'gamma': 0.2506390192079628, 'n_independent': 10, 'n_shared': 3, 'lambda_sparse': 0.07921637066119558}. Best is trial 29 with value: 0.6771844660194175.\u001B[0m\n"
     ]
    },
    {
     "name": "stdout",
     "output_type": "stream",
     "text": [
      "\n",
      "Early stopping occurred at epoch 41 with best_epoch = 31 and best_val_0_auc = 0.67415\n"
     ]
    },
    {
     "name": "stderr",
     "output_type": "stream",
     "text": [
      "C:\\Users\\user\\anaconda3\\lib\\site-packages\\pytorch_tabnet\\callbacks.py:172: UserWarning: Best weights from best epoch are automatically used!\n",
      "  warnings.warn(wrn_msg)\n",
      "\u001B[32m[I 2023-06-11 16:05:29,979]\u001B[0m Trial 32 finished with value: 0.6453276699029126 and parameters: {'n_d': 51, 'n_a': 59, 'n_steps': 4, 'gamma': 0.41653618323230596, 'n_independent': 10, 'n_shared': 3, 'lambda_sparse': 0.09073891574859523}. Best is trial 29 with value: 0.6771844660194175.\u001B[0m\n"
     ]
    },
    {
     "name": "stdout",
     "output_type": "stream",
     "text": [
      "\n",
      "Early stopping occurred at epoch 17 with best_epoch = 7 and best_val_0_auc = 0.64533\n"
     ]
    },
    {
     "name": "stderr",
     "output_type": "stream",
     "text": [
      "C:\\Users\\user\\anaconda3\\lib\\site-packages\\pytorch_tabnet\\callbacks.py:172: UserWarning: Best weights from best epoch are automatically used!\n",
      "  warnings.warn(wrn_msg)\n",
      "\u001B[32m[I 2023-06-11 16:05:33,198]\u001B[0m Trial 33 finished with value: 0.6258090614886732 and parameters: {'n_d': 39, 'n_a': 55, 'n_steps': 2, 'gamma': 0.30225031181558965, 'n_independent': 9, 'n_shared': 1, 'lambda_sparse': 0.07876776691432573}. Best is trial 29 with value: 0.6771844660194175.\u001B[0m\n"
     ]
    },
    {
     "name": "stdout",
     "output_type": "stream",
     "text": [
      "\n",
      "Early stopping occurred at epoch 23 with best_epoch = 13 and best_val_0_auc = 0.62581\n"
     ]
    },
    {
     "name": "stderr",
     "output_type": "stream",
     "text": [
      "C:\\Users\\user\\anaconda3\\lib\\site-packages\\pytorch_tabnet\\callbacks.py:172: UserWarning: Best weights from best epoch are automatically used!\n",
      "  warnings.warn(wrn_msg)\n",
      "\u001B[32m[I 2023-06-11 16:05:42,196]\u001B[0m Trial 34 finished with value: 0.6646440129449839 and parameters: {'n_d': 46, 'n_a': 47, 'n_steps': 5, 'gamma': 0.4952041512893205, 'n_independent': 9, 'n_shared': 2, 'lambda_sparse': 0.06889405109234317}. Best is trial 29 with value: 0.6771844660194175.\u001B[0m\n"
     ]
    },
    {
     "name": "stdout",
     "output_type": "stream",
     "text": [
      "\n",
      "Early stopping occurred at epoch 30 with best_epoch = 20 and best_val_0_auc = 0.66464\n"
     ]
    },
    {
     "name": "stderr",
     "output_type": "stream",
     "text": [
      "C:\\Users\\user\\anaconda3\\lib\\site-packages\\pytorch_tabnet\\callbacks.py:172: UserWarning: Best weights from best epoch are automatically used!\n",
      "  warnings.warn(wrn_msg)\n",
      "\u001B[32m[I 2023-06-11 16:05:51,045]\u001B[0m Trial 35 finished with value: 0.6715210355987056 and parameters: {'n_d': 45, 'n_a': 57, 'n_steps': 5, 'gamma': 0.23707294556616565, 'n_independent': 9, 'n_shared': 2, 'lambda_sparse': 0.06919780258499333}. Best is trial 29 with value: 0.6771844660194175.\u001B[0m\n"
     ]
    },
    {
     "name": "stdout",
     "output_type": "stream",
     "text": [
      "\n",
      "Early stopping occurred at epoch 28 with best_epoch = 18 and best_val_0_auc = 0.67152\n"
     ]
    },
    {
     "name": "stderr",
     "output_type": "stream",
     "text": [
      "C:\\Users\\user\\anaconda3\\lib\\site-packages\\pytorch_tabnet\\callbacks.py:172: UserWarning: Best weights from best epoch are automatically used!\n",
      "  warnings.warn(wrn_msg)\n",
      "\u001B[32m[I 2023-06-11 16:05:58,962]\u001B[0m Trial 36 finished with value: 0.6169093851132685 and parameters: {'n_d': 53, 'n_a': 57, 'n_steps': 5, 'gamma': 0.24844963371215026, 'n_independent': 8, 'n_shared': 2, 'lambda_sparse': 0.07539761106887855}. Best is trial 29 with value: 0.6771844660194175.\u001B[0m\n"
     ]
    },
    {
     "name": "stdout",
     "output_type": "stream",
     "text": [
      "\n",
      "Early stopping occurred at epoch 25 with best_epoch = 15 and best_val_0_auc = 0.61691\n",
      "\n",
      "Early stopping occurred at epoch 14 with best_epoch = 4 and best_val_0_auc = 0.63572\n"
     ]
    },
    {
     "name": "stderr",
     "output_type": "stream",
     "text": [
      "C:\\Users\\user\\anaconda3\\lib\\site-packages\\pytorch_tabnet\\callbacks.py:172: UserWarning: Best weights from best epoch are automatically used!\n",
      "  warnings.warn(wrn_msg)\n",
      "\u001B[32m[I 2023-06-11 16:06:04,645]\u001B[0m Trial 37 finished with value: 0.6357200647249192 and parameters: {'n_d': 49, 'n_a': 52, 'n_steps': 6, 'gamma': 0.10673431298956887, 'n_independent': 10, 'n_shared': 1, 'lambda_sparse': 0.0681279363669548}. Best is trial 29 with value: 0.6771844660194175.\u001B[0m\n"
     ]
    },
    {
     "name": "stdout",
     "output_type": "stream",
     "text": [
      "\n",
      "Early stopping occurred at epoch 18 with best_epoch = 8 and best_val_0_auc = 0.589\n"
     ]
    },
    {
     "name": "stderr",
     "output_type": "stream",
     "text": [
      "C:\\Users\\user\\anaconda3\\lib\\site-packages\\pytorch_tabnet\\callbacks.py:172: UserWarning: Best weights from best epoch are automatically used!\n",
      "  warnings.warn(wrn_msg)\n",
      "\u001B[32m[I 2023-06-11 16:06:11,582]\u001B[0m Trial 38 finished with value: 0.5889967637540454 and parameters: {'n_d': 58, 'n_a': 60, 'n_steps': 5, 'gamma': 0.2221509918281748, 'n_independent': 8, 'n_shared': 3, 'lambda_sparse': 0.08558259198062301}. Best is trial 29 with value: 0.6771844660194175.\u001B[0m\n",
      "C:\\Users\\user\\anaconda3\\lib\\site-packages\\pytorch_tabnet\\callbacks.py:172: UserWarning: Best weights from best epoch are automatically used!\n",
      "  warnings.warn(wrn_msg)\n",
      "\u001B[32m[I 2023-06-11 16:06:12,827]\u001B[0m Trial 39 finished with value: 0.5918790453074434 and parameters: {'n_d': 44, 'n_a': 56, 'n_steps': 1, 'gamma': 0.21482942972059343, 'n_independent': 9, 'n_shared': 2, 'lambda_sparse': 0.07855133767229107}. Best is trial 29 with value: 0.6771844660194175.\u001B[0m\n"
     ]
    },
    {
     "name": "stdout",
     "output_type": "stream",
     "text": [
      "\n",
      "Early stopping occurred at epoch 11 with best_epoch = 1 and best_val_0_auc = 0.59188\n",
      "\n",
      "Early stopping occurred at epoch 24 with best_epoch = 14 and best_val_0_auc = 0.64624\n"
     ]
    },
    {
     "name": "stderr",
     "output_type": "stream",
     "text": [
      "C:\\Users\\user\\anaconda3\\lib\\site-packages\\pytorch_tabnet\\callbacks.py:172: UserWarning: Best weights from best epoch are automatically used!\n",
      "  warnings.warn(wrn_msg)\n",
      "\u001B[32m[I 2023-06-11 16:06:27,214]\u001B[0m Trial 40 finished with value: 0.6462378640776698 and parameters: {'n_d': 49, 'n_a': 58, 'n_steps': 8, 'gamma': 0.3201604527018435, 'n_independent': 10, 'n_shared': 3, 'lambda_sparse': 0.0906880426617218}. Best is trial 29 with value: 0.6771844660194175.\u001B[0m\n"
     ]
    },
    {
     "name": "stdout",
     "output_type": "stream",
     "text": [
      "\n",
      "Early stopping occurred at epoch 34 with best_epoch = 24 and best_val_0_auc = 0.64452\n"
     ]
    },
    {
     "name": "stderr",
     "output_type": "stream",
     "text": [
      "C:\\Users\\user\\anaconda3\\lib\\site-packages\\pytorch_tabnet\\callbacks.py:172: UserWarning: Best weights from best epoch are automatically used!\n",
      "  warnings.warn(wrn_msg)\n",
      "\u001B[32m[I 2023-06-11 16:06:37,739]\u001B[0m Trial 41 finished with value: 0.6445186084142396 and parameters: {'n_d': 46, 'n_a': 54, 'n_steps': 5, 'gamma': 0.46597118418931127, 'n_independent': 9, 'n_shared': 2, 'lambda_sparse': 0.06922712393331518}. Best is trial 29 with value: 0.6771844660194175.\u001B[0m\n",
      "C:\\Users\\user\\anaconda3\\lib\\site-packages\\pytorch_tabnet\\abstract_model.py:75: UserWarning: Device used : cpu\n",
      "  warnings.warn(f\"Device used : {self.device}\")\n",
      "C:\\Users\\user\\anaconda3\\lib\\site-packages\\pytorch_tabnet\\abstract_model.py:651: UserWarning: No early stopping will be performed, last training weights will be used.\n",
      "  warnings.warn(wrn_msg)\n"
     ]
    },
    {
     "name": "stdout",
     "output_type": "stream",
     "text": [
      "epoch 0  | loss: 1.67099 |  0:00:00s\n",
      "epoch 1  | loss: 1.18213 |  0:00:00s\n",
      "epoch 2  | loss: 1.28859 |  0:00:00s\n",
      "epoch 3  | loss: 1.1315  |  0:00:00s\n",
      "epoch 4  | loss: 1.12883 |  0:00:00s\n",
      "epoch 5  | loss: 1.03675 |  0:00:01s\n",
      "epoch 6  | loss: 1.0192  |  0:00:01s\n",
      "epoch 7  | loss: 0.99084 |  0:00:01s\n",
      "epoch 8  | loss: 1.00481 |  0:00:01s\n",
      "epoch 9  | loss: 1.02452 |  0:00:01s\n",
      "epoch 10 | loss: 0.93862 |  0:00:02s\n",
      "epoch 11 | loss: 0.95008 |  0:00:02s\n",
      "epoch 12 | loss: 0.96485 |  0:00:02s\n",
      "epoch 13 | loss: 0.9466  |  0:00:02s\n",
      "epoch 14 | loss: 0.96858 |  0:00:02s\n",
      "epoch 15 | loss: 0.93383 |  0:00:03s\n",
      "epoch 16 | loss: 0.99997 |  0:00:03s\n",
      "epoch 17 | loss: 0.95118 |  0:00:03s\n",
      "epoch 18 | loss: 0.91274 |  0:00:03s\n",
      "epoch 19 | loss: 0.90284 |  0:00:03s\n",
      "epoch 20 | loss: 0.90345 |  0:00:03s\n",
      "epoch 21 | loss: 0.86735 |  0:00:04s\n",
      "epoch 22 | loss: 0.88931 |  0:00:04s\n",
      "epoch 23 | loss: 0.86741 |  0:00:04s\n",
      "epoch 24 | loss: 0.85958 |  0:00:04s\n",
      "epoch 25 | loss: 0.87495 |  0:00:04s\n",
      "epoch 26 | loss: 0.87205 |  0:00:05s\n",
      "epoch 27 | loss: 0.88485 |  0:00:05s\n",
      "epoch 28 | loss: 0.90248 |  0:00:05s\n",
      "epoch 29 | loss: 0.87338 |  0:00:05s\n",
      "epoch 30 | loss: 0.87195 |  0:00:05s\n",
      "epoch 31 | loss: 0.87445 |  0:00:06s\n",
      "epoch 32 | loss: 0.842   |  0:00:06s\n",
      "epoch 33 | loss: 0.84893 |  0:00:06s\n",
      "epoch 34 | loss: 0.8482  |  0:00:06s\n",
      "epoch 35 | loss: 0.81858 |  0:00:06s\n",
      "epoch 36 | loss: 0.80228 |  0:00:06s\n",
      "epoch 37 | loss: 0.78447 |  0:00:07s\n",
      "epoch 38 | loss: 0.78154 |  0:00:07s\n",
      "epoch 39 | loss: 0.76541 |  0:00:07s\n",
      "epoch 40 | loss: 0.76323 |  0:00:07s\n",
      "epoch 41 | loss: 0.74314 |  0:00:07s\n",
      "epoch 42 | loss: 0.74613 |  0:00:08s\n",
      "epoch 43 | loss: 0.73757 |  0:00:08s\n",
      "epoch 44 | loss: 0.72778 |  0:00:08s\n",
      "epoch 45 | loss: 0.71205 |  0:00:08s\n",
      "epoch 46 | loss: 0.70976 |  0:00:08s\n",
      "epoch 47 | loss: 0.69519 |  0:00:09s\n",
      "epoch 48 | loss: 0.70117 |  0:00:09s\n",
      "epoch 49 | loss: 0.67404 |  0:00:09s\n",
      "epoch 50 | loss: 0.66502 |  0:00:09s\n",
      "epoch 51 | loss: 0.65233 |  0:00:09s\n",
      "epoch 52 | loss: 0.64413 |  0:00:10s\n",
      "epoch 53 | loss: 0.64235 |  0:00:10s\n",
      "epoch 54 | loss: 0.63306 |  0:00:10s\n",
      "epoch 55 | loss: 0.60221 |  0:00:10s\n",
      "epoch 56 | loss: 0.60628 |  0:00:10s\n",
      "epoch 57 | loss: 0.60672 |  0:00:10s\n",
      "epoch 58 | loss: 0.60029 |  0:00:11s\n",
      "epoch 59 | loss: 0.59867 |  0:00:11s\n",
      "epoch 60 | loss: 0.5966  |  0:00:11s\n",
      "epoch 61 | loss: 0.5756  |  0:00:11s\n",
      "epoch 62 | loss: 0.55894 |  0:00:11s\n",
      "epoch 63 | loss: 0.54743 |  0:00:12s\n",
      "epoch 64 | loss: 0.55192 |  0:00:12s\n",
      "epoch 65 | loss: 0.54675 |  0:00:12s\n",
      "epoch 66 | loss: 0.51613 |  0:00:12s\n",
      "epoch 67 | loss: 0.52106 |  0:00:12s\n",
      "epoch 68 | loss: 0.51542 |  0:00:13s\n",
      "epoch 69 | loss: 0.53033 |  0:00:13s\n",
      "epoch 70 | loss: 0.52262 |  0:00:13s\n",
      "epoch 71 | loss: 0.51064 |  0:00:13s\n",
      "epoch 72 | loss: 0.50502 |  0:00:13s\n",
      "epoch 73 | loss: 0.47467 |  0:00:14s\n",
      "epoch 74 | loss: 0.50025 |  0:00:14s\n",
      "epoch 75 | loss: 0.4646  |  0:00:14s\n",
      "epoch 76 | loss: 0.46452 |  0:00:14s\n",
      "epoch 77 | loss: 0.44711 |  0:00:14s\n",
      "epoch 78 | loss: 0.46344 |  0:00:14s\n",
      "epoch 79 | loss: 0.44745 |  0:00:15s\n",
      "epoch 80 | loss: 0.44321 |  0:00:15s\n",
      "epoch 81 | loss: 0.48431 |  0:00:15s\n",
      "epoch 82 | loss: 0.45729 |  0:00:15s\n",
      "epoch 83 | loss: 0.41604 |  0:00:15s\n",
      "epoch 84 | loss: 0.42471 |  0:00:16s\n",
      "epoch 85 | loss: 0.44332 |  0:00:16s\n",
      "epoch 86 | loss: 0.43382 |  0:00:16s\n",
      "epoch 87 | loss: 0.39302 |  0:00:16s\n",
      "epoch 88 | loss: 0.40452 |  0:00:16s\n",
      "epoch 89 | loss: 0.39012 |  0:00:17s\n",
      "epoch 90 | loss: 0.36612 |  0:00:17s\n",
      "epoch 91 | loss: 0.37857 |  0:00:17s\n",
      "epoch 92 | loss: 0.36626 |  0:00:17s\n",
      "epoch 93 | loss: 0.38485 |  0:00:17s\n",
      "epoch 94 | loss: 0.35193 |  0:00:17s\n",
      "epoch 95 | loss: 0.3706  |  0:00:18s\n",
      "epoch 96 | loss: 0.36904 |  0:00:18s\n",
      "epoch 97 | loss: 0.35466 |  0:00:18s\n",
      "epoch 98 | loss: 0.31994 |  0:00:18s\n",
      "epoch 99 | loss: 0.3328  |  0:00:18s\n"
     ]
    },
    {
     "data": {
      "text/plain": "{'n_d': 53,\n 'n_a': 53,\n 'n_steps': 3,\n 'gamma': 0.10540822584871713,\n 'n_independent': 10,\n 'n_shared': 3,\n 'lambda_sparse': 0.08130776933405176}"
     },
     "execution_count": 79,
     "metadata": {},
     "output_type": "execute_result"
    }
   ],
   "source": [
    "import torch\n",
    "from pytorch_tabnet.tab_model import TabNetClassifier\n",
    "import optuna\n",
    "from sklearn.metrics import mean_squared_error\n",
    "\n",
    "# Define objective function for optuna\n",
    "def objective(trial):\n",
    "    # Generate hyperparameter search space\n",
    "    params = {\n",
    "        'n_d': trial.suggest_int('n_d', 8, 64),\n",
    "        'n_a': trial.suggest_int('n_a', 8, 64),\n",
    "        'n_steps': trial.suggest_int('n_steps', 1, 10),\n",
    "        'gamma': trial.suggest_float('gamma', 0.1, 2.0),\n",
    "        'n_independent': trial.suggest_int('n_independent', 1, 10),\n",
    "        'n_shared': trial.suggest_int('n_shared', 1, 10),\n",
    "        'lambda_sparse': trial.suggest_float('lambda_sparse', 0.0001, 0.1),\n",
    "        # 'optimizer_fn': torch.optim.Adam,\n",
    "        # 'optimizer_params': dict(lr=2e-2, weight_decay=1e-5),\n",
    "        # 'mask_type': 'entmax',\n",
    "        # 'scheduler_params': dict(mode=\"min\", patience=5, min_lr=1e-5, factor=0.9,),\n",
    "        # 'scheduler_fn': torch.optim.lr_scheduler.ReduceLROnPlateau,\n",
    "        'verbose': 0\n",
    "    }\n",
    "\n",
    "    # Create TabNetClassifier object with hyperparameters from optuna\n",
    "    classifier = TabNetClassifier(**params)\n",
    "\n",
    "    # Train and evaluate the model\n",
    "    classifier.fit(X_train_np, y_train, eval_set=[(X_test_np, y_test)])\n",
    "    val_preds = classifier.predict_proba(X_test_np)[:, 1]\n",
    "    val_auc = roc_auc_score(y_test, val_preds)\n",
    "\n",
    "    return val_auc\n",
    "\n",
    "# Create optuna study\n",
    "study = optuna.create_study(direction='maximize')\n",
    "\n",
    "# Optimize hyperparameters using optuna\n",
    "study.optimize(objective, n_trials=42, timeout=600)\n",
    "\n",
    "# Get best hyperparameters from optuna\n",
    "best_params = study.best_trial.params\n",
    "\n",
    "# Train final model with best hyperparameters\n",
    "tabnet_classifier = TabNetClassifier(**best_params)\n",
    "tabnet_classifier.fit(X_train_np, y_train)\n",
    "best_params"
   ],
   "metadata": {
    "collapsed": false,
    "ExecuteTime": {
     "end_time": "2023-06-11T13:06:56.889871600Z",
     "start_time": "2023-06-11T13:02:52.237885100Z"
    }
   }
  },
  {
   "cell_type": "markdown",
   "source": [
    "Evaluate the best model on the test data"
   ],
   "metadata": {
    "collapsed": false
   }
  },
  {
   "cell_type": "code",
   "execution_count": 80,
   "outputs": [
    {
     "name": "stdout",
     "output_type": "stream",
     "text": [
      "Tabnet (test data)\n",
      "Accuracy: 0.56\n",
      "Precision: 0.57\n",
      "Recall: 0.61\n",
      "F1-score: 0.59\n",
      "ROC-AUC score: 0.56\n"
     ]
    },
    {
     "data": {
      "text/plain": "<Figure size 576x576 with 2 Axes>",
      "image/png": "[encoded data removed]"
     },
     "metadata": {},
     "output_type": "display_data"
    }
   ],
   "source": [
    "# Evaluate final model on test set\n",
    "y_test_pred = tabnet_classifier.predict(X_test_np)\n",
    "evaluate_model(\"Tabnet (test data)\", y_test, y_test_pred)"
   ],
   "metadata": {
    "collapsed": false,
    "ExecuteTime": {
     "end_time": "2023-06-11T13:06:57.090959900Z",
     "start_time": "2023-06-11T13:06:56.893864100Z"
    }
   }
  },
  {
   "cell_type": "markdown",
   "source": [
    "The best model is Gradient Boosting"
   ],
   "metadata": {
    "collapsed": false
   }
  },
  {
   "cell_type": "code",
   "execution_count": 81,
   "outputs": [],
   "source": [
    "the_best_model_ever = xgb_best_estimator"
   ],
   "metadata": {
    "collapsed": false,
    "ExecuteTime": {
     "end_time": "2023-06-11T13:06:57.168850200Z",
     "start_time": "2023-06-11T13:06:57.092954100Z"
    }
   }
  },
  {
   "cell_type": "markdown",
   "source": [
    "Feature importance"
   ],
   "metadata": {
    "collapsed": false
   }
  },
  {
   "cell_type": "code",
   "execution_count": 82,
   "outputs": [
    {
     "data": {
      "text/plain": "                                               importance\nFixations_In\\out_RoI_Ratio_Pre                   0.146554\nGaze_In\\out_RoI_Ratio_Pre                        0.141728\nonset_Fixations_First_In_RoI_Post                0.082342\nGaze_Counts_In_RoI_Pre                           0.070279\nlast_onset_Max_Saccades_End_In_RoI_Pre           0.070080\n...                                                   ...\nSaccades_Start_Counts_In_RoI_Pre                 0.000000\nPupil radius_Fixations_ReEntry_Mean_Diff_Post    0.000000\nPupil radius_Fixations_ReEntry_Mean_Diff_Pre     0.000000\nPupil radius_Fixations_First_Diff_Post           0.000000\nDVA_Min_Fixations_Post                           0.000000\n\n[116 rows x 1 columns]",
      "text/html": "<div>\n<style scoped>\n    .dataframe tbody tr th:only-of-type {\n        vertical-align: middle;\n    }\n\n    .dataframe tbody tr th {\n        vertical-align: top;\n    }\n\n    .dataframe thead th {\n        text-align: right;\n    }\n</style>\n<table border=\"1\" class=\"dataframe\">\n  <thead>\n    <tr style=\"text-align: right;\">\n      <th></th>\n      <th>importance</th>\n    </tr>\n  </thead>\n  <tbody>\n    <tr>\n      <th>Fixations_In\\out_RoI_Ratio_Pre</th>\n      <td>0.146554</td>\n    </tr>\n    <tr>\n      <th>Gaze_In\\out_RoI_Ratio_Pre</th>\n      <td>0.141728</td>\n    </tr>\n    <tr>\n      <th>onset_Fixations_First_In_RoI_Post</th>\n      <td>0.082342</td>\n    </tr>\n    <tr>\n      <th>Gaze_Counts_In_RoI_Pre</th>\n      <td>0.070279</td>\n    </tr>\n    <tr>\n      <th>last_onset_Max_Saccades_End_In_RoI_Pre</th>\n      <td>0.070080</td>\n    </tr>\n    <tr>\n      <th>...</th>\n      <td>...</td>\n    </tr>\n    <tr>\n      <th>Saccades_Start_Counts_In_RoI_Pre</th>\n      <td>0.000000</td>\n    </tr>\n    <tr>\n      <th>Pupil radius_Fixations_ReEntry_Mean_Diff_Post</th>\n      <td>0.000000</td>\n    </tr>\n    <tr>\n      <th>Pupil radius_Fixations_ReEntry_Mean_Diff_Pre</th>\n      <td>0.000000</td>\n    </tr>\n    <tr>\n      <th>Pupil radius_Fixations_First_Diff_Post</th>\n      <td>0.000000</td>\n    </tr>\n    <tr>\n      <th>DVA_Min_Fixations_Post</th>\n      <td>0.000000</td>\n    </tr>\n  </tbody>\n</table>\n<p>116 rows × 1 columns</p>\n</div>"
     },
     "execution_count": 82,
     "metadata": {},
     "output_type": "execute_result"
    }
   ],
   "source": [
    "feature_importances = pd.DataFrame(the_best_model_ever.feature_importances_,\n",
    "                                   index = X_train_preprocessed.columns,\n",
    "                                    columns=['importance']).sort_values('importance', ascending=False)\n",
    "feature_importances"
   ],
   "metadata": {
    "collapsed": false,
    "ExecuteTime": {
     "end_time": "2023-06-11T13:06:57.169847300Z",
     "start_time": "2023-06-11T13:06:57.107428900Z"
    }
   }
  },
  {
   "cell_type": "markdown",
   "source": [
    "\n"
   ],
   "metadata": {
    "collapsed": false
   }
  }
 ],
 "metadata": {
  "kernelspec": {
   "display_name": "Python 3",
   "language": "python",
   "name": "python3"
  },
  "language_info": {
   "codemirror_mode": {
    "name": "ipython",
    "version": 2
   },
   "file_extension": ".py",
   "mimetype": "text/x-python",
   "name": "python",
   "nbconvert_exporter": "python",
   "pygments_lexer": "ipython2",
   "version": "2.7.6"
  }
 },
 "nbformat": 4,
 "nbformat_minor": 0
}
