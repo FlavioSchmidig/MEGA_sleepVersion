{
 "cells": [
  {
   "cell_type": "code",
   "execution_count": 43,
   "metadata": {
    "collapsed": true,
    "ExecuteTime": {
     "end_time": "2023-06-11T12:13:27.158691Z",
     "start_time": "2023-06-11T12:13:26.714550500Z"
    }
   },
   "outputs": [],
   "source": [
    "import pandas as pd\n",
    "from matplotlib import pyplot as plt\n",
    "import numpy as np\n",
    "from sklearn.decomposition import PCA\n",
    "import os\n",
    "from src import config"
   ]
  },
  {
   "cell_type": "code",
   "execution_count": 44,
   "outputs": [],
   "source": [
    "features_df = pd.read_pickle(os.path.join(config.classification_resource_dir, \"remembered_features_df.pkl\"))\n",
    "labels_df = pd.read_pickle(os.path.join(config.classification_resource_dir, \"remembered_labels_df.pkl\"))"
   ],
   "metadata": {
    "collapsed": false,
    "ExecuteTime": {
     "end_time": "2023-06-11T12:13:27.423010700Z",
     "start_time": "2023-06-11T12:13:26.729133600Z"
    }
   }
  },
  {
   "cell_type": "code",
   "execution_count": 45,
   "outputs": [
    {
     "data": {
      "text/plain": "   Gaze_Counts_In_RoI_Pre  Gaze_Counts_In_RoI_Post  Gaze_Counts_Out_RoI_Pre  \\\n0                       0                      315                     3902   \n1                     278                      868                     3922   \n2                       0                     1808                     4329   \n3                    2800                     2293                     1658   \n4                     227                        4                     2691   \n\n   Gaze_Counts_Out_RoI_Post  Gaze_In\\out_RoI_Ratio_Pre  \\\n0                      1599                   0.000000   \n1                      1584                   0.070882   \n2                      1088                   0.000000   \n3                         0                   1.688782   \n4                      1564                   0.084355   \n\n   Gaze_In\\out_RoI_Ratio_Post  Gaze_Re_Entries_To_RoI_Count_Pre  \\\n0                    0.196998                                 0   \n1                    0.547980                                 6   \n2                    1.661765                                 0   \n3                 2293.000000                                12   \n4                    0.002558                                 8   \n\n   Gaze_Re_Entries_To_RoI_Count_Post  Gaze_Re_Entries_To_RoI_Rate_Pre  \\\n0                                  4                         0.000000   \n1                                 24                         0.702494   \n2                                  1                         0.000000   \n3                                  0                         1.309186   \n4                                  1                         1.324284   \n\n   Gaze_Re_Entries_To_RoI_Rate_Post  ...  DVA_Max_Gaze_Post  \\\n0                          1.156627  ...          18.722307   \n1                          5.999000  ...          21.987232   \n2                          0.208667  ...          11.362046   \n3                          0.000000  ...           3.272221   \n4                          0.428449  ...          17.549601   \n\n   DVA_Min_Gaze_Post  DVA_Mean_Fixations_Pre  DVA_Std_Fixations_Pre  \\\n0           0.678962               19.252270               4.306955   \n1           0.275379               12.319736               5.345038   \n2           2.015727               12.982817               2.999147   \n3           0.117117                5.557261               3.937523   \n4           1.622195                9.706162               3.309963   \n\n   DVA_Max_Fixations_Pre  DVA_Min_Fixations_Pre  DVA_Mean_Fixations_Post  \\\n0              24.290965              10.236542                 4.975633   \n1              19.855257               1.103654                 7.285351   \n2              17.015070               6.246335                 5.997195   \n3              18.028127               1.757268                 1.517561   \n4              16.002109               5.193516                13.609037   \n\n   DVA_Std_Fixations_Post  DVA_Max_Fixations_Post  DVA_Min_Fixations_Post  \n0                2.437215                8.568763                1.000737  \n1                7.138233               21.770775                1.637440  \n2                3.438549               10.903174                2.777841  \n3                0.856358                2.865752                0.538769  \n4                2.415350               17.293761                9.647457  \n\n[5 rows x 116 columns]",
      "text/html": "<div>\n<style scoped>\n    .dataframe tbody tr th:only-of-type {\n        vertical-align: middle;\n    }\n\n    .dataframe tbody tr th {\n        vertical-align: top;\n    }\n\n    .dataframe thead th {\n        text-align: right;\n    }\n</style>\n<table border=\"1\" class=\"dataframe\">\n  <thead>\n    <tr style=\"text-align: right;\">\n      <th></th>\n      <th>Gaze_Counts_In_RoI_Pre</th>\n      <th>Gaze_Counts_In_RoI_Post</th>\n      <th>Gaze_Counts_Out_RoI_Pre</th>\n      <th>Gaze_Counts_Out_RoI_Post</th>\n      <th>Gaze_In\\out_RoI_Ratio_Pre</th>\n      <th>Gaze_In\\out_RoI_Ratio_Post</th>\n      <th>Gaze_Re_Entries_To_RoI_Count_Pre</th>\n      <th>Gaze_Re_Entries_To_RoI_Count_Post</th>\n      <th>Gaze_Re_Entries_To_RoI_Rate_Pre</th>\n      <th>Gaze_Re_Entries_To_RoI_Rate_Post</th>\n      <th>...</th>\n      <th>DVA_Max_Gaze_Post</th>\n      <th>DVA_Min_Gaze_Post</th>\n      <th>DVA_Mean_Fixations_Pre</th>\n      <th>DVA_Std_Fixations_Pre</th>\n      <th>DVA_Max_Fixations_Pre</th>\n      <th>DVA_Min_Fixations_Pre</th>\n      <th>DVA_Mean_Fixations_Post</th>\n      <th>DVA_Std_Fixations_Post</th>\n      <th>DVA_Max_Fixations_Post</th>\n      <th>DVA_Min_Fixations_Post</th>\n    </tr>\n  </thead>\n  <tbody>\n    <tr>\n      <th>0</th>\n      <td>0</td>\n      <td>315</td>\n      <td>3902</td>\n      <td>1599</td>\n      <td>0.000000</td>\n      <td>0.196998</td>\n      <td>0</td>\n      <td>4</td>\n      <td>0.000000</td>\n      <td>1.156627</td>\n      <td>...</td>\n      <td>18.722307</td>\n      <td>0.678962</td>\n      <td>19.252270</td>\n      <td>4.306955</td>\n      <td>24.290965</td>\n      <td>10.236542</td>\n      <td>4.975633</td>\n      <td>2.437215</td>\n      <td>8.568763</td>\n      <td>1.000737</td>\n    </tr>\n    <tr>\n      <th>1</th>\n      <td>278</td>\n      <td>868</td>\n      <td>3922</td>\n      <td>1584</td>\n      <td>0.070882</td>\n      <td>0.547980</td>\n      <td>6</td>\n      <td>24</td>\n      <td>0.702494</td>\n      <td>5.999000</td>\n      <td>...</td>\n      <td>21.987232</td>\n      <td>0.275379</td>\n      <td>12.319736</td>\n      <td>5.345038</td>\n      <td>19.855257</td>\n      <td>1.103654</td>\n      <td>7.285351</td>\n      <td>7.138233</td>\n      <td>21.770775</td>\n      <td>1.637440</td>\n    </tr>\n    <tr>\n      <th>2</th>\n      <td>0</td>\n      <td>1808</td>\n      <td>4329</td>\n      <td>1088</td>\n      <td>0.000000</td>\n      <td>1.661765</td>\n      <td>0</td>\n      <td>1</td>\n      <td>0.000000</td>\n      <td>0.208667</td>\n      <td>...</td>\n      <td>11.362046</td>\n      <td>2.015727</td>\n      <td>12.982817</td>\n      <td>2.999147</td>\n      <td>17.015070</td>\n      <td>6.246335</td>\n      <td>5.997195</td>\n      <td>3.438549</td>\n      <td>10.903174</td>\n      <td>2.777841</td>\n    </tr>\n    <tr>\n      <th>3</th>\n      <td>2800</td>\n      <td>2293</td>\n      <td>1658</td>\n      <td>0</td>\n      <td>1.688782</td>\n      <td>2293.000000</td>\n      <td>12</td>\n      <td>0</td>\n      <td>1.309186</td>\n      <td>0.000000</td>\n      <td>...</td>\n      <td>3.272221</td>\n      <td>0.117117</td>\n      <td>5.557261</td>\n      <td>3.937523</td>\n      <td>18.028127</td>\n      <td>1.757268</td>\n      <td>1.517561</td>\n      <td>0.856358</td>\n      <td>2.865752</td>\n      <td>0.538769</td>\n    </tr>\n    <tr>\n      <th>4</th>\n      <td>227</td>\n      <td>4</td>\n      <td>2691</td>\n      <td>1564</td>\n      <td>0.084355</td>\n      <td>0.002558</td>\n      <td>8</td>\n      <td>1</td>\n      <td>1.324284</td>\n      <td>0.428449</td>\n      <td>...</td>\n      <td>17.549601</td>\n      <td>1.622195</td>\n      <td>9.706162</td>\n      <td>3.309963</td>\n      <td>16.002109</td>\n      <td>5.193516</td>\n      <td>13.609037</td>\n      <td>2.415350</td>\n      <td>17.293761</td>\n      <td>9.647457</td>\n    </tr>\n  </tbody>\n</table>\n<p>5 rows × 116 columns</p>\n</div>"
     },
     "execution_count": 45,
     "metadata": {},
     "output_type": "execute_result"
    }
   ],
   "source": [
    "features_df.head()"
   ],
   "metadata": {
    "collapsed": false,
    "ExecuteTime": {
     "end_time": "2023-06-11T12:13:27.424008400Z",
     "start_time": "2023-06-11T12:13:26.742969800Z"
    }
   }
  },
  {
   "cell_type": "code",
   "execution_count": 46,
   "outputs": [
    {
     "name": "stdout",
     "output_type": "stream",
     "text": [
      "<class 'pandas.core.frame.DataFrame'>\n",
      "RangeIndex: 1246 entries, 0 to 1245\n",
      "Columns: 116 entries, Gaze_Counts_In_RoI_Pre to DVA_Min_Fixations_Post\n",
      "dtypes: float64(107), int32(9)\n",
      "memory usage: 1.1 MB\n"
     ]
    }
   ],
   "source": [
    "features_df.info()"
   ],
   "metadata": {
    "collapsed": false,
    "ExecuteTime": {
     "end_time": "2023-06-11T12:13:27.427006Z",
     "start_time": "2023-06-11T12:13:26.757463700Z"
    }
   }
  },
  {
   "cell_type": "markdown",
   "source": [],
   "metadata": {
    "collapsed": false
   }
  },
  {
   "cell_type": "code",
   "execution_count": 47,
   "outputs": [
    {
     "data": {
      "text/plain": "           Session\nseries_id         \n0                1\n1                1\n2                1\n3                1\n4                0",
      "text/html": "<div>\n<style scoped>\n    .dataframe tbody tr th:only-of-type {\n        vertical-align: middle;\n    }\n\n    .dataframe tbody tr th {\n        vertical-align: top;\n    }\n\n    .dataframe thead th {\n        text-align: right;\n    }\n</style>\n<table border=\"1\" class=\"dataframe\">\n  <thead>\n    <tr style=\"text-align: right;\">\n      <th></th>\n      <th>Session</th>\n    </tr>\n    <tr>\n      <th>series_id</th>\n      <th></th>\n    </tr>\n  </thead>\n  <tbody>\n    <tr>\n      <th>0</th>\n      <td>1</td>\n    </tr>\n    <tr>\n      <th>1</th>\n      <td>1</td>\n    </tr>\n    <tr>\n      <th>2</th>\n      <td>1</td>\n    </tr>\n    <tr>\n      <th>3</th>\n      <td>1</td>\n    </tr>\n    <tr>\n      <th>4</th>\n      <td>0</td>\n    </tr>\n  </tbody>\n</table>\n</div>"
     },
     "execution_count": 47,
     "metadata": {},
     "output_type": "execute_result"
    }
   ],
   "source": [
    "labels_df.head()"
   ],
   "metadata": {
    "collapsed": false,
    "ExecuteTime": {
     "end_time": "2023-06-11T12:13:27.452960Z",
     "start_time": "2023-06-11T12:13:26.772429800Z"
    }
   }
  },
  {
   "cell_type": "code",
   "execution_count": 48,
   "outputs": [
    {
     "name": "stdout",
     "output_type": "stream",
     "text": [
      "<class 'pandas.core.frame.DataFrame'>\n",
      "Int64Index: 1246 entries, 0 to 1245\n",
      "Data columns (total 1 columns):\n",
      " #   Column   Non-Null Count  Dtype\n",
      "---  ------   --------------  -----\n",
      " 0   Session  1246 non-null   int32\n",
      "dtypes: int32(1)\n",
      "memory usage: 14.6 KB\n"
     ]
    }
   ],
   "source": [
    "labels_df.info()"
   ],
   "metadata": {
    "collapsed": false,
    "ExecuteTime": {
     "end_time": "2023-06-11T12:13:27.467172400Z",
     "start_time": "2023-06-11T12:13:26.791901700Z"
    }
   }
  },
  {
   "cell_type": "markdown",
   "source": [
    "Data Cleaning"
   ],
   "metadata": {
    "collapsed": false
   }
  },
  {
   "cell_type": "markdown",
   "source": [
    "how many missing values are there in each column? show the top 10"
   ],
   "metadata": {
    "collapsed": false
   }
  },
  {
   "cell_type": "code",
   "execution_count": 49,
   "outputs": [
    {
     "data": {
      "text/plain": "Pupil radius_Fixations_First_Diff_Pre            310\nPupil radius_Fixations_First_Diff_Post           310\nPupil radius_Fixations_ReEntry_Mean_Diff_Pre     310\nPupil radius_Fixations_ReEntry_Mean_Diff_Post    310\nonset_Mean_Saccades_Start_In_RoI_Post            240\nDuration_Max_Saccades_Start_In_RoI_Post          240\nonset_Std_Saccades_Start_In_RoI_Post             240\npeak_velocity_Min_Saccades_Start_In_RoI_Post     240\nvis_angle_Min_Saccades_Start_In_RoI_Post         240\nDuration_Min_Saccades_Start_In_RoI_Post          240\ndtype: int64"
     },
     "execution_count": 49,
     "metadata": {},
     "output_type": "execute_result"
    }
   ],
   "source": [
    "features_df.isna().sum(axis=0).sort_values(ascending=False).head(10)"
   ],
   "metadata": {
    "collapsed": false,
    "ExecuteTime": {
     "end_time": "2023-06-11T12:13:27.472210900Z",
     "start_time": "2023-06-11T12:13:26.804636500Z"
    }
   }
  },
  {
   "cell_type": "markdown",
   "source": [
    "Remove columns with more than 30% missing values"
   ],
   "metadata": {
    "collapsed": false
   }
  },
  {
   "cell_type": "code",
   "execution_count": 50,
   "outputs": [],
   "source": [
    "features_df = features_df.loc[:, features_df.isna().sum(axis=0) < 0.3 * features_df.shape[0]]"
   ],
   "metadata": {
    "collapsed": false,
    "ExecuteTime": {
     "end_time": "2023-06-11T12:13:27.472210900Z",
     "start_time": "2023-06-11T12:13:26.819158800Z"
    }
   }
  },
  {
   "cell_type": "code",
   "execution_count": 51,
   "outputs": [
    {
     "data": {
      "text/plain": "Pupil radius_Fixations_First_Diff_Pre            310\nPupil radius_Fixations_First_Diff_Post           310\nPupil radius_Fixations_ReEntry_Mean_Diff_Pre     310\nPupil radius_Fixations_ReEntry_Mean_Diff_Post    310\nonset_Mean_Saccades_Start_In_RoI_Post            240\nDuration_Max_Saccades_Start_In_RoI_Post          240\nonset_Std_Saccades_Start_In_RoI_Post             240\npeak_velocity_Min_Saccades_Start_In_RoI_Post     240\nvis_angle_Min_Saccades_Start_In_RoI_Post         240\nDuration_Min_Saccades_Start_In_RoI_Post          240\ndtype: int64"
     },
     "execution_count": 51,
     "metadata": {},
     "output_type": "execute_result"
    }
   ],
   "source": [
    "features_df.isna().sum(axis=0).sort_values(ascending=False).head(10)"
   ],
   "metadata": {
    "collapsed": false,
    "ExecuteTime": {
     "end_time": "2023-06-11T12:13:27.494155800Z",
     "start_time": "2023-06-11T12:13:26.835177600Z"
    }
   }
  },
  {
   "cell_type": "markdown",
   "source": [
    "how many missing values are there in each row? show the top 10"
   ],
   "metadata": {
    "collapsed": false
   }
  },
  {
   "cell_type": "code",
   "execution_count": 52,
   "outputs": [
    {
     "data": {
      "text/plain": "335     72\n827     69\n312     69\n8       69\n1007    68\n137     68\n999     68\n784     68\n331     68\n142     68\ndtype: int64"
     },
     "execution_count": 52,
     "metadata": {},
     "output_type": "execute_result"
    }
   ],
   "source": [
    "features_df.isna().sum(axis=1).sort_values(ascending=False).head(10)"
   ],
   "metadata": {
    "collapsed": false,
    "ExecuteTime": {
     "end_time": "2023-06-11T12:13:27.504650300Z",
     "start_time": "2023-06-11T12:13:26.850774Z"
    }
   }
  },
  {
   "cell_type": "markdown",
   "source": [
    "Remove rows with more than 30% missing values"
   ],
   "metadata": {
    "collapsed": false
   }
  },
  {
   "cell_type": "code",
   "execution_count": 53,
   "outputs": [],
   "source": [
    "features_df = features_df.loc[features_df.isna().sum(axis=1) < 0.3 * features_df.shape[1], :]\n",
    "# remove the corresponding rows from y_train\n",
    "labels_df = labels_df.loc[labels_df.index.isin(features_df.index)]"
   ],
   "metadata": {
    "collapsed": false,
    "ExecuteTime": {
     "end_time": "2023-06-11T12:13:27.506645Z",
     "start_time": "2023-06-11T12:13:26.866441300Z"
    }
   }
  },
  {
   "cell_type": "code",
   "execution_count": 54,
   "outputs": [
    {
     "data": {
      "text/plain": "688    32\n348    32\n5      32\n259    32\n874    28\n679    28\n833    28\n921    28\n614    25\n364    25\ndtype: int64"
     },
     "execution_count": 54,
     "metadata": {},
     "output_type": "execute_result"
    }
   ],
   "source": [
    "features_df.isna().sum(axis=1).sort_values(ascending=False).head(10)"
   ],
   "metadata": {
    "collapsed": false,
    "ExecuteTime": {
     "end_time": "2023-06-11T12:13:27.508640100Z",
     "start_time": "2023-06-11T12:13:26.880611900Z"
    }
   }
  },
  {
   "cell_type": "markdown",
   "source": [],
   "metadata": {
    "collapsed": false
   }
  },
  {
   "cell_type": "markdown",
   "source": [
    "Train/Test Split (before any preprocessing is done)"
   ],
   "metadata": {
    "collapsed": false
   }
  },
  {
   "cell_type": "code",
   "execution_count": 55,
   "outputs": [],
   "source": [
    "series_id_df = pd.read_pickle(os.path.join(config.classification_resource_dir, \"remembered_series_id_df.pkl\"))\n",
    "\n",
    "# Create a list of unique subject IDs\n",
    "subject_ids = series_id_df[config.SUBJECT].unique()\n",
    "\n",
    "# Shuffle the list of subject IDs randomly\n",
    "random = np.random\n",
    "random.seed(1)\n",
    "random.shuffle(subject_ids)\n",
    "\n",
    "# Split the list of subject IDs into two parts\n",
    "train_subject_ids = subject_ids[:int(len(subject_ids)*0.9)]\n",
    "test_subject_ids = subject_ids[int(len(subject_ids)*0.9):]\n",
    "\n",
    "# Subset the data based on the split list of subject IDs\n",
    "train_data = series_id_df[series_id_df[config.SUBJECT].isin(train_subject_ids)]\n",
    "test_data = series_id_df[series_id_df[config.SUBJECT].isin(test_subject_ids)]\n",
    "\n",
    "X_train = features_df[features_df.index.isin(train_data.index)]\n",
    "X_test = features_df[features_df.index.isin(test_data.index)]\n",
    "y_train = labels_df[labels_df.index.isin(train_data.index)]\n",
    "y_test = labels_df[labels_df.index.isin(test_data.index)]"
   ],
   "metadata": {
    "collapsed": false,
    "ExecuteTime": {
     "end_time": "2023-06-11T12:13:27.525603100Z",
     "start_time": "2023-06-11T12:13:26.895596800Z"
    }
   }
  },
  {
   "cell_type": "code",
   "execution_count": 56,
   "outputs": [],
   "source": [
    "# from sklearn.model_selection import train_test_split\n",
    "#\n",
    "# X_train, X_test, y_train, y_test = train_test_split(features_df,\n",
    "#                                                     labels_df,\n",
    "#                                                     random_state=420,\n",
    "#                                                     test_size=0.2)"
   ],
   "metadata": {
    "collapsed": false,
    "ExecuteTime": {
     "end_time": "2023-06-11T12:13:27.532625Z",
     "start_time": "2023-06-11T12:13:26.912071400Z"
    }
   }
  },
  {
   "cell_type": "code",
   "execution_count": 57,
   "outputs": [
    {
     "data": {
      "text/plain": "   Gaze_Counts_In_RoI_Pre  Gaze_Counts_In_RoI_Post  Gaze_Counts_Out_RoI_Pre  \\\n0                       0                      315                     3902   \n1                     278                      868                     3922   \n2                       0                     1808                     4329   \n3                    2800                     2293                     1658   \n4                     227                        4                     2691   \n\n   Gaze_Counts_Out_RoI_Post  Gaze_In\\out_RoI_Ratio_Pre  \\\n0                      1599                   0.000000   \n1                      1584                   0.070882   \n2                      1088                   0.000000   \n3                         0                   1.688782   \n4                      1564                   0.084355   \n\n   Gaze_In\\out_RoI_Ratio_Post  Gaze_Re_Entries_To_RoI_Count_Pre  \\\n0                    0.196998                                 0   \n1                    0.547980                                 6   \n2                    1.661765                                 0   \n3                 2293.000000                                12   \n4                    0.002558                                 8   \n\n   Gaze_Re_Entries_To_RoI_Count_Post  Gaze_Re_Entries_To_RoI_Rate_Pre  \\\n0                                  4                         0.000000   \n1                                 24                         0.702494   \n2                                  1                         0.000000   \n3                                  0                         1.309186   \n4                                  1                         1.324284   \n\n   Gaze_Re_Entries_To_RoI_Rate_Post  ...  DVA_Max_Gaze_Post  \\\n0                          1.156627  ...          18.722307   \n1                          5.999000  ...          21.987232   \n2                          0.208667  ...          11.362046   \n3                          0.000000  ...           3.272221   \n4                          0.428449  ...          17.549601   \n\n   DVA_Min_Gaze_Post  DVA_Mean_Fixations_Pre  DVA_Std_Fixations_Pre  \\\n0           0.678962               19.252270               4.306955   \n1           0.275379               12.319736               5.345038   \n2           2.015727               12.982817               2.999147   \n3           0.117117                5.557261               3.937523   \n4           1.622195                9.706162               3.309963   \n\n   DVA_Max_Fixations_Pre  DVA_Min_Fixations_Pre  DVA_Mean_Fixations_Post  \\\n0              24.290965              10.236542                 4.975633   \n1              19.855257               1.103654                 7.285351   \n2              17.015070               6.246335                 5.997195   \n3              18.028127               1.757268                 1.517561   \n4              16.002109               5.193516                13.609037   \n\n   DVA_Std_Fixations_Post  DVA_Max_Fixations_Post  DVA_Min_Fixations_Post  \n0                2.437215                8.568763                1.000737  \n1                7.138233               21.770775                1.637440  \n2                3.438549               10.903174                2.777841  \n3                0.856358                2.865752                0.538769  \n4                2.415350               17.293761                9.647457  \n\n[5 rows x 116 columns]",
      "text/html": "<div>\n<style scoped>\n    .dataframe tbody tr th:only-of-type {\n        vertical-align: middle;\n    }\n\n    .dataframe tbody tr th {\n        vertical-align: top;\n    }\n\n    .dataframe thead th {\n        text-align: right;\n    }\n</style>\n<table border=\"1\" class=\"dataframe\">\n  <thead>\n    <tr style=\"text-align: right;\">\n      <th></th>\n      <th>Gaze_Counts_In_RoI_Pre</th>\n      <th>Gaze_Counts_In_RoI_Post</th>\n      <th>Gaze_Counts_Out_RoI_Pre</th>\n      <th>Gaze_Counts_Out_RoI_Post</th>\n      <th>Gaze_In\\out_RoI_Ratio_Pre</th>\n      <th>Gaze_In\\out_RoI_Ratio_Post</th>\n      <th>Gaze_Re_Entries_To_RoI_Count_Pre</th>\n      <th>Gaze_Re_Entries_To_RoI_Count_Post</th>\n      <th>Gaze_Re_Entries_To_RoI_Rate_Pre</th>\n      <th>Gaze_Re_Entries_To_RoI_Rate_Post</th>\n      <th>...</th>\n      <th>DVA_Max_Gaze_Post</th>\n      <th>DVA_Min_Gaze_Post</th>\n      <th>DVA_Mean_Fixations_Pre</th>\n      <th>DVA_Std_Fixations_Pre</th>\n      <th>DVA_Max_Fixations_Pre</th>\n      <th>DVA_Min_Fixations_Pre</th>\n      <th>DVA_Mean_Fixations_Post</th>\n      <th>DVA_Std_Fixations_Post</th>\n      <th>DVA_Max_Fixations_Post</th>\n      <th>DVA_Min_Fixations_Post</th>\n    </tr>\n  </thead>\n  <tbody>\n    <tr>\n      <th>0</th>\n      <td>0</td>\n      <td>315</td>\n      <td>3902</td>\n      <td>1599</td>\n      <td>0.000000</td>\n      <td>0.196998</td>\n      <td>0</td>\n      <td>4</td>\n      <td>0.000000</td>\n      <td>1.156627</td>\n      <td>...</td>\n      <td>18.722307</td>\n      <td>0.678962</td>\n      <td>19.252270</td>\n      <td>4.306955</td>\n      <td>24.290965</td>\n      <td>10.236542</td>\n      <td>4.975633</td>\n      <td>2.437215</td>\n      <td>8.568763</td>\n      <td>1.000737</td>\n    </tr>\n    <tr>\n      <th>1</th>\n      <td>278</td>\n      <td>868</td>\n      <td>3922</td>\n      <td>1584</td>\n      <td>0.070882</td>\n      <td>0.547980</td>\n      <td>6</td>\n      <td>24</td>\n      <td>0.702494</td>\n      <td>5.999000</td>\n      <td>...</td>\n      <td>21.987232</td>\n      <td>0.275379</td>\n      <td>12.319736</td>\n      <td>5.345038</td>\n      <td>19.855257</td>\n      <td>1.103654</td>\n      <td>7.285351</td>\n      <td>7.138233</td>\n      <td>21.770775</td>\n      <td>1.637440</td>\n    </tr>\n    <tr>\n      <th>2</th>\n      <td>0</td>\n      <td>1808</td>\n      <td>4329</td>\n      <td>1088</td>\n      <td>0.000000</td>\n      <td>1.661765</td>\n      <td>0</td>\n      <td>1</td>\n      <td>0.000000</td>\n      <td>0.208667</td>\n      <td>...</td>\n      <td>11.362046</td>\n      <td>2.015727</td>\n      <td>12.982817</td>\n      <td>2.999147</td>\n      <td>17.015070</td>\n      <td>6.246335</td>\n      <td>5.997195</td>\n      <td>3.438549</td>\n      <td>10.903174</td>\n      <td>2.777841</td>\n    </tr>\n    <tr>\n      <th>3</th>\n      <td>2800</td>\n      <td>2293</td>\n      <td>1658</td>\n      <td>0</td>\n      <td>1.688782</td>\n      <td>2293.000000</td>\n      <td>12</td>\n      <td>0</td>\n      <td>1.309186</td>\n      <td>0.000000</td>\n      <td>...</td>\n      <td>3.272221</td>\n      <td>0.117117</td>\n      <td>5.557261</td>\n      <td>3.937523</td>\n      <td>18.028127</td>\n      <td>1.757268</td>\n      <td>1.517561</td>\n      <td>0.856358</td>\n      <td>2.865752</td>\n      <td>0.538769</td>\n    </tr>\n    <tr>\n      <th>4</th>\n      <td>227</td>\n      <td>4</td>\n      <td>2691</td>\n      <td>1564</td>\n      <td>0.084355</td>\n      <td>0.002558</td>\n      <td>8</td>\n      <td>1</td>\n      <td>1.324284</td>\n      <td>0.428449</td>\n      <td>...</td>\n      <td>17.549601</td>\n      <td>1.622195</td>\n      <td>9.706162</td>\n      <td>3.309963</td>\n      <td>16.002109</td>\n      <td>5.193516</td>\n      <td>13.609037</td>\n      <td>2.415350</td>\n      <td>17.293761</td>\n      <td>9.647457</td>\n    </tr>\n  </tbody>\n</table>\n<p>5 rows × 116 columns</p>\n</div>"
     },
     "execution_count": 57,
     "metadata": {},
     "output_type": "execute_result"
    }
   ],
   "source": [
    "X_train.head()"
   ],
   "metadata": {
    "collapsed": false,
    "ExecuteTime": {
     "end_time": "2023-06-11T12:13:27.544192200Z",
     "start_time": "2023-06-11T12:13:26.935531500Z"
    }
   }
  },
  {
   "cell_type": "markdown",
   "source": [
    "Fill missing values with the mean of the column"
   ],
   "metadata": {
    "collapsed": false
   }
  },
  {
   "cell_type": "code",
   "execution_count": 58,
   "outputs": [],
   "source": [
    "X_train = X_train.fillna(X_train.mean()) # fill missing values with the mean of the column or zero ? features_df.mean()\n",
    "X_test = X_test.fillna(X_train.mean())"
   ],
   "metadata": {
    "collapsed": false,
    "ExecuteTime": {
     "end_time": "2023-06-11T12:13:27.588043100Z",
     "start_time": "2023-06-11T12:13:26.943588600Z"
    }
   }
  },
  {
   "cell_type": "markdown",
   "source": [
    "Balancing the dataset"
   ],
   "metadata": {
    "collapsed": false
   }
  },
  {
   "cell_type": "code",
   "execution_count": 59,
   "outputs": [
    {
     "data": {
      "text/plain": "Session\n1          466\n0          440\ndtype: int64"
     },
     "execution_count": 59,
     "metadata": {},
     "output_type": "execute_result"
    }
   ],
   "source": [
    "y_train.value_counts()"
   ],
   "metadata": {
    "collapsed": false,
    "ExecuteTime": {
     "end_time": "2023-06-11T12:13:27.592027200Z",
     "start_time": "2023-06-11T12:13:26.991118800Z"
    }
   }
  },
  {
   "cell_type": "markdown",
   "source": [
    "Scaling"
   ],
   "metadata": {
    "collapsed": false
   }
  },
  {
   "cell_type": "code",
   "execution_count": 60,
   "outputs": [],
   "source": [
    "from sklearn.preprocessing import StandardScaler\n",
    "\n",
    "# Create separate StandardScaler instances\n",
    "scaler_x = StandardScaler()\n",
    "# scaler_y = StandardScaler()\n",
    "\n",
    "# Fit on Training Data (!)\n",
    "scaler_x.fit(X_train.values)\n",
    "# scaler_y.fit(y_train.values.reshape(-1, 1))\n",
    "\n",
    "# Transform both training and testing data\n",
    "X_train_scaled = scaler_x.transform(X_train.values)\n",
    "X_test_scaled = scaler_x.transform(X_test.values)\n",
    "y_train = y_train.values.reshape(-1, 1).flatten()\n",
    "y_test = y_test.values.reshape(-1, 1).flatten()\n",
    "\n",
    "X_train_scaled = pd.DataFrame(X_train_scaled, columns=X_train.columns)\n",
    "X_test_scaled = pd.DataFrame(X_test_scaled, columns=X_test.columns)"
   ],
   "metadata": {
    "collapsed": false,
    "ExecuteTime": {
     "end_time": "2023-06-11T12:13:27.606503800Z",
     "start_time": "2023-06-11T12:13:27.008587600Z"
    }
   }
  },
  {
   "cell_type": "markdown",
   "source": [
    "PCA"
   ],
   "metadata": {
    "collapsed": false
   },
   "outputs": []
  },
  {
   "cell_type": "code",
   "execution_count": 61,
   "outputs": [
    {
     "data": {
      "text/plain": "<Figure size 432x288 with 1 Axes>",
      "image/png": "[encoded data removed]"
     },
     "metadata": {},
     "output_type": "display_data"
    }
   ],
   "source": [
    "pca = PCA(n_components=0.95).fit(X_train_scaled)\n",
    "plt.plot(np.cumsum(pca.explained_variance_ratio_))\n",
    "plt.xlabel('number of components')\n",
    "plt.ylabel('cumulative explained variance');"
   ],
   "metadata": {
    "collapsed": false,
    "ExecuteTime": {
     "end_time": "2023-06-11T12:13:27.636948200Z",
     "start_time": "2023-06-11T12:13:27.023591Z"
    }
   }
  },
  {
   "cell_type": "code",
   "execution_count": 62,
   "outputs": [],
   "source": [
    "X_train_pca = pca.transform(X_train_scaled)\n",
    "X_test_pca = pca.transform(X_test_scaled)"
   ],
   "metadata": {
    "collapsed": false,
    "ExecuteTime": {
     "end_time": "2023-06-11T12:13:27.636948200Z",
     "start_time": "2023-06-11T12:13:27.165667400Z"
    }
   }
  },
  {
   "cell_type": "code",
   "execution_count": 63,
   "outputs": [
    {
     "data": {
      "text/plain": "array([[-3.45754882, -3.71666136,  1.47294812, ...,  1.09828029,\n        -1.53729799,  0.39904323],\n       [ 4.42863145, -2.69473851, -6.98740751, ..., -0.17158436,\n         0.4952136 ,  0.09888962],\n       [-2.2392131 , -4.80413441,  2.79816194, ..., -0.03069061,\n         0.14248141, -0.12927976],\n       ...,\n       [-4.60740304, -2.35221134,  0.7018763 , ..., -0.24661443,\n        -0.12099135,  0.01647514],\n       [ 8.20675385, -3.02847975,  0.31194318, ..., -0.75565166,\n         0.21204021, -0.91847691],\n       [-6.10155711,  0.61175352, -0.5660286 , ..., -0.01093834,\n         0.17647383,  0.02882784]])"
     },
     "execution_count": 63,
     "metadata": {},
     "output_type": "execute_result"
    }
   ],
   "source": [
    "X_train_pca"
   ],
   "metadata": {
    "collapsed": false,
    "ExecuteTime": {
     "end_time": "2023-06-11T12:13:27.636948200Z",
     "start_time": "2023-06-11T12:13:27.177640300Z"
    }
   }
  },
  {
   "cell_type": "markdown",
   "source": [
    "LDA"
   ],
   "metadata": {
    "collapsed": false
   }
  },
  {
   "cell_type": "code",
   "execution_count": 64,
   "outputs": [],
   "source": [
    "from sklearn.discriminant_analysis import LinearDiscriminantAnalysis\n",
    "\n",
    "lda = LinearDiscriminantAnalysis(n_components=1)\n",
    "X_train_lda = lda.fit_transform(X_train_scaled, y_train)\n",
    "X_test_lda = lda.transform(X_test_scaled)"
   ],
   "metadata": {
    "collapsed": false,
    "ExecuteTime": {
     "end_time": "2023-06-11T12:13:27.636948200Z",
     "start_time": "2023-06-11T12:13:27.196513700Z"
    }
   }
  },
  {
   "cell_type": "code",
   "execution_count": 65,
   "outputs": [
    {
     "data": {
      "text/plain": "<Figure size 432x288 with 1 Axes>",
      "image/png": "[encoded data removed]"
     },
     "metadata": {},
     "output_type": "display_data"
    }
   ],
   "source": [
    "# Create a scatter plot of the transformed data\n",
    "plt.scatter(X_train_lda, np.zeros(len(X_train_lda)), c=y_train, cmap='rainbow', alpha=0.7, edgecolors='b')\n",
    "plt.xlabel('LD1')\n",
    "plt.title('LDA Scatter Plot')\n",
    "plt.show()"
   ],
   "metadata": {
    "collapsed": false,
    "ExecuteTime": {
     "end_time": "2023-06-11T12:13:27.637945700Z",
     "start_time": "2023-06-11T12:13:27.280232100Z"
    }
   }
  },
  {
   "cell_type": "code",
   "execution_count": 66,
   "outputs": [],
   "source": [
    "X_train_preprocessed = X_train_scaled\n",
    "X_test_preprocessed = X_test_scaled"
   ],
   "metadata": {
    "collapsed": false,
    "ExecuteTime": {
     "end_time": "2023-06-11T12:13:27.637945700Z",
     "start_time": "2023-06-11T12:13:27.394571200Z"
    }
   }
  },
  {
   "cell_type": "markdown",
   "source": [
    "Classification models"
   ],
   "metadata": {
    "collapsed": false
   },
   "outputs": []
  },
  {
   "cell_type": "code",
   "execution_count": 67,
   "outputs": [],
   "source": [
    "from sklearn.metrics import accuracy_score, precision_score, recall_score, f1_score, roc_auc_score\n",
    "from sklearn.metrics import confusion_matrix\n",
    "import seaborn as sns\n",
    "\n",
    "def evaluate_model(model_name, y_true, y_pred):\n",
    "    # Evaluate the model using various metrics\n",
    "    accuracy = accuracy_score(y_test, y_pred)\n",
    "    precision = precision_score(y_test, y_pred)\n",
    "    recall = recall_score(y_test, y_pred)\n",
    "    f1 = f1_score(y_test, y_pred)\n",
    "    roc_auc = roc_auc_score(y_test, y_pred)\n",
    "\n",
    "    print(model_name)\n",
    "    # Print the evaluation metrics\n",
    "    print(\"Accuracy:\", round(accuracy, 2))\n",
    "    print(\"Precision:\", round(precision, 2))\n",
    "    print(\"Recall:\", round(recall, 2))\n",
    "    print(\"F1-score:\", round(f1, 2))\n",
    "    print(\"ROC-AUC score:\", round(roc_auc, 2))\n",
    "\n",
    "    # Compute the confusion matrix\n",
    "    confusion_mat = confusion_matrix(y_true, y_pred)\n",
    "\n",
    "    # Create a heatmap visualization of the confusion matrix\n",
    "    fig, ax = plt.subplots(figsize=(8, 8))\n",
    "    sns.heatmap(confusion_mat, annot=True, cmap=\"Blues\", fmt=\"d\", ax=ax)\n",
    "\n",
    "    # Set the axis labels and title\n",
    "    ax.set_xlabel(\"Predicted Labels\")\n",
    "    ax.set_ylabel(\"True Labels\")\n",
    "    ax.set_title(\"Confusion Matrix\")\n",
    "\n",
    "    # Show the plot\n",
    "    plt.show()"
   ],
   "metadata": {
    "collapsed": false,
    "ExecuteTime": {
     "end_time": "2023-06-11T12:13:27.638942800Z",
     "start_time": "2023-06-11T12:13:27.410046700Z"
    }
   }
  },
  {
   "cell_type": "code",
   "execution_count": 68,
   "outputs": [],
   "source": [
    "from sklearn.model_selection import GridSearchCV"
   ],
   "metadata": {
    "collapsed": false,
    "ExecuteTime": {
     "end_time": "2023-06-11T12:13:27.638942800Z",
     "start_time": "2023-06-11T12:13:27.424008400Z"
    }
   }
  },
  {
   "cell_type": "markdown",
   "source": [
    "Logistic Regression model"
   ],
   "metadata": {
    "collapsed": false
   },
   "outputs": []
  },
  {
   "cell_type": "code",
   "execution_count": 69,
   "outputs": [
    {
     "name": "stderr",
     "output_type": "stream",
     "text": [
      "C:\\Users\\user\\anaconda3\\lib\\site-packages\\sklearn\\linear_model\\_sag.py:350: ConvergenceWarning: The max_iter was reached which means the coef_ did not converge\n",
      "  warnings.warn(\n",
      "C:\\Users\\user\\anaconda3\\lib\\site-packages\\sklearn\\linear_model\\_sag.py:350: ConvergenceWarning: The max_iter was reached which means the coef_ did not converge\n",
      "  warnings.warn(\n",
      "C:\\Users\\user\\anaconda3\\lib\\site-packages\\sklearn\\linear_model\\_sag.py:350: ConvergenceWarning: The max_iter was reached which means the coef_ did not converge\n",
      "  warnings.warn(\n",
      "C:\\Users\\user\\anaconda3\\lib\\site-packages\\sklearn\\linear_model\\_sag.py:350: ConvergenceWarning: The max_iter was reached which means the coef_ did not converge\n",
      "  warnings.warn(\n",
      "C:\\Users\\user\\anaconda3\\lib\\site-packages\\sklearn\\linear_model\\_sag.py:350: ConvergenceWarning: The max_iter was reached which means the coef_ did not converge\n",
      "  warnings.warn(\n",
      "C:\\Users\\user\\anaconda3\\lib\\site-packages\\sklearn\\linear_model\\_sag.py:350: ConvergenceWarning: The max_iter was reached which means the coef_ did not converge\n",
      "  warnings.warn(\n",
      "C:\\Users\\user\\anaconda3\\lib\\site-packages\\sklearn\\linear_model\\_sag.py:350: ConvergenceWarning: The max_iter was reached which means the coef_ did not converge\n",
      "  warnings.warn(\n",
      "C:\\Users\\user\\anaconda3\\lib\\site-packages\\sklearn\\linear_model\\_sag.py:350: ConvergenceWarning: The max_iter was reached which means the coef_ did not converge\n",
      "  warnings.warn(\n",
      "C:\\Users\\user\\anaconda3\\lib\\site-packages\\sklearn\\linear_model\\_sag.py:350: ConvergenceWarning: The max_iter was reached which means the coef_ did not converge\n",
      "  warnings.warn(\n",
      "C:\\Users\\user\\anaconda3\\lib\\site-packages\\sklearn\\linear_model\\_sag.py:350: ConvergenceWarning: The max_iter was reached which means the coef_ did not converge\n",
      "  warnings.warn(\n",
      "C:\\Users\\user\\anaconda3\\lib\\site-packages\\sklearn\\linear_model\\_sag.py:350: ConvergenceWarning: The max_iter was reached which means the coef_ did not converge\n",
      "  warnings.warn(\n",
      "C:\\Users\\user\\anaconda3\\lib\\site-packages\\sklearn\\linear_model\\_sag.py:350: ConvergenceWarning: The max_iter was reached which means the coef_ did not converge\n",
      "  warnings.warn(\n",
      "C:\\Users\\user\\anaconda3\\lib\\site-packages\\sklearn\\linear_model\\_sag.py:350: ConvergenceWarning: The max_iter was reached which means the coef_ did not converge\n",
      "  warnings.warn(\n",
      "C:\\Users\\user\\anaconda3\\lib\\site-packages\\sklearn\\linear_model\\_sag.py:350: ConvergenceWarning: The max_iter was reached which means the coef_ did not converge\n",
      "  warnings.warn(\n",
      "C:\\Users\\user\\anaconda3\\lib\\site-packages\\sklearn\\linear_model\\_sag.py:350: ConvergenceWarning: The max_iter was reached which means the coef_ did not converge\n",
      "  warnings.warn(\n",
      "C:\\Users\\user\\anaconda3\\lib\\site-packages\\sklearn\\linear_model\\_sag.py:350: ConvergenceWarning: The max_iter was reached which means the coef_ did not converge\n",
      "  warnings.warn(\n",
      "C:\\Users\\user\\anaconda3\\lib\\site-packages\\sklearn\\linear_model\\_sag.py:350: ConvergenceWarning: The max_iter was reached which means the coef_ did not converge\n",
      "  warnings.warn(\n",
      "C:\\Users\\user\\anaconda3\\lib\\site-packages\\sklearn\\linear_model\\_sag.py:350: ConvergenceWarning: The max_iter was reached which means the coef_ did not converge\n",
      "  warnings.warn(\n",
      "C:\\Users\\user\\anaconda3\\lib\\site-packages\\sklearn\\linear_model\\_sag.py:350: ConvergenceWarning: The max_iter was reached which means the coef_ did not converge\n",
      "  warnings.warn(\n",
      "C:\\Users\\user\\anaconda3\\lib\\site-packages\\sklearn\\linear_model\\_sag.py:350: ConvergenceWarning: The max_iter was reached which means the coef_ did not converge\n",
      "  warnings.warn(\n",
      "C:\\Users\\user\\anaconda3\\lib\\site-packages\\sklearn\\linear_model\\_sag.py:350: ConvergenceWarning: The max_iter was reached which means the coef_ did not converge\n",
      "  warnings.warn(\n",
      "C:\\Users\\user\\anaconda3\\lib\\site-packages\\sklearn\\linear_model\\_sag.py:350: ConvergenceWarning: The max_iter was reached which means the coef_ did not converge\n",
      "  warnings.warn(\n",
      "C:\\Users\\user\\anaconda3\\lib\\site-packages\\sklearn\\linear_model\\_sag.py:350: ConvergenceWarning: The max_iter was reached which means the coef_ did not converge\n",
      "  warnings.warn(\n",
      "C:\\Users\\user\\anaconda3\\lib\\site-packages\\sklearn\\linear_model\\_sag.py:350: ConvergenceWarning: The max_iter was reached which means the coef_ did not converge\n",
      "  warnings.warn(\n",
      "C:\\Users\\user\\anaconda3\\lib\\site-packages\\sklearn\\linear_model\\_sag.py:350: ConvergenceWarning: The max_iter was reached which means the coef_ did not converge\n",
      "  warnings.warn(\n",
      "C:\\Users\\user\\anaconda3\\lib\\site-packages\\sklearn\\linear_model\\_sag.py:350: ConvergenceWarning: The max_iter was reached which means the coef_ did not converge\n",
      "  warnings.warn(\n",
      "C:\\Users\\user\\anaconda3\\lib\\site-packages\\sklearn\\linear_model\\_sag.py:350: ConvergenceWarning: The max_iter was reached which means the coef_ did not converge\n",
      "  warnings.warn(\n",
      "C:\\Users\\user\\anaconda3\\lib\\site-packages\\sklearn\\linear_model\\_sag.py:350: ConvergenceWarning: The max_iter was reached which means the coef_ did not converge\n",
      "  warnings.warn(\n",
      "C:\\Users\\user\\anaconda3\\lib\\site-packages\\sklearn\\linear_model\\_sag.py:350: ConvergenceWarning: The max_iter was reached which means the coef_ did not converge\n",
      "  warnings.warn(\n",
      "C:\\Users\\user\\anaconda3\\lib\\site-packages\\sklearn\\linear_model\\_sag.py:350: ConvergenceWarning: The max_iter was reached which means the coef_ did not converge\n",
      "  warnings.warn(\n",
      "C:\\Users\\user\\anaconda3\\lib\\site-packages\\sklearn\\linear_model\\_sag.py:350: ConvergenceWarning: The max_iter was reached which means the coef_ did not converge\n",
      "  warnings.warn(\n",
      "C:\\Users\\user\\anaconda3\\lib\\site-packages\\sklearn\\linear_model\\_sag.py:350: ConvergenceWarning: The max_iter was reached which means the coef_ did not converge\n",
      "  warnings.warn(\n",
      "C:\\Users\\user\\anaconda3\\lib\\site-packages\\sklearn\\linear_model\\_sag.py:350: ConvergenceWarning: The max_iter was reached which means the coef_ did not converge\n",
      "  warnings.warn(\n",
      "C:\\Users\\user\\anaconda3\\lib\\site-packages\\sklearn\\linear_model\\_sag.py:350: ConvergenceWarning: The max_iter was reached which means the coef_ did not converge\n",
      "  warnings.warn(\n",
      "C:\\Users\\user\\anaconda3\\lib\\site-packages\\sklearn\\linear_model\\_sag.py:350: ConvergenceWarning: The max_iter was reached which means the coef_ did not converge\n",
      "  warnings.warn(\n",
      "C:\\Users\\user\\anaconda3\\lib\\site-packages\\sklearn\\linear_model\\_sag.py:350: ConvergenceWarning: The max_iter was reached which means the coef_ did not converge\n",
      "  warnings.warn(\n",
      "C:\\Users\\user\\anaconda3\\lib\\site-packages\\sklearn\\linear_model\\_sag.py:350: ConvergenceWarning: The max_iter was reached which means the coef_ did not converge\n",
      "  warnings.warn(\n",
      "C:\\Users\\user\\anaconda3\\lib\\site-packages\\sklearn\\linear_model\\_sag.py:350: ConvergenceWarning: The max_iter was reached which means the coef_ did not converge\n",
      "  warnings.warn(\n",
      "C:\\Users\\user\\anaconda3\\lib\\site-packages\\sklearn\\linear_model\\_sag.py:350: ConvergenceWarning: The max_iter was reached which means the coef_ did not converge\n",
      "  warnings.warn(\n",
      "C:\\Users\\user\\anaconda3\\lib\\site-packages\\sklearn\\linear_model\\_sag.py:350: ConvergenceWarning: The max_iter was reached which means the coef_ did not converge\n",
      "  warnings.warn(\n",
      "C:\\Users\\user\\anaconda3\\lib\\site-packages\\sklearn\\linear_model\\_sag.py:350: ConvergenceWarning: The max_iter was reached which means the coef_ did not converge\n",
      "  warnings.warn(\n",
      "C:\\Users\\user\\anaconda3\\lib\\site-packages\\sklearn\\linear_model\\_sag.py:350: ConvergenceWarning: The max_iter was reached which means the coef_ did not converge\n",
      "  warnings.warn(\n",
      "C:\\Users\\user\\anaconda3\\lib\\site-packages\\sklearn\\linear_model\\_sag.py:350: ConvergenceWarning: The max_iter was reached which means the coef_ did not converge\n",
      "  warnings.warn(\n",
      "C:\\Users\\user\\anaconda3\\lib\\site-packages\\sklearn\\linear_model\\_sag.py:350: ConvergenceWarning: The max_iter was reached which means the coef_ did not converge\n",
      "  warnings.warn(\n",
      "C:\\Users\\user\\anaconda3\\lib\\site-packages\\sklearn\\linear_model\\_sag.py:350: ConvergenceWarning: The max_iter was reached which means the coef_ did not converge\n",
      "  warnings.warn(\n",
      "C:\\Users\\user\\anaconda3\\lib\\site-packages\\sklearn\\linear_model\\_sag.py:350: ConvergenceWarning: The max_iter was reached which means the coef_ did not converge\n",
      "  warnings.warn(\n",
      "C:\\Users\\user\\anaconda3\\lib\\site-packages\\sklearn\\linear_model\\_sag.py:350: ConvergenceWarning: The max_iter was reached which means the coef_ did not converge\n",
      "  warnings.warn(\n",
      "C:\\Users\\user\\anaconda3\\lib\\site-packages\\sklearn\\linear_model\\_sag.py:350: ConvergenceWarning: The max_iter was reached which means the coef_ did not converge\n",
      "  warnings.warn(\n",
      "C:\\Users\\user\\anaconda3\\lib\\site-packages\\sklearn\\linear_model\\_sag.py:350: ConvergenceWarning: The max_iter was reached which means the coef_ did not converge\n",
      "  warnings.warn(\n",
      "C:\\Users\\user\\anaconda3\\lib\\site-packages\\sklearn\\linear_model\\_sag.py:350: ConvergenceWarning: The max_iter was reached which means the coef_ did not converge\n",
      "  warnings.warn(\n",
      "C:\\Users\\user\\anaconda3\\lib\\site-packages\\sklearn\\linear_model\\_sag.py:350: ConvergenceWarning: The max_iter was reached which means the coef_ did not converge\n",
      "  warnings.warn(\n",
      "C:\\Users\\user\\anaconda3\\lib\\site-packages\\sklearn\\linear_model\\_sag.py:350: ConvergenceWarning: The max_iter was reached which means the coef_ did not converge\n",
      "  warnings.warn(\n",
      "C:\\Users\\user\\anaconda3\\lib\\site-packages\\sklearn\\linear_model\\_sag.py:350: ConvergenceWarning: The max_iter was reached which means the coef_ did not converge\n",
      "  warnings.warn(\n",
      "C:\\Users\\user\\anaconda3\\lib\\site-packages\\sklearn\\linear_model\\_sag.py:350: ConvergenceWarning: The max_iter was reached which means the coef_ did not converge\n",
      "  warnings.warn(\n",
      "C:\\Users\\user\\anaconda3\\lib\\site-packages\\sklearn\\linear_model\\_sag.py:350: ConvergenceWarning: The max_iter was reached which means the coef_ did not converge\n",
      "  warnings.warn(\n",
      "C:\\Users\\user\\anaconda3\\lib\\site-packages\\sklearn\\linear_model\\_sag.py:350: ConvergenceWarning: The max_iter was reached which means the coef_ did not converge\n",
      "  warnings.warn(\n",
      "C:\\Users\\user\\anaconda3\\lib\\site-packages\\sklearn\\linear_model\\_sag.py:350: ConvergenceWarning: The max_iter was reached which means the coef_ did not converge\n",
      "  warnings.warn(\n",
      "C:\\Users\\user\\anaconda3\\lib\\site-packages\\sklearn\\linear_model\\_sag.py:350: ConvergenceWarning: The max_iter was reached which means the coef_ did not converge\n",
      "  warnings.warn(\n",
      "C:\\Users\\user\\anaconda3\\lib\\site-packages\\sklearn\\linear_model\\_sag.py:350: ConvergenceWarning: The max_iter was reached which means the coef_ did not converge\n",
      "  warnings.warn(\n",
      "C:\\Users\\user\\anaconda3\\lib\\site-packages\\sklearn\\linear_model\\_sag.py:350: ConvergenceWarning: The max_iter was reached which means the coef_ did not converge\n",
      "  warnings.warn(\n",
      "C:\\Users\\user\\anaconda3\\lib\\site-packages\\sklearn\\linear_model\\_sag.py:350: ConvergenceWarning: The max_iter was reached which means the coef_ did not converge\n",
      "  warnings.warn(\n",
      "C:\\Users\\user\\anaconda3\\lib\\site-packages\\sklearn\\linear_model\\_sag.py:350: ConvergenceWarning: The max_iter was reached which means the coef_ did not converge\n",
      "  warnings.warn(\n",
      "C:\\Users\\user\\anaconda3\\lib\\site-packages\\sklearn\\linear_model\\_sag.py:350: ConvergenceWarning: The max_iter was reached which means the coef_ did not converge\n",
      "  warnings.warn(\n",
      "C:\\Users\\user\\anaconda3\\lib\\site-packages\\sklearn\\linear_model\\_sag.py:350: ConvergenceWarning: The max_iter was reached which means the coef_ did not converge\n",
      "  warnings.warn(\n",
      "C:\\Users\\user\\anaconda3\\lib\\site-packages\\sklearn\\linear_model\\_sag.py:350: ConvergenceWarning: The max_iter was reached which means the coef_ did not converge\n",
      "  warnings.warn(\n",
      "C:\\Users\\user\\anaconda3\\lib\\site-packages\\sklearn\\linear_model\\_sag.py:350: ConvergenceWarning: The max_iter was reached which means the coef_ did not converge\n",
      "  warnings.warn(\n",
      "C:\\Users\\user\\anaconda3\\lib\\site-packages\\sklearn\\linear_model\\_sag.py:350: ConvergenceWarning: The max_iter was reached which means the coef_ did not converge\n",
      "  warnings.warn(\n",
      "C:\\Users\\user\\anaconda3\\lib\\site-packages\\sklearn\\linear_model\\_sag.py:350: ConvergenceWarning: The max_iter was reached which means the coef_ did not converge\n",
      "  warnings.warn(\n",
      "C:\\Users\\user\\anaconda3\\lib\\site-packages\\sklearn\\linear_model\\_sag.py:350: ConvergenceWarning: The max_iter was reached which means the coef_ did not converge\n",
      "  warnings.warn(\n",
      "C:\\Users\\user\\anaconda3\\lib\\site-packages\\sklearn\\linear_model\\_sag.py:350: ConvergenceWarning: The max_iter was reached which means the coef_ did not converge\n",
      "  warnings.warn(\n",
      "C:\\Users\\user\\anaconda3\\lib\\site-packages\\sklearn\\linear_model\\_sag.py:350: ConvergenceWarning: The max_iter was reached which means the coef_ did not converge\n",
      "  warnings.warn(\n",
      "C:\\Users\\user\\anaconda3\\lib\\site-packages\\sklearn\\linear_model\\_sag.py:350: ConvergenceWarning: The max_iter was reached which means the coef_ did not converge\n",
      "  warnings.warn(\n",
      "C:\\Users\\user\\anaconda3\\lib\\site-packages\\sklearn\\linear_model\\_sag.py:350: ConvergenceWarning: The max_iter was reached which means the coef_ did not converge\n",
      "  warnings.warn(\n",
      "C:\\Users\\user\\anaconda3\\lib\\site-packages\\sklearn\\linear_model\\_sag.py:350: ConvergenceWarning: The max_iter was reached which means the coef_ did not converge\n",
      "  warnings.warn(\n",
      "C:\\Users\\user\\anaconda3\\lib\\site-packages\\sklearn\\linear_model\\_sag.py:350: ConvergenceWarning: The max_iter was reached which means the coef_ did not converge\n",
      "  warnings.warn(\n",
      "C:\\Users\\user\\anaconda3\\lib\\site-packages\\sklearn\\linear_model\\_sag.py:350: ConvergenceWarning: The max_iter was reached which means the coef_ did not converge\n",
      "  warnings.warn(\n",
      "C:\\Users\\user\\anaconda3\\lib\\site-packages\\sklearn\\linear_model\\_sag.py:350: ConvergenceWarning: The max_iter was reached which means the coef_ did not converge\n",
      "  warnings.warn(\n",
      "C:\\Users\\user\\anaconda3\\lib\\site-packages\\sklearn\\linear_model\\_sag.py:350: ConvergenceWarning: The max_iter was reached which means the coef_ did not converge\n",
      "  warnings.warn(\n",
      "C:\\Users\\user\\anaconda3\\lib\\site-packages\\sklearn\\linear_model\\_sag.py:350: ConvergenceWarning: The max_iter was reached which means the coef_ did not converge\n",
      "  warnings.warn(\n",
      "C:\\Users\\user\\anaconda3\\lib\\site-packages\\sklearn\\linear_model\\_sag.py:350: ConvergenceWarning: The max_iter was reached which means the coef_ did not converge\n",
      "  warnings.warn(\n",
      "C:\\Users\\user\\anaconda3\\lib\\site-packages\\sklearn\\linear_model\\_sag.py:350: ConvergenceWarning: The max_iter was reached which means the coef_ did not converge\n",
      "  warnings.warn(\n",
      "C:\\Users\\user\\anaconda3\\lib\\site-packages\\sklearn\\linear_model\\_sag.py:350: ConvergenceWarning: The max_iter was reached which means the coef_ did not converge\n",
      "  warnings.warn(\n",
      "C:\\Users\\user\\anaconda3\\lib\\site-packages\\sklearn\\linear_model\\_sag.py:350: ConvergenceWarning: The max_iter was reached which means the coef_ did not converge\n",
      "  warnings.warn(\n",
      "C:\\Users\\user\\anaconda3\\lib\\site-packages\\sklearn\\linear_model\\_sag.py:350: ConvergenceWarning: The max_iter was reached which means the coef_ did not converge\n",
      "  warnings.warn(\n",
      "C:\\Users\\user\\anaconda3\\lib\\site-packages\\sklearn\\linear_model\\_sag.py:350: ConvergenceWarning: The max_iter was reached which means the coef_ did not converge\n",
      "  warnings.warn(\n",
      "C:\\Users\\user\\anaconda3\\lib\\site-packages\\sklearn\\linear_model\\_sag.py:350: ConvergenceWarning: The max_iter was reached which means the coef_ did not converge\n",
      "  warnings.warn(\n",
      "C:\\Users\\user\\anaconda3\\lib\\site-packages\\sklearn\\linear_model\\_sag.py:350: ConvergenceWarning: The max_iter was reached which means the coef_ did not converge\n",
      "  warnings.warn(\n",
      "C:\\Users\\user\\anaconda3\\lib\\site-packages\\sklearn\\linear_model\\_sag.py:350: ConvergenceWarning: The max_iter was reached which means the coef_ did not converge\n",
      "  warnings.warn(\n",
      "C:\\Users\\user\\anaconda3\\lib\\site-packages\\sklearn\\linear_model\\_sag.py:350: ConvergenceWarning: The max_iter was reached which means the coef_ did not converge\n",
      "  warnings.warn(\n",
      "C:\\Users\\user\\anaconda3\\lib\\site-packages\\sklearn\\linear_model\\_sag.py:350: ConvergenceWarning: The max_iter was reached which means the coef_ did not converge\n",
      "  warnings.warn(\n",
      "C:\\Users\\user\\anaconda3\\lib\\site-packages\\sklearn\\linear_model\\_sag.py:350: ConvergenceWarning: The max_iter was reached which means the coef_ did not converge\n",
      "  warnings.warn(\n",
      "C:\\Users\\user\\anaconda3\\lib\\site-packages\\sklearn\\linear_model\\_sag.py:350: ConvergenceWarning: The max_iter was reached which means the coef_ did not converge\n",
      "  warnings.warn(\n",
      "C:\\Users\\user\\anaconda3\\lib\\site-packages\\sklearn\\linear_model\\_sag.py:350: ConvergenceWarning: The max_iter was reached which means the coef_ did not converge\n",
      "  warnings.warn(\n",
      "C:\\Users\\user\\anaconda3\\lib\\site-packages\\sklearn\\linear_model\\_sag.py:350: ConvergenceWarning: The max_iter was reached which means the coef_ did not converge\n",
      "  warnings.warn(\n",
      "C:\\Users\\user\\anaconda3\\lib\\site-packages\\sklearn\\linear_model\\_sag.py:350: ConvergenceWarning: The max_iter was reached which means the coef_ did not converge\n",
      "  warnings.warn(\n",
      "C:\\Users\\user\\anaconda3\\lib\\site-packages\\sklearn\\linear_model\\_sag.py:350: ConvergenceWarning: The max_iter was reached which means the coef_ did not converge\n",
      "  warnings.warn(\n",
      "C:\\Users\\user\\anaconda3\\lib\\site-packages\\sklearn\\linear_model\\_sag.py:350: ConvergenceWarning: The max_iter was reached which means the coef_ did not converge\n",
      "  warnings.warn(\n",
      "C:\\Users\\user\\anaconda3\\lib\\site-packages\\sklearn\\linear_model\\_sag.py:350: ConvergenceWarning: The max_iter was reached which means the coef_ did not converge\n",
      "  warnings.warn(\n",
      "C:\\Users\\user\\anaconda3\\lib\\site-packages\\sklearn\\linear_model\\_sag.py:350: ConvergenceWarning: The max_iter was reached which means the coef_ did not converge\n",
      "  warnings.warn(\n",
      "C:\\Users\\user\\anaconda3\\lib\\site-packages\\sklearn\\linear_model\\_sag.py:350: ConvergenceWarning: The max_iter was reached which means the coef_ did not converge\n",
      "  warnings.warn(\n",
      "C:\\Users\\user\\anaconda3\\lib\\site-packages\\sklearn\\linear_model\\_sag.py:350: ConvergenceWarning: The max_iter was reached which means the coef_ did not converge\n",
      "  warnings.warn(\n",
      "C:\\Users\\user\\anaconda3\\lib\\site-packages\\sklearn\\linear_model\\_sag.py:350: ConvergenceWarning: The max_iter was reached which means the coef_ did not converge\n",
      "  warnings.warn(\n",
      "C:\\Users\\user\\anaconda3\\lib\\site-packages\\sklearn\\linear_model\\_sag.py:350: ConvergenceWarning: The max_iter was reached which means the coef_ did not converge\n",
      "  warnings.warn(\n",
      "C:\\Users\\user\\anaconda3\\lib\\site-packages\\sklearn\\linear_model\\_sag.py:350: ConvergenceWarning: The max_iter was reached which means the coef_ did not converge\n",
      "  warnings.warn(\n",
      "C:\\Users\\user\\anaconda3\\lib\\site-packages\\sklearn\\linear_model\\_sag.py:350: ConvergenceWarning: The max_iter was reached which means the coef_ did not converge\n",
      "  warnings.warn(\n",
      "C:\\Users\\user\\anaconda3\\lib\\site-packages\\sklearn\\linear_model\\_sag.py:350: ConvergenceWarning: The max_iter was reached which means the coef_ did not converge\n",
      "  warnings.warn(\n",
      "C:\\Users\\user\\anaconda3\\lib\\site-packages\\sklearn\\linear_model\\_sag.py:350: ConvergenceWarning: The max_iter was reached which means the coef_ did not converge\n",
      "  warnings.warn(\n",
      "C:\\Users\\user\\anaconda3\\lib\\site-packages\\sklearn\\linear_model\\_sag.py:350: ConvergenceWarning: The max_iter was reached which means the coef_ did not converge\n",
      "  warnings.warn(\n",
      "C:\\Users\\user\\anaconda3\\lib\\site-packages\\sklearn\\linear_model\\_sag.py:350: ConvergenceWarning: The max_iter was reached which means the coef_ did not converge\n",
      "  warnings.warn(\n",
      "C:\\Users\\user\\anaconda3\\lib\\site-packages\\sklearn\\linear_model\\_sag.py:350: ConvergenceWarning: The max_iter was reached which means the coef_ did not converge\n",
      "  warnings.warn(\n",
      "C:\\Users\\user\\anaconda3\\lib\\site-packages\\sklearn\\linear_model\\_sag.py:350: ConvergenceWarning: The max_iter was reached which means the coef_ did not converge\n",
      "  warnings.warn(\n",
      "C:\\Users\\user\\anaconda3\\lib\\site-packages\\sklearn\\linear_model\\_sag.py:350: ConvergenceWarning: The max_iter was reached which means the coef_ did not converge\n",
      "  warnings.warn(\n",
      "C:\\Users\\user\\anaconda3\\lib\\site-packages\\sklearn\\linear_model\\_sag.py:350: ConvergenceWarning: The max_iter was reached which means the coef_ did not converge\n",
      "  warnings.warn(\n",
      "C:\\Users\\user\\anaconda3\\lib\\site-packages\\sklearn\\linear_model\\_sag.py:350: ConvergenceWarning: The max_iter was reached which means the coef_ did not converge\n",
      "  warnings.warn(\n",
      "C:\\Users\\user\\anaconda3\\lib\\site-packages\\sklearn\\linear_model\\_sag.py:350: ConvergenceWarning: The max_iter was reached which means the coef_ did not converge\n",
      "  warnings.warn(\n",
      "C:\\Users\\user\\anaconda3\\lib\\site-packages\\sklearn\\linear_model\\_sag.py:350: ConvergenceWarning: The max_iter was reached which means the coef_ did not converge\n",
      "  warnings.warn(\n",
      "C:\\Users\\user\\anaconda3\\lib\\site-packages\\sklearn\\linear_model\\_sag.py:350: ConvergenceWarning: The max_iter was reached which means the coef_ did not converge\n",
      "  warnings.warn(\n",
      "C:\\Users\\user\\anaconda3\\lib\\site-packages\\sklearn\\linear_model\\_sag.py:350: ConvergenceWarning: The max_iter was reached which means the coef_ did not converge\n",
      "  warnings.warn(\n",
      "C:\\Users\\user\\anaconda3\\lib\\site-packages\\sklearn\\linear_model\\_sag.py:350: ConvergenceWarning: The max_iter was reached which means the coef_ did not converge\n",
      "  warnings.warn(\n",
      "C:\\Users\\user\\anaconda3\\lib\\site-packages\\sklearn\\linear_model\\_sag.py:350: ConvergenceWarning: The max_iter was reached which means the coef_ did not converge\n",
      "  warnings.warn(\n",
      "C:\\Users\\user\\anaconda3\\lib\\site-packages\\sklearn\\linear_model\\_sag.py:350: ConvergenceWarning: The max_iter was reached which means the coef_ did not converge\n",
      "  warnings.warn(\n",
      "C:\\Users\\user\\anaconda3\\lib\\site-packages\\sklearn\\linear_model\\_sag.py:350: ConvergenceWarning: The max_iter was reached which means the coef_ did not converge\n",
      "  warnings.warn(\n",
      "C:\\Users\\user\\anaconda3\\lib\\site-packages\\sklearn\\linear_model\\_sag.py:350: ConvergenceWarning: The max_iter was reached which means the coef_ did not converge\n",
      "  warnings.warn(\n",
      "C:\\Users\\user\\anaconda3\\lib\\site-packages\\sklearn\\linear_model\\_sag.py:350: ConvergenceWarning: The max_iter was reached which means the coef_ did not converge\n",
      "  warnings.warn(\n",
      "C:\\Users\\user\\anaconda3\\lib\\site-packages\\sklearn\\linear_model\\_sag.py:350: ConvergenceWarning: The max_iter was reached which means the coef_ did not converge\n",
      "  warnings.warn(\n",
      "C:\\Users\\user\\anaconda3\\lib\\site-packages\\sklearn\\linear_model\\_sag.py:350: ConvergenceWarning: The max_iter was reached which means the coef_ did not converge\n",
      "  warnings.warn(\n",
      "C:\\Users\\user\\anaconda3\\lib\\site-packages\\sklearn\\linear_model\\_sag.py:350: ConvergenceWarning: The max_iter was reached which means the coef_ did not converge\n",
      "  warnings.warn(\n",
      "C:\\Users\\user\\anaconda3\\lib\\site-packages\\sklearn\\linear_model\\_sag.py:350: ConvergenceWarning: The max_iter was reached which means the coef_ did not converge\n",
      "  warnings.warn(\n",
      "C:\\Users\\user\\anaconda3\\lib\\site-packages\\sklearn\\linear_model\\_sag.py:350: ConvergenceWarning: The max_iter was reached which means the coef_ did not converge\n",
      "  warnings.warn(\n",
      "C:\\Users\\user\\anaconda3\\lib\\site-packages\\sklearn\\linear_model\\_sag.py:350: ConvergenceWarning: The max_iter was reached which means the coef_ did not converge\n",
      "  warnings.warn(\n",
      "C:\\Users\\user\\anaconda3\\lib\\site-packages\\sklearn\\linear_model\\_sag.py:350: ConvergenceWarning: The max_iter was reached which means the coef_ did not converge\n",
      "  warnings.warn(\n",
      "C:\\Users\\user\\anaconda3\\lib\\site-packages\\sklearn\\linear_model\\_sag.py:350: ConvergenceWarning: The max_iter was reached which means the coef_ did not converge\n",
      "  warnings.warn(\n",
      "C:\\Users\\user\\anaconda3\\lib\\site-packages\\sklearn\\linear_model\\_sag.py:350: ConvergenceWarning: The max_iter was reached which means the coef_ did not converge\n",
      "  warnings.warn(\n",
      "C:\\Users\\user\\anaconda3\\lib\\site-packages\\sklearn\\linear_model\\_sag.py:350: ConvergenceWarning: The max_iter was reached which means the coef_ did not converge\n",
      "  warnings.warn(\n",
      "C:\\Users\\user\\anaconda3\\lib\\site-packages\\sklearn\\linear_model\\_sag.py:350: ConvergenceWarning: The max_iter was reached which means the coef_ did not converge\n",
      "  warnings.warn(\n",
      "C:\\Users\\user\\anaconda3\\lib\\site-packages\\sklearn\\linear_model\\_sag.py:350: ConvergenceWarning: The max_iter was reached which means the coef_ did not converge\n",
      "  warnings.warn(\n",
      "C:\\Users\\user\\anaconda3\\lib\\site-packages\\sklearn\\linear_model\\_sag.py:350: ConvergenceWarning: The max_iter was reached which means the coef_ did not converge\n",
      "  warnings.warn(\n",
      "C:\\Users\\user\\anaconda3\\lib\\site-packages\\sklearn\\linear_model\\_sag.py:350: ConvergenceWarning: The max_iter was reached which means the coef_ did not converge\n",
      "  warnings.warn(\n",
      "C:\\Users\\user\\anaconda3\\lib\\site-packages\\sklearn\\linear_model\\_sag.py:350: ConvergenceWarning: The max_iter was reached which means the coef_ did not converge\n",
      "  warnings.warn(\n",
      "C:\\Users\\user\\anaconda3\\lib\\site-packages\\sklearn\\linear_model\\_sag.py:350: ConvergenceWarning: The max_iter was reached which means the coef_ did not converge\n",
      "  warnings.warn(\n"
     ]
    },
    {
     "data": {
      "text/plain": "{'C': 0.8364285714285714, 'penalty': 'l1', 'solver': 'liblinear'}"
     },
     "execution_count": 69,
     "metadata": {},
     "output_type": "execute_result"
    }
   ],
   "source": [
    "from sklearn.linear_model import LogisticRegression\n",
    "\n",
    "# Define the range of values for each hyperparameter\n",
    "C = np.linspace(0.01, 0.9, 15)\n",
    "PENALTY = ['l1', 'l2']\n",
    "SOLVER = ['liblinear', 'saga']\n",
    "\n",
    "PARAM_GRID  = {\n",
    "    'C': C,\n",
    "    'penalty': PENALTY,\n",
    "    'solver': SOLVER\n",
    "}\n",
    "\n",
    "# Create the logistic regression estimator\n",
    "estimator = LogisticRegression(random_state=420)\n",
    "\n",
    "# Use grid search and cross-validation to tune the hyper parameters\n",
    "model_searcher = GridSearchCV(estimator, PARAM_GRID, verbose=0)\n",
    "model_searcher.fit(X_train_preprocessed, y_train)\n",
    "\n",
    "# The best combination of hyperparameters\n",
    "model_searcher.best_params_"
   ],
   "metadata": {
    "collapsed": false,
    "ExecuteTime": {
     "end_time": "2023-06-11T12:13:47.867059900Z",
     "start_time": "2023-06-11T12:13:27.452960Z"
    }
   }
  },
  {
   "cell_type": "code",
   "execution_count": 70,
   "outputs": [
    {
     "name": "stdout",
     "output_type": "stream",
     "text": [
      "Logistic Regression (test data)\n",
      "Accuracy: 0.53\n",
      "Precision: 0.57\n",
      "Recall: 0.39\n",
      "F1-score: 0.46\n",
      "ROC-AUC score: 0.53\n"
     ]
    },
    {
     "data": {
      "text/plain": "<Figure size 576x576 with 2 Axes>",
      "image/png": "[encoded data removed]"
     },
     "metadata": {},
     "output_type": "display_data"
    }
   ],
   "source": [
    "# Get the best estimator\n",
    "log_reg_best_estimator = model_searcher.best_estimator_\n",
    "y_test_pred = log_reg_best_estimator.predict(X_test_preprocessed)\n",
    "\n",
    "evaluate_model(\"Logistic Regression (test data)\", y_test, y_test_pred)"
   ],
   "metadata": {
    "collapsed": false,
    "ExecuteTime": {
     "end_time": "2023-06-11T12:13:48.020232700Z",
     "start_time": "2023-06-11T12:13:47.871049Z"
    }
   }
  },
  {
   "cell_type": "markdown",
   "source": [
    "Gradient Boosting model"
   ],
   "metadata": {
    "collapsed": false
   }
  },
  {
   "cell_type": "code",
   "execution_count": 71,
   "outputs": [
    {
     "data": {
      "text/plain": "{'learning_rate': 0.11888888888888888, 'max_depth': 2, 'n_estimators': 115}"
     },
     "execution_count": 71,
     "metadata": {},
     "output_type": "execute_result"
    }
   ],
   "source": [
    "from sklearn.ensemble import GradientBoostingClassifier\n",
    "\n",
    "# Define the range of values for each hyperparameter\n",
    "LEARNING_RATE = np.linspace(0.01, 0.5, 10)\n",
    "MAX_DEPTH = range(2, 5)\n",
    "N_ESTIMATORS = range(100, 180, 15)\n",
    "\n",
    "\n",
    "PARAM_GRID  = {\n",
    "    'learning_rate': LEARNING_RATE,\n",
    "    'max_depth': MAX_DEPTH,\n",
    "    'n_estimators': N_ESTIMATORS\n",
    "}\n",
    "\n",
    "# Create the gradient boosting estimator\n",
    "estimator = GradientBoostingClassifier(random_state=420)\n",
    "\n",
    "# Use grid search and cross-validation to tune the hyper parameters\n",
    "model_searcher = GridSearchCV(estimator, PARAM_GRID, verbose=0)\n",
    "model_searcher.fit(X_train_preprocessed, y_train)\n",
    "\n",
    "# The best combination of hyperparameters\n",
    "model_searcher.best_params_"
   ],
   "metadata": {
    "collapsed": false,
    "ExecuteTime": {
     "end_time": "2023-06-11T12:47:15.353974Z",
     "start_time": "2023-06-11T12:13:48.021229900Z"
    }
   }
  },
  {
   "cell_type": "code",
   "execution_count": 72,
   "outputs": [
    {
     "name": "stdout",
     "output_type": "stream",
     "text": [
      "Gradient Boosting (test data)\n",
      "Accuracy: 0.53\n",
      "Precision: 0.56\n",
      "Recall: 0.43\n",
      "F1-score: 0.49\n",
      "ROC-AUC score: 0.53\n"
     ]
    },
    {
     "data": {
      "text/plain": "<Figure size 576x576 with 2 Axes>",
      "image/png": "[encoded data removed]"
     },
     "metadata": {},
     "output_type": "display_data"
    }
   ],
   "source": [
    "# Get the best estimator\n",
    "gb_best_estimator = model_searcher.best_estimator_\n",
    "y_test_pred = gb_best_estimator.predict(X_test_preprocessed)\n",
    "\n",
    "evaluate_model(\"Gradient Boosting (test data)\", y_test, y_test_pred)"
   ],
   "metadata": {
    "collapsed": false,
    "ExecuteTime": {
     "end_time": "2023-06-11T12:47:15.525032100Z",
     "start_time": "2023-06-11T12:47:15.338501900Z"
    }
   }
  },
  {
   "cell_type": "markdown",
   "source": [
    "Random Forest model"
   ],
   "metadata": {
    "collapsed": false
   }
  },
  {
   "cell_type": "code",
   "execution_count": 73,
   "outputs": [
    {
     "data": {
      "text/plain": "{'max_depth': 3,\n 'min_samples_leaf': 2,\n 'min_samples_split': 2,\n 'n_estimators': 80}"
     },
     "execution_count": 73,
     "metadata": {},
     "output_type": "execute_result"
    }
   ],
   "source": [
    "from sklearn.ensemble import RandomForestClassifier\n",
    "\n",
    "# Define the range of values for each hyperparameter\n",
    "N_ESTIMATORS = range(50, 120, 15)\n",
    "MAX_DEPTH = range(2, 5)\n",
    "MIN_SAMPLES_SPLIT = range(2, 4)\n",
    "MIN_SAMPLES_LEAF = range(1, 4)\n",
    "\n",
    "PARAM_GRID  = {\n",
    "    'n_estimators': N_ESTIMATORS,\n",
    "    'max_depth': MAX_DEPTH,\n",
    "    'min_samples_split': MIN_SAMPLES_SPLIT,\n",
    "    'min_samples_leaf': MIN_SAMPLES_LEAF\n",
    "}\n",
    "\n",
    "# Create the random forest estimator\n",
    "estimator = RandomForestClassifier(random_state=420)\n",
    "\n",
    "# Use grid search and cross-validation to tune the hyper parameters\n",
    "model_searcher = GridSearchCV(estimator, PARAM_GRID, verbose=0)\n",
    "model_searcher.fit(X_train_preprocessed, y_train)\n",
    "\n",
    "# The best combination of hyperparameters\n",
    "model_searcher.best_params_"
   ],
   "metadata": {
    "collapsed": false,
    "ExecuteTime": {
     "end_time": "2023-06-11T12:48:34.450749200Z",
     "start_time": "2023-06-11T12:47:15.526029500Z"
    }
   }
  },
  {
   "cell_type": "code",
   "execution_count": 74,
   "outputs": [
    {
     "name": "stdout",
     "output_type": "stream",
     "text": [
      "Random Forest (test data)\n",
      "Accuracy: 0.52\n",
      "Precision: 0.57\n",
      "Recall: 0.35\n",
      "F1-score: 0.43\n",
      "ROC-AUC score: 0.53\n"
     ]
    },
    {
     "data": {
      "text/plain": "<Figure size 576x576 with 2 Axes>",
      "image/png": "[encoded data removed]"
     },
     "metadata": {},
     "output_type": "display_data"
    }
   ],
   "source": [
    "rf_best_estimator = model_searcher.best_estimator_\n",
    "y_test_pred = rf_best_estimator.predict(X_test_preprocessed)\n",
    "\n",
    "evaluate_model(\"Random Forest (test data)\", y_test, y_test_pred)"
   ],
   "metadata": {
    "collapsed": false,
    "ExecuteTime": {
     "end_time": "2023-06-11T12:48:34.561086400Z",
     "start_time": "2023-06-11T12:48:34.453739400Z"
    }
   }
  },
  {
   "cell_type": "markdown",
   "source": [
    "XGBoost model"
   ],
   "metadata": {
    "collapsed": false
   }
  },
  {
   "cell_type": "code",
   "execution_count": 75,
   "outputs": [
    {
     "data": {
      "text/plain": "{'learning_rate': 0.15000000000000002, 'max_depth': 1, 'n_estimators': 100}"
     },
     "execution_count": 75,
     "metadata": {},
     "output_type": "execute_result"
    }
   ],
   "source": [
    "from xgboost import XGBClassifier\n",
    "\n",
    "# Define the range of values for each hyperparameter\n",
    "LEARNING_RATE = np.linspace(0.05, 0.5, 10)\n",
    "MAX_DEPTH = range(1, 4)\n",
    "N_ESTIMATORS = range(70, 150, 15)\n",
    "\n",
    "PARAM_GRID  = {\n",
    "    'learning_rate': LEARNING_RATE,\n",
    "    'max_depth': MAX_DEPTH,\n",
    "    'n_estimators': N_ESTIMATORS\n",
    "}\n",
    "\n",
    "# Create the XGBoost estimator\n",
    "estimator = XGBClassifier(random_state=420)\n",
    "\n",
    "# Use grid search and cross-validation to tune the hyper parameters\n",
    "model_searcher = GridSearchCV(estimator, PARAM_GRID, verbose=0)\n",
    "model_searcher.fit(X_train_preprocessed, y_train)\n",
    "\n",
    "# The best combination of hyperparameters\n",
    "model_searcher.best_params_"
   ],
   "metadata": {
    "collapsed": false,
    "ExecuteTime": {
     "end_time": "2023-06-11T12:50:28.349132Z",
     "start_time": "2023-06-11T12:48:34.565107800Z"
    }
   }
  },
  {
   "cell_type": "markdown",
   "source": [
    "Evaluate the best model on the test data"
   ],
   "metadata": {
    "collapsed": false
   }
  },
  {
   "cell_type": "code",
   "execution_count": 76,
   "outputs": [
    {
     "name": "stdout",
     "output_type": "stream",
     "text": [
      "XGBoost (test data)\n",
      "Accuracy: 0.51\n",
      "Precision: 0.55\n",
      "Recall: 0.4\n",
      "F1-score: 0.46\n",
      "ROC-AUC score: 0.52\n"
     ]
    },
    {
     "data": {
      "text/plain": "<Figure size 576x576 with 2 Axes>",
      "image/png": "[encoded data removed]"
     },
     "metadata": {},
     "output_type": "display_data"
    }
   ],
   "source": [
    "xgb_best_estimator = model_searcher.best_estimator_\n",
    "y_test_pred = xgb_best_estimator.predict(X_test_preprocessed)\n",
    "\n",
    "evaluate_model(\"XGBoost (test data)\", y_test, y_test_pred)"
   ],
   "metadata": {
    "collapsed": false,
    "ExecuteTime": {
     "end_time": "2023-06-11T12:50:28.504232800Z",
     "start_time": "2023-06-11T12:50:28.351128100Z"
    }
   }
  },
  {
   "cell_type": "markdown",
   "source": [
    "TabNetClassifier with automatic hyperparameters tuning"
   ],
   "metadata": {
    "collapsed": false
   }
  },
  {
   "cell_type": "code",
   "execution_count": 77,
   "outputs": [
    {
     "name": "stdout",
     "output_type": "stream",
     "text": [
      "Requirement already satisfied: pytorch-tabnet in c:\\users\\user\\anaconda3\\lib\\site-packages (4.0)\n",
      "Requirement already satisfied: scikit_learn>0.21 in c:\\users\\user\\anaconda3\\lib\\site-packages (from pytorch-tabnet) (1.2.2)\n",
      "Requirement already satisfied: torch<2.0,>=1.2 in c:\\users\\user\\anaconda3\\lib\\site-packages (from pytorch-tabnet) (1.13.1)\n",
      "Requirement already satisfied: scipy>1.4 in c:\\users\\user\\appdata\\roaming\\python\\python39\\site-packages (from pytorch-tabnet) (1.10.1)\n",
      "Requirement already satisfied: tqdm<5.0,>=4.36 in c:\\users\\user\\anaconda3\\lib\\site-packages (from pytorch-tabnet) (4.62.3)\n",
      "Requirement already satisfied: numpy<2.0,>=1.17 in c:\\users\\user\\anaconda3\\lib\\site-packages (from pytorch-tabnet) (1.20.3)\n",
      "Requirement already satisfied: joblib>=1.1.1 in c:\\users\\user\\anaconda3\\lib\\site-packages (from scikit_learn>0.21->pytorch-tabnet) (1.2.0)\n",
      "Requirement already satisfied: threadpoolctl>=2.0.0 in c:\\users\\user\\anaconda3\\lib\\site-packages (from scikit_learn>0.21->pytorch-tabnet) (2.2.0)\n",
      "Requirement already satisfied: typing-extensions in c:\\users\\user\\anaconda3\\lib\\site-packages (from torch<2.0,>=1.2->pytorch-tabnet) (4.4.0)\n",
      "Requirement already satisfied: colorama in c:\\users\\user\\anaconda3\\lib\\site-packages (from tqdm<5.0,>=4.36->pytorch-tabnet) (0.4.4)\n",
      "Requirement already satisfied: optuna in c:\\users\\user\\anaconda3\\lib\\site-packages (3.1.1)\n",
      "Requirement already satisfied: sqlalchemy>=1.3.0 in c:\\users\\user\\anaconda3\\lib\\site-packages (from optuna) (1.4.22)\n",
      "Requirement already satisfied: alembic>=1.5.0 in c:\\users\\user\\anaconda3\\lib\\site-packages (from optuna) (1.10.3)\n",
      "Requirement already satisfied: colorlog in c:\\users\\user\\anaconda3\\lib\\site-packages (from optuna) (6.7.0)\n",
      "Requirement already satisfied: numpy in c:\\users\\user\\anaconda3\\lib\\site-packages (from optuna) (1.20.3)\n",
      "Requirement already satisfied: PyYAML in c:\\users\\user\\anaconda3\\lib\\site-packages (from optuna) (6.0)\n",
      "Requirement already satisfied: packaging>=20.0 in c:\\users\\user\\anaconda3\\lib\\site-packages (from optuna) (23.0)\n",
      "Requirement already satisfied: cmaes>=0.9.1 in c:\\users\\user\\anaconda3\\lib\\site-packages (from optuna) (0.9.1)\n",
      "Requirement already satisfied: tqdm in c:\\users\\user\\anaconda3\\lib\\site-packages (from optuna) (4.62.3)\n",
      "Requirement already satisfied: typing-extensions>=4 in c:\\users\\user\\anaconda3\\lib\\site-packages (from alembic>=1.5.0->optuna) (4.4.0)\n",
      "Requirement already satisfied: Mako in c:\\users\\user\\anaconda3\\lib\\site-packages (from alembic>=1.5.0->optuna) (1.2.4)\n",
      "Requirement already satisfied: greenlet!=0.4.17 in c:\\users\\user\\anaconda3\\lib\\site-packages (from sqlalchemy>=1.3.0->optuna) (1.1.1)\n",
      "Requirement already satisfied: colorama in c:\\users\\user\\anaconda3\\lib\\site-packages (from colorlog->optuna) (0.4.4)\n",
      "Requirement already satisfied: MarkupSafe>=0.9.2 in c:\\users\\user\\anaconda3\\lib\\site-packages (from Mako->alembic>=1.5.0->optuna) (1.1.1)\n"
     ]
    }
   ],
   "source": [
    "!pip install pytorch-tabnet\n",
    "!pip install optuna"
   ],
   "metadata": {
    "collapsed": false,
    "ExecuteTime": {
     "end_time": "2023-06-11T12:50:32.557718400Z",
     "start_time": "2023-06-11T12:50:28.505230900Z"
    }
   }
  },
  {
   "cell_type": "code",
   "execution_count": 78,
   "outputs": [],
   "source": [
    "# Convert Pandas DataFrame to NumPy array\n",
    "X_train_np = X_train_preprocessed.values\n",
    "X_test_np = X_test_preprocessed.values"
   ],
   "metadata": {
    "collapsed": false,
    "ExecuteTime": {
     "end_time": "2023-06-11T12:50:32.578662500Z",
     "start_time": "2023-06-11T12:50:32.560712100Z"
    }
   }
  },
  {
   "cell_type": "code",
   "execution_count": 79,
   "outputs": [
    {
     "name": "stderr",
     "output_type": "stream",
     "text": [
      "\u001B[32m[I 2023-06-11 15:50:32,574]\u001B[0m A new study created in memory with name: no-name-676e256e-b2be-4986-9d88-29618979dffe\u001B[0m\n"
     ]
    },
    {
     "name": "stdout",
     "output_type": "stream",
     "text": [
      "\n",
      "Early stopping occurred at epoch 10 with best_epoch = 0 and best_val_0_auc = 0.43547\n"
     ]
    },
    {
     "name": "stderr",
     "output_type": "stream",
     "text": [
      "C:\\Users\\user\\anaconda3\\lib\\site-packages\\pytorch_tabnet\\callbacks.py:172: UserWarning: Best weights from best epoch are automatically used!\n",
      "  warnings.warn(wrn_msg)\n",
      "\u001B[32m[I 2023-06-11 15:50:35,729]\u001B[0m Trial 0 finished with value: 0.4354700854700855 and parameters: {'n_d': 57, 'n_a': 57, 'n_steps': 13, 'gamma': 1.342051866302007, 'n_independent': 9, 'n_shared': 7, 'lambda_sparse': 0.08063258987244723}. Best is trial 0 with value: 0.4354700854700855.\u001B[0m\n"
     ]
    },
    {
     "name": "stdout",
     "output_type": "stream",
     "text": [
      "\n",
      "Early stopping occurred at epoch 10 with best_epoch = 0 and best_val_0_auc = 0.51325\n"
     ]
    },
    {
     "name": "stderr",
     "output_type": "stream",
     "text": [
      "C:\\Users\\user\\anaconda3\\lib\\site-packages\\pytorch_tabnet\\callbacks.py:172: UserWarning: Best weights from best epoch are automatically used!\n",
      "  warnings.warn(wrn_msg)\n",
      "\u001B[32m[I 2023-06-11 15:50:36,960]\u001B[0m Trial 1 finished with value: 0.5132478632478632 and parameters: {'n_d': 10, 'n_a': 33, 'n_steps': 15, 'gamma': 0.2454410706432601, 'n_independent': 7, 'n_shared': 4, 'lambda_sparse': 0.006492744667062403}. Best is trial 1 with value: 0.5132478632478632.\u001B[0m\n"
     ]
    },
    {
     "name": "stdout",
     "output_type": "stream",
     "text": [
      "\n",
      "Early stopping occurred at epoch 10 with best_epoch = 0 and best_val_0_auc = 0.49145\n"
     ]
    },
    {
     "name": "stderr",
     "output_type": "stream",
     "text": [
      "C:\\Users\\user\\anaconda3\\lib\\site-packages\\pytorch_tabnet\\callbacks.py:172: UserWarning: Best weights from best epoch are automatically used!\n",
      "  warnings.warn(wrn_msg)\n",
      "\u001B[32m[I 2023-06-11 15:50:37,841]\u001B[0m Trial 2 finished with value: 0.4914529914529915 and parameters: {'n_d': 35, 'n_a': 59, 'n_steps': 7, 'gamma': 1.3387091043435584, 'n_independent': 3, 'n_shared': 7, 'lambda_sparse': 0.07181349443518893}. Best is trial 1 with value: 0.5132478632478632.\u001B[0m\n"
     ]
    },
    {
     "name": "stdout",
     "output_type": "stream",
     "text": [
      "\n",
      "Early stopping occurred at epoch 10 with best_epoch = 0 and best_val_0_auc = 0.53579\n"
     ]
    },
    {
     "name": "stderr",
     "output_type": "stream",
     "text": [
      "C:\\Users\\user\\anaconda3\\lib\\site-packages\\pytorch_tabnet\\callbacks.py:172: UserWarning: Best weights from best epoch are automatically used!\n",
      "  warnings.warn(wrn_msg)\n",
      "\u001B[32m[I 2023-06-11 15:50:39,779]\u001B[0m Trial 3 finished with value: 0.5357905982905983 and parameters: {'n_d': 54, 'n_a': 43, 'n_steps': 11, 'gamma': 1.6754164978974686, 'n_independent': 4, 'n_shared': 10, 'lambda_sparse': 0.0072398699583216975}. Best is trial 3 with value: 0.5357905982905983.\u001B[0m\n",
      "C:\\Users\\user\\anaconda3\\lib\\site-packages\\pytorch_tabnet\\callbacks.py:172: UserWarning: Best weights from best epoch are automatically used!\n",
      "  warnings.warn(wrn_msg)\n",
      "\u001B[32m[I 2023-06-11 15:50:40,559]\u001B[0m Trial 4 finished with value: 0.4634615384615385 and parameters: {'n_d': 45, 'n_a': 12, 'n_steps': 7, 'gamma': 1.010399412276046, 'n_independent': 2, 'n_shared': 10, 'lambda_sparse': 0.09781318949313782}. Best is trial 3 with value: 0.5357905982905983.\u001B[0m\n"
     ]
    },
    {
     "name": "stdout",
     "output_type": "stream",
     "text": [
      "\n",
      "Early stopping occurred at epoch 10 with best_epoch = 0 and best_val_0_auc = 0.46346\n",
      "\n",
      "Early stopping occurred at epoch 10 with best_epoch = 0 and best_val_0_auc = 0.50363\n"
     ]
    },
    {
     "name": "stderr",
     "output_type": "stream",
     "text": [
      "C:\\Users\\user\\anaconda3\\lib\\site-packages\\pytorch_tabnet\\callbacks.py:172: UserWarning: Best weights from best epoch are automatically used!\n",
      "  warnings.warn(wrn_msg)\n",
      "\u001B[32m[I 2023-06-11 15:50:41,467]\u001B[0m Trial 5 finished with value: 0.5036324786324786 and parameters: {'n_d': 45, 'n_a': 58, 'n_steps': 11, 'gamma': 1.202746714334927, 'n_independent': 5, 'n_shared': 2, 'lambda_sparse': 0.08811632934082113}. Best is trial 3 with value: 0.5357905982905983.\u001B[0m\n"
     ]
    },
    {
     "name": "stdout",
     "output_type": "stream",
     "text": [
      "\n",
      "Early stopping occurred at epoch 10 with best_epoch = 0 and best_val_0_auc = 0.55\n"
     ]
    },
    {
     "name": "stderr",
     "output_type": "stream",
     "text": [
      "C:\\Users\\user\\anaconda3\\lib\\site-packages\\pytorch_tabnet\\callbacks.py:172: UserWarning: Best weights from best epoch are automatically used!\n",
      "  warnings.warn(wrn_msg)\n",
      "\u001B[32m[I 2023-06-11 15:50:42,446]\u001B[0m Trial 6 finished with value: 0.55 and parameters: {'n_d': 10, 'n_a': 62, 'n_steps': 5, 'gamma': 0.7091774185944018, 'n_independent': 5, 'n_shared': 10, 'lambda_sparse': 0.06099589025587579}. Best is trial 6 with value: 0.55.\u001B[0m\n",
      "C:\\Users\\user\\anaconda3\\lib\\site-packages\\pytorch_tabnet\\callbacks.py:172: UserWarning: Best weights from best epoch are automatically used!\n",
      "  warnings.warn(wrn_msg)\n",
      "\u001B[32m[I 2023-06-11 15:50:42,893]\u001B[0m Trial 7 finished with value: 0.5525641025641025 and parameters: {'n_d': 17, 'n_a': 29, 'n_steps': 12, 'gamma': 1.9196455224726037, 'n_independent': 1, 'n_shared': 1, 'lambda_sparse': 0.00461705984287882}. Best is trial 7 with value: 0.5525641025641025.\u001B[0m\n"
     ]
    },
    {
     "name": "stdout",
     "output_type": "stream",
     "text": [
      "\n",
      "Early stopping occurred at epoch 10 with best_epoch = 0 and best_val_0_auc = 0.55256\n",
      "\n",
      "Early stopping occurred at epoch 10 with best_epoch = 0 and best_val_0_auc = 0.5\n"
     ]
    },
    {
     "name": "stderr",
     "output_type": "stream",
     "text": [
      "C:\\Users\\user\\anaconda3\\lib\\site-packages\\pytorch_tabnet\\callbacks.py:172: UserWarning: Best weights from best epoch are automatically used!\n",
      "  warnings.warn(wrn_msg)\n",
      "\u001B[32m[I 2023-06-11 15:50:44,304]\u001B[0m Trial 8 finished with value: 0.5 and parameters: {'n_d': 17, 'n_a': 38, 'n_steps': 9, 'gamma': 1.3310928170338532, 'n_independent': 8, 'n_shared': 7, 'lambda_sparse': 0.06829972079865367}. Best is trial 7 with value: 0.5525641025641025.\u001B[0m\n",
      "C:\\Users\\user\\anaconda3\\lib\\site-packages\\pytorch_tabnet\\callbacks.py:172: UserWarning: Best weights from best epoch are automatically used!\n",
      "  warnings.warn(wrn_msg)\n",
      "\u001B[32m[I 2023-06-11 15:50:44,498]\u001B[0m Trial 9 finished with value: 0.5098290598290598 and parameters: {'n_d': 50, 'n_a': 22, 'n_steps': 4, 'gamma': 0.17094368336710533, 'n_independent': 1, 'n_shared': 1, 'lambda_sparse': 0.0972842791017165}. Best is trial 7 with value: 0.5525641025641025.\u001B[0m\n",
      "C:\\Users\\user\\anaconda3\\lib\\site-packages\\pytorch_tabnet\\callbacks.py:172: UserWarning: Best weights from best epoch are automatically used!\n",
      "  warnings.warn(wrn_msg)\n",
      "\u001B[32m[I 2023-06-11 15:50:44,645]\u001B[0m Trial 10 finished with value: 0.47446581196581195 and parameters: {'n_d': 25, 'n_a': 24, 'n_steps': 1, 'gamma': 1.9780878364854582, 'n_independent': 1, 'n_shared': 4, 'lambda_sparse': 0.030055039126447605}. Best is trial 7 with value: 0.5525641025641025.\u001B[0m\n"
     ]
    },
    {
     "name": "stdout",
     "output_type": "stream",
     "text": [
      "\n",
      "Early stopping occurred at epoch 10 with best_epoch = 0 and best_val_0_auc = 0.50983\n",
      "\n",
      "Early stopping occurred at epoch 10 with best_epoch = 0 and best_val_0_auc = 0.47447\n"
     ]
    },
    {
     "name": "stderr",
     "output_type": "stream",
     "text": [
      "C:\\Users\\user\\anaconda3\\lib\\site-packages\\pytorch_tabnet\\callbacks.py:172: UserWarning: Best weights from best epoch are automatically used!\n",
      "  warnings.warn(wrn_msg)\n",
      "\u001B[32m[I 2023-06-11 15:50:45,141]\u001B[0m Trial 11 finished with value: 0.47275641025641024 and parameters: {'n_d': 23, 'n_a': 47, 'n_steps': 4, 'gamma': 0.739814391579269, 'n_independent': 6, 'n_shared': 4, 'lambda_sparse': 0.04719214280060652}. Best is trial 7 with value: 0.5525641025641025.\u001B[0m\n"
     ]
    },
    {
     "name": "stdout",
     "output_type": "stream",
     "text": [
      "\n",
      "Early stopping occurred at epoch 10 with best_epoch = 0 and best_val_0_auc = 0.47276\n"
     ]
    },
    {
     "name": "stderr",
     "output_type": "stream",
     "text": [
      "C:\\Users\\user\\anaconda3\\lib\\site-packages\\pytorch_tabnet\\callbacks.py:172: UserWarning: Best weights from best epoch are automatically used!\n",
      "  warnings.warn(wrn_msg)\n",
      "\u001B[32m[I 2023-06-11 15:50:45,891]\u001B[0m Trial 12 finished with value: 0.4818376068376069 and parameters: {'n_d': 8, 'n_a': 28, 'n_steps': 4, 'gamma': 0.7132694696685598, 'n_independent': 10, 'n_shared': 9, 'lambda_sparse': 0.05348834225940871}. Best is trial 7 with value: 0.5525641025641025.\u001B[0m\n"
     ]
    },
    {
     "name": "stdout",
     "output_type": "stream",
     "text": [
      "\n",
      "Early stopping occurred at epoch 10 with best_epoch = 0 and best_val_0_auc = 0.48184\n"
     ]
    },
    {
     "name": "stderr",
     "output_type": "stream",
     "text": [
      "C:\\Users\\user\\anaconda3\\lib\\site-packages\\pytorch_tabnet\\callbacks.py:172: UserWarning: Best weights from best epoch are automatically used!\n",
      "  warnings.warn(wrn_msg)\n",
      "\u001B[32m[I 2023-06-11 15:50:46,404]\u001B[0m Trial 13 finished with value: 0.4891025641025641 and parameters: {'n_d': 29, 'n_a': 8, 'n_steps': 9, 'gamma': 1.9468151932507505, 'n_independent': 4, 'n_shared': 2, 'lambda_sparse': 0.023700426449571745}. Best is trial 7 with value: 0.5525641025641025.\u001B[0m\n"
     ]
    },
    {
     "name": "stdout",
     "output_type": "stream",
     "text": [
      "\n",
      "Early stopping occurred at epoch 10 with best_epoch = 0 and best_val_0_auc = 0.4891\n",
      "\n",
      "Early stopping occurred at epoch 10 with best_epoch = 0 and best_val_0_auc = 0.52927\n"
     ]
    },
    {
     "name": "stderr",
     "output_type": "stream",
     "text": [
      "C:\\Users\\user\\anaconda3\\lib\\site-packages\\pytorch_tabnet\\callbacks.py:172: UserWarning: Best weights from best epoch are automatically used!\n",
      "  warnings.warn(wrn_msg)\n",
      "\u001B[32m[I 2023-06-11 15:50:48,113]\u001B[0m Trial 14 finished with value: 0.5292735042735043 and parameters: {'n_d': 17, 'n_a': 51, 'n_steps': 15, 'gamma': 1.635932717377052, 'n_independent': 6, 'n_shared': 6, 'lambda_sparse': 0.00022382096711823837}. Best is trial 7 with value: 0.5525641025641025.\u001B[0m\n",
      "C:\\Users\\user\\anaconda3\\lib\\site-packages\\pytorch_tabnet\\callbacks.py:172: UserWarning: Best weights from best epoch are automatically used!\n",
      "  warnings.warn(wrn_msg)\n",
      "\u001B[32m[I 2023-06-11 15:50:48,298]\u001B[0m Trial 15 finished with value: 0.583440170940171 and parameters: {'n_d': 15, 'n_a': 17, 'n_steps': 1, 'gamma': 0.8960584650522075, 'n_independent': 3, 'n_shared': 8, 'lambda_sparse': 0.04566631544983894}. Best is trial 15 with value: 0.583440170940171.\u001B[0m\n"
     ]
    },
    {
     "name": "stdout",
     "output_type": "stream",
     "text": [
      "\n",
      "Early stopping occurred at epoch 10 with best_epoch = 0 and best_val_0_auc = 0.58344\n"
     ]
    },
    {
     "name": "stderr",
     "output_type": "stream",
     "text": [
      "C:\\Users\\user\\anaconda3\\lib\\site-packages\\pytorch_tabnet\\callbacks.py:172: UserWarning: Best weights from best epoch are automatically used!\n",
      "  warnings.warn(wrn_msg)\n",
      "\u001B[32m[I 2023-06-11 15:50:48,539]\u001B[0m Trial 16 finished with value: 0.5026709401709402 and parameters: {'n_d': 33, 'n_a': 17, 'n_steps': 2, 'gamma': 1.6406508020431496, 'n_independent': 2, 'n_shared': 8, 'lambda_sparse': 0.04427561542719737}. Best is trial 15 with value: 0.583440170940171.\u001B[0m\n"
     ]
    },
    {
     "name": "stdout",
     "output_type": "stream",
     "text": [
      "\n",
      "Early stopping occurred at epoch 10 with best_epoch = 0 and best_val_0_auc = 0.50267\n"
     ]
    },
    {
     "name": "stderr",
     "output_type": "stream",
     "text": [
      "C:\\Users\\user\\anaconda3\\lib\\site-packages\\pytorch_tabnet\\callbacks.py:172: UserWarning: Best weights from best epoch are automatically used!\n",
      "  warnings.warn(wrn_msg)\n",
      "\u001B[32m[I 2023-06-11 15:50:49,427]\u001B[0m Trial 17 finished with value: 0.5049145299145299 and parameters: {'n_d': 18, 'n_a': 31, 'n_steps': 12, 'gamma': 0.97063423331623, 'n_independent': 3, 'n_shared': 5, 'lambda_sparse': 0.032749347986226654}. Best is trial 15 with value: 0.583440170940171.\u001B[0m\n"
     ]
    },
    {
     "name": "stdout",
     "output_type": "stream",
     "text": [
      "\n",
      "Early stopping occurred at epoch 10 with best_epoch = 0 and best_val_0_auc = 0.50491\n"
     ]
    },
    {
     "name": "stderr",
     "output_type": "stream",
     "text": [
      "C:\\Users\\user\\anaconda3\\lib\\site-packages\\pytorch_tabnet\\callbacks.py:172: UserWarning: Best weights from best epoch are automatically used!\n",
      "  warnings.warn(wrn_msg)\n",
      "\u001B[32m[I 2023-06-11 15:50:49,839]\u001B[0m Trial 18 finished with value: 0.6012820512820513 and parameters: {'n_d': 63, 'n_a': 18, 'n_steps': 9, 'gamma': 0.3895857282453927, 'n_independent': 2, 'n_shared': 1, 'lambda_sparse': 0.018154440379022217}. Best is trial 18 with value: 0.6012820512820513.\u001B[0m\n"
     ]
    },
    {
     "name": "stdout",
     "output_type": "stream",
     "text": [
      "\n",
      "Early stopping occurred at epoch 10 with best_epoch = 0 and best_val_0_auc = 0.60128\n"
     ]
    },
    {
     "name": "stderr",
     "output_type": "stream",
     "text": [
      "C:\\Users\\user\\anaconda3\\lib\\site-packages\\pytorch_tabnet\\callbacks.py:172: UserWarning: Best weights from best epoch are automatically used!\n",
      "  warnings.warn(wrn_msg)\n",
      "\u001B[32m[I 2023-06-11 15:50:50,541]\u001B[0m Trial 19 finished with value: 0.5228632478632479 and parameters: {'n_d': 64, 'n_a': 17, 'n_steps': 6, 'gamma': 0.43018830431164534, 'n_independent': 3, 'n_shared': 8, 'lambda_sparse': 0.01847041426814776}. Best is trial 18 with value: 0.6012820512820513.\u001B[0m\n"
     ]
    },
    {
     "name": "stdout",
     "output_type": "stream",
     "text": [
      "\n",
      "Early stopping occurred at epoch 10 with best_epoch = 0 and best_val_0_auc = 0.52286\n"
     ]
    },
    {
     "name": "stderr",
     "output_type": "stream",
     "text": [
      "C:\\Users\\user\\anaconda3\\lib\\site-packages\\pytorch_tabnet\\callbacks.py:172: UserWarning: Best weights from best epoch are automatically used!\n",
      "  warnings.warn(wrn_msg)\n",
      "\u001B[32m[I 2023-06-11 15:50:51,203]\u001B[0m Trial 20 finished with value: 0.4757478632478632 and parameters: {'n_d': 61, 'n_a': 16, 'n_steps': 9, 'gamma': 0.5016874051889489, 'n_independent': 4, 'n_shared': 3, 'lambda_sparse': 0.03547398296552428}. Best is trial 18 with value: 0.6012820512820513.\u001B[0m\n"
     ]
    },
    {
     "name": "stdout",
     "output_type": "stream",
     "text": [
      "\n",
      "Early stopping occurred at epoch 10 with best_epoch = 0 and best_val_0_auc = 0.47575\n"
     ]
    },
    {
     "name": "stderr",
     "output_type": "stream",
     "text": [
      "C:\\Users\\user\\anaconda3\\lib\\site-packages\\pytorch_tabnet\\callbacks.py:172: UserWarning: Best weights from best epoch are automatically used!\n",
      "  warnings.warn(wrn_msg)\n",
      "\u001B[32m[I 2023-06-11 15:50:51,675]\u001B[0m Trial 21 finished with value: 0.4685897435897436 and parameters: {'n_d': 40, 'n_a': 25, 'n_steps': 10, 'gamma': 0.9200448421661466, 'n_independent': 2, 'n_shared': 1, 'lambda_sparse': 0.016639600980831157}. Best is trial 18 with value: 0.6012820512820513.\u001B[0m\n"
     ]
    },
    {
     "name": "stdout",
     "output_type": "stream",
     "text": [
      "\n",
      "Early stopping occurred at epoch 10 with best_epoch = 0 and best_val_0_auc = 0.46859\n"
     ]
    },
    {
     "name": "stderr",
     "output_type": "stream",
     "text": [
      "C:\\Users\\user\\anaconda3\\lib\\site-packages\\pytorch_tabnet\\callbacks.py:172: UserWarning: Best weights from best epoch are automatically used!\n",
      "  warnings.warn(wrn_msg)\n",
      "\u001B[32m[I 2023-06-11 15:50:52,232]\u001B[0m Trial 22 finished with value: 0.4938034188034188 and parameters: {'n_d': 22, 'n_a': 19, 'n_steps': 13, 'gamma': 0.4286569700373193, 'n_independent': 1, 'n_shared': 2, 'lambda_sparse': 0.020318081355836667}. Best is trial 18 with value: 0.6012820512820513.\u001B[0m\n"
     ]
    },
    {
     "name": "stdout",
     "output_type": "stream",
     "text": [
      "\n",
      "Early stopping occurred at epoch 10 with best_epoch = 0 and best_val_0_auc = 0.4938\n"
     ]
    },
    {
     "name": "stderr",
     "output_type": "stream",
     "text": [
      "C:\\Users\\user\\anaconda3\\lib\\site-packages\\pytorch_tabnet\\callbacks.py:172: UserWarning: Best weights from best epoch are automatically used!\n",
      "  warnings.warn(wrn_msg)\n",
      "\u001B[32m[I 2023-06-11 15:50:52,843]\u001B[0m Trial 23 finished with value: 0.6202991452991453 and parameters: {'n_d': 15, 'n_a': 10, 'n_steps': 13, 'gamma': 0.8042999081770958, 'n_independent': 2, 'n_shared': 1, 'lambda_sparse': 0.01095555972340101}. Best is trial 23 with value: 0.6202991452991453.\u001B[0m\n"
     ]
    },
    {
     "name": "stdout",
     "output_type": "stream",
     "text": [
      "\n",
      "Early stopping occurred at epoch 10 with best_epoch = 0 and best_val_0_auc = 0.6203\n"
     ]
    },
    {
     "name": "stderr",
     "output_type": "stream",
     "text": [
      "C:\\Users\\user\\anaconda3\\lib\\site-packages\\pytorch_tabnet\\callbacks.py:172: UserWarning: Best weights from best epoch are automatically used!\n",
      "  warnings.warn(wrn_msg)\n",
      "\u001B[32m[I 2023-06-11 15:50:53,266]\u001B[0m Trial 24 finished with value: 0.5321581196581197 and parameters: {'n_d': 29, 'n_a': 11, 'n_steps': 8, 'gamma': 0.5682470855467111, 'n_independent': 2, 'n_shared': 3, 'lambda_sparse': 0.038295957982585054}. Best is trial 23 with value: 0.6202991452991453.\u001B[0m\n"
     ]
    },
    {
     "name": "stdout",
     "output_type": "stream",
     "text": [
      "\n",
      "Early stopping occurred at epoch 10 with best_epoch = 0 and best_val_0_auc = 0.53216\n"
     ]
    },
    {
     "name": "stderr",
     "output_type": "stream",
     "text": [
      "C:\\Users\\user\\anaconda3\\lib\\site-packages\\pytorch_tabnet\\callbacks.py:172: UserWarning: Best weights from best epoch are automatically used!\n",
      "  warnings.warn(wrn_msg)\n",
      "\u001B[32m[I 2023-06-11 15:50:53,455]\u001B[0m Trial 25 finished with value: 0.593482905982906 and parameters: {'n_d': 12, 'n_a': 8, 'n_steps': 2, 'gamma': 0.301516239450473, 'n_independent': 3, 'n_shared': 5, 'lambda_sparse': 0.012626525843574822}. Best is trial 23 with value: 0.6202991452991453.\u001B[0m\n"
     ]
    },
    {
     "name": "stdout",
     "output_type": "stream",
     "text": [
      "\n",
      "Early stopping occurred at epoch 10 with best_epoch = 0 and best_val_0_auc = 0.59348\n",
      "\n",
      "Early stopping occurred at epoch 10 with best_epoch = 0 and best_val_0_auc = 0.45118\n"
     ]
    },
    {
     "name": "stderr",
     "output_type": "stream",
     "text": [
      "C:\\Users\\user\\anaconda3\\lib\\site-packages\\pytorch_tabnet\\callbacks.py:172: UserWarning: Best weights from best epoch are automatically used!\n",
      "  warnings.warn(wrn_msg)\n",
      "\u001B[32m[I 2023-06-11 15:50:54,401]\u001B[0m Trial 26 finished with value: 0.4511752136752137 and parameters: {'n_d': 40, 'n_a': 8, 'n_steps': 14, 'gamma': 0.28898673120111623, 'n_independent': 4, 'n_shared': 3, 'lambda_sparse': 0.013187854569619807}. Best is trial 23 with value: 0.6202991452991453.\u001B[0m\n",
      "C:\\Users\\user\\anaconda3\\lib\\site-packages\\pytorch_tabnet\\callbacks.py:172: UserWarning: Best weights from best epoch are automatically used!\n",
      "  warnings.warn(wrn_msg)\n",
      "\u001B[32m[I 2023-06-11 15:50:54,659]\u001B[0m Trial 27 finished with value: 0.5599358974358974 and parameters: {'n_d': 12, 'n_a': 13, 'n_steps': 3, 'gamma': 0.16409349391206407, 'n_independent': 2, 'n_shared': 5, 'lambda_sparse': 0.026197797037797604}. Best is trial 23 with value: 0.6202991452991453.\u001B[0m\n"
     ]
    },
    {
     "name": "stdout",
     "output_type": "stream",
     "text": [
      "\n",
      "Early stopping occurred at epoch 10 with best_epoch = 0 and best_val_0_auc = 0.55994\n"
     ]
    },
    {
     "name": "stderr",
     "output_type": "stream",
     "text": [
      "C:\\Users\\user\\anaconda3\\lib\\site-packages\\pytorch_tabnet\\callbacks.py:172: UserWarning: Best weights from best epoch are automatically used!\n",
      "  warnings.warn(wrn_msg)\n",
      "\u001B[32m[I 2023-06-11 15:50:55,028]\u001B[0m Trial 28 finished with value: 0.4329059829059829 and parameters: {'n_d': 26, 'n_a': 8, 'n_steps': 7, 'gamma': 0.33449362977599656, 'n_independent': 3, 'n_shared': 2, 'lambda_sparse': 0.012630583459972772}. Best is trial 23 with value: 0.6202991452991453.\u001B[0m\n"
     ]
    },
    {
     "name": "stdout",
     "output_type": "stream",
     "text": [
      "\n",
      "Early stopping occurred at epoch 10 with best_epoch = 0 and best_val_0_auc = 0.43291\n",
      "\n",
      "Early stopping occurred at epoch 10 with best_epoch = 0 and best_val_0_auc = 0.48184\n"
     ]
    },
    {
     "name": "stderr",
     "output_type": "stream",
     "text": [
      "C:\\Users\\user\\anaconda3\\lib\\site-packages\\pytorch_tabnet\\callbacks.py:172: UserWarning: Best weights from best epoch are automatically used!\n",
      "  warnings.warn(wrn_msg)\n",
      "\u001B[32m[I 2023-06-11 15:50:55,904]\u001B[0m Trial 29 finished with value: 0.4818376068376068 and parameters: {'n_d': 51, 'n_a': 20, 'n_steps': 13, 'gamma': 0.1211855143251929, 'n_independent': 5, 'n_shared': 1, 'lambda_sparse': 0.024658630769869586}. Best is trial 23 with value: 0.6202991452991453.\u001B[0m\n",
      "C:\\Users\\user\\anaconda3\\lib\\site-packages\\pytorch_tabnet\\callbacks.py:172: UserWarning: Best weights from best epoch are automatically used!\n",
      "  warnings.warn(wrn_msg)\n",
      "\u001B[32m[I 2023-06-11 15:50:56,533]\u001B[0m Trial 30 finished with value: 0.4768162393162393 and parameters: {'n_d': 20, 'n_a': 13, 'n_steps': 10, 'gamma': 0.5878620760780745, 'n_independent': 2, 'n_shared': 6, 'lambda_sparse': 0.011830802378174514}. Best is trial 23 with value: 0.6202991452991453.\u001B[0m\n"
     ]
    },
    {
     "name": "stdout",
     "output_type": "stream",
     "text": [
      "\n",
      "Early stopping occurred at epoch 10 with best_epoch = 0 and best_val_0_auc = 0.47682\n"
     ]
    },
    {
     "name": "stderr",
     "output_type": "stream",
     "text": [
      "C:\\Users\\user\\anaconda3\\lib\\site-packages\\pytorch_tabnet\\callbacks.py:172: UserWarning: Best weights from best epoch are automatically used!\n",
      "  warnings.warn(wrn_msg)\n",
      "\u001B[32m[I 2023-06-11 15:50:56,735]\u001B[0m Trial 31 finished with value: 0.5854700854700855 and parameters: {'n_d': 15, 'n_a': 15, 'n_steps': 1, 'gamma': 0.3509895279686641, 'n_independent': 3, 'n_shared': 8, 'lambda_sparse': 0.02802659687631498}. Best is trial 23 with value: 0.6202991452991453.\u001B[0m\n"
     ]
    },
    {
     "name": "stdout",
     "output_type": "stream",
     "text": [
      "\n",
      "Early stopping occurred at epoch 10 with best_epoch = 0 and best_val_0_auc = 0.58547\n"
     ]
    },
    {
     "name": "stderr",
     "output_type": "stream",
     "text": [
      "C:\\Users\\user\\anaconda3\\lib\\site-packages\\pytorch_tabnet\\callbacks.py:172: UserWarning: Best weights from best epoch are automatically used!\n",
      "  warnings.warn(wrn_msg)\n",
      "\u001B[32m[I 2023-06-11 15:50:57,016]\u001B[0m Trial 32 finished with value: 0.5826923076923076 and parameters: {'n_d': 14, 'n_a': 13, 'n_steps': 2, 'gamma': 0.3275016375752959, 'n_independent': 3, 'n_shared': 9, 'lambda_sparse': 0.019212962335252545}. Best is trial 23 with value: 0.6202991452991453.\u001B[0m\n"
     ]
    },
    {
     "name": "stdout",
     "output_type": "stream",
     "text": [
      "\n",
      "Early stopping occurred at epoch 10 with best_epoch = 0 and best_val_0_auc = 0.58269\n"
     ]
    },
    {
     "name": "stderr",
     "output_type": "stream",
     "text": [
      "C:\\Users\\user\\anaconda3\\lib\\site-packages\\pytorch_tabnet\\callbacks.py:172: UserWarning: Best weights from best epoch are automatically used!\n",
      "  warnings.warn(wrn_msg)\n",
      "\u001B[32m[I 2023-06-11 15:50:57,293]\u001B[0m Trial 33 finished with value: 0.5257478632478633 and parameters: {'n_d': 12, 'n_a': 34, 'n_steps': 2, 'gamma': 0.24900469285217725, 'n_independent': 4, 'n_shared': 6, 'lambda_sparse': 0.007941121125174413}. Best is trial 23 with value: 0.6202991452991453.\u001B[0m\n"
     ]
    },
    {
     "name": "stdout",
     "output_type": "stream",
     "text": [
      "\n",
      "Early stopping occurred at epoch 10 with best_epoch = 0 and best_val_0_auc = 0.52575\n"
     ]
    },
    {
     "name": "stderr",
     "output_type": "stream",
     "text": [
      "C:\\Users\\user\\anaconda3\\lib\\site-packages\\pytorch_tabnet\\callbacks.py:172: UserWarning: Best weights from best epoch are automatically used!\n",
      "  warnings.warn(wrn_msg)\n",
      "\u001B[32m[I 2023-06-11 15:50:57,547]\u001B[0m Trial 34 finished with value: 0.4741452991452991 and parameters: {'n_d': 59, 'n_a': 11, 'n_steps': 3, 'gamma': 0.3837090004286447, 'n_independent': 1, 'n_shared': 5, 'lambda_sparse': 0.026719541862774462}. Best is trial 23 with value: 0.6202991452991453.\u001B[0m\n"
     ]
    },
    {
     "name": "stdout",
     "output_type": "stream",
     "text": [
      "\n",
      "Early stopping occurred at epoch 10 with best_epoch = 0 and best_val_0_auc = 0.47415\n"
     ]
    },
    {
     "name": "stderr",
     "output_type": "stream",
     "text": [
      "C:\\Users\\user\\anaconda3\\lib\\site-packages\\pytorch_tabnet\\callbacks.py:172: UserWarning: Best weights from best epoch are automatically used!\n",
      "  warnings.warn(wrn_msg)\n",
      "\u001B[32m[I 2023-06-11 15:50:57,865]\u001B[0m Trial 35 finished with value: 0.4675213675213675 and parameters: {'n_d': 8, 'n_a': 22, 'n_steps': 5, 'gamma': 0.10113728853618265, 'n_independent': 2, 'n_shared': 4, 'lambda_sparse': 0.004664643290685065}. Best is trial 23 with value: 0.6202991452991453.\u001B[0m\n"
     ]
    },
    {
     "name": "stdout",
     "output_type": "stream",
     "text": [
      "\n",
      "Early stopping occurred at epoch 10 with best_epoch = 0 and best_val_0_auc = 0.46752\n",
      "\n",
      "Early stopping occurred at epoch 10 with best_epoch = 0 and best_val_0_auc = 0.41058\n"
     ]
    },
    {
     "name": "stderr",
     "output_type": "stream",
     "text": [
      "C:\\Users\\user\\anaconda3\\lib\\site-packages\\pytorch_tabnet\\callbacks.py:172: UserWarning: Best weights from best epoch are automatically used!\n",
      "  warnings.warn(wrn_msg)\n",
      "\u001B[32m[I 2023-06-11 15:50:58,067]\u001B[0m Trial 36 finished with value: 0.41057692307692306 and parameters: {'n_d': 30, 'n_a': 14, 'n_steps': 1, 'gamma': 0.5114813354272854, 'n_independent': 7, 'n_shared': 3, 'lambda_sparse': 0.014251888179277885}. Best is trial 23 with value: 0.6202991452991453.\u001B[0m\n",
      "C:\\Users\\user\\anaconda3\\lib\\site-packages\\pytorch_tabnet\\callbacks.py:172: UserWarning: Best weights from best epoch are automatically used!\n",
      "  warnings.warn(wrn_msg)\n",
      "\u001B[32m[I 2023-06-11 15:50:58,670]\u001B[0m Trial 37 finished with value: 0.5123931623931625 and parameters: {'n_d': 21, 'n_a': 10, 'n_steps': 6, 'gamma': 0.2514550426684102, 'n_independent': 3, 'n_shared': 9, 'lambda_sparse': 0.022095128938599273}. Best is trial 23 with value: 0.6202991452991453.\u001B[0m\n"
     ]
    },
    {
     "name": "stdout",
     "output_type": "stream",
     "text": [
      "\n",
      "Early stopping occurred at epoch 10 with best_epoch = 0 and best_val_0_auc = 0.51239\n",
      "\n",
      "Early stopping occurred at epoch 10 with best_epoch = 0 and best_val_0_auc = 0.49177\n"
     ]
    },
    {
     "name": "stderr",
     "output_type": "stream",
     "text": [
      "C:\\Users\\user\\anaconda3\\lib\\site-packages\\pytorch_tabnet\\callbacks.py:172: UserWarning: Best weights from best epoch are automatically used!\n",
      "  warnings.warn(wrn_msg)\n",
      "\u001B[32m[I 2023-06-11 15:51:00,055]\u001B[0m Trial 38 finished with value: 0.49177350427350425 and parameters: {'n_d': 13, 'n_a': 39, 'n_steps': 15, 'gamma': 0.6191214935467941, 'n_independent': 4, 'n_shared': 7, 'lambda_sparse': 0.028756234441027186}. Best is trial 23 with value: 0.6202991452991453.\u001B[0m\n"
     ]
    },
    {
     "name": "stdout",
     "output_type": "stream",
     "text": [
      "\n",
      "Early stopping occurred at epoch 10 with best_epoch = 0 and best_val_0_auc = 0.40791\n"
     ]
    },
    {
     "name": "stderr",
     "output_type": "stream",
     "text": [
      "C:\\Users\\user\\anaconda3\\lib\\site-packages\\pytorch_tabnet\\callbacks.py:172: UserWarning: Best weights from best epoch are automatically used!\n",
      "  warnings.warn(wrn_msg)\n",
      "\u001B[32m[I 2023-06-11 15:51:00,914]\u001B[0m Trial 39 finished with value: 0.4079059829059829 and parameters: {'n_d': 37, 'n_a': 27, 'n_steps': 11, 'gamma': 0.4313871593683426, 'n_independent': 5, 'n_shared': 2, 'lambda_sparse': 0.009770353498067055}. Best is trial 23 with value: 0.6202991452991453.\u001B[0m\n",
      "C:\\Users\\user\\anaconda3\\lib\\site-packages\\pytorch_tabnet\\callbacks.py:172: UserWarning: Best weights from best epoch are automatically used!\n",
      "  warnings.warn(wrn_msg)\n",
      "\u001B[32m[I 2023-06-11 15:51:01,084]\u001B[0m Trial 40 finished with value: 0.6318376068376069 and parameters: {'n_d': 47, 'n_a': 20, 'n_steps': 3, 'gamma': 0.8103707547450896, 'n_independent': 1, 'n_shared': 1, 'lambda_sparse': 0.015974922817438498}. Best is trial 40 with value: 0.6318376068376069.\u001B[0m\n",
      "C:\\Users\\user\\anaconda3\\lib\\site-packages\\pytorch_tabnet\\callbacks.py:172: UserWarning: Best weights from best epoch are automatically used!\n",
      "  warnings.warn(wrn_msg)\n",
      "\u001B[32m[I 2023-06-11 15:51:01,252]\u001B[0m Trial 41 finished with value: 0.5254273504273504 and parameters: {'n_d': 54, 'n_a': 20, 'n_steps': 3, 'gamma': 1.067493183627093, 'n_independent': 1, 'n_shared': 1, 'lambda_sparse': 0.015773907596366064}. Best is trial 40 with value: 0.6318376068376069.\u001B[0m\n"
     ]
    },
    {
     "name": "stdout",
     "output_type": "stream",
     "text": [
      "\n",
      "Early stopping occurred at epoch 10 with best_epoch = 0 and best_val_0_auc = 0.63184\n",
      "\n",
      "Early stopping occurred at epoch 10 with best_epoch = 0 and best_val_0_auc = 0.52543\n",
      "epoch 0  | loss: 0.0     |  0:00:00s\n",
      "epoch 1  | loss: 0.0     |  0:00:00s\n",
      "epoch 2  | loss: 0.0     |  0:00:00s\n",
      "epoch 3  | loss: 0.0     |  0:00:00s\n",
      "epoch 4  | loss: 0.0     |  0:00:00s\n",
      "epoch 5  | loss: 0.0     |  0:00:00s\n",
      "epoch 6  | loss: 0.0     |  0:00:00s\n",
      "epoch 7  | loss: 0.0     |  0:00:00s\n",
      "epoch 8  | loss: 0.0     |  0:00:00s\n",
      "epoch 9  | loss: 0.0     |  0:00:00s\n",
      "epoch 10 | loss: 0.0     |  0:00:00s\n",
      "epoch 11 | loss: 0.0     |  0:00:00s\n",
      "epoch 12 | loss: 0.0     |  0:00:00s\n",
      "epoch 13 | loss: 0.0     |  0:00:00s\n",
      "epoch 14 | loss: 0.0     |  0:00:00s\n",
      "epoch 15 | loss: 0.0     |  0:00:00s\n",
      "epoch 16 | loss: 0.0     |  0:00:00s\n",
      "epoch 17 | loss: 0.0     |  0:00:00s\n",
      "epoch 18 | loss: 0.0     |  0:00:00s\n",
      "epoch 19 | loss: 0.0     |  0:00:00s\n",
      "epoch 20 | loss: 0.0     |  0:00:00s\n",
      "epoch 21 | loss: 0.0     |  0:00:00s\n",
      "epoch 22 | loss: 0.0     |  0:00:00s\n",
      "epoch 23 | loss: 0.0     |  0:00:00s\n",
      "epoch 24 | loss: 0.0     |  0:00:00s\n",
      "epoch 25 | loss: 0.0     |  0:00:00s\n",
      "epoch 26 | loss: 0.0     |  0:00:00s\n",
      "epoch 27 | loss: 0.0     |  0:00:00s\n",
      "epoch 28 | loss: 0.0     |  0:00:00s\n",
      "epoch 29 | loss: 0.0     |  0:00:00s\n",
      "epoch 30 | loss: 0.0     |  0:00:00s\n",
      "epoch 31 | loss: 0.0     |  0:00:00s\n",
      "epoch 32 | loss: 0.0     |  0:00:00s\n",
      "epoch 33 | loss: 0.0     |  0:00:00s\n",
      "epoch 34 | loss: 0.0     |  0:00:00s\n",
      "epoch 35 | loss: 0.0     |  0:00:00s\n",
      "epoch 36 | loss: 0.0     |  0:00:00s\n",
      "epoch 37 | loss: 0.0     |  0:00:00s\n",
      "epoch 38 | loss: 0.0     |  0:00:00s\n",
      "epoch 39 | loss: 0.0     |  0:00:00s\n",
      "epoch 40 | loss: 0.0     |  0:00:00s\n",
      "epoch 41 | loss: 0.0     |  0:00:00s\n",
      "epoch 42 | loss: 0.0     |  0:00:00s\n",
      "epoch 43 | loss: 0.0     |  0:00:00s\n",
      "epoch 44 | loss: 0.0     |  0:00:00s\n",
      "epoch 45 | loss: 0.0     |  0:00:00s\n",
      "epoch 46 | loss: 0.0     |  0:00:00s\n",
      "epoch 47 | loss: 0.0     |  0:00:00s\n",
      "epoch 48 | loss: 0.0     |  0:00:00s\n",
      "epoch 49 | loss: 0.0     |  0:00:00s\n",
      "epoch 50 | loss: 0.0     |  0:00:00s\n",
      "epoch 51 | loss: 0.0     |  0:00:00s\n",
      "epoch 52 | loss: 0.0     |  0:00:00s\n",
      "epoch 53 | loss: 0.0     |  0:00:00s\n",
      "epoch 54 | loss: 0.0     |  0:00:00s\n",
      "epoch 55 | loss: 0.0     |  0:00:00s\n",
      "epoch 56 | loss: 0.0     |  0:00:00s\n",
      "epoch 57 | loss: 0.0     |  0:00:00s\n",
      "epoch 58 | loss: 0.0     |  0:00:00s\n",
      "epoch 59 | loss: 0.0     |  0:00:00s\n",
      "epoch 60 | loss: 0.0     |  0:00:00s\n",
      "epoch 61 | loss: 0.0     |  0:00:00s\n",
      "epoch 62 | loss: 0.0     |  0:00:00s\n",
      "epoch 63 | loss: 0.0     |  0:00:00s\n",
      "epoch 64 | loss: 0.0     |  0:00:00s\n",
      "epoch 65 | loss: 0.0     |  0:00:00s\n",
      "epoch 66 | loss: 0.0     |  0:00:00s\n",
      "epoch 67 | loss: 0.0     |  0:00:00s\n",
      "epoch 68 | loss: 0.0     |  0:00:00s\n",
      "epoch 69 | loss: 0.0     |  0:00:00s\n",
      "epoch 70 | loss: 0.0     |  0:00:00s\n",
      "epoch 71 | loss: 0.0     |  0:00:00s\n",
      "epoch 72 | loss: 0.0     |  0:00:00s\n",
      "epoch 73 | loss: 0.0     |  0:00:00s\n",
      "epoch 74 | loss: 0.0     |  0:00:00s\n",
      "epoch 75 | loss: 0.0     |  0:00:00s\n",
      "epoch 76 | loss: 0.0     |  0:00:00s\n",
      "epoch 77 | loss: 0.0     |  0:00:00s\n",
      "epoch 78 | loss: 0.0     |  0:00:00s\n",
      "epoch 79 | loss: 0.0     |  0:00:00s\n",
      "epoch 80 | loss: 0.0     |  0:00:00s\n",
      "epoch 81 | loss: 0.0     |  0:00:00s\n",
      "epoch 82 | loss: 0.0     |  0:00:00s\n",
      "epoch 83 | loss: 0.0     |  0:00:00s\n",
      "epoch 84 | loss: 0.0     |  0:00:00s\n",
      "epoch 85 | loss: 0.0     |  0:00:00s\n",
      "epoch 86 | loss: 0.0     |  0:00:00s\n",
      "epoch 87 | loss: 0.0     |  0:00:00s\n",
      "epoch 88 | loss: 0.0     |  0:00:00s\n",
      "epoch 89 | loss: 0.0     |  0:00:00s\n",
      "epoch 90 | loss: 0.0     |  0:00:00s\n",
      "epoch 91 | loss: 0.0     |  0:00:00s\n",
      "epoch 92 | loss: 0.0     |  0:00:00s\n",
      "epoch 93 | loss: 0.0     |  0:00:00s\n",
      "epoch 94 | loss: 0.0     |  0:00:00s\n",
      "epoch 95 | loss: 0.0     |  0:00:00s\n",
      "epoch 96 | loss: 0.0     |  0:00:00s\n",
      "epoch 97 | loss: 0.0     |  0:00:00s\n",
      "epoch 98 | loss: 0.0     |  0:00:00s\n",
      "epoch 99 | loss: 0.0     |  0:00:00s\n"
     ]
    },
    {
     "name": "stderr",
     "output_type": "stream",
     "text": [
      "C:\\Users\\user\\anaconda3\\lib\\site-packages\\pytorch_tabnet\\abstract_model.py:75: UserWarning: Device used : cpu\n",
      "  warnings.warn(f\"Device used : {self.device}\")\n",
      "C:\\Users\\user\\anaconda3\\lib\\site-packages\\pytorch_tabnet\\abstract_model.py:651: UserWarning: No early stopping will be performed, last training weights will be used.\n",
      "  warnings.warn(wrn_msg)\n"
     ]
    },
    {
     "data": {
      "text/plain": "{'n_d': 47,\n 'n_a': 20,\n 'n_steps': 3,\n 'gamma': 0.8103707547450896,\n 'n_independent': 1,\n 'n_shared': 1,\n 'lambda_sparse': 0.015974922817438498}"
     },
     "execution_count": 79,
     "metadata": {},
     "output_type": "execute_result"
    }
   ],
   "source": [
    "import torch\n",
    "from pytorch_tabnet.tab_model import TabNetClassifier\n",
    "import optuna\n",
    "from sklearn.metrics import mean_squared_error\n",
    "\n",
    "# Define objective function for optuna\n",
    "def objective(trial):\n",
    "    # Generate hyperparameter search space\n",
    "    params = {\n",
    "        'n_d': trial.suggest_int('n_d', 8, 64),\n",
    "        'n_a': trial.suggest_int('n_a', 8, 64),\n",
    "        'n_steps': trial.suggest_int('n_steps', 1, 15),\n",
    "        'gamma': trial.suggest_float('gamma', 0.1, 2.0),\n",
    "        'n_independent': trial.suggest_int('n_independent', 1, 10),\n",
    "        'n_shared': trial.suggest_int('n_shared', 1, 10),\n",
    "        'lambda_sparse': trial.suggest_float('lambda_sparse', 0.0001, 0.1),\n",
    "        # 'optimizer_fn': torch.optim.Adam,\n",
    "        # 'optimizer_params': dict(lr=2e-2, weight_decay=1e-5),\n",
    "        # 'mask_type': 'entmax',\n",
    "        # 'scheduler_params': dict(mode=\"min\", patience=5, min_lr=1e-5, factor=0.9,),\n",
    "        # 'scheduler_fn': torch.optim.lr_scheduler.ReduceLROnPlateau,\n",
    "        'verbose': 0\n",
    "    }\n",
    "\n",
    "    # Create TabNetClassifier object with hyperparameters from optuna\n",
    "    classifier = TabNetClassifier(**params)\n",
    "\n",
    "    # Train and evaluate the model\n",
    "    classifier.fit(X_train_np, y_train, eval_set=[(X_test_np, y_test)])\n",
    "    val_preds = classifier.predict_proba(X_test_np)[:, 1]\n",
    "    val_auc = roc_auc_score(y_test, val_preds)\n",
    "\n",
    "    return val_auc\n",
    "\n",
    "# Create optuna study\n",
    "study = optuna.create_study(direction='maximize')\n",
    "\n",
    "# Optimize hyperparameters using optuna\n",
    "study.optimize(objective, n_trials=42, timeout=600)\n",
    "\n",
    "# Get best hyperparameters from optuna\n",
    "best_params = study.best_trial.params\n",
    "\n",
    "# Train final model with best hyperparameters\n",
    "tabnet_classifier = TabNetClassifier(**best_params)\n",
    "tabnet_classifier.fit(X_train_np, y_train)\n",
    "best_params"
   ],
   "metadata": {
    "collapsed": false,
    "ExecuteTime": {
     "end_time": "2023-06-11T12:51:01.362721100Z",
     "start_time": "2023-06-11T12:50:32.576667900Z"
    }
   }
  },
  {
   "cell_type": "markdown",
   "source": [
    "Evaluate the best model on the test data"
   ],
   "metadata": {
    "collapsed": false
   }
  },
  {
   "cell_type": "code",
   "execution_count": 80,
   "outputs": [
    {
     "name": "stdout",
     "output_type": "stream",
     "text": [
      "Tabnet (test data)\n",
      "Accuracy: 0.53\n",
      "Precision: 0.53\n",
      "Recall: 1.0\n",
      "F1-score: 0.69\n",
      "ROC-AUC score: 0.5\n"
     ]
    },
    {
     "data": {
      "text/plain": "<Figure size 576x576 with 2 Axes>",
      "image/png": "[encoded data removed]"
     },
     "metadata": {},
     "output_type": "display_data"
    }
   ],
   "source": [
    "# Evaluate final model on test set\n",
    "y_test_pred = tabnet_classifier.predict(X_test_np)\n",
    "evaluate_model(\"Tabnet (test data)\", y_test, y_test_pred)"
   ],
   "metadata": {
    "collapsed": false,
    "ExecuteTime": {
     "end_time": "2023-06-11T12:51:01.503859200Z",
     "start_time": "2023-06-11T12:51:01.365714300Z"
    }
   }
  },
  {
   "cell_type": "markdown",
   "source": [
    "The best model is Gradient Boosting"
   ],
   "metadata": {
    "collapsed": false
   }
  },
  {
   "cell_type": "code",
   "execution_count": 81,
   "outputs": [],
   "source": [
    "the_best_model_ever = gb_best_estimator"
   ],
   "metadata": {
    "collapsed": false,
    "ExecuteTime": {
     "end_time": "2023-06-11T12:51:01.563222400Z",
     "start_time": "2023-06-11T12:51:01.505854400Z"
    }
   }
  },
  {
   "cell_type": "markdown",
   "source": [
    "Feature importance"
   ],
   "metadata": {
    "collapsed": false
   }
  },
  {
   "cell_type": "code",
   "execution_count": 81,
   "outputs": [],
   "source": [],
   "metadata": {
    "collapsed": false,
    "ExecuteTime": {
     "end_time": "2023-06-11T12:51:01.563222400Z",
     "start_time": "2023-06-11T12:51:01.520336400Z"
    }
   }
  },
  {
   "cell_type": "code",
   "execution_count": 82,
   "outputs": [
    {
     "data": {
      "text/plain": "                                         importance\nonset_Fixations_First_In_RoI_Post          0.140308\nGaze_In\\out_RoI_Ratio_Pre                  0.123433\nlast_onset_Max_Saccades_End_In_RoI_Pre     0.052674\nDuration_Max_Saccades_Start_In_RoI_Post    0.043160\nDVA_Std_Gaze_Pre                           0.042027\n...                                             ...\nonset_Max_Saccades_Start_In_RoI_Pre        0.000000\nonset_Mean_Saccades_Start_In_RoI_Post      0.000000\nonset_Min_Saccades_Start_In_RoI_Post       0.000000\nDuration_Min_Saccades_Start_In_RoI_Post    0.000000\nDVA_Min_Fixations_Post                     0.000000\n\n[116 rows x 1 columns]",
      "text/html": "<div>\n<style scoped>\n    .dataframe tbody tr th:only-of-type {\n        vertical-align: middle;\n    }\n\n    .dataframe tbody tr th {\n        vertical-align: top;\n    }\n\n    .dataframe thead th {\n        text-align: right;\n    }\n</style>\n<table border=\"1\" class=\"dataframe\">\n  <thead>\n    <tr style=\"text-align: right;\">\n      <th></th>\n      <th>importance</th>\n    </tr>\n  </thead>\n  <tbody>\n    <tr>\n      <th>onset_Fixations_First_In_RoI_Post</th>\n      <td>0.140308</td>\n    </tr>\n    <tr>\n      <th>Gaze_In\\out_RoI_Ratio_Pre</th>\n      <td>0.123433</td>\n    </tr>\n    <tr>\n      <th>last_onset_Max_Saccades_End_In_RoI_Pre</th>\n      <td>0.052674</td>\n    </tr>\n    <tr>\n      <th>Duration_Max_Saccades_Start_In_RoI_Post</th>\n      <td>0.043160</td>\n    </tr>\n    <tr>\n      <th>DVA_Std_Gaze_Pre</th>\n      <td>0.042027</td>\n    </tr>\n    <tr>\n      <th>...</th>\n      <td>...</td>\n    </tr>\n    <tr>\n      <th>onset_Max_Saccades_Start_In_RoI_Pre</th>\n      <td>0.000000</td>\n    </tr>\n    <tr>\n      <th>onset_Mean_Saccades_Start_In_RoI_Post</th>\n      <td>0.000000</td>\n    </tr>\n    <tr>\n      <th>onset_Min_Saccades_Start_In_RoI_Post</th>\n      <td>0.000000</td>\n    </tr>\n    <tr>\n      <th>Duration_Min_Saccades_Start_In_RoI_Post</th>\n      <td>0.000000</td>\n    </tr>\n    <tr>\n      <th>DVA_Min_Fixations_Post</th>\n      <td>0.000000</td>\n    </tr>\n  </tbody>\n</table>\n<p>116 rows × 1 columns</p>\n</div>"
     },
     "execution_count": 82,
     "metadata": {},
     "output_type": "execute_result"
    }
   ],
   "source": [
    "feature_importances = pd.DataFrame(the_best_model_ever.feature_importances_,\n",
    "                                   index = X_train_preprocessed.columns,\n",
    "                                    columns=['importance']).sort_values('importance', ascending=False)\n",
    "feature_importances"
   ],
   "metadata": {
    "collapsed": false,
    "ExecuteTime": {
     "end_time": "2023-06-11T12:51:01.563222400Z",
     "start_time": "2023-06-11T12:51:01.536293200Z"
    }
   }
  },
  {
   "cell_type": "markdown",
   "source": [
    "\n"
   ],
   "metadata": {
    "collapsed": false
   }
  }
 ],
 "metadata": {
  "kernelspec": {
   "display_name": "Python 3",
   "language": "python",
   "name": "python3"
  },
  "language_info": {
   "codemirror_mode": {
    "name": "ipython",
    "version": 2
   },
   "file_extension": ".py",
   "mimetype": "text/x-python",
   "name": "python",
   "nbconvert_exporter": "python",
   "pygments_lexer": "ipython2",
   "version": "2.7.6"
  }
 },
 "nbformat": 4,
 "nbformat_minor": 0
}
