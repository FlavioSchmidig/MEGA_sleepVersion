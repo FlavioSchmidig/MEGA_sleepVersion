{
 "cells": [
  {
   "cell_type": "code",
   "execution_count": 44,
   "metadata": {
    "collapsed": true,
    "ExecuteTime": {
     "end_time": "2023-06-11T12:16:41.997800Z",
     "start_time": "2023-06-11T12:16:41.521306500Z"
    }
   },
   "outputs": [],
   "source": [
    "import pandas as pd\n",
    "from matplotlib import pyplot as plt\n",
    "import numpy as np\n",
    "from sklearn.decomposition import PCA\n",
    "import os\n",
    "from src import config"
   ]
  },
  {
   "cell_type": "code",
   "execution_count": 45,
   "outputs": [],
   "source": [
    "features_df = pd.read_pickle(os.path.join(config.classification_resource_dir, \"memory_features_df.pkl\"))\n",
    "labels_df = pd.read_pickle(os.path.join(config.classification_resource_dir, \"memory_labels_df.pkl\"))"
   ],
   "metadata": {
    "collapsed": false,
    "ExecuteTime": {
     "end_time": "2023-06-11T12:16:42.307734300Z",
     "start_time": "2023-06-11T12:16:41.534834800Z"
    }
   }
  },
  {
   "cell_type": "code",
   "execution_count": 46,
   "outputs": [
    {
     "data": {
      "text/plain": "   Gaze_Counts_In_RoI_Pre  Gaze_Counts_In_RoI_Post  Gaze_Counts_Out_RoI_Pre  \\\n0                       0                      779                     2747   \n1                    2794                     1772                     1686   \n2                       0                      180                     2793   \n3                       0                      177                     3210   \n4                     546                      866                     3950   \n\n   Gaze_Counts_Out_RoI_Post  Gaze_In\\out_RoI_Ratio_Pre  \\\n0                      1445                   0.000000   \n1                         0                   1.657177   \n2                      2175                   0.000000   \n3                      1532                   0.000000   \n4                      2426                   0.138228   \n\n   Gaze_In\\out_RoI_Ratio_Post  Gaze_Re_Entries_To_RoI_Count_Pre  \\\n0                    0.539100                                 0   \n1                 1772.000000                                 3   \n2                    0.082759                                 0   \n3                    0.115535                                 0   \n4                    0.356966                                 4   \n\n   Gaze_Re_Entries_To_RoI_Count_Post  Gaze_Re_Entries_To_RoI_Rate_Pre  \\\n0                                  1                         0.000000   \n1                                  0                         0.334896   \n2                                  1                         0.000000   \n3                                  2                         0.000000   \n4                                  2                         0.442429   \n\n   Gaze_Re_Entries_To_RoI_Rate_Post  ...  DVA_Max_Gaze_Post  \\\n0                          0.285714  ...          33.178480   \n1                          0.000000  ...           3.090729   \n2                          0.269639  ...          31.482871   \n3                          0.827586  ...          32.261172   \n4                          0.358166  ...          29.542618   \n\n   DVA_Min_Gaze_Post  DVA_Mean_Fixations_Pre  DVA_Std_Fixations_Pre  \\\n0           2.585135               24.921363               5.574038   \n1           1.447549                7.509422               7.160292   \n2           5.488468               25.109906               4.940303   \n3           3.043144               21.353234               6.725093   \n4           2.776314               19.043102               7.511875   \n\n   DVA_Max_Fixations_Pre  DVA_Min_Fixations_Pre  DVA_Mean_Fixations_Post  \\\n0              31.839663              13.699264                17.421185   \n1              18.108982               0.901646                 2.408315   \n2              31.112558              16.151324                18.737548   \n3              30.694673              12.165579                21.467756   \n4              31.235682               5.007064                18.376179   \n\n   DVA_Std_Fixations_Post  DVA_Max_Fixations_Post  DVA_Min_Fixations_Post  \n0               10.286085               28.243839                3.746346  \n1                0.492971                2.968488                1.774964  \n2                8.010507               31.315954                6.633146  \n3                8.684141               31.062599                5.117863  \n4                7.071288               29.432959                3.413765  \n\n[5 rows x 116 columns]",
      "text/html": "<div>\n<style scoped>\n    .dataframe tbody tr th:only-of-type {\n        vertical-align: middle;\n    }\n\n    .dataframe tbody tr th {\n        vertical-align: top;\n    }\n\n    .dataframe thead th {\n        text-align: right;\n    }\n</style>\n<table border=\"1\" class=\"dataframe\">\n  <thead>\n    <tr style=\"text-align: right;\">\n      <th></th>\n      <th>Gaze_Counts_In_RoI_Pre</th>\n      <th>Gaze_Counts_In_RoI_Post</th>\n      <th>Gaze_Counts_Out_RoI_Pre</th>\n      <th>Gaze_Counts_Out_RoI_Post</th>\n      <th>Gaze_In\\out_RoI_Ratio_Pre</th>\n      <th>Gaze_In\\out_RoI_Ratio_Post</th>\n      <th>Gaze_Re_Entries_To_RoI_Count_Pre</th>\n      <th>Gaze_Re_Entries_To_RoI_Count_Post</th>\n      <th>Gaze_Re_Entries_To_RoI_Rate_Pre</th>\n      <th>Gaze_Re_Entries_To_RoI_Rate_Post</th>\n      <th>...</th>\n      <th>DVA_Max_Gaze_Post</th>\n      <th>DVA_Min_Gaze_Post</th>\n      <th>DVA_Mean_Fixations_Pre</th>\n      <th>DVA_Std_Fixations_Pre</th>\n      <th>DVA_Max_Fixations_Pre</th>\n      <th>DVA_Min_Fixations_Pre</th>\n      <th>DVA_Mean_Fixations_Post</th>\n      <th>DVA_Std_Fixations_Post</th>\n      <th>DVA_Max_Fixations_Post</th>\n      <th>DVA_Min_Fixations_Post</th>\n    </tr>\n  </thead>\n  <tbody>\n    <tr>\n      <th>0</th>\n      <td>0</td>\n      <td>779</td>\n      <td>2747</td>\n      <td>1445</td>\n      <td>0.000000</td>\n      <td>0.539100</td>\n      <td>0</td>\n      <td>1</td>\n      <td>0.000000</td>\n      <td>0.285714</td>\n      <td>...</td>\n      <td>33.178480</td>\n      <td>2.585135</td>\n      <td>24.921363</td>\n      <td>5.574038</td>\n      <td>31.839663</td>\n      <td>13.699264</td>\n      <td>17.421185</td>\n      <td>10.286085</td>\n      <td>28.243839</td>\n      <td>3.746346</td>\n    </tr>\n    <tr>\n      <th>1</th>\n      <td>2794</td>\n      <td>1772</td>\n      <td>1686</td>\n      <td>0</td>\n      <td>1.657177</td>\n      <td>1772.000000</td>\n      <td>3</td>\n      <td>0</td>\n      <td>0.334896</td>\n      <td>0.000000</td>\n      <td>...</td>\n      <td>3.090729</td>\n      <td>1.447549</td>\n      <td>7.509422</td>\n      <td>7.160292</td>\n      <td>18.108982</td>\n      <td>0.901646</td>\n      <td>2.408315</td>\n      <td>0.492971</td>\n      <td>2.968488</td>\n      <td>1.774964</td>\n    </tr>\n    <tr>\n      <th>2</th>\n      <td>0</td>\n      <td>180</td>\n      <td>2793</td>\n      <td>2175</td>\n      <td>0.000000</td>\n      <td>0.082759</td>\n      <td>0</td>\n      <td>1</td>\n      <td>0.000000</td>\n      <td>0.269639</td>\n      <td>...</td>\n      <td>31.482871</td>\n      <td>5.488468</td>\n      <td>25.109906</td>\n      <td>4.940303</td>\n      <td>31.112558</td>\n      <td>16.151324</td>\n      <td>18.737548</td>\n      <td>8.010507</td>\n      <td>31.315954</td>\n      <td>6.633146</td>\n    </tr>\n    <tr>\n      <th>3</th>\n      <td>0</td>\n      <td>177</td>\n      <td>3210</td>\n      <td>1532</td>\n      <td>0.000000</td>\n      <td>0.115535</td>\n      <td>0</td>\n      <td>2</td>\n      <td>0.000000</td>\n      <td>0.827586</td>\n      <td>...</td>\n      <td>32.261172</td>\n      <td>3.043144</td>\n      <td>21.353234</td>\n      <td>6.725093</td>\n      <td>30.694673</td>\n      <td>12.165579</td>\n      <td>21.467756</td>\n      <td>8.684141</td>\n      <td>31.062599</td>\n      <td>5.117863</td>\n    </tr>\n    <tr>\n      <th>4</th>\n      <td>546</td>\n      <td>866</td>\n      <td>3950</td>\n      <td>2426</td>\n      <td>0.138228</td>\n      <td>0.356966</td>\n      <td>4</td>\n      <td>2</td>\n      <td>0.442429</td>\n      <td>0.358166</td>\n      <td>...</td>\n      <td>29.542618</td>\n      <td>2.776314</td>\n      <td>19.043102</td>\n      <td>7.511875</td>\n      <td>31.235682</td>\n      <td>5.007064</td>\n      <td>18.376179</td>\n      <td>7.071288</td>\n      <td>29.432959</td>\n      <td>3.413765</td>\n    </tr>\n  </tbody>\n</table>\n<p>5 rows × 116 columns</p>\n</div>"
     },
     "execution_count": 46,
     "metadata": {},
     "output_type": "execute_result"
    }
   ],
   "source": [
    "features_df.head()"
   ],
   "metadata": {
    "collapsed": false,
    "ExecuteTime": {
     "end_time": "2023-06-11T12:16:42.308733Z",
     "start_time": "2023-06-11T12:16:41.556780700Z"
    }
   }
  },
  {
   "cell_type": "code",
   "execution_count": 47,
   "outputs": [
    {
     "name": "stdout",
     "output_type": "stream",
     "text": [
      "<class 'pandas.core.frame.DataFrame'>\n",
      "RangeIndex: 780 entries, 0 to 779\n",
      "Columns: 116 entries, Gaze_Counts_In_RoI_Pre to DVA_Min_Fixations_Post\n",
      "dtypes: float64(107), int32(9)\n",
      "memory usage: 679.6 KB\n"
     ]
    }
   ],
   "source": [
    "features_df.info()"
   ],
   "metadata": {
    "collapsed": false,
    "ExecuteTime": {
     "end_time": "2023-06-11T12:16:42.311723500Z",
     "start_time": "2023-06-11T12:16:41.569272200Z"
    }
   }
  },
  {
   "cell_type": "markdown",
   "source": [],
   "metadata": {
    "collapsed": false
   }
  },
  {
   "cell_type": "code",
   "execution_count": 48,
   "outputs": [
    {
     "data": {
      "text/plain": "           mem\nseries_id     \n0            0\n1            1\n2            1\n3            1\n4            0",
      "text/html": "<div>\n<style scoped>\n    .dataframe tbody tr th:only-of-type {\n        vertical-align: middle;\n    }\n\n    .dataframe tbody tr th {\n        vertical-align: top;\n    }\n\n    .dataframe thead th {\n        text-align: right;\n    }\n</style>\n<table border=\"1\" class=\"dataframe\">\n  <thead>\n    <tr style=\"text-align: right;\">\n      <th></th>\n      <th>mem</th>\n    </tr>\n    <tr>\n      <th>series_id</th>\n      <th></th>\n    </tr>\n  </thead>\n  <tbody>\n    <tr>\n      <th>0</th>\n      <td>0</td>\n    </tr>\n    <tr>\n      <th>1</th>\n      <td>1</td>\n    </tr>\n    <tr>\n      <th>2</th>\n      <td>1</td>\n    </tr>\n    <tr>\n      <th>3</th>\n      <td>1</td>\n    </tr>\n    <tr>\n      <th>4</th>\n      <td>0</td>\n    </tr>\n  </tbody>\n</table>\n</div>"
     },
     "execution_count": 48,
     "metadata": {},
     "output_type": "execute_result"
    }
   ],
   "source": [
    "labels_df.head()"
   ],
   "metadata": {
    "collapsed": false,
    "ExecuteTime": {
     "end_time": "2023-06-11T12:16:42.311723500Z",
     "start_time": "2023-06-11T12:16:41.581835700Z"
    }
   }
  },
  {
   "cell_type": "code",
   "execution_count": 49,
   "outputs": [
    {
     "name": "stdout",
     "output_type": "stream",
     "text": [
      "<class 'pandas.core.frame.DataFrame'>\n",
      "Int64Index: 780 entries, 0 to 779\n",
      "Data columns (total 1 columns):\n",
      " #   Column  Non-Null Count  Dtype\n",
      "---  ------  --------------  -----\n",
      " 0   mem     780 non-null    int64\n",
      "dtypes: int64(1)\n",
      "memory usage: 12.2 KB\n"
     ]
    }
   ],
   "source": [
    "labels_df.info()"
   ],
   "metadata": {
    "collapsed": false,
    "ExecuteTime": {
     "end_time": "2023-06-11T12:16:42.330189200Z",
     "start_time": "2023-06-11T12:16:41.598381900Z"
    }
   }
  },
  {
   "cell_type": "markdown",
   "source": [
    "Data Cleaning"
   ],
   "metadata": {
    "collapsed": false
   }
  },
  {
   "cell_type": "markdown",
   "source": [
    "how many missing values are there in each column? show the top 10"
   ],
   "metadata": {
    "collapsed": false
   }
  },
  {
   "cell_type": "code",
   "execution_count": 50,
   "outputs": [
    {
     "data": {
      "text/plain": "Pupil radius_Fixations_First_Diff_Pre            182\nPupil radius_Fixations_First_Diff_Post           182\nPupil radius_Fixations_ReEntry_Mean_Diff_Pre     182\nPupil radius_Fixations_ReEntry_Mean_Diff_Post    182\nonset_Std_Saccades_Start_In_RoI_Post             129\nDuration_Max_Saccades_Start_In_RoI_Pre           129\nonset_Max_Saccades_Start_In_RoI_Pre              129\nvis_angle_Max_Saccades_Start_In_RoI_Pre          129\npeak_velocity_Max_Saccades_Start_In_RoI_Pre      129\nonset_Min_Saccades_Start_In_RoI_Pre              129\ndtype: int64"
     },
     "execution_count": 50,
     "metadata": {},
     "output_type": "execute_result"
    }
   ],
   "source": [
    "features_df.isna().sum(axis=0).sort_values(ascending=False).head(10)"
   ],
   "metadata": {
    "collapsed": false,
    "ExecuteTime": {
     "end_time": "2023-06-11T12:16:42.351170500Z",
     "start_time": "2023-06-11T12:16:41.611342600Z"
    }
   }
  },
  {
   "cell_type": "markdown",
   "source": [],
   "metadata": {
    "collapsed": false
   }
  },
  {
   "cell_type": "markdown",
   "source": [
    "Remove columns with more than 30% missing values"
   ],
   "metadata": {
    "collapsed": false
   }
  },
  {
   "cell_type": "code",
   "execution_count": 51,
   "outputs": [],
   "source": [
    "features_df = features_df.loc[:, features_df.isna().sum(axis=0) < 0.3 * features_df.shape[0]]"
   ],
   "metadata": {
    "collapsed": false,
    "ExecuteTime": {
     "end_time": "2023-06-11T12:16:42.359148100Z",
     "start_time": "2023-06-11T12:16:41.626814400Z"
    }
   }
  },
  {
   "cell_type": "code",
   "execution_count": 52,
   "outputs": [
    {
     "data": {
      "text/plain": "Pupil radius_Fixations_First_Diff_Pre            182\nPupil radius_Fixations_First_Diff_Post           182\nPupil radius_Fixations_ReEntry_Mean_Diff_Pre     182\nPupil radius_Fixations_ReEntry_Mean_Diff_Post    182\nonset_Std_Saccades_Start_In_RoI_Post             129\nDuration_Max_Saccades_Start_In_RoI_Pre           129\nonset_Max_Saccades_Start_In_RoI_Pre              129\nvis_angle_Max_Saccades_Start_In_RoI_Pre          129\npeak_velocity_Max_Saccades_Start_In_RoI_Pre      129\nonset_Min_Saccades_Start_In_RoI_Pre              129\ndtype: int64"
     },
     "execution_count": 52,
     "metadata": {},
     "output_type": "execute_result"
    }
   ],
   "source": [
    "features_df.isna().sum(axis=0).sort_values(ascending=False).head(10)"
   ],
   "metadata": {
    "collapsed": false,
    "ExecuteTime": {
     "end_time": "2023-06-11T12:16:42.377127700Z",
     "start_time": "2023-06-11T12:16:41.641777900Z"
    }
   }
  },
  {
   "cell_type": "markdown",
   "source": [
    "how many missing values are there in each row? show the top 10"
   ],
   "metadata": {
    "collapsed": false
   }
  },
  {
   "cell_type": "code",
   "execution_count": 53,
   "outputs": [
    {
     "data": {
      "text/plain": "223    69\n549    69\n707    68\n250    68\n251    68\n110    68\n695    68\n591    68\n580    68\n103    68\ndtype: int64"
     },
     "execution_count": 53,
     "metadata": {},
     "output_type": "execute_result"
    }
   ],
   "source": [
    "features_df.isna().sum(axis=1).sort_values(ascending=False).head(10)"
   ],
   "metadata": {
    "collapsed": false,
    "ExecuteTime": {
     "end_time": "2023-06-11T12:16:42.400068800Z",
     "start_time": "2023-06-11T12:16:41.657746500Z"
    }
   }
  },
  {
   "cell_type": "markdown",
   "source": [
    "Remove rows with more than 50% missing values"
   ],
   "metadata": {
    "collapsed": false
   }
  },
  {
   "cell_type": "code",
   "execution_count": 54,
   "outputs": [],
   "source": [
    "features_df = features_df.loc[features_df.isna().sum(axis=1) < 0.5 * features_df.shape[1], :]\n",
    "# remove the corresponding rows from y_train\n",
    "labels_df = labels_df.loc[labels_df.index.isin(features_df.index)]"
   ],
   "metadata": {
    "collapsed": false,
    "ExecuteTime": {
     "end_time": "2023-06-11T12:16:42.402063600Z",
     "start_time": "2023-06-11T12:16:41.672219200Z"
    }
   }
  },
  {
   "cell_type": "code",
   "execution_count": 55,
   "outputs": [
    {
     "data": {
      "text/plain": "196    52\n489    48\n680    48\n540    48\n170    48\n253    40\n137    40\n661    40\n778    40\n124    40\ndtype: int64"
     },
     "execution_count": 55,
     "metadata": {},
     "output_type": "execute_result"
    }
   ],
   "source": [
    "features_df.isna().sum(axis=1).sort_values(ascending=False).head(10)"
   ],
   "metadata": {
    "collapsed": false,
    "ExecuteTime": {
     "end_time": "2023-06-11T12:16:42.403061500Z",
     "start_time": "2023-06-11T12:16:41.687695900Z"
    }
   }
  },
  {
   "cell_type": "markdown",
   "source": [
    "Train/Test Split (before any preprocessing is done)"
   ],
   "metadata": {
    "collapsed": false
   }
  },
  {
   "cell_type": "code",
   "execution_count": 56,
   "outputs": [],
   "source": [
    "series_id_df = pd.read_pickle(os.path.join(config.classification_resource_dir, \"memory_series_id_df.pkl\"))\n",
    "\n",
    "# Create a list of unique subject IDs\n",
    "subject_ids = series_id_df[config.SUBJECT].unique()\n",
    "\n",
    "# Shuffle the list of subject IDs randomly\n",
    "random = np.random\n",
    "random.seed(1)\n",
    "random.shuffle(subject_ids)\n",
    "\n",
    "# Split the list of subject IDs into two parts\n",
    "train_subject_ids = subject_ids[:int(len(subject_ids)*0.9)]\n",
    "test_subject_ids = subject_ids[int(len(subject_ids)*0.9):]\n",
    "\n",
    "# Subset the data based on the split list of subject IDs\n",
    "train_data = series_id_df[series_id_df[config.SUBJECT].isin(train_subject_ids)]\n",
    "test_data = series_id_df[series_id_df[config.SUBJECT].isin(test_subject_ids)]\n",
    "\n",
    "X_train = features_df[features_df.index.isin(train_data.index)]\n",
    "X_test = features_df[features_df.index.isin(test_data.index)]\n",
    "y_train = labels_df[labels_df.index.isin(train_data.index)]\n",
    "y_test = labels_df[labels_df.index.isin(test_data.index)]"
   ],
   "metadata": {
    "collapsed": false,
    "ExecuteTime": {
     "end_time": "2023-06-11T12:16:42.405056300Z",
     "start_time": "2023-06-11T12:16:41.705162200Z"
    }
   }
  },
  {
   "cell_type": "code",
   "execution_count": 57,
   "outputs": [],
   "source": [
    "# from sklearn.model_selection import train_test_split\n",
    "#\n",
    "# X_train, X_test, y_train, y_test = train_test_split(features_df,\n",
    "#                                                     labels_df['mem'],\n",
    "#                                                     random_state=420,\n",
    "#                                                     test_size=0.2)"
   ],
   "metadata": {
    "collapsed": false,
    "ExecuteTime": {
     "end_time": "2023-06-11T12:16:42.419524100Z",
     "start_time": "2023-06-11T12:16:41.718129100Z"
    }
   }
  },
  {
   "cell_type": "code",
   "execution_count": 58,
   "outputs": [
    {
     "data": {
      "text/plain": "   Gaze_Counts_In_RoI_Pre  Gaze_Counts_In_RoI_Post  Gaze_Counts_Out_RoI_Pre  \\\n0                       0                      779                     2747   \n1                    2794                     1772                     1686   \n2                       0                      180                     2793   \n3                       0                      177                     3210   \n4                     546                      866                     3950   \n\n   Gaze_Counts_Out_RoI_Post  Gaze_In\\out_RoI_Ratio_Pre  \\\n0                      1445                   0.000000   \n1                         0                   1.657177   \n2                      2175                   0.000000   \n3                      1532                   0.000000   \n4                      2426                   0.138228   \n\n   Gaze_In\\out_RoI_Ratio_Post  Gaze_Re_Entries_To_RoI_Count_Pre  \\\n0                    0.539100                                 0   \n1                 1772.000000                                 3   \n2                    0.082759                                 0   \n3                    0.115535                                 0   \n4                    0.356966                                 4   \n\n   Gaze_Re_Entries_To_RoI_Count_Post  Gaze_Re_Entries_To_RoI_Rate_Pre  \\\n0                                  1                         0.000000   \n1                                  0                         0.334896   \n2                                  1                         0.000000   \n3                                  2                         0.000000   \n4                                  2                         0.442429   \n\n   Gaze_Re_Entries_To_RoI_Rate_Post  ...  DVA_Max_Gaze_Post  \\\n0                          0.285714  ...          33.178480   \n1                          0.000000  ...           3.090729   \n2                          0.269639  ...          31.482871   \n3                          0.827586  ...          32.261172   \n4                          0.358166  ...          29.542618   \n\n   DVA_Min_Gaze_Post  DVA_Mean_Fixations_Pre  DVA_Std_Fixations_Pre  \\\n0           2.585135               24.921363               5.574038   \n1           1.447549                7.509422               7.160292   \n2           5.488468               25.109906               4.940303   \n3           3.043144               21.353234               6.725093   \n4           2.776314               19.043102               7.511875   \n\n   DVA_Max_Fixations_Pre  DVA_Min_Fixations_Pre  DVA_Mean_Fixations_Post  \\\n0              31.839663              13.699264                17.421185   \n1              18.108982               0.901646                 2.408315   \n2              31.112558              16.151324                18.737548   \n3              30.694673              12.165579                21.467756   \n4              31.235682               5.007064                18.376179   \n\n   DVA_Std_Fixations_Post  DVA_Max_Fixations_Post  DVA_Min_Fixations_Post  \n0               10.286085               28.243839                3.746346  \n1                0.492971                2.968488                1.774964  \n2                8.010507               31.315954                6.633146  \n3                8.684141               31.062599                5.117863  \n4                7.071288               29.432959                3.413765  \n\n[5 rows x 116 columns]",
      "text/html": "<div>\n<style scoped>\n    .dataframe tbody tr th:only-of-type {\n        vertical-align: middle;\n    }\n\n    .dataframe tbody tr th {\n        vertical-align: top;\n    }\n\n    .dataframe thead th {\n        text-align: right;\n    }\n</style>\n<table border=\"1\" class=\"dataframe\">\n  <thead>\n    <tr style=\"text-align: right;\">\n      <th></th>\n      <th>Gaze_Counts_In_RoI_Pre</th>\n      <th>Gaze_Counts_In_RoI_Post</th>\n      <th>Gaze_Counts_Out_RoI_Pre</th>\n      <th>Gaze_Counts_Out_RoI_Post</th>\n      <th>Gaze_In\\out_RoI_Ratio_Pre</th>\n      <th>Gaze_In\\out_RoI_Ratio_Post</th>\n      <th>Gaze_Re_Entries_To_RoI_Count_Pre</th>\n      <th>Gaze_Re_Entries_To_RoI_Count_Post</th>\n      <th>Gaze_Re_Entries_To_RoI_Rate_Pre</th>\n      <th>Gaze_Re_Entries_To_RoI_Rate_Post</th>\n      <th>...</th>\n      <th>DVA_Max_Gaze_Post</th>\n      <th>DVA_Min_Gaze_Post</th>\n      <th>DVA_Mean_Fixations_Pre</th>\n      <th>DVA_Std_Fixations_Pre</th>\n      <th>DVA_Max_Fixations_Pre</th>\n      <th>DVA_Min_Fixations_Pre</th>\n      <th>DVA_Mean_Fixations_Post</th>\n      <th>DVA_Std_Fixations_Post</th>\n      <th>DVA_Max_Fixations_Post</th>\n      <th>DVA_Min_Fixations_Post</th>\n    </tr>\n  </thead>\n  <tbody>\n    <tr>\n      <th>0</th>\n      <td>0</td>\n      <td>779</td>\n      <td>2747</td>\n      <td>1445</td>\n      <td>0.000000</td>\n      <td>0.539100</td>\n      <td>0</td>\n      <td>1</td>\n      <td>0.000000</td>\n      <td>0.285714</td>\n      <td>...</td>\n      <td>33.178480</td>\n      <td>2.585135</td>\n      <td>24.921363</td>\n      <td>5.574038</td>\n      <td>31.839663</td>\n      <td>13.699264</td>\n      <td>17.421185</td>\n      <td>10.286085</td>\n      <td>28.243839</td>\n      <td>3.746346</td>\n    </tr>\n    <tr>\n      <th>1</th>\n      <td>2794</td>\n      <td>1772</td>\n      <td>1686</td>\n      <td>0</td>\n      <td>1.657177</td>\n      <td>1772.000000</td>\n      <td>3</td>\n      <td>0</td>\n      <td>0.334896</td>\n      <td>0.000000</td>\n      <td>...</td>\n      <td>3.090729</td>\n      <td>1.447549</td>\n      <td>7.509422</td>\n      <td>7.160292</td>\n      <td>18.108982</td>\n      <td>0.901646</td>\n      <td>2.408315</td>\n      <td>0.492971</td>\n      <td>2.968488</td>\n      <td>1.774964</td>\n    </tr>\n    <tr>\n      <th>2</th>\n      <td>0</td>\n      <td>180</td>\n      <td>2793</td>\n      <td>2175</td>\n      <td>0.000000</td>\n      <td>0.082759</td>\n      <td>0</td>\n      <td>1</td>\n      <td>0.000000</td>\n      <td>0.269639</td>\n      <td>...</td>\n      <td>31.482871</td>\n      <td>5.488468</td>\n      <td>25.109906</td>\n      <td>4.940303</td>\n      <td>31.112558</td>\n      <td>16.151324</td>\n      <td>18.737548</td>\n      <td>8.010507</td>\n      <td>31.315954</td>\n      <td>6.633146</td>\n    </tr>\n    <tr>\n      <th>3</th>\n      <td>0</td>\n      <td>177</td>\n      <td>3210</td>\n      <td>1532</td>\n      <td>0.000000</td>\n      <td>0.115535</td>\n      <td>0</td>\n      <td>2</td>\n      <td>0.000000</td>\n      <td>0.827586</td>\n      <td>...</td>\n      <td>32.261172</td>\n      <td>3.043144</td>\n      <td>21.353234</td>\n      <td>6.725093</td>\n      <td>30.694673</td>\n      <td>12.165579</td>\n      <td>21.467756</td>\n      <td>8.684141</td>\n      <td>31.062599</td>\n      <td>5.117863</td>\n    </tr>\n    <tr>\n      <th>4</th>\n      <td>546</td>\n      <td>866</td>\n      <td>3950</td>\n      <td>2426</td>\n      <td>0.138228</td>\n      <td>0.356966</td>\n      <td>4</td>\n      <td>2</td>\n      <td>0.442429</td>\n      <td>0.358166</td>\n      <td>...</td>\n      <td>29.542618</td>\n      <td>2.776314</td>\n      <td>19.043102</td>\n      <td>7.511875</td>\n      <td>31.235682</td>\n      <td>5.007064</td>\n      <td>18.376179</td>\n      <td>7.071288</td>\n      <td>29.432959</td>\n      <td>3.413765</td>\n    </tr>\n  </tbody>\n</table>\n<p>5 rows × 116 columns</p>\n</div>"
     },
     "execution_count": 58,
     "metadata": {},
     "output_type": "execute_result"
    }
   ],
   "source": [
    "X_train.head()"
   ],
   "metadata": {
    "collapsed": false,
    "ExecuteTime": {
     "end_time": "2023-06-11T12:16:42.421519Z",
     "start_time": "2023-06-11T12:16:41.742574700Z"
    }
   }
  },
  {
   "cell_type": "markdown",
   "source": [
    "Fill missing values with the mean of the column"
   ],
   "metadata": {
    "collapsed": false
   }
  },
  {
   "cell_type": "code",
   "execution_count": 59,
   "outputs": [],
   "source": [
    "X_train = X_train.fillna(X_train.mean()) # fill missing values with the mean of the column or zero ? features_df.mean()\n",
    "X_test = X_test.fillna(X_train.mean())"
   ],
   "metadata": {
    "collapsed": false,
    "ExecuteTime": {
     "end_time": "2023-06-11T12:16:42.467928300Z",
     "start_time": "2023-06-11T12:16:41.749558900Z"
    }
   }
  },
  {
   "cell_type": "markdown",
   "source": [
    "Balancing the dataset"
   ],
   "metadata": {
    "collapsed": false
   }
  },
  {
   "cell_type": "code",
   "execution_count": 60,
   "outputs": [
    {
     "data": {
      "text/plain": "mem\n1      476\n0      107\ndtype: int64"
     },
     "execution_count": 60,
     "metadata": {},
     "output_type": "execute_result"
    }
   ],
   "source": [
    "y_train.value_counts()"
   ],
   "metadata": {
    "collapsed": false,
    "ExecuteTime": {
     "end_time": "2023-06-11T12:16:42.483914900Z",
     "start_time": "2023-06-11T12:16:41.796642100Z"
    }
   }
  },
  {
   "cell_type": "markdown",
   "source": [
    "SMOTE"
   ],
   "metadata": {
    "collapsed": false
   }
  },
  {
   "cell_type": "code",
   "execution_count": 61,
   "outputs": [],
   "source": [
    "# from imblearn.over_sampling import SMOTE\n",
    "#\n",
    "# sm = SMOTE(random_state=420)\n",
    "# X_train, y_train = sm.fit_resample(X_train, y_train)"
   ],
   "metadata": {
    "collapsed": false,
    "ExecuteTime": {
     "end_time": "2023-06-11T12:16:42.505382900Z",
     "start_time": "2023-06-11T12:16:41.811605800Z"
    }
   }
  },
  {
   "cell_type": "markdown",
   "source": [
    "Random Oversampling"
   ],
   "metadata": {
    "collapsed": false
   }
  },
  {
   "cell_type": "code",
   "execution_count": 62,
   "outputs": [],
   "source": [
    "from imblearn.over_sampling import RandomOverSampler\n",
    "\n",
    "ros = RandomOverSampler(random_state=420)\n",
    "X_train, y_train = ros.fit_resample(X_train, y_train)"
   ],
   "metadata": {
    "collapsed": false,
    "ExecuteTime": {
     "end_time": "2023-06-11T12:16:42.532835600Z",
     "start_time": "2023-06-11T12:16:41.832102Z"
    }
   }
  },
  {
   "cell_type": "code",
   "execution_count": 63,
   "outputs": [
    {
     "data": {
      "text/plain": "mem\n0      476\n1      476\ndtype: int64"
     },
     "execution_count": 63,
     "metadata": {},
     "output_type": "execute_result"
    }
   ],
   "source": [
    "y_train.value_counts()"
   ],
   "metadata": {
    "collapsed": false,
    "ExecuteTime": {
     "end_time": "2023-06-11T12:16:42.534832200Z",
     "start_time": "2023-06-11T12:16:41.860555700Z"
    }
   }
  },
  {
   "cell_type": "markdown",
   "source": [
    "Scaling"
   ],
   "metadata": {
    "collapsed": false
   }
  },
  {
   "cell_type": "code",
   "execution_count": 64,
   "outputs": [],
   "source": [
    "from sklearn.preprocessing import StandardScaler\n",
    "\n",
    "# Create separate StandardScaler instances\n",
    "scaler_x = StandardScaler()\n",
    "# scaler_y = StandardScaler()\n",
    "\n",
    "# Fit on Training Data (!)\n",
    "scaler_x.fit(X_train.values)\n",
    "# scaler_y.fit(y_train.values.reshape(-1, 1))\n",
    "\n",
    "# Transform both training and testing data\n",
    "X_train_scaled = scaler_x.transform(X_train.values)\n",
    "X_test_scaled = scaler_x.transform(X_test.values)\n",
    "y_train = y_train.values.reshape(-1, 1).flatten()\n",
    "y_test = y_test.values.reshape(-1, 1).flatten()\n",
    "\n",
    "X_train_scaled = pd.DataFrame(X_train_scaled, columns=X_train.columns)\n",
    "X_test_scaled = pd.DataFrame(X_test_scaled, columns=X_test.columns)"
   ],
   "metadata": {
    "collapsed": false,
    "ExecuteTime": {
     "end_time": "2023-06-11T12:16:42.550791300Z",
     "start_time": "2023-06-11T12:16:41.874037800Z"
    }
   }
  },
  {
   "cell_type": "markdown",
   "source": [
    "PCA"
   ],
   "metadata": {
    "collapsed": false
   },
   "outputs": []
  },
  {
   "cell_type": "code",
   "execution_count": 65,
   "outputs": [
    {
     "data": {
      "text/plain": "<Figure size 432x288 with 1 Axes>",
      "image/png": "[encoded data removed]"
     },
     "metadata": {},
     "output_type": "display_data"
    }
   ],
   "source": [
    "pca = PCA(n_components=0.95).fit(X_train_scaled)\n",
    "plt.plot(np.cumsum(pca.explained_variance_ratio_))\n",
    "plt.xlabel('number of components')\n",
    "plt.ylabel('cumulative explained variance');"
   ],
   "metadata": {
    "collapsed": false,
    "ExecuteTime": {
     "end_time": "2023-06-11T12:16:42.600201300Z",
     "start_time": "2023-06-11T12:16:41.892509300Z"
    }
   }
  },
  {
   "cell_type": "code",
   "execution_count": 66,
   "outputs": [],
   "source": [
    "X_train_pca = pca.transform(X_train_scaled)\n",
    "X_test_pca = pca.transform(X_test_scaled)"
   ],
   "metadata": {
    "collapsed": false,
    "ExecuteTime": {
     "end_time": "2023-06-11T12:16:42.600201300Z",
     "start_time": "2023-06-11T12:16:42.049764400Z"
    }
   }
  },
  {
   "cell_type": "code",
   "execution_count": 67,
   "outputs": [
    {
     "data": {
      "text/plain": "array([[-7.18182495, -1.27781697, -0.78904225, ...,  0.08201737,\n        -0.17094378,  0.15962482],\n       [12.02109748, -2.28543804, -5.67905323, ...,  0.33249173,\n        -0.80148671,  0.03574344],\n       [-8.30404683,  0.08407432, -0.51028584, ...,  0.18116089,\n         0.36035724, -0.24377761],\n       ...,\n       [-2.7998777 ,  9.99052134, -3.76107629, ..., -0.79240789,\n        -0.10364857,  0.28776581],\n       [ 4.64955977,  1.62058135,  1.42878301, ...,  0.0662411 ,\n        -0.01759738, -0.52774096],\n       [-1.97062188,  5.80292505, -3.65488473, ..., -0.39569161,\n        -0.42400444,  0.23804442]])"
     },
     "execution_count": 67,
     "metadata": {},
     "output_type": "execute_result"
    }
   ],
   "source": [
    "X_train_pca"
   ],
   "metadata": {
    "collapsed": false,
    "ExecuteTime": {
     "end_time": "2023-06-11T12:16:42.600201300Z",
     "start_time": "2023-06-11T12:16:42.064236200Z"
    }
   }
  },
  {
   "cell_type": "markdown",
   "source": [
    "LDA"
   ],
   "metadata": {
    "collapsed": false
   }
  },
  {
   "cell_type": "markdown",
   "source": [],
   "metadata": {
    "collapsed": false
   }
  },
  {
   "cell_type": "code",
   "execution_count": 68,
   "outputs": [],
   "source": [
    "from sklearn.discriminant_analysis import LinearDiscriminantAnalysis\n",
    "\n",
    "lda = LinearDiscriminantAnalysis(n_components=1)\n",
    "X_train_lda = lda.fit_transform(X_train_scaled, y_train)\n",
    "X_test_lda = lda.transform(X_test_scaled)"
   ],
   "metadata": {
    "collapsed": false,
    "ExecuteTime": {
     "end_time": "2023-06-11T12:16:42.615170900Z",
     "start_time": "2023-06-11T12:16:42.081717700Z"
    }
   }
  },
  {
   "cell_type": "code",
   "execution_count": 69,
   "outputs": [
    {
     "data": {
      "text/plain": "<Figure size 432x288 with 1 Axes>",
      "image/png": "[encoded data removed]"
     },
     "metadata": {},
     "output_type": "display_data"
    }
   ],
   "source": [
    "# Create a scatter plot of the transformed data\n",
    "plt.scatter(X_train_lda, np.zeros(len(X_train_lda)), c=y_train, cmap='rainbow', alpha=0.7, edgecolors='b')\n",
    "plt.xlabel('LD1')\n",
    "plt.title('LDA Scatter Plot')\n",
    "plt.show()"
   ],
   "metadata": {
    "collapsed": false,
    "ExecuteTime": {
     "end_time": "2023-06-11T12:16:42.615170900Z",
     "start_time": "2023-06-11T12:16:42.160052Z"
    }
   }
  },
  {
   "cell_type": "code",
   "execution_count": 70,
   "outputs": [],
   "source": [
    "X_train_preprocessed = X_train_scaled\n",
    "X_test_preprocessed = X_test_scaled"
   ],
   "metadata": {
    "collapsed": false,
    "ExecuteTime": {
     "end_time": "2023-06-11T12:16:42.616168500Z",
     "start_time": "2023-06-11T12:16:42.279291600Z"
    }
   }
  },
  {
   "cell_type": "markdown",
   "source": [
    "Classification models"
   ],
   "metadata": {
    "collapsed": false
   },
   "outputs": []
  },
  {
   "cell_type": "code",
   "execution_count": 71,
   "outputs": [],
   "source": [
    "from sklearn.metrics import accuracy_score, precision_score, recall_score, f1_score, roc_auc_score\n",
    "from sklearn.metrics import confusion_matrix\n",
    "import seaborn as sns\n",
    "\n",
    "def evaluate_model(model_name, y_true, y_pred):\n",
    "    # Evaluate the model using various metrics\n",
    "    accuracy = accuracy_score(y_test, y_pred)\n",
    "    precision = precision_score(y_test, y_pred)\n",
    "    recall = recall_score(y_test, y_pred)\n",
    "    f1 = f1_score(y_test, y_pred)\n",
    "    roc_auc = roc_auc_score(y_test, y_pred)\n",
    "\n",
    "    print(model_name)\n",
    "    # Print the evaluation metrics\n",
    "    print(\"Accuracy:\", round(accuracy, 2))\n",
    "    print(\"Precision:\", round(precision, 2))\n",
    "    print(\"Recall:\", round(recall, 2))\n",
    "    print(\"F1-score:\", round(f1, 2))\n",
    "    print(\"ROC-AUC score:\", round(roc_auc, 2))\n",
    "\n",
    "    # Compute the confusion matrix\n",
    "    confusion_mat = confusion_matrix(y_true, y_pred)\n",
    "\n",
    "    # Create a heatmap visualization of the confusion matrix\n",
    "    fig, ax = plt.subplots(figsize=(8, 8))\n",
    "    sns.heatmap(confusion_mat, annot=True, cmap=\"Blues\", fmt=\"d\", ax=ax)\n",
    "\n",
    "    # Set the axis labels and title\n",
    "    ax.set_xlabel(\"Predicted Labels\")\n",
    "    ax.set_ylabel(\"True Labels\")\n",
    "    ax.set_title(\"Confusion Matrix\")\n",
    "\n",
    "    # Show the plot\n",
    "    plt.show()"
   ],
   "metadata": {
    "collapsed": false,
    "ExecuteTime": {
     "end_time": "2023-06-11T12:16:42.616168500Z",
     "start_time": "2023-06-11T12:16:42.307734300Z"
    }
   }
  },
  {
   "cell_type": "code",
   "execution_count": 72,
   "outputs": [],
   "source": [
    "from sklearn.model_selection import GridSearchCV"
   ],
   "metadata": {
    "collapsed": false,
    "ExecuteTime": {
     "end_time": "2023-06-11T12:16:42.616168500Z",
     "start_time": "2023-06-11T12:16:42.310727700Z"
    }
   }
  },
  {
   "cell_type": "markdown",
   "source": [
    "Logistic Regression model"
   ],
   "metadata": {
    "collapsed": false
   },
   "outputs": []
  },
  {
   "cell_type": "code",
   "execution_count": 73,
   "outputs": [
    {
     "name": "stderr",
     "output_type": "stream",
     "text": [
      "C:\\Users\\user\\anaconda3\\lib\\site-packages\\sklearn\\linear_model\\_sag.py:350: ConvergenceWarning: The max_iter was reached which means the coef_ did not converge\n",
      "  warnings.warn(\n",
      "C:\\Users\\user\\anaconda3\\lib\\site-packages\\sklearn\\linear_model\\_sag.py:350: ConvergenceWarning: The max_iter was reached which means the coef_ did not converge\n",
      "  warnings.warn(\n",
      "C:\\Users\\user\\anaconda3\\lib\\site-packages\\sklearn\\linear_model\\_sag.py:350: ConvergenceWarning: The max_iter was reached which means the coef_ did not converge\n",
      "  warnings.warn(\n",
      "C:\\Users\\user\\anaconda3\\lib\\site-packages\\sklearn\\linear_model\\_sag.py:350: ConvergenceWarning: The max_iter was reached which means the coef_ did not converge\n",
      "  warnings.warn(\n",
      "C:\\Users\\user\\anaconda3\\lib\\site-packages\\sklearn\\linear_model\\_sag.py:350: ConvergenceWarning: The max_iter was reached which means the coef_ did not converge\n",
      "  warnings.warn(\n",
      "C:\\Users\\user\\anaconda3\\lib\\site-packages\\sklearn\\linear_model\\_sag.py:350: ConvergenceWarning: The max_iter was reached which means the coef_ did not converge\n",
      "  warnings.warn(\n",
      "C:\\Users\\user\\anaconda3\\lib\\site-packages\\sklearn\\linear_model\\_sag.py:350: ConvergenceWarning: The max_iter was reached which means the coef_ did not converge\n",
      "  warnings.warn(\n",
      "C:\\Users\\user\\anaconda3\\lib\\site-packages\\sklearn\\linear_model\\_sag.py:350: ConvergenceWarning: The max_iter was reached which means the coef_ did not converge\n",
      "  warnings.warn(\n",
      "C:\\Users\\user\\anaconda3\\lib\\site-packages\\sklearn\\linear_model\\_sag.py:350: ConvergenceWarning: The max_iter was reached which means the coef_ did not converge\n",
      "  warnings.warn(\n",
      "C:\\Users\\user\\anaconda3\\lib\\site-packages\\sklearn\\linear_model\\_sag.py:350: ConvergenceWarning: The max_iter was reached which means the coef_ did not converge\n",
      "  warnings.warn(\n",
      "C:\\Users\\user\\anaconda3\\lib\\site-packages\\sklearn\\linear_model\\_sag.py:350: ConvergenceWarning: The max_iter was reached which means the coef_ did not converge\n",
      "  warnings.warn(\n",
      "C:\\Users\\user\\anaconda3\\lib\\site-packages\\sklearn\\linear_model\\_sag.py:350: ConvergenceWarning: The max_iter was reached which means the coef_ did not converge\n",
      "  warnings.warn(\n",
      "C:\\Users\\user\\anaconda3\\lib\\site-packages\\sklearn\\linear_model\\_sag.py:350: ConvergenceWarning: The max_iter was reached which means the coef_ did not converge\n",
      "  warnings.warn(\n",
      "C:\\Users\\user\\anaconda3\\lib\\site-packages\\sklearn\\linear_model\\_sag.py:350: ConvergenceWarning: The max_iter was reached which means the coef_ did not converge\n",
      "  warnings.warn(\n",
      "C:\\Users\\user\\anaconda3\\lib\\site-packages\\sklearn\\linear_model\\_sag.py:350: ConvergenceWarning: The max_iter was reached which means the coef_ did not converge\n",
      "  warnings.warn(\n",
      "C:\\Users\\user\\anaconda3\\lib\\site-packages\\sklearn\\linear_model\\_sag.py:350: ConvergenceWarning: The max_iter was reached which means the coef_ did not converge\n",
      "  warnings.warn(\n",
      "C:\\Users\\user\\anaconda3\\lib\\site-packages\\sklearn\\linear_model\\_sag.py:350: ConvergenceWarning: The max_iter was reached which means the coef_ did not converge\n",
      "  warnings.warn(\n",
      "C:\\Users\\user\\anaconda3\\lib\\site-packages\\sklearn\\linear_model\\_sag.py:350: ConvergenceWarning: The max_iter was reached which means the coef_ did not converge\n",
      "  warnings.warn(\n",
      "C:\\Users\\user\\anaconda3\\lib\\site-packages\\sklearn\\linear_model\\_sag.py:350: ConvergenceWarning: The max_iter was reached which means the coef_ did not converge\n",
      "  warnings.warn(\n",
      "C:\\Users\\user\\anaconda3\\lib\\site-packages\\sklearn\\linear_model\\_sag.py:350: ConvergenceWarning: The max_iter was reached which means the coef_ did not converge\n",
      "  warnings.warn(\n",
      "C:\\Users\\user\\anaconda3\\lib\\site-packages\\sklearn\\linear_model\\_sag.py:350: ConvergenceWarning: The max_iter was reached which means the coef_ did not converge\n",
      "  warnings.warn(\n",
      "C:\\Users\\user\\anaconda3\\lib\\site-packages\\sklearn\\linear_model\\_sag.py:350: ConvergenceWarning: The max_iter was reached which means the coef_ did not converge\n",
      "  warnings.warn(\n",
      "C:\\Users\\user\\anaconda3\\lib\\site-packages\\sklearn\\linear_model\\_sag.py:350: ConvergenceWarning: The max_iter was reached which means the coef_ did not converge\n",
      "  warnings.warn(\n",
      "C:\\Users\\user\\anaconda3\\lib\\site-packages\\sklearn\\linear_model\\_sag.py:350: ConvergenceWarning: The max_iter was reached which means the coef_ did not converge\n",
      "  warnings.warn(\n",
      "C:\\Users\\user\\anaconda3\\lib\\site-packages\\sklearn\\linear_model\\_sag.py:350: ConvergenceWarning: The max_iter was reached which means the coef_ did not converge\n",
      "  warnings.warn(\n",
      "C:\\Users\\user\\anaconda3\\lib\\site-packages\\sklearn\\linear_model\\_sag.py:350: ConvergenceWarning: The max_iter was reached which means the coef_ did not converge\n",
      "  warnings.warn(\n",
      "C:\\Users\\user\\anaconda3\\lib\\site-packages\\sklearn\\linear_model\\_sag.py:350: ConvergenceWarning: The max_iter was reached which means the coef_ did not converge\n",
      "  warnings.warn(\n",
      "C:\\Users\\user\\anaconda3\\lib\\site-packages\\sklearn\\linear_model\\_sag.py:350: ConvergenceWarning: The max_iter was reached which means the coef_ did not converge\n",
      "  warnings.warn(\n",
      "C:\\Users\\user\\anaconda3\\lib\\site-packages\\sklearn\\linear_model\\_sag.py:350: ConvergenceWarning: The max_iter was reached which means the coef_ did not converge\n",
      "  warnings.warn(\n",
      "C:\\Users\\user\\anaconda3\\lib\\site-packages\\sklearn\\linear_model\\_sag.py:350: ConvergenceWarning: The max_iter was reached which means the coef_ did not converge\n",
      "  warnings.warn(\n",
      "C:\\Users\\user\\anaconda3\\lib\\site-packages\\sklearn\\linear_model\\_sag.py:350: ConvergenceWarning: The max_iter was reached which means the coef_ did not converge\n",
      "  warnings.warn(\n",
      "C:\\Users\\user\\anaconda3\\lib\\site-packages\\sklearn\\linear_model\\_sag.py:350: ConvergenceWarning: The max_iter was reached which means the coef_ did not converge\n",
      "  warnings.warn(\n",
      "C:\\Users\\user\\anaconda3\\lib\\site-packages\\sklearn\\linear_model\\_sag.py:350: ConvergenceWarning: The max_iter was reached which means the coef_ did not converge\n",
      "  warnings.warn(\n",
      "C:\\Users\\user\\anaconda3\\lib\\site-packages\\sklearn\\linear_model\\_sag.py:350: ConvergenceWarning: The max_iter was reached which means the coef_ did not converge\n",
      "  warnings.warn(\n",
      "C:\\Users\\user\\anaconda3\\lib\\site-packages\\sklearn\\linear_model\\_sag.py:350: ConvergenceWarning: The max_iter was reached which means the coef_ did not converge\n",
      "  warnings.warn(\n",
      "C:\\Users\\user\\anaconda3\\lib\\site-packages\\sklearn\\linear_model\\_sag.py:350: ConvergenceWarning: The max_iter was reached which means the coef_ did not converge\n",
      "  warnings.warn(\n",
      "C:\\Users\\user\\anaconda3\\lib\\site-packages\\sklearn\\linear_model\\_sag.py:350: ConvergenceWarning: The max_iter was reached which means the coef_ did not converge\n",
      "  warnings.warn(\n",
      "C:\\Users\\user\\anaconda3\\lib\\site-packages\\sklearn\\linear_model\\_sag.py:350: ConvergenceWarning: The max_iter was reached which means the coef_ did not converge\n",
      "  warnings.warn(\n",
      "C:\\Users\\user\\anaconda3\\lib\\site-packages\\sklearn\\linear_model\\_sag.py:350: ConvergenceWarning: The max_iter was reached which means the coef_ did not converge\n",
      "  warnings.warn(\n",
      "C:\\Users\\user\\anaconda3\\lib\\site-packages\\sklearn\\linear_model\\_sag.py:350: ConvergenceWarning: The max_iter was reached which means the coef_ did not converge\n",
      "  warnings.warn(\n",
      "C:\\Users\\user\\anaconda3\\lib\\site-packages\\sklearn\\linear_model\\_sag.py:350: ConvergenceWarning: The max_iter was reached which means the coef_ did not converge\n",
      "  warnings.warn(\n",
      "C:\\Users\\user\\anaconda3\\lib\\site-packages\\sklearn\\linear_model\\_sag.py:350: ConvergenceWarning: The max_iter was reached which means the coef_ did not converge\n",
      "  warnings.warn(\n",
      "C:\\Users\\user\\anaconda3\\lib\\site-packages\\sklearn\\linear_model\\_sag.py:350: ConvergenceWarning: The max_iter was reached which means the coef_ did not converge\n",
      "  warnings.warn(\n",
      "C:\\Users\\user\\anaconda3\\lib\\site-packages\\sklearn\\linear_model\\_sag.py:350: ConvergenceWarning: The max_iter was reached which means the coef_ did not converge\n",
      "  warnings.warn(\n",
      "C:\\Users\\user\\anaconda3\\lib\\site-packages\\sklearn\\linear_model\\_sag.py:350: ConvergenceWarning: The max_iter was reached which means the coef_ did not converge\n",
      "  warnings.warn(\n",
      "C:\\Users\\user\\anaconda3\\lib\\site-packages\\sklearn\\linear_model\\_sag.py:350: ConvergenceWarning: The max_iter was reached which means the coef_ did not converge\n",
      "  warnings.warn(\n",
      "C:\\Users\\user\\anaconda3\\lib\\site-packages\\sklearn\\linear_model\\_sag.py:350: ConvergenceWarning: The max_iter was reached which means the coef_ did not converge\n",
      "  warnings.warn(\n",
      "C:\\Users\\user\\anaconda3\\lib\\site-packages\\sklearn\\linear_model\\_sag.py:350: ConvergenceWarning: The max_iter was reached which means the coef_ did not converge\n",
      "  warnings.warn(\n",
      "C:\\Users\\user\\anaconda3\\lib\\site-packages\\sklearn\\linear_model\\_sag.py:350: ConvergenceWarning: The max_iter was reached which means the coef_ did not converge\n",
      "  warnings.warn(\n",
      "C:\\Users\\user\\anaconda3\\lib\\site-packages\\sklearn\\linear_model\\_sag.py:350: ConvergenceWarning: The max_iter was reached which means the coef_ did not converge\n",
      "  warnings.warn(\n",
      "C:\\Users\\user\\anaconda3\\lib\\site-packages\\sklearn\\linear_model\\_sag.py:350: ConvergenceWarning: The max_iter was reached which means the coef_ did not converge\n",
      "  warnings.warn(\n",
      "C:\\Users\\user\\anaconda3\\lib\\site-packages\\sklearn\\linear_model\\_sag.py:350: ConvergenceWarning: The max_iter was reached which means the coef_ did not converge\n",
      "  warnings.warn(\n",
      "C:\\Users\\user\\anaconda3\\lib\\site-packages\\sklearn\\linear_model\\_sag.py:350: ConvergenceWarning: The max_iter was reached which means the coef_ did not converge\n",
      "  warnings.warn(\n",
      "C:\\Users\\user\\anaconda3\\lib\\site-packages\\sklearn\\linear_model\\_sag.py:350: ConvergenceWarning: The max_iter was reached which means the coef_ did not converge\n",
      "  warnings.warn(\n",
      "C:\\Users\\user\\anaconda3\\lib\\site-packages\\sklearn\\linear_model\\_sag.py:350: ConvergenceWarning: The max_iter was reached which means the coef_ did not converge\n",
      "  warnings.warn(\n",
      "C:\\Users\\user\\anaconda3\\lib\\site-packages\\sklearn\\linear_model\\_sag.py:350: ConvergenceWarning: The max_iter was reached which means the coef_ did not converge\n",
      "  warnings.warn(\n",
      "C:\\Users\\user\\anaconda3\\lib\\site-packages\\sklearn\\linear_model\\_sag.py:350: ConvergenceWarning: The max_iter was reached which means the coef_ did not converge\n",
      "  warnings.warn(\n",
      "C:\\Users\\user\\anaconda3\\lib\\site-packages\\sklearn\\linear_model\\_sag.py:350: ConvergenceWarning: The max_iter was reached which means the coef_ did not converge\n",
      "  warnings.warn(\n",
      "C:\\Users\\user\\anaconda3\\lib\\site-packages\\sklearn\\linear_model\\_sag.py:350: ConvergenceWarning: The max_iter was reached which means the coef_ did not converge\n",
      "  warnings.warn(\n",
      "C:\\Users\\user\\anaconda3\\lib\\site-packages\\sklearn\\linear_model\\_sag.py:350: ConvergenceWarning: The max_iter was reached which means the coef_ did not converge\n",
      "  warnings.warn(\n",
      "C:\\Users\\user\\anaconda3\\lib\\site-packages\\sklearn\\linear_model\\_sag.py:350: ConvergenceWarning: The max_iter was reached which means the coef_ did not converge\n",
      "  warnings.warn(\n",
      "C:\\Users\\user\\anaconda3\\lib\\site-packages\\sklearn\\linear_model\\_sag.py:350: ConvergenceWarning: The max_iter was reached which means the coef_ did not converge\n",
      "  warnings.warn(\n",
      "C:\\Users\\user\\anaconda3\\lib\\site-packages\\sklearn\\linear_model\\_sag.py:350: ConvergenceWarning: The max_iter was reached which means the coef_ did not converge\n",
      "  warnings.warn(\n",
      "C:\\Users\\user\\anaconda3\\lib\\site-packages\\sklearn\\linear_model\\_sag.py:350: ConvergenceWarning: The max_iter was reached which means the coef_ did not converge\n",
      "  warnings.warn(\n",
      "C:\\Users\\user\\anaconda3\\lib\\site-packages\\sklearn\\linear_model\\_sag.py:350: ConvergenceWarning: The max_iter was reached which means the coef_ did not converge\n",
      "  warnings.warn(\n",
      "C:\\Users\\user\\anaconda3\\lib\\site-packages\\sklearn\\linear_model\\_sag.py:350: ConvergenceWarning: The max_iter was reached which means the coef_ did not converge\n",
      "  warnings.warn(\n",
      "C:\\Users\\user\\anaconda3\\lib\\site-packages\\sklearn\\linear_model\\_sag.py:350: ConvergenceWarning: The max_iter was reached which means the coef_ did not converge\n",
      "  warnings.warn(\n",
      "C:\\Users\\user\\anaconda3\\lib\\site-packages\\sklearn\\linear_model\\_sag.py:350: ConvergenceWarning: The max_iter was reached which means the coef_ did not converge\n",
      "  warnings.warn(\n",
      "C:\\Users\\user\\anaconda3\\lib\\site-packages\\sklearn\\linear_model\\_sag.py:350: ConvergenceWarning: The max_iter was reached which means the coef_ did not converge\n",
      "  warnings.warn(\n",
      "C:\\Users\\user\\anaconda3\\lib\\site-packages\\sklearn\\linear_model\\_sag.py:350: ConvergenceWarning: The max_iter was reached which means the coef_ did not converge\n",
      "  warnings.warn(\n",
      "C:\\Users\\user\\anaconda3\\lib\\site-packages\\sklearn\\linear_model\\_sag.py:350: ConvergenceWarning: The max_iter was reached which means the coef_ did not converge\n",
      "  warnings.warn(\n",
      "C:\\Users\\user\\anaconda3\\lib\\site-packages\\sklearn\\linear_model\\_sag.py:350: ConvergenceWarning: The max_iter was reached which means the coef_ did not converge\n",
      "  warnings.warn(\n",
      "C:\\Users\\user\\anaconda3\\lib\\site-packages\\sklearn\\linear_model\\_sag.py:350: ConvergenceWarning: The max_iter was reached which means the coef_ did not converge\n",
      "  warnings.warn(\n",
      "C:\\Users\\user\\anaconda3\\lib\\site-packages\\sklearn\\linear_model\\_sag.py:350: ConvergenceWarning: The max_iter was reached which means the coef_ did not converge\n",
      "  warnings.warn(\n",
      "C:\\Users\\user\\anaconda3\\lib\\site-packages\\sklearn\\linear_model\\_sag.py:350: ConvergenceWarning: The max_iter was reached which means the coef_ did not converge\n",
      "  warnings.warn(\n",
      "C:\\Users\\user\\anaconda3\\lib\\site-packages\\sklearn\\linear_model\\_sag.py:350: ConvergenceWarning: The max_iter was reached which means the coef_ did not converge\n",
      "  warnings.warn(\n",
      "C:\\Users\\user\\anaconda3\\lib\\site-packages\\sklearn\\linear_model\\_sag.py:350: ConvergenceWarning: The max_iter was reached which means the coef_ did not converge\n",
      "  warnings.warn(\n",
      "C:\\Users\\user\\anaconda3\\lib\\site-packages\\sklearn\\linear_model\\_sag.py:350: ConvergenceWarning: The max_iter was reached which means the coef_ did not converge\n",
      "  warnings.warn(\n",
      "C:\\Users\\user\\anaconda3\\lib\\site-packages\\sklearn\\linear_model\\_sag.py:350: ConvergenceWarning: The max_iter was reached which means the coef_ did not converge\n",
      "  warnings.warn(\n",
      "C:\\Users\\user\\anaconda3\\lib\\site-packages\\sklearn\\linear_model\\_sag.py:350: ConvergenceWarning: The max_iter was reached which means the coef_ did not converge\n",
      "  warnings.warn(\n",
      "C:\\Users\\user\\anaconda3\\lib\\site-packages\\sklearn\\linear_model\\_sag.py:350: ConvergenceWarning: The max_iter was reached which means the coef_ did not converge\n",
      "  warnings.warn(\n",
      "C:\\Users\\user\\anaconda3\\lib\\site-packages\\sklearn\\linear_model\\_sag.py:350: ConvergenceWarning: The max_iter was reached which means the coef_ did not converge\n",
      "  warnings.warn(\n",
      "C:\\Users\\user\\anaconda3\\lib\\site-packages\\sklearn\\linear_model\\_sag.py:350: ConvergenceWarning: The max_iter was reached which means the coef_ did not converge\n",
      "  warnings.warn(\n",
      "C:\\Users\\user\\anaconda3\\lib\\site-packages\\sklearn\\linear_model\\_sag.py:350: ConvergenceWarning: The max_iter was reached which means the coef_ did not converge\n",
      "  warnings.warn(\n",
      "C:\\Users\\user\\anaconda3\\lib\\site-packages\\sklearn\\linear_model\\_sag.py:350: ConvergenceWarning: The max_iter was reached which means the coef_ did not converge\n",
      "  warnings.warn(\n",
      "C:\\Users\\user\\anaconda3\\lib\\site-packages\\sklearn\\linear_model\\_sag.py:350: ConvergenceWarning: The max_iter was reached which means the coef_ did not converge\n",
      "  warnings.warn(\n",
      "C:\\Users\\user\\anaconda3\\lib\\site-packages\\sklearn\\linear_model\\_sag.py:350: ConvergenceWarning: The max_iter was reached which means the coef_ did not converge\n",
      "  warnings.warn(\n",
      "C:\\Users\\user\\anaconda3\\lib\\site-packages\\sklearn\\linear_model\\_sag.py:350: ConvergenceWarning: The max_iter was reached which means the coef_ did not converge\n",
      "  warnings.warn(\n",
      "C:\\Users\\user\\anaconda3\\lib\\site-packages\\sklearn\\linear_model\\_sag.py:350: ConvergenceWarning: The max_iter was reached which means the coef_ did not converge\n",
      "  warnings.warn(\n",
      "C:\\Users\\user\\anaconda3\\lib\\site-packages\\sklearn\\linear_model\\_sag.py:350: ConvergenceWarning: The max_iter was reached which means the coef_ did not converge\n",
      "  warnings.warn(\n",
      "C:\\Users\\user\\anaconda3\\lib\\site-packages\\sklearn\\linear_model\\_sag.py:350: ConvergenceWarning: The max_iter was reached which means the coef_ did not converge\n",
      "  warnings.warn(\n",
      "C:\\Users\\user\\anaconda3\\lib\\site-packages\\sklearn\\linear_model\\_sag.py:350: ConvergenceWarning: The max_iter was reached which means the coef_ did not converge\n",
      "  warnings.warn(\n",
      "C:\\Users\\user\\anaconda3\\lib\\site-packages\\sklearn\\linear_model\\_sag.py:350: ConvergenceWarning: The max_iter was reached which means the coef_ did not converge\n",
      "  warnings.warn(\n",
      "C:\\Users\\user\\anaconda3\\lib\\site-packages\\sklearn\\linear_model\\_sag.py:350: ConvergenceWarning: The max_iter was reached which means the coef_ did not converge\n",
      "  warnings.warn(\n",
      "C:\\Users\\user\\anaconda3\\lib\\site-packages\\sklearn\\linear_model\\_sag.py:350: ConvergenceWarning: The max_iter was reached which means the coef_ did not converge\n",
      "  warnings.warn(\n",
      "C:\\Users\\user\\anaconda3\\lib\\site-packages\\sklearn\\linear_model\\_sag.py:350: ConvergenceWarning: The max_iter was reached which means the coef_ did not converge\n",
      "  warnings.warn(\n",
      "C:\\Users\\user\\anaconda3\\lib\\site-packages\\sklearn\\linear_model\\_sag.py:350: ConvergenceWarning: The max_iter was reached which means the coef_ did not converge\n",
      "  warnings.warn(\n",
      "C:\\Users\\user\\anaconda3\\lib\\site-packages\\sklearn\\linear_model\\_sag.py:350: ConvergenceWarning: The max_iter was reached which means the coef_ did not converge\n",
      "  warnings.warn(\n",
      "C:\\Users\\user\\anaconda3\\lib\\site-packages\\sklearn\\linear_model\\_sag.py:350: ConvergenceWarning: The max_iter was reached which means the coef_ did not converge\n",
      "  warnings.warn(\n",
      "C:\\Users\\user\\anaconda3\\lib\\site-packages\\sklearn\\linear_model\\_sag.py:350: ConvergenceWarning: The max_iter was reached which means the coef_ did not converge\n",
      "  warnings.warn(\n",
      "C:\\Users\\user\\anaconda3\\lib\\site-packages\\sklearn\\linear_model\\_sag.py:350: ConvergenceWarning: The max_iter was reached which means the coef_ did not converge\n",
      "  warnings.warn(\n",
      "C:\\Users\\user\\anaconda3\\lib\\site-packages\\sklearn\\linear_model\\_sag.py:350: ConvergenceWarning: The max_iter was reached which means the coef_ did not converge\n",
      "  warnings.warn(\n",
      "C:\\Users\\user\\anaconda3\\lib\\site-packages\\sklearn\\linear_model\\_sag.py:350: ConvergenceWarning: The max_iter was reached which means the coef_ did not converge\n",
      "  warnings.warn(\n",
      "C:\\Users\\user\\anaconda3\\lib\\site-packages\\sklearn\\linear_model\\_sag.py:350: ConvergenceWarning: The max_iter was reached which means the coef_ did not converge\n",
      "  warnings.warn(\n",
      "C:\\Users\\user\\anaconda3\\lib\\site-packages\\sklearn\\linear_model\\_sag.py:350: ConvergenceWarning: The max_iter was reached which means the coef_ did not converge\n",
      "  warnings.warn(\n",
      "C:\\Users\\user\\anaconda3\\lib\\site-packages\\sklearn\\linear_model\\_sag.py:350: ConvergenceWarning: The max_iter was reached which means the coef_ did not converge\n",
      "  warnings.warn(\n",
      "C:\\Users\\user\\anaconda3\\lib\\site-packages\\sklearn\\linear_model\\_sag.py:350: ConvergenceWarning: The max_iter was reached which means the coef_ did not converge\n",
      "  warnings.warn(\n",
      "C:\\Users\\user\\anaconda3\\lib\\site-packages\\sklearn\\linear_model\\_sag.py:350: ConvergenceWarning: The max_iter was reached which means the coef_ did not converge\n",
      "  warnings.warn(\n",
      "C:\\Users\\user\\anaconda3\\lib\\site-packages\\sklearn\\linear_model\\_sag.py:350: ConvergenceWarning: The max_iter was reached which means the coef_ did not converge\n",
      "  warnings.warn(\n",
      "C:\\Users\\user\\anaconda3\\lib\\site-packages\\sklearn\\linear_model\\_sag.py:350: ConvergenceWarning: The max_iter was reached which means the coef_ did not converge\n",
      "  warnings.warn(\n",
      "C:\\Users\\user\\anaconda3\\lib\\site-packages\\sklearn\\linear_model\\_sag.py:350: ConvergenceWarning: The max_iter was reached which means the coef_ did not converge\n",
      "  warnings.warn(\n",
      "C:\\Users\\user\\anaconda3\\lib\\site-packages\\sklearn\\linear_model\\_sag.py:350: ConvergenceWarning: The max_iter was reached which means the coef_ did not converge\n",
      "  warnings.warn(\n",
      "C:\\Users\\user\\anaconda3\\lib\\site-packages\\sklearn\\linear_model\\_sag.py:350: ConvergenceWarning: The max_iter was reached which means the coef_ did not converge\n",
      "  warnings.warn(\n",
      "C:\\Users\\user\\anaconda3\\lib\\site-packages\\sklearn\\linear_model\\_sag.py:350: ConvergenceWarning: The max_iter was reached which means the coef_ did not converge\n",
      "  warnings.warn(\n",
      "C:\\Users\\user\\anaconda3\\lib\\site-packages\\sklearn\\linear_model\\_sag.py:350: ConvergenceWarning: The max_iter was reached which means the coef_ did not converge\n",
      "  warnings.warn(\n",
      "C:\\Users\\user\\anaconda3\\lib\\site-packages\\sklearn\\linear_model\\_sag.py:350: ConvergenceWarning: The max_iter was reached which means the coef_ did not converge\n",
      "  warnings.warn(\n",
      "C:\\Users\\user\\anaconda3\\lib\\site-packages\\sklearn\\linear_model\\_sag.py:350: ConvergenceWarning: The max_iter was reached which means the coef_ did not converge\n",
      "  warnings.warn(\n",
      "C:\\Users\\user\\anaconda3\\lib\\site-packages\\sklearn\\linear_model\\_sag.py:350: ConvergenceWarning: The max_iter was reached which means the coef_ did not converge\n",
      "  warnings.warn(\n",
      "C:\\Users\\user\\anaconda3\\lib\\site-packages\\sklearn\\linear_model\\_sag.py:350: ConvergenceWarning: The max_iter was reached which means the coef_ did not converge\n",
      "  warnings.warn(\n",
      "C:\\Users\\user\\anaconda3\\lib\\site-packages\\sklearn\\linear_model\\_sag.py:350: ConvergenceWarning: The max_iter was reached which means the coef_ did not converge\n",
      "  warnings.warn(\n",
      "C:\\Users\\user\\anaconda3\\lib\\site-packages\\sklearn\\linear_model\\_sag.py:350: ConvergenceWarning: The max_iter was reached which means the coef_ did not converge\n",
      "  warnings.warn(\n",
      "C:\\Users\\user\\anaconda3\\lib\\site-packages\\sklearn\\linear_model\\_sag.py:350: ConvergenceWarning: The max_iter was reached which means the coef_ did not converge\n",
      "  warnings.warn(\n",
      "C:\\Users\\user\\anaconda3\\lib\\site-packages\\sklearn\\linear_model\\_sag.py:350: ConvergenceWarning: The max_iter was reached which means the coef_ did not converge\n",
      "  warnings.warn(\n",
      "C:\\Users\\user\\anaconda3\\lib\\site-packages\\sklearn\\linear_model\\_sag.py:350: ConvergenceWarning: The max_iter was reached which means the coef_ did not converge\n",
      "  warnings.warn(\n",
      "C:\\Users\\user\\anaconda3\\lib\\site-packages\\sklearn\\linear_model\\_sag.py:350: ConvergenceWarning: The max_iter was reached which means the coef_ did not converge\n",
      "  warnings.warn(\n",
      "C:\\Users\\user\\anaconda3\\lib\\site-packages\\sklearn\\linear_model\\_sag.py:350: ConvergenceWarning: The max_iter was reached which means the coef_ did not converge\n",
      "  warnings.warn(\n",
      "C:\\Users\\user\\anaconda3\\lib\\site-packages\\sklearn\\linear_model\\_sag.py:350: ConvergenceWarning: The max_iter was reached which means the coef_ did not converge\n",
      "  warnings.warn(\n",
      "C:\\Users\\user\\anaconda3\\lib\\site-packages\\sklearn\\linear_model\\_sag.py:350: ConvergenceWarning: The max_iter was reached which means the coef_ did not converge\n",
      "  warnings.warn(\n",
      "C:\\Users\\user\\anaconda3\\lib\\site-packages\\sklearn\\linear_model\\_sag.py:350: ConvergenceWarning: The max_iter was reached which means the coef_ did not converge\n",
      "  warnings.warn(\n",
      "C:\\Users\\user\\anaconda3\\lib\\site-packages\\sklearn\\linear_model\\_sag.py:350: ConvergenceWarning: The max_iter was reached which means the coef_ did not converge\n",
      "  warnings.warn(\n",
      "C:\\Users\\user\\anaconda3\\lib\\site-packages\\sklearn\\linear_model\\_sag.py:350: ConvergenceWarning: The max_iter was reached which means the coef_ did not converge\n",
      "  warnings.warn(\n",
      "C:\\Users\\user\\anaconda3\\lib\\site-packages\\sklearn\\linear_model\\_sag.py:350: ConvergenceWarning: The max_iter was reached which means the coef_ did not converge\n",
      "  warnings.warn(\n",
      "C:\\Users\\user\\anaconda3\\lib\\site-packages\\sklearn\\linear_model\\_sag.py:350: ConvergenceWarning: The max_iter was reached which means the coef_ did not converge\n",
      "  warnings.warn(\n",
      "C:\\Users\\user\\anaconda3\\lib\\site-packages\\sklearn\\linear_model\\_sag.py:350: ConvergenceWarning: The max_iter was reached which means the coef_ did not converge\n",
      "  warnings.warn(\n",
      "C:\\Users\\user\\anaconda3\\lib\\site-packages\\sklearn\\linear_model\\_sag.py:350: ConvergenceWarning: The max_iter was reached which means the coef_ did not converge\n",
      "  warnings.warn(\n",
      "C:\\Users\\user\\anaconda3\\lib\\site-packages\\sklearn\\linear_model\\_sag.py:350: ConvergenceWarning: The max_iter was reached which means the coef_ did not converge\n",
      "  warnings.warn(\n",
      "C:\\Users\\user\\anaconda3\\lib\\site-packages\\sklearn\\linear_model\\_sag.py:350: ConvergenceWarning: The max_iter was reached which means the coef_ did not converge\n",
      "  warnings.warn(\n",
      "C:\\Users\\user\\anaconda3\\lib\\site-packages\\sklearn\\linear_model\\_sag.py:350: ConvergenceWarning: The max_iter was reached which means the coef_ did not converge\n",
      "  warnings.warn(\n",
      "C:\\Users\\user\\anaconda3\\lib\\site-packages\\sklearn\\linear_model\\_sag.py:350: ConvergenceWarning: The max_iter was reached which means the coef_ did not converge\n",
      "  warnings.warn(\n"
     ]
    },
    {
     "data": {
      "text/plain": "{'C': 0.505, 'penalty': 'l2', 'solver': 'saga'}"
     },
     "execution_count": 73,
     "metadata": {},
     "output_type": "execute_result"
    }
   ],
   "source": [
    "from sklearn.linear_model import LogisticRegression\n",
    "\n",
    "# Define the range of values for each hyperparameter\n",
    "C = np.linspace(0.01, 1, 15)\n",
    "PENALTY = ['l1', 'l2']\n",
    "SOLVER = ['liblinear', 'saga']\n",
    "\n",
    "PARAM_GRID  = {\n",
    "    'C': C,\n",
    "    'penalty': PENALTY,\n",
    "    'solver': SOLVER\n",
    "}\n",
    "\n",
    "# Create the logistic regression estimator\n",
    "estimator = LogisticRegression(random_state=420)\n",
    "\n",
    "# Use grid search and cross-validation to tune the hyper parameters\n",
    "model_searcher = GridSearchCV(estimator, PARAM_GRID, verbose=0)\n",
    "model_searcher.fit(X_train_preprocessed, y_train)\n",
    "\n",
    "# The best combination of hyperparameters\n",
    "model_searcher.best_params_"
   ],
   "metadata": {
    "collapsed": false,
    "ExecuteTime": {
     "end_time": "2023-06-11T12:17:03.862520600Z",
     "start_time": "2023-06-11T12:16:42.328194700Z"
    }
   }
  },
  {
   "cell_type": "code",
   "execution_count": 74,
   "outputs": [
    {
     "name": "stdout",
     "output_type": "stream",
     "text": [
      "Logistic Regression (test data)\n",
      "Accuracy: 0.55\n",
      "Precision: 0.75\n",
      "Recall: 0.59\n",
      "F1-score: 0.66\n",
      "ROC-AUC score: 0.52\n"
     ]
    },
    {
     "data": {
      "text/plain": "<Figure size 576x576 with 2 Axes>",
      "image/png": "[encoded data removed]"
     },
     "metadata": {},
     "output_type": "display_data"
    }
   ],
   "source": [
    "# Get the best estimator\n",
    "log_reg_best_estimator = model_searcher.best_estimator_\n",
    "y_test_pred = log_reg_best_estimator.predict(X_test_preprocessed)\n",
    "\n",
    "evaluate_model(\"Logistic Regression (test data)\", y_test, y_test_pred)"
   ],
   "metadata": {
    "collapsed": false,
    "ExecuteTime": {
     "end_time": "2023-06-11T12:17:04.004657Z",
     "start_time": "2023-06-11T12:17:03.866511200Z"
    }
   }
  },
  {
   "cell_type": "markdown",
   "source": [
    "Gradient Boosting model"
   ],
   "metadata": {
    "collapsed": false
   }
  },
  {
   "cell_type": "code",
   "execution_count": 75,
   "outputs": [
    {
     "data": {
      "text/plain": "{'learning_rate': 0.11888888888888888, 'max_depth': 4, 'n_estimators': 175}"
     },
     "execution_count": 75,
     "metadata": {},
     "output_type": "execute_result"
    }
   ],
   "source": [
    "from sklearn.ensemble import GradientBoostingClassifier\n",
    "\n",
    "# Define the range of values for each hyperparameter\n",
    "LEARNING_RATE = np.linspace(0.01, 0.5, 10)\n",
    "MAX_DEPTH = range(2, 5)\n",
    "N_ESTIMATORS = range(100, 180, 15)\n",
    "\n",
    "\n",
    "PARAM_GRID  = {\n",
    "    'learning_rate': LEARNING_RATE,\n",
    "    'max_depth': MAX_DEPTH,\n",
    "    'n_estimators': N_ESTIMATORS\n",
    "}\n",
    "\n",
    "# Create the gradient boosting estimator\n",
    "estimator = GradientBoostingClassifier(random_state=420)\n",
    "\n",
    "# Use grid search and cross-validation to tune the hyper parameters\n",
    "model_searcher = GridSearchCV(estimator, PARAM_GRID, verbose=0)\n",
    "model_searcher.fit(X_train_preprocessed, y_train)\n",
    "\n",
    "# The best combination of hyperparameters\n",
    "model_searcher.best_params_"
   ],
   "metadata": {
    "collapsed": false,
    "ExecuteTime": {
     "end_time": "2023-06-11T12:43:19.538100400Z",
     "start_time": "2023-06-11T12:17:04.004657Z"
    }
   }
  },
  {
   "cell_type": "code",
   "execution_count": 76,
   "outputs": [
    {
     "name": "stdout",
     "output_type": "stream",
     "text": [
      "Gradient Boosting (test data)\n",
      "Accuracy: 0.68\n",
      "Precision: 0.73\n",
      "Recall: 0.88\n",
      "F1-score: 0.8\n",
      "ROC-AUC score: 0.48\n"
     ]
    },
    {
     "data": {
      "text/plain": "<Figure size 576x576 with 2 Axes>",
      "image/png": "[encoded data removed]"
     },
     "metadata": {},
     "output_type": "display_data"
    }
   ],
   "source": [
    "# Get the best estimator\n",
    "gb_best_estimator = model_searcher.best_estimator_\n",
    "y_test_pred = gb_best_estimator.predict(X_test_preprocessed)\n",
    "\n",
    "evaluate_model(\"Gradient Boosting (test data)\", y_test, y_test_pred)"
   ],
   "metadata": {
    "collapsed": false,
    "ExecuteTime": {
     "end_time": "2023-06-11T12:43:19.649348100Z",
     "start_time": "2023-06-11T12:43:19.541092900Z"
    }
   }
  },
  {
   "cell_type": "markdown",
   "source": [
    "Random Forest model"
   ],
   "metadata": {
    "collapsed": false
   }
  },
  {
   "cell_type": "code",
   "execution_count": 77,
   "outputs": [
    {
     "data": {
      "text/plain": "{'max_depth': 4,\n 'min_samples_leaf': 1,\n 'min_samples_split': 2,\n 'n_estimators': 125}"
     },
     "execution_count": 77,
     "metadata": {},
     "output_type": "execute_result"
    }
   ],
   "source": [
    "from sklearn.ensemble import RandomForestClassifier\n",
    "\n",
    "# Define the range of values for each hyperparameter\n",
    "N_ESTIMATORS = range(50, 140, 15)\n",
    "MAX_DEPTH = range(2, 5)\n",
    "MIN_SAMPLES_SPLIT = range(2, 4)\n",
    "MIN_SAMPLES_LEAF = range(1, 4)\n",
    "\n",
    "PARAM_GRID  = {\n",
    "    'n_estimators': N_ESTIMATORS,\n",
    "    'max_depth': MAX_DEPTH,\n",
    "    'min_samples_split': MIN_SAMPLES_SPLIT,\n",
    "    'min_samples_leaf': MIN_SAMPLES_LEAF\n",
    "}\n",
    "\n",
    "# Create the random forest estimator\n",
    "estimator = RandomForestClassifier(random_state=420)\n",
    "\n",
    "# Use grid search and cross-validation to tune the hyper parameters\n",
    "model_searcher = GridSearchCV(estimator, PARAM_GRID, verbose=0)\n",
    "model_searcher.fit(X_train_preprocessed, y_train)\n",
    "\n",
    "# The best combination of hyperparameters\n",
    "model_searcher.best_params_"
   ],
   "metadata": {
    "collapsed": false,
    "ExecuteTime": {
     "end_time": "2023-06-11T12:44:38.063061900Z",
     "start_time": "2023-06-11T12:43:19.653340700Z"
    }
   }
  },
  {
   "cell_type": "code",
   "execution_count": 78,
   "outputs": [
    {
     "name": "stdout",
     "output_type": "stream",
     "text": [
      "Random Forest (test data)\n",
      "Accuracy: 0.53\n",
      "Precision: 0.69\n",
      "Recall: 0.67\n",
      "F1-score: 0.68\n",
      "ROC-AUC score: 0.41\n"
     ]
    },
    {
     "data": {
      "text/plain": "<Figure size 576x576 with 2 Axes>",
      "image/png": "[encoded data removed]"
     },
     "metadata": {},
     "output_type": "display_data"
    }
   ],
   "source": [
    "rf_best_estimator = model_searcher.best_estimator_\n",
    "y_test_pred = rf_best_estimator.predict(X_test_preprocessed)\n",
    "\n",
    "evaluate_model(\"Random Forest (test data)\", y_test, y_test_pred)"
   ],
   "metadata": {
    "collapsed": false,
    "ExecuteTime": {
     "end_time": "2023-06-11T12:44:38.170399400Z",
     "start_time": "2023-06-11T12:44:38.065057Z"
    }
   }
  },
  {
   "cell_type": "markdown",
   "source": [
    "XGBoost model"
   ],
   "metadata": {
    "collapsed": false
   }
  },
  {
   "cell_type": "code",
   "execution_count": 79,
   "outputs": [
    {
     "data": {
      "text/plain": "{'learning_rate': 0.3, 'max_depth': 4, 'n_estimators': 100}"
     },
     "execution_count": 79,
     "metadata": {},
     "output_type": "execute_result"
    }
   ],
   "source": [
    "from xgboost import XGBClassifier\n",
    "\n",
    "# Define the range of values for each hyperparameter\n",
    "LEARNING_RATE = np.linspace(0.05, 0.5, 10)\n",
    "MAX_DEPTH = range(1, 5)\n",
    "N_ESTIMATORS = range(70, 150, 15)\n",
    "\n",
    "PARAM_GRID  = {\n",
    "    'learning_rate': LEARNING_RATE,\n",
    "    'max_depth': MAX_DEPTH,\n",
    "    'n_estimators': N_ESTIMATORS\n",
    "}\n",
    "\n",
    "# Create the XGBoost estimator\n",
    "estimator = XGBClassifier(random_state=420)\n",
    "\n",
    "# Use grid search and cross-validation to tune the hyper parameters\n",
    "model_searcher = GridSearchCV(estimator, PARAM_GRID, verbose=0)\n",
    "model_searcher.fit(X_train_preprocessed, y_train)\n",
    "\n",
    "# The best combination of hyperparameters\n",
    "model_searcher.best_params_"
   ],
   "metadata": {
    "collapsed": false,
    "ExecuteTime": {
     "end_time": "2023-06-11T12:47:18.667077100Z",
     "start_time": "2023-06-11T12:44:38.175385600Z"
    }
   }
  },
  {
   "cell_type": "markdown",
   "source": [
    "Evaluate the best model on the test data"
   ],
   "metadata": {
    "collapsed": false
   }
  },
  {
   "cell_type": "code",
   "execution_count": 80,
   "outputs": [
    {
     "name": "stdout",
     "output_type": "stream",
     "text": [
      "XGBoost (test data)\n",
      "Accuracy: 0.64\n",
      "Precision: 0.72\n",
      "Recall: 0.85\n",
      "F1-score: 0.78\n",
      "ROC-AUC score: 0.44\n"
     ]
    },
    {
     "data": {
      "text/plain": "<Figure size 576x576 with 2 Axes>",
      "image/png": "[encoded data removed]"
     },
     "metadata": {},
     "output_type": "display_data"
    }
   ],
   "source": [
    "xgb_best_estimator = model_searcher.best_estimator_\n",
    "y_test_pred = xgb_best_estimator.predict(X_test_preprocessed)\n",
    "\n",
    "evaluate_model(\"XGBoost (test data)\", y_test, y_test_pred)"
   ],
   "metadata": {
    "collapsed": false,
    "ExecuteTime": {
     "end_time": "2023-06-11T12:47:18.835144400Z",
     "start_time": "2023-06-11T12:47:18.667077100Z"
    }
   }
  },
  {
   "cell_type": "markdown",
   "source": [
    "TabNetClassifier with automatic hyperparameters tuning"
   ],
   "metadata": {
    "collapsed": false
   }
  },
  {
   "cell_type": "code",
   "execution_count": 81,
   "outputs": [
    {
     "name": "stdout",
     "output_type": "stream",
     "text": [
      "Requirement already satisfied: pytorch-tabnet in c:\\users\\user\\anaconda3\\lib\\site-packages (4.0)\n",
      "Requirement already satisfied: scipy>1.4 in c:\\users\\user\\appdata\\roaming\\python\\python39\\site-packages (from pytorch-tabnet) (1.10.1)\n",
      "Requirement already satisfied: numpy<2.0,>=1.17 in c:\\users\\user\\anaconda3\\lib\\site-packages (from pytorch-tabnet) (1.20.3)\n",
      "Requirement already satisfied: torch<2.0,>=1.2 in c:\\users\\user\\anaconda3\\lib\\site-packages (from pytorch-tabnet) (1.13.1)\n",
      "Requirement already satisfied: scikit_learn>0.21 in c:\\users\\user\\anaconda3\\lib\\site-packages (from pytorch-tabnet) (1.2.2)\n",
      "Requirement already satisfied: tqdm<5.0,>=4.36 in c:\\users\\user\\anaconda3\\lib\\site-packages (from pytorch-tabnet) (4.62.3)\n",
      "Requirement already satisfied: threadpoolctl>=2.0.0 in c:\\users\\user\\anaconda3\\lib\\site-packages (from scikit_learn>0.21->pytorch-tabnet) (2.2.0)\n",
      "Requirement already satisfied: joblib>=1.1.1 in c:\\users\\user\\anaconda3\\lib\\site-packages (from scikit_learn>0.21->pytorch-tabnet) (1.2.0)\n",
      "Requirement already satisfied: typing-extensions in c:\\users\\user\\anaconda3\\lib\\site-packages (from torch<2.0,>=1.2->pytorch-tabnet) (4.4.0)\n",
      "Requirement already satisfied: colorama in c:\\users\\user\\anaconda3\\lib\\site-packages (from tqdm<5.0,>=4.36->pytorch-tabnet) (0.4.4)\n",
      "Requirement already satisfied: optuna in c:\\users\\user\\anaconda3\\lib\\site-packages (3.1.1)\n",
      "Requirement already satisfied: packaging>=20.0 in c:\\users\\user\\anaconda3\\lib\\site-packages (from optuna) (23.0)\n",
      "Requirement already satisfied: sqlalchemy>=1.3.0 in c:\\users\\user\\anaconda3\\lib\\site-packages (from optuna) (1.4.22)\n",
      "Requirement already satisfied: alembic>=1.5.0 in c:\\users\\user\\anaconda3\\lib\\site-packages (from optuna) (1.10.3)\n",
      "Requirement already satisfied: colorlog in c:\\users\\user\\anaconda3\\lib\\site-packages (from optuna) (6.7.0)\n",
      "Requirement already satisfied: PyYAML in c:\\users\\user\\anaconda3\\lib\\site-packages (from optuna) (6.0)\n",
      "Requirement already satisfied: cmaes>=0.9.1 in c:\\users\\user\\anaconda3\\lib\\site-packages (from optuna) (0.9.1)\n",
      "Requirement already satisfied: numpy in c:\\users\\user\\anaconda3\\lib\\site-packages (from optuna) (1.20.3)\n",
      "Requirement already satisfied: tqdm in c:\\users\\user\\anaconda3\\lib\\site-packages (from optuna) (4.62.3)\n",
      "Requirement already satisfied: typing-extensions>=4 in c:\\users\\user\\anaconda3\\lib\\site-packages (from alembic>=1.5.0->optuna) (4.4.0)\n",
      "Requirement already satisfied: Mako in c:\\users\\user\\anaconda3\\lib\\site-packages (from alembic>=1.5.0->optuna) (1.2.4)\n",
      "Requirement already satisfied: greenlet!=0.4.17 in c:\\users\\user\\anaconda3\\lib\\site-packages (from sqlalchemy>=1.3.0->optuna) (1.1.1)\n",
      "Requirement already satisfied: colorama in c:\\users\\user\\anaconda3\\lib\\site-packages (from colorlog->optuna) (0.4.4)\n",
      "Requirement already satisfied: MarkupSafe>=0.9.2 in c:\\users\\user\\anaconda3\\lib\\site-packages (from Mako->alembic>=1.5.0->optuna) (1.1.1)\n"
     ]
    }
   ],
   "source": [
    "!pip install pytorch-tabnet\n",
    "!pip install optuna"
   ],
   "metadata": {
    "collapsed": false,
    "ExecuteTime": {
     "end_time": "2023-06-11T12:47:23.897336200Z",
     "start_time": "2023-06-11T12:47:18.837140900Z"
    }
   }
  },
  {
   "cell_type": "code",
   "execution_count": 82,
   "outputs": [],
   "source": [
    "# Convert Pandas DataFrame to NumPy array\n",
    "X_train_np = X_train_preprocessed.values\n",
    "X_test_np = X_test_preprocessed.values"
   ],
   "metadata": {
    "collapsed": false,
    "ExecuteTime": {
     "end_time": "2023-06-11T12:47:23.922274800Z",
     "start_time": "2023-06-11T12:47:23.899370100Z"
    }
   }
  },
  {
   "cell_type": "code",
   "execution_count": 83,
   "outputs": [
    {
     "name": "stderr",
     "output_type": "stream",
     "text": [
      "\u001B[32m[I 2023-06-11 15:47:23,916]\u001B[0m A new study created in memory with name: no-name-99c977d7-54a9-4e8c-89f5-81b437e46f99\u001B[0m\n"
     ]
    },
    {
     "name": "stdout",
     "output_type": "stream",
     "text": [
      "\n",
      "Early stopping occurred at epoch 10 with best_epoch = 0 and best_val_0_auc = 0.49573\n"
     ]
    },
    {
     "name": "stderr",
     "output_type": "stream",
     "text": [
      "C:\\Users\\user\\anaconda3\\lib\\site-packages\\pytorch_tabnet\\callbacks.py:172: UserWarning: Best weights from best epoch are automatically used!\n",
      "  warnings.warn(wrn_msg)\n",
      "\u001B[32m[I 2023-06-11 15:47:25,726]\u001B[0m Trial 0 finished with value: 0.49572649572649574 and parameters: {'n_d': 35, 'n_a': 19, 'n_steps': 12, 'gamma': 0.8660743742398707, 'n_independent': 6, 'n_shared': 10, 'lambda_sparse': 0.07921628192826567}. Best is trial 0 with value: 0.49572649572649574.\u001B[0m\n"
     ]
    },
    {
     "name": "stdout",
     "output_type": "stream",
     "text": [
      "\n",
      "Early stopping occurred at epoch 10 with best_epoch = 0 and best_val_0_auc = 0.50119\n"
     ]
    },
    {
     "name": "stderr",
     "output_type": "stream",
     "text": [
      "C:\\Users\\user\\anaconda3\\lib\\site-packages\\pytorch_tabnet\\callbacks.py:172: UserWarning: Best weights from best epoch are automatically used!\n",
      "  warnings.warn(wrn_msg)\n",
      "\u001B[32m[I 2023-06-11 15:47:28,107]\u001B[0m Trial 1 finished with value: 0.5011870845204179 and parameters: {'n_d': 51, 'n_a': 34, 'n_steps': 15, 'gamma': 0.38811153443441704, 'n_independent': 8, 'n_shared': 7, 'lambda_sparse': 0.08834441382072497}. Best is trial 1 with value: 0.5011870845204179.\u001B[0m\n"
     ]
    },
    {
     "name": "stdout",
     "output_type": "stream",
     "text": [
      "\n",
      "Early stopping occurred at epoch 10 with best_epoch = 0 and best_val_0_auc = 0.51971\n"
     ]
    },
    {
     "name": "stderr",
     "output_type": "stream",
     "text": [
      "C:\\Users\\user\\anaconda3\\lib\\site-packages\\pytorch_tabnet\\callbacks.py:172: UserWarning: Best weights from best epoch are automatically used!\n",
      "  warnings.warn(wrn_msg)\n",
      "\u001B[32m[I 2023-06-11 15:47:29,985]\u001B[0m Trial 2 finished with value: 0.5197056030389363 and parameters: {'n_d': 60, 'n_a': 42, 'n_steps': 19, 'gamma': 1.9799203969615644, 'n_independent': 1, 'n_shared': 8, 'lambda_sparse': 0.009653100274016793}. Best is trial 2 with value: 0.5197056030389363.\u001B[0m\n"
     ]
    },
    {
     "name": "stdout",
     "output_type": "stream",
     "text": [
      "\n",
      "Early stopping occurred at epoch 10 with best_epoch = 0 and best_val_0_auc = 0.56268\n"
     ]
    },
    {
     "name": "stderr",
     "output_type": "stream",
     "text": [
      "C:\\Users\\user\\anaconda3\\lib\\site-packages\\pytorch_tabnet\\callbacks.py:172: UserWarning: Best weights from best epoch are automatically used!\n",
      "  warnings.warn(wrn_msg)\n",
      "\u001B[32m[I 2023-06-11 15:47:31,191]\u001B[0m Trial 3 finished with value: 0.5626780626780626 and parameters: {'n_d': 10, 'n_a': 47, 'n_steps': 8, 'gamma': 0.2586656188527093, 'n_independent': 10, 'n_shared': 6, 'lambda_sparse': 0.07866854836425141}. Best is trial 3 with value: 0.5626780626780626.\u001B[0m\n"
     ]
    },
    {
     "name": "stdout",
     "output_type": "stream",
     "text": [
      "\n",
      "Early stopping occurred at epoch 10 with best_epoch = 0 and best_val_0_auc = 0.5\n"
     ]
    },
    {
     "name": "stderr",
     "output_type": "stream",
     "text": [
      "C:\\Users\\user\\anaconda3\\lib\\site-packages\\pytorch_tabnet\\callbacks.py:172: UserWarning: Best weights from best epoch are automatically used!\n",
      "  warnings.warn(wrn_msg)\n",
      "\u001B[32m[I 2023-06-11 15:47:33,403]\u001B[0m Trial 4 finished with value: 0.5 and parameters: {'n_d': 34, 'n_a': 56, 'n_steps': 16, 'gamma': 1.0683835921002693, 'n_independent': 4, 'n_shared': 8, 'lambda_sparse': 0.07047495358957456}. Best is trial 3 with value: 0.5626780626780626.\u001B[0m\n"
     ]
    },
    {
     "name": "stdout",
     "output_type": "stream",
     "text": [
      "\n",
      "Early stopping occurred at epoch 10 with best_epoch = 0 and best_val_0_auc = 0.46083\n"
     ]
    },
    {
     "name": "stderr",
     "output_type": "stream",
     "text": [
      "C:\\Users\\user\\anaconda3\\lib\\site-packages\\pytorch_tabnet\\callbacks.py:172: UserWarning: Best weights from best epoch are automatically used!\n",
      "  warnings.warn(wrn_msg)\n",
      "\u001B[32m[I 2023-06-11 15:47:35,250]\u001B[0m Trial 5 finished with value: 0.46082621082621084 and parameters: {'n_d': 42, 'n_a': 37, 'n_steps': 14, 'gamma': 1.5991335170031966, 'n_independent': 7, 'n_shared': 6, 'lambda_sparse': 0.0039745992681528355}. Best is trial 3 with value: 0.5626780626780626.\u001B[0m\n"
     ]
    },
    {
     "name": "stdout",
     "output_type": "stream",
     "text": [
      "\n",
      "Early stopping occurred at epoch 10 with best_epoch = 0 and best_val_0_auc = 0.42165\n"
     ]
    },
    {
     "name": "stderr",
     "output_type": "stream",
     "text": [
      "C:\\Users\\user\\anaconda3\\lib\\site-packages\\pytorch_tabnet\\callbacks.py:172: UserWarning: Best weights from best epoch are automatically used!\n",
      "  warnings.warn(wrn_msg)\n",
      "\u001B[32m[I 2023-06-11 15:47:37,667]\u001B[0m Trial 6 finished with value: 0.42165242165242167 and parameters: {'n_d': 52, 'n_a': 40, 'n_steps': 18, 'gamma': 0.48331844616282127, 'n_independent': 3, 'n_shared': 10, 'lambda_sparse': 0.010384037086846714}. Best is trial 3 with value: 0.5626780626780626.\u001B[0m\n"
     ]
    },
    {
     "name": "stdout",
     "output_type": "stream",
     "text": [
      "\n",
      "Early stopping occurred at epoch 10 with best_epoch = 0 and best_val_0_auc = 0.52137\n"
     ]
    },
    {
     "name": "stderr",
     "output_type": "stream",
     "text": [
      "C:\\Users\\user\\anaconda3\\lib\\site-packages\\pytorch_tabnet\\callbacks.py:172: UserWarning: Best weights from best epoch are automatically used!\n",
      "  warnings.warn(wrn_msg)\n",
      "\u001B[32m[I 2023-06-11 15:47:39,775]\u001B[0m Trial 7 finished with value: 0.5213675213675213 and parameters: {'n_d': 57, 'n_a': 18, 'n_steps': 15, 'gamma': 1.9635563765798008, 'n_independent': 9, 'n_shared': 5, 'lambda_sparse': 0.00040252628800094606}. Best is trial 3 with value: 0.5626780626780626.\u001B[0m\n",
      "C:\\Users\\user\\anaconda3\\lib\\site-packages\\pytorch_tabnet\\callbacks.py:172: UserWarning: Best weights from best epoch are automatically used!\n",
      "  warnings.warn(wrn_msg)\n",
      "\u001B[32m[I 2023-06-11 15:47:40,214]\u001B[0m Trial 8 finished with value: 0.5094966761633428 and parameters: {'n_d': 42, 'n_a': 16, 'n_steps': 4, 'gamma': 1.382400061500249, 'n_independent': 1, 'n_shared': 10, 'lambda_sparse': 0.078013171159396}. Best is trial 3 with value: 0.5626780626780626.\u001B[0m\n"
     ]
    },
    {
     "name": "stdout",
     "output_type": "stream",
     "text": [
      "\n",
      "Early stopping occurred at epoch 10 with best_epoch = 0 and best_val_0_auc = 0.5095\n",
      "\n",
      "Early stopping occurred at epoch 10 with best_epoch = 0 and best_val_0_auc = 0.45157\n"
     ]
    },
    {
     "name": "stderr",
     "output_type": "stream",
     "text": [
      "C:\\Users\\user\\anaconda3\\lib\\site-packages\\pytorch_tabnet\\callbacks.py:172: UserWarning: Best weights from best epoch are automatically used!\n",
      "  warnings.warn(wrn_msg)\n",
      "\u001B[32m[I 2023-06-11 15:47:42,548]\u001B[0m Trial 9 finished with value: 0.4515669515669516 and parameters: {'n_d': 34, 'n_a': 16, 'n_steps': 16, 'gamma': 1.477698298601129, 'n_independent': 9, 'n_shared': 8, 'lambda_sparse': 0.030449708798407193}. Best is trial 3 with value: 0.5626780626780626.\u001B[0m\n",
      "C:\\Users\\user\\anaconda3\\lib\\site-packages\\pytorch_tabnet\\callbacks.py:172: UserWarning: Best weights from best epoch are automatically used!\n",
      "  warnings.warn(wrn_msg)\n",
      "\u001B[32m[I 2023-06-11 15:47:43,318]\u001B[0m Trial 10 finished with value: 0.4589268755935422 and parameters: {'n_d': 8, 'n_a': 62, 'n_steps': 7, 'gamma': 0.32973425791779487, 'n_independent': 10, 'n_shared': 1, 'lambda_sparse': 0.09964614599997443}. Best is trial 3 with value: 0.5626780626780626.\u001B[0m\n"
     ]
    },
    {
     "name": "stdout",
     "output_type": "stream",
     "text": [
      "\n",
      "Early stopping occurred at epoch 10 with best_epoch = 0 and best_val_0_auc = 0.45893\n"
     ]
    },
    {
     "name": "stderr",
     "output_type": "stream",
     "text": [
      "C:\\Users\\user\\anaconda3\\lib\\site-packages\\pytorch_tabnet\\callbacks.py:172: UserWarning: Best weights from best epoch are automatically used!\n",
      "  warnings.warn(wrn_msg)\n",
      "\u001B[32m[I 2023-06-11 15:47:44,136]\u001B[0m Trial 11 finished with value: 0.5 and parameters: {'n_d': 8, 'n_a': 27, 'n_steps': 8, 'gamma': 0.7327886792211717, 'n_independent': 10, 'n_shared': 4, 'lambda_sparse': 0.053673247381648706}. Best is trial 3 with value: 0.5626780626780626.\u001B[0m\n"
     ]
    },
    {
     "name": "stdout",
     "output_type": "stream",
     "text": [
      "\n",
      "Early stopping occurred at epoch 10 with best_epoch = 0 and best_val_0_auc = 0.5\n",
      "\n",
      "Early stopping occurred at epoch 10 with best_epoch = 0 and best_val_0_auc = 0.50641\n"
     ]
    },
    {
     "name": "stderr",
     "output_type": "stream",
     "text": [
      "C:\\Users\\user\\anaconda3\\lib\\site-packages\\pytorch_tabnet\\callbacks.py:172: UserWarning: Best weights from best epoch are automatically used!\n",
      "  warnings.warn(wrn_msg)\n",
      "\u001B[32m[I 2023-06-11 15:47:45,273]\u001B[0m Trial 12 finished with value: 0.5064102564102565 and parameters: {'n_d': 21, 'n_a': 49, 'n_steps': 10, 'gamma': 0.11853551481380678, 'n_independent': 8, 'n_shared': 4, 'lambda_sparse': 0.05240420881175596}. Best is trial 3 with value: 0.5626780626780626.\u001B[0m\n",
      "C:\\Users\\user\\anaconda3\\lib\\site-packages\\pytorch_tabnet\\callbacks.py:172: UserWarning: Best weights from best epoch are automatically used!\n",
      "  warnings.warn(wrn_msg)\n",
      "\u001B[32m[I 2023-06-11 15:47:45,586]\u001B[0m Trial 13 finished with value: 0.5724121557454891 and parameters: {'n_d': 21, 'n_a': 9, 'n_steps': 2, 'gamma': 1.1508929457380626, 'n_independent': 10, 'n_shared': 4, 'lambda_sparse': 0.028710678872411834}. Best is trial 13 with value: 0.5724121557454891.\u001B[0m\n"
     ]
    },
    {
     "name": "stdout",
     "output_type": "stream",
     "text": [
      "\n",
      "Early stopping occurred at epoch 10 with best_epoch = 0 and best_val_0_auc = 0.57241\n"
     ]
    },
    {
     "name": "stderr",
     "output_type": "stream",
     "text": [
      "C:\\Users\\user\\anaconda3\\lib\\site-packages\\pytorch_tabnet\\callbacks.py:172: UserWarning: Best weights from best epoch are automatically used!\n",
      "  warnings.warn(wrn_msg)\n",
      "\u001B[32m[I 2023-06-11 15:47:45,735]\u001B[0m Trial 14 finished with value: 0.44990503323836656 and parameters: {'n_d': 20, 'n_a': 9, 'n_steps': 1, 'gamma': 1.0219028001223849, 'n_independent': 6, 'n_shared': 2, 'lambda_sparse': 0.03432697873626183}. Best is trial 13 with value: 0.5724121557454891.\u001B[0m\n"
     ]
    },
    {
     "name": "stdout",
     "output_type": "stream",
     "text": [
      "\n",
      "Early stopping occurred at epoch 10 with best_epoch = 0 and best_val_0_auc = 0.44991\n"
     ]
    },
    {
     "name": "stderr",
     "output_type": "stream",
     "text": [
      "C:\\Users\\user\\anaconda3\\lib\\site-packages\\pytorch_tabnet\\callbacks.py:172: UserWarning: Best weights from best epoch are automatically used!\n",
      "  warnings.warn(wrn_msg)\n",
      "\u001B[32m[I 2023-06-11 15:47:46,015]\u001B[0m Trial 15 finished with value: 0.3803418803418803 and parameters: {'n_d': 17, 'n_a': 52, 'n_steps': 1, 'gamma': 0.619708744583284, 'n_independent': 10, 'n_shared': 3, 'lambda_sparse': 0.06253903970653547}. Best is trial 13 with value: 0.5724121557454891.\u001B[0m\n"
     ]
    },
    {
     "name": "stdout",
     "output_type": "stream",
     "text": [
      "\n",
      "Early stopping occurred at epoch 10 with best_epoch = 0 and best_val_0_auc = 0.38034\n"
     ]
    },
    {
     "name": "stderr",
     "output_type": "stream",
     "text": [
      "C:\\Users\\user\\anaconda3\\lib\\site-packages\\pytorch_tabnet\\callbacks.py:172: UserWarning: Best weights from best epoch are automatically used!\n",
      "  warnings.warn(wrn_msg)\n",
      "\u001B[32m[I 2023-06-11 15:47:46,503]\u001B[0m Trial 16 finished with value: 0.5002374169040835 and parameters: {'n_d': 27, 'n_a': 28, 'n_steps': 5, 'gamma': 1.1787139842198462, 'n_independent': 4, 'n_shared': 6, 'lambda_sparse': 0.04038158822787163}. Best is trial 13 with value: 0.5724121557454891.\u001B[0m\n"
     ]
    },
    {
     "name": "stdout",
     "output_type": "stream",
     "text": [
      "\n",
      "Early stopping occurred at epoch 10 with best_epoch = 0 and best_val_0_auc = 0.50024\n"
     ]
    },
    {
     "name": "stderr",
     "output_type": "stream",
     "text": [
      "C:\\Users\\user\\anaconda3\\lib\\site-packages\\pytorch_tabnet\\callbacks.py:172: UserWarning: Best weights from best epoch are automatically used!\n",
      "  warnings.warn(wrn_msg)\n",
      "\u001B[32m[I 2023-06-11 15:47:47,001]\u001B[0m Trial 17 finished with value: 0.47483380816714144 and parameters: {'n_d': 14, 'n_a': 43, 'n_steps': 4, 'gamma': 0.7738276487923117, 'n_independent': 8, 'n_shared': 4, 'lambda_sparse': 0.023589230780018816}. Best is trial 13 with value: 0.5724121557454891.\u001B[0m\n"
     ]
    },
    {
     "name": "stdout",
     "output_type": "stream",
     "text": [
      "\n",
      "Early stopping occurred at epoch 10 with best_epoch = 0 and best_val_0_auc = 0.47483\n",
      "\n",
      "Early stopping occurred at epoch 10 with best_epoch = 0 and best_val_0_auc = 0.47365\n"
     ]
    },
    {
     "name": "stderr",
     "output_type": "stream",
     "text": [
      "C:\\Users\\user\\anaconda3\\lib\\site-packages\\pytorch_tabnet\\callbacks.py:172: UserWarning: Best weights from best epoch are automatically used!\n",
      "  warnings.warn(wrn_msg)\n",
      "\u001B[32m[I 2023-06-11 15:47:48,568]\u001B[0m Trial 18 finished with value: 0.47364672364672367 and parameters: {'n_d': 25, 'n_a': 64, 'n_steps': 10, 'gamma': 0.2079142930544588, 'n_independent': 9, 'n_shared': 5, 'lambda_sparse': 0.042349263430790256}. Best is trial 13 with value: 0.5724121557454891.\u001B[0m\n",
      "C:\\Users\\user\\anaconda3\\lib\\site-packages\\pytorch_tabnet\\callbacks.py:172: UserWarning: Best weights from best epoch are automatically used!\n",
      "  warnings.warn(wrn_msg)\n",
      "\u001B[32m[I 2023-06-11 15:47:49,043]\u001B[0m Trial 19 finished with value: 0.43637226970560306 and parameters: {'n_d': 13, 'n_a': 8, 'n_steps': 7, 'gamma': 0.5591631640429441, 'n_independent': 7, 'n_shared': 2, 'lambda_sparse': 0.05749269184175249}. Best is trial 13 with value: 0.5724121557454891.\u001B[0m\n"
     ]
    },
    {
     "name": "stdout",
     "output_type": "stream",
     "text": [
      "\n",
      "Early stopping occurred at epoch 10 with best_epoch = 0 and best_val_0_auc = 0.43637\n"
     ]
    },
    {
     "name": "stderr",
     "output_type": "stream",
     "text": [
      "C:\\Users\\user\\anaconda3\\lib\\site-packages\\pytorch_tabnet\\callbacks.py:172: UserWarning: Best weights from best epoch are automatically used!\n",
      "  warnings.warn(wrn_msg)\n",
      "\u001B[32m[I 2023-06-11 15:47:49,459]\u001B[0m Trial 20 finished with value: 0.5486704653371319 and parameters: {'n_d': 27, 'n_a': 29, 'n_steps': 3, 'gamma': 0.2874088870258181, 'n_independent': 5, 'n_shared': 7, 'lambda_sparse': 0.04344999638871807}. Best is trial 13 with value: 0.5724121557454891.\u001B[0m\n"
     ]
    },
    {
     "name": "stdout",
     "output_type": "stream",
     "text": [
      "\n",
      "Early stopping occurred at epoch 10 with best_epoch = 0 and best_val_0_auc = 0.54867\n"
     ]
    },
    {
     "name": "stderr",
     "output_type": "stream",
     "text": [
      "C:\\Users\\user\\anaconda3\\lib\\site-packages\\pytorch_tabnet\\callbacks.py:172: UserWarning: Best weights from best epoch are automatically used!\n",
      "  warnings.warn(wrn_msg)\n",
      "\u001B[32m[I 2023-06-11 15:47:49,857]\u001B[0m Trial 21 finished with value: 0.5144824311490979 and parameters: {'n_d': 27, 'n_a': 29, 'n_steps': 3, 'gamma': 0.2736283284305019, 'n_independent': 5, 'n_shared': 7, 'lambda_sparse': 0.04323969028075437}. Best is trial 13 with value: 0.5724121557454891.\u001B[0m\n"
     ]
    },
    {
     "name": "stdout",
     "output_type": "stream",
     "text": [
      "\n",
      "Early stopping occurred at epoch 10 with best_epoch = 0 and best_val_0_auc = 0.51448\n"
     ]
    },
    {
     "name": "stderr",
     "output_type": "stream",
     "text": [
      "C:\\Users\\user\\anaconda3\\lib\\site-packages\\pytorch_tabnet\\callbacks.py:172: UserWarning: Best weights from best epoch are automatically used!\n",
      "  warnings.warn(wrn_msg)\n",
      "\u001B[32m[I 2023-06-11 15:47:50,269]\u001B[0m Trial 22 finished with value: 0.5007122507122507 and parameters: {'n_d': 24, 'n_a': 23, 'n_steps': 2, 'gamma': 0.13654978075765994, 'n_independent': 3, 'n_shared': 7, 'lambda_sparse': 0.06356647753328307}. Best is trial 13 with value: 0.5724121557454891.\u001B[0m\n"
     ]
    },
    {
     "name": "stdout",
     "output_type": "stream",
     "text": [
      "\n",
      "Early stopping occurred at epoch 10 with best_epoch = 0 and best_val_0_auc = 0.50071\n"
     ]
    },
    {
     "name": "stderr",
     "output_type": "stream",
     "text": [
      "C:\\Users\\user\\anaconda3\\lib\\site-packages\\pytorch_tabnet\\callbacks.py:172: UserWarning: Best weights from best epoch are automatically used!\n",
      "  warnings.warn(wrn_msg)\n",
      "\u001B[32m[I 2023-06-11 15:47:50,927]\u001B[0m Trial 23 finished with value: 0.5263532763532763 and parameters: {'n_d': 30, 'n_a': 47, 'n_steps': 5, 'gamma': 0.4851294346217292, 'n_independent': 5, 'n_shared': 6, 'lambda_sparse': 0.05143344808681914}. Best is trial 13 with value: 0.5724121557454891.\u001B[0m\n"
     ]
    },
    {
     "name": "stdout",
     "output_type": "stream",
     "text": [
      "\n",
      "Early stopping occurred at epoch 10 with best_epoch = 0 and best_val_0_auc = 0.52635\n"
     ]
    },
    {
     "name": "stderr",
     "output_type": "stream",
     "text": [
      "C:\\Users\\user\\anaconda3\\lib\\site-packages\\pytorch_tabnet\\callbacks.py:172: UserWarning: Best weights from best epoch are automatically used!\n",
      "  warnings.warn(wrn_msg)\n",
      "\u001B[32m[I 2023-06-11 15:47:51,606]\u001B[0m Trial 24 finished with value: 0.5097340930674265 and parameters: {'n_d': 15, 'n_a': 33, 'n_steps': 6, 'gamma': 0.3616227946087655, 'n_independent': 7, 'n_shared': 5, 'lambda_sparse': 0.027562656432692588}. Best is trial 13 with value: 0.5724121557454891.\u001B[0m\n"
     ]
    },
    {
     "name": "stdout",
     "output_type": "stream",
     "text": [
      "\n",
      "Early stopping occurred at epoch 10 with best_epoch = 0 and best_val_0_auc = 0.50973\n",
      "\n",
      "Early stopping occurred at epoch 10 with best_epoch = 0 and best_val_0_auc = 0.53704\n"
     ]
    },
    {
     "name": "stderr",
     "output_type": "stream",
     "text": [
      "C:\\Users\\user\\anaconda3\\lib\\site-packages\\pytorch_tabnet\\callbacks.py:172: UserWarning: Best weights from best epoch are automatically used!\n",
      "  warnings.warn(wrn_msg)\n",
      "\u001B[32m[I 2023-06-11 15:47:53,339]\u001B[0m Trial 25 finished with value: 0.537037037037037 and parameters: {'n_d': 19, 'n_a': 55, 'n_steps': 9, 'gamma': 0.10735995356184544, 'n_independent': 9, 'n_shared': 9, 'lambda_sparse': 0.021514805238800623}. Best is trial 13 with value: 0.5724121557454891.\u001B[0m\n",
      "C:\\Users\\user\\anaconda3\\lib\\site-packages\\pytorch_tabnet\\callbacks.py:172: UserWarning: Best weights from best epoch are automatically used!\n",
      "  warnings.warn(wrn_msg)\n",
      "\u001B[32m[I 2023-06-11 15:47:53,965]\u001B[0m Trial 26 finished with value: 0.39316239316239315 and parameters: {'n_d': 12, 'n_a': 13, 'n_steps': 12, 'gamma': 0.6720269608227458, 'n_independent': 3, 'n_shared': 3, 'lambda_sparse': 0.03761830964267045}. Best is trial 13 with value: 0.5724121557454891.\u001B[0m\n"
     ]
    },
    {
     "name": "stdout",
     "output_type": "stream",
     "text": [
      "\n",
      "Early stopping occurred at epoch 10 with best_epoch = 0 and best_val_0_auc = 0.39316\n"
     ]
    },
    {
     "name": "stderr",
     "output_type": "stream",
     "text": [
      "C:\\Users\\user\\anaconda3\\lib\\site-packages\\pytorch_tabnet\\callbacks.py:172: UserWarning: Best weights from best epoch are automatically used!\n",
      "  warnings.warn(wrn_msg)\n",
      "\u001B[32m[I 2023-06-11 15:47:54,535]\u001B[0m Trial 27 finished with value: 0.3675213675213675 and parameters: {'n_d': 30, 'n_a': 23, 'n_steps': 3, 'gamma': 0.4667269082448115, 'n_independent': 10, 'n_shared': 7, 'lambda_sparse': 0.04667399190571851}. Best is trial 13 with value: 0.5724121557454891.\u001B[0m\n"
     ]
    },
    {
     "name": "stdout",
     "output_type": "stream",
     "text": [
      "\n",
      "Early stopping occurred at epoch 10 with best_epoch = 0 and best_val_0_auc = 0.36752\n"
     ]
    },
    {
     "name": "stderr",
     "output_type": "stream",
     "text": [
      "C:\\Users\\user\\anaconda3\\lib\\site-packages\\pytorch_tabnet\\callbacks.py:172: UserWarning: Best weights from best epoch are automatically used!\n",
      "  warnings.warn(wrn_msg)\n",
      "\u001B[32m[I 2023-06-11 15:47:54,888]\u001B[0m Trial 28 finished with value: 0.4703228869895536 and parameters: {'n_d': 42, 'n_a': 47, 'n_steps': 2, 'gamma': 0.2649963867634327, 'n_independent': 4, 'n_shared': 6, 'lambda_sparse': 0.04839516734965639}. Best is trial 13 with value: 0.5724121557454891.\u001B[0m\n"
     ]
    },
    {
     "name": "stdout",
     "output_type": "stream",
     "text": [
      "\n",
      "Early stopping occurred at epoch 10 with best_epoch = 0 and best_val_0_auc = 0.47032\n",
      "\n",
      "Early stopping occurred at epoch 10 with best_epoch = 0 and best_val_0_auc = 0.47721\n"
     ]
    },
    {
     "name": "stderr",
     "output_type": "stream",
     "text": [
      "C:\\Users\\user\\anaconda3\\lib\\site-packages\\pytorch_tabnet\\callbacks.py:172: UserWarning: Best weights from best epoch are automatically used!\n",
      "  warnings.warn(wrn_msg)\n",
      "\u001B[32m[I 2023-06-11 15:47:56,398]\u001B[0m Trial 29 finished with value: 0.47720797720797725 and parameters: {'n_d': 38, 'n_a': 23, 'n_steps': 11, 'gamma': 0.9346805683537087, 'n_independent': 6, 'n_shared': 9, 'lambda_sparse': 0.03257895481629582}. Best is trial 13 with value: 0.5724121557454891.\u001B[0m\n",
      "C:\\Users\\user\\anaconda3\\lib\\site-packages\\pytorch_tabnet\\callbacks.py:172: UserWarning: Best weights from best epoch are automatically used!\n",
      "  warnings.warn(wrn_msg)\n",
      "\u001B[32m[I 2023-06-11 15:47:56,949]\u001B[0m Trial 30 finished with value: 0.5042735042735043 and parameters: {'n_d': 22, 'n_a': 38, 'n_steps': 6, 'gamma': 0.8381795871017452, 'n_independent': 6, 'n_shared': 3, 'lambda_sparse': 0.06717841208577022}. Best is trial 13 with value: 0.5724121557454891.\u001B[0m\n"
     ]
    },
    {
     "name": "stdout",
     "output_type": "stream",
     "text": [
      "\n",
      "Early stopping occurred at epoch 10 with best_epoch = 0 and best_val_0_auc = 0.50427\n",
      "\n",
      "Early stopping occurred at epoch 10 with best_epoch = 0 and best_val_0_auc = 0.48291\n"
     ]
    },
    {
     "name": "stderr",
     "output_type": "stream",
     "text": [
      "C:\\Users\\user\\anaconda3\\lib\\site-packages\\pytorch_tabnet\\callbacks.py:172: UserWarning: Best weights from best epoch are automatically used!\n",
      "  warnings.warn(wrn_msg)\n",
      "\u001B[32m[I 2023-06-11 15:47:58,766]\u001B[0m Trial 31 finished with value: 0.48290598290598286 and parameters: {'n_d': 18, 'n_a': 54, 'n_steps': 9, 'gamma': 0.1359263902292316, 'n_independent': 9, 'n_shared': 9, 'lambda_sparse': 0.02141504216480726}. Best is trial 13 with value: 0.5724121557454891.\u001B[0m\n"
     ]
    },
    {
     "name": "stdout",
     "output_type": "stream",
     "text": [
      "\n",
      "Early stopping occurred at epoch 10 with best_epoch = 0 and best_val_0_auc = 0.51282\n"
     ]
    },
    {
     "name": "stderr",
     "output_type": "stream",
     "text": [
      "C:\\Users\\user\\anaconda3\\lib\\site-packages\\pytorch_tabnet\\callbacks.py:172: UserWarning: Best weights from best epoch are automatically used!\n",
      "  warnings.warn(wrn_msg)\n",
      "\u001B[32m[I 2023-06-11 15:48:00,391]\u001B[0m Trial 32 finished with value: 0.5128205128205128 and parameters: {'n_d': 11, 'n_a': 58, 'n_steps': 8, 'gamma': 0.3854924979769754, 'n_independent': 10, 'n_shared': 9, 'lambda_sparse': 0.025987309117990805}. Best is trial 13 with value: 0.5724121557454891.\u001B[0m\n"
     ]
    },
    {
     "name": "stdout",
     "output_type": "stream",
     "text": [
      "\n",
      "Early stopping occurred at epoch 10 with best_epoch = 0 and best_val_0_auc = 0.46201\n"
     ]
    },
    {
     "name": "stderr",
     "output_type": "stream",
     "text": [
      "C:\\Users\\user\\anaconda3\\lib\\site-packages\\pytorch_tabnet\\callbacks.py:172: UserWarning: Best weights from best epoch are automatically used!\n",
      "  warnings.warn(wrn_msg)\n",
      "\u001B[32m[I 2023-06-11 15:48:02,259]\u001B[0m Trial 33 finished with value: 0.46201329534662866 and parameters: {'n_d': 17, 'n_a': 44, 'n_steps': 13, 'gamma': 0.25810863952283514, 'n_independent': 8, 'n_shared': 8, 'lambda_sparse': 0.016666007952588102}. Best is trial 13 with value: 0.5724121557454891.\u001B[0m\n"
     ]
    },
    {
     "name": "stdout",
     "output_type": "stream",
     "text": [
      "\n",
      "Early stopping occurred at epoch 10 with best_epoch = 0 and best_val_0_auc = 0.53348\n"
     ]
    },
    {
     "name": "stderr",
     "output_type": "stream",
     "text": [
      "C:\\Users\\user\\anaconda3\\lib\\site-packages\\pytorch_tabnet\\callbacks.py:172: UserWarning: Best weights from best epoch are automatically used!\n",
      "  warnings.warn(wrn_msg)\n",
      "\u001B[32m[I 2023-06-11 15:48:03,743]\u001B[0m Trial 34 finished with value: 0.5334757834757835 and parameters: {'n_d': 30, 'n_a': 59, 'n_steps': 9, 'gamma': 0.5726313088545505, 'n_independent': 9, 'n_shared': 5, 'lambda_sparse': 0.03653707818048823}. Best is trial 13 with value: 0.5724121557454891.\u001B[0m\n",
      "C:\\Users\\user\\anaconda3\\lib\\site-packages\\pytorch_tabnet\\callbacks.py:172: UserWarning: Best weights from best epoch are automatically used!\n",
      "  warnings.warn(wrn_msg)\n",
      "\u001B[32m[I 2023-06-11 15:48:04,286]\u001B[0m Trial 35 finished with value: 0.47578347578347574 and parameters: {'n_d': 19, 'n_a': 33, 'n_steps': 3, 'gamma': 0.21415135185551576, 'n_independent': 8, 'n_shared': 8, 'lambda_sparse': 0.020293061666191006}. Best is trial 13 with value: 0.5724121557454891.\u001B[0m\n"
     ]
    },
    {
     "name": "stdout",
     "output_type": "stream",
     "text": [
      "\n",
      "Early stopping occurred at epoch 10 with best_epoch = 0 and best_val_0_auc = 0.47578\n",
      "\n",
      "Early stopping occurred at epoch 10 with best_epoch = 0 and best_val_0_auc = 0.44801\n"
     ]
    },
    {
     "name": "stderr",
     "output_type": "stream",
     "text": [
      "C:\\Users\\user\\anaconda3\\lib\\site-packages\\pytorch_tabnet\\callbacks.py:172: UserWarning: Best weights from best epoch are automatically used!\n",
      "  warnings.warn(wrn_msg)\n",
      "\u001B[32m[I 2023-06-11 15:48:05,290]\u001B[0m Trial 36 finished with value: 0.448005698005698 and parameters: {'n_d': 23, 'n_a': 51, 'n_steps': 5, 'gamma': 0.42279746543535257, 'n_independent': 10, 'n_shared': 7, 'lambda_sparse': 0.015626544680220844}. Best is trial 13 with value: 0.5724121557454891.\u001B[0m\n"
     ]
    },
    {
     "name": "stdout",
     "output_type": "stream",
     "text": [
      "\n",
      "Early stopping occurred at epoch 10 with best_epoch = 0 and best_val_0_auc = 0.49929\n"
     ]
    },
    {
     "name": "stderr",
     "output_type": "stream",
     "text": [
      "C:\\Users\\user\\anaconda3\\lib\\site-packages\\pytorch_tabnet\\callbacks.py:172: UserWarning: Best weights from best epoch are automatically used!\n",
      "  warnings.warn(wrn_msg)\n",
      "\u001B[32m[I 2023-06-11 15:48:07,503]\u001B[0m Trial 37 finished with value: 0.4992877492877493 and parameters: {'n_d': 10, 'n_a': 56, 'n_steps': 11, 'gamma': 0.12606070624439902, 'n_independent': 9, 'n_shared': 9, 'lambda_sparse': 0.029100183627113557}. Best is trial 13 with value: 0.5724121557454891.\u001B[0m\n",
      "C:\\Users\\user\\anaconda3\\lib\\site-packages\\pytorch_tabnet\\callbacks.py:172: UserWarning: Best weights from best epoch are automatically used!\n",
      "  warnings.warn(wrn_msg)\n",
      "\u001B[32m[I 2023-06-11 15:48:08,257]\u001B[0m Trial 38 finished with value: 0.5075973409306743 and parameters: {'n_d': 15, 'n_a': 40, 'n_steps': 7, 'gamma': 0.3841910545807301, 'n_independent': 2, 'n_shared': 10, 'lambda_sparse': 0.07705584232463694}. Best is trial 13 with value: 0.5724121557454891.\u001B[0m\n"
     ]
    },
    {
     "name": "stdout",
     "output_type": "stream",
     "text": [
      "\n",
      "Early stopping occurred at epoch 10 with best_epoch = 0 and best_val_0_auc = 0.5076\n"
     ]
    },
    {
     "name": "stderr",
     "output_type": "stream",
     "text": [
      "C:\\Users\\user\\anaconda3\\lib\\site-packages\\pytorch_tabnet\\callbacks.py:172: UserWarning: Best weights from best epoch are automatically used!\n",
      "  warnings.warn(wrn_msg)\n",
      "\u001B[32m[I 2023-06-11 15:48:08,543]\u001B[0m Trial 39 finished with value: 0.4477682811016145 and parameters: {'n_d': 33, 'n_a': 12, 'n_steps': 2, 'gamma': 0.529532711609582, 'n_independent': 5, 'n_shared': 6, 'lambda_sparse': 0.08510350120498615}. Best is trial 13 with value: 0.5724121557454891.\u001B[0m\n"
     ]
    },
    {
     "name": "stdout",
     "output_type": "stream",
     "text": [
      "\n",
      "Early stopping occurred at epoch 10 with best_epoch = 0 and best_val_0_auc = 0.44777\n",
      "\n",
      "Early stopping occurred at epoch 10 with best_epoch = 0 and best_val_0_auc = 0.52066\n"
     ]
    },
    {
     "name": "stderr",
     "output_type": "stream",
     "text": [
      "C:\\Users\\user\\anaconda3\\lib\\site-packages\\pytorch_tabnet\\callbacks.py:172: UserWarning: Best weights from best epoch are automatically used!\n",
      "  warnings.warn(wrn_msg)\n",
      "\u001B[32m[I 2023-06-11 15:48:11,938]\u001B[0m Trial 40 finished with value: 0.5206552706552706 and parameters: {'n_d': 62, 'n_a': 35, 'n_steps': 19, 'gamma': 0.6727185940034693, 'n_independent': 7, 'n_shared': 8, 'lambda_sparse': 0.03349851654614805}. Best is trial 13 with value: 0.5724121557454891.\u001B[0m\n"
     ]
    },
    {
     "name": "stdout",
     "output_type": "stream",
     "text": [
      "\n",
      "Early stopping occurred at epoch 10 with best_epoch = 0 and best_val_0_auc = 0.47293\n"
     ]
    },
    {
     "name": "stderr",
     "output_type": "stream",
     "text": [
      "C:\\Users\\user\\anaconda3\\lib\\site-packages\\pytorch_tabnet\\callbacks.py:172: UserWarning: Best weights from best epoch are automatically used!\n",
      "  warnings.warn(wrn_msg)\n",
      "\u001B[32m[I 2023-06-11 15:48:13,487]\u001B[0m Trial 41 finished with value: 0.47293447293447294 and parameters: {'n_d': 30, 'n_a': 60, 'n_steps': 9, 'gamma': 0.2881629592253002, 'n_independent': 9, 'n_shared': 5, 'lambda_sparse': 0.03838326136154388}. Best is trial 13 with value: 0.5724121557454891.\u001B[0m\n"
     ]
    },
    {
     "name": "stdout",
     "output_type": "stream",
     "text": [
      "epoch 0  | loss: 0.0     |  0:00:00s\n",
      "epoch 1  | loss: 0.0     |  0:00:00s\n",
      "epoch 2  | loss: 0.0     |  0:00:00s\n",
      "epoch 3  | loss: 0.0     |  0:00:00s\n",
      "epoch 4  | loss: 0.0     |  0:00:00s\n",
      "epoch 5  | loss: 0.0     |  0:00:00s\n",
      "epoch 6  | loss: 0.0     |  0:00:00s\n",
      "epoch 7  | loss: 0.0     |  0:00:00s\n",
      "epoch 8  | loss: 0.0     |  0:00:00s\n",
      "epoch 9  | loss: 0.0     |  0:00:00s\n",
      "epoch 10 | loss: 0.0     |  0:00:00s\n",
      "epoch 11 | loss: 0.0     |  0:00:00s\n",
      "epoch 12 | loss: 0.0     |  0:00:00s\n",
      "epoch 13 | loss: 0.0     |  0:00:00s\n",
      "epoch 14 | loss: 0.0     |  0:00:00s\n",
      "epoch 15 | loss: 0.0     |  0:00:00s\n",
      "epoch 16 | loss: 0.0     |  0:00:00s\n",
      "epoch 17 | loss: 0.0     |  0:00:00s\n",
      "epoch 18 | loss: 0.0     |  0:00:00s\n",
      "epoch 19 | loss: 0.0     |  0:00:00s\n",
      "epoch 20 | loss: 0.0     |  0:00:00s\n",
      "epoch 21 | loss: 0.0     |  0:00:00s\n",
      "epoch 22 | loss: 0.0     |  0:00:00s\n",
      "epoch 23 | loss: 0.0     |  0:00:00s\n",
      "epoch 24 | loss: 0.0     |  0:00:00s\n",
      "epoch 25 | loss: 0.0     |  0:00:00s\n",
      "epoch 26 | loss: 0.0     |  0:00:00s\n",
      "epoch 27 | loss: 0.0     |  0:00:00s\n",
      "epoch 28 | loss: 0.0     |  0:00:00s\n",
      "epoch 29 | loss: 0.0     |  0:00:00s\n",
      "epoch 30 | loss: 0.0     |  0:00:00s\n",
      "epoch 31 | loss: 0.0     |  0:00:00s\n",
      "epoch 32 | loss: 0.0     |  0:00:00s\n",
      "epoch 33 | loss: 0.0     |  0:00:00s\n",
      "epoch 34 | loss: 0.0     |  0:00:00s\n",
      "epoch 35 | loss: 0.0     |  0:00:00s\n",
      "epoch 36 | loss: 0.0     |  0:00:00s\n",
      "epoch 37 | loss: 0.0     |  0:00:00s\n",
      "epoch 38 | loss: 0.0     |  0:00:00s\n",
      "epoch 39 | loss: 0.0     |  0:00:00s\n",
      "epoch 40 | loss: 0.0     |  0:00:00s\n",
      "epoch 41 | loss: 0.0     |  0:00:00s\n",
      "epoch 42 | loss: 0.0     |  0:00:00s\n",
      "epoch 43 | loss: 0.0     |  0:00:00s\n",
      "epoch 44 | loss: 0.0     |  0:00:00s\n",
      "epoch 45 | loss: 0.0     |  0:00:00s\n",
      "epoch 46 | loss: 0.0     |  0:00:00s\n",
      "epoch 47 | loss: 0.0     |  0:00:00s\n",
      "epoch 48 | loss: 0.0     |  0:00:00s\n",
      "epoch 49 | loss: 0.0     |  0:00:00s\n",
      "epoch 50 | loss: 0.0     |  0:00:00s\n",
      "epoch 51 | loss: 0.0     |  0:00:00s\n",
      "epoch 52 | loss: 0.0     |  0:00:00s\n",
      "epoch 53 | loss: 0.0     |  0:00:00s\n",
      "epoch 54 | loss: 0.0     |  0:00:00s\n",
      "epoch 55 | loss: 0.0     |  0:00:00s\n",
      "epoch 56 | loss: 0.0     |  0:00:00s\n",
      "epoch 57 | loss: 0.0     |  0:00:00s\n",
      "epoch 58 | loss: 0.0     |  0:00:00s\n",
      "epoch 59 | loss: 0.0     |  0:00:00s\n",
      "epoch 60 | loss: 0.0     |  0:00:00s\n",
      "epoch 61 | loss: 0.0     |  0:00:00s\n",
      "epoch 62 | loss: 0.0     |  0:00:00s\n",
      "epoch 63 | loss: 0.0     |  0:00:00s\n",
      "epoch 64 | loss: 0.0     |  0:00:00s\n",
      "epoch 65 | loss: 0.0     |  0:00:00s\n",
      "epoch 66 | loss: 0.0     |  0:00:00s\n",
      "epoch 67 | loss: 0.0     |  0:00:00s\n",
      "epoch 68 | loss: 0.0     |  0:00:00s\n",
      "epoch 69 | loss: 0.0     |  0:00:00s\n",
      "epoch 70 | loss: 0.0     |  0:00:00s\n",
      "epoch 71 | loss: 0.0     |  0:00:00s\n",
      "epoch 72 | loss: 0.0     |  0:00:00s\n",
      "epoch 73 | loss: 0.0     |  0:00:00s\n",
      "epoch 74 | loss: 0.0     |  0:00:00s\n",
      "epoch 75 | loss: 0.0     |  0:00:00s\n",
      "epoch 76 | loss: 0.0     |  0:00:00s\n",
      "epoch 77 | loss: 0.0     |  0:00:00s\n",
      "epoch 78 | loss: 0.0     |  0:00:00s\n",
      "epoch 79 | loss: 0.0     |  0:00:00s\n",
      "epoch 80 | loss: 0.0     |  0:00:00s\n",
      "epoch 81 | loss: 0.0     |  0:00:00s\n",
      "epoch 82 | loss: 0.0     |  0:00:00s\n",
      "epoch 83 | loss: 0.0     |  0:00:00s\n",
      "epoch 84 | loss: 0.0     |  0:00:00s\n",
      "epoch 85 | loss: 0.0     |  0:00:00s\n",
      "epoch 86 | loss: 0.0     |  0:00:00s\n",
      "epoch 87 | loss: 0.0     |  0:00:00s\n",
      "epoch 88 | loss: 0.0     |  0:00:00s\n",
      "epoch 89 | loss: 0.0     |  0:00:00s\n",
      "epoch 90 | loss: 0.0     |  0:00:00s\n",
      "epoch 91 | loss: 0.0     |  0:00:00s\n",
      "epoch 92 | loss: 0.0     |  0:00:00s\n",
      "epoch 93 | loss: 0.0     |  0:00:00s\n",
      "epoch 94 | loss: 0.0     |  0:00:00s\n",
      "epoch 95 | loss: 0.0     |  0:00:00s\n",
      "epoch 96 | loss: 0.0     |  0:00:00s\n",
      "epoch 97 | loss: 0.0     |  0:00:00s\n",
      "epoch 98 | loss: 0.0     |  0:00:00s\n",
      "epoch 99 | loss: 0.0     |  0:00:00s\n"
     ]
    },
    {
     "name": "stderr",
     "output_type": "stream",
     "text": [
      "C:\\Users\\user\\anaconda3\\lib\\site-packages\\pytorch_tabnet\\abstract_model.py:75: UserWarning: Device used : cpu\n",
      "  warnings.warn(f\"Device used : {self.device}\")\n",
      "C:\\Users\\user\\anaconda3\\lib\\site-packages\\pytorch_tabnet\\abstract_model.py:651: UserWarning: No early stopping will be performed, last training weights will be used.\n",
      "  warnings.warn(wrn_msg)\n"
     ]
    },
    {
     "data": {
      "text/plain": "{'n_d': 21,\n 'n_a': 9,\n 'n_steps': 2,\n 'gamma': 1.1508929457380626,\n 'n_independent': 10,\n 'n_shared': 4,\n 'lambda_sparse': 0.028710678872411834}"
     },
     "execution_count": 83,
     "metadata": {},
     "output_type": "execute_result"
    }
   ],
   "source": [
    "import torch\n",
    "from pytorch_tabnet.tab_model import TabNetClassifier\n",
    "import optuna\n",
    "from sklearn.metrics import mean_squared_error\n",
    "\n",
    "# Define objective function for optuna\n",
    "def objective(trial):\n",
    "    # Generate hyperparameter search space\n",
    "    params = {\n",
    "        'n_d': trial.suggest_int('n_d', 8, 64),\n",
    "        'n_a': trial.suggest_int('n_a', 8, 64),\n",
    "        'n_steps': trial.suggest_int('n_steps', 1, 19),\n",
    "        'gamma': trial.suggest_float('gamma', 0.1, 2.0),\n",
    "        'n_independent': trial.suggest_int('n_independent', 1, 10),\n",
    "        'n_shared': trial.suggest_int('n_shared', 1, 10),\n",
    "        'lambda_sparse': trial.suggest_float('lambda_sparse', 0.0001, 0.1),\n",
    "        # 'optimizer_fn': torch.optim.Adam,\n",
    "        # 'optimizer_params': dict(lr=2e-2, weight_decay=1e-5),\n",
    "        # 'mask_type': 'entmax',\n",
    "        # 'scheduler_params': dict(mode=\"min\", patience=5, min_lr=1e-5, factor=0.9,),\n",
    "        # 'scheduler_fn': torch.optim.lr_scheduler.ReduceLROnPlateau,\n",
    "        'verbose': 0\n",
    "    }\n",
    "\n",
    "    # Create TabNetClassifier object with hyperparameters from optuna\n",
    "    classifier = TabNetClassifier(**params)\n",
    "\n",
    "    # Train and evaluate the model\n",
    "    classifier.fit(X_train_np, y_train, eval_set=[(X_test_np, y_test)])\n",
    "    val_preds = classifier.predict_proba(X_test_np)[:, 1]\n",
    "    val_auc = roc_auc_score(y_test, val_preds)\n",
    "\n",
    "    return val_auc\n",
    "\n",
    "# Create optuna study\n",
    "study = optuna.create_study(direction='maximize')\n",
    "\n",
    "# Optimize hyperparameters using optuna\n",
    "study.optimize(objective, n_trials=42, timeout=600)\n",
    "\n",
    "# Get best hyperparameters from optuna\n",
    "best_params = study.best_trial.params\n",
    "\n",
    "# Train final model with best hyperparameters\n",
    "tabnet = TabNetClassifier(**best_params)\n",
    "tabnet.fit(X_train_np, y_train)\n",
    "best_params"
   ],
   "metadata": {
    "collapsed": false,
    "ExecuteTime": {
     "end_time": "2023-06-11T12:48:13.664145800Z",
     "start_time": "2023-06-11T12:47:23.917283400Z"
    }
   }
  },
  {
   "cell_type": "markdown",
   "source": [
    "Evaluate the best model on the test data"
   ],
   "metadata": {
    "collapsed": false
   }
  },
  {
   "cell_type": "code",
   "execution_count": 84,
   "outputs": [
    {
     "name": "stdout",
     "output_type": "stream",
     "text": [
      "Tabnet (test data)\n",
      "Accuracy: 0.6\n",
      "Precision: 0.77\n",
      "Recall: 0.65\n",
      "F1-score: 0.71\n",
      "ROC-AUC score: 0.55\n"
     ]
    },
    {
     "data": {
      "text/plain": "<Figure size 576x576 with 2 Axes>",
      "image/png": "[encoded data removed]"
     },
     "metadata": {},
     "output_type": "display_data"
    }
   ],
   "source": [
    "# Evaluate final model on test set\n",
    "y_test_pred = tabnet.predict(X_test_np)\n",
    "evaluate_model(\"Tabnet (test data)\", y_test, y_test_pred)"
   ],
   "metadata": {
    "collapsed": false,
    "ExecuteTime": {
     "end_time": "2023-06-11T12:48:13.822754200Z",
     "start_time": "2023-06-11T12:48:13.665141900Z"
    }
   }
  },
  {
   "cell_type": "markdown",
   "source": [
    "The best model is Gradient Boosting"
   ],
   "metadata": {
    "collapsed": false
   }
  },
  {
   "cell_type": "code",
   "execution_count": 87,
   "outputs": [],
   "source": [
    "the_best_model_ever = tabnet"
   ],
   "metadata": {
    "collapsed": false,
    "ExecuteTime": {
     "end_time": "2023-06-11T18:56:02.837715100Z",
     "start_time": "2023-06-11T18:56:02.730934500Z"
    }
   }
  },
  {
   "cell_type": "markdown",
   "source": [
    "Feature importance"
   ],
   "metadata": {
    "collapsed": false
   }
  },
  {
   "cell_type": "code",
   "execution_count": 86,
   "outputs": [
    {
     "data": {
      "text/plain": "                                                 importance\nFixations_Re_Entries_To_RoI_Count_Pre          7.262243e-02\nonset_Std_Fixations_In_RoI_Pre                 7.042355e-02\nPupil radius_Fixations_ReEntry_Mean_Diff_Post  6.859474e-02\npeak_velocity_Min_Saccades_End_In_RoI_Post     6.424440e-02\nSaccades_End_In\\out_RoI_Ratio_Pre              4.321473e-02\n...                                                     ...\nDVA_Max_Gaze_Post                              8.888818e-09\nDuration_Fixations_First_In_RoI_Post           8.733947e-09\nDuration_Max_Saccades_End_In_RoI_Post          7.725742e-09\nonset_Mean_Saccades_Start_In_RoI_Post          7.653643e-09\nlast_onset_Mean_Saccades_End_In_RoI_Post       6.530718e-09\n\n[116 rows x 1 columns]",
      "text/html": "<div>\n<style scoped>\n    .dataframe tbody tr th:only-of-type {\n        vertical-align: middle;\n    }\n\n    .dataframe tbody tr th {\n        vertical-align: top;\n    }\n\n    .dataframe thead th {\n        text-align: right;\n    }\n</style>\n<table border=\"1\" class=\"dataframe\">\n  <thead>\n    <tr style=\"text-align: right;\">\n      <th></th>\n      <th>importance</th>\n    </tr>\n  </thead>\n  <tbody>\n    <tr>\n      <th>Fixations_Re_Entries_To_RoI_Count_Pre</th>\n      <td>7.262243e-02</td>\n    </tr>\n    <tr>\n      <th>onset_Std_Fixations_In_RoI_Pre</th>\n      <td>7.042355e-02</td>\n    </tr>\n    <tr>\n      <th>Pupil radius_Fixations_ReEntry_Mean_Diff_Post</th>\n      <td>6.859474e-02</td>\n    </tr>\n    <tr>\n      <th>peak_velocity_Min_Saccades_End_In_RoI_Post</th>\n      <td>6.424440e-02</td>\n    </tr>\n    <tr>\n      <th>Saccades_End_In\\out_RoI_Ratio_Pre</th>\n      <td>4.321473e-02</td>\n    </tr>\n    <tr>\n      <th>...</th>\n      <td>...</td>\n    </tr>\n    <tr>\n      <th>DVA_Max_Gaze_Post</th>\n      <td>8.888818e-09</td>\n    </tr>\n    <tr>\n      <th>Duration_Fixations_First_In_RoI_Post</th>\n      <td>8.733947e-09</td>\n    </tr>\n    <tr>\n      <th>Duration_Max_Saccades_End_In_RoI_Post</th>\n      <td>7.725742e-09</td>\n    </tr>\n    <tr>\n      <th>onset_Mean_Saccades_Start_In_RoI_Post</th>\n      <td>7.653643e-09</td>\n    </tr>\n    <tr>\n      <th>last_onset_Mean_Saccades_End_In_RoI_Post</th>\n      <td>6.530718e-09</td>\n    </tr>\n  </tbody>\n</table>\n<p>116 rows × 1 columns</p>\n</div>"
     },
     "execution_count": 86,
     "metadata": {},
     "output_type": "execute_result"
    }
   ],
   "source": [
    "feature_importances = pd.DataFrame(the_best_model_ever.feature_importances_,\n",
    "                                   index = X_train_preprocessed.columns,\n",
    "                                    columns=['importance']).sort_values('importance', ascending=False)\n",
    "feature_importances"
   ],
   "metadata": {
    "collapsed": false,
    "ExecuteTime": {
     "end_time": "2023-06-11T12:48:13.883593800Z",
     "start_time": "2023-06-11T12:48:13.843698600Z"
    }
   }
  },
  {
   "cell_type": "markdown",
   "source": [
    "\n"
   ],
   "metadata": {
    "collapsed": false
   }
  }
 ],
 "metadata": {
  "kernelspec": {
   "display_name": "Python 3",
   "language": "python",
   "name": "python3"
  },
  "language_info": {
   "codemirror_mode": {
    "name": "ipython",
    "version": 2
   },
   "file_extension": ".py",
   "mimetype": "text/x-python",
   "name": "python",
   "nbconvert_exporter": "python",
   "pygments_lexer": "ipython2",
   "version": "2.7.6"
  }
 },
 "nbformat": 4,
 "nbformat_minor": 0
}
