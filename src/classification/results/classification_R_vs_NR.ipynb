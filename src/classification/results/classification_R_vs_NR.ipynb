{
 "cells": [
  {
   "cell_type": "code",
   "execution_count": 1,
   "metadata": {
    "collapsed": true,
    "ExecuteTime": {
     "end_time": "2023-08-22T08:55:38.087348600Z",
     "start_time": "2023-08-22T08:55:37.885664600Z"
    }
   },
   "outputs": [],
   "source": [
    "import pandas as pd\n",
    "from matplotlib import pyplot as plt\n",
    "import numpy as np\n",
    "from sklearn.decomposition import PCA\n",
    "import os\n",
    "from src import config"
   ]
  },
  {
   "cell_type": "code",
   "execution_count": 2,
   "outputs": [],
   "source": [
    "features_df = pd.read_pickle(os.path.join(config.classification_resource_dir, \"norm_mem_features_df.pkl\"))\n",
    "labels_df = pd.read_pickle(os.path.join(config.classification_resource_dir, \"norm_mem_labels_df.pkl\"))"
   ],
   "metadata": {
    "collapsed": false,
    "ExecuteTime": {
     "end_time": "2023-08-22T08:55:38.101314800Z",
     "start_time": "2023-08-22T08:55:38.059755900Z"
    }
   }
  },
  {
   "cell_type": "code",
   "execution_count": 3,
   "outputs": [
    {
     "data": {
      "text/plain": "   Movie  Gaze_Counts_In_RoI_Pre  Gaze_Counts_Out_RoI_Pre  \\\n0     35                8.937330                -4.762770   \n1     37                9.895988                -4.653699   \n2     24                0.000000                -0.381749   \n3     56                0.000000                 5.580803   \n4     19                0.683507                 0.218142   \n\n   Gaze_In_out_RoI_Ratio_Pre  Gaze_Re_Entries_To_RoI_Count_Pre  \\\n0                   2.538341                          0.000000   \n1                   3.004493                         -4.545455   \n2                   0.000000                          0.000000   \n3                   0.000000                          0.000000   \n4                   0.138565                         13.636364   \n\n   Gaze_Re_Entries_To_RoI_Rate_Pre  Fixations_Counts_In_RoI_Pre  \\\n0                         0.000000                    13.333333   \n1                        -4.566460                     4.761905   \n2                         0.000000                     0.000000   \n3                         0.000000                     0.000000   \n4                        13.794626                     0.000000   \n\n   Fixations_Counts_Out_RoI_Pre  Fixations_In_out_RoI_Ratio_Pre  \\\n0                     -9.090909                        3.933566   \n1                     -2.222222                        1.698302   \n2                      8.888889                        0.000000   \n3                     -2.222222                        0.000000   \n4                     -2.222222                        0.043290   \n\n   Fixations_Re_Entries_To_RoI_Count_Pre  ...  DVA_Min_Gaze_Pre  \\\n0                              14.285714  ...          1.309765   \n1                               0.000000  ...         -0.877868   \n2                               0.000000  ...        -36.395763   \n3                               0.000000  ...          1.457714   \n4                               0.000000  ...         -1.665887   \n\n   DVA_Sem_Gaze_Pre  DVA_AUC_Gaze_Pre  DVA_Mean_Fixations_Pre  \\\n0         10.279088        -14.176672              -19.721653   \n1          6.086491          0.268451                2.169787   \n2         -2.802580         12.923560                9.205766   \n3          6.666489          0.261014               -0.954066   \n4          4.361691          3.270751                2.661907   \n\n   DVA_Median_Fixations_Pre  DVA_Std_Fixations_Pre  DVA_Max_Fixations_Pre  \\\n0                -31.733400              15.995702              -0.180805   \n1                 10.743866               7.255331              16.895147   \n2                 17.757868              -9.350843               0.624062   \n3                 -2.668161             -19.692673               4.126229   \n4                  6.803244               2.744960              -2.173159   \n\n   DVA_Min_Fixations_Pre  DVA_Sem_Fixations_Pre  DVA_AUC_Fixations_Pre  \n0               2.613137               7.635024             -19.176023  \n1              -0.464304               4.377075               1.180890  \n2               0.094872             -21.961715               9.653264  \n3              31.312765             -14.002873              -2.052699  \n4               0.784746               1.902217               0.664412  \n\n[5 rows x 74 columns]",
      "text/html": "<div>\n<style scoped>\n    .dataframe tbody tr th:only-of-type {\n        vertical-align: middle;\n    }\n\n    .dataframe tbody tr th {\n        vertical-align: top;\n    }\n\n    .dataframe thead th {\n        text-align: right;\n    }\n</style>\n<table border=\"1\" class=\"dataframe\">\n  <thead>\n    <tr style=\"text-align: right;\">\n      <th></th>\n      <th>Movie</th>\n      <th>Gaze_Counts_In_RoI_Pre</th>\n      <th>Gaze_Counts_Out_RoI_Pre</th>\n      <th>Gaze_In_out_RoI_Ratio_Pre</th>\n      <th>Gaze_Re_Entries_To_RoI_Count_Pre</th>\n      <th>Gaze_Re_Entries_To_RoI_Rate_Pre</th>\n      <th>Fixations_Counts_In_RoI_Pre</th>\n      <th>Fixations_Counts_Out_RoI_Pre</th>\n      <th>Fixations_In_out_RoI_Ratio_Pre</th>\n      <th>Fixations_Re_Entries_To_RoI_Count_Pre</th>\n      <th>...</th>\n      <th>DVA_Min_Gaze_Pre</th>\n      <th>DVA_Sem_Gaze_Pre</th>\n      <th>DVA_AUC_Gaze_Pre</th>\n      <th>DVA_Mean_Fixations_Pre</th>\n      <th>DVA_Median_Fixations_Pre</th>\n      <th>DVA_Std_Fixations_Pre</th>\n      <th>DVA_Max_Fixations_Pre</th>\n      <th>DVA_Min_Fixations_Pre</th>\n      <th>DVA_Sem_Fixations_Pre</th>\n      <th>DVA_AUC_Fixations_Pre</th>\n    </tr>\n  </thead>\n  <tbody>\n    <tr>\n      <th>0</th>\n      <td>35</td>\n      <td>8.937330</td>\n      <td>-4.762770</td>\n      <td>2.538341</td>\n      <td>0.000000</td>\n      <td>0.000000</td>\n      <td>13.333333</td>\n      <td>-9.090909</td>\n      <td>3.933566</td>\n      <td>14.285714</td>\n      <td>...</td>\n      <td>1.309765</td>\n      <td>10.279088</td>\n      <td>-14.176672</td>\n      <td>-19.721653</td>\n      <td>-31.733400</td>\n      <td>15.995702</td>\n      <td>-0.180805</td>\n      <td>2.613137</td>\n      <td>7.635024</td>\n      <td>-19.176023</td>\n    </tr>\n    <tr>\n      <th>1</th>\n      <td>37</td>\n      <td>9.895988</td>\n      <td>-4.653699</td>\n      <td>3.004493</td>\n      <td>-4.545455</td>\n      <td>-4.566460</td>\n      <td>4.761905</td>\n      <td>-2.222222</td>\n      <td>1.698302</td>\n      <td>0.000000</td>\n      <td>...</td>\n      <td>-0.877868</td>\n      <td>6.086491</td>\n      <td>0.268451</td>\n      <td>2.169787</td>\n      <td>10.743866</td>\n      <td>7.255331</td>\n      <td>16.895147</td>\n      <td>-0.464304</td>\n      <td>4.377075</td>\n      <td>1.180890</td>\n    </tr>\n    <tr>\n      <th>2</th>\n      <td>24</td>\n      <td>0.000000</td>\n      <td>-0.381749</td>\n      <td>0.000000</td>\n      <td>0.000000</td>\n      <td>0.000000</td>\n      <td>0.000000</td>\n      <td>8.888889</td>\n      <td>0.000000</td>\n      <td>0.000000</td>\n      <td>...</td>\n      <td>-36.395763</td>\n      <td>-2.802580</td>\n      <td>12.923560</td>\n      <td>9.205766</td>\n      <td>17.757868</td>\n      <td>-9.350843</td>\n      <td>0.624062</td>\n      <td>0.094872</td>\n      <td>-21.961715</td>\n      <td>9.653264</td>\n    </tr>\n    <tr>\n      <th>3</th>\n      <td>56</td>\n      <td>0.000000</td>\n      <td>5.580803</td>\n      <td>0.000000</td>\n      <td>0.000000</td>\n      <td>0.000000</td>\n      <td>0.000000</td>\n      <td>-2.222222</td>\n      <td>0.000000</td>\n      <td>0.000000</td>\n      <td>...</td>\n      <td>1.457714</td>\n      <td>6.666489</td>\n      <td>0.261014</td>\n      <td>-0.954066</td>\n      <td>-2.668161</td>\n      <td>-19.692673</td>\n      <td>4.126229</td>\n      <td>31.312765</td>\n      <td>-14.002873</td>\n      <td>-2.052699</td>\n    </tr>\n    <tr>\n      <th>4</th>\n      <td>19</td>\n      <td>0.683507</td>\n      <td>0.218142</td>\n      <td>0.138565</td>\n      <td>13.636364</td>\n      <td>13.794626</td>\n      <td>0.000000</td>\n      <td>-2.222222</td>\n      <td>0.043290</td>\n      <td>0.000000</td>\n      <td>...</td>\n      <td>-1.665887</td>\n      <td>4.361691</td>\n      <td>3.270751</td>\n      <td>2.661907</td>\n      <td>6.803244</td>\n      <td>2.744960</td>\n      <td>-2.173159</td>\n      <td>0.784746</td>\n      <td>1.902217</td>\n      <td>0.664412</td>\n    </tr>\n  </tbody>\n</table>\n<p>5 rows × 74 columns</p>\n</div>"
     },
     "execution_count": 3,
     "metadata": {},
     "output_type": "execute_result"
    }
   ],
   "source": [
    "# Remove all the features that are not contains 'Pre' in their name\n",
    "features_df = features_df.loc[:, ~features_df.columns.str.contains('Post')]\n",
    "\n",
    "# # Remove all the features that are not contains 'DVA' in their name\n",
    "# features_df = features_df.loc[:, features_df.columns.str.contains('DVA') | features_df.columns.str.contains(config.MOVIE)]\n",
    "\n",
    "features_df.head()"
   ],
   "metadata": {
    "collapsed": false,
    "ExecuteTime": {
     "end_time": "2023-08-22T08:55:38.111298600Z",
     "start_time": "2023-08-22T08:55:38.078716400Z"
    }
   }
  },
  {
   "cell_type": "markdown",
   "source": [
    "EDA"
   ],
   "metadata": {
    "collapsed": false
   }
  },
  {
   "cell_type": "code",
   "execution_count": 4,
   "outputs": [
    {
     "name": "stdout",
     "output_type": "stream",
     "text": [
      "<class 'pandas.core.frame.DataFrame'>\n",
      "RangeIndex: 2040 entries, 0 to 2039\n",
      "Data columns (total 74 columns):\n",
      " #   Column                                        Non-Null Count  Dtype  \n",
      "---  ------                                        --------------  -----  \n",
      " 0   Movie                                         2040 non-null   int8   \n",
      " 1   Gaze_Counts_In_RoI_Pre                        2036 non-null   float64\n",
      " 2   Gaze_Counts_Out_RoI_Pre                       2036 non-null   float64\n",
      " 3   Gaze_In_out_RoI_Ratio_Pre                     2036 non-null   float64\n",
      " 4   Gaze_Re_Entries_To_RoI_Count_Pre              2036 non-null   float64\n",
      " 5   Gaze_Re_Entries_To_RoI_Rate_Pre               2036 non-null   float64\n",
      " 6   Fixations_Counts_In_RoI_Pre                   2036 non-null   float64\n",
      " 7   Fixations_Counts_Out_RoI_Pre                  2036 non-null   float64\n",
      " 8   Fixations_In_out_RoI_Ratio_Pre                2036 non-null   float64\n",
      " 9   Fixations_Re_Entries_To_RoI_Count_Pre         2036 non-null   float64\n",
      " 10  Fixations_Re_Entries_To_RoI_Rate_Pre          2036 non-null   float64\n",
      " 11  onset_Fixations_First_In_RoI_Pre              1488 non-null   float64\n",
      " 12  Duration_Fixations_First_In_RoI_Pre           1488 non-null   float64\n",
      " 13  onset_Mean_Fixations_In_RoI_Pre               1488 non-null   float64\n",
      " 14  onset_Median_Fixations_In_RoI_Pre             1488 non-null   float64\n",
      " 15  onset_Std_Fixations_In_RoI_Pre                1488 non-null   float64\n",
      " 16  onset_Max_Fixations_In_RoI_Pre                1488 non-null   float64\n",
      " 17  Duration_Max_Fixations_In_RoI_Pre             1488 non-null   float64\n",
      " 18  onset_Min_Fixations_In_RoI_Pre                1488 non-null   float64\n",
      " 19  Duration_Min_Fixations_In_RoI_Pre             1488 non-null   float64\n",
      " 20  onset_Sem_Fixations_In_RoI_Pre                1488 non-null   float64\n",
      " 21  onset_AUC_Fixations_In_RoI_Pre                1488 non-null   float64\n",
      " 22  Pupil radius_Fixations_First_Diff_Pre         1251 non-null   float64\n",
      " 23  Pupil radius_Fixations_ReEntry_Mean_Diff_Pre  1251 non-null   float64\n",
      " 24  Saccades_Start_Counts_In_RoI_Pre              2036 non-null   float64\n",
      " 25  Saccades_Start_Counts_Out_RoI_Pre             2036 non-null   float64\n",
      " 26  Saccades_Start_In_out_RoI_Ratio_Pre           2036 non-null   float64\n",
      " 27  Saccades_End_Counts_In_RoI_Pre                2036 non-null   float64\n",
      " 28  Saccades_End_Counts_Out_RoI_Pre               2036 non-null   float64\n",
      " 29  Saccades_End_In_out_RoI_Ratio_Pre             2036 non-null   float64\n",
      " 30  last_onset_Saccades_End_First_In_RoI_Pre      1550 non-null   float64\n",
      " 31  Duration_Saccades_End_First_In_RoI_Pre        1550 non-null   float64\n",
      " 32  vis_angle_Saccades_End_First_In_RoI_Pre       1550 non-null   float64\n",
      " 33  peak_velocity_Saccades_End_First_In_RoI_Pre   1550 non-null   float64\n",
      " 34  onset_Mean_Saccades_Start_In_RoI_Pre          1416 non-null   float64\n",
      " 35  onset_Median_Saccades_Start_In_RoI_Pre        1416 non-null   float64\n",
      " 36  onset_Std_Saccades_Start_In_RoI_Pre           1416 non-null   float64\n",
      " 37  onset_Max_Saccades_Start_In_RoI_Pre           1416 non-null   float64\n",
      " 38  Duration_Max_Saccades_Start_In_RoI_Pre        1416 non-null   float64\n",
      " 39  vis_angle_Max_Saccades_Start_In_RoI_Pre       1416 non-null   float64\n",
      " 40  peak_velocity_Max_Saccades_Start_In_RoI_Pre   1416 non-null   float64\n",
      " 41  onset_Min_Saccades_Start_In_RoI_Pre           1416 non-null   float64\n",
      " 42  Duration_Min_Saccades_Start_In_RoI_Pre        1416 non-null   float64\n",
      " 43  vis_angle_Min_Saccades_Start_In_RoI_Pre       1416 non-null   float64\n",
      " 44  peak_velocity_Min_Saccades_Start_In_RoI_Pre   1416 non-null   float64\n",
      " 45  onset_Sem_Saccades_Start_In_RoI_Pre           1416 non-null   float64\n",
      " 46  onset_AUC_Saccades_Start_In_RoI_Pre           1416 non-null   float64\n",
      " 47  last_onset_Mean_Saccades_End_In_RoI_Pre       1550 non-null   float64\n",
      " 48  last_onset_Median_Saccades_End_In_RoI_Pre     1550 non-null   float64\n",
      " 49  last_onset_Std_Saccades_End_In_RoI_Pre        1550 non-null   float64\n",
      " 50  last_onset_Max_Saccades_End_In_RoI_Pre        1550 non-null   float64\n",
      " 51  Duration_Max_Saccades_End_In_RoI_Pre          1550 non-null   float64\n",
      " 52  vis_angle_Max_Saccades_End_In_RoI_Pre         1550 non-null   float64\n",
      " 53  peak_velocity_Max_Saccades_End_In_RoI_Pre     1550 non-null   float64\n",
      " 54  last_onset_Min_Saccades_End_In_RoI_Pre        1550 non-null   float64\n",
      " 55  Duration_Min_Saccades_End_In_RoI_Pre          1550 non-null   float64\n",
      " 56  vis_angle_Min_Saccades_End_In_RoI_Pre         1550 non-null   float64\n",
      " 57  peak_velocity_Min_Saccades_End_In_RoI_Pre     1550 non-null   float64\n",
      " 58  last_onset_Sem_Saccades_End_In_RoI_Pre        1550 non-null   float64\n",
      " 59  last_onset_AUC_Saccades_End_In_RoI_Pre        1550 non-null   float64\n",
      " 60  DVA_Mean_Gaze_Pre                             2034 non-null   float64\n",
      " 61  DVA_Median_Gaze_Pre                           2034 non-null   float64\n",
      " 62  DVA_Std_Gaze_Pre                              2034 non-null   float64\n",
      " 63  DVA_Max_Gaze_Pre                              2034 non-null   float64\n",
      " 64  DVA_Min_Gaze_Pre                              2034 non-null   float64\n",
      " 65  DVA_Sem_Gaze_Pre                              2034 non-null   float64\n",
      " 66  DVA_AUC_Gaze_Pre                              2034 non-null   float64\n",
      " 67  DVA_Mean_Fixations_Pre                        2034 non-null   float64\n",
      " 68  DVA_Median_Fixations_Pre                      2034 non-null   float64\n",
      " 69  DVA_Std_Fixations_Pre                         2028 non-null   float64\n",
      " 70  DVA_Max_Fixations_Pre                         2034 non-null   float64\n",
      " 71  DVA_Min_Fixations_Pre                         2034 non-null   float64\n",
      " 72  DVA_Sem_Fixations_Pre                         2028 non-null   float64\n",
      " 73  DVA_AUC_Fixations_Pre                         2034 non-null   float64\n",
      "dtypes: float64(73), int8(1)\n",
      "memory usage: 1.1 MB\n"
     ]
    }
   ],
   "source": [
    "features_df.info()"
   ],
   "metadata": {
    "collapsed": false,
    "ExecuteTime": {
     "end_time": "2023-08-22T08:55:38.166758100Z",
     "start_time": "2023-08-22T08:55:38.106307Z"
    }
   }
  },
  {
   "cell_type": "markdown",
   "source": [],
   "metadata": {
    "collapsed": false
   }
  },
  {
   "cell_type": "code",
   "execution_count": 5,
   "outputs": [
    {
     "data": {
      "text/plain": "           mem\nseries_id     \n0          1.0\n1          1.0\n2          1.0\n3          1.0\n4          1.0",
      "text/html": "<div>\n<style scoped>\n    .dataframe tbody tr th:only-of-type {\n        vertical-align: middle;\n    }\n\n    .dataframe tbody tr th {\n        vertical-align: top;\n    }\n\n    .dataframe thead th {\n        text-align: right;\n    }\n</style>\n<table border=\"1\" class=\"dataframe\">\n  <thead>\n    <tr style=\"text-align: right;\">\n      <th></th>\n      <th>mem</th>\n    </tr>\n    <tr>\n      <th>series_id</th>\n      <th></th>\n    </tr>\n  </thead>\n  <tbody>\n    <tr>\n      <th>0</th>\n      <td>1.0</td>\n    </tr>\n    <tr>\n      <th>1</th>\n      <td>1.0</td>\n    </tr>\n    <tr>\n      <th>2</th>\n      <td>1.0</td>\n    </tr>\n    <tr>\n      <th>3</th>\n      <td>1.0</td>\n    </tr>\n    <tr>\n      <th>4</th>\n      <td>1.0</td>\n    </tr>\n  </tbody>\n</table>\n</div>"
     },
     "execution_count": 5,
     "metadata": {},
     "output_type": "execute_result"
    }
   ],
   "source": [
    "labels_df.head()"
   ],
   "metadata": {
    "collapsed": false,
    "ExecuteTime": {
     "end_time": "2023-08-22T08:55:38.210149200Z",
     "start_time": "2023-08-22T08:55:38.125333100Z"
    }
   }
  },
  {
   "cell_type": "code",
   "execution_count": 6,
   "outputs": [
    {
     "name": "stdout",
     "output_type": "stream",
     "text": [
      "<class 'pandas.core.frame.DataFrame'>\n",
      "Int64Index: 2040 entries, 0 to 2039\n",
      "Data columns (total 1 columns):\n",
      " #   Column  Non-Null Count  Dtype  \n",
      "---  ------  --------------  -----  \n",
      " 0   mem     2040 non-null   float64\n",
      "dtypes: float64(1)\n",
      "memory usage: 31.9 KB\n"
     ]
    }
   ],
   "source": [
    "labels_df.info()"
   ],
   "metadata": {
    "collapsed": false,
    "ExecuteTime": {
     "end_time": "2023-08-22T08:55:38.243296600Z",
     "start_time": "2023-08-22T08:55:38.141299600Z"
    }
   }
  },
  {
   "cell_type": "code",
   "execution_count": 7,
   "outputs": [
    {
     "data": {
      "text/plain": "<AxesSubplot:>"
     },
     "execution_count": 7,
     "metadata": {},
     "output_type": "execute_result"
    },
    {
     "data": {
      "text/plain": "<Figure size 432x288 with 1 Axes>",
      "image/png": "[encoded data removed]"
     },
     "metadata": {},
     "output_type": "display_data"
    }
   ],
   "source": [
    "labels_df['mem'].value_counts().plot(kind='bar')"
   ],
   "metadata": {
    "collapsed": false,
    "ExecuteTime": {
     "end_time": "2023-08-22T08:55:38.431074Z",
     "start_time": "2023-08-22T08:55:38.153779800Z"
    }
   }
  },
  {
   "cell_type": "markdown",
   "source": [
    "Data Cleaning"
   ],
   "metadata": {
    "collapsed": false
   }
  },
  {
   "cell_type": "markdown",
   "source": [
    "how many missing values / inf values are there in each column? show the top 10"
   ],
   "metadata": {
    "collapsed": false
   }
  },
  {
   "cell_type": "code",
   "execution_count": 8,
   "outputs": [
    {
     "data": {
      "text/plain": "Pupil radius_Fixations_ReEntry_Mean_Diff_Pre    0.386765\nPupil radius_Fixations_First_Diff_Pre           0.386765\nonset_Max_Saccades_Start_In_RoI_Pre             0.305882\nonset_Median_Saccades_Start_In_RoI_Pre          0.305882\nonset_Std_Saccades_Start_In_RoI_Pre             0.305882\nDuration_Max_Saccades_Start_In_RoI_Pre          0.305882\nvis_angle_Max_Saccades_Start_In_RoI_Pre         0.305882\npeak_velocity_Max_Saccades_Start_In_RoI_Pre     0.305882\nonset_Min_Saccades_Start_In_RoI_Pre             0.305882\nDuration_Min_Saccades_Start_In_RoI_Pre          0.305882\ndtype: float64"
     },
     "execution_count": 8,
     "metadata": {},
     "output_type": "execute_result"
    }
   ],
   "source": [
    "features_df.isin([np.nan, np.inf, -np.inf]).mean(axis=0).sort_values(ascending=False).head(10)"
   ],
   "metadata": {
    "collapsed": false,
    "ExecuteTime": {
     "end_time": "2023-08-22T08:55:38.436054400Z",
     "start_time": "2023-08-22T08:55:38.262212600Z"
    }
   }
  },
  {
   "cell_type": "markdown",
   "source": [],
   "metadata": {
    "collapsed": false
   }
  },
  {
   "cell_type": "markdown",
   "source": [
    "Remove columns with more than 30% missing values or inf values"
   ],
   "metadata": {
    "collapsed": false
   }
  },
  {
   "cell_type": "code",
   "execution_count": 9,
   "outputs": [],
   "source": [
    "features_df = features_df.loc[:, features_df.isin([np.nan, np.inf, -np.inf]).mean(axis=0) < 0.3]"
   ],
   "metadata": {
    "collapsed": false,
    "ExecuteTime": {
     "end_time": "2023-08-22T08:55:38.438053800Z",
     "start_time": "2023-08-22T08:55:38.276697300Z"
    }
   }
  },
  {
   "cell_type": "code",
   "execution_count": 10,
   "outputs": [
    {
     "data": {
      "text/plain": "onset_Sem_Fixations_In_RoI_Pre       0.270588\nonset_Fixations_First_In_RoI_Pre     0.270588\nonset_AUC_Fixations_In_RoI_Pre       0.270588\nDuration_Min_Fixations_In_RoI_Pre    0.270588\nonset_Min_Fixations_In_RoI_Pre       0.270588\nDuration_Max_Fixations_In_RoI_Pre    0.270588\nonset_Max_Fixations_In_RoI_Pre       0.270588\nonset_Std_Fixations_In_RoI_Pre       0.270588\nonset_Median_Fixations_In_RoI_Pre    0.270588\nonset_Mean_Fixations_In_RoI_Pre      0.270588\ndtype: float64"
     },
     "execution_count": 10,
     "metadata": {},
     "output_type": "execute_result"
    }
   ],
   "source": [
    "features_df.isin([np.nan, np.inf, -np.inf]).mean(axis=0).sort_values(ascending=False).head(10)"
   ],
   "metadata": {
    "collapsed": false,
    "ExecuteTime": {
     "end_time": "2023-08-22T08:55:38.439050700Z",
     "start_time": "2023-08-22T08:55:38.294180700Z"
    }
   }
  },
  {
   "cell_type": "markdown",
   "source": [
    "how many missing values / inf values are there in each row? show the top 10"
   ],
   "metadata": {
    "collapsed": false
   }
  },
  {
   "cell_type": "code",
   "execution_count": 11,
   "outputs": [
    {
     "data": {
      "text/plain": "55      0.983051\n1893    0.983051\n1925    0.983051\n1783    0.983051\n415     0.711864\n1189    0.711864\n1160    0.508475\n1031    0.508475\n459     0.474576\n1698    0.474576\ndtype: float64"
     },
     "execution_count": 11,
     "metadata": {},
     "output_type": "execute_result"
    }
   ],
   "source": [
    "features_df.isin([np.nan, np.inf, -np.inf]).mean(axis=1).sort_values(ascending=False).head(10)"
   ],
   "metadata": {
    "collapsed": false,
    "ExecuteTime": {
     "end_time": "2023-08-22T08:55:38.509511400Z",
     "start_time": "2023-08-22T08:55:38.308664100Z"
    }
   }
  },
  {
   "cell_type": "markdown",
   "source": [
    "Remove rows with more than 50% missing values"
   ],
   "metadata": {
    "collapsed": false
   }
  },
  {
   "cell_type": "code",
   "execution_count": 12,
   "outputs": [],
   "source": [
    "features_df = features_df.loc[features_df.isin([np.nan, np.inf, -np.inf]).mean(axis=1) < 0.5]\n",
    "# remove the corresponding rows from y_train\n",
    "labels_df = labels_df.loc[labels_df.index.isin(features_df.index)]"
   ],
   "metadata": {
    "collapsed": false,
    "ExecuteTime": {
     "end_time": "2023-08-22T08:55:38.510509900Z",
     "start_time": "2023-08-22T08:55:38.322974900Z"
    }
   }
  },
  {
   "cell_type": "code",
   "execution_count": 13,
   "outputs": [
    {
     "data": {
      "text/plain": "1180    0.474576\n859     0.474576\n344     0.474576\n1306    0.474576\n596     0.474576\n1304    0.474576\n868     0.474576\n339     0.474576\n338     0.474576\n866     0.474576\ndtype: float64"
     },
     "execution_count": 13,
     "metadata": {},
     "output_type": "execute_result"
    }
   ],
   "source": [
    "features_df.isin([np.nan, np.inf, -np.inf]).mean(axis=1).sort_values(ascending=False).head(10)\n"
   ],
   "metadata": {
    "collapsed": false,
    "ExecuteTime": {
     "end_time": "2023-08-22T08:55:38.524659200Z",
     "start_time": "2023-08-22T08:55:38.340116800Z"
    }
   }
  },
  {
   "cell_type": "markdown",
   "source": [
    "Train/Test Split (before any preprocessing is done)"
   ],
   "metadata": {
    "collapsed": false
   }
  },
  {
   "cell_type": "code",
   "execution_count": 14,
   "outputs": [
    {
     "name": "stdout",
     "output_type": "stream",
     "text": [
      "['AI09' 'AJ31' 'AM45' 'AS20' 'BB30' 'BG97' 'BH27' 'BO03' 'CR06' 'DK47'\n",
      " 'FY25' 'GE44' 'GN10' 'HB81' 'HM02' 'HR58' 'KL89' 'KM28' 'KR13' 'MA40'\n",
      " 'MN01' 'MN37' 'NN81' 'NY90' 'PM15' 'PS08' 'RN85' 'RS30' 'RY20' 'SM28'\n",
      " 'TA01' 'WE10']\n",
      "['ZN05' 'ZW57']\n"
     ]
    }
   ],
   "source": [
    "# Excluding for comparison- BB13, DK47\n",
    "series_id_df = pd.read_pickle(os.path.join(config.classification_resource_dir, \"norm_mem_series_id_df.pkl\"))\n",
    "\n",
    "# Create a list of unique subject IDs\n",
    "subject_ids = series_id_df[config.SUBJECT].unique()\n",
    "\n",
    "# Shuffle the list of subject IDs randomly with seed 1\n",
    "# np.random.seed(1)\n",
    "# np.random.shuffle(subject_ids)\n",
    "\n",
    "# Order the list of subject IDs alphabetically\n",
    "subject_ids = np.sort(subject_ids)\n",
    "\n",
    "# Split the list of subject IDs into two parts\n",
    "train_subject_ids = subject_ids[:int(len(subject_ids)*0.95)]\n",
    "print(train_subject_ids)\n",
    "test_subject_ids = subject_ids[int(len(subject_ids)*0.95):]\n",
    "print(test_subject_ids)\n",
    "\n",
    "# Subset the data based on the split list of subject IDs\n",
    "train_data = series_id_df[series_id_df[config.SUBJECT].isin(train_subject_ids)]\n",
    "test_data = series_id_df[series_id_df[config.SUBJECT].isin(test_subject_ids)]\n",
    "\n",
    "X_train = features_df[features_df.index.isin(train_data.index)]\n",
    "X_test = features_df[features_df.index.isin(test_data.index)]\n",
    "y_train = labels_df[labels_df.index.isin(train_data.index)]\n",
    "y_test = labels_df[labels_df.index.isin(test_data.index)]"
   ],
   "metadata": {
    "collapsed": false,
    "ExecuteTime": {
     "end_time": "2023-08-22T08:55:38.529646Z",
     "start_time": "2023-08-22T08:55:38.355092400Z"
    }
   }
  },
  {
   "cell_type": "markdown",
   "source": [],
   "metadata": {
    "collapsed": false
   }
  },
  {
   "cell_type": "code",
   "execution_count": 15,
   "outputs": [],
   "source": [
    "# from sklearn.model_selection import train_test_split\n",
    "#\n",
    "# X_train, X_test, y_train, y_test = train_test_split(features_df,\n",
    "#                                                     labels_df['mem'],\n",
    "#                                                     random_state=420,\n",
    "#                                                     test_size=0.2)"
   ],
   "metadata": {
    "collapsed": false,
    "ExecuteTime": {
     "end_time": "2023-08-22T08:55:38.529646Z",
     "start_time": "2023-08-22T08:55:38.370582400Z"
    }
   }
  },
  {
   "cell_type": "code",
   "execution_count": 16,
   "outputs": [
    {
     "data": {
      "text/plain": "   Movie  Gaze_Counts_In_RoI_Pre  Gaze_Counts_Out_RoI_Pre  \\\n0     35                8.937330                -4.762770   \n1     37                9.895988                -4.653699   \n2     24                0.000000                -0.381749   \n3     56                0.000000                 5.580803   \n4     19                0.683507                 0.218142   \n\n   Gaze_In_out_RoI_Ratio_Pre  Gaze_Re_Entries_To_RoI_Count_Pre  \\\n0                   2.538341                          0.000000   \n1                   3.004493                         -4.545455   \n2                   0.000000                          0.000000   \n3                   0.000000                          0.000000   \n4                   0.138565                         13.636364   \n\n   Gaze_Re_Entries_To_RoI_Rate_Pre  Fixations_Counts_In_RoI_Pre  \\\n0                         0.000000                    13.333333   \n1                        -4.566460                     4.761905   \n2                         0.000000                     0.000000   \n3                         0.000000                     0.000000   \n4                        13.794626                     0.000000   \n\n   Fixations_Counts_Out_RoI_Pre  Fixations_In_out_RoI_Ratio_Pre  \\\n0                     -9.090909                        3.933566   \n1                     -2.222222                        1.698302   \n2                      8.888889                        0.000000   \n3                     -2.222222                        0.000000   \n4                     -2.222222                        0.043290   \n\n   Fixations_Re_Entries_To_RoI_Count_Pre  ...  DVA_Min_Gaze_Pre  \\\n0                              14.285714  ...          1.309765   \n1                               0.000000  ...         -0.877868   \n2                               0.000000  ...        -36.395763   \n3                               0.000000  ...          1.457714   \n4                               0.000000  ...         -1.665887   \n\n   DVA_Sem_Gaze_Pre  DVA_AUC_Gaze_Pre  DVA_Mean_Fixations_Pre  \\\n0         10.279088        -14.176672              -19.721653   \n1          6.086491          0.268451                2.169787   \n2         -2.802580         12.923560                9.205766   \n3          6.666489          0.261014               -0.954066   \n4          4.361691          3.270751                2.661907   \n\n   DVA_Median_Fixations_Pre  DVA_Std_Fixations_Pre  DVA_Max_Fixations_Pre  \\\n0                -31.733400              15.995702              -0.180805   \n1                 10.743866               7.255331              16.895147   \n2                 17.757868              -9.350843               0.624062   \n3                 -2.668161             -19.692673               4.126229   \n4                  6.803244               2.744960              -2.173159   \n\n   DVA_Min_Fixations_Pre  DVA_Sem_Fixations_Pre  DVA_AUC_Fixations_Pre  \n0               2.613137               7.635024             -19.176023  \n1              -0.464304               4.377075               1.180890  \n2               0.094872             -21.961715               9.653264  \n3              31.312765             -14.002873              -2.052699  \n4               0.784746               1.902217               0.664412  \n\n[5 rows x 59 columns]",
      "text/html": "<div>\n<style scoped>\n    .dataframe tbody tr th:only-of-type {\n        vertical-align: middle;\n    }\n\n    .dataframe tbody tr th {\n        vertical-align: top;\n    }\n\n    .dataframe thead th {\n        text-align: right;\n    }\n</style>\n<table border=\"1\" class=\"dataframe\">\n  <thead>\n    <tr style=\"text-align: right;\">\n      <th></th>\n      <th>Movie</th>\n      <th>Gaze_Counts_In_RoI_Pre</th>\n      <th>Gaze_Counts_Out_RoI_Pre</th>\n      <th>Gaze_In_out_RoI_Ratio_Pre</th>\n      <th>Gaze_Re_Entries_To_RoI_Count_Pre</th>\n      <th>Gaze_Re_Entries_To_RoI_Rate_Pre</th>\n      <th>Fixations_Counts_In_RoI_Pre</th>\n      <th>Fixations_Counts_Out_RoI_Pre</th>\n      <th>Fixations_In_out_RoI_Ratio_Pre</th>\n      <th>Fixations_Re_Entries_To_RoI_Count_Pre</th>\n      <th>...</th>\n      <th>DVA_Min_Gaze_Pre</th>\n      <th>DVA_Sem_Gaze_Pre</th>\n      <th>DVA_AUC_Gaze_Pre</th>\n      <th>DVA_Mean_Fixations_Pre</th>\n      <th>DVA_Median_Fixations_Pre</th>\n      <th>DVA_Std_Fixations_Pre</th>\n      <th>DVA_Max_Fixations_Pre</th>\n      <th>DVA_Min_Fixations_Pre</th>\n      <th>DVA_Sem_Fixations_Pre</th>\n      <th>DVA_AUC_Fixations_Pre</th>\n    </tr>\n  </thead>\n  <tbody>\n    <tr>\n      <th>0</th>\n      <td>35</td>\n      <td>8.937330</td>\n      <td>-4.762770</td>\n      <td>2.538341</td>\n      <td>0.000000</td>\n      <td>0.000000</td>\n      <td>13.333333</td>\n      <td>-9.090909</td>\n      <td>3.933566</td>\n      <td>14.285714</td>\n      <td>...</td>\n      <td>1.309765</td>\n      <td>10.279088</td>\n      <td>-14.176672</td>\n      <td>-19.721653</td>\n      <td>-31.733400</td>\n      <td>15.995702</td>\n      <td>-0.180805</td>\n      <td>2.613137</td>\n      <td>7.635024</td>\n      <td>-19.176023</td>\n    </tr>\n    <tr>\n      <th>1</th>\n      <td>37</td>\n      <td>9.895988</td>\n      <td>-4.653699</td>\n      <td>3.004493</td>\n      <td>-4.545455</td>\n      <td>-4.566460</td>\n      <td>4.761905</td>\n      <td>-2.222222</td>\n      <td>1.698302</td>\n      <td>0.000000</td>\n      <td>...</td>\n      <td>-0.877868</td>\n      <td>6.086491</td>\n      <td>0.268451</td>\n      <td>2.169787</td>\n      <td>10.743866</td>\n      <td>7.255331</td>\n      <td>16.895147</td>\n      <td>-0.464304</td>\n      <td>4.377075</td>\n      <td>1.180890</td>\n    </tr>\n    <tr>\n      <th>2</th>\n      <td>24</td>\n      <td>0.000000</td>\n      <td>-0.381749</td>\n      <td>0.000000</td>\n      <td>0.000000</td>\n      <td>0.000000</td>\n      <td>0.000000</td>\n      <td>8.888889</td>\n      <td>0.000000</td>\n      <td>0.000000</td>\n      <td>...</td>\n      <td>-36.395763</td>\n      <td>-2.802580</td>\n      <td>12.923560</td>\n      <td>9.205766</td>\n      <td>17.757868</td>\n      <td>-9.350843</td>\n      <td>0.624062</td>\n      <td>0.094872</td>\n      <td>-21.961715</td>\n      <td>9.653264</td>\n    </tr>\n    <tr>\n      <th>3</th>\n      <td>56</td>\n      <td>0.000000</td>\n      <td>5.580803</td>\n      <td>0.000000</td>\n      <td>0.000000</td>\n      <td>0.000000</td>\n      <td>0.000000</td>\n      <td>-2.222222</td>\n      <td>0.000000</td>\n      <td>0.000000</td>\n      <td>...</td>\n      <td>1.457714</td>\n      <td>6.666489</td>\n      <td>0.261014</td>\n      <td>-0.954066</td>\n      <td>-2.668161</td>\n      <td>-19.692673</td>\n      <td>4.126229</td>\n      <td>31.312765</td>\n      <td>-14.002873</td>\n      <td>-2.052699</td>\n    </tr>\n    <tr>\n      <th>4</th>\n      <td>19</td>\n      <td>0.683507</td>\n      <td>0.218142</td>\n      <td>0.138565</td>\n      <td>13.636364</td>\n      <td>13.794626</td>\n      <td>0.000000</td>\n      <td>-2.222222</td>\n      <td>0.043290</td>\n      <td>0.000000</td>\n      <td>...</td>\n      <td>-1.665887</td>\n      <td>4.361691</td>\n      <td>3.270751</td>\n      <td>2.661907</td>\n      <td>6.803244</td>\n      <td>2.744960</td>\n      <td>-2.173159</td>\n      <td>0.784746</td>\n      <td>1.902217</td>\n      <td>0.664412</td>\n    </tr>\n  </tbody>\n</table>\n<p>5 rows × 59 columns</p>\n</div>"
     },
     "execution_count": 16,
     "metadata": {},
     "output_type": "execute_result"
    }
   ],
   "source": [
    "X_train.head()"
   ],
   "metadata": {
    "collapsed": false,
    "ExecuteTime": {
     "end_time": "2023-08-22T08:55:38.556096500Z",
     "start_time": "2023-08-22T08:55:38.394571200Z"
    }
   }
  },
  {
   "cell_type": "code",
   "execution_count": 17,
   "outputs": [
    {
     "data": {
      "text/plain": "           mem\nseries_id     \n0          1.0\n1          1.0\n2          1.0\n3          1.0\n4          1.0\n...        ...\n2033       1.0\n2034       1.0\n2037       1.0\n2038       1.0\n2039       1.0\n\n[1917 rows x 1 columns]",
      "text/html": "<div>\n<style scoped>\n    .dataframe tbody tr th:only-of-type {\n        vertical-align: middle;\n    }\n\n    .dataframe tbody tr th {\n        vertical-align: top;\n    }\n\n    .dataframe thead th {\n        text-align: right;\n    }\n</style>\n<table border=\"1\" class=\"dataframe\">\n  <thead>\n    <tr style=\"text-align: right;\">\n      <th></th>\n      <th>mem</th>\n    </tr>\n    <tr>\n      <th>series_id</th>\n      <th></th>\n    </tr>\n  </thead>\n  <tbody>\n    <tr>\n      <th>0</th>\n      <td>1.0</td>\n    </tr>\n    <tr>\n      <th>1</th>\n      <td>1.0</td>\n    </tr>\n    <tr>\n      <th>2</th>\n      <td>1.0</td>\n    </tr>\n    <tr>\n      <th>3</th>\n      <td>1.0</td>\n    </tr>\n    <tr>\n      <th>4</th>\n      <td>1.0</td>\n    </tr>\n    <tr>\n      <th>...</th>\n      <td>...</td>\n    </tr>\n    <tr>\n      <th>2033</th>\n      <td>1.0</td>\n    </tr>\n    <tr>\n      <th>2034</th>\n      <td>1.0</td>\n    </tr>\n    <tr>\n      <th>2037</th>\n      <td>1.0</td>\n    </tr>\n    <tr>\n      <th>2038</th>\n      <td>1.0</td>\n    </tr>\n    <tr>\n      <th>2039</th>\n      <td>1.0</td>\n    </tr>\n  </tbody>\n</table>\n<p>1917 rows × 1 columns</p>\n</div>"
     },
     "execution_count": 17,
     "metadata": {},
     "output_type": "execute_result"
    }
   ],
   "source": [
    "y_train"
   ],
   "metadata": {
    "collapsed": false,
    "ExecuteTime": {
     "end_time": "2023-08-22T08:55:38.557093Z",
     "start_time": "2023-08-22T08:55:38.403614300Z"
    }
   }
  },
  {
   "cell_type": "markdown",
   "source": [
    "Fill missing values with the mean of the column"
   ],
   "metadata": {
    "collapsed": false
   }
  },
  {
   "cell_type": "code",
   "execution_count": 18,
   "outputs": [],
   "source": [
    "# fill inf values with the mean of the column\n",
    "X_train = X_train.replace([np.inf, -np.inf], np.nan)\n",
    "X_test = X_test.replace([np.inf, -np.inf], np.nan)\n",
    "\n",
    "X_train = X_train.fillna(X_train.mean()) # fill missing values with the mean of the column or zero ? features_df.mean()\n",
    "X_test = X_test.fillna(X_train.mean())"
   ],
   "metadata": {
    "collapsed": false,
    "ExecuteTime": {
     "end_time": "2023-08-22T08:55:38.616237600Z",
     "start_time": "2023-08-22T08:55:38.419586900Z"
    }
   }
  },
  {
   "cell_type": "markdown",
   "source": [
    "Remove columns with low variance (threshold = 5%)"
   ],
   "metadata": {
    "collapsed": false
   }
  },
  {
   "cell_type": "code",
   "execution_count": 19,
   "outputs": [
    {
     "name": "stdout",
     "output_type": "stream",
     "text": [
      "['DVA_AUC_Fixations_Pre']\n"
     ]
    }
   ],
   "source": [
    "from sklearn.feature_selection import VarianceThreshold\n",
    "\n",
    "# Get the indices of the non-numerical columns\n",
    "non_numeric_columns_idx = [X_train.columns.get_loc(col) for col in X_train.select_dtypes(exclude=['float64', 'int64']).columns]\n",
    "\n",
    "# Create VarianceThreshold object with a variance with a threshold of 0.05\n",
    "thresholder = VarianceThreshold(threshold=0.05)\n",
    "\n",
    "# Fit the thresholder to the data\n",
    "thresholder.fit(X_train.select_dtypes(include=['float64', 'int64']))\n",
    "\n",
    "# Get the indices of the columns that are retained\n",
    "feature_idx = thresholder.get_support(indices=True)\n",
    "\n",
    "# Create a list of the names of the retained columns, and the non-numerical columns\n",
    "feature_idx = list(feature_idx) + list(non_numeric_columns_idx)\n",
    "feature_names = X_train.columns[feature_idx]\n",
    "\n",
    "# Print the names of the dropped columns\n",
    "dropped_columns = list(set(X_train.columns) - set(feature_names))\n",
    "print(dropped_columns)\n",
    "\n",
    "# Subset the dataframe to include only the selected columns\n",
    "X_train = X_train[feature_names]\n",
    "X_test = X_test[feature_names]"
   ],
   "metadata": {
    "collapsed": false,
    "ExecuteTime": {
     "end_time": "2023-08-22T08:55:38.617193400Z",
     "start_time": "2023-08-22T08:55:38.451023700Z"
    }
   }
  },
  {
   "cell_type": "markdown",
   "source": [
    "Remove highly correlated features"
   ],
   "metadata": {
    "collapsed": false
   }
  },
  {
   "cell_type": "code",
   "execution_count": 20,
   "outputs": [],
   "source": [
    "# Create correlation matrix\n",
    "corr_matrix = X_train.corr().abs()\n",
    "\n",
    "# Select upper triangle of correlation matrix\n",
    "upper = corr_matrix.where(np.triu(np.ones(corr_matrix.shape), k=1).astype(np.bool_))\n",
    "\n",
    "# Find index of feature columns with correlation greater than 0.95\n",
    "to_drop = [column for column in upper.columns if any(upper[column] > 0.95)]\n",
    "\n",
    "# Drop features\n",
    "X_train.drop(to_drop, axis=1, inplace=True)\n",
    "X_test.drop(to_drop, axis=1, inplace=True)"
   ],
   "metadata": {
    "collapsed": false,
    "ExecuteTime": {
     "end_time": "2023-08-22T08:55:38.641720400Z",
     "start_time": "2023-08-22T08:55:38.484512200Z"
    }
   }
  },
  {
   "cell_type": "markdown",
   "source": [
    "How many features are left?"
   ],
   "metadata": {
    "collapsed": false
   }
  },
  {
   "cell_type": "code",
   "execution_count": 21,
   "outputs": [
    {
     "data": {
      "text/plain": "(1917, 44)"
     },
     "execution_count": 21,
     "metadata": {},
     "output_type": "execute_result"
    }
   ],
   "source": [
    "X_train.shape"
   ],
   "metadata": {
    "collapsed": false,
    "ExecuteTime": {
     "end_time": "2023-08-22T08:55:38.734072300Z",
     "start_time": "2023-08-22T08:55:38.526655100Z"
    }
   }
  },
  {
   "cell_type": "markdown",
   "source": [
    "Balancing the dataset"
   ],
   "metadata": {
    "collapsed": false
   }
  },
  {
   "cell_type": "code",
   "execution_count": 22,
   "outputs": [
    {
     "data": {
      "text/plain": "mem\n1.0    1427\n0.0     490\ndtype: int64"
     },
     "execution_count": 22,
     "metadata": {},
     "output_type": "execute_result"
    }
   ],
   "source": [
    "y_train.value_counts()"
   ],
   "metadata": {
    "collapsed": false,
    "ExecuteTime": {
     "end_time": "2023-08-22T08:55:38.735073300Z",
     "start_time": "2023-08-22T08:55:38.543611100Z"
    }
   }
  },
  {
   "cell_type": "markdown",
   "source": [
    "SMOTE"
   ],
   "metadata": {
    "collapsed": false
   }
  },
  {
   "cell_type": "code",
   "execution_count": 23,
   "outputs": [],
   "source": [
    "# from imblearn.over_sampling import SMOTE\n",
    "#\n",
    "# sm = SMOTE(random_state=420)\n",
    "# X_train, y_train = sm.fit_resample(X_train, y_train)"
   ],
   "metadata": {
    "collapsed": false,
    "ExecuteTime": {
     "end_time": "2023-08-22T08:55:38.739066900Z",
     "start_time": "2023-08-22T08:55:38.557093Z"
    }
   }
  },
  {
   "cell_type": "markdown",
   "source": [
    "Random Oversampling"
   ],
   "metadata": {
    "collapsed": false
   }
  },
  {
   "cell_type": "code",
   "execution_count": 24,
   "outputs": [],
   "source": [
    "from imblearn.over_sampling import RandomOverSampler\n",
    "\n",
    "ros = RandomOverSampler(random_state=420)\n",
    "X_train, y_train = ros.fit_resample(X_train, y_train)"
   ],
   "metadata": {
    "collapsed": false,
    "ExecuteTime": {
     "end_time": "2023-08-22T08:55:38.834761100Z",
     "start_time": "2023-08-22T08:55:38.572055900Z"
    }
   }
  },
  {
   "cell_type": "code",
   "execution_count": 25,
   "outputs": [
    {
     "data": {
      "text/plain": "mem\n0.0    1427\n1.0    1427\ndtype: int64"
     },
     "execution_count": 25,
     "metadata": {},
     "output_type": "execute_result"
    }
   ],
   "source": [
    "y_train.value_counts()"
   ],
   "metadata": {
    "collapsed": false,
    "ExecuteTime": {
     "end_time": "2023-08-22T08:55:38.897087200Z",
     "start_time": "2023-08-22T08:55:38.680128100Z"
    }
   }
  },
  {
   "cell_type": "markdown",
   "source": [
    "Scaling"
   ],
   "metadata": {
    "collapsed": false
   }
  },
  {
   "cell_type": "code",
   "execution_count": 26,
   "outputs": [],
   "source": [
    "from sklearn.preprocessing import StandardScaler\n",
    "\n",
    "# Create separate StandardScaler instances\n",
    "scaler_x = StandardScaler()\n",
    "# scaler_y = StandardScaler()\n",
    "\n",
    "# Fit on Training Data (!)\n",
    "scaler_x.fit(X_train.values)\n",
    "# scaler_y.fit(y_train.values.reshape(-1, 1))\n",
    "\n",
    "# Transform both training and testing data\n",
    "X_train_scaled = scaler_x.transform(X_train.values)\n",
    "X_test_scaled = scaler_x.transform(X_test.values)\n",
    "y_train = y_train.values.reshape(-1, 1).flatten()\n",
    "y_test = y_test.values.reshape(-1, 1).flatten()\n",
    "\n",
    "X_train_scaled = pd.DataFrame(X_train_scaled, columns=X_train.columns)\n",
    "X_test_scaled = pd.DataFrame(X_test_scaled, columns=X_test.columns)"
   ],
   "metadata": {
    "collapsed": false,
    "ExecuteTime": {
     "end_time": "2023-08-22T08:55:38.898595700Z",
     "start_time": "2023-08-22T08:55:38.696636700Z"
    }
   }
  },
  {
   "cell_type": "markdown",
   "source": [
    "PCA"
   ],
   "metadata": {
    "collapsed": false
   }
  },
  {
   "cell_type": "code",
   "execution_count": 27,
   "outputs": [
    {
     "data": {
      "text/plain": "<Figure size 432x288 with 1 Axes>",
      "image/png": "[encoded data removed]"
     },
     "metadata": {},
     "output_type": "display_data"
    }
   ],
   "source": [
    "pca = PCA(n_components=0.95).fit(X_train_scaled)\n",
    "plt.plot(np.cumsum(pca.explained_variance_ratio_))\n",
    "plt.xlabel('number of components')\n",
    "plt.ylabel('cumulative explained variance');"
   ],
   "metadata": {
    "collapsed": false,
    "ExecuteTime": {
     "end_time": "2023-08-22T08:55:39.084891500Z",
     "start_time": "2023-08-22T08:55:38.713118200Z"
    }
   }
  },
  {
   "cell_type": "code",
   "execution_count": 28,
   "outputs": [],
   "source": [
    "X_train_pca = pca.transform(X_train_scaled)\n",
    "X_test_pca = pca.transform(X_test_scaled)"
   ],
   "metadata": {
    "collapsed": false,
    "ExecuteTime": {
     "end_time": "2023-08-22T08:55:39.097371700Z",
     "start_time": "2023-08-22T08:55:38.855235200Z"
    }
   }
  },
  {
   "cell_type": "code",
   "execution_count": 29,
   "outputs": [
    {
     "data": {
      "text/plain": "array([[ 2.60078807,  2.58593471, -0.8135273 , ..., -0.51550211,\n        -0.10147793,  0.28006346],\n       [-2.34364999,  0.20206744, -1.11075793, ...,  0.69026856,\n         0.84154361,  0.68660586],\n       [-2.63681109, -1.44796161,  0.65799659, ..., -0.05731772,\n         0.00755681,  0.29880666],\n       ...,\n       [-0.83078548, -0.69036913,  0.18536973, ...,  0.03599871,\n         0.03344567, -0.07002175],\n       [-1.82766828, -0.07463331,  0.74919504, ...,  0.37476601,\n         0.29264805, -0.23799387],\n       [ 1.67958579, -0.0165918 , -2.28174028, ...,  0.33489194,\n         0.24574871, -0.22565665]])"
     },
     "execution_count": 29,
     "metadata": {},
     "output_type": "execute_result"
    }
   ],
   "source": [
    "X_train_pca"
   ],
   "metadata": {
    "collapsed": false,
    "ExecuteTime": {
     "end_time": "2023-08-22T08:55:39.101362700Z",
     "start_time": "2023-08-22T08:55:38.870518400Z"
    }
   }
  },
  {
   "cell_type": "markdown",
   "source": [
    "LDA"
   ],
   "metadata": {
    "collapsed": false
   }
  },
  {
   "cell_type": "markdown",
   "source": [],
   "metadata": {
    "collapsed": false
   }
  },
  {
   "cell_type": "code",
   "execution_count": 30,
   "outputs": [],
   "source": [
    "from sklearn.discriminant_analysis import LinearDiscriminantAnalysis\n",
    "\n",
    "lda = LinearDiscriminantAnalysis(n_components=1)\n",
    "X_train_lda = lda.fit_transform(X_train_scaled, y_train)\n",
    "X_test_lda = lda.transform(X_test_scaled)"
   ],
   "metadata": {
    "collapsed": false,
    "ExecuteTime": {
     "end_time": "2023-08-22T08:55:39.130371600Z",
     "start_time": "2023-08-22T08:55:38.885997700Z"
    }
   }
  },
  {
   "cell_type": "code",
   "execution_count": 31,
   "outputs": [
    {
     "data": {
      "text/plain": "<Figure size 432x288 with 1 Axes>",
      "image/png": "[encoded data removed]"
     },
     "metadata": {},
     "output_type": "display_data"
    }
   ],
   "source": [
    "# Create a scatter plot of the transformed data\n",
    "plt.scatter(X_train_lda, np.zeros(len(X_train_lda)), c=y_train, cmap='rainbow', alpha=0.7, edgecolors='b')\n",
    "plt.xlabel('LD1')\n",
    "plt.title('LDA Scatter Plot')\n",
    "plt.show()"
   ],
   "metadata": {
    "collapsed": false,
    "ExecuteTime": {
     "end_time": "2023-08-22T08:55:39.178240800Z",
     "start_time": "2023-08-22T08:55:38.944992600Z"
    }
   }
  },
  {
   "cell_type": "code",
   "execution_count": 32,
   "outputs": [],
   "source": [
    "X_train_preprocessed = X_train_scaled\n",
    "X_test_preprocessed = X_test_scaled"
   ],
   "metadata": {
    "collapsed": false,
    "ExecuteTime": {
     "end_time": "2023-08-22T08:55:39.255381800Z",
     "start_time": "2023-08-22T08:55:39.101362700Z"
    }
   }
  },
  {
   "cell_type": "markdown",
   "source": [
    "Classification models"
   ],
   "metadata": {
    "collapsed": false
   }
  },
  {
   "cell_type": "code",
   "execution_count": 33,
   "outputs": [],
   "source": [
    "from sklearn.metrics import accuracy_score, precision_score, recall_score, f1_score, roc_auc_score\n",
    "from sklearn.metrics import confusion_matrix\n",
    "import seaborn as sns\n",
    "\n",
    "def evaluate_model(model_name, y_true, y_pred):\n",
    "    # Evaluate the model using various metrics\n",
    "    accuracy = accuracy_score(y_test, y_pred)\n",
    "    precision = precision_score(y_test, y_pred)\n",
    "    recall = recall_score(y_test, y_pred)\n",
    "    f1 = f1_score(y_test, y_pred)\n",
    "    roc_auc = roc_auc_score(y_test, y_pred)\n",
    "\n",
    "    print(model_name)\n",
    "    # Print the evaluation metrics\n",
    "    print(\"Accuracy:\", round(accuracy, 2))\n",
    "    print(\"Precision:\", round(precision, 2))\n",
    "    print(\"Recall:\", round(recall, 2))\n",
    "    print(\"F1-score:\", round(f1, 2))\n",
    "    print(\"ROC-AUC score:\", round(roc_auc, 2))\n",
    "\n",
    "    # Compute the confusion matrix\n",
    "    confusion_mat = confusion_matrix(y_true, y_pred)\n",
    "\n",
    "    # Create a heatmap visualization of the confusion matrix\n",
    "    fig, ax = plt.subplots(figsize=(8, 8))\n",
    "    sns.heatmap(confusion_mat, annot=True, cmap=\"Blues\", fmt=\"d\", ax=ax)\n",
    "\n",
    "    # Set the axis labels and title\n",
    "    ax.set_xlabel(\"Predicted Labels\")\n",
    "    ax.set_ylabel(\"True Labels\")\n",
    "    ax.set_title(\"Confusion Matrix\")\n",
    "\n",
    "    # Show the plot\n",
    "    plt.show()"
   ],
   "metadata": {
    "collapsed": false,
    "ExecuteTime": {
     "end_time": "2023-08-22T08:55:39.265831500Z",
     "start_time": "2023-08-22T08:55:39.118400800Z"
    }
   }
  },
  {
   "cell_type": "code",
   "execution_count": 34,
   "outputs": [],
   "source": [
    "from sklearn.model_selection import GridSearchCV"
   ],
   "metadata": {
    "collapsed": false,
    "ExecuteTime": {
     "end_time": "2023-08-22T08:55:39.265831500Z",
     "start_time": "2023-08-22T08:55:39.133362700Z"
    }
   }
  },
  {
   "cell_type": "markdown",
   "source": [
    "Logistic Regression model"
   ],
   "metadata": {
    "collapsed": false
   }
  },
  {
   "cell_type": "code",
   "execution_count": 35,
   "outputs": [],
   "source": [
    "# from sklearn.linear_model import LogisticRegression\n",
    "# \n",
    "# # Define the range of values for each hyperparameter\n",
    "# C = np.linspace(0.01, 1, 15)\n",
    "# PENALTY = ['l1', 'l2']\n",
    "# SOLVER = ['liblinear', 'saga']\n",
    "# \n",
    "# PARAM_GRID  = {\n",
    "#     'C': C,\n",
    "#     'penalty': PENALTY,\n",
    "#     'solver': SOLVER\n",
    "# }\n",
    "# \n",
    "# # Create the logistic regression estimator\n",
    "# estimator = LogisticRegression(random_state=420)\n",
    "# \n",
    "# # Use grid search and cross-validation to tune the hyper parameters\n",
    "# model_searcher = GridSearchCV(estimator, PARAM_GRID, verbose=0)\n",
    "# model_searcher.fit(X_train_preprocessed, y_train)\n",
    "# \n",
    "# # The best combination of hyperparameters\n",
    "# model_searcher.best_params_"
   ],
   "metadata": {
    "collapsed": false,
    "ExecuteTime": {
     "end_time": "2023-08-22T08:55:39.301435400Z",
     "start_time": "2023-08-22T08:55:39.147345600Z"
    }
   }
  },
  {
   "cell_type": "code",
   "execution_count": 36,
   "outputs": [],
   "source": [
    "# # Get the best estimator\n",
    "# log_reg_best_estimator = model_searcher.best_estimator_\n",
    "# y_test_pred = log_reg_best_estimator.predict(X_test_preprocessed)\n",
    "# \n",
    "# evaluate_model(\"Logistic Regression (test data)\", y_test, y_test_pred) "
   ],
   "metadata": {
    "collapsed": false,
    "ExecuteTime": {
     "end_time": "2023-08-22T08:55:39.331953600Z",
     "start_time": "2023-08-22T08:55:39.164814900Z"
    }
   }
  },
  {
   "cell_type": "markdown",
   "source": [
    "Gradient Boosting model"
   ],
   "metadata": {
    "collapsed": false
   }
  },
  {
   "cell_type": "code",
   "execution_count": 37,
   "outputs": [
    {
     "data": {
      "text/plain": "{'learning_rate': 0.3911111111111111, 'max_depth': 4, 'n_estimators': 160}"
     },
     "execution_count": 37,
     "metadata": {},
     "output_type": "execute_result"
    }
   ],
   "source": [
    "from sklearn.ensemble import GradientBoostingClassifier\n",
    "\n",
    "# Define the range of values for each hyperparameter\n",
    "LEARNING_RATE = np.linspace(0.01, 0.5, 10)\n",
    "MAX_DEPTH = range(2, 5)\n",
    "N_ESTIMATORS = range(100, 180, 15)\n",
    "\n",
    "\n",
    "PARAM_GRID  = {\n",
    "    'learning_rate': LEARNING_RATE,\n",
    "    'max_depth': MAX_DEPTH,\n",
    "    'n_estimators': N_ESTIMATORS\n",
    "}\n",
    "\n",
    "# Create the gradient boosting estimator\n",
    "estimator = GradientBoostingClassifier(random_state=420)\n",
    "\n",
    "# Use grid search and cross-validation to tune the hyper parameters\n",
    "model_searcher = GridSearchCV(estimator, PARAM_GRID, verbose=0)\n",
    "model_searcher.fit(X_train_preprocessed, y_train)\n",
    "\n",
    "# The best combination of hyperparameters\n",
    "model_searcher.best_params_"
   ],
   "metadata": {
    "collapsed": false,
    "ExecuteTime": {
     "end_time": "2023-08-22T09:27:43.986981500Z",
     "start_time": "2023-08-22T08:55:39.183762600Z"
    }
   }
  },
  {
   "cell_type": "code",
   "execution_count": 38,
   "outputs": [
    {
     "name": "stdout",
     "output_type": "stream",
     "text": [
      "Gradient Boosting (test data)\n",
      "Accuracy: 0.64\n",
      "Precision: 0.72\n",
      "Recall: 0.83\n",
      "F1-score: 0.77\n",
      "ROC-AUC score: 0.48\n"
     ]
    },
    {
     "data": {
      "text/plain": "<Figure size 576x576 with 2 Axes>",
      "image/png": "[encoded data removed]"
     },
     "metadata": {},
     "output_type": "display_data"
    }
   ],
   "source": [
    "# Get the best estimator\n",
    "gb_best_estimator = model_searcher.best_estimator_\n",
    "y_test_pred = gb_best_estimator.predict(X_test_preprocessed)\n",
    "\n",
    "evaluate_model(\"Gradient Boosting (test data)\", y_test, y_test_pred)"
   ],
   "metadata": {
    "collapsed": false,
    "ExecuteTime": {
     "end_time": "2023-08-22T09:27:44.109349300Z",
     "start_time": "2023-08-22T09:27:43.983988600Z"
    }
   }
  },
  {
   "cell_type": "markdown",
   "source": [
    "Random Forest model"
   ],
   "metadata": {
    "collapsed": false
   }
  },
  {
   "cell_type": "code",
   "execution_count": 39,
   "outputs": [
    {
     "data": {
      "text/plain": "{'max_depth': 5,\n 'min_samples_leaf': 1,\n 'min_samples_split': 2,\n 'n_estimators': 110}"
     },
     "execution_count": 39,
     "metadata": {},
     "output_type": "execute_result"
    }
   ],
   "source": [
    "from sklearn.ensemble import RandomForestClassifier\n",
    "\n",
    "# Define the range of values for each hyperparameter\n",
    "N_ESTIMATORS = range(50, 140, 15)\n",
    "MAX_DEPTH = range(2, 6)\n",
    "MIN_SAMPLES_SPLIT = range(2, 4)\n",
    "MIN_SAMPLES_LEAF = range(1, 4)\n",
    "\n",
    "PARAM_GRID  = {\n",
    "    'n_estimators': N_ESTIMATORS,\n",
    "    'max_depth': MAX_DEPTH,\n",
    "    'min_samples_split': MIN_SAMPLES_SPLIT,\n",
    "    'min_samples_leaf': MIN_SAMPLES_LEAF\n",
    "}\n",
    "\n",
    "# Create the random forest estimator\n",
    "estimator = RandomForestClassifier(random_state=420)\n",
    "\n",
    "# Use grid search and cross-validation to tune the hyper parameters\n",
    "model_searcher = GridSearchCV(estimator, PARAM_GRID, verbose=0)\n",
    "model_searcher.fit(X_train_preprocessed, y_train)\n",
    "\n",
    "\n",
    "# The best combination of hyperparameters\n",
    "model_searcher.best_params_"
   ],
   "metadata": {
    "collapsed": false,
    "ExecuteTime": {
     "end_time": "2023-08-22T09:30:26.326040Z",
     "start_time": "2023-08-22T09:27:44.108346700Z"
    }
   }
  },
  {
   "cell_type": "code",
   "execution_count": 40,
   "outputs": [
    {
     "name": "stdout",
     "output_type": "stream",
     "text": [
      "Random Forest (test data)\n",
      "Accuracy: 0.6\n",
      "Precision: 0.74\n",
      "Recall: 0.69\n",
      "F1-score: 0.72\n",
      "ROC-AUC score: 0.52\n"
     ]
    },
    {
     "data": {
      "text/plain": "<Figure size 576x576 with 2 Axes>",
      "image/png": "[encoded data removed]"
     },
     "metadata": {},
     "output_type": "display_data"
    }
   ],
   "source": [
    "rf_best_estimator = model_searcher.best_estimator_\n",
    "y_test_pred = rf_best_estimator.predict(X_test_preprocessed)\n",
    "\n",
    "evaluate_model(\"Random Forest (test data)\", y_test, y_test_pred)"
   ],
   "metadata": {
    "collapsed": false,
    "ExecuteTime": {
     "end_time": "2023-08-22T09:30:26.427325800Z",
     "start_time": "2023-08-22T09:30:26.322049900Z"
    }
   }
  },
  {
   "cell_type": "markdown",
   "source": [
    "XGBoost model"
   ],
   "metadata": {
    "collapsed": false
   }
  },
  {
   "cell_type": "code",
   "execution_count": 41,
   "outputs": [
    {
     "data": {
      "text/plain": "{'learning_rate': 0.4, 'max_depth': 4, 'n_estimators': 145}"
     },
     "execution_count": 41,
     "metadata": {},
     "output_type": "execute_result"
    }
   ],
   "source": [
    "from xgboost import XGBClassifier\n",
    "\n",
    "# Define the range of values for each hyperparameter\n",
    "LEARNING_RATE = np.linspace(0.05, 0.5, 10)\n",
    "MAX_DEPTH = range(1, 5)\n",
    "N_ESTIMATORS = range(70, 150, 15)\n",
    "\n",
    "PARAM_GRID  = {\n",
    "    'learning_rate': LEARNING_RATE,\n",
    "    'max_depth': MAX_DEPTH,\n",
    "    'n_estimators': N_ESTIMATORS\n",
    "}\n",
    "\n",
    "# Define the ratio for scale_pos_weight\n",
    "ratio = float(np.sum(y_train == 0)) / np.sum(y_train == 1)\n",
    "\n",
    "# Create a XGBoost classifier with specific parameters\n",
    "estimator = XGBClassifier(objective='binary:logistic', scale_pos_weight=ratio)\n",
    "\n",
    "\n",
    "# Use grid search and cross-validation to tune the hyper parameters\n",
    "model_searcher = GridSearchCV(estimator, PARAM_GRID, verbose=0)\n",
    "model_searcher.fit(X_train_preprocessed, y_train)\n",
    "\n",
    "# The best combination of hyperparameters\n",
    "model_searcher.best_params_"
   ],
   "metadata": {
    "collapsed": false,
    "pycharm": {
     "is_executing": true
    },
    "ExecuteTime": {
     "end_time": "2023-08-22T09:32:42.709455600Z",
     "start_time": "2023-08-22T09:30:26.428322800Z"
    }
   }
  },
  {
   "cell_type": "markdown",
   "source": [
    "Evaluate the best model on the test data"
   ],
   "metadata": {
    "collapsed": false
   }
  },
  {
   "cell_type": "code",
   "execution_count": 42,
   "outputs": [
    {
     "name": "stdout",
     "output_type": "stream",
     "text": [
      "XGBoost (test data)\n",
      "Accuracy: 0.63\n",
      "Precision: 0.72\n",
      "Recall: 0.8\n",
      "F1-score: 0.76\n",
      "ROC-AUC score: 0.48\n"
     ]
    },
    {
     "data": {
      "text/plain": "<Figure size 576x576 with 2 Axes>",
      "image/png": "[encoded data removed]"
     },
     "metadata": {},
     "output_type": "display_data"
    }
   ],
   "source": [
    "xgb_best_estimator = model_searcher.best_estimator_\n",
    "y_test_pred = xgb_best_estimator.predict(X_test_preprocessed)\n",
    "\n",
    "evaluate_model(\"XGBoost (test data)\", y_test, y_test_pred)"
   ],
   "metadata": {
    "collapsed": false,
    "pycharm": {
     "is_executing": true
    },
    "ExecuteTime": {
     "end_time": "2023-08-22T09:32:42.859564500Z",
     "start_time": "2023-08-22T09:32:42.705465700Z"
    }
   }
  },
  {
   "cell_type": "markdown",
   "source": [
    "TabNetClassifier with automatic hyperparameters tuning"
   ],
   "metadata": {
    "collapsed": false
   }
  },
  {
   "cell_type": "code",
   "execution_count": 43,
   "outputs": [
    {
     "name": "stdout",
     "output_type": "stream",
     "text": [
      "Requirement already satisfied: pytorch-tabnet in c:\\users\\user\\anaconda3\\lib\\site-packages (4.0)\n",
      "Requirement already satisfied: torch<2.0,>=1.2 in c:\\users\\user\\anaconda3\\lib\\site-packages (from pytorch-tabnet) (1.13.1)\n",
      "Requirement already satisfied: tqdm<5.0,>=4.36 in c:\\users\\user\\anaconda3\\lib\\site-packages (from pytorch-tabnet) (4.62.3)\n",
      "Requirement already satisfied: scikit_learn>0.21 in c:\\users\\user\\anaconda3\\lib\\site-packages (from pytorch-tabnet) (1.2.2)\n",
      "Requirement already satisfied: numpy<2.0,>=1.17 in c:\\users\\user\\anaconda3\\lib\\site-packages (from pytorch-tabnet) (1.20.3)\n",
      "Requirement already satisfied: scipy>1.4 in c:\\users\\user\\appdata\\roaming\\python\\python39\\site-packages (from pytorch-tabnet) (1.10.1)\n",
      "Requirement already satisfied: threadpoolctl>=2.0.0 in c:\\users\\user\\anaconda3\\lib\\site-packages (from scikit_learn>0.21->pytorch-tabnet) (2.2.0)\n",
      "Requirement already satisfied: joblib>=1.1.1 in c:\\users\\user\\anaconda3\\lib\\site-packages (from scikit_learn>0.21->pytorch-tabnet) (1.2.0)\n",
      "Requirement already satisfied: typing-extensions in c:\\users\\user\\anaconda3\\lib\\site-packages (from torch<2.0,>=1.2->pytorch-tabnet) (4.4.0)\n",
      "Requirement already satisfied: colorama in c:\\users\\user\\anaconda3\\lib\\site-packages (from tqdm<5.0,>=4.36->pytorch-tabnet) (0.4.4)\n",
      "Requirement already satisfied: optuna in c:\\users\\user\\anaconda3\\lib\\site-packages (3.1.1)\n",
      "Requirement already satisfied: packaging>=20.0 in c:\\users\\user\\anaconda3\\lib\\site-packages (from optuna) (23.0)\n",
      "Requirement already satisfied: cmaes>=0.9.1 in c:\\users\\user\\anaconda3\\lib\\site-packages (from optuna) (0.9.1)\n",
      "Requirement already satisfied: alembic>=1.5.0 in c:\\users\\user\\anaconda3\\lib\\site-packages (from optuna) (1.10.3)\n",
      "Requirement already satisfied: colorlog in c:\\users\\user\\anaconda3\\lib\\site-packages (from optuna) (6.7.0)\n",
      "Requirement already satisfied: sqlalchemy>=1.3.0 in c:\\users\\user\\anaconda3\\lib\\site-packages (from optuna) (1.4.22)\n",
      "Requirement already satisfied: tqdm in c:\\users\\user\\anaconda3\\lib\\site-packages (from optuna) (4.62.3)\n",
      "Requirement already satisfied: numpy in c:\\users\\user\\anaconda3\\lib\\site-packages (from optuna) (1.20.3)\n",
      "Requirement already satisfied: PyYAML in c:\\users\\user\\anaconda3\\lib\\site-packages (from optuna) (6.0)\n",
      "Requirement already satisfied: typing-extensions>=4 in c:\\users\\user\\anaconda3\\lib\\site-packages (from alembic>=1.5.0->optuna) (4.4.0)\n",
      "Requirement already satisfied: Mako in c:\\users\\user\\anaconda3\\lib\\site-packages (from alembic>=1.5.0->optuna) (1.2.4)\n",
      "Requirement already satisfied: greenlet!=0.4.17 in c:\\users\\user\\anaconda3\\lib\\site-packages (from sqlalchemy>=1.3.0->optuna) (1.1.1)\n",
      "Requirement already satisfied: colorama in c:\\users\\user\\anaconda3\\lib\\site-packages (from colorlog->optuna) (0.4.4)\n",
      "Requirement already satisfied: MarkupSafe>=0.9.2 in c:\\users\\user\\anaconda3\\lib\\site-packages (from Mako->alembic>=1.5.0->optuna) (1.1.1)\n"
     ]
    }
   ],
   "source": [
    "!pip install pytorch-tabnet\n",
    "!pip install optuna"
   ],
   "metadata": {
    "collapsed": false,
    "pycharm": {
     "is_executing": true
    },
    "ExecuteTime": {
     "end_time": "2023-08-22T09:32:47.023255Z",
     "start_time": "2023-08-22T09:32:42.860560200Z"
    }
   }
  },
  {
   "cell_type": "code",
   "execution_count": 44,
   "outputs": [],
   "source": [
    "# Convert Pandas DataFrame to NumPy array\n",
    "X_train_np = X_train_preprocessed.values\n",
    "X_test_np = X_test_preprocessed.values"
   ],
   "metadata": {
    "collapsed": false,
    "pycharm": {
     "is_executing": true
    },
    "ExecuteTime": {
     "end_time": "2023-08-22T09:32:47.039212700Z",
     "start_time": "2023-08-22T09:32:47.023255Z"
    }
   }
  },
  {
   "cell_type": "code",
   "execution_count": 45,
   "outputs": [
    {
     "name": "stderr",
     "output_type": "stream",
     "text": [
      "\u001B[32m[I 2023-08-22 12:32:47,933]\u001B[0m A new study created in memory with name: no-name-212e1fa9-f78d-47da-96a4-e6dbccae0e24\u001B[0m\n"
     ]
    },
    {
     "name": "stdout",
     "output_type": "stream",
     "text": [
      "\n",
      "Early stopping occurred at epoch 10 with best_epoch = 0 and best_val_0_auc = 0.51978\n"
     ]
    },
    {
     "name": "stderr",
     "output_type": "stream",
     "text": [
      "C:\\Users\\user\\anaconda3\\lib\\site-packages\\pytorch_tabnet\\callbacks.py:172: UserWarning: Best weights from best epoch are automatically used!\n",
      "  warnings.warn(wrn_msg)\n",
      "\u001B[32m[I 2023-08-22 12:33:00,660]\u001B[0m Trial 0 finished with value: 0.5197772657450077 and parameters: {'n_d': 27, 'n_a': 14, 'n_steps': 15, 'gamma': 0.9368148385102321, 'n_independent': 7, 'n_shared': 5, 'lambda_sparse': 0.05749955203504807}. Best is trial 0 with value: 0.5197772657450077.\u001B[0m\n",
      "C:\\Users\\user\\anaconda3\\lib\\site-packages\\pytorch_tabnet\\callbacks.py:172: UserWarning: Best weights from best epoch are automatically used!\n",
      "  warnings.warn(wrn_msg)\n",
      "\u001B[32m[I 2023-08-22 12:33:06,976]\u001B[0m Trial 1 finished with value: 0.575652841781874 and parameters: {'n_d': 21, 'n_a': 12, 'n_steps': 6, 'gamma': 0.8398177300549993, 'n_independent': 3, 'n_shared': 5, 'lambda_sparse': 0.08340911006596023}. Best is trial 1 with value: 0.575652841781874.\u001B[0m\n"
     ]
    },
    {
     "name": "stdout",
     "output_type": "stream",
     "text": [
      "\n",
      "Early stopping occurred at epoch 21 with best_epoch = 11 and best_val_0_auc = 0.57565\n",
      "\n",
      "Early stopping occurred at epoch 11 with best_epoch = 1 and best_val_0_auc = 0.57604\n"
     ]
    },
    {
     "name": "stderr",
     "output_type": "stream",
     "text": [
      "C:\\Users\\user\\anaconda3\\lib\\site-packages\\pytorch_tabnet\\callbacks.py:172: UserWarning: Best weights from best epoch are automatically used!\n",
      "  warnings.warn(wrn_msg)\n",
      "\u001B[32m[I 2023-08-22 12:33:15,978]\u001B[0m Trial 2 finished with value: 0.5760368663594471 and parameters: {'n_d': 23, 'n_a': 37, 'n_steps': 15, 'gamma': 1.9619666551931163, 'n_independent': 5, 'n_shared': 2, 'lambda_sparse': 0.04028206047476776}. Best is trial 2 with value: 0.5760368663594471.\u001B[0m\n"
     ]
    },
    {
     "name": "stdout",
     "output_type": "stream",
     "text": [
      "\n",
      "Early stopping occurred at epoch 22 with best_epoch = 12 and best_val_0_auc = 0.58679\n"
     ]
    },
    {
     "name": "stderr",
     "output_type": "stream",
     "text": [
      "C:\\Users\\user\\anaconda3\\lib\\site-packages\\pytorch_tabnet\\callbacks.py:172: UserWarning: Best weights from best epoch are automatically used!\n",
      "  warnings.warn(wrn_msg)\n",
      "\u001B[32m[I 2023-08-22 12:33:50,930]\u001B[0m Trial 3 finished with value: 0.5867895545314901 and parameters: {'n_d': 42, 'n_a': 28, 'n_steps': 19, 'gamma': 1.8442432004205966, 'n_independent': 10, 'n_shared': 1, 'lambda_sparse': 0.09246913094286723}. Best is trial 3 with value: 0.5867895545314901.\u001B[0m\n"
     ]
    },
    {
     "name": "stdout",
     "output_type": "stream",
     "text": [
      "\n",
      "Early stopping occurred at epoch 16 with best_epoch = 6 and best_val_0_auc = 0.5768\n"
     ]
    },
    {
     "name": "stderr",
     "output_type": "stream",
     "text": [
      "C:\\Users\\user\\anaconda3\\lib\\site-packages\\pytorch_tabnet\\callbacks.py:172: UserWarning: Best weights from best epoch are automatically used!\n",
      "  warnings.warn(wrn_msg)\n",
      "\u001B[32m[I 2023-08-22 12:34:23,293]\u001B[0m Trial 4 finished with value: 0.576804915514593 and parameters: {'n_d': 31, 'n_a': 55, 'n_steps': 17, 'gamma': 0.5133034984266265, 'n_independent': 7, 'n_shared': 6, 'lambda_sparse': 0.04979577602226451}. Best is trial 3 with value: 0.5867895545314901.\u001B[0m\n"
     ]
    },
    {
     "name": "stdout",
     "output_type": "stream",
     "text": [
      "\n",
      "Early stopping occurred at epoch 21 with best_epoch = 11 and best_val_0_auc = 0.57258\n"
     ]
    },
    {
     "name": "stderr",
     "output_type": "stream",
     "text": [
      "C:\\Users\\user\\anaconda3\\lib\\site-packages\\pytorch_tabnet\\callbacks.py:172: UserWarning: Best weights from best epoch are automatically used!\n",
      "  warnings.warn(wrn_msg)\n",
      "\u001B[32m[I 2023-08-22 12:34:43,685]\u001B[0m Trial 5 finished with value: 0.5725806451612903 and parameters: {'n_d': 41, 'n_a': 53, 'n_steps': 9, 'gamma': 0.30970656130710994, 'n_independent': 3, 'n_shared': 8, 'lambda_sparse': 0.06583077011925981}. Best is trial 3 with value: 0.5867895545314901.\u001B[0m\n"
     ]
    },
    {
     "name": "stdout",
     "output_type": "stream",
     "text": [
      "\n",
      "Early stopping occurred at epoch 23 with best_epoch = 13 and best_val_0_auc = 0.56874\n"
     ]
    },
    {
     "name": "stderr",
     "output_type": "stream",
     "text": [
      "C:\\Users\\user\\anaconda3\\lib\\site-packages\\pytorch_tabnet\\callbacks.py:172: UserWarning: Best weights from best epoch are automatically used!\n",
      "  warnings.warn(wrn_msg)\n",
      "\u001B[32m[I 2023-08-22 12:35:20,226]\u001B[0m Trial 6 finished with value: 0.5687403993855606 and parameters: {'n_d': 24, 'n_a': 26, 'n_steps': 18, 'gamma': 1.7698438037544473, 'n_independent': 8, 'n_shared': 5, 'lambda_sparse': 0.020265653400841546}. Best is trial 3 with value: 0.5867895545314901.\u001B[0m\n",
      "C:\\Users\\user\\anaconda3\\lib\\site-packages\\pytorch_tabnet\\callbacks.py:172: UserWarning: Best weights from best epoch are automatically used!\n",
      "  warnings.warn(wrn_msg)\n",
      "\u001B[32m[I 2023-08-22 12:35:21,976]\u001B[0m Trial 7 finished with value: 0.5633640552995393 and parameters: {'n_d': 23, 'n_a': 48, 'n_steps': 2, 'gamma': 1.473439113639905, 'n_independent': 4, 'n_shared': 2, 'lambda_sparse': 0.0822651074909462}. Best is trial 3 with value: 0.5867895545314901.\u001B[0m\n"
     ]
    },
    {
     "name": "stdout",
     "output_type": "stream",
     "text": [
      "\n",
      "Early stopping occurred at epoch 12 with best_epoch = 2 and best_val_0_auc = 0.56336\n",
      "\n",
      "Early stopping occurred at epoch 14 with best_epoch = 4 and best_val_0_auc = 0.59005\n"
     ]
    },
    {
     "name": "stderr",
     "output_type": "stream",
     "text": [
      "C:\\Users\\user\\anaconda3\\lib\\site-packages\\pytorch_tabnet\\callbacks.py:172: UserWarning: Best weights from best epoch are automatically used!\n",
      "  warnings.warn(wrn_msg)\n",
      "\u001B[32m[I 2023-08-22 12:35:41,583]\u001B[0m Trial 8 finished with value: 0.5900537634408602 and parameters: {'n_d': 37, 'n_a': 46, 'n_steps': 14, 'gamma': 1.0697304481793068, 'n_independent': 1, 'n_shared': 10, 'lambda_sparse': 0.007927309576947249}. Best is trial 8 with value: 0.5900537634408602.\u001B[0m\n"
     ]
    },
    {
     "name": "stdout",
     "output_type": "stream",
     "text": [
      "\n",
      "Early stopping occurred at epoch 11 with best_epoch = 1 and best_val_0_auc = 0.54877\n"
     ]
    },
    {
     "name": "stderr",
     "output_type": "stream",
     "text": [
      "C:\\Users\\user\\anaconda3\\lib\\site-packages\\pytorch_tabnet\\callbacks.py:172: UserWarning: Best weights from best epoch are automatically used!\n",
      "  warnings.warn(wrn_msg)\n",
      "\u001B[32m[I 2023-08-22 12:35:46,560]\u001B[0m Trial 9 finished with value: 0.5487711213517665 and parameters: {'n_d': 35, 'n_a': 18, 'n_steps': 5, 'gamma': 1.2395971126214036, 'n_independent': 1, 'n_shared': 10, 'lambda_sparse': 0.030840519118992507}. Best is trial 8 with value: 0.5900537634408602.\u001B[0m\n"
     ]
    },
    {
     "name": "stdout",
     "output_type": "stream",
     "text": [
      "\n",
      "Early stopping occurred at epoch 12 with best_epoch = 2 and best_val_0_auc = 0.59351\n"
     ]
    },
    {
     "name": "stderr",
     "output_type": "stream",
     "text": [
      "C:\\Users\\user\\anaconda3\\lib\\site-packages\\pytorch_tabnet\\callbacks.py:172: UserWarning: Best weights from best epoch are automatically used!\n",
      "  warnings.warn(wrn_msg)\n",
      "\u001B[32m[I 2023-08-22 12:36:04,523]\u001B[0m Trial 10 finished with value: 0.5935099846390168 and parameters: {'n_d': 60, 'n_a': 63, 'n_steps': 12, 'gamma': 0.13526180061817517, 'n_independent': 1, 'n_shared': 10, 'lambda_sparse': 0.008079053668368169}. Best is trial 10 with value: 0.5935099846390168.\u001B[0m\n"
     ]
    },
    {
     "name": "stdout",
     "output_type": "stream",
     "text": [
      "\n",
      "Early stopping occurred at epoch 22 with best_epoch = 12 and best_val_0_auc = 0.69201\n"
     ]
    },
    {
     "name": "stderr",
     "output_type": "stream",
     "text": [
      "C:\\Users\\user\\anaconda3\\lib\\site-packages\\pytorch_tabnet\\callbacks.py:172: UserWarning: Best weights from best epoch are automatically used!\n",
      "  warnings.warn(wrn_msg)\n",
      "\u001B[32m[I 2023-08-22 12:36:33,524]\u001B[0m Trial 11 finished with value: 0.6920122887864824 and parameters: {'n_d': 61, 'n_a': 64, 'n_steps': 11, 'gamma': 0.11078461696029895, 'n_independent': 1, 'n_shared': 10, 'lambda_sparse': 0.0007358742912264684}. Best is trial 11 with value: 0.6920122887864824.\u001B[0m\n"
     ]
    },
    {
     "name": "stdout",
     "output_type": "stream",
     "text": [
      "\n",
      "Early stopping occurred at epoch 11 with best_epoch = 1 and best_val_0_auc = 0.55799\n"
     ]
    },
    {
     "name": "stderr",
     "output_type": "stream",
     "text": [
      "C:\\Users\\user\\anaconda3\\lib\\site-packages\\pytorch_tabnet\\callbacks.py:172: UserWarning: Best weights from best epoch are automatically used!\n",
      "  warnings.warn(wrn_msg)\n",
      "\u001B[32m[I 2023-08-22 12:36:48,808]\u001B[0m Trial 12 finished with value: 0.5579877112135176 and parameters: {'n_d': 63, 'n_a': 64, 'n_steps': 11, 'gamma': 0.10386339091900759, 'n_independent': 1, 'n_shared': 9, 'lambda_sparse': 0.002325692678469521}. Best is trial 11 with value: 0.6920122887864824.\u001B[0m\n"
     ]
    },
    {
     "name": "stdout",
     "output_type": "stream",
     "text": [
      "\n",
      "Early stopping occurred at epoch 11 with best_epoch = 1 and best_val_0_auc = 0.5384\n"
     ]
    },
    {
     "name": "stderr",
     "output_type": "stream",
     "text": [
      "C:\\Users\\user\\anaconda3\\lib\\site-packages\\pytorch_tabnet\\callbacks.py:172: UserWarning: Best weights from best epoch are automatically used!\n",
      "  warnings.warn(wrn_msg)\n",
      "\u001B[32m[I 2023-08-22 12:37:02,990]\u001B[0m Trial 13 finished with value: 0.5384024577572964 and parameters: {'n_d': 64, 'n_a': 63, 'n_steps': 10, 'gamma': 0.12108978975151588, 'n_independent': 3, 'n_shared': 7, 'lambda_sparse': 0.0007747764581609714}. Best is trial 11 with value: 0.6920122887864824.\u001B[0m\n"
     ]
    },
    {
     "name": "stdout",
     "output_type": "stream",
     "text": [
      "\n",
      "Early stopping occurred at epoch 30 with best_epoch = 20 and best_val_0_auc = 0.65476\n"
     ]
    },
    {
     "name": "stderr",
     "output_type": "stream",
     "text": [
      "C:\\Users\\user\\anaconda3\\lib\\site-packages\\pytorch_tabnet\\callbacks.py:172: UserWarning: Best weights from best epoch are automatically used!\n",
      "  warnings.warn(wrn_msg)\n",
      "\u001B[32m[I 2023-08-22 12:37:36,831]\u001B[0m Trial 14 finished with value: 0.6547619047619048 and parameters: {'n_d': 51, 'n_a': 57, 'n_steps': 12, 'gamma': 0.5642767418502483, 'n_independent': 2, 'n_shared': 8, 'lambda_sparse': 0.017117318867276715}. Best is trial 11 with value: 0.6920122887864824.\u001B[0m\n"
     ]
    },
    {
     "name": "stdout",
     "output_type": "stream",
     "text": [
      "\n",
      "Early stopping occurred at epoch 11 with best_epoch = 1 and best_val_0_auc = 0.60829\n"
     ]
    },
    {
     "name": "stderr",
     "output_type": "stream",
     "text": [
      "C:\\Users\\user\\anaconda3\\lib\\site-packages\\pytorch_tabnet\\callbacks.py:172: UserWarning: Best weights from best epoch are automatically used!\n",
      "  warnings.warn(wrn_msg)\n",
      "\u001B[32m[I 2023-08-22 12:37:45,662]\u001B[0m Trial 15 finished with value: 0.6082949308755761 and parameters: {'n_d': 52, 'n_a': 41, 'n_steps': 8, 'gamma': 0.592457253605065, 'n_independent': 2, 'n_shared': 8, 'lambda_sparse': 0.019126234792626144}. Best is trial 11 with value: 0.6920122887864824.\u001B[0m\n"
     ]
    },
    {
     "name": "stdout",
     "output_type": "stream",
     "text": [
      "\n",
      "Early stopping occurred at epoch 31 with best_epoch = 21 and best_val_0_auc = 0.63345\n"
     ]
    },
    {
     "name": "stderr",
     "output_type": "stream",
     "text": [
      "C:\\Users\\user\\anaconda3\\lib\\site-packages\\pytorch_tabnet\\callbacks.py:172: UserWarning: Best weights from best epoch are automatically used!\n",
      "  warnings.warn(wrn_msg)\n",
      "\u001B[32m[I 2023-08-22 12:38:36,424]\u001B[0m Trial 16 finished with value: 0.6334485407066052 and parameters: {'n_d': 53, 'n_a': 56, 'n_steps': 13, 'gamma': 0.48546986876008286, 'n_independent': 5, 'n_shared': 8, 'lambda_sparse': 0.01990272903278095}. Best is trial 11 with value: 0.6920122887864824.\u001B[0m\n"
     ]
    },
    {
     "name": "stdout",
     "output_type": "stream",
     "text": [
      "\n",
      "Early stopping occurred at epoch 16 with best_epoch = 6 and best_val_0_auc = 0.52535\n"
     ]
    },
    {
     "name": "stderr",
     "output_type": "stream",
     "text": [
      "C:\\Users\\user\\anaconda3\\lib\\site-packages\\pytorch_tabnet\\callbacks.py:172: UserWarning: Best weights from best epoch are automatically used!\n",
      "  warnings.warn(wrn_msg)\n",
      "\u001B[32m[I 2023-08-22 12:38:43,526]\u001B[0m Trial 17 finished with value: 0.5253456221198156 and parameters: {'n_d': 10, 'n_a': 57, 'n_steps': 6, 'gamma': 0.7010031713511937, 'n_independent': 2, 'n_shared': 7, 'lambda_sparse': 0.029451584628882005}. Best is trial 11 with value: 0.6920122887864824.\u001B[0m\n"
     ]
    },
    {
     "name": "stdout",
     "output_type": "stream",
     "text": [
      "\n",
      "Early stopping occurred at epoch 17 with best_epoch = 7 and best_val_0_auc = 0.66897\n"
     ]
    },
    {
     "name": "stderr",
     "output_type": "stream",
     "text": [
      "C:\\Users\\user\\anaconda3\\lib\\site-packages\\pytorch_tabnet\\callbacks.py:172: UserWarning: Best weights from best epoch are automatically used!\n",
      "  warnings.warn(wrn_msg)\n",
      "\u001B[32m[I 2023-08-22 12:39:00,718]\u001B[0m Trial 18 finished with value: 0.6689708141321045 and parameters: {'n_d': 54, 'n_a': 48, 'n_steps': 8, 'gamma': 0.4604896903373912, 'n_independent': 4, 'n_shared': 9, 'lambda_sparse': 0.011122641408103495}. Best is trial 11 with value: 0.6920122887864824.\u001B[0m\n"
     ]
    },
    {
     "name": "stdout",
     "output_type": "stream",
     "text": [
      "\n",
      "Early stopping occurred at epoch 11 with best_epoch = 1 and best_val_0_auc = 0.59716\n"
     ]
    },
    {
     "name": "stderr",
     "output_type": "stream",
     "text": [
      "C:\\Users\\user\\anaconda3\\lib\\site-packages\\pytorch_tabnet\\callbacks.py:172: UserWarning: Best weights from best epoch are automatically used!\n",
      "  warnings.warn(wrn_msg)\n",
      "\u001B[32m[I 2023-08-22 12:39:07,717]\u001B[0m Trial 19 finished with value: 0.59715821812596 and parameters: {'n_d': 57, 'n_a': 47, 'n_steps': 4, 'gamma': 0.3365898347824571, 'n_independent': 6, 'n_shared': 9, 'lambda_sparse': 0.010804231495902511}. Best is trial 11 with value: 0.6920122887864824.\u001B[0m\n"
     ]
    },
    {
     "name": "stdout",
     "output_type": "stream",
     "text": [
      "\n",
      "Early stopping occurred at epoch 16 with best_epoch = 6 and best_val_0_auc = 0.57373\n"
     ]
    },
    {
     "name": "stderr",
     "output_type": "stream",
     "text": [
      "C:\\Users\\user\\anaconda3\\lib\\site-packages\\pytorch_tabnet\\callbacks.py:172: UserWarning: Best weights from best epoch are automatically used!\n",
      "  warnings.warn(wrn_msg)\n",
      "\u001B[32m[I 2023-08-22 12:39:17,053]\u001B[0m Trial 20 finished with value: 0.5737327188940092 and parameters: {'n_d': 47, 'n_a': 34, 'n_steps': 8, 'gamma': 0.3411777871704237, 'n_independent': 4, 'n_shared': 4, 'lambda_sparse': 0.001893224633167417}. Best is trial 11 with value: 0.6920122887864824.\u001B[0m\n"
     ]
    },
    {
     "name": "stdout",
     "output_type": "stream",
     "text": [
      "\n",
      "Early stopping occurred at epoch 11 with best_epoch = 1 and best_val_0_auc = 0.56912\n"
     ]
    },
    {
     "name": "stderr",
     "output_type": "stream",
     "text": [
      "C:\\Users\\user\\anaconda3\\lib\\site-packages\\pytorch_tabnet\\callbacks.py:172: UserWarning: Best weights from best epoch are automatically used!\n",
      "  warnings.warn(wrn_msg)\n",
      "\u001B[32m[I 2023-08-22 12:39:30,591]\u001B[0m Trial 21 finished with value: 0.5691244239631337 and parameters: {'n_d': 50, 'n_a': 51, 'n_steps': 11, 'gamma': 0.7000795089512668, 'n_independent': 2, 'n_shared': 9, 'lambda_sparse': 0.01437336076564142}. Best is trial 11 with value: 0.6920122887864824.\u001B[0m\n"
     ]
    },
    {
     "name": "stdout",
     "output_type": "stream",
     "text": [
      "\n",
      "Early stopping occurred at epoch 16 with best_epoch = 6 and best_val_0_auc = 0.65207\n"
     ]
    },
    {
     "name": "stderr",
     "output_type": "stream",
     "text": [
      "C:\\Users\\user\\anaconda3\\lib\\site-packages\\pytorch_tabnet\\callbacks.py:172: UserWarning: Best weights from best epoch are automatically used!\n",
      "  warnings.warn(wrn_msg)\n",
      "\u001B[32m[I 2023-08-22 12:39:50,147]\u001B[0m Trial 22 finished with value: 0.6520737327188939 and parameters: {'n_d': 57, 'n_a': 59, 'n_steps': 9, 'gamma': 0.4032148988569033, 'n_independent': 4, 'n_shared': 9, 'lambda_sparse': 0.028309431358184277}. Best is trial 11 with value: 0.6920122887864824.\u001B[0m\n"
     ]
    },
    {
     "name": "stdout",
     "output_type": "stream",
     "text": [
      "\n",
      "Early stopping occurred at epoch 13 with best_epoch = 3 and best_val_0_auc = 0.59447\n"
     ]
    },
    {
     "name": "stderr",
     "output_type": "stream",
     "text": [
      "C:\\Users\\user\\anaconda3\\lib\\site-packages\\pytorch_tabnet\\callbacks.py:172: UserWarning: Best weights from best epoch are automatically used!\n",
      "  warnings.warn(wrn_msg)\n",
      "\u001B[32m[I 2023-08-22 12:40:05,213]\u001B[0m Trial 23 finished with value: 0.5944700460829493 and parameters: {'n_d': 46, 'n_a': 42, 'n_steps': 13, 'gamma': 0.6265064206098285, 'n_independent': 2, 'n_shared': 7, 'lambda_sparse': 0.013297306794179502}. Best is trial 11 with value: 0.6920122887864824.\u001B[0m\n"
     ]
    },
    {
     "name": "stdout",
     "output_type": "stream",
     "text": [
      "\n",
      "Early stopping occurred at epoch 13 with best_epoch = 3 and best_val_0_auc = 0.5818\n"
     ]
    },
    {
     "name": "stderr",
     "output_type": "stream",
     "text": [
      "C:\\Users\\user\\anaconda3\\lib\\site-packages\\pytorch_tabnet\\callbacks.py:172: UserWarning: Best weights from best epoch are automatically used!\n",
      "  warnings.warn(wrn_msg)\n",
      "\u001B[32m[I 2023-08-22 12:40:18,643]\u001B[0m Trial 24 finished with value: 0.5817972350230415 and parameters: {'n_d': 56, 'n_a': 59, 'n_steps': 7, 'gamma': 0.26060300117132873, 'n_independent': 3, 'n_shared': 10, 'lambda_sparse': 0.0223868155784712}. Best is trial 11 with value: 0.6920122887864824.\u001B[0m\n"
     ]
    },
    {
     "name": "stdout",
     "output_type": "stream",
     "text": [
      "\n",
      "Early stopping occurred at epoch 12 with best_epoch = 2 and best_val_0_auc = 0.58545\n"
     ]
    },
    {
     "name": "stderr",
     "output_type": "stream",
     "text": [
      "C:\\Users\\user\\anaconda3\\lib\\site-packages\\pytorch_tabnet\\callbacks.py:172: UserWarning: Best weights from best epoch are automatically used!\n",
      "  warnings.warn(wrn_msg)\n",
      "\u001B[32m[I 2023-08-22 12:40:36,690]\u001B[0m Trial 25 finished with value: 0.5854454685099846 and parameters: {'n_d': 60, 'n_a': 51, 'n_steps': 11, 'gamma': 0.46512810300526053, 'n_independent': 4, 'n_shared': 8, 'lambda_sparse': 0.0005003750110715549}. Best is trial 11 with value: 0.6920122887864824.\u001B[0m\n"
     ]
    },
    {
     "name": "stdout",
     "output_type": "stream",
     "text": [
      "\n",
      "Early stopping occurred at epoch 14 with best_epoch = 4 and best_val_0_auc = 0.62788\n"
     ]
    },
    {
     "name": "stderr",
     "output_type": "stream",
     "text": [
      "C:\\Users\\user\\anaconda3\\lib\\site-packages\\pytorch_tabnet\\callbacks.py:172: UserWarning: Best weights from best epoch are automatically used!\n",
      "  warnings.warn(wrn_msg)\n",
      "\u001B[32m[I 2023-08-22 12:40:41,916]\u001B[0m Trial 26 finished with value: 0.6278801843317973 and parameters: {'n_d': 47, 'n_a': 59, 'n_steps': 3, 'gamma': 0.24030849040807178, 'n_independent': 2, 'n_shared': 9, 'lambda_sparse': 0.010683757513383817}. Best is trial 11 with value: 0.6920122887864824.\u001B[0m\n"
     ]
    },
    {
     "name": "stdout",
     "output_type": "stream",
     "text": [
      "\n",
      "Early stopping occurred at epoch 22 with best_epoch = 12 and best_val_0_auc = 0.56951\n"
     ]
    },
    {
     "name": "stderr",
     "output_type": "stream",
     "text": [
      "C:\\Users\\user\\anaconda3\\lib\\site-packages\\pytorch_tabnet\\callbacks.py:172: UserWarning: Best weights from best epoch are automatically used!\n",
      "  warnings.warn(wrn_msg)\n",
      "\u001B[32m[I 2023-08-22 12:41:12,936]\u001B[0m Trial 27 finished with value: 0.5695084485407067 and parameters: {'n_d': 54, 'n_a': 42, 'n_steps': 16, 'gamma': 0.45625432563234536, 'n_independent': 3, 'n_shared': 6, 'lambda_sparse': 0.03229453447987474}. Best is trial 11 with value: 0.6920122887864824.\u001B[0m\n"
     ]
    },
    {
     "name": "stdout",
     "output_type": "stream",
     "text": [
      "\n",
      "Early stopping occurred at epoch 21 with best_epoch = 11 and best_val_0_auc = 0.5553\n"
     ]
    },
    {
     "name": "stderr",
     "output_type": "stream",
     "text": [
      "C:\\Users\\user\\anaconda3\\lib\\site-packages\\pytorch_tabnet\\callbacks.py:172: UserWarning: Best weights from best epoch are automatically used!\n",
      "  warnings.warn(wrn_msg)\n",
      "\u001B[32m[I 2023-08-22 12:41:42,735]\u001B[0m Trial 28 finished with value: 0.555299539170507 and parameters: {'n_d': 42, 'n_a': 50, 'n_steps': 10, 'gamma': 0.22938354855801693, 'n_independent': 5, 'n_shared': 10, 'lambda_sparse': 0.023783177759114447}. Best is trial 11 with value: 0.6920122887864824.\u001B[0m\n"
     ]
    },
    {
     "name": "stdout",
     "output_type": "stream",
     "text": [
      "\n",
      "Early stopping occurred at epoch 10 with best_epoch = 0 and best_val_0_auc = 0.51459\n"
     ]
    },
    {
     "name": "stderr",
     "output_type": "stream",
     "text": [
      "C:\\Users\\user\\anaconda3\\lib\\site-packages\\pytorch_tabnet\\callbacks.py:172: UserWarning: Best weights from best epoch are automatically used!\n",
      "  warnings.warn(wrn_msg)\n",
      "\u001B[32m[I 2023-08-22 12:41:51,125]\u001B[0m Trial 29 finished with value: 0.5145929339477726 and parameters: {'n_d': 60, 'n_a': 61, 'n_steps': 13, 'gamma': 0.7738421861790722, 'n_independent': 1, 'n_shared': 4, 'lambda_sparse': 0.015444953511204073}. Best is trial 11 with value: 0.6920122887864824.\u001B[0m\n"
     ]
    },
    {
     "name": "stdout",
     "output_type": "stream",
     "text": [
      "\n",
      "Early stopping occurred at epoch 11 with best_epoch = 1 and best_val_0_auc = 0.58737\n"
     ]
    },
    {
     "name": "stderr",
     "output_type": "stream",
     "text": [
      "C:\\Users\\user\\anaconda3\\lib\\site-packages\\pytorch_tabnet\\callbacks.py:172: UserWarning: Best weights from best epoch are automatically used!\n",
      "  warnings.warn(wrn_msg)\n",
      "\u001B[32m[I 2023-08-22 12:42:13,461]\u001B[0m Trial 30 finished with value: 0.5873655913978495 and parameters: {'n_d': 50, 'n_a': 54, 'n_steps': 15, 'gamma': 0.5798493714499702, 'n_independent': 6, 'n_shared': 7, 'lambda_sparse': 0.038473138861015735}. Best is trial 11 with value: 0.6920122887864824.\u001B[0m\n"
     ]
    },
    {
     "name": "stdout",
     "output_type": "stream",
     "text": [
      "\n",
      "Early stopping occurred at epoch 16 with best_epoch = 6 and best_val_0_auc = 0.61022\n"
     ]
    },
    {
     "name": "stderr",
     "output_type": "stream",
     "text": [
      "C:\\Users\\user\\anaconda3\\lib\\site-packages\\pytorch_tabnet\\callbacks.py:172: UserWarning: Best weights from best epoch are automatically used!\n",
      "  warnings.warn(wrn_msg)\n",
      "\u001B[32m[I 2023-08-22 12:42:35,429]\u001B[0m Trial 31 finished with value: 0.6102150537634409 and parameters: {'n_d': 56, 'n_a': 59, 'n_steps': 9, 'gamma': 0.41104939916811056, 'n_independent': 4, 'n_shared': 9, 'lambda_sparse': 0.02450774809702602}. Best is trial 11 with value: 0.6920122887864824.\u001B[0m\n"
     ]
    },
    {
     "name": "stdout",
     "output_type": "stream",
     "text": [
      "\n",
      "Early stopping occurred at epoch 16 with best_epoch = 6 and best_val_0_auc = 0.59101\n"
     ]
    },
    {
     "name": "stderr",
     "output_type": "stream",
     "text": [
      "C:\\Users\\user\\anaconda3\\lib\\site-packages\\pytorch_tabnet\\callbacks.py:172: UserWarning: Best weights from best epoch are automatically used!\n",
      "  warnings.warn(wrn_msg)\n",
      "\u001B[32m[I 2023-08-22 12:42:53,346]\u001B[0m Trial 32 finished with value: 0.5910138248847927 and parameters: {'n_d': 58, 'n_a': 64, 'n_steps': 7, 'gamma': 0.3448621909775485, 'n_independent': 4, 'n_shared': 9, 'lambda_sparse': 0.005876818407170992}. Best is trial 11 with value: 0.6920122887864824.\u001B[0m\n",
      "C:\\Users\\user\\anaconda3\\lib\\site-packages\\pytorch_tabnet\\abstract_model.py:75: UserWarning: Device used : cpu\n",
      "  warnings.warn(f\"Device used : {self.device}\")\n",
      "C:\\Users\\user\\anaconda3\\lib\\site-packages\\pytorch_tabnet\\abstract_model.py:651: UserWarning: No early stopping will be performed, last training weights will be used.\n",
      "  warnings.warn(wrn_msg)\n"
     ]
    },
    {
     "name": "stdout",
     "output_type": "stream",
     "text": [
      "epoch 0  | loss: 2.251   |  0:00:01s\n",
      "epoch 1  | loss: 2.7171  |  0:00:02s\n",
      "epoch 2  | loss: 1.95364 |  0:00:03s\n",
      "epoch 3  | loss: 1.85118 |  0:00:04s\n",
      "epoch 4  | loss: 2.31122 |  0:00:06s\n",
      "epoch 5  | loss: 1.31828 |  0:00:07s\n",
      "epoch 6  | loss: 1.75891 |  0:00:08s\n",
      "epoch 7  | loss: 1.19909 |  0:00:09s\n",
      "epoch 8  | loss: 1.16161 |  0:00:10s\n",
      "epoch 9  | loss: 1.00262 |  0:00:12s\n",
      "epoch 10 | loss: 0.82591 |  0:00:13s\n",
      "epoch 11 | loss: 0.87078 |  0:00:14s\n",
      "epoch 12 | loss: 0.84056 |  0:00:15s\n",
      "epoch 13 | loss: 0.78662 |  0:00:16s\n",
      "epoch 14 | loss: 0.77975 |  0:00:17s\n",
      "epoch 15 | loss: 0.71368 |  0:00:19s\n",
      "epoch 16 | loss: 0.71571 |  0:00:20s\n",
      "epoch 17 | loss: 0.66299 |  0:00:21s\n",
      "epoch 18 | loss: 0.64179 |  0:00:22s\n",
      "epoch 19 | loss: 0.62235 |  0:00:23s\n",
      "epoch 20 | loss: 0.60774 |  0:00:25s\n",
      "epoch 21 | loss: 0.61507 |  0:00:26s\n",
      "epoch 22 | loss: 0.61299 |  0:00:27s\n",
      "epoch 23 | loss: 0.59022 |  0:00:28s\n",
      "epoch 24 | loss: 0.57528 |  0:00:29s\n",
      "epoch 25 | loss: 0.56974 |  0:00:30s\n",
      "epoch 26 | loss: 0.56403 |  0:00:32s\n",
      "epoch 27 | loss: 0.55641 |  0:00:33s\n",
      "epoch 28 | loss: 0.53404 |  0:00:34s\n",
      "epoch 29 | loss: 0.52662 |  0:00:35s\n",
      "epoch 30 | loss: 0.51472 |  0:00:36s\n",
      "epoch 31 | loss: 0.51533 |  0:00:38s\n",
      "epoch 32 | loss: 0.48951 |  0:00:39s\n",
      "epoch 33 | loss: 0.47413 |  0:00:40s\n",
      "epoch 34 | loss: 0.4729  |  0:00:41s\n",
      "epoch 35 | loss: 0.45331 |  0:00:42s\n",
      "epoch 36 | loss: 0.45455 |  0:00:43s\n",
      "epoch 37 | loss: 0.44437 |  0:00:45s\n",
      "epoch 38 | loss: 0.42346 |  0:00:46s\n",
      "epoch 39 | loss: 0.41922 |  0:00:47s\n",
      "epoch 40 | loss: 0.39341 |  0:00:48s\n",
      "epoch 41 | loss: 0.39278 |  0:00:49s\n",
      "epoch 42 | loss: 0.3883  |  0:00:51s\n",
      "epoch 43 | loss: 0.38233 |  0:00:52s\n",
      "epoch 44 | loss: 0.38071 |  0:00:53s\n",
      "epoch 45 | loss: 0.37098 |  0:00:54s\n",
      "epoch 46 | loss: 0.34357 |  0:00:55s\n",
      "epoch 47 | loss: 0.32786 |  0:00:57s\n",
      "epoch 48 | loss: 0.36401 |  0:00:58s\n",
      "epoch 49 | loss: 0.36882 |  0:00:59s\n",
      "epoch 50 | loss: 0.34857 |  0:01:00s\n",
      "epoch 51 | loss: 0.35505 |  0:01:01s\n",
      "epoch 52 | loss: 0.35567 |  0:01:03s\n",
      "epoch 53 | loss: 0.30495 |  0:01:04s\n",
      "epoch 54 | loss: 0.3257  |  0:01:05s\n",
      "epoch 55 | loss: 0.3065  |  0:01:06s\n",
      "epoch 56 | loss: 0.26951 |  0:01:07s\n",
      "epoch 57 | loss: 0.27862 |  0:01:08s\n",
      "epoch 58 | loss: 0.26719 |  0:01:10s\n",
      "epoch 59 | loss: 0.24479 |  0:01:11s\n",
      "epoch 60 | loss: 0.24532 |  0:01:12s\n",
      "epoch 61 | loss: 0.22945 |  0:01:13s\n",
      "epoch 62 | loss: 0.23241 |  0:01:14s\n",
      "epoch 63 | loss: 0.22204 |  0:01:16s\n",
      "epoch 64 | loss: 0.22215 |  0:01:17s\n",
      "epoch 65 | loss: 0.20608 |  0:01:18s\n",
      "epoch 66 | loss: 0.19832 |  0:01:19s\n",
      "epoch 67 | loss: 0.18752 |  0:01:20s\n",
      "epoch 68 | loss: 0.18604 |  0:01:22s\n",
      "epoch 69 | loss: 0.18085 |  0:01:23s\n",
      "epoch 70 | loss: 0.1848  |  0:01:24s\n",
      "epoch 71 | loss: 0.17769 |  0:01:25s\n",
      "epoch 72 | loss: 0.16423 |  0:01:26s\n",
      "epoch 73 | loss: 0.16849 |  0:01:28s\n",
      "epoch 74 | loss: 0.13859 |  0:01:29s\n",
      "epoch 75 | loss: 0.16696 |  0:01:30s\n",
      "epoch 76 | loss: 0.13403 |  0:01:31s\n",
      "epoch 77 | loss: 0.14225 |  0:01:32s\n",
      "epoch 78 | loss: 0.1325  |  0:01:34s\n",
      "epoch 79 | loss: 0.13316 |  0:01:35s\n",
      "epoch 80 | loss: 0.12123 |  0:01:36s\n",
      "epoch 81 | loss: 0.14435 |  0:01:37s\n",
      "epoch 82 | loss: 0.13512 |  0:01:38s\n",
      "epoch 83 | loss: 0.12576 |  0:01:40s\n",
      "epoch 84 | loss: 0.10107 |  0:01:41s\n",
      "epoch 85 | loss: 0.10892 |  0:01:42s\n",
      "epoch 86 | loss: 0.1086  |  0:01:43s\n",
      "epoch 87 | loss: 0.11384 |  0:01:44s\n",
      "epoch 88 | loss: 0.1246  |  0:01:46s\n",
      "epoch 89 | loss: 0.11837 |  0:01:47s\n",
      "epoch 90 | loss: 0.11607 |  0:01:48s\n",
      "epoch 91 | loss: 0.1149  |  0:01:49s\n",
      "epoch 92 | loss: 0.11235 |  0:01:51s\n",
      "epoch 93 | loss: 0.11197 |  0:01:52s\n",
      "epoch 94 | loss: 0.1217  |  0:01:53s\n",
      "epoch 95 | loss: 0.11206 |  0:01:54s\n",
      "epoch 96 | loss: 0.10541 |  0:01:55s\n",
      "epoch 97 | loss: 0.09647 |  0:01:56s\n",
      "epoch 98 | loss: 0.09306 |  0:01:58s\n",
      "epoch 99 | loss: 0.09411 |  0:01:59s\n"
     ]
    },
    {
     "data": {
      "text/plain": "{'n_d': 61,\n 'n_a': 64,\n 'n_steps': 11,\n 'gamma': 0.11078461696029895,\n 'n_independent': 1,\n 'n_shared': 10,\n 'lambda_sparse': 0.0007358742912264684}"
     },
     "execution_count": 45,
     "metadata": {},
     "output_type": "execute_result"
    }
   ],
   "source": [
    "import torch\n",
    "from pytorch_tabnet.tab_model import TabNetClassifier\n",
    "import optuna\n",
    "from sklearn.metrics import mean_squared_error\n",
    "\n",
    "# Define objective function for optuna\n",
    "def objective(trial):\n",
    "    # Generate hyperparameter search space\n",
    "    params = {\n",
    "        'n_d': trial.suggest_int('n_d', 8, 64),\n",
    "        'n_a': trial.suggest_int('n_a', 8, 64),\n",
    "        'n_steps': trial.suggest_int('n_steps', 1, 19),\n",
    "        'gamma': trial.suggest_float('gamma', 0.1, 2.0),\n",
    "        'n_independent': trial.suggest_int('n_independent', 1, 10),\n",
    "        'n_shared': trial.suggest_int('n_shared', 1, 10),\n",
    "        'lambda_sparse': trial.suggest_float('lambda_sparse', 0.0001, 0.1),\n",
    "        # 'optimizer_fn': torch.optim.Adam,\n",
    "        # 'optimizer_params': dict(lr=2e-2, weight_decay=1e-5),\n",
    "        # 'mask_type': 'entmax',\n",
    "        # 'scheduler_params': dict(mode=\"min\", patience=5, min_lr=1e-5, factor=0.9,),\n",
    "        # 'scheduler_fn': torch.optim.lr_scheduler.ReduceLROnPlateau,\n",
    "        'verbose': 0\n",
    "    }\n",
    "\n",
    "    # Create TabNetClassifier object with hyperparameters from optuna\n",
    "    classifier = TabNetClassifier(**params)\n",
    "\n",
    "    # Train and evaluate the model\n",
    "    classifier.fit(X_train_np, y_train, eval_set=[(X_test_np, y_test)])\n",
    "    val_preds = classifier.predict_proba(X_test_np)[:, 1]\n",
    "    val_auc = roc_auc_score(y_test, val_preds)\n",
    "\n",
    "    return val_auc\n",
    "\n",
    "# Create optuna study\n",
    "study = optuna.create_study(direction='maximize')\n",
    "\n",
    "# Optimize hyperparameters using optuna\n",
    "study.optimize(objective, n_trials=42, timeout=600)\n",
    "\n",
    "# Get best hyperparameters from optuna\n",
    "best_params = study.best_trial.params\n",
    "\n",
    "# Train final model with best hyperparameters\n",
    "tabnet = TabNetClassifier(**best_params)\n",
    "tabnet.fit(X_train_np, y_train)\n",
    "best_params"
   ],
   "metadata": {
    "collapsed": false,
    "pycharm": {
     "is_executing": true
    },
    "ExecuteTime": {
     "end_time": "2023-08-22T09:44:53.461926400Z",
     "start_time": "2023-08-22T09:32:47.040210200Z"
    }
   }
  },
  {
   "cell_type": "markdown",
   "source": [
    "Evaluate the best model on the test data"
   ],
   "metadata": {
    "collapsed": false
   }
  },
  {
   "cell_type": "code",
   "execution_count": 46,
   "outputs": [
    {
     "name": "stdout",
     "output_type": "stream",
     "text": [
      "Tabnet (test data)\n",
      "Accuracy: 0.61\n",
      "Precision: 0.74\n",
      "Recall: 0.71\n",
      "F1-score: 0.73\n",
      "ROC-AUC score: 0.52\n"
     ]
    },
    {
     "data": {
      "text/plain": "<Figure size 576x576 with 2 Axes>",
      "image/png": "[encoded data removed]"
     },
     "metadata": {},
     "output_type": "display_data"
    }
   ],
   "source": [
    "# Evaluate final model on test set\n",
    "y_test_pred = tabnet.predict(X_test_np)\n",
    "evaluate_model(\"Tabnet (test data)\", y_test, y_test_pred)"
   ],
   "metadata": {
    "collapsed": false,
    "pycharm": {
     "is_executing": true
    },
    "ExecuteTime": {
     "end_time": "2023-08-22T09:44:53.655433200Z",
     "start_time": "2023-08-22T09:44:53.465914900Z"
    }
   }
  },
  {
   "cell_type": "markdown",
   "source": [
    "The best model is Gradient Boosting"
   ],
   "metadata": {
    "collapsed": false
   }
  },
  {
   "cell_type": "code",
   "execution_count": 47,
   "outputs": [],
   "source": [
    "the_best_model_ever = gb_best_estimator"
   ],
   "metadata": {
    "collapsed": false,
    "ExecuteTime": {
     "end_time": "2023-08-22T09:44:53.703819800Z",
     "start_time": "2023-08-22T09:44:53.648452Z"
    }
   }
  },
  {
   "cell_type": "markdown",
   "source": [
    "Feature importance"
   ],
   "metadata": {
    "collapsed": false
   }
  },
  {
   "cell_type": "code",
   "execution_count": 48,
   "outputs": [
    {
     "data": {
      "text/plain": "                                             importance\nDVA_Max_Fixations_Pre                          0.070480\nDVA_Min_Gaze_Pre                               0.067397\nDVA_Median_Fixations_Pre                       0.061447\nDVA_Sem_Fixations_Pre                          0.053655\nDVA_Std_Gaze_Pre                               0.053441\nDVA_AUC_Gaze_Pre                               0.048114\nDVA_Mean_Gaze_Pre                              0.045887\nDVA_Min_Fixations_Pre                          0.045886\nDVA_Mean_Fixations_Pre                         0.044011\nDVA_Median_Gaze_Pre                            0.038265\nGaze_Counts_Out_RoI_Pre                        0.037730\nDVA_Max_Gaze_Pre                               0.036330\nDVA_Std_Fixations_Pre                          0.029176\nSaccades_Start_Counts_Out_RoI_Pre              0.023239\nFixations_Counts_Out_RoI_Pre                   0.022999\nvis_angle_Max_Saccades_End_In_RoI_Pre          0.021596\npeak_velocity_Max_Saccades_End_In_RoI_Pre      0.020004\nonset_Mean_Fixations_In_RoI_Pre                0.016715\nGaze_Re_Entries_To_RoI_Count_Pre               0.015733\nvis_angle_Min_Saccades_End_In_RoI_Pre          0.015319\nFixations_In_out_RoI_Ratio_Pre                 0.014379\nDuration_Fixations_First_In_RoI_Pre            0.013431\nlast_onset_Std_Saccades_End_In_RoI_Pre         0.013422\nDuration_Max_Fixations_In_RoI_Pre              0.013256\nvis_angle_Saccades_End_First_In_RoI_Pre        0.013246\nDuration_Max_Saccades_End_In_RoI_Pre           0.012819\nGaze_In_out_RoI_Ratio_Pre                      0.012068\nDuration_Saccades_End_First_In_RoI_Pre         0.011845\nonset_Fixations_First_In_RoI_Pre               0.011737\nonset_Sem_Fixations_In_RoI_Pre                 0.011204\nDuration_Min_Fixations_In_RoI_Pre              0.010547\nonset_AUC_Fixations_In_RoI_Pre                 0.010466\nSaccades_Start_In_out_RoI_Ratio_Pre            0.009718\nGaze_Counts_In_RoI_Pre                         0.009294\nDuration_Min_Saccades_End_In_RoI_Pre           0.009183\npeak_velocity_Saccades_End_First_In_RoI_Pre    0.009136\nlast_onset_Mean_Saccades_End_In_RoI_Pre        0.008998\nonset_Std_Fixations_In_RoI_Pre                 0.008444\npeak_velocity_Min_Saccades_End_In_RoI_Pre      0.007548\nlast_onset_Saccades_End_First_In_RoI_Pre       0.006373\nonset_Max_Fixations_In_RoI_Pre                 0.005481\nlast_onset_Max_Saccades_End_In_RoI_Pre         0.004801\nFixations_Counts_In_RoI_Pre                    0.003518\nFixations_Re_Entries_To_RoI_Count_Pre          0.001664",
      "text/html": "<div>\n<style scoped>\n    .dataframe tbody tr th:only-of-type {\n        vertical-align: middle;\n    }\n\n    .dataframe tbody tr th {\n        vertical-align: top;\n    }\n\n    .dataframe thead th {\n        text-align: right;\n    }\n</style>\n<table border=\"1\" class=\"dataframe\">\n  <thead>\n    <tr style=\"text-align: right;\">\n      <th></th>\n      <th>importance</th>\n    </tr>\n  </thead>\n  <tbody>\n    <tr>\n      <th>DVA_Max_Fixations_Pre</th>\n      <td>0.070480</td>\n    </tr>\n    <tr>\n      <th>DVA_Min_Gaze_Pre</th>\n      <td>0.067397</td>\n    </tr>\n    <tr>\n      <th>DVA_Median_Fixations_Pre</th>\n      <td>0.061447</td>\n    </tr>\n    <tr>\n      <th>DVA_Sem_Fixations_Pre</th>\n      <td>0.053655</td>\n    </tr>\n    <tr>\n      <th>DVA_Std_Gaze_Pre</th>\n      <td>0.053441</td>\n    </tr>\n    <tr>\n      <th>DVA_AUC_Gaze_Pre</th>\n      <td>0.048114</td>\n    </tr>\n    <tr>\n      <th>DVA_Mean_Gaze_Pre</th>\n      <td>0.045887</td>\n    </tr>\n    <tr>\n      <th>DVA_Min_Fixations_Pre</th>\n      <td>0.045886</td>\n    </tr>\n    <tr>\n      <th>DVA_Mean_Fixations_Pre</th>\n      <td>0.044011</td>\n    </tr>\n    <tr>\n      <th>DVA_Median_Gaze_Pre</th>\n      <td>0.038265</td>\n    </tr>\n    <tr>\n      <th>Gaze_Counts_Out_RoI_Pre</th>\n      <td>0.037730</td>\n    </tr>\n    <tr>\n      <th>DVA_Max_Gaze_Pre</th>\n      <td>0.036330</td>\n    </tr>\n    <tr>\n      <th>DVA_Std_Fixations_Pre</th>\n      <td>0.029176</td>\n    </tr>\n    <tr>\n      <th>Saccades_Start_Counts_Out_RoI_Pre</th>\n      <td>0.023239</td>\n    </tr>\n    <tr>\n      <th>Fixations_Counts_Out_RoI_Pre</th>\n      <td>0.022999</td>\n    </tr>\n    <tr>\n      <th>vis_angle_Max_Saccades_End_In_RoI_Pre</th>\n      <td>0.021596</td>\n    </tr>\n    <tr>\n      <th>peak_velocity_Max_Saccades_End_In_RoI_Pre</th>\n      <td>0.020004</td>\n    </tr>\n    <tr>\n      <th>onset_Mean_Fixations_In_RoI_Pre</th>\n      <td>0.016715</td>\n    </tr>\n    <tr>\n      <th>Gaze_Re_Entries_To_RoI_Count_Pre</th>\n      <td>0.015733</td>\n    </tr>\n    <tr>\n      <th>vis_angle_Min_Saccades_End_In_RoI_Pre</th>\n      <td>0.015319</td>\n    </tr>\n    <tr>\n      <th>Fixations_In_out_RoI_Ratio_Pre</th>\n      <td>0.014379</td>\n    </tr>\n    <tr>\n      <th>Duration_Fixations_First_In_RoI_Pre</th>\n      <td>0.013431</td>\n    </tr>\n    <tr>\n      <th>last_onset_Std_Saccades_End_In_RoI_Pre</th>\n      <td>0.013422</td>\n    </tr>\n    <tr>\n      <th>Duration_Max_Fixations_In_RoI_Pre</th>\n      <td>0.013256</td>\n    </tr>\n    <tr>\n      <th>vis_angle_Saccades_End_First_In_RoI_Pre</th>\n      <td>0.013246</td>\n    </tr>\n    <tr>\n      <th>Duration_Max_Saccades_End_In_RoI_Pre</th>\n      <td>0.012819</td>\n    </tr>\n    <tr>\n      <th>Gaze_In_out_RoI_Ratio_Pre</th>\n      <td>0.012068</td>\n    </tr>\n    <tr>\n      <th>Duration_Saccades_End_First_In_RoI_Pre</th>\n      <td>0.011845</td>\n    </tr>\n    <tr>\n      <th>onset_Fixations_First_In_RoI_Pre</th>\n      <td>0.011737</td>\n    </tr>\n    <tr>\n      <th>onset_Sem_Fixations_In_RoI_Pre</th>\n      <td>0.011204</td>\n    </tr>\n    <tr>\n      <th>Duration_Min_Fixations_In_RoI_Pre</th>\n      <td>0.010547</td>\n    </tr>\n    <tr>\n      <th>onset_AUC_Fixations_In_RoI_Pre</th>\n      <td>0.010466</td>\n    </tr>\n    <tr>\n      <th>Saccades_Start_In_out_RoI_Ratio_Pre</th>\n      <td>0.009718</td>\n    </tr>\n    <tr>\n      <th>Gaze_Counts_In_RoI_Pre</th>\n      <td>0.009294</td>\n    </tr>\n    <tr>\n      <th>Duration_Min_Saccades_End_In_RoI_Pre</th>\n      <td>0.009183</td>\n    </tr>\n    <tr>\n      <th>peak_velocity_Saccades_End_First_In_RoI_Pre</th>\n      <td>0.009136</td>\n    </tr>\n    <tr>\n      <th>last_onset_Mean_Saccades_End_In_RoI_Pre</th>\n      <td>0.008998</td>\n    </tr>\n    <tr>\n      <th>onset_Std_Fixations_In_RoI_Pre</th>\n      <td>0.008444</td>\n    </tr>\n    <tr>\n      <th>peak_velocity_Min_Saccades_End_In_RoI_Pre</th>\n      <td>0.007548</td>\n    </tr>\n    <tr>\n      <th>last_onset_Saccades_End_First_In_RoI_Pre</th>\n      <td>0.006373</td>\n    </tr>\n    <tr>\n      <th>onset_Max_Fixations_In_RoI_Pre</th>\n      <td>0.005481</td>\n    </tr>\n    <tr>\n      <th>last_onset_Max_Saccades_End_In_RoI_Pre</th>\n      <td>0.004801</td>\n    </tr>\n    <tr>\n      <th>Fixations_Counts_In_RoI_Pre</th>\n      <td>0.003518</td>\n    </tr>\n    <tr>\n      <th>Fixations_Re_Entries_To_RoI_Count_Pre</th>\n      <td>0.001664</td>\n    </tr>\n  </tbody>\n</table>\n</div>"
     },
     "execution_count": 48,
     "metadata": {},
     "output_type": "execute_result"
    }
   ],
   "source": [
    "feature_importances = pd.DataFrame(the_best_model_ever.feature_importances_,\n",
    "                                   index = X_train_preprocessed.columns,\n",
    "                                    columns=['importance']).sort_values('importance', ascending=False)\n",
    "feature_importances"
   ],
   "metadata": {
    "collapsed": false,
    "ExecuteTime": {
     "end_time": "2023-08-22T09:44:53.704817100Z",
     "start_time": "2023-08-22T09:44:53.664413500Z"
    }
   }
  },
  {
   "cell_type": "markdown",
   "source": [
    "\n"
   ],
   "metadata": {
    "collapsed": false
   }
  }
 ],
 "metadata": {
  "kernelspec": {
   "display_name": "Python 3",
   "language": "python",
   "name": "python3"
  },
  "language_info": {
   "codemirror_mode": {
    "name": "ipython",
    "version": 2
   },
   "file_extension": ".py",
   "mimetype": "text/x-python",
   "name": "python",
   "nbconvert_exporter": "python",
   "pygments_lexer": "ipython2",
   "version": "2.7.6"
  }
 },
 "nbformat": 4,
 "nbformat_minor": 0
}
